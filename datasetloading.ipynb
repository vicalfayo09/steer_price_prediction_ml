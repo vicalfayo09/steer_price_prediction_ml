{
  "cells": [
    {
      "cell_type": "markdown",
      "metadata": {
        "id": "view-in-github",
        "colab_type": "text"
      },
      "source": [
        "<a href=\"https://colab.research.google.com/github/vicalfayo09/steer_price_prediction_ml/blob/main/datasetloading.ipynb\" target=\"_parent\"><img src=\"https://colab.research.google.com/assets/colab-badge.svg\" alt=\"Open In Colab\"/></a>"
      ]
    },
    {
      "cell_type": "code",
      "execution_count": 84,
      "metadata": {
        "id": "_E9j-G29QzFc"
      },
      "outputs": [],
      "source": [
        "#from sklearn.linear_model import LinearRegression\n",
        "#import pandas as pd\n",
        "#import numpy as np\n",
        "#from google.colab import files\n",
        "\n",
        "#uploaded = files.upload()\n",
        "\n",
        "\n",
        "\n",
        "\n"
      ]
    },
    {
      "cell_type": "code",
      "execution_count": 85,
      "metadata": {
        "id": "nROR71RnYByG"
      },
      "outputs": [],
      "source": [
        "#import io\n",
        "#path = './home/alfayo/Downloads/weeklycattleprice_en.xlsx'\n",
        "# Reading the data from the CSV file\n",
        "#data = pd.read_excel(io.BytesIO(uploaded['weeklycattleprice_en.xlsx'])) \n"
      ]
    },
    {
      "cell_type": "code",
      "execution_count": 86,
      "metadata": {
        "id": "UF0urf4WYqTY"
      },
      "outputs": [],
      "source": [
        "#data.shape"
      ]
    },
    {
      "cell_type": "code",
      "execution_count": 87,
      "metadata": {
        "id": "gMLvfy3GaDaC"
      },
      "outputs": [],
      "source": [
        "#data.columns"
      ]
    },
    {
      "cell_type": "code",
      "execution_count": 88,
      "metadata": {
        "id": "zjoff9iGYlGc"
      },
      "outputs": [],
      "source": [
        "#X , y = data.values[ : , 0 ] , data.values[ : , 1 ]\n",
        "#X = np.expand_dims( X , axis=1 )\n",
        "\n",
        "# Fitting the linear regression model\n",
        "#regressor = LinearRegression()\n",
        "#regressor.fit( X , y )\n",
        "\n",
        "# Make predictions\n",
        "#print( f'Prediction for 8.5 hours is {regressor.predict([[8.5]])[0]}' )"
      ]
    },
    {
      "cell_type": "code",
      "execution_count": 89,
      "metadata": {
        "id": "K6F-kb64abjv"
      },
      "outputs": [],
      "source": [
        "#uploaded2 = files.upload()"
      ]
    },
    {
      "cell_type": "code",
      "execution_count": 90,
      "metadata": {
        "id": "kjXChmOzasDm"
      },
      "outputs": [],
      "source": [
        "#data2 = pd.read_csv(io.BytesIO(uploaded2['AJA01.20221011194750.csv']))"
      ]
    },
    {
      "cell_type": "code",
      "execution_count": 91,
      "metadata": {
        "id": "XBQDl1TKa7_E"
      },
      "outputs": [],
      "source": [
        "#data2"
      ]
    },
    {
      "cell_type": "code",
      "execution_count": 92,
      "metadata": {
        "id": "IPxTon2ufc_i"
      },
      "outputs": [],
      "source": [
        "#data2.head()"
      ]
    },
    {
      "cell_type": "code",
      "execution_count": 93,
      "metadata": {
        "id": "V-iBHpgRf-Dn"
      },
      "outputs": [],
      "source": [
        "#data2[data2['Type of Cattle'].str.contains('Bu')].count()"
      ]
    },
    {
      "cell_type": "code",
      "execution_count": 94,
      "metadata": {
        "id": "-edkkqJ0ib11"
      },
      "outputs": [],
      "source": [
        "#data2.count()"
      ]
    },
    {
      "cell_type": "code",
      "execution_count": 95,
      "metadata": {
        "id": "mnwssw9sm7mK"
      },
      "outputs": [],
      "source": [
        "#data2['Type of Cattle'] = data2['Type of Cattle'].str.extract( r'\\w(\\d+\\w)', expand=False ).split().astype(float)"
      ]
    },
    {
      "cell_type": "code",
      "execution_count": 96,
      "metadata": {
        "id": "OVARo0EDsUyQ"
      },
      "outputs": [],
      "source": [
        "#data2['Type of Cattle']"
      ]
    },
    {
      "cell_type": "code",
      "execution_count": 97,
      "metadata": {
        "id": "O3oyTJJV1dmr"
      },
      "outputs": [],
      "source": [
        "#import re\n",
        "#bullock = \"Bullocks 200-250kg\"\n",
        "#bullock_val_1 = re.findall('\\w.(\\d+[^A-Za-z]+\\d+\\w+)', bullock)"
      ]
    },
    {
      "cell_type": "code",
      "execution_count": 98,
      "metadata": {
        "id": "ypRtXWi6elJE"
      },
      "outputs": [],
      "source": [
        "#bullock_val_1"
      ]
    },
    {
      "cell_type": "code",
      "execution_count": 99,
      "metadata": {
        "id": "Lp01UPCB7GM0"
      },
      "outputs": [],
      "source": [
        "#df = pd.DataFrame(data2)"
      ]
    },
    {
      "cell_type": "code",
      "execution_count": 100,
      "metadata": {
        "id": "2Q5H8hp2Et_R"
      },
      "outputs": [],
      "source": [
        "#df"
      ]
    },
    {
      "cell_type": "code",
      "execution_count": 101,
      "metadata": {
        "id": "FDXFfChFGGVW"
      },
      "outputs": [],
      "source": [
        "#initial_columns = df.columns\n",
        "#initial_columns"
      ]
    },
    {
      "cell_type": "code",
      "execution_count": 102,
      "metadata": {
        "id": "XFkOZxjUHBgS"
      },
      "outputs": [],
      "source": [
        "#col_names = []\n",
        "#for old in df.columns:\n",
        "    #new = re.sub( r\"[,]\" ,'',old.strip()) \n",
        "    #new = re.sub( r\"[\\n\\s/]\" ,'_',new) \n",
        "    #col_names.append(new.lower()) \n",
        "#df.rename(columns=dict(zip(df.columns, col_names)), )"
      ]
    },
    {
      "cell_type": "code",
      "execution_count": 103,
      "metadata": {
        "id": "l9lElB6Z9OIh"
      },
      "outputs": [],
      "source": [
        "#for weight in df[\"Type of Cattle\"]:\n",
        "  #bullock_val_2 = re.findall('\\w.(\\d+[^A-Za-z]+\\d+\\w+)', weight)"
      ]
    },
    {
      "cell_type": "code",
      "execution_count": 104,
      "metadata": {
        "id": "Zy3hTvtl8hPU"
      },
      "outputs": [],
      "source": [
        "#df.insert(6, \"Weight\", bullock_val_2, True)"
      ]
    },
    {
      "cell_type": "markdown",
      "source": [
        "**MAIN CODE**"
      ],
      "metadata": {
        "id": "PlrnmSmEOhV3"
      }
    },
    {
      "cell_type": "code",
      "source": [
        "import matplotlib.pyplot as plt\n",
        "import pandas as pd\n",
        "import numpy as np\n",
        "import seaborn as sns\n",
        "from sklearn import preprocessing\n",
        "from sklearn.neighbors import KNeighborsRegressor\n",
        "from sklearn.model_selection import train_test_split"
      ],
      "metadata": {
        "id": "dgO3DudeMGjN"
      },
      "execution_count": 105,
      "outputs": []
    },
    {
      "cell_type": "code",
      "source": [
        "pd.set_option('display.max_columns', None)"
      ],
      "metadata": {
        "id": "G2l_JVIDMH5f"
      },
      "execution_count": 106,
      "outputs": []
    },
    {
      "cell_type": "code",
      "execution_count": 107,
      "metadata": {
        "id": "xaY133rN8LMM"
      },
      "outputs": [],
      "source": [
        "!pip install -U -q PyDrive\n",
        "from pydrive.auth import GoogleAuth\n",
        "from pydrive.drive import GoogleDrive\n",
        "from google.colab import auth\n",
        "from oauth2client.client import GoogleCredentials\n"
      ]
    },
    {
      "cell_type": "code",
      "execution_count": 108,
      "metadata": {
        "id": "7_1nPAsE8scf"
      },
      "outputs": [],
      "source": [
        "auth.authenticate_user()\n",
        "gauth = GoogleAuth()\n",
        "gauth.credentials = GoogleCredentials.get_application_default()\n",
        "drive = GoogleDrive(gauth)"
      ]
    },
    {
      "cell_type": "code",
      "execution_count": 109,
      "metadata": {
        "id": "UxJBtjId9FBE"
      },
      "outputs": [],
      "source": [
        "#https://drive.google.com/file/d/1yi6uL3islOb2a5XZEBmQlF1NnSRroMHT/view?usp=sharing\n",
        "fileDownloaded = drive.CreateFile({'id':'1yi6uL3islOb2a5XZEBmQlF1NnSRroMHT'})"
      ]
    },
    {
      "cell_type": "code",
      "execution_count": 110,
      "metadata": {
        "id": "6dCoJ5RE9oE6"
      },
      "outputs": [],
      "source": [
        "fileDownloaded.GetContentFile('AJA01.20221011194750.csv')"
      ]
    },
    {
      "cell_type": "code",
      "execution_count": 111,
      "metadata": {
        "colab": {
          "base_uri": "https://localhost:8080/",
          "height": 206
        },
        "id": "VZDTvOXY-ABx",
        "outputId": "6575af9f-7b45-4732-c636-cf8ab9ea41c9"
      },
      "outputs": [
        {
          "output_type": "execute_result",
          "data": {
            "text/plain": [
              "  STATISTIC CODE              Statistic  TLIST(A1)  Year C01782V02140  \\\n",
              "0        AJA01C1  Cattle Price per Head       1976  1976         B200   \n",
              "1        AJA01C1  Cattle Price per Head       1976  1976         B250   \n",
              "2        AJA01C1  Cattle Price per Head       1976  1976         B300   \n",
              "3        AJA01C1  Cattle Price per Head       1976  1976         B350   \n",
              "4        AJA01C1  Cattle Price per Head       1976  1976         B400   \n",
              "\n",
              "       Type of Cattle  UNIT   VALUE  \n",
              "0  Bullocks 200-249kg  Euro     NaN  \n",
              "1  Bullocks 250-299kg  Euro     NaN  \n",
              "2  Bullocks 300-349kg  Euro  238.29  \n",
              "3  Bullocks 350-399kg  Euro  270.47  \n",
              "4  Bullocks 400-449kg  Euro  302.43  "
            ],
            "text/html": [
              "\n",
              "  <div id=\"df-5a64ac56-1707-4d5f-b8c0-7e83a75d7331\">\n",
              "    <div class=\"colab-df-container\">\n",
              "      <div>\n",
              "<style scoped>\n",
              "    .dataframe tbody tr th:only-of-type {\n",
              "        vertical-align: middle;\n",
              "    }\n",
              "\n",
              "    .dataframe tbody tr th {\n",
              "        vertical-align: top;\n",
              "    }\n",
              "\n",
              "    .dataframe thead th {\n",
              "        text-align: right;\n",
              "    }\n",
              "</style>\n",
              "<table border=\"1\" class=\"dataframe\">\n",
              "  <thead>\n",
              "    <tr style=\"text-align: right;\">\n",
              "      <th></th>\n",
              "      <th>STATISTIC CODE</th>\n",
              "      <th>Statistic</th>\n",
              "      <th>TLIST(A1)</th>\n",
              "      <th>Year</th>\n",
              "      <th>C01782V02140</th>\n",
              "      <th>Type of Cattle</th>\n",
              "      <th>UNIT</th>\n",
              "      <th>VALUE</th>\n",
              "    </tr>\n",
              "  </thead>\n",
              "  <tbody>\n",
              "    <tr>\n",
              "      <th>0</th>\n",
              "      <td>AJA01C1</td>\n",
              "      <td>Cattle Price per Head</td>\n",
              "      <td>1976</td>\n",
              "      <td>1976</td>\n",
              "      <td>B200</td>\n",
              "      <td>Bullocks 200-249kg</td>\n",
              "      <td>Euro</td>\n",
              "      <td>NaN</td>\n",
              "    </tr>\n",
              "    <tr>\n",
              "      <th>1</th>\n",
              "      <td>AJA01C1</td>\n",
              "      <td>Cattle Price per Head</td>\n",
              "      <td>1976</td>\n",
              "      <td>1976</td>\n",
              "      <td>B250</td>\n",
              "      <td>Bullocks 250-299kg</td>\n",
              "      <td>Euro</td>\n",
              "      <td>NaN</td>\n",
              "    </tr>\n",
              "    <tr>\n",
              "      <th>2</th>\n",
              "      <td>AJA01C1</td>\n",
              "      <td>Cattle Price per Head</td>\n",
              "      <td>1976</td>\n",
              "      <td>1976</td>\n",
              "      <td>B300</td>\n",
              "      <td>Bullocks 300-349kg</td>\n",
              "      <td>Euro</td>\n",
              "      <td>238.29</td>\n",
              "    </tr>\n",
              "    <tr>\n",
              "      <th>3</th>\n",
              "      <td>AJA01C1</td>\n",
              "      <td>Cattle Price per Head</td>\n",
              "      <td>1976</td>\n",
              "      <td>1976</td>\n",
              "      <td>B350</td>\n",
              "      <td>Bullocks 350-399kg</td>\n",
              "      <td>Euro</td>\n",
              "      <td>270.47</td>\n",
              "    </tr>\n",
              "    <tr>\n",
              "      <th>4</th>\n",
              "      <td>AJA01C1</td>\n",
              "      <td>Cattle Price per Head</td>\n",
              "      <td>1976</td>\n",
              "      <td>1976</td>\n",
              "      <td>B400</td>\n",
              "      <td>Bullocks 400-449kg</td>\n",
              "      <td>Euro</td>\n",
              "      <td>302.43</td>\n",
              "    </tr>\n",
              "  </tbody>\n",
              "</table>\n",
              "</div>\n",
              "      <button class=\"colab-df-convert\" onclick=\"convertToInteractive('df-5a64ac56-1707-4d5f-b8c0-7e83a75d7331')\"\n",
              "              title=\"Convert this dataframe to an interactive table.\"\n",
              "              style=\"display:none;\">\n",
              "        \n",
              "  <svg xmlns=\"http://www.w3.org/2000/svg\" height=\"24px\"viewBox=\"0 0 24 24\"\n",
              "       width=\"24px\">\n",
              "    <path d=\"M0 0h24v24H0V0z\" fill=\"none\"/>\n",
              "    <path d=\"M18.56 5.44l.94 2.06.94-2.06 2.06-.94-2.06-.94-.94-2.06-.94 2.06-2.06.94zm-11 1L8.5 8.5l.94-2.06 2.06-.94-2.06-.94L8.5 2.5l-.94 2.06-2.06.94zm10 10l.94 2.06.94-2.06 2.06-.94-2.06-.94-.94-2.06-.94 2.06-2.06.94z\"/><path d=\"M17.41 7.96l-1.37-1.37c-.4-.4-.92-.59-1.43-.59-.52 0-1.04.2-1.43.59L10.3 9.45l-7.72 7.72c-.78.78-.78 2.05 0 2.83L4 21.41c.39.39.9.59 1.41.59.51 0 1.02-.2 1.41-.59l7.78-7.78 2.81-2.81c.8-.78.8-2.07 0-2.86zM5.41 20L4 18.59l7.72-7.72 1.47 1.35L5.41 20z\"/>\n",
              "  </svg>\n",
              "      </button>\n",
              "      \n",
              "  <style>\n",
              "    .colab-df-container {\n",
              "      display:flex;\n",
              "      flex-wrap:wrap;\n",
              "      gap: 12px;\n",
              "    }\n",
              "\n",
              "    .colab-df-convert {\n",
              "      background-color: #E8F0FE;\n",
              "      border: none;\n",
              "      border-radius: 50%;\n",
              "      cursor: pointer;\n",
              "      display: none;\n",
              "      fill: #1967D2;\n",
              "      height: 32px;\n",
              "      padding: 0 0 0 0;\n",
              "      width: 32px;\n",
              "    }\n",
              "\n",
              "    .colab-df-convert:hover {\n",
              "      background-color: #E2EBFA;\n",
              "      box-shadow: 0px 1px 2px rgba(60, 64, 67, 0.3), 0px 1px 3px 1px rgba(60, 64, 67, 0.15);\n",
              "      fill: #174EA6;\n",
              "    }\n",
              "\n",
              "    [theme=dark] .colab-df-convert {\n",
              "      background-color: #3B4455;\n",
              "      fill: #D2E3FC;\n",
              "    }\n",
              "\n",
              "    [theme=dark] .colab-df-convert:hover {\n",
              "      background-color: #434B5C;\n",
              "      box-shadow: 0px 1px 3px 1px rgba(0, 0, 0, 0.15);\n",
              "      filter: drop-shadow(0px 1px 2px rgba(0, 0, 0, 0.3));\n",
              "      fill: #FFFFFF;\n",
              "    }\n",
              "  </style>\n",
              "\n",
              "      <script>\n",
              "        const buttonEl =\n",
              "          document.querySelector('#df-5a64ac56-1707-4d5f-b8c0-7e83a75d7331 button.colab-df-convert');\n",
              "        buttonEl.style.display =\n",
              "          google.colab.kernel.accessAllowed ? 'block' : 'none';\n",
              "\n",
              "        async function convertToInteractive(key) {\n",
              "          const element = document.querySelector('#df-5a64ac56-1707-4d5f-b8c0-7e83a75d7331');\n",
              "          const dataTable =\n",
              "            await google.colab.kernel.invokeFunction('convertToInteractive',\n",
              "                                                     [key], {});\n",
              "          if (!dataTable) return;\n",
              "\n",
              "          const docLinkHtml = 'Like what you see? Visit the ' +\n",
              "            '<a target=\"_blank\" href=https://colab.research.google.com/notebooks/data_table.ipynb>data table notebook</a>'\n",
              "            + ' to learn more about interactive tables.';\n",
              "          element.innerHTML = '';\n",
              "          dataTable['output_type'] = 'display_data';\n",
              "          await google.colab.output.renderOutput(dataTable, element);\n",
              "          const docLink = document.createElement('div');\n",
              "          docLink.innerHTML = docLinkHtml;\n",
              "          element.appendChild(docLink);\n",
              "        }\n",
              "      </script>\n",
              "    </div>\n",
              "  </div>\n",
              "  "
            ]
          },
          "metadata": {},
          "execution_count": 111
        }
      ],
      "source": [
        "import pandas as pd\n",
        "df = pd.read_csv('AJA01.20221011194750.csv')\n",
        "\n",
        "df.head()"
      ]
    },
    {
      "cell_type": "code",
      "execution_count": 112,
      "metadata": {
        "colab": {
          "base_uri": "https://localhost:8080/",
          "height": 394
        },
        "id": "BPKY7JDq-VKI",
        "outputId": "9746b80d-81e4-4713-bb4c-13c6989ba160"
      },
      "outputs": [
        {
          "output_type": "execute_result",
          "data": {
            "text/plain": [
              "       STATISTIC CODE              Statistic    TLIST(A1)         Year  \\\n",
              "count            1288                   1288  1288.000000  1288.000000   \n",
              "unique              2                      2          NaN          NaN   \n",
              "top           AJA01C1  Cattle Price per Head          NaN          NaN   \n",
              "freq              644                    644          NaN          NaN   \n",
              "mean              NaN                    NaN  1998.500000  1998.500000   \n",
              "std               NaN                    NaN    13.281075    13.281075   \n",
              "min               NaN                    NaN  1976.000000  1976.000000   \n",
              "25%               NaN                    NaN  1987.000000  1987.000000   \n",
              "50%               NaN                    NaN  1998.500000  1998.500000   \n",
              "75%               NaN                    NaN  2010.000000  2010.000000   \n",
              "max               NaN                    NaN  2021.000000  2021.000000   \n",
              "\n",
              "       C01782V02140      Type of Cattle  UNIT        VALUE  \n",
              "count          1288                1288  1288  1207.000000  \n",
              "unique           14                  14     1          NaN  \n",
              "top            B200  Bullocks 200-249kg  Euro          NaN  \n",
              "freq             92                  92  1288          NaN  \n",
              "mean            NaN                 NaN   NaN   369.926001  \n",
              "std             NaN                 NaN   NaN   258.764418  \n",
              "min             NaN                 NaN   NaN    46.240000  \n",
              "25%             NaN                 NaN   NaN   154.950000  \n",
              "50%             NaN                 NaN   NaN   228.073462  \n",
              "75%             NaN                 NaN   NaN   560.516376  \n",
              "max             NaN                 NaN   NaN  1175.876638  "
            ],
            "text/html": [
              "\n",
              "  <div id=\"df-bd991379-adcb-4a37-aa3c-b73d447cb4cd\">\n",
              "    <div class=\"colab-df-container\">\n",
              "      <div>\n",
              "<style scoped>\n",
              "    .dataframe tbody tr th:only-of-type {\n",
              "        vertical-align: middle;\n",
              "    }\n",
              "\n",
              "    .dataframe tbody tr th {\n",
              "        vertical-align: top;\n",
              "    }\n",
              "\n",
              "    .dataframe thead th {\n",
              "        text-align: right;\n",
              "    }\n",
              "</style>\n",
              "<table border=\"1\" class=\"dataframe\">\n",
              "  <thead>\n",
              "    <tr style=\"text-align: right;\">\n",
              "      <th></th>\n",
              "      <th>STATISTIC CODE</th>\n",
              "      <th>Statistic</th>\n",
              "      <th>TLIST(A1)</th>\n",
              "      <th>Year</th>\n",
              "      <th>C01782V02140</th>\n",
              "      <th>Type of Cattle</th>\n",
              "      <th>UNIT</th>\n",
              "      <th>VALUE</th>\n",
              "    </tr>\n",
              "  </thead>\n",
              "  <tbody>\n",
              "    <tr>\n",
              "      <th>count</th>\n",
              "      <td>1288</td>\n",
              "      <td>1288</td>\n",
              "      <td>1288.000000</td>\n",
              "      <td>1288.000000</td>\n",
              "      <td>1288</td>\n",
              "      <td>1288</td>\n",
              "      <td>1288</td>\n",
              "      <td>1207.000000</td>\n",
              "    </tr>\n",
              "    <tr>\n",
              "      <th>unique</th>\n",
              "      <td>2</td>\n",
              "      <td>2</td>\n",
              "      <td>NaN</td>\n",
              "      <td>NaN</td>\n",
              "      <td>14</td>\n",
              "      <td>14</td>\n",
              "      <td>1</td>\n",
              "      <td>NaN</td>\n",
              "    </tr>\n",
              "    <tr>\n",
              "      <th>top</th>\n",
              "      <td>AJA01C1</td>\n",
              "      <td>Cattle Price per Head</td>\n",
              "      <td>NaN</td>\n",
              "      <td>NaN</td>\n",
              "      <td>B200</td>\n",
              "      <td>Bullocks 200-249kg</td>\n",
              "      <td>Euro</td>\n",
              "      <td>NaN</td>\n",
              "    </tr>\n",
              "    <tr>\n",
              "      <th>freq</th>\n",
              "      <td>644</td>\n",
              "      <td>644</td>\n",
              "      <td>NaN</td>\n",
              "      <td>NaN</td>\n",
              "      <td>92</td>\n",
              "      <td>92</td>\n",
              "      <td>1288</td>\n",
              "      <td>NaN</td>\n",
              "    </tr>\n",
              "    <tr>\n",
              "      <th>mean</th>\n",
              "      <td>NaN</td>\n",
              "      <td>NaN</td>\n",
              "      <td>1998.500000</td>\n",
              "      <td>1998.500000</td>\n",
              "      <td>NaN</td>\n",
              "      <td>NaN</td>\n",
              "      <td>NaN</td>\n",
              "      <td>369.926001</td>\n",
              "    </tr>\n",
              "    <tr>\n",
              "      <th>std</th>\n",
              "      <td>NaN</td>\n",
              "      <td>NaN</td>\n",
              "      <td>13.281075</td>\n",
              "      <td>13.281075</td>\n",
              "      <td>NaN</td>\n",
              "      <td>NaN</td>\n",
              "      <td>NaN</td>\n",
              "      <td>258.764418</td>\n",
              "    </tr>\n",
              "    <tr>\n",
              "      <th>min</th>\n",
              "      <td>NaN</td>\n",
              "      <td>NaN</td>\n",
              "      <td>1976.000000</td>\n",
              "      <td>1976.000000</td>\n",
              "      <td>NaN</td>\n",
              "      <td>NaN</td>\n",
              "      <td>NaN</td>\n",
              "      <td>46.240000</td>\n",
              "    </tr>\n",
              "    <tr>\n",
              "      <th>25%</th>\n",
              "      <td>NaN</td>\n",
              "      <td>NaN</td>\n",
              "      <td>1987.000000</td>\n",
              "      <td>1987.000000</td>\n",
              "      <td>NaN</td>\n",
              "      <td>NaN</td>\n",
              "      <td>NaN</td>\n",
              "      <td>154.950000</td>\n",
              "    </tr>\n",
              "    <tr>\n",
              "      <th>50%</th>\n",
              "      <td>NaN</td>\n",
              "      <td>NaN</td>\n",
              "      <td>1998.500000</td>\n",
              "      <td>1998.500000</td>\n",
              "      <td>NaN</td>\n",
              "      <td>NaN</td>\n",
              "      <td>NaN</td>\n",
              "      <td>228.073462</td>\n",
              "    </tr>\n",
              "    <tr>\n",
              "      <th>75%</th>\n",
              "      <td>NaN</td>\n",
              "      <td>NaN</td>\n",
              "      <td>2010.000000</td>\n",
              "      <td>2010.000000</td>\n",
              "      <td>NaN</td>\n",
              "      <td>NaN</td>\n",
              "      <td>NaN</td>\n",
              "      <td>560.516376</td>\n",
              "    </tr>\n",
              "    <tr>\n",
              "      <th>max</th>\n",
              "      <td>NaN</td>\n",
              "      <td>NaN</td>\n",
              "      <td>2021.000000</td>\n",
              "      <td>2021.000000</td>\n",
              "      <td>NaN</td>\n",
              "      <td>NaN</td>\n",
              "      <td>NaN</td>\n",
              "      <td>1175.876638</td>\n",
              "    </tr>\n",
              "  </tbody>\n",
              "</table>\n",
              "</div>\n",
              "      <button class=\"colab-df-convert\" onclick=\"convertToInteractive('df-bd991379-adcb-4a37-aa3c-b73d447cb4cd')\"\n",
              "              title=\"Convert this dataframe to an interactive table.\"\n",
              "              style=\"display:none;\">\n",
              "        \n",
              "  <svg xmlns=\"http://www.w3.org/2000/svg\" height=\"24px\"viewBox=\"0 0 24 24\"\n",
              "       width=\"24px\">\n",
              "    <path d=\"M0 0h24v24H0V0z\" fill=\"none\"/>\n",
              "    <path d=\"M18.56 5.44l.94 2.06.94-2.06 2.06-.94-2.06-.94-.94-2.06-.94 2.06-2.06.94zm-11 1L8.5 8.5l.94-2.06 2.06-.94-2.06-.94L8.5 2.5l-.94 2.06-2.06.94zm10 10l.94 2.06.94-2.06 2.06-.94-2.06-.94-.94-2.06-.94 2.06-2.06.94z\"/><path d=\"M17.41 7.96l-1.37-1.37c-.4-.4-.92-.59-1.43-.59-.52 0-1.04.2-1.43.59L10.3 9.45l-7.72 7.72c-.78.78-.78 2.05 0 2.83L4 21.41c.39.39.9.59 1.41.59.51 0 1.02-.2 1.41-.59l7.78-7.78 2.81-2.81c.8-.78.8-2.07 0-2.86zM5.41 20L4 18.59l7.72-7.72 1.47 1.35L5.41 20z\"/>\n",
              "  </svg>\n",
              "      </button>\n",
              "      \n",
              "  <style>\n",
              "    .colab-df-container {\n",
              "      display:flex;\n",
              "      flex-wrap:wrap;\n",
              "      gap: 12px;\n",
              "    }\n",
              "\n",
              "    .colab-df-convert {\n",
              "      background-color: #E8F0FE;\n",
              "      border: none;\n",
              "      border-radius: 50%;\n",
              "      cursor: pointer;\n",
              "      display: none;\n",
              "      fill: #1967D2;\n",
              "      height: 32px;\n",
              "      padding: 0 0 0 0;\n",
              "      width: 32px;\n",
              "    }\n",
              "\n",
              "    .colab-df-convert:hover {\n",
              "      background-color: #E2EBFA;\n",
              "      box-shadow: 0px 1px 2px rgba(60, 64, 67, 0.3), 0px 1px 3px 1px rgba(60, 64, 67, 0.15);\n",
              "      fill: #174EA6;\n",
              "    }\n",
              "\n",
              "    [theme=dark] .colab-df-convert {\n",
              "      background-color: #3B4455;\n",
              "      fill: #D2E3FC;\n",
              "    }\n",
              "\n",
              "    [theme=dark] .colab-df-convert:hover {\n",
              "      background-color: #434B5C;\n",
              "      box-shadow: 0px 1px 3px 1px rgba(0, 0, 0, 0.15);\n",
              "      filter: drop-shadow(0px 1px 2px rgba(0, 0, 0, 0.3));\n",
              "      fill: #FFFFFF;\n",
              "    }\n",
              "  </style>\n",
              "\n",
              "      <script>\n",
              "        const buttonEl =\n",
              "          document.querySelector('#df-bd991379-adcb-4a37-aa3c-b73d447cb4cd button.colab-df-convert');\n",
              "        buttonEl.style.display =\n",
              "          google.colab.kernel.accessAllowed ? 'block' : 'none';\n",
              "\n",
              "        async function convertToInteractive(key) {\n",
              "          const element = document.querySelector('#df-bd991379-adcb-4a37-aa3c-b73d447cb4cd');\n",
              "          const dataTable =\n",
              "            await google.colab.kernel.invokeFunction('convertToInteractive',\n",
              "                                                     [key], {});\n",
              "          if (!dataTable) return;\n",
              "\n",
              "          const docLinkHtml = 'Like what you see? Visit the ' +\n",
              "            '<a target=\"_blank\" href=https://colab.research.google.com/notebooks/data_table.ipynb>data table notebook</a>'\n",
              "            + ' to learn more about interactive tables.';\n",
              "          element.innerHTML = '';\n",
              "          dataTable['output_type'] = 'display_data';\n",
              "          await google.colab.output.renderOutput(dataTable, element);\n",
              "          const docLink = document.createElement('div');\n",
              "          docLink.innerHTML = docLinkHtml;\n",
              "          element.appendChild(docLink);\n",
              "        }\n",
              "      </script>\n",
              "    </div>\n",
              "  </div>\n",
              "  "
            ]
          },
          "metadata": {},
          "execution_count": 112
        }
      ],
      "source": [
        "df.describe(include=\"all\")"
      ]
    },
    {
      "cell_type": "code",
      "execution_count": 113,
      "metadata": {
        "colab": {
          "base_uri": "https://localhost:8080/"
        },
        "id": "aZIE390dW6Y5",
        "outputId": "df453a8e-726b-4a28-b7c3-2effb4fd7d2d"
      },
      "outputs": [
        {
          "output_type": "execute_result",
          "data": {
            "text/plain": [
              "STATISTIC CODE     0\n",
              "Statistic          0\n",
              "TLIST(A1)          0\n",
              "Year               0\n",
              "C01782V02140       0\n",
              "Type of Cattle     0\n",
              "UNIT               0\n",
              "VALUE             81\n",
              "dtype: int64"
            ]
          },
          "metadata": {},
          "execution_count": 113
        }
      ],
      "source": [
        "df.isna().sum()"
      ]
    },
    {
      "cell_type": "code",
      "execution_count": 114,
      "metadata": {
        "id": "mLZA-2D5XBXc"
      },
      "outputs": [],
      "source": [
        "import seaborn as sns\n",
        "sns.set()\n",
        "import matplotlib.pyplot as plt"
      ]
    },
    {
      "cell_type": "code",
      "execution_count": 115,
      "metadata": {
        "colab": {
          "base_uri": "https://localhost:8080/",
          "height": 357
        },
        "id": "TL3iVSgxXOcn",
        "outputId": "d0d4d79f-cc7a-48c8-b117-7588bc68a3ce"
      },
      "outputs": [
        {
          "output_type": "stream",
          "name": "stderr",
          "text": [
            "/usr/local/lib/python3.7/dist-packages/seaborn/distributions.py:2619: FutureWarning: `distplot` is a deprecated function and will be removed in a future version. Please adapt your code to use either `displot` (a figure-level function with similar flexibility) or `histplot` (an axes-level function for histograms).\n",
            "  warnings.warn(msg, FutureWarning)\n"
          ]
        },
        {
          "output_type": "execute_result",
          "data": {
            "text/plain": [
              "<matplotlib.axes._subplots.AxesSubplot at 0x7fe726d7ba90>"
            ]
          },
          "metadata": {},
          "execution_count": 115
        },
        {
          "output_type": "display_data",
          "data": {
            "text/plain": [
              "<Figure size 432x288 with 1 Axes>"
            ],
            "image/png": "[encoded data removed]"
          },
          "metadata": {}
        }
      ],
      "source": [
        "sns.distplot(df['VALUE'])"
      ]
    },
    {
      "cell_type": "code",
      "execution_count": 116,
      "metadata": {
        "id": "fLCdjbjFqNk8"
      },
      "outputs": [],
      "source": [
        "new = df['Type of Cattle'].str.split(\" \", n = 1, expand=True)"
      ]
    },
    {
      "cell_type": "code",
      "execution_count": 117,
      "metadata": {
        "id": "6hkhA4g7qaXW"
      },
      "outputs": [],
      "source": [
        "df['Type of Cattle'] = new[0]\n",
        "df.insert(6, \"Weight\", new[1])"
      ]
    },
    {
      "cell_type": "code",
      "execution_count": 118,
      "metadata": {
        "colab": {
          "base_uri": "https://localhost:8080/",
          "height": 424
        },
        "id": "isA2NaDVqmdW",
        "outputId": "666ffa51-7f1f-41a8-8bbc-6a9a99541e3b"
      },
      "outputs": [
        {
          "output_type": "execute_result",
          "data": {
            "text/plain": [
              "     STATISTIC CODE                Statistic  TLIST(A1)  Year C01782V02140  \\\n",
              "0           AJA01C1    Cattle Price per Head       1976  1976         B200   \n",
              "1           AJA01C1    Cattle Price per Head       1976  1976         B250   \n",
              "2           AJA01C1    Cattle Price per Head       1976  1976         B300   \n",
              "3           AJA01C1    Cattle Price per Head       1976  1976         B350   \n",
              "4           AJA01C1    Cattle Price per Head       1976  1976         B400   \n",
              "...             ...                      ...        ...   ...          ...   \n",
              "1283        AJA01C2  Cattle Price per 100 Kg       2021  2021         H250   \n",
              "1284        AJA01C2  Cattle Price per 100 Kg       2021  2021         H300   \n",
              "1285        AJA01C2  Cattle Price per 100 Kg       2021  2021         H350   \n",
              "1286        AJA01C2  Cattle Price per 100 Kg       2021  2021         H400   \n",
              "1287        AJA01C2  Cattle Price per 100 Kg       2021  2021         SCOW   \n",
              "\n",
              "     Type of Cattle         Weight  UNIT       VALUE  \n",
              "0          Bullocks      200-249kg  Euro         NaN  \n",
              "1          Bullocks      250-299kg  Euro         NaN  \n",
              "2          Bullocks      300-349kg  Euro  238.290000  \n",
              "3          Bullocks      350-399kg  Euro  270.470000  \n",
              "4          Bullocks      400-449kg  Euro  302.430000  \n",
              "...             ...            ...   ...         ...  \n",
              "1283        Heifers      250-299kg  Euro  216.991177  \n",
              "1284        Heifers      300-349kg  Euro  215.245632  \n",
              "1285        Heifers      350-399kg  Euro  216.965995  \n",
              "1286        Heifers      400-449kg  Euro  216.796269  \n",
              "1287           Cows  for slaughter  Euro         NaN  \n",
              "\n",
              "[1288 rows x 9 columns]"
            ],
            "text/html": [
              "\n",
              "  <div id=\"df-cb4d04fe-3bfc-491d-a3ea-910c97f92c7c\">\n",
              "    <div class=\"colab-df-container\">\n",
              "      <div>\n",
              "<style scoped>\n",
              "    .dataframe tbody tr th:only-of-type {\n",
              "        vertical-align: middle;\n",
              "    }\n",
              "\n",
              "    .dataframe tbody tr th {\n",
              "        vertical-align: top;\n",
              "    }\n",
              "\n",
              "    .dataframe thead th {\n",
              "        text-align: right;\n",
              "    }\n",
              "</style>\n",
              "<table border=\"1\" class=\"dataframe\">\n",
              "  <thead>\n",
              "    <tr style=\"text-align: right;\">\n",
              "      <th></th>\n",
              "      <th>STATISTIC CODE</th>\n",
              "      <th>Statistic</th>\n",
              "      <th>TLIST(A1)</th>\n",
              "      <th>Year</th>\n",
              "      <th>C01782V02140</th>\n",
              "      <th>Type of Cattle</th>\n",
              "      <th>Weight</th>\n",
              "      <th>UNIT</th>\n",
              "      <th>VALUE</th>\n",
              "    </tr>\n",
              "  </thead>\n",
              "  <tbody>\n",
              "    <tr>\n",
              "      <th>0</th>\n",
              "      <td>AJA01C1</td>\n",
              "      <td>Cattle Price per Head</td>\n",
              "      <td>1976</td>\n",
              "      <td>1976</td>\n",
              "      <td>B200</td>\n",
              "      <td>Bullocks</td>\n",
              "      <td>200-249kg</td>\n",
              "      <td>Euro</td>\n",
              "      <td>NaN</td>\n",
              "    </tr>\n",
              "    <tr>\n",
              "      <th>1</th>\n",
              "      <td>AJA01C1</td>\n",
              "      <td>Cattle Price per Head</td>\n",
              "      <td>1976</td>\n",
              "      <td>1976</td>\n",
              "      <td>B250</td>\n",
              "      <td>Bullocks</td>\n",
              "      <td>250-299kg</td>\n",
              "      <td>Euro</td>\n",
              "      <td>NaN</td>\n",
              "    </tr>\n",
              "    <tr>\n",
              "      <th>2</th>\n",
              "      <td>AJA01C1</td>\n",
              "      <td>Cattle Price per Head</td>\n",
              "      <td>1976</td>\n",
              "      <td>1976</td>\n",
              "      <td>B300</td>\n",
              "      <td>Bullocks</td>\n",
              "      <td>300-349kg</td>\n",
              "      <td>Euro</td>\n",
              "      <td>238.290000</td>\n",
              "    </tr>\n",
              "    <tr>\n",
              "      <th>3</th>\n",
              "      <td>AJA01C1</td>\n",
              "      <td>Cattle Price per Head</td>\n",
              "      <td>1976</td>\n",
              "      <td>1976</td>\n",
              "      <td>B350</td>\n",
              "      <td>Bullocks</td>\n",
              "      <td>350-399kg</td>\n",
              "      <td>Euro</td>\n",
              "      <td>270.470000</td>\n",
              "    </tr>\n",
              "    <tr>\n",
              "      <th>4</th>\n",
              "      <td>AJA01C1</td>\n",
              "      <td>Cattle Price per Head</td>\n",
              "      <td>1976</td>\n",
              "      <td>1976</td>\n",
              "      <td>B400</td>\n",
              "      <td>Bullocks</td>\n",
              "      <td>400-449kg</td>\n",
              "      <td>Euro</td>\n",
              "      <td>302.430000</td>\n",
              "    </tr>\n",
              "    <tr>\n",
              "      <th>...</th>\n",
              "      <td>...</td>\n",
              "      <td>...</td>\n",
              "      <td>...</td>\n",
              "      <td>...</td>\n",
              "      <td>...</td>\n",
              "      <td>...</td>\n",
              "      <td>...</td>\n",
              "      <td>...</td>\n",
              "      <td>...</td>\n",
              "    </tr>\n",
              "    <tr>\n",
              "      <th>1283</th>\n",
              "      <td>AJA01C2</td>\n",
              "      <td>Cattle Price per 100 Kg</td>\n",
              "      <td>2021</td>\n",
              "      <td>2021</td>\n",
              "      <td>H250</td>\n",
              "      <td>Heifers</td>\n",
              "      <td>250-299kg</td>\n",
              "      <td>Euro</td>\n",
              "      <td>216.991177</td>\n",
              "    </tr>\n",
              "    <tr>\n",
              "      <th>1284</th>\n",
              "      <td>AJA01C2</td>\n",
              "      <td>Cattle Price per 100 Kg</td>\n",
              "      <td>2021</td>\n",
              "      <td>2021</td>\n",
              "      <td>H300</td>\n",
              "      <td>Heifers</td>\n",
              "      <td>300-349kg</td>\n",
              "      <td>Euro</td>\n",
              "      <td>215.245632</td>\n",
              "    </tr>\n",
              "    <tr>\n",
              "      <th>1285</th>\n",
              "      <td>AJA01C2</td>\n",
              "      <td>Cattle Price per 100 Kg</td>\n",
              "      <td>2021</td>\n",
              "      <td>2021</td>\n",
              "      <td>H350</td>\n",
              "      <td>Heifers</td>\n",
              "      <td>350-399kg</td>\n",
              "      <td>Euro</td>\n",
              "      <td>216.965995</td>\n",
              "    </tr>\n",
              "    <tr>\n",
              "      <th>1286</th>\n",
              "      <td>AJA01C2</td>\n",
              "      <td>Cattle Price per 100 Kg</td>\n",
              "      <td>2021</td>\n",
              "      <td>2021</td>\n",
              "      <td>H400</td>\n",
              "      <td>Heifers</td>\n",
              "      <td>400-449kg</td>\n",
              "      <td>Euro</td>\n",
              "      <td>216.796269</td>\n",
              "    </tr>\n",
              "    <tr>\n",
              "      <th>1287</th>\n",
              "      <td>AJA01C2</td>\n",
              "      <td>Cattle Price per 100 Kg</td>\n",
              "      <td>2021</td>\n",
              "      <td>2021</td>\n",
              "      <td>SCOW</td>\n",
              "      <td>Cows</td>\n",
              "      <td>for slaughter</td>\n",
              "      <td>Euro</td>\n",
              "      <td>NaN</td>\n",
              "    </tr>\n",
              "  </tbody>\n",
              "</table>\n",
              "<p>1288 rows × 9 columns</p>\n",
              "</div>\n",
              "      <button class=\"colab-df-convert\" onclick=\"convertToInteractive('df-cb4d04fe-3bfc-491d-a3ea-910c97f92c7c')\"\n",
              "              title=\"Convert this dataframe to an interactive table.\"\n",
              "              style=\"display:none;\">\n",
              "        \n",
              "  <svg xmlns=\"http://www.w3.org/2000/svg\" height=\"24px\"viewBox=\"0 0 24 24\"\n",
              "       width=\"24px\">\n",
              "    <path d=\"M0 0h24v24H0V0z\" fill=\"none\"/>\n",
              "    <path d=\"M18.56 5.44l.94 2.06.94-2.06 2.06-.94-2.06-.94-.94-2.06-.94 2.06-2.06.94zm-11 1L8.5 8.5l.94-2.06 2.06-.94-2.06-.94L8.5 2.5l-.94 2.06-2.06.94zm10 10l.94 2.06.94-2.06 2.06-.94-2.06-.94-.94-2.06-.94 2.06-2.06.94z\"/><path d=\"M17.41 7.96l-1.37-1.37c-.4-.4-.92-.59-1.43-.59-.52 0-1.04.2-1.43.59L10.3 9.45l-7.72 7.72c-.78.78-.78 2.05 0 2.83L4 21.41c.39.39.9.59 1.41.59.51 0 1.02-.2 1.41-.59l7.78-7.78 2.81-2.81c.8-.78.8-2.07 0-2.86zM5.41 20L4 18.59l7.72-7.72 1.47 1.35L5.41 20z\"/>\n",
              "  </svg>\n",
              "      </button>\n",
              "      \n",
              "  <style>\n",
              "    .colab-df-container {\n",
              "      display:flex;\n",
              "      flex-wrap:wrap;\n",
              "      gap: 12px;\n",
              "    }\n",
              "\n",
              "    .colab-df-convert {\n",
              "      background-color: #E8F0FE;\n",
              "      border: none;\n",
              "      border-radius: 50%;\n",
              "      cursor: pointer;\n",
              "      display: none;\n",
              "      fill: #1967D2;\n",
              "      height: 32px;\n",
              "      padding: 0 0 0 0;\n",
              "      width: 32px;\n",
              "    }\n",
              "\n",
              "    .colab-df-convert:hover {\n",
              "      background-color: #E2EBFA;\n",
              "      box-shadow: 0px 1px 2px rgba(60, 64, 67, 0.3), 0px 1px 3px 1px rgba(60, 64, 67, 0.15);\n",
              "      fill: #174EA6;\n",
              "    }\n",
              "\n",
              "    [theme=dark] .colab-df-convert {\n",
              "      background-color: #3B4455;\n",
              "      fill: #D2E3FC;\n",
              "    }\n",
              "\n",
              "    [theme=dark] .colab-df-convert:hover {\n",
              "      background-color: #434B5C;\n",
              "      box-shadow: 0px 1px 3px 1px rgba(0, 0, 0, 0.15);\n",
              "      filter: drop-shadow(0px 1px 2px rgba(0, 0, 0, 0.3));\n",
              "      fill: #FFFFFF;\n",
              "    }\n",
              "  </style>\n",
              "\n",
              "      <script>\n",
              "        const buttonEl =\n",
              "          document.querySelector('#df-cb4d04fe-3bfc-491d-a3ea-910c97f92c7c button.colab-df-convert');\n",
              "        buttonEl.style.display =\n",
              "          google.colab.kernel.accessAllowed ? 'block' : 'none';\n",
              "\n",
              "        async function convertToInteractive(key) {\n",
              "          const element = document.querySelector('#df-cb4d04fe-3bfc-491d-a3ea-910c97f92c7c');\n",
              "          const dataTable =\n",
              "            await google.colab.kernel.invokeFunction('convertToInteractive',\n",
              "                                                     [key], {});\n",
              "          if (!dataTable) return;\n",
              "\n",
              "          const docLinkHtml = 'Like what you see? Visit the ' +\n",
              "            '<a target=\"_blank\" href=https://colab.research.google.com/notebooks/data_table.ipynb>data table notebook</a>'\n",
              "            + ' to learn more about interactive tables.';\n",
              "          element.innerHTML = '';\n",
              "          dataTable['output_type'] = 'display_data';\n",
              "          await google.colab.output.renderOutput(dataTable, element);\n",
              "          const docLink = document.createElement('div');\n",
              "          docLink.innerHTML = docLinkHtml;\n",
              "          element.appendChild(docLink);\n",
              "        }\n",
              "      </script>\n",
              "    </div>\n",
              "  </div>\n",
              "  "
            ]
          },
          "metadata": {},
          "execution_count": 118
        }
      ],
      "source": [
        "df"
      ]
    },
    {
      "cell_type": "code",
      "execution_count": 119,
      "metadata": {
        "id": "yX5B7wt9rf_V"
      },
      "outputs": [],
      "source": [
        "from sklearn.impute import SimpleImputer\n",
        "import pandas as pd\n",
        "import numpy as np\n",
        "\n",
        "x = df['Weight']\n",
        "y = df['VALUE']\n",
        "newprice = df.iloc[:, 8].values\n"
      ]
    },
    {
      "cell_type": "code",
      "execution_count": 120,
      "metadata": {
        "colab": {
          "base_uri": "https://localhost:8080/"
        },
        "id": "ogCA4Zwz0_xW",
        "outputId": "301bcc8f-6547-457a-e28d-f23c371a3b08"
      },
      "outputs": [
        {
          "output_type": "execute_result",
          "data": {
            "text/plain": [
              "array([[         nan],\n",
              "       [         nan],\n",
              "       [238.29      ],\n",
              "       ...,\n",
              "       [216.96599474],\n",
              "       [216.79626892],\n",
              "       [         nan]])"
            ]
          },
          "metadata": {},
          "execution_count": 120
        }
      ],
      "source": [
        "price = newprice.reshape(-1, 1)\n",
        "price"
      ]
    },
    {
      "cell_type": "code",
      "execution_count": 121,
      "metadata": {
        "colab": {
          "base_uri": "https://localhost:8080/"
        },
        "id": "t4dfTuBZ0qXv",
        "outputId": "a67e067e-cda8-4622-c61d-e18b1f7816d5"
      },
      "outputs": [
        {
          "output_type": "stream",
          "name": "stdout",
          "text": [
            "[[228.07346206]\n",
            " [228.07346206]\n",
            " [238.29      ]\n",
            " ...\n",
            " [216.96599474]\n",
            " [216.79626892]\n",
            " [228.07346206]]\n"
          ]
        }
      ],
      "source": [
        "#To calculate the median use imputer class\n",
        "imputer = SimpleImputer(missing_values=np.nan, strategy=\"median\")\n",
        "imputer = imputer.fit(price)\n",
        "y = imputer.transform(price)\n",
        "print(y)"
      ]
    },
    {
      "cell_type": "code",
      "execution_count": 122,
      "metadata": {
        "id": "P8cze5xc1tin"
      },
      "outputs": [],
      "source": [
        "df['VALUE'] = y"
      ]
    },
    {
      "cell_type": "code",
      "execution_count": 123,
      "metadata": {
        "colab": {
          "base_uri": "https://localhost:8080/"
        },
        "id": "q8wxr-mb2M6S",
        "outputId": "04ebc1ea-2085-4f5d-e496-0a5e16c125e5"
      },
      "outputs": [
        {
          "output_type": "execute_result",
          "data": {
            "text/plain": [
              "STATISTIC CODE    0\n",
              "Statistic         0\n",
              "TLIST(A1)         0\n",
              "Year              0\n",
              "C01782V02140      0\n",
              "Type of Cattle    0\n",
              "Weight            0\n",
              "UNIT              0\n",
              "VALUE             0\n",
              "dtype: int64"
            ]
          },
          "metadata": {},
          "execution_count": 123
        }
      ],
      "source": [
        "df.isna().sum()"
      ]
    },
    {
      "cell_type": "code",
      "execution_count": 124,
      "metadata": {
        "id": "FdpN2DCg3wUI"
      },
      "outputs": [],
      "source": [
        "df['Type of Cattle'] = df['Type of Cattle'].replace(\"Cows\", \"Bullocks\")\n",
        "df['Weight'] = df['Weight'].replace(\"for slaughter\", \"550\")"
      ]
    },
    {
      "cell_type": "code",
      "execution_count": 125,
      "metadata": {
        "id": "Rlnhus5y72BX"
      },
      "outputs": [],
      "source": [
        "df.rename(columns = {'Weight': 'Weight in kg'}, inplace=True)"
      ]
    },
    {
      "cell_type": "code",
      "execution_count": 126,
      "metadata": {
        "id": "_PHkijDd-OlR",
        "colab": {
          "base_uri": "https://localhost:8080/"
        },
        "outputId": "4526b9e2-5c16-428d-bee6-b2e4473ff643"
      },
      "outputs": [
        {
          "output_type": "execute_result",
          "data": {
            "text/plain": [
              "STATISTIC CODE     object\n",
              "Statistic          object\n",
              "TLIST(A1)           int64\n",
              "Year                int64\n",
              "C01782V02140       object\n",
              "Type of Cattle     object\n",
              "Weight in kg       object\n",
              "UNIT               object\n",
              "VALUE             float64\n",
              "dtype: object"
            ]
          },
          "metadata": {},
          "execution_count": 126
        }
      ],
      "source": [
        "df['Weight in kg']\n",
        "type(df['Weight in kg'])\n",
        "df.dtypes"
      ]
    },
    {
      "cell_type": "code",
      "execution_count": 127,
      "metadata": {
        "colab": {
          "base_uri": "https://localhost:8080/"
        },
        "id": "usf0moPWBC5v",
        "outputId": "b3968f71-80e8-471b-f36d-c28eaaf674a4"
      },
      "outputs": [
        {
          "output_type": "stream",
          "name": "stderr",
          "text": [
            "/usr/local/lib/python3.7/dist-packages/ipykernel_launcher.py:1: FutureWarning: The default value of regex will change from True to False in a future version.\n",
            "  \"\"\"Entry point for launching an IPython kernel.\n"
          ]
        }
      ],
      "source": [
        "df['Weight in kg'] = df['Weight in kg'].str.replace('\\D', ' ')"
      ]
    },
    {
      "cell_type": "code",
      "execution_count": 128,
      "metadata": {
        "id": "KOlLCw8AH6bk"
      },
      "outputs": [],
      "source": [
        "new2 = df['Weight in kg'].str.split(\" \", n = 1, expand=True)\n",
        "split1 = df.insert(7, \"Min Weight in kg\", new2[0])\n",
        "split2 = df.insert(8, \"Max Weight in kg\", new2[1])"
      ]
    },
    {
      "cell_type": "code",
      "execution_count": 129,
      "metadata": {
        "id": "k4-MUkJoIyTy"
      },
      "outputs": [],
      "source": [
        "data1 = df.copy()\n",
        "data1['Min Weight in kg'] = pd.to_numeric(data1['Min Weight in kg'])\n"
      ]
    },
    {
      "cell_type": "code",
      "execution_count": 130,
      "metadata": {
        "colab": {
          "base_uri": "https://localhost:8080/"
        },
        "id": "0k6RWVGrSbft",
        "outputId": "6d79b09a-9406-4322-c849-943270922dec"
      },
      "outputs": [
        {
          "output_type": "execute_result",
          "data": {
            "text/plain": [
              "dtype('int64')"
            ]
          },
          "metadata": {},
          "execution_count": 130
        }
      ],
      "source": [
        "data1['Min Weight in kg'].dtypes"
      ]
    },
    {
      "cell_type": "code",
      "execution_count": 131,
      "metadata": {
        "colab": {
          "base_uri": "https://localhost:8080/",
          "height": 357
        },
        "id": "abIuQz5abXle",
        "outputId": "2a645595-5f4b-43ab-a3d1-ba2ae0013387"
      },
      "outputs": [
        {
          "output_type": "stream",
          "name": "stderr",
          "text": [
            "/usr/local/lib/python3.7/dist-packages/seaborn/distributions.py:2619: FutureWarning: `distplot` is a deprecated function and will be removed in a future version. Please adapt your code to use either `displot` (a figure-level function with similar flexibility) or `histplot` (an axes-level function for histograms).\n",
            "  warnings.warn(msg, FutureWarning)\n"
          ]
        },
        {
          "output_type": "execute_result",
          "data": {
            "text/plain": [
              "<matplotlib.axes._subplots.AxesSubplot at 0x7fe7270236d0>"
            ]
          },
          "metadata": {},
          "execution_count": 131
        },
        {
          "output_type": "display_data",
          "data": {
            "text/plain": [
              "<Figure size 432x288 with 1 Axes>"
            ],
            "image/png": "[encoded data removed]"
          },
          "metadata": {}
        }
      ],
      "source": [
        "sns.distplot(data1['Min Weight in kg'])"
      ]
    },
    {
      "cell_type": "code",
      "execution_count": 132,
      "metadata": {
        "id": "78zPO9abPnlV"
      },
      "outputs": [],
      "source": [
        "data1['Min Weight in kg'] = data1['Min Weight in kg'].fillna(550)\n",
        "data1['Max Weight in kg'] = pd.to_numeric(data1['Max Weight in kg'], errors= 'coerce')"
      ]
    },
    {
      "cell_type": "code",
      "execution_count": 133,
      "metadata": {
        "colab": {
          "base_uri": "https://localhost:8080/",
          "height": 659
        },
        "id": "5OSVcOardfLr",
        "outputId": "97348dd1-e76f-4e8e-9ca3-8695561999c6"
      },
      "outputs": [
        {
          "output_type": "execute_result",
          "data": {
            "text/plain": [
              "     STATISTIC CODE                Statistic  TLIST(A1)  Year C01782V02140  \\\n",
              "0           AJA01C1    Cattle Price per Head       1976  1976         B200   \n",
              "1           AJA01C1    Cattle Price per Head       1976  1976         B250   \n",
              "2           AJA01C1    Cattle Price per Head       1976  1976         B300   \n",
              "3           AJA01C1    Cattle Price per Head       1976  1976         B350   \n",
              "4           AJA01C1    Cattle Price per Head       1976  1976         B400   \n",
              "...             ...                      ...        ...   ...          ...   \n",
              "1283        AJA01C2  Cattle Price per 100 Kg       2021  2021         H250   \n",
              "1284        AJA01C2  Cattle Price per 100 Kg       2021  2021         H300   \n",
              "1285        AJA01C2  Cattle Price per 100 Kg       2021  2021         H350   \n",
              "1286        AJA01C2  Cattle Price per 100 Kg       2021  2021         H400   \n",
              "1287        AJA01C2  Cattle Price per 100 Kg       2021  2021         SCOW   \n",
              "\n",
              "     Type of Cattle Weight in kg  Min Weight in kg  Max Weight in kg  UNIT  \\\n",
              "0          Bullocks    200 249                 200             249.0  Euro   \n",
              "1          Bullocks    250 299                 250             299.0  Euro   \n",
              "2          Bullocks    300 349                 300             349.0  Euro   \n",
              "3          Bullocks    350 399                 350             399.0  Euro   \n",
              "4          Bullocks    400 449                 400             449.0  Euro   \n",
              "...             ...          ...               ...               ...   ...   \n",
              "1283        Heifers    250 299                 250             299.0  Euro   \n",
              "1284        Heifers    300 349                 300             349.0  Euro   \n",
              "1285        Heifers    350 399                 350             399.0  Euro   \n",
              "1286        Heifers    400 449                 400             449.0  Euro   \n",
              "1287       Bullocks          550               550               NaN  Euro   \n",
              "\n",
              "           VALUE  \n",
              "0     228.073462  \n",
              "1     228.073462  \n",
              "2     238.290000  \n",
              "3     270.470000  \n",
              "4     302.430000  \n",
              "...          ...  \n",
              "1283  216.991177  \n",
              "1284  215.245632  \n",
              "1285  216.965995  \n",
              "1286  216.796269  \n",
              "1287  228.073462  \n",
              "\n",
              "[1288 rows x 11 columns]"
            ],
            "text/html": [
              "\n",
              "  <div id=\"df-4b6647c7-9160-4998-80aa-f8fd053dd157\">\n",
              "    <div class=\"colab-df-container\">\n",
              "      <div>\n",
              "<style scoped>\n",
              "    .dataframe tbody tr th:only-of-type {\n",
              "        vertical-align: middle;\n",
              "    }\n",
              "\n",
              "    .dataframe tbody tr th {\n",
              "        vertical-align: top;\n",
              "    }\n",
              "\n",
              "    .dataframe thead th {\n",
              "        text-align: right;\n",
              "    }\n",
              "</style>\n",
              "<table border=\"1\" class=\"dataframe\">\n",
              "  <thead>\n",
              "    <tr style=\"text-align: right;\">\n",
              "      <th></th>\n",
              "      <th>STATISTIC CODE</th>\n",
              "      <th>Statistic</th>\n",
              "      <th>TLIST(A1)</th>\n",
              "      <th>Year</th>\n",
              "      <th>C01782V02140</th>\n",
              "      <th>Type of Cattle</th>\n",
              "      <th>Weight in kg</th>\n",
              "      <th>Min Weight in kg</th>\n",
              "      <th>Max Weight in kg</th>\n",
              "      <th>UNIT</th>\n",
              "      <th>VALUE</th>\n",
              "    </tr>\n",
              "  </thead>\n",
              "  <tbody>\n",
              "    <tr>\n",
              "      <th>0</th>\n",
              "      <td>AJA01C1</td>\n",
              "      <td>Cattle Price per Head</td>\n",
              "      <td>1976</td>\n",
              "      <td>1976</td>\n",
              "      <td>B200</td>\n",
              "      <td>Bullocks</td>\n",
              "      <td>200 249</td>\n",
              "      <td>200</td>\n",
              "      <td>249.0</td>\n",
              "      <td>Euro</td>\n",
              "      <td>228.073462</td>\n",
              "    </tr>\n",
              "    <tr>\n",
              "      <th>1</th>\n",
              "      <td>AJA01C1</td>\n",
              "      <td>Cattle Price per Head</td>\n",
              "      <td>1976</td>\n",
              "      <td>1976</td>\n",
              "      <td>B250</td>\n",
              "      <td>Bullocks</td>\n",
              "      <td>250 299</td>\n",
              "      <td>250</td>\n",
              "      <td>299.0</td>\n",
              "      <td>Euro</td>\n",
              "      <td>228.073462</td>\n",
              "    </tr>\n",
              "    <tr>\n",
              "      <th>2</th>\n",
              "      <td>AJA01C1</td>\n",
              "      <td>Cattle Price per Head</td>\n",
              "      <td>1976</td>\n",
              "      <td>1976</td>\n",
              "      <td>B300</td>\n",
              "      <td>Bullocks</td>\n",
              "      <td>300 349</td>\n",
              "      <td>300</td>\n",
              "      <td>349.0</td>\n",
              "      <td>Euro</td>\n",
              "      <td>238.290000</td>\n",
              "    </tr>\n",
              "    <tr>\n",
              "      <th>3</th>\n",
              "      <td>AJA01C1</td>\n",
              "      <td>Cattle Price per Head</td>\n",
              "      <td>1976</td>\n",
              "      <td>1976</td>\n",
              "      <td>B350</td>\n",
              "      <td>Bullocks</td>\n",
              "      <td>350 399</td>\n",
              "      <td>350</td>\n",
              "      <td>399.0</td>\n",
              "      <td>Euro</td>\n",
              "      <td>270.470000</td>\n",
              "    </tr>\n",
              "    <tr>\n",
              "      <th>4</th>\n",
              "      <td>AJA01C1</td>\n",
              "      <td>Cattle Price per Head</td>\n",
              "      <td>1976</td>\n",
              "      <td>1976</td>\n",
              "      <td>B400</td>\n",
              "      <td>Bullocks</td>\n",
              "      <td>400 449</td>\n",
              "      <td>400</td>\n",
              "      <td>449.0</td>\n",
              "      <td>Euro</td>\n",
              "      <td>302.430000</td>\n",
              "    </tr>\n",
              "    <tr>\n",
              "      <th>...</th>\n",
              "      <td>...</td>\n",
              "      <td>...</td>\n",
              "      <td>...</td>\n",
              "      <td>...</td>\n",
              "      <td>...</td>\n",
              "      <td>...</td>\n",
              "      <td>...</td>\n",
              "      <td>...</td>\n",
              "      <td>...</td>\n",
              "      <td>...</td>\n",
              "      <td>...</td>\n",
              "    </tr>\n",
              "    <tr>\n",
              "      <th>1283</th>\n",
              "      <td>AJA01C2</td>\n",
              "      <td>Cattle Price per 100 Kg</td>\n",
              "      <td>2021</td>\n",
              "      <td>2021</td>\n",
              "      <td>H250</td>\n",
              "      <td>Heifers</td>\n",
              "      <td>250 299</td>\n",
              "      <td>250</td>\n",
              "      <td>299.0</td>\n",
              "      <td>Euro</td>\n",
              "      <td>216.991177</td>\n",
              "    </tr>\n",
              "    <tr>\n",
              "      <th>1284</th>\n",
              "      <td>AJA01C2</td>\n",
              "      <td>Cattle Price per 100 Kg</td>\n",
              "      <td>2021</td>\n",
              "      <td>2021</td>\n",
              "      <td>H300</td>\n",
              "      <td>Heifers</td>\n",
              "      <td>300 349</td>\n",
              "      <td>300</td>\n",
              "      <td>349.0</td>\n",
              "      <td>Euro</td>\n",
              "      <td>215.245632</td>\n",
              "    </tr>\n",
              "    <tr>\n",
              "      <th>1285</th>\n",
              "      <td>AJA01C2</td>\n",
              "      <td>Cattle Price per 100 Kg</td>\n",
              "      <td>2021</td>\n",
              "      <td>2021</td>\n",
              "      <td>H350</td>\n",
              "      <td>Heifers</td>\n",
              "      <td>350 399</td>\n",
              "      <td>350</td>\n",
              "      <td>399.0</td>\n",
              "      <td>Euro</td>\n",
              "      <td>216.965995</td>\n",
              "    </tr>\n",
              "    <tr>\n",
              "      <th>1286</th>\n",
              "      <td>AJA01C2</td>\n",
              "      <td>Cattle Price per 100 Kg</td>\n",
              "      <td>2021</td>\n",
              "      <td>2021</td>\n",
              "      <td>H400</td>\n",
              "      <td>Heifers</td>\n",
              "      <td>400 449</td>\n",
              "      <td>400</td>\n",
              "      <td>449.0</td>\n",
              "      <td>Euro</td>\n",
              "      <td>216.796269</td>\n",
              "    </tr>\n",
              "    <tr>\n",
              "      <th>1287</th>\n",
              "      <td>AJA01C2</td>\n",
              "      <td>Cattle Price per 100 Kg</td>\n",
              "      <td>2021</td>\n",
              "      <td>2021</td>\n",
              "      <td>SCOW</td>\n",
              "      <td>Bullocks</td>\n",
              "      <td>550</td>\n",
              "      <td>550</td>\n",
              "      <td>NaN</td>\n",
              "      <td>Euro</td>\n",
              "      <td>228.073462</td>\n",
              "    </tr>\n",
              "  </tbody>\n",
              "</table>\n",
              "<p>1288 rows × 11 columns</p>\n",
              "</div>\n",
              "      <button class=\"colab-df-convert\" onclick=\"convertToInteractive('df-4b6647c7-9160-4998-80aa-f8fd053dd157')\"\n",
              "              title=\"Convert this dataframe to an interactive table.\"\n",
              "              style=\"display:none;\">\n",
              "        \n",
              "  <svg xmlns=\"http://www.w3.org/2000/svg\" height=\"24px\"viewBox=\"0 0 24 24\"\n",
              "       width=\"24px\">\n",
              "    <path d=\"M0 0h24v24H0V0z\" fill=\"none\"/>\n",
              "    <path d=\"M18.56 5.44l.94 2.06.94-2.06 2.06-.94-2.06-.94-.94-2.06-.94 2.06-2.06.94zm-11 1L8.5 8.5l.94-2.06 2.06-.94-2.06-.94L8.5 2.5l-.94 2.06-2.06.94zm10 10l.94 2.06.94-2.06 2.06-.94-2.06-.94-.94-2.06-.94 2.06-2.06.94z\"/><path d=\"M17.41 7.96l-1.37-1.37c-.4-.4-.92-.59-1.43-.59-.52 0-1.04.2-1.43.59L10.3 9.45l-7.72 7.72c-.78.78-.78 2.05 0 2.83L4 21.41c.39.39.9.59 1.41.59.51 0 1.02-.2 1.41-.59l7.78-7.78 2.81-2.81c.8-.78.8-2.07 0-2.86zM5.41 20L4 18.59l7.72-7.72 1.47 1.35L5.41 20z\"/>\n",
              "  </svg>\n",
              "      </button>\n",
              "      \n",
              "  <style>\n",
              "    .colab-df-container {\n",
              "      display:flex;\n",
              "      flex-wrap:wrap;\n",
              "      gap: 12px;\n",
              "    }\n",
              "\n",
              "    .colab-df-convert {\n",
              "      background-color: #E8F0FE;\n",
              "      border: none;\n",
              "      border-radius: 50%;\n",
              "      cursor: pointer;\n",
              "      display: none;\n",
              "      fill: #1967D2;\n",
              "      height: 32px;\n",
              "      padding: 0 0 0 0;\n",
              "      width: 32px;\n",
              "    }\n",
              "\n",
              "    .colab-df-convert:hover {\n",
              "      background-color: #E2EBFA;\n",
              "      box-shadow: 0px 1px 2px rgba(60, 64, 67, 0.3), 0px 1px 3px 1px rgba(60, 64, 67, 0.15);\n",
              "      fill: #174EA6;\n",
              "    }\n",
              "\n",
              "    [theme=dark] .colab-df-convert {\n",
              "      background-color: #3B4455;\n",
              "      fill: #D2E3FC;\n",
              "    }\n",
              "\n",
              "    [theme=dark] .colab-df-convert:hover {\n",
              "      background-color: #434B5C;\n",
              "      box-shadow: 0px 1px 3px 1px rgba(0, 0, 0, 0.15);\n",
              "      filter: drop-shadow(0px 1px 2px rgba(0, 0, 0, 0.3));\n",
              "      fill: #FFFFFF;\n",
              "    }\n",
              "  </style>\n",
              "\n",
              "      <script>\n",
              "        const buttonEl =\n",
              "          document.querySelector('#df-4b6647c7-9160-4998-80aa-f8fd053dd157 button.colab-df-convert');\n",
              "        buttonEl.style.display =\n",
              "          google.colab.kernel.accessAllowed ? 'block' : 'none';\n",
              "\n",
              "        async function convertToInteractive(key) {\n",
              "          const element = document.querySelector('#df-4b6647c7-9160-4998-80aa-f8fd053dd157');\n",
              "          const dataTable =\n",
              "            await google.colab.kernel.invokeFunction('convertToInteractive',\n",
              "                                                     [key], {});\n",
              "          if (!dataTable) return;\n",
              "\n",
              "          const docLinkHtml = 'Like what you see? Visit the ' +\n",
              "            '<a target=\"_blank\" href=https://colab.research.google.com/notebooks/data_table.ipynb>data table notebook</a>'\n",
              "            + ' to learn more about interactive tables.';\n",
              "          element.innerHTML = '';\n",
              "          dataTable['output_type'] = 'display_data';\n",
              "          await google.colab.output.renderOutput(dataTable, element);\n",
              "          const docLink = document.createElement('div');\n",
              "          docLink.innerHTML = docLinkHtml;\n",
              "          element.appendChild(docLink);\n",
              "        }\n",
              "      </script>\n",
              "    </div>\n",
              "  </div>\n",
              "  "
            ]
          },
          "metadata": {},
          "execution_count": 133
        }
      ],
      "source": [
        "data1"
      ]
    },
    {
      "cell_type": "code",
      "source": [
        "data1 = data1.dropna(axis = 0)"
      ],
      "metadata": {
        "id": "EAZXcHU7ScEQ"
      },
      "execution_count": 134,
      "outputs": []
    },
    {
      "cell_type": "code",
      "execution_count": 135,
      "metadata": {
        "colab": {
          "base_uri": "https://localhost:8080/"
        },
        "id": "Ty0g9xQ-Z_Rp",
        "outputId": "d28790c1-77a9-43b6-95bc-4682d1806ff1"
      },
      "outputs": [
        {
          "output_type": "execute_result",
          "data": {
            "text/plain": [
              "numpy.ndarray"
            ]
          },
          "metadata": {},
          "execution_count": 135
        }
      ],
      "source": [
        "type(df['Max Weight in kg'].values)"
      ]
    },
    {
      "cell_type": "code",
      "source": [
        "df.dropna(inplace=True,axis=0)"
      ],
      "metadata": {
        "id": "QWpHs-bbNBnz"
      },
      "execution_count": 136,
      "outputs": []
    },
    {
      "cell_type": "code",
      "source": [
        "df"
      ],
      "metadata": {
        "colab": {
          "base_uri": "https://localhost:8080/",
          "height": 659
        },
        "id": "v9pz6yoVTo8F",
        "outputId": "be44539e-3223-495d-a1b7-fe837d4dd437"
      },
      "execution_count": 137,
      "outputs": [
        {
          "output_type": "execute_result",
          "data": {
            "text/plain": [
              "     STATISTIC CODE                Statistic  TLIST(A1)  Year C01782V02140  \\\n",
              "0           AJA01C1    Cattle Price per Head       1976  1976         B200   \n",
              "1           AJA01C1    Cattle Price per Head       1976  1976         B250   \n",
              "2           AJA01C1    Cattle Price per Head       1976  1976         B300   \n",
              "3           AJA01C1    Cattle Price per Head       1976  1976         B350   \n",
              "4           AJA01C1    Cattle Price per Head       1976  1976         B400   \n",
              "...             ...                      ...        ...   ...          ...   \n",
              "1282        AJA01C2  Cattle Price per 100 Kg       2021  2021         H200   \n",
              "1283        AJA01C2  Cattle Price per 100 Kg       2021  2021         H250   \n",
              "1284        AJA01C2  Cattle Price per 100 Kg       2021  2021         H300   \n",
              "1285        AJA01C2  Cattle Price per 100 Kg       2021  2021         H350   \n",
              "1286        AJA01C2  Cattle Price per 100 Kg       2021  2021         H400   \n",
              "\n",
              "     Type of Cattle Weight in kg Min Weight in kg Max Weight in kg  UNIT  \\\n",
              "0          Bullocks    200 249                200            249    Euro   \n",
              "1          Bullocks    250 299                250            299    Euro   \n",
              "2          Bullocks    300 349                300            349    Euro   \n",
              "3          Bullocks    350 399                350            399    Euro   \n",
              "4          Bullocks    400 449                400            449    Euro   \n",
              "...             ...          ...              ...              ...   ...   \n",
              "1282        Heifers    200 249                200            249    Euro   \n",
              "1283        Heifers    250 299                250            299    Euro   \n",
              "1284        Heifers    300 349                300            349    Euro   \n",
              "1285        Heifers    350 399                350            399    Euro   \n",
              "1286        Heifers    400 449                400            449    Euro   \n",
              "\n",
              "           VALUE  \n",
              "0     228.073462  \n",
              "1     228.073462  \n",
              "2     238.290000  \n",
              "3     270.470000  \n",
              "4     302.430000  \n",
              "...          ...  \n",
              "1282  222.738691  \n",
              "1283  216.991177  \n",
              "1284  215.245632  \n",
              "1285  216.965995  \n",
              "1286  216.796269  \n",
              "\n",
              "[1196 rows x 11 columns]"
            ],
            "text/html": [
              "\n",
              "  <div id=\"df-aec448cb-da48-4357-8822-e766453dcdc7\">\n",
              "    <div class=\"colab-df-container\">\n",
              "      <div>\n",
              "<style scoped>\n",
              "    .dataframe tbody tr th:only-of-type {\n",
              "        vertical-align: middle;\n",
              "    }\n",
              "\n",
              "    .dataframe tbody tr th {\n",
              "        vertical-align: top;\n",
              "    }\n",
              "\n",
              "    .dataframe thead th {\n",
              "        text-align: right;\n",
              "    }\n",
              "</style>\n",
              "<table border=\"1\" class=\"dataframe\">\n",
              "  <thead>\n",
              "    <tr style=\"text-align: right;\">\n",
              "      <th></th>\n",
              "      <th>STATISTIC CODE</th>\n",
              "      <th>Statistic</th>\n",
              "      <th>TLIST(A1)</th>\n",
              "      <th>Year</th>\n",
              "      <th>C01782V02140</th>\n",
              "      <th>Type of Cattle</th>\n",
              "      <th>Weight in kg</th>\n",
              "      <th>Min Weight in kg</th>\n",
              "      <th>Max Weight in kg</th>\n",
              "      <th>UNIT</th>\n",
              "      <th>VALUE</th>\n",
              "    </tr>\n",
              "  </thead>\n",
              "  <tbody>\n",
              "    <tr>\n",
              "      <th>0</th>\n",
              "      <td>AJA01C1</td>\n",
              "      <td>Cattle Price per Head</td>\n",
              "      <td>1976</td>\n",
              "      <td>1976</td>\n",
              "      <td>B200</td>\n",
              "      <td>Bullocks</td>\n",
              "      <td>200 249</td>\n",
              "      <td>200</td>\n",
              "      <td>249</td>\n",
              "      <td>Euro</td>\n",
              "      <td>228.073462</td>\n",
              "    </tr>\n",
              "    <tr>\n",
              "      <th>1</th>\n",
              "      <td>AJA01C1</td>\n",
              "      <td>Cattle Price per Head</td>\n",
              "      <td>1976</td>\n",
              "      <td>1976</td>\n",
              "      <td>B250</td>\n",
              "      <td>Bullocks</td>\n",
              "      <td>250 299</td>\n",
              "      <td>250</td>\n",
              "      <td>299</td>\n",
              "      <td>Euro</td>\n",
              "      <td>228.073462</td>\n",
              "    </tr>\n",
              "    <tr>\n",
              "      <th>2</th>\n",
              "      <td>AJA01C1</td>\n",
              "      <td>Cattle Price per Head</td>\n",
              "      <td>1976</td>\n",
              "      <td>1976</td>\n",
              "      <td>B300</td>\n",
              "      <td>Bullocks</td>\n",
              "      <td>300 349</td>\n",
              "      <td>300</td>\n",
              "      <td>349</td>\n",
              "      <td>Euro</td>\n",
              "      <td>238.290000</td>\n",
              "    </tr>\n",
              "    <tr>\n",
              "      <th>3</th>\n",
              "      <td>AJA01C1</td>\n",
              "      <td>Cattle Price per Head</td>\n",
              "      <td>1976</td>\n",
              "      <td>1976</td>\n",
              "      <td>B350</td>\n",
              "      <td>Bullocks</td>\n",
              "      <td>350 399</td>\n",
              "      <td>350</td>\n",
              "      <td>399</td>\n",
              "      <td>Euro</td>\n",
              "      <td>270.470000</td>\n",
              "    </tr>\n",
              "    <tr>\n",
              "      <th>4</th>\n",
              "      <td>AJA01C1</td>\n",
              "      <td>Cattle Price per Head</td>\n",
              "      <td>1976</td>\n",
              "      <td>1976</td>\n",
              "      <td>B400</td>\n",
              "      <td>Bullocks</td>\n",
              "      <td>400 449</td>\n",
              "      <td>400</td>\n",
              "      <td>449</td>\n",
              "      <td>Euro</td>\n",
              "      <td>302.430000</td>\n",
              "    </tr>\n",
              "    <tr>\n",
              "      <th>...</th>\n",
              "      <td>...</td>\n",
              "      <td>...</td>\n",
              "      <td>...</td>\n",
              "      <td>...</td>\n",
              "      <td>...</td>\n",
              "      <td>...</td>\n",
              "      <td>...</td>\n",
              "      <td>...</td>\n",
              "      <td>...</td>\n",
              "      <td>...</td>\n",
              "      <td>...</td>\n",
              "    </tr>\n",
              "    <tr>\n",
              "      <th>1282</th>\n",
              "      <td>AJA01C2</td>\n",
              "      <td>Cattle Price per 100 Kg</td>\n",
              "      <td>2021</td>\n",
              "      <td>2021</td>\n",
              "      <td>H200</td>\n",
              "      <td>Heifers</td>\n",
              "      <td>200 249</td>\n",
              "      <td>200</td>\n",
              "      <td>249</td>\n",
              "      <td>Euro</td>\n",
              "      <td>222.738691</td>\n",
              "    </tr>\n",
              "    <tr>\n",
              "      <th>1283</th>\n",
              "      <td>AJA01C2</td>\n",
              "      <td>Cattle Price per 100 Kg</td>\n",
              "      <td>2021</td>\n",
              "      <td>2021</td>\n",
              "      <td>H250</td>\n",
              "      <td>Heifers</td>\n",
              "      <td>250 299</td>\n",
              "      <td>250</td>\n",
              "      <td>299</td>\n",
              "      <td>Euro</td>\n",
              "      <td>216.991177</td>\n",
              "    </tr>\n",
              "    <tr>\n",
              "      <th>1284</th>\n",
              "      <td>AJA01C2</td>\n",
              "      <td>Cattle Price per 100 Kg</td>\n",
              "      <td>2021</td>\n",
              "      <td>2021</td>\n",
              "      <td>H300</td>\n",
              "      <td>Heifers</td>\n",
              "      <td>300 349</td>\n",
              "      <td>300</td>\n",
              "      <td>349</td>\n",
              "      <td>Euro</td>\n",
              "      <td>215.245632</td>\n",
              "    </tr>\n",
              "    <tr>\n",
              "      <th>1285</th>\n",
              "      <td>AJA01C2</td>\n",
              "      <td>Cattle Price per 100 Kg</td>\n",
              "      <td>2021</td>\n",
              "      <td>2021</td>\n",
              "      <td>H350</td>\n",
              "      <td>Heifers</td>\n",
              "      <td>350 399</td>\n",
              "      <td>350</td>\n",
              "      <td>399</td>\n",
              "      <td>Euro</td>\n",
              "      <td>216.965995</td>\n",
              "    </tr>\n",
              "    <tr>\n",
              "      <th>1286</th>\n",
              "      <td>AJA01C2</td>\n",
              "      <td>Cattle Price per 100 Kg</td>\n",
              "      <td>2021</td>\n",
              "      <td>2021</td>\n",
              "      <td>H400</td>\n",
              "      <td>Heifers</td>\n",
              "      <td>400 449</td>\n",
              "      <td>400</td>\n",
              "      <td>449</td>\n",
              "      <td>Euro</td>\n",
              "      <td>216.796269</td>\n",
              "    </tr>\n",
              "  </tbody>\n",
              "</table>\n",
              "<p>1196 rows × 11 columns</p>\n",
              "</div>\n",
              "      <button class=\"colab-df-convert\" onclick=\"convertToInteractive('df-aec448cb-da48-4357-8822-e766453dcdc7')\"\n",
              "              title=\"Convert this dataframe to an interactive table.\"\n",
              "              style=\"display:none;\">\n",
              "        \n",
              "  <svg xmlns=\"http://www.w3.org/2000/svg\" height=\"24px\"viewBox=\"0 0 24 24\"\n",
              "       width=\"24px\">\n",
              "    <path d=\"M0 0h24v24H0V0z\" fill=\"none\"/>\n",
              "    <path d=\"M18.56 5.44l.94 2.06.94-2.06 2.06-.94-2.06-.94-.94-2.06-.94 2.06-2.06.94zm-11 1L8.5 8.5l.94-2.06 2.06-.94-2.06-.94L8.5 2.5l-.94 2.06-2.06.94zm10 10l.94 2.06.94-2.06 2.06-.94-2.06-.94-.94-2.06-.94 2.06-2.06.94z\"/><path d=\"M17.41 7.96l-1.37-1.37c-.4-.4-.92-.59-1.43-.59-.52 0-1.04.2-1.43.59L10.3 9.45l-7.72 7.72c-.78.78-.78 2.05 0 2.83L4 21.41c.39.39.9.59 1.41.59.51 0 1.02-.2 1.41-.59l7.78-7.78 2.81-2.81c.8-.78.8-2.07 0-2.86zM5.41 20L4 18.59l7.72-7.72 1.47 1.35L5.41 20z\"/>\n",
              "  </svg>\n",
              "      </button>\n",
              "      \n",
              "  <style>\n",
              "    .colab-df-container {\n",
              "      display:flex;\n",
              "      flex-wrap:wrap;\n",
              "      gap: 12px;\n",
              "    }\n",
              "\n",
              "    .colab-df-convert {\n",
              "      background-color: #E8F0FE;\n",
              "      border: none;\n",
              "      border-radius: 50%;\n",
              "      cursor: pointer;\n",
              "      display: none;\n",
              "      fill: #1967D2;\n",
              "      height: 32px;\n",
              "      padding: 0 0 0 0;\n",
              "      width: 32px;\n",
              "    }\n",
              "\n",
              "    .colab-df-convert:hover {\n",
              "      background-color: #E2EBFA;\n",
              "      box-shadow: 0px 1px 2px rgba(60, 64, 67, 0.3), 0px 1px 3px 1px rgba(60, 64, 67, 0.15);\n",
              "      fill: #174EA6;\n",
              "    }\n",
              "\n",
              "    [theme=dark] .colab-df-convert {\n",
              "      background-color: #3B4455;\n",
              "      fill: #D2E3FC;\n",
              "    }\n",
              "\n",
              "    [theme=dark] .colab-df-convert:hover {\n",
              "      background-color: #434B5C;\n",
              "      box-shadow: 0px 1px 3px 1px rgba(0, 0, 0, 0.15);\n",
              "      filter: drop-shadow(0px 1px 2px rgba(0, 0, 0, 0.3));\n",
              "      fill: #FFFFFF;\n",
              "    }\n",
              "  </style>\n",
              "\n",
              "      <script>\n",
              "        const buttonEl =\n",
              "          document.querySelector('#df-aec448cb-da48-4357-8822-e766453dcdc7 button.colab-df-convert');\n",
              "        buttonEl.style.display =\n",
              "          google.colab.kernel.accessAllowed ? 'block' : 'none';\n",
              "\n",
              "        async function convertToInteractive(key) {\n",
              "          const element = document.querySelector('#df-aec448cb-da48-4357-8822-e766453dcdc7');\n",
              "          const dataTable =\n",
              "            await google.colab.kernel.invokeFunction('convertToInteractive',\n",
              "                                                     [key], {});\n",
              "          if (!dataTable) return;\n",
              "\n",
              "          const docLinkHtml = 'Like what you see? Visit the ' +\n",
              "            '<a target=\"_blank\" href=https://colab.research.google.com/notebooks/data_table.ipynb>data table notebook</a>'\n",
              "            + ' to learn more about interactive tables.';\n",
              "          element.innerHTML = '';\n",
              "          dataTable['output_type'] = 'display_data';\n",
              "          await google.colab.output.renderOutput(dataTable, element);\n",
              "          const docLink = document.createElement('div');\n",
              "          docLink.innerHTML = docLinkHtml;\n",
              "          element.appendChild(docLink);\n",
              "        }\n",
              "      </script>\n",
              "    </div>\n",
              "  </div>\n",
              "  "
            ]
          },
          "metadata": {},
          "execution_count": 137
        }
      ]
    },
    {
      "cell_type": "code",
      "source": [
        "#import sqlite3\n",
        "#from sqlite3 import Error"
      ],
      "metadata": {
        "id": "lnc7a9UnT35L"
      },
      "execution_count": 138,
      "outputs": []
    },
    {
      "cell_type": "code",
      "source": [
        "#%load_ext sql"
      ],
      "metadata": {
        "id": "h-g1KxAFtXas"
      },
      "execution_count": 139,
      "outputs": []
    },
    {
      "cell_type": "code",
      "source": [
        "x = data1.iloc[:,7:9]\n",
        "y = data1['VALUE']"
      ],
      "metadata": {
        "id": "n8SMbC1OKw04"
      },
      "execution_count": 140,
      "outputs": []
    },
    {
      "cell_type": "code",
      "source": [
        "x"
      ],
      "metadata": {
        "colab": {
          "base_uri": "https://localhost:8080/",
          "height": 424
        },
        "id": "ERO92kXTNfzm",
        "outputId": "8b6c628f-c75b-4048-88e2-1cf4bd35b511"
      },
      "execution_count": 141,
      "outputs": [
        {
          "output_type": "execute_result",
          "data": {
            "text/plain": [
              "      Min Weight in kg  Max Weight in kg\n",
              "0                  200             249.0\n",
              "1                  250             299.0\n",
              "2                  300             349.0\n",
              "3                  350             399.0\n",
              "4                  400             449.0\n",
              "...                ...               ...\n",
              "1282               200             249.0\n",
              "1283               250             299.0\n",
              "1284               300             349.0\n",
              "1285               350             399.0\n",
              "1286               400             449.0\n",
              "\n",
              "[1104 rows x 2 columns]"
            ],
            "text/html": [
              "\n",
              "  <div id=\"df-98471da3-22b1-4fef-a640-68ac438929d3\">\n",
              "    <div class=\"colab-df-container\">\n",
              "      <div>\n",
              "<style scoped>\n",
              "    .dataframe tbody tr th:only-of-type {\n",
              "        vertical-align: middle;\n",
              "    }\n",
              "\n",
              "    .dataframe tbody tr th {\n",
              "        vertical-align: top;\n",
              "    }\n",
              "\n",
              "    .dataframe thead th {\n",
              "        text-align: right;\n",
              "    }\n",
              "</style>\n",
              "<table border=\"1\" class=\"dataframe\">\n",
              "  <thead>\n",
              "    <tr style=\"text-align: right;\">\n",
              "      <th></th>\n",
              "      <th>Min Weight in kg</th>\n",
              "      <th>Max Weight in kg</th>\n",
              "    </tr>\n",
              "  </thead>\n",
              "  <tbody>\n",
              "    <tr>\n",
              "      <th>0</th>\n",
              "      <td>200</td>\n",
              "      <td>249.0</td>\n",
              "    </tr>\n",
              "    <tr>\n",
              "      <th>1</th>\n",
              "      <td>250</td>\n",
              "      <td>299.0</td>\n",
              "    </tr>\n",
              "    <tr>\n",
              "      <th>2</th>\n",
              "      <td>300</td>\n",
              "      <td>349.0</td>\n",
              "    </tr>\n",
              "    <tr>\n",
              "      <th>3</th>\n",
              "      <td>350</td>\n",
              "      <td>399.0</td>\n",
              "    </tr>\n",
              "    <tr>\n",
              "      <th>4</th>\n",
              "      <td>400</td>\n",
              "      <td>449.0</td>\n",
              "    </tr>\n",
              "    <tr>\n",
              "      <th>...</th>\n",
              "      <td>...</td>\n",
              "      <td>...</td>\n",
              "    </tr>\n",
              "    <tr>\n",
              "      <th>1282</th>\n",
              "      <td>200</td>\n",
              "      <td>249.0</td>\n",
              "    </tr>\n",
              "    <tr>\n",
              "      <th>1283</th>\n",
              "      <td>250</td>\n",
              "      <td>299.0</td>\n",
              "    </tr>\n",
              "    <tr>\n",
              "      <th>1284</th>\n",
              "      <td>300</td>\n",
              "      <td>349.0</td>\n",
              "    </tr>\n",
              "    <tr>\n",
              "      <th>1285</th>\n",
              "      <td>350</td>\n",
              "      <td>399.0</td>\n",
              "    </tr>\n",
              "    <tr>\n",
              "      <th>1286</th>\n",
              "      <td>400</td>\n",
              "      <td>449.0</td>\n",
              "    </tr>\n",
              "  </tbody>\n",
              "</table>\n",
              "<p>1104 rows × 2 columns</p>\n",
              "</div>\n",
              "      <button class=\"colab-df-convert\" onclick=\"convertToInteractive('df-98471da3-22b1-4fef-a640-68ac438929d3')\"\n",
              "              title=\"Convert this dataframe to an interactive table.\"\n",
              "              style=\"display:none;\">\n",
              "        \n",
              "  <svg xmlns=\"http://www.w3.org/2000/svg\" height=\"24px\"viewBox=\"0 0 24 24\"\n",
              "       width=\"24px\">\n",
              "    <path d=\"M0 0h24v24H0V0z\" fill=\"none\"/>\n",
              "    <path d=\"M18.56 5.44l.94 2.06.94-2.06 2.06-.94-2.06-.94-.94-2.06-.94 2.06-2.06.94zm-11 1L8.5 8.5l.94-2.06 2.06-.94-2.06-.94L8.5 2.5l-.94 2.06-2.06.94zm10 10l.94 2.06.94-2.06 2.06-.94-2.06-.94-.94-2.06-.94 2.06-2.06.94z\"/><path d=\"M17.41 7.96l-1.37-1.37c-.4-.4-.92-.59-1.43-.59-.52 0-1.04.2-1.43.59L10.3 9.45l-7.72 7.72c-.78.78-.78 2.05 0 2.83L4 21.41c.39.39.9.59 1.41.59.51 0 1.02-.2 1.41-.59l7.78-7.78 2.81-2.81c.8-.78.8-2.07 0-2.86zM5.41 20L4 18.59l7.72-7.72 1.47 1.35L5.41 20z\"/>\n",
              "  </svg>\n",
              "      </button>\n",
              "      \n",
              "  <style>\n",
              "    .colab-df-container {\n",
              "      display:flex;\n",
              "      flex-wrap:wrap;\n",
              "      gap: 12px;\n",
              "    }\n",
              "\n",
              "    .colab-df-convert {\n",
              "      background-color: #E8F0FE;\n",
              "      border: none;\n",
              "      border-radius: 50%;\n",
              "      cursor: pointer;\n",
              "      display: none;\n",
              "      fill: #1967D2;\n",
              "      height: 32px;\n",
              "      padding: 0 0 0 0;\n",
              "      width: 32px;\n",
              "    }\n",
              "\n",
              "    .colab-df-convert:hover {\n",
              "      background-color: #E2EBFA;\n",
              "      box-shadow: 0px 1px 2px rgba(60, 64, 67, 0.3), 0px 1px 3px 1px rgba(60, 64, 67, 0.15);\n",
              "      fill: #174EA6;\n",
              "    }\n",
              "\n",
              "    [theme=dark] .colab-df-convert {\n",
              "      background-color: #3B4455;\n",
              "      fill: #D2E3FC;\n",
              "    }\n",
              "\n",
              "    [theme=dark] .colab-df-convert:hover {\n",
              "      background-color: #434B5C;\n",
              "      box-shadow: 0px 1px 3px 1px rgba(0, 0, 0, 0.15);\n",
              "      filter: drop-shadow(0px 1px 2px rgba(0, 0, 0, 0.3));\n",
              "      fill: #FFFFFF;\n",
              "    }\n",
              "  </style>\n",
              "\n",
              "      <script>\n",
              "        const buttonEl =\n",
              "          document.querySelector('#df-98471da3-22b1-4fef-a640-68ac438929d3 button.colab-df-convert');\n",
              "        buttonEl.style.display =\n",
              "          google.colab.kernel.accessAllowed ? 'block' : 'none';\n",
              "\n",
              "        async function convertToInteractive(key) {\n",
              "          const element = document.querySelector('#df-98471da3-22b1-4fef-a640-68ac438929d3');\n",
              "          const dataTable =\n",
              "            await google.colab.kernel.invokeFunction('convertToInteractive',\n",
              "                                                     [key], {});\n",
              "          if (!dataTable) return;\n",
              "\n",
              "          const docLinkHtml = 'Like what you see? Visit the ' +\n",
              "            '<a target=\"_blank\" href=https://colab.research.google.com/notebooks/data_table.ipynb>data table notebook</a>'\n",
              "            + ' to learn more about interactive tables.';\n",
              "          element.innerHTML = '';\n",
              "          dataTable['output_type'] = 'display_data';\n",
              "          await google.colab.output.renderOutput(dataTable, element);\n",
              "          const docLink = document.createElement('div');\n",
              "          docLink.innerHTML = docLinkHtml;\n",
              "          element.appendChild(docLink);\n",
              "        }\n",
              "      </script>\n",
              "    </div>\n",
              "  </div>\n",
              "  "
            ]
          },
          "metadata": {},
          "execution_count": 141
        }
      ]
    },
    {
      "cell_type": "code",
      "source": [],
      "metadata": {
        "id": "-Gw5djqrRThp"
      },
      "execution_count": 141,
      "outputs": []
    },
    {
      "cell_type": "code",
      "source": [
        "x['Max Weight in kg'] = x.iloc[:, 1].astype(int)"
      ],
      "metadata": {
        "id": "v5BFC-FZPI9j"
      },
      "execution_count": 142,
      "outputs": []
    },
    {
      "cell_type": "code",
      "source": [
        "x"
      ],
      "metadata": {
        "colab": {
          "base_uri": "https://localhost:8080/",
          "height": 424
        },
        "id": "oviO-tR_POZ-",
        "outputId": "b326e3d5-2386-45a7-9b7c-51f6d30f3b77"
      },
      "execution_count": 143,
      "outputs": [
        {
          "output_type": "execute_result",
          "data": {
            "text/plain": [
              "      Min Weight in kg  Max Weight in kg\n",
              "0                  200               249\n",
              "1                  250               299\n",
              "2                  300               349\n",
              "3                  350               399\n",
              "4                  400               449\n",
              "...                ...               ...\n",
              "1282               200               249\n",
              "1283               250               299\n",
              "1284               300               349\n",
              "1285               350               399\n",
              "1286               400               449\n",
              "\n",
              "[1104 rows x 2 columns]"
            ],
            "text/html": [
              "\n",
              "  <div id=\"df-dedb2680-c14d-4f58-a9bf-b5df2a5442b2\">\n",
              "    <div class=\"colab-df-container\">\n",
              "      <div>\n",
              "<style scoped>\n",
              "    .dataframe tbody tr th:only-of-type {\n",
              "        vertical-align: middle;\n",
              "    }\n",
              "\n",
              "    .dataframe tbody tr th {\n",
              "        vertical-align: top;\n",
              "    }\n",
              "\n",
              "    .dataframe thead th {\n",
              "        text-align: right;\n",
              "    }\n",
              "</style>\n",
              "<table border=\"1\" class=\"dataframe\">\n",
              "  <thead>\n",
              "    <tr style=\"text-align: right;\">\n",
              "      <th></th>\n",
              "      <th>Min Weight in kg</th>\n",
              "      <th>Max Weight in kg</th>\n",
              "    </tr>\n",
              "  </thead>\n",
              "  <tbody>\n",
              "    <tr>\n",
              "      <th>0</th>\n",
              "      <td>200</td>\n",
              "      <td>249</td>\n",
              "    </tr>\n",
              "    <tr>\n",
              "      <th>1</th>\n",
              "      <td>250</td>\n",
              "      <td>299</td>\n",
              "    </tr>\n",
              "    <tr>\n",
              "      <th>2</th>\n",
              "      <td>300</td>\n",
              "      <td>349</td>\n",
              "    </tr>\n",
              "    <tr>\n",
              "      <th>3</th>\n",
              "      <td>350</td>\n",
              "      <td>399</td>\n",
              "    </tr>\n",
              "    <tr>\n",
              "      <th>4</th>\n",
              "      <td>400</td>\n",
              "      <td>449</td>\n",
              "    </tr>\n",
              "    <tr>\n",
              "      <th>...</th>\n",
              "      <td>...</td>\n",
              "      <td>...</td>\n",
              "    </tr>\n",
              "    <tr>\n",
              "      <th>1282</th>\n",
              "      <td>200</td>\n",
              "      <td>249</td>\n",
              "    </tr>\n",
              "    <tr>\n",
              "      <th>1283</th>\n",
              "      <td>250</td>\n",
              "      <td>299</td>\n",
              "    </tr>\n",
              "    <tr>\n",
              "      <th>1284</th>\n",
              "      <td>300</td>\n",
              "      <td>349</td>\n",
              "    </tr>\n",
              "    <tr>\n",
              "      <th>1285</th>\n",
              "      <td>350</td>\n",
              "      <td>399</td>\n",
              "    </tr>\n",
              "    <tr>\n",
              "      <th>1286</th>\n",
              "      <td>400</td>\n",
              "      <td>449</td>\n",
              "    </tr>\n",
              "  </tbody>\n",
              "</table>\n",
              "<p>1104 rows × 2 columns</p>\n",
              "</div>\n",
              "      <button class=\"colab-df-convert\" onclick=\"convertToInteractive('df-dedb2680-c14d-4f58-a9bf-b5df2a5442b2')\"\n",
              "              title=\"Convert this dataframe to an interactive table.\"\n",
              "              style=\"display:none;\">\n",
              "        \n",
              "  <svg xmlns=\"http://www.w3.org/2000/svg\" height=\"24px\"viewBox=\"0 0 24 24\"\n",
              "       width=\"24px\">\n",
              "    <path d=\"M0 0h24v24H0V0z\" fill=\"none\"/>\n",
              "    <path d=\"M18.56 5.44l.94 2.06.94-2.06 2.06-.94-2.06-.94-.94-2.06-.94 2.06-2.06.94zm-11 1L8.5 8.5l.94-2.06 2.06-.94-2.06-.94L8.5 2.5l-.94 2.06-2.06.94zm10 10l.94 2.06.94-2.06 2.06-.94-2.06-.94-.94-2.06-.94 2.06-2.06.94z\"/><path d=\"M17.41 7.96l-1.37-1.37c-.4-.4-.92-.59-1.43-.59-.52 0-1.04.2-1.43.59L10.3 9.45l-7.72 7.72c-.78.78-.78 2.05 0 2.83L4 21.41c.39.39.9.59 1.41.59.51 0 1.02-.2 1.41-.59l7.78-7.78 2.81-2.81c.8-.78.8-2.07 0-2.86zM5.41 20L4 18.59l7.72-7.72 1.47 1.35L5.41 20z\"/>\n",
              "  </svg>\n",
              "      </button>\n",
              "      \n",
              "  <style>\n",
              "    .colab-df-container {\n",
              "      display:flex;\n",
              "      flex-wrap:wrap;\n",
              "      gap: 12px;\n",
              "    }\n",
              "\n",
              "    .colab-df-convert {\n",
              "      background-color: #E8F0FE;\n",
              "      border: none;\n",
              "      border-radius: 50%;\n",
              "      cursor: pointer;\n",
              "      display: none;\n",
              "      fill: #1967D2;\n",
              "      height: 32px;\n",
              "      padding: 0 0 0 0;\n",
              "      width: 32px;\n",
              "    }\n",
              "\n",
              "    .colab-df-convert:hover {\n",
              "      background-color: #E2EBFA;\n",
              "      box-shadow: 0px 1px 2px rgba(60, 64, 67, 0.3), 0px 1px 3px 1px rgba(60, 64, 67, 0.15);\n",
              "      fill: #174EA6;\n",
              "    }\n",
              "\n",
              "    [theme=dark] .colab-df-convert {\n",
              "      background-color: #3B4455;\n",
              "      fill: #D2E3FC;\n",
              "    }\n",
              "\n",
              "    [theme=dark] .colab-df-convert:hover {\n",
              "      background-color: #434B5C;\n",
              "      box-shadow: 0px 1px 3px 1px rgba(0, 0, 0, 0.15);\n",
              "      filter: drop-shadow(0px 1px 2px rgba(0, 0, 0, 0.3));\n",
              "      fill: #FFFFFF;\n",
              "    }\n",
              "  </style>\n",
              "\n",
              "      <script>\n",
              "        const buttonEl =\n",
              "          document.querySelector('#df-dedb2680-c14d-4f58-a9bf-b5df2a5442b2 button.colab-df-convert');\n",
              "        buttonEl.style.display =\n",
              "          google.colab.kernel.accessAllowed ? 'block' : 'none';\n",
              "\n",
              "        async function convertToInteractive(key) {\n",
              "          const element = document.querySelector('#df-dedb2680-c14d-4f58-a9bf-b5df2a5442b2');\n",
              "          const dataTable =\n",
              "            await google.colab.kernel.invokeFunction('convertToInteractive',\n",
              "                                                     [key], {});\n",
              "          if (!dataTable) return;\n",
              "\n",
              "          const docLinkHtml = 'Like what you see? Visit the ' +\n",
              "            '<a target=\"_blank\" href=https://colab.research.google.com/notebooks/data_table.ipynb>data table notebook</a>'\n",
              "            + ' to learn more about interactive tables.';\n",
              "          element.innerHTML = '';\n",
              "          dataTable['output_type'] = 'display_data';\n",
              "          await google.colab.output.renderOutput(dataTable, element);\n",
              "          const docLink = document.createElement('div');\n",
              "          docLink.innerHTML = docLinkHtml;\n",
              "          element.appendChild(docLink);\n",
              "        }\n",
              "      </script>\n",
              "    </div>\n",
              "  </div>\n",
              "  "
            ]
          },
          "metadata": {},
          "execution_count": 143
        }
      ]
    },
    {
      "cell_type": "code",
      "source": [
        "x.shape"
      ],
      "metadata": {
        "colab": {
          "base_uri": "https://localhost:8080/"
        },
        "id": "S1vRQ4O7IgGc",
        "outputId": "3644af1b-ffec-4448-b1d9-314b04c59994"
      },
      "execution_count": 144,
      "outputs": [
        {
          "output_type": "execute_result",
          "data": {
            "text/plain": [
              "(1104, 2)"
            ]
          },
          "metadata": {},
          "execution_count": 144
        }
      ]
    },
    {
      "cell_type": "code",
      "source": [
        "y.shape"
      ],
      "metadata": {
        "colab": {
          "base_uri": "https://localhost:8080/"
        },
        "id": "WqwbHGzYIilY",
        "outputId": "220a9ba8-948a-4f4a-da17-47ee4a6d23bb"
      },
      "execution_count": 145,
      "outputs": [
        {
          "output_type": "execute_result",
          "data": {
            "text/plain": [
              "(1104,)"
            ]
          },
          "metadata": {},
          "execution_count": 145
        }
      ]
    },
    {
      "cell_type": "code",
      "source": [
        "sns.set()\n",
        "\n",
        "fig, (ax1, ax2) = plt.subplots(1, 2, figsize =(10,4))\n",
        "fig.tight_layout(pad  = 3.0)\n",
        "ax1.scatter(x.iloc[:,0],y)\n",
        "ax1.set_xlabel(\"Min Weight\")\n",
        "ax1.set_ylabel(\"Price in Euros\")\n",
        "ax1.set_title(\"Steer Price Data\")\n",
        "\n",
        "ax2.scatter(x.iloc[:,1],y)\n",
        "ax2.set_xlabel(\"Max Weight\")\n",
        "ax2.set_ylabel(\"Price in Euros\")\n",
        "ax2.set_title(\"Steer Price Data\")"
      ],
      "metadata": {
        "colab": {
          "base_uri": "https://localhost:8080/",
          "height": 293
        },
        "id": "9yq9jE2xRa98",
        "outputId": "b0c6c482-9172-481a-97ae-18238e79b448"
      },
      "execution_count": 146,
      "outputs": [
        {
          "output_type": "execute_result",
          "data": {
            "text/plain": [
              "Text(0.5, 1.0, 'Steer Price Data')"
            ]
          },
          "metadata": {},
          "execution_count": 146
        },
        {
          "output_type": "display_data",
          "data": {
            "text/plain": [
              "<Figure size 720x288 with 2 Axes>"
            ],
            "image/png": "[encoded data removed]"
          },
          "metadata": {}
        }
      ]
    },
    {
      "cell_type": "code",
      "source": [
        "from sklearn.model_selection import train_test_split\n",
        "from sklearn.metrics import r2_score, mean_squared_error\n",
        "x_train,x_test,y_train,y_test=train_test_split(x,y,train_size=0.8, random_state=365)"
      ],
      "metadata": {
        "id": "jnLXgmcEdLTw"
      },
      "execution_count": 147,
      "outputs": []
    },
    {
      "cell_type": "code",
      "source": [
        "x_train"
      ],
      "metadata": {
        "colab": {
          "base_uri": "https://localhost:8080/",
          "height": 424
        },
        "id": "7SjdR4mLf5Dk",
        "outputId": "6f48a691-0962-4f58-c5c2-0db45cd502eb"
      },
      "execution_count": 148,
      "outputs": [
        {
          "output_type": "execute_result",
          "data": {
            "text/plain": [
              "      Min Weight in kg  Max Weight in kg\n",
              "920                300               349\n",
              "176                200               249\n",
              "1130               300               349\n",
              "522                400               449\n",
              "960                200               249\n",
              "...                ...               ...\n",
              "304                300               349\n",
              "499                250               299\n",
              "1002               200               249\n",
              "934                300               349\n",
              "807                250               299\n",
              "\n",
              "[883 rows x 2 columns]"
            ],
            "text/html": [
              "\n",
              "  <div id=\"df-4ce60405-9f46-4c36-9a39-3cc32afd9421\">\n",
              "    <div class=\"colab-df-container\">\n",
              "      <div>\n",
              "<style scoped>\n",
              "    .dataframe tbody tr th:only-of-type {\n",
              "        vertical-align: middle;\n",
              "    }\n",
              "\n",
              "    .dataframe tbody tr th {\n",
              "        vertical-align: top;\n",
              "    }\n",
              "\n",
              "    .dataframe thead th {\n",
              "        text-align: right;\n",
              "    }\n",
              "</style>\n",
              "<table border=\"1\" class=\"dataframe\">\n",
              "  <thead>\n",
              "    <tr style=\"text-align: right;\">\n",
              "      <th></th>\n",
              "      <th>Min Weight in kg</th>\n",
              "      <th>Max Weight in kg</th>\n",
              "    </tr>\n",
              "  </thead>\n",
              "  <tbody>\n",
              "    <tr>\n",
              "      <th>920</th>\n",
              "      <td>300</td>\n",
              "      <td>349</td>\n",
              "    </tr>\n",
              "    <tr>\n",
              "      <th>176</th>\n",
              "      <td>200</td>\n",
              "      <td>249</td>\n",
              "    </tr>\n",
              "    <tr>\n",
              "      <th>1130</th>\n",
              "      <td>300</td>\n",
              "      <td>349</td>\n",
              "    </tr>\n",
              "    <tr>\n",
              "      <th>522</th>\n",
              "      <td>400</td>\n",
              "      <td>449</td>\n",
              "    </tr>\n",
              "    <tr>\n",
              "      <th>960</th>\n",
              "      <td>200</td>\n",
              "      <td>249</td>\n",
              "    </tr>\n",
              "    <tr>\n",
              "      <th>...</th>\n",
              "      <td>...</td>\n",
              "      <td>...</td>\n",
              "    </tr>\n",
              "    <tr>\n",
              "      <th>304</th>\n",
              "      <td>300</td>\n",
              "      <td>349</td>\n",
              "    </tr>\n",
              "    <tr>\n",
              "      <th>499</th>\n",
              "      <td>250</td>\n",
              "      <td>299</td>\n",
              "    </tr>\n",
              "    <tr>\n",
              "      <th>1002</th>\n",
              "      <td>200</td>\n",
              "      <td>249</td>\n",
              "    </tr>\n",
              "    <tr>\n",
              "      <th>934</th>\n",
              "      <td>300</td>\n",
              "      <td>349</td>\n",
              "    </tr>\n",
              "    <tr>\n",
              "      <th>807</th>\n",
              "      <td>250</td>\n",
              "      <td>299</td>\n",
              "    </tr>\n",
              "  </tbody>\n",
              "</table>\n",
              "<p>883 rows × 2 columns</p>\n",
              "</div>\n",
              "      <button class=\"colab-df-convert\" onclick=\"convertToInteractive('df-4ce60405-9f46-4c36-9a39-3cc32afd9421')\"\n",
              "              title=\"Convert this dataframe to an interactive table.\"\n",
              "              style=\"display:none;\">\n",
              "        \n",
              "  <svg xmlns=\"http://www.w3.org/2000/svg\" height=\"24px\"viewBox=\"0 0 24 24\"\n",
              "       width=\"24px\">\n",
              "    <path d=\"M0 0h24v24H0V0z\" fill=\"none\"/>\n",
              "    <path d=\"M18.56 5.44l.94 2.06.94-2.06 2.06-.94-2.06-.94-.94-2.06-.94 2.06-2.06.94zm-11 1L8.5 8.5l.94-2.06 2.06-.94-2.06-.94L8.5 2.5l-.94 2.06-2.06.94zm10 10l.94 2.06.94-2.06 2.06-.94-2.06-.94-.94-2.06-.94 2.06-2.06.94z\"/><path d=\"M17.41 7.96l-1.37-1.37c-.4-.4-.92-.59-1.43-.59-.52 0-1.04.2-1.43.59L10.3 9.45l-7.72 7.72c-.78.78-.78 2.05 0 2.83L4 21.41c.39.39.9.59 1.41.59.51 0 1.02-.2 1.41-.59l7.78-7.78 2.81-2.81c.8-.78.8-2.07 0-2.86zM5.41 20L4 18.59l7.72-7.72 1.47 1.35L5.41 20z\"/>\n",
              "  </svg>\n",
              "      </button>\n",
              "      \n",
              "  <style>\n",
              "    .colab-df-container {\n",
              "      display:flex;\n",
              "      flex-wrap:wrap;\n",
              "      gap: 12px;\n",
              "    }\n",
              "\n",
              "    .colab-df-convert {\n",
              "      background-color: #E8F0FE;\n",
              "      border: none;\n",
              "      border-radius: 50%;\n",
              "      cursor: pointer;\n",
              "      display: none;\n",
              "      fill: #1967D2;\n",
              "      height: 32px;\n",
              "      padding: 0 0 0 0;\n",
              "      width: 32px;\n",
              "    }\n",
              "\n",
              "    .colab-df-convert:hover {\n",
              "      background-color: #E2EBFA;\n",
              "      box-shadow: 0px 1px 2px rgba(60, 64, 67, 0.3), 0px 1px 3px 1px rgba(60, 64, 67, 0.15);\n",
              "      fill: #174EA6;\n",
              "    }\n",
              "\n",
              "    [theme=dark] .colab-df-convert {\n",
              "      background-color: #3B4455;\n",
              "      fill: #D2E3FC;\n",
              "    }\n",
              "\n",
              "    [theme=dark] .colab-df-convert:hover {\n",
              "      background-color: #434B5C;\n",
              "      box-shadow: 0px 1px 3px 1px rgba(0, 0, 0, 0.15);\n",
              "      filter: drop-shadow(0px 1px 2px rgba(0, 0, 0, 0.3));\n",
              "      fill: #FFFFFF;\n",
              "    }\n",
              "  </style>\n",
              "\n",
              "      <script>\n",
              "        const buttonEl =\n",
              "          document.querySelector('#df-4ce60405-9f46-4c36-9a39-3cc32afd9421 button.colab-df-convert');\n",
              "        buttonEl.style.display =\n",
              "          google.colab.kernel.accessAllowed ? 'block' : 'none';\n",
              "\n",
              "        async function convertToInteractive(key) {\n",
              "          const element = document.querySelector('#df-4ce60405-9f46-4c36-9a39-3cc32afd9421');\n",
              "          const dataTable =\n",
              "            await google.colab.kernel.invokeFunction('convertToInteractive',\n",
              "                                                     [key], {});\n",
              "          if (!dataTable) return;\n",
              "\n",
              "          const docLinkHtml = 'Like what you see? Visit the ' +\n",
              "            '<a target=\"_blank\" href=https://colab.research.google.com/notebooks/data_table.ipynb>data table notebook</a>'\n",
              "            + ' to learn more about interactive tables.';\n",
              "          element.innerHTML = '';\n",
              "          dataTable['output_type'] = 'display_data';\n",
              "          await google.colab.output.renderOutput(dataTable, element);\n",
              "          const docLink = document.createElement('div');\n",
              "          docLink.innerHTML = docLinkHtml;\n",
              "          element.appendChild(docLink);\n",
              "        }\n",
              "      </script>\n",
              "    </div>\n",
              "  </div>\n",
              "  "
            ]
          },
          "metadata": {},
          "execution_count": 148
        }
      ]
    },
    {
      "cell_type": "code",
      "source": [
        "x_test"
      ],
      "metadata": {
        "colab": {
          "base_uri": "https://localhost:8080/",
          "height": 424
        },
        "id": "osjKmnqJf9iE",
        "outputId": "aad5131d-3c51-4da6-e202-81b73ba0c26d"
      },
      "execution_count": 149,
      "outputs": [
        {
          "output_type": "execute_result",
          "data": {
            "text/plain": [
              "      Min Weight in kg  Max Weight in kg\n",
              "1201               350               399\n",
              "754                400               449\n",
              "114                300               349\n",
              "883                250               299\n",
              "444                300               349\n",
              "...                ...               ...\n",
              "773                350               399\n",
              "513                250               299\n",
              "177                250               299\n",
              "485                250               299\n",
              "376                400               449\n",
              "\n",
              "[221 rows x 2 columns]"
            ],
            "text/html": [
              "\n",
              "  <div id=\"df-55e6a2bf-764e-4732-a26d-360d5961428f\">\n",
              "    <div class=\"colab-df-container\">\n",
              "      <div>\n",
              "<style scoped>\n",
              "    .dataframe tbody tr th:only-of-type {\n",
              "        vertical-align: middle;\n",
              "    }\n",
              "\n",
              "    .dataframe tbody tr th {\n",
              "        vertical-align: top;\n",
              "    }\n",
              "\n",
              "    .dataframe thead th {\n",
              "        text-align: right;\n",
              "    }\n",
              "</style>\n",
              "<table border=\"1\" class=\"dataframe\">\n",
              "  <thead>\n",
              "    <tr style=\"text-align: right;\">\n",
              "      <th></th>\n",
              "      <th>Min Weight in kg</th>\n",
              "      <th>Max Weight in kg</th>\n",
              "    </tr>\n",
              "  </thead>\n",
              "  <tbody>\n",
              "    <tr>\n",
              "      <th>1201</th>\n",
              "      <td>350</td>\n",
              "      <td>399</td>\n",
              "    </tr>\n",
              "    <tr>\n",
              "      <th>754</th>\n",
              "      <td>400</td>\n",
              "      <td>449</td>\n",
              "    </tr>\n",
              "    <tr>\n",
              "      <th>114</th>\n",
              "      <td>300</td>\n",
              "      <td>349</td>\n",
              "    </tr>\n",
              "    <tr>\n",
              "      <th>883</th>\n",
              "      <td>250</td>\n",
              "      <td>299</td>\n",
              "    </tr>\n",
              "    <tr>\n",
              "      <th>444</th>\n",
              "      <td>300</td>\n",
              "      <td>349</td>\n",
              "    </tr>\n",
              "    <tr>\n",
              "      <th>...</th>\n",
              "      <td>...</td>\n",
              "      <td>...</td>\n",
              "    </tr>\n",
              "    <tr>\n",
              "      <th>773</th>\n",
              "      <td>350</td>\n",
              "      <td>399</td>\n",
              "    </tr>\n",
              "    <tr>\n",
              "      <th>513</th>\n",
              "      <td>250</td>\n",
              "      <td>299</td>\n",
              "    </tr>\n",
              "    <tr>\n",
              "      <th>177</th>\n",
              "      <td>250</td>\n",
              "      <td>299</td>\n",
              "    </tr>\n",
              "    <tr>\n",
              "      <th>485</th>\n",
              "      <td>250</td>\n",
              "      <td>299</td>\n",
              "    </tr>\n",
              "    <tr>\n",
              "      <th>376</th>\n",
              "      <td>400</td>\n",
              "      <td>449</td>\n",
              "    </tr>\n",
              "  </tbody>\n",
              "</table>\n",
              "<p>221 rows × 2 columns</p>\n",
              "</div>\n",
              "      <button class=\"colab-df-convert\" onclick=\"convertToInteractive('df-55e6a2bf-764e-4732-a26d-360d5961428f')\"\n",
              "              title=\"Convert this dataframe to an interactive table.\"\n",
              "              style=\"display:none;\">\n",
              "        \n",
              "  <svg xmlns=\"http://www.w3.org/2000/svg\" height=\"24px\"viewBox=\"0 0 24 24\"\n",
              "       width=\"24px\">\n",
              "    <path d=\"M0 0h24v24H0V0z\" fill=\"none\"/>\n",
              "    <path d=\"M18.56 5.44l.94 2.06.94-2.06 2.06-.94-2.06-.94-.94-2.06-.94 2.06-2.06.94zm-11 1L8.5 8.5l.94-2.06 2.06-.94-2.06-.94L8.5 2.5l-.94 2.06-2.06.94zm10 10l.94 2.06.94-2.06 2.06-.94-2.06-.94-.94-2.06-.94 2.06-2.06.94z\"/><path d=\"M17.41 7.96l-1.37-1.37c-.4-.4-.92-.59-1.43-.59-.52 0-1.04.2-1.43.59L10.3 9.45l-7.72 7.72c-.78.78-.78 2.05 0 2.83L4 21.41c.39.39.9.59 1.41.59.51 0 1.02-.2 1.41-.59l7.78-7.78 2.81-2.81c.8-.78.8-2.07 0-2.86zM5.41 20L4 18.59l7.72-7.72 1.47 1.35L5.41 20z\"/>\n",
              "  </svg>\n",
              "      </button>\n",
              "      \n",
              "  <style>\n",
              "    .colab-df-container {\n",
              "      display:flex;\n",
              "      flex-wrap:wrap;\n",
              "      gap: 12px;\n",
              "    }\n",
              "\n",
              "    .colab-df-convert {\n",
              "      background-color: #E8F0FE;\n",
              "      border: none;\n",
              "      border-radius: 50%;\n",
              "      cursor: pointer;\n",
              "      display: none;\n",
              "      fill: #1967D2;\n",
              "      height: 32px;\n",
              "      padding: 0 0 0 0;\n",
              "      width: 32px;\n",
              "    }\n",
              "\n",
              "    .colab-df-convert:hover {\n",
              "      background-color: #E2EBFA;\n",
              "      box-shadow: 0px 1px 2px rgba(60, 64, 67, 0.3), 0px 1px 3px 1px rgba(60, 64, 67, 0.15);\n",
              "      fill: #174EA6;\n",
              "    }\n",
              "\n",
              "    [theme=dark] .colab-df-convert {\n",
              "      background-color: #3B4455;\n",
              "      fill: #D2E3FC;\n",
              "    }\n",
              "\n",
              "    [theme=dark] .colab-df-convert:hover {\n",
              "      background-color: #434B5C;\n",
              "      box-shadow: 0px 1px 3px 1px rgba(0, 0, 0, 0.15);\n",
              "      filter: drop-shadow(0px 1px 2px rgba(0, 0, 0, 0.3));\n",
              "      fill: #FFFFFF;\n",
              "    }\n",
              "  </style>\n",
              "\n",
              "      <script>\n",
              "        const buttonEl =\n",
              "          document.querySelector('#df-55e6a2bf-764e-4732-a26d-360d5961428f button.colab-df-convert');\n",
              "        buttonEl.style.display =\n",
              "          google.colab.kernel.accessAllowed ? 'block' : 'none';\n",
              "\n",
              "        async function convertToInteractive(key) {\n",
              "          const element = document.querySelector('#df-55e6a2bf-764e-4732-a26d-360d5961428f');\n",
              "          const dataTable =\n",
              "            await google.colab.kernel.invokeFunction('convertToInteractive',\n",
              "                                                     [key], {});\n",
              "          if (!dataTable) return;\n",
              "\n",
              "          const docLinkHtml = 'Like what you see? Visit the ' +\n",
              "            '<a target=\"_blank\" href=https://colab.research.google.com/notebooks/data_table.ipynb>data table notebook</a>'\n",
              "            + ' to learn more about interactive tables.';\n",
              "          element.innerHTML = '';\n",
              "          dataTable['output_type'] = 'display_data';\n",
              "          await google.colab.output.renderOutput(dataTable, element);\n",
              "          const docLink = document.createElement('div');\n",
              "          docLink.innerHTML = docLinkHtml;\n",
              "          element.appendChild(docLink);\n",
              "        }\n",
              "      </script>\n",
              "    </div>\n",
              "  </div>\n",
              "  "
            ]
          },
          "metadata": {},
          "execution_count": 149
        }
      ]
    },
    {
      "cell_type": "code",
      "source": [
        "x_train.shape"
      ],
      "metadata": {
        "colab": {
          "base_uri": "https://localhost:8080/"
        },
        "id": "ZAnO3YCUh4m3",
        "outputId": "e3e7582c-c9b4-4635-b078-591eb623febf"
      },
      "execution_count": 150,
      "outputs": [
        {
          "output_type": "execute_result",
          "data": {
            "text/plain": [
              "(883, 2)"
            ]
          },
          "metadata": {},
          "execution_count": 150
        }
      ]
    },
    {
      "cell_type": "code",
      "source": [
        "y_train.shape"
      ],
      "metadata": {
        "colab": {
          "base_uri": "https://localhost:8080/"
        },
        "id": "m1HzTJpth-BY",
        "outputId": "a2a94b93-9e42-4f76-c225-8fd1c3495c1c"
      },
      "execution_count": 151,
      "outputs": [
        {
          "output_type": "execute_result",
          "data": {
            "text/plain": [
              "(883,)"
            ]
          },
          "metadata": {},
          "execution_count": 151
        }
      ]
    },
    {
      "cell_type": "code",
      "source": [
        "x_test.shape"
      ],
      "metadata": {
        "colab": {
          "base_uri": "https://localhost:8080/"
        },
        "id": "qiLRKDlaiA1E",
        "outputId": "89789bcb-dd7b-4b83-e5eb-2d154ffb37f6"
      },
      "execution_count": 152,
      "outputs": [
        {
          "output_type": "execute_result",
          "data": {
            "text/plain": [
              "(221, 2)"
            ]
          },
          "metadata": {},
          "execution_count": 152
        }
      ]
    },
    {
      "cell_type": "code",
      "source": [
        "y_test.shape"
      ],
      "metadata": {
        "colab": {
          "base_uri": "https://localhost:8080/"
        },
        "id": "R3uvxxEQh8cx",
        "outputId": "aac4ea41-ba3a-4b3e-b309-2e4abd43abe2"
      },
      "execution_count": 153,
      "outputs": [
        {
          "output_type": "execute_result",
          "data": {
            "text/plain": [
              "(221,)"
            ]
          },
          "metadata": {},
          "execution_count": 153
        }
      ]
    },
    {
      "cell_type": "code",
      "source": [
        "knn_reg = KNeighborsRegressor()\n",
        "knn_reg.fit(x_train,y_train)"
      ],
      "metadata": {
        "colab": {
          "base_uri": "https://localhost:8080/"
        },
        "id": "M5FRy90Wrknq",
        "outputId": "30990c1b-9540-4ac4-9faf-58cf1460744c"
      },
      "execution_count": 154,
      "outputs": [
        {
          "output_type": "execute_result",
          "data": {
            "text/plain": [
              "KNeighborsRegressor()"
            ]
          },
          "metadata": {},
          "execution_count": 154
        }
      ]
    },
    {
      "cell_type": "code",
      "source": [
        "y_pred = knn_reg.predict(x_test)\n",
        "y_pred"
      ],
      "metadata": {
        "colab": {
          "base_uri": "https://localhost:8080/"
        },
        "id": "UdPYkixUl6VK",
        "outputId": "022c1365-bbdf-4d1f-bab8-28fd43667613"
      },
      "execution_count": 155,
      "outputs": [
        {
          "output_type": "execute_result",
          "data": {
            "text/plain": [
              "array([468.31453876, 613.98517184, 252.98678167, 243.578     ,\n",
              "       252.98678167, 613.98517184, 252.98678167, 468.31453876,\n",
              "       405.87185586, 405.87185586, 468.31453876, 405.87185586,\n",
              "       468.31453876, 252.98678167, 334.68111535, 252.98678167,\n",
              "       613.98517184, 243.578     , 613.98517184, 262.00104151,\n",
              "       468.31453876, 613.98517184, 252.98678167, 468.31453876,\n",
              "       405.87185586, 252.98678167, 468.31453876, 468.31453876,\n",
              "       468.31453876, 613.98517184, 613.98517184, 405.87185586,\n",
              "       252.98678167, 243.578     , 468.31453876, 252.98678167,\n",
              "       262.00104151, 334.68111535, 252.98678167, 243.578     ,\n",
              "       243.578     , 613.98517184, 468.31453876, 405.87185586,\n",
              "       405.87185586, 468.31453876, 468.31453876, 468.31453876,\n",
              "       613.98517184, 468.31453876, 252.98678167, 252.98678167,\n",
              "       405.87185586, 334.68111535, 243.578     , 252.98678167,\n",
              "       468.31453876, 262.00104151, 405.87185586, 243.578     ,\n",
              "       468.31453876, 405.87185586, 468.31453876, 613.98517184,\n",
              "       468.31453876, 468.31453876, 252.98678167, 613.98517184,\n",
              "       613.98517184, 613.98517184, 252.98678167, 243.578     ,\n",
              "       243.578     , 262.00104151, 613.98517184, 252.98678167,\n",
              "       405.87185586, 468.31453876, 262.00104151, 243.578     ,\n",
              "       334.68111535, 405.87185586, 405.87185586, 468.31453876,\n",
              "       468.31453876, 334.68111535, 243.578     , 405.87185586,\n",
              "       468.31453876, 468.31453876, 262.00104151, 468.31453876,\n",
              "       405.87185586, 405.87185586, 243.578     , 405.87185586,\n",
              "       613.98517184, 613.98517184, 252.98678167, 468.31453876,\n",
              "       243.578     , 613.98517184, 613.98517184, 252.98678167,\n",
              "       613.98517184, 468.31453876, 613.98517184, 405.87185586,\n",
              "       262.00104151, 334.68111535, 468.31453876, 468.31453876,\n",
              "       613.98517184, 334.68111535, 613.98517184, 468.31453876,\n",
              "       334.68111535, 243.578     , 252.98678167, 252.98678167,\n",
              "       405.87185586, 243.578     , 334.68111535, 252.98678167,\n",
              "       252.98678167, 613.98517184, 405.87185586, 334.68111535,\n",
              "       405.87185586, 243.578     , 334.68111535, 468.31453876,\n",
              "       252.98678167, 243.578     , 405.87185586, 252.98678167,\n",
              "       334.68111535, 252.98678167, 243.578     , 243.578     ,\n",
              "       613.98517184, 252.98678167, 613.98517184, 613.98517184,\n",
              "       405.87185586, 252.98678167, 468.31453876, 252.98678167,\n",
              "       252.98678167, 468.31453876, 405.87185586, 613.98517184,\n",
              "       252.98678167, 468.31453876, 252.98678167, 405.87185586,\n",
              "       334.68111535, 613.98517184, 468.31453876, 262.00104151,\n",
              "       613.98517184, 243.578     , 468.31453876, 613.98517184,\n",
              "       262.00104151, 613.98517184, 243.578     , 243.578     ,\n",
              "       252.98678167, 243.578     , 252.98678167, 405.87185586,\n",
              "       468.31453876, 468.31453876, 243.578     , 252.98678167,\n",
              "       405.87185586, 243.578     , 405.87185586, 613.98517184,\n",
              "       243.578     , 613.98517184, 243.578     , 243.578     ,\n",
              "       243.578     , 405.87185586, 262.00104151, 613.98517184,\n",
              "       405.87185586, 613.98517184, 613.98517184, 243.578     ,\n",
              "       405.87185586, 613.98517184, 243.578     , 243.578     ,\n",
              "       243.578     , 405.87185586, 613.98517184, 405.87185586,\n",
              "       405.87185586, 334.68111535, 334.68111535, 252.98678167,\n",
              "       262.00104151, 243.578     , 468.31453876, 243.578     ,\n",
              "       262.00104151, 243.578     , 405.87185586, 405.87185586,\n",
              "       243.578     , 243.578     , 468.31453876, 468.31453876,\n",
              "       468.31453876, 243.578     , 243.578     , 243.578     ,\n",
              "       613.98517184])"
            ]
          },
          "metadata": {},
          "execution_count": 155
        }
      ]
    },
    {
      "cell_type": "code",
      "source": [
        "#x_train = x_train[:-883]\n",
        "#y_train = y_train[-883:]\n",
        "#x_test = x_test[:-221]\n",
        "#y_test = y_test[-221:]"
      ],
      "metadata": {
        "id": "HB6jtTwyA9Rf"
      },
      "execution_count": 156,
      "outputs": []
    },
    {
      "cell_type": "code",
      "source": [
        "x_train.shape"
      ],
      "metadata": {
        "colab": {
          "base_uri": "https://localhost:8080/"
        },
        "id": "wIuIarK5Z-kF",
        "outputId": "c97b2c2f-5c88-4625-d8b9-15668a2b48c0"
      },
      "execution_count": 157,
      "outputs": [
        {
          "output_type": "execute_result",
          "data": {
            "text/plain": [
              "(883, 2)"
            ]
          },
          "metadata": {},
          "execution_count": 157
        }
      ]
    },
    {
      "cell_type": "code",
      "source": [
        "y_train.shape"
      ],
      "metadata": {
        "colab": {
          "base_uri": "https://localhost:8080/"
        },
        "id": "VFeN8dISaBEh",
        "outputId": "b369de34-a161-4d9f-869d-a70786573881"
      },
      "execution_count": 158,
      "outputs": [
        {
          "output_type": "execute_result",
          "data": {
            "text/plain": [
              "(883,)"
            ]
          },
          "metadata": {},
          "execution_count": 158
        }
      ]
    },
    {
      "cell_type": "code",
      "source": [
        "x_test.shape"
      ],
      "metadata": {
        "colab": {
          "base_uri": "https://localhost:8080/"
        },
        "id": "6ti0m9HxaSde",
        "outputId": "13e051f2-a44e-4440-997e-580586350494"
      },
      "execution_count": 159,
      "outputs": [
        {
          "output_type": "execute_result",
          "data": {
            "text/plain": [
              "(221, 2)"
            ]
          },
          "metadata": {},
          "execution_count": 159
        }
      ]
    },
    {
      "cell_type": "code",
      "source": [
        "y_test.shape"
      ],
      "metadata": {
        "colab": {
          "base_uri": "https://localhost:8080/"
        },
        "id": "-_DFq9zWaVX_",
        "outputId": "f7b7a872-f160-4415-d138-f9aa1e58ce2c"
      },
      "execution_count": 160,
      "outputs": [
        {
          "output_type": "execute_result",
          "data": {
            "text/plain": [
              "(221,)"
            ]
          },
          "metadata": {},
          "execution_count": 160
        }
      ]
    },
    {
      "cell_type": "code",
      "source": [
        "x_train.dtypes"
      ],
      "metadata": {
        "colab": {
          "base_uri": "https://localhost:8080/"
        },
        "id": "vGIcAk-kc7_G",
        "outputId": "2bdb219e-fd59-4005-cdbc-458ae0840434"
      },
      "execution_count": 172,
      "outputs": [
        {
          "output_type": "execute_result",
          "data": {
            "text/plain": [
              "Min Weight in kg    int64\n",
              "Max Weight in kg    int64\n",
              "dtype: object"
            ]
          },
          "metadata": {},
          "execution_count": 172
        }
      ]
    },
    {
      "cell_type": "code",
      "source": [
        "fig2, (ax3, ax4) = plt.subplots(1,2, figsize =(10,4))\n",
        "fig2.tight_layout(pad  = 3.0)\n",
        "ax3.scatter(x_train['Min Weight in kg'], y_train, color='#000C1F')\n",
        "ax3.set_xlabel(\"Feature\")\n",
        "ax3.set_ylabel(\"Target\")\n",
        "ax3.set_title(\"Training Data\")\n",
        "\n",
        "ax3.scatter(x_train['Max Weight in kg'], y_train, color='#000C1F')\n",
        "ax3.set_xlabel(\"Feature\")\n",
        "ax3.set_ylabel(\"Target\")\n",
        "ax3.set_title(\"Training Data\")\n",
        "\n",
        "ax4.scatter(x_test['Min Weight in kg'], y_test, color='#000C1F')\n",
        "ax4.set_xlabel(\"Feature\")\n",
        "ax4.set_ylabel(\"Target\")\n",
        "ax4.set_title(\"Testing Data\")\n",
        "\n",
        "ax4.scatter(x_test['Max Weight in kg'], y_test, color='#000C1F')\n",
        "ax4.set_xlabel(\"Feature\")\n",
        "ax4.set_ylabel(\"Target\")\n",
        "ax4.set_title(\"Testing Data\")\n",
        "\n",
        "\n"
      ],
      "metadata": {
        "colab": {
          "base_uri": "https://localhost:8080/",
          "height": 293
        },
        "id": "N-zKvzMLgkKt",
        "outputId": "faec86b1-10bc-4271-91d7-741eaa957e2f"
      },
      "execution_count": 182,
      "outputs": [
        {
          "output_type": "execute_result",
          "data": {
            "text/plain": [
              "Text(0.5, 1.0, 'Testing Data')"
            ]
          },
          "metadata": {},
          "execution_count": 182
        },
        {
          "output_type": "display_data",
          "data": {
            "text/plain": [
              "<Figure size 720x288 with 2 Axes>"
            ],
            "image/png": "[encoded data removed]"
          },
          "metadata": {}
        }
      ]
    },
    {
      "cell_type": "code",
      "source": [
        "mse = mean_squared_error(y_test,y_pred)"
      ],
      "metadata": {
        "id": "ozV2tNPbfW17"
      },
      "execution_count": 183,
      "outputs": []
    },
    {
      "cell_type": "code",
      "source": [
        "mse"
      ],
      "metadata": {
        "colab": {
          "base_uri": "https://localhost:8080/"
        },
        "id": "BS_fLanVfkW_",
        "outputId": "03dc8bcd-dfc2-4e9d-d577-9a098810507d"
      },
      "execution_count": 184,
      "outputs": [
        {
          "output_type": "execute_result",
          "data": {
            "text/plain": [
              "78926.83151183501"
            ]
          },
          "metadata": {},
          "execution_count": 184
        }
      ]
    },
    {
      "cell_type": "code",
      "source": [
        "#fig,ax=plt.subplots(figsize=(10,10))\n",
        "k_list=np.arange(1,40,80)\n",
        "y_pred_knn=[] # To store k and mse pairs\n",
        "for i in k_list:\n",
        "#Knn Model Creation\n",
        "    knn=KNeighborsRegressor(n_neighbors=int(i))\n",
        "    model_knn=knn.fit(x_train,y_train)\n",
        "    y_knn_pred=model_knn.predict(x_test)\n",
        "    y_pred_knn.append(y_knn_pred)\n",
        "#Storing MSE \n",
        "    #mse=mean_squared_error(y_test,y_knn_pred)\n",
        "    #knn_dict[i]=mse\n",
        "#Plotting the results\n",
        "#ax.plot(knn_dict.keys(),knn_dict.values())\n",
        "#ax.set_xlabel('K-VALUE', fontsize=20)\n",
        "#ax.set_ylabel('MSE' ,fontsize=20)\n",
        "#ax.set_title('ELBOW PLOT' ,fontsize=28)\n",
        "\n",
        "#Now you know why we call it an elbow plot and it clearly shows our MSE is minimum when k=9. Hurrah!\n",
        "\n",
        "#We build our model similar to the way we did above and we just substitute the value of n_neighbors as 9 while doing that. Let’s see the results.\n",
        "\n",
        "#The mean Square error turns out to be "
      ],
      "metadata": {
        "id": "Gp7vuqPgao6h"
      },
      "execution_count": null,
      "outputs": []
    },
    {
      "cell_type": "markdown",
      "source": [
        "#Sort the data according to the test features#"
      ],
      "metadata": {
        "id": "j-Apgd_0hlri"
      }
    },
    {
      "cell_type": "code",
      "source": [],
      "metadata": {
        "id": "CfPDLfJ1PZ7d"
      },
      "execution_count": null,
      "outputs": []
    }
  ],
  "metadata": {
    "colab": {
      "provenance": [],
      "mount_file_id": "1iTH-LJuo5CCtsLENbRnwzaNhMTQAhJAr",
      "authorship_tag": "ABX9TyOsM6CKuwED1zC0mW7wfrKD",
      "include_colab_link": true
    },
    "kernelspec": {
      "display_name": "Python 3",
      "name": "python3"
    },
    "language_info": {
      "name": "python"
    }
  },
  "nbformat": 4,
  "nbformat_minor": 0
}