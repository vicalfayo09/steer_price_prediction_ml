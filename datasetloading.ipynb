{
  "cells": [
    {
      "cell_type": "markdown",
      "metadata": {
        "id": "view-in-github",
        "colab_type": "text"
      },
      "source": [
        "<a href=\"https://colab.research.google.com/github/vicalfayo09/steer_price_prediction_ml/blob/main/datasetloading.ipynb\" target=\"_parent\"><img src=\"https://colab.research.google.com/assets/colab-badge.svg\" alt=\"Open In Colab\"/></a>"
      ]
    },
    {
      "cell_type": "markdown",
      "source": [
        "**MAIN CODE**"
      ],
      "metadata": {
        "id": "PlrnmSmEOhV3"
      }
    },
    {
      "cell_type": "code",
      "source": [
        "import matplotlib.pyplot as plt\n",
        "import pandas as pd\n",
        "import numpy as np\n",
        "import seaborn as sns\n",
        "from sklearn import preprocessing\n",
        "from sklearn.neighbors import KNeighborsRegressor\n",
        "from sklearn.model_selection import train_test_split"
      ],
      "metadata": {
        "id": "dgO3DudeMGjN"
      },
      "execution_count": 349,
      "outputs": []
    },
    {
      "cell_type": "code",
      "source": [
        "pd.set_option('display.max_columns', None)"
      ],
      "metadata": {
        "id": "G2l_JVIDMH5f"
      },
      "execution_count": 350,
      "outputs": []
    },
    {
      "cell_type": "code",
      "execution_count": 351,
      "metadata": {
        "id": "xaY133rN8LMM"
      },
      "outputs": [],
      "source": [
        "!pip install -U -q PyDrive\n",
        "from pydrive.auth import GoogleAuth\n",
        "from pydrive.drive import GoogleDrive\n",
        "from google.colab import auth\n",
        "from oauth2client.client import GoogleCredentials\n"
      ]
    },
    {
      "cell_type": "code",
      "execution_count": 352,
      "metadata": {
        "id": "7_1nPAsE8scf"
      },
      "outputs": [],
      "source": [
        "auth.authenticate_user()\n",
        "gauth = GoogleAuth()\n",
        "gauth.credentials = GoogleCredentials.get_application_default()\n",
        "drive = GoogleDrive(gauth)"
      ]
    },
    {
      "cell_type": "code",
      "execution_count": 353,
      "metadata": {
        "id": "UxJBtjId9FBE"
      },
      "outputs": [],
      "source": [
        "#https://drive.google.com/file/d/1yi6uL3islOb2a5XZEBmQlF1NnSRroMHT/view?usp=sharing\n",
        "fileDownloaded = drive.CreateFile({'id':'1yi6uL3islOb2a5XZEBmQlF1NnSRroMHT'})"
      ]
    },
    {
      "cell_type": "code",
      "execution_count": 354,
      "metadata": {
        "id": "6dCoJ5RE9oE6"
      },
      "outputs": [],
      "source": [
        "fileDownloaded.GetContentFile('AJA01.20221011194750.csv')"
      ]
    },
    {
      "cell_type": "code",
      "execution_count": 355,
      "metadata": {
        "colab": {
          "base_uri": "https://localhost:8080/",
          "height": 206
        },
        "id": "VZDTvOXY-ABx",
        "outputId": "a8bd5c68-b42b-4fe8-ad9b-42c1bac1eaab"
      },
      "outputs": [
        {
          "output_type": "execute_result",
          "data": {
            "text/plain": [
              "  STATISTIC CODE              Statistic  TLIST(A1)  Year C01782V02140  \\\n",
              "0        AJA01C1  Cattle Price per Head       1976  1976         B200   \n",
              "1        AJA01C1  Cattle Price per Head       1976  1976         B250   \n",
              "2        AJA01C1  Cattle Price per Head       1976  1976         B300   \n",
              "3        AJA01C1  Cattle Price per Head       1976  1976         B350   \n",
              "4        AJA01C1  Cattle Price per Head       1976  1976         B400   \n",
              "\n",
              "       Type of Cattle  UNIT   VALUE  \n",
              "0  Bullocks 200-249kg  Euro     NaN  \n",
              "1  Bullocks 250-299kg  Euro     NaN  \n",
              "2  Bullocks 300-349kg  Euro  238.29  \n",
              "3  Bullocks 350-399kg  Euro  270.47  \n",
              "4  Bullocks 400-449kg  Euro  302.43  "
            ],
            "text/html": [
              "\n",
              "  <div id=\"df-e9b9ba40-00b9-4e28-8d23-54d289a539fd\">\n",
              "    <div class=\"colab-df-container\">\n",
              "      <div>\n",
              "<style scoped>\n",
              "    .dataframe tbody tr th:only-of-type {\n",
              "        vertical-align: middle;\n",
              "    }\n",
              "\n",
              "    .dataframe tbody tr th {\n",
              "        vertical-align: top;\n",
              "    }\n",
              "\n",
              "    .dataframe thead th {\n",
              "        text-align: right;\n",
              "    }\n",
              "</style>\n",
              "<table border=\"1\" class=\"dataframe\">\n",
              "  <thead>\n",
              "    <tr style=\"text-align: right;\">\n",
              "      <th></th>\n",
              "      <th>STATISTIC CODE</th>\n",
              "      <th>Statistic</th>\n",
              "      <th>TLIST(A1)</th>\n",
              "      <th>Year</th>\n",
              "      <th>C01782V02140</th>\n",
              "      <th>Type of Cattle</th>\n",
              "      <th>UNIT</th>\n",
              "      <th>VALUE</th>\n",
              "    </tr>\n",
              "  </thead>\n",
              "  <tbody>\n",
              "    <tr>\n",
              "      <th>0</th>\n",
              "      <td>AJA01C1</td>\n",
              "      <td>Cattle Price per Head</td>\n",
              "      <td>1976</td>\n",
              "      <td>1976</td>\n",
              "      <td>B200</td>\n",
              "      <td>Bullocks 200-249kg</td>\n",
              "      <td>Euro</td>\n",
              "      <td>NaN</td>\n",
              "    </tr>\n",
              "    <tr>\n",
              "      <th>1</th>\n",
              "      <td>AJA01C1</td>\n",
              "      <td>Cattle Price per Head</td>\n",
              "      <td>1976</td>\n",
              "      <td>1976</td>\n",
              "      <td>B250</td>\n",
              "      <td>Bullocks 250-299kg</td>\n",
              "      <td>Euro</td>\n",
              "      <td>NaN</td>\n",
              "    </tr>\n",
              "    <tr>\n",
              "      <th>2</th>\n",
              "      <td>AJA01C1</td>\n",
              "      <td>Cattle Price per Head</td>\n",
              "      <td>1976</td>\n",
              "      <td>1976</td>\n",
              "      <td>B300</td>\n",
              "      <td>Bullocks 300-349kg</td>\n",
              "      <td>Euro</td>\n",
              "      <td>238.29</td>\n",
              "    </tr>\n",
              "    <tr>\n",
              "      <th>3</th>\n",
              "      <td>AJA01C1</td>\n",
              "      <td>Cattle Price per Head</td>\n",
              "      <td>1976</td>\n",
              "      <td>1976</td>\n",
              "      <td>B350</td>\n",
              "      <td>Bullocks 350-399kg</td>\n",
              "      <td>Euro</td>\n",
              "      <td>270.47</td>\n",
              "    </tr>\n",
              "    <tr>\n",
              "      <th>4</th>\n",
              "      <td>AJA01C1</td>\n",
              "      <td>Cattle Price per Head</td>\n",
              "      <td>1976</td>\n",
              "      <td>1976</td>\n",
              "      <td>B400</td>\n",
              "      <td>Bullocks 400-449kg</td>\n",
              "      <td>Euro</td>\n",
              "      <td>302.43</td>\n",
              "    </tr>\n",
              "  </tbody>\n",
              "</table>\n",
              "</div>\n",
              "      <button class=\"colab-df-convert\" onclick=\"convertToInteractive('df-e9b9ba40-00b9-4e28-8d23-54d289a539fd')\"\n",
              "              title=\"Convert this dataframe to an interactive table.\"\n",
              "              style=\"display:none;\">\n",
              "        \n",
              "  <svg xmlns=\"http://www.w3.org/2000/svg\" height=\"24px\"viewBox=\"0 0 24 24\"\n",
              "       width=\"24px\">\n",
              "    <path d=\"M0 0h24v24H0V0z\" fill=\"none\"/>\n",
              "    <path d=\"M18.56 5.44l.94 2.06.94-2.06 2.06-.94-2.06-.94-.94-2.06-.94 2.06-2.06.94zm-11 1L8.5 8.5l.94-2.06 2.06-.94-2.06-.94L8.5 2.5l-.94 2.06-2.06.94zm10 10l.94 2.06.94-2.06 2.06-.94-2.06-.94-.94-2.06-.94 2.06-2.06.94z\"/><path d=\"M17.41 7.96l-1.37-1.37c-.4-.4-.92-.59-1.43-.59-.52 0-1.04.2-1.43.59L10.3 9.45l-7.72 7.72c-.78.78-.78 2.05 0 2.83L4 21.41c.39.39.9.59 1.41.59.51 0 1.02-.2 1.41-.59l7.78-7.78 2.81-2.81c.8-.78.8-2.07 0-2.86zM5.41 20L4 18.59l7.72-7.72 1.47 1.35L5.41 20z\"/>\n",
              "  </svg>\n",
              "      </button>\n",
              "      \n",
              "  <style>\n",
              "    .colab-df-container {\n",
              "      display:flex;\n",
              "      flex-wrap:wrap;\n",
              "      gap: 12px;\n",
              "    }\n",
              "\n",
              "    .colab-df-convert {\n",
              "      background-color: #E8F0FE;\n",
              "      border: none;\n",
              "      border-radius: 50%;\n",
              "      cursor: pointer;\n",
              "      display: none;\n",
              "      fill: #1967D2;\n",
              "      height: 32px;\n",
              "      padding: 0 0 0 0;\n",
              "      width: 32px;\n",
              "    }\n",
              "\n",
              "    .colab-df-convert:hover {\n",
              "      background-color: #E2EBFA;\n",
              "      box-shadow: 0px 1px 2px rgba(60, 64, 67, 0.3), 0px 1px 3px 1px rgba(60, 64, 67, 0.15);\n",
              "      fill: #174EA6;\n",
              "    }\n",
              "\n",
              "    [theme=dark] .colab-df-convert {\n",
              "      background-color: #3B4455;\n",
              "      fill: #D2E3FC;\n",
              "    }\n",
              "\n",
              "    [theme=dark] .colab-df-convert:hover {\n",
              "      background-color: #434B5C;\n",
              "      box-shadow: 0px 1px 3px 1px rgba(0, 0, 0, 0.15);\n",
              "      filter: drop-shadow(0px 1px 2px rgba(0, 0, 0, 0.3));\n",
              "      fill: #FFFFFF;\n",
              "    }\n",
              "  </style>\n",
              "\n",
              "      <script>\n",
              "        const buttonEl =\n",
              "          document.querySelector('#df-e9b9ba40-00b9-4e28-8d23-54d289a539fd button.colab-df-convert');\n",
              "        buttonEl.style.display =\n",
              "          google.colab.kernel.accessAllowed ? 'block' : 'none';\n",
              "\n",
              "        async function convertToInteractive(key) {\n",
              "          const element = document.querySelector('#df-e9b9ba40-00b9-4e28-8d23-54d289a539fd');\n",
              "          const dataTable =\n",
              "            await google.colab.kernel.invokeFunction('convertToInteractive',\n",
              "                                                     [key], {});\n",
              "          if (!dataTable) return;\n",
              "\n",
              "          const docLinkHtml = 'Like what you see? Visit the ' +\n",
              "            '<a target=\"_blank\" href=https://colab.research.google.com/notebooks/data_table.ipynb>data table notebook</a>'\n",
              "            + ' to learn more about interactive tables.';\n",
              "          element.innerHTML = '';\n",
              "          dataTable['output_type'] = 'display_data';\n",
              "          await google.colab.output.renderOutput(dataTable, element);\n",
              "          const docLink = document.createElement('div');\n",
              "          docLink.innerHTML = docLinkHtml;\n",
              "          element.appendChild(docLink);\n",
              "        }\n",
              "      </script>\n",
              "    </div>\n",
              "  </div>\n",
              "  "
            ]
          },
          "metadata": {},
          "execution_count": 355
        }
      ],
      "source": [
        "import pandas as pd\n",
        "df = pd.read_csv('AJA01.20221011194750.csv')\n",
        "\n",
        "df.head()"
      ]
    },
    {
      "cell_type": "code",
      "execution_count": 356,
      "metadata": {
        "colab": {
          "base_uri": "https://localhost:8080/",
          "height": 473
        },
        "id": "BPKY7JDq-VKI",
        "outputId": "7c1d6336-07c8-41d8-ecd2-8f7f8af048c0"
      },
      "outputs": [
        {
          "output_type": "execute_result",
          "data": {
            "text/plain": [
              "       STATISTIC CODE              Statistic    TLIST(A1)         Year  \\\n",
              "count            1288                   1288  1288.000000  1288.000000   \n",
              "unique              2                      2          NaN          NaN   \n",
              "top           AJA01C1  Cattle Price per Head          NaN          NaN   \n",
              "freq              644                    644          NaN          NaN   \n",
              "mean              NaN                    NaN  1998.500000  1998.500000   \n",
              "std               NaN                    NaN    13.281075    13.281075   \n",
              "min               NaN                    NaN  1976.000000  1976.000000   \n",
              "25%               NaN                    NaN  1987.000000  1987.000000   \n",
              "50%               NaN                    NaN  1998.500000  1998.500000   \n",
              "75%               NaN                    NaN  2010.000000  2010.000000   \n",
              "max               NaN                    NaN  2021.000000  2021.000000   \n",
              "\n",
              "       C01782V02140      Type of Cattle  UNIT        VALUE  \n",
              "count          1288                1288  1288  1207.000000  \n",
              "unique           14                  14     1          NaN  \n",
              "top            B200  Bullocks 200-249kg  Euro          NaN  \n",
              "freq             92                  92  1288          NaN  \n",
              "mean            NaN                 NaN   NaN   369.926001  \n",
              "std             NaN                 NaN   NaN   258.764418  \n",
              "min             NaN                 NaN   NaN    46.240000  \n",
              "25%             NaN                 NaN   NaN   154.950000  \n",
              "50%             NaN                 NaN   NaN   228.073462  \n",
              "75%             NaN                 NaN   NaN   560.516376  \n",
              "max             NaN                 NaN   NaN  1175.876638  "
            ],
            "text/html": [
              "\n",
              "  <div id=\"df-b1152de8-1981-4d8c-b282-9c23d9111c1a\">\n",
              "    <div class=\"colab-df-container\">\n",
              "      <div>\n",
              "<style scoped>\n",
              "    .dataframe tbody tr th:only-of-type {\n",
              "        vertical-align: middle;\n",
              "    }\n",
              "\n",
              "    .dataframe tbody tr th {\n",
              "        vertical-align: top;\n",
              "    }\n",
              "\n",
              "    .dataframe thead th {\n",
              "        text-align: right;\n",
              "    }\n",
              "</style>\n",
              "<table border=\"1\" class=\"dataframe\">\n",
              "  <thead>\n",
              "    <tr style=\"text-align: right;\">\n",
              "      <th></th>\n",
              "      <th>STATISTIC CODE</th>\n",
              "      <th>Statistic</th>\n",
              "      <th>TLIST(A1)</th>\n",
              "      <th>Year</th>\n",
              "      <th>C01782V02140</th>\n",
              "      <th>Type of Cattle</th>\n",
              "      <th>UNIT</th>\n",
              "      <th>VALUE</th>\n",
              "    </tr>\n",
              "  </thead>\n",
              "  <tbody>\n",
              "    <tr>\n",
              "      <th>count</th>\n",
              "      <td>1288</td>\n",
              "      <td>1288</td>\n",
              "      <td>1288.000000</td>\n",
              "      <td>1288.000000</td>\n",
              "      <td>1288</td>\n",
              "      <td>1288</td>\n",
              "      <td>1288</td>\n",
              "      <td>1207.000000</td>\n",
              "    </tr>\n",
              "    <tr>\n",
              "      <th>unique</th>\n",
              "      <td>2</td>\n",
              "      <td>2</td>\n",
              "      <td>NaN</td>\n",
              "      <td>NaN</td>\n",
              "      <td>14</td>\n",
              "      <td>14</td>\n",
              "      <td>1</td>\n",
              "      <td>NaN</td>\n",
              "    </tr>\n",
              "    <tr>\n",
              "      <th>top</th>\n",
              "      <td>AJA01C1</td>\n",
              "      <td>Cattle Price per Head</td>\n",
              "      <td>NaN</td>\n",
              "      <td>NaN</td>\n",
              "      <td>B200</td>\n",
              "      <td>Bullocks 200-249kg</td>\n",
              "      <td>Euro</td>\n",
              "      <td>NaN</td>\n",
              "    </tr>\n",
              "    <tr>\n",
              "      <th>freq</th>\n",
              "      <td>644</td>\n",
              "      <td>644</td>\n",
              "      <td>NaN</td>\n",
              "      <td>NaN</td>\n",
              "      <td>92</td>\n",
              "      <td>92</td>\n",
              "      <td>1288</td>\n",
              "      <td>NaN</td>\n",
              "    </tr>\n",
              "    <tr>\n",
              "      <th>mean</th>\n",
              "      <td>NaN</td>\n",
              "      <td>NaN</td>\n",
              "      <td>1998.500000</td>\n",
              "      <td>1998.500000</td>\n",
              "      <td>NaN</td>\n",
              "      <td>NaN</td>\n",
              "      <td>NaN</td>\n",
              "      <td>369.926001</td>\n",
              "    </tr>\n",
              "    <tr>\n",
              "      <th>std</th>\n",
              "      <td>NaN</td>\n",
              "      <td>NaN</td>\n",
              "      <td>13.281075</td>\n",
              "      <td>13.281075</td>\n",
              "      <td>NaN</td>\n",
              "      <td>NaN</td>\n",
              "      <td>NaN</td>\n",
              "      <td>258.764418</td>\n",
              "    </tr>\n",
              "    <tr>\n",
              "      <th>min</th>\n",
              "      <td>NaN</td>\n",
              "      <td>NaN</td>\n",
              "      <td>1976.000000</td>\n",
              "      <td>1976.000000</td>\n",
              "      <td>NaN</td>\n",
              "      <td>NaN</td>\n",
              "      <td>NaN</td>\n",
              "      <td>46.240000</td>\n",
              "    </tr>\n",
              "    <tr>\n",
              "      <th>25%</th>\n",
              "      <td>NaN</td>\n",
              "      <td>NaN</td>\n",
              "      <td>1987.000000</td>\n",
              "      <td>1987.000000</td>\n",
              "      <td>NaN</td>\n",
              "      <td>NaN</td>\n",
              "      <td>NaN</td>\n",
              "      <td>154.950000</td>\n",
              "    </tr>\n",
              "    <tr>\n",
              "      <th>50%</th>\n",
              "      <td>NaN</td>\n",
              "      <td>NaN</td>\n",
              "      <td>1998.500000</td>\n",
              "      <td>1998.500000</td>\n",
              "      <td>NaN</td>\n",
              "      <td>NaN</td>\n",
              "      <td>NaN</td>\n",
              "      <td>228.073462</td>\n",
              "    </tr>\n",
              "    <tr>\n",
              "      <th>75%</th>\n",
              "      <td>NaN</td>\n",
              "      <td>NaN</td>\n",
              "      <td>2010.000000</td>\n",
              "      <td>2010.000000</td>\n",
              "      <td>NaN</td>\n",
              "      <td>NaN</td>\n",
              "      <td>NaN</td>\n",
              "      <td>560.516376</td>\n",
              "    </tr>\n",
              "    <tr>\n",
              "      <th>max</th>\n",
              "      <td>NaN</td>\n",
              "      <td>NaN</td>\n",
              "      <td>2021.000000</td>\n",
              "      <td>2021.000000</td>\n",
              "      <td>NaN</td>\n",
              "      <td>NaN</td>\n",
              "      <td>NaN</td>\n",
              "      <td>1175.876638</td>\n",
              "    </tr>\n",
              "  </tbody>\n",
              "</table>\n",
              "</div>\n",
              "      <button class=\"colab-df-convert\" onclick=\"convertToInteractive('df-b1152de8-1981-4d8c-b282-9c23d9111c1a')\"\n",
              "              title=\"Convert this dataframe to an interactive table.\"\n",
              "              style=\"display:none;\">\n",
              "        \n",
              "  <svg xmlns=\"http://www.w3.org/2000/svg\" height=\"24px\"viewBox=\"0 0 24 24\"\n",
              "       width=\"24px\">\n",
              "    <path d=\"M0 0h24v24H0V0z\" fill=\"none\"/>\n",
              "    <path d=\"M18.56 5.44l.94 2.06.94-2.06 2.06-.94-2.06-.94-.94-2.06-.94 2.06-2.06.94zm-11 1L8.5 8.5l.94-2.06 2.06-.94-2.06-.94L8.5 2.5l-.94 2.06-2.06.94zm10 10l.94 2.06.94-2.06 2.06-.94-2.06-.94-.94-2.06-.94 2.06-2.06.94z\"/><path d=\"M17.41 7.96l-1.37-1.37c-.4-.4-.92-.59-1.43-.59-.52 0-1.04.2-1.43.59L10.3 9.45l-7.72 7.72c-.78.78-.78 2.05 0 2.83L4 21.41c.39.39.9.59 1.41.59.51 0 1.02-.2 1.41-.59l7.78-7.78 2.81-2.81c.8-.78.8-2.07 0-2.86zM5.41 20L4 18.59l7.72-7.72 1.47 1.35L5.41 20z\"/>\n",
              "  </svg>\n",
              "      </button>\n",
              "      \n",
              "  <style>\n",
              "    .colab-df-container {\n",
              "      display:flex;\n",
              "      flex-wrap:wrap;\n",
              "      gap: 12px;\n",
              "    }\n",
              "\n",
              "    .colab-df-convert {\n",
              "      background-color: #E8F0FE;\n",
              "      border: none;\n",
              "      border-radius: 50%;\n",
              "      cursor: pointer;\n",
              "      display: none;\n",
              "      fill: #1967D2;\n",
              "      height: 32px;\n",
              "      padding: 0 0 0 0;\n",
              "      width: 32px;\n",
              "    }\n",
              "\n",
              "    .colab-df-convert:hover {\n",
              "      background-color: #E2EBFA;\n",
              "      box-shadow: 0px 1px 2px rgba(60, 64, 67, 0.3), 0px 1px 3px 1px rgba(60, 64, 67, 0.15);\n",
              "      fill: #174EA6;\n",
              "    }\n",
              "\n",
              "    [theme=dark] .colab-df-convert {\n",
              "      background-color: #3B4455;\n",
              "      fill: #D2E3FC;\n",
              "    }\n",
              "\n",
              "    [theme=dark] .colab-df-convert:hover {\n",
              "      background-color: #434B5C;\n",
              "      box-shadow: 0px 1px 3px 1px rgba(0, 0, 0, 0.15);\n",
              "      filter: drop-shadow(0px 1px 2px rgba(0, 0, 0, 0.3));\n",
              "      fill: #FFFFFF;\n",
              "    }\n",
              "  </style>\n",
              "\n",
              "      <script>\n",
              "        const buttonEl =\n",
              "          document.querySelector('#df-b1152de8-1981-4d8c-b282-9c23d9111c1a button.colab-df-convert');\n",
              "        buttonEl.style.display =\n",
              "          google.colab.kernel.accessAllowed ? 'block' : 'none';\n",
              "\n",
              "        async function convertToInteractive(key) {\n",
              "          const element = document.querySelector('#df-b1152de8-1981-4d8c-b282-9c23d9111c1a');\n",
              "          const dataTable =\n",
              "            await google.colab.kernel.invokeFunction('convertToInteractive',\n",
              "                                                     [key], {});\n",
              "          if (!dataTable) return;\n",
              "\n",
              "          const docLinkHtml = 'Like what you see? Visit the ' +\n",
              "            '<a target=\"_blank\" href=https://colab.research.google.com/notebooks/data_table.ipynb>data table notebook</a>'\n",
              "            + ' to learn more about interactive tables.';\n",
              "          element.innerHTML = '';\n",
              "          dataTable['output_type'] = 'display_data';\n",
              "          await google.colab.output.renderOutput(dataTable, element);\n",
              "          const docLink = document.createElement('div');\n",
              "          docLink.innerHTML = docLinkHtml;\n",
              "          element.appendChild(docLink);\n",
              "        }\n",
              "      </script>\n",
              "    </div>\n",
              "  </div>\n",
              "  "
            ]
          },
          "metadata": {},
          "execution_count": 356
        }
      ],
      "source": [
        "df.describe(include=\"all\")"
      ]
    },
    {
      "cell_type": "code",
      "execution_count": 357,
      "metadata": {
        "colab": {
          "base_uri": "https://localhost:8080/"
        },
        "id": "aZIE390dW6Y5",
        "outputId": "0082f27c-91d2-484e-951f-390b812991d2"
      },
      "outputs": [
        {
          "output_type": "execute_result",
          "data": {
            "text/plain": [
              "STATISTIC CODE     0\n",
              "Statistic          0\n",
              "TLIST(A1)          0\n",
              "Year               0\n",
              "C01782V02140       0\n",
              "Type of Cattle     0\n",
              "UNIT               0\n",
              "VALUE             81\n",
              "dtype: int64"
            ]
          },
          "metadata": {},
          "execution_count": 357
        }
      ],
      "source": [
        "df.isna().sum()"
      ]
    },
    {
      "cell_type": "code",
      "execution_count": 358,
      "metadata": {
        "id": "mLZA-2D5XBXc"
      },
      "outputs": [],
      "source": [
        "import seaborn as sns\n",
        "sns.set()\n",
        "import matplotlib.pyplot as plt"
      ]
    },
    {
      "cell_type": "code",
      "execution_count": 359,
      "metadata": {
        "colab": {
          "base_uri": "https://localhost:8080/",
          "height": 357
        },
        "id": "TL3iVSgxXOcn",
        "outputId": "142d661e-dbe5-4b41-9813-e8c5eaf3d29b"
      },
      "outputs": [
        {
          "output_type": "stream",
          "name": "stderr",
          "text": [
            "/usr/local/lib/python3.7/dist-packages/seaborn/distributions.py:2619: FutureWarning: `distplot` is a deprecated function and will be removed in a future version. Please adapt your code to use either `displot` (a figure-level function with similar flexibility) or `histplot` (an axes-level function for histograms).\n",
            "  warnings.warn(msg, FutureWarning)\n"
          ]
        },
        {
          "output_type": "execute_result",
          "data": {
            "text/plain": [
              "<matplotlib.axes._subplots.AxesSubplot at 0x7fae1ccd0490>"
            ]
          },
          "metadata": {},
          "execution_count": 359
        },
        {
          "output_type": "display_data",
          "data": {
            "text/plain": [
              "<Figure size 432x288 with 1 Axes>"
            ],
            "image/png": "[encoded data removed]"
          },
          "metadata": {}
        }
      ],
      "source": [
        "sns.distplot(df['VALUE'])"
      ]
    },
    {
      "cell_type": "code",
      "execution_count": 360,
      "metadata": {
        "id": "fLCdjbjFqNk8"
      },
      "outputs": [],
      "source": [
        "new = df['Type of Cattle'].str.split(\" \", n = 1, expand=True)"
      ]
    },
    {
      "cell_type": "code",
      "execution_count": 361,
      "metadata": {
        "id": "6hkhA4g7qaXW"
      },
      "outputs": [],
      "source": [
        "df['Type of Cattle'] = new[0]\n",
        "df.insert(6, \"Weight\", new[1])"
      ]
    },
    {
      "cell_type": "code",
      "execution_count": 362,
      "metadata": {
        "colab": {
          "base_uri": "https://localhost:8080/",
          "height": 659
        },
        "id": "isA2NaDVqmdW",
        "outputId": "b8ab9b7a-6e87-4c3f-b9a8-439fea01e9d2"
      },
      "outputs": [
        {
          "output_type": "execute_result",
          "data": {
            "text/plain": [
              "     STATISTIC CODE                Statistic  TLIST(A1)  Year C01782V02140  \\\n",
              "0           AJA01C1    Cattle Price per Head       1976  1976         B200   \n",
              "1           AJA01C1    Cattle Price per Head       1976  1976         B250   \n",
              "2           AJA01C1    Cattle Price per Head       1976  1976         B300   \n",
              "3           AJA01C1    Cattle Price per Head       1976  1976         B350   \n",
              "4           AJA01C1    Cattle Price per Head       1976  1976         B400   \n",
              "...             ...                      ...        ...   ...          ...   \n",
              "1283        AJA01C2  Cattle Price per 100 Kg       2021  2021         H250   \n",
              "1284        AJA01C2  Cattle Price per 100 Kg       2021  2021         H300   \n",
              "1285        AJA01C2  Cattle Price per 100 Kg       2021  2021         H350   \n",
              "1286        AJA01C2  Cattle Price per 100 Kg       2021  2021         H400   \n",
              "1287        AJA01C2  Cattle Price per 100 Kg       2021  2021         SCOW   \n",
              "\n",
              "     Type of Cattle         Weight  UNIT       VALUE  \n",
              "0          Bullocks      200-249kg  Euro         NaN  \n",
              "1          Bullocks      250-299kg  Euro         NaN  \n",
              "2          Bullocks      300-349kg  Euro  238.290000  \n",
              "3          Bullocks      350-399kg  Euro  270.470000  \n",
              "4          Bullocks      400-449kg  Euro  302.430000  \n",
              "...             ...            ...   ...         ...  \n",
              "1283        Heifers      250-299kg  Euro  216.991177  \n",
              "1284        Heifers      300-349kg  Euro  215.245632  \n",
              "1285        Heifers      350-399kg  Euro  216.965995  \n",
              "1286        Heifers      400-449kg  Euro  216.796269  \n",
              "1287           Cows  for slaughter  Euro         NaN  \n",
              "\n",
              "[1288 rows x 9 columns]"
            ],
            "text/html": [
              "\n",
              "  <div id=\"df-80217c80-153f-4d43-aea1-4cb68fd6979d\">\n",
              "    <div class=\"colab-df-container\">\n",
              "      <div>\n",
              "<style scoped>\n",
              "    .dataframe tbody tr th:only-of-type {\n",
              "        vertical-align: middle;\n",
              "    }\n",
              "\n",
              "    .dataframe tbody tr th {\n",
              "        vertical-align: top;\n",
              "    }\n",
              "\n",
              "    .dataframe thead th {\n",
              "        text-align: right;\n",
              "    }\n",
              "</style>\n",
              "<table border=\"1\" class=\"dataframe\">\n",
              "  <thead>\n",
              "    <tr style=\"text-align: right;\">\n",
              "      <th></th>\n",
              "      <th>STATISTIC CODE</th>\n",
              "      <th>Statistic</th>\n",
              "      <th>TLIST(A1)</th>\n",
              "      <th>Year</th>\n",
              "      <th>C01782V02140</th>\n",
              "      <th>Type of Cattle</th>\n",
              "      <th>Weight</th>\n",
              "      <th>UNIT</th>\n",
              "      <th>VALUE</th>\n",
              "    </tr>\n",
              "  </thead>\n",
              "  <tbody>\n",
              "    <tr>\n",
              "      <th>0</th>\n",
              "      <td>AJA01C1</td>\n",
              "      <td>Cattle Price per Head</td>\n",
              "      <td>1976</td>\n",
              "      <td>1976</td>\n",
              "      <td>B200</td>\n",
              "      <td>Bullocks</td>\n",
              "      <td>200-249kg</td>\n",
              "      <td>Euro</td>\n",
              "      <td>NaN</td>\n",
              "    </tr>\n",
              "    <tr>\n",
              "      <th>1</th>\n",
              "      <td>AJA01C1</td>\n",
              "      <td>Cattle Price per Head</td>\n",
              "      <td>1976</td>\n",
              "      <td>1976</td>\n",
              "      <td>B250</td>\n",
              "      <td>Bullocks</td>\n",
              "      <td>250-299kg</td>\n",
              "      <td>Euro</td>\n",
              "      <td>NaN</td>\n",
              "    </tr>\n",
              "    <tr>\n",
              "      <th>2</th>\n",
              "      <td>AJA01C1</td>\n",
              "      <td>Cattle Price per Head</td>\n",
              "      <td>1976</td>\n",
              "      <td>1976</td>\n",
              "      <td>B300</td>\n",
              "      <td>Bullocks</td>\n",
              "      <td>300-349kg</td>\n",
              "      <td>Euro</td>\n",
              "      <td>238.290000</td>\n",
              "    </tr>\n",
              "    <tr>\n",
              "      <th>3</th>\n",
              "      <td>AJA01C1</td>\n",
              "      <td>Cattle Price per Head</td>\n",
              "      <td>1976</td>\n",
              "      <td>1976</td>\n",
              "      <td>B350</td>\n",
              "      <td>Bullocks</td>\n",
              "      <td>350-399kg</td>\n",
              "      <td>Euro</td>\n",
              "      <td>270.470000</td>\n",
              "    </tr>\n",
              "    <tr>\n",
              "      <th>4</th>\n",
              "      <td>AJA01C1</td>\n",
              "      <td>Cattle Price per Head</td>\n",
              "      <td>1976</td>\n",
              "      <td>1976</td>\n",
              "      <td>B400</td>\n",
              "      <td>Bullocks</td>\n",
              "      <td>400-449kg</td>\n",
              "      <td>Euro</td>\n",
              "      <td>302.430000</td>\n",
              "    </tr>\n",
              "    <tr>\n",
              "      <th>...</th>\n",
              "      <td>...</td>\n",
              "      <td>...</td>\n",
              "      <td>...</td>\n",
              "      <td>...</td>\n",
              "      <td>...</td>\n",
              "      <td>...</td>\n",
              "      <td>...</td>\n",
              "      <td>...</td>\n",
              "      <td>...</td>\n",
              "    </tr>\n",
              "    <tr>\n",
              "      <th>1283</th>\n",
              "      <td>AJA01C2</td>\n",
              "      <td>Cattle Price per 100 Kg</td>\n",
              "      <td>2021</td>\n",
              "      <td>2021</td>\n",
              "      <td>H250</td>\n",
              "      <td>Heifers</td>\n",
              "      <td>250-299kg</td>\n",
              "      <td>Euro</td>\n",
              "      <td>216.991177</td>\n",
              "    </tr>\n",
              "    <tr>\n",
              "      <th>1284</th>\n",
              "      <td>AJA01C2</td>\n",
              "      <td>Cattle Price per 100 Kg</td>\n",
              "      <td>2021</td>\n",
              "      <td>2021</td>\n",
              "      <td>H300</td>\n",
              "      <td>Heifers</td>\n",
              "      <td>300-349kg</td>\n",
              "      <td>Euro</td>\n",
              "      <td>215.245632</td>\n",
              "    </tr>\n",
              "    <tr>\n",
              "      <th>1285</th>\n",
              "      <td>AJA01C2</td>\n",
              "      <td>Cattle Price per 100 Kg</td>\n",
              "      <td>2021</td>\n",
              "      <td>2021</td>\n",
              "      <td>H350</td>\n",
              "      <td>Heifers</td>\n",
              "      <td>350-399kg</td>\n",
              "      <td>Euro</td>\n",
              "      <td>216.965995</td>\n",
              "    </tr>\n",
              "    <tr>\n",
              "      <th>1286</th>\n",
              "      <td>AJA01C2</td>\n",
              "      <td>Cattle Price per 100 Kg</td>\n",
              "      <td>2021</td>\n",
              "      <td>2021</td>\n",
              "      <td>H400</td>\n",
              "      <td>Heifers</td>\n",
              "      <td>400-449kg</td>\n",
              "      <td>Euro</td>\n",
              "      <td>216.796269</td>\n",
              "    </tr>\n",
              "    <tr>\n",
              "      <th>1287</th>\n",
              "      <td>AJA01C2</td>\n",
              "      <td>Cattle Price per 100 Kg</td>\n",
              "      <td>2021</td>\n",
              "      <td>2021</td>\n",
              "      <td>SCOW</td>\n",
              "      <td>Cows</td>\n",
              "      <td>for slaughter</td>\n",
              "      <td>Euro</td>\n",
              "      <td>NaN</td>\n",
              "    </tr>\n",
              "  </tbody>\n",
              "</table>\n",
              "<p>1288 rows × 9 columns</p>\n",
              "</div>\n",
              "      <button class=\"colab-df-convert\" onclick=\"convertToInteractive('df-80217c80-153f-4d43-aea1-4cb68fd6979d')\"\n",
              "              title=\"Convert this dataframe to an interactive table.\"\n",
              "              style=\"display:none;\">\n",
              "        \n",
              "  <svg xmlns=\"http://www.w3.org/2000/svg\" height=\"24px\"viewBox=\"0 0 24 24\"\n",
              "       width=\"24px\">\n",
              "    <path d=\"M0 0h24v24H0V0z\" fill=\"none\"/>\n",
              "    <path d=\"M18.56 5.44l.94 2.06.94-2.06 2.06-.94-2.06-.94-.94-2.06-.94 2.06-2.06.94zm-11 1L8.5 8.5l.94-2.06 2.06-.94-2.06-.94L8.5 2.5l-.94 2.06-2.06.94zm10 10l.94 2.06.94-2.06 2.06-.94-2.06-.94-.94-2.06-.94 2.06-2.06.94z\"/><path d=\"M17.41 7.96l-1.37-1.37c-.4-.4-.92-.59-1.43-.59-.52 0-1.04.2-1.43.59L10.3 9.45l-7.72 7.72c-.78.78-.78 2.05 0 2.83L4 21.41c.39.39.9.59 1.41.59.51 0 1.02-.2 1.41-.59l7.78-7.78 2.81-2.81c.8-.78.8-2.07 0-2.86zM5.41 20L4 18.59l7.72-7.72 1.47 1.35L5.41 20z\"/>\n",
              "  </svg>\n",
              "      </button>\n",
              "      \n",
              "  <style>\n",
              "    .colab-df-container {\n",
              "      display:flex;\n",
              "      flex-wrap:wrap;\n",
              "      gap: 12px;\n",
              "    }\n",
              "\n",
              "    .colab-df-convert {\n",
              "      background-color: #E8F0FE;\n",
              "      border: none;\n",
              "      border-radius: 50%;\n",
              "      cursor: pointer;\n",
              "      display: none;\n",
              "      fill: #1967D2;\n",
              "      height: 32px;\n",
              "      padding: 0 0 0 0;\n",
              "      width: 32px;\n",
              "    }\n",
              "\n",
              "    .colab-df-convert:hover {\n",
              "      background-color: #E2EBFA;\n",
              "      box-shadow: 0px 1px 2px rgba(60, 64, 67, 0.3), 0px 1px 3px 1px rgba(60, 64, 67, 0.15);\n",
              "      fill: #174EA6;\n",
              "    }\n",
              "\n",
              "    [theme=dark] .colab-df-convert {\n",
              "      background-color: #3B4455;\n",
              "      fill: #D2E3FC;\n",
              "    }\n",
              "\n",
              "    [theme=dark] .colab-df-convert:hover {\n",
              "      background-color: #434B5C;\n",
              "      box-shadow: 0px 1px 3px 1px rgba(0, 0, 0, 0.15);\n",
              "      filter: drop-shadow(0px 1px 2px rgba(0, 0, 0, 0.3));\n",
              "      fill: #FFFFFF;\n",
              "    }\n",
              "  </style>\n",
              "\n",
              "      <script>\n",
              "        const buttonEl =\n",
              "          document.querySelector('#df-80217c80-153f-4d43-aea1-4cb68fd6979d button.colab-df-convert');\n",
              "        buttonEl.style.display =\n",
              "          google.colab.kernel.accessAllowed ? 'block' : 'none';\n",
              "\n",
              "        async function convertToInteractive(key) {\n",
              "          const element = document.querySelector('#df-80217c80-153f-4d43-aea1-4cb68fd6979d');\n",
              "          const dataTable =\n",
              "            await google.colab.kernel.invokeFunction('convertToInteractive',\n",
              "                                                     [key], {});\n",
              "          if (!dataTable) return;\n",
              "\n",
              "          const docLinkHtml = 'Like what you see? Visit the ' +\n",
              "            '<a target=\"_blank\" href=https://colab.research.google.com/notebooks/data_table.ipynb>data table notebook</a>'\n",
              "            + ' to learn more about interactive tables.';\n",
              "          element.innerHTML = '';\n",
              "          dataTable['output_type'] = 'display_data';\n",
              "          await google.colab.output.renderOutput(dataTable, element);\n",
              "          const docLink = document.createElement('div');\n",
              "          docLink.innerHTML = docLinkHtml;\n",
              "          element.appendChild(docLink);\n",
              "        }\n",
              "      </script>\n",
              "    </div>\n",
              "  </div>\n",
              "  "
            ]
          },
          "metadata": {},
          "execution_count": 362
        }
      ],
      "source": [
        "df"
      ]
    },
    {
      "cell_type": "code",
      "execution_count": 363,
      "metadata": {
        "id": "yX5B7wt9rf_V"
      },
      "outputs": [],
      "source": [
        "from sklearn.impute import SimpleImputer\n",
        "import pandas as pd\n",
        "import numpy as np\n",
        "\n",
        "x = df['Weight']\n",
        "y = df['VALUE']\n",
        "newprice = df.iloc[:, 8].values\n"
      ]
    },
    {
      "cell_type": "code",
      "execution_count": 364,
      "metadata": {
        "colab": {
          "base_uri": "https://localhost:8080/"
        },
        "id": "ogCA4Zwz0_xW",
        "outputId": "18943a28-c572-4ecf-b0b3-c2db4b0721bd"
      },
      "outputs": [
        {
          "output_type": "execute_result",
          "data": {
            "text/plain": [
              "array([[         nan],\n",
              "       [         nan],\n",
              "       [238.29      ],\n",
              "       ...,\n",
              "       [216.96599474],\n",
              "       [216.79626892],\n",
              "       [         nan]])"
            ]
          },
          "metadata": {},
          "execution_count": 364
        }
      ],
      "source": [
        "price = newprice.reshape(-1, 1)\n",
        "price"
      ]
    },
    {
      "cell_type": "code",
      "execution_count": 365,
      "metadata": {
        "colab": {
          "base_uri": "https://localhost:8080/"
        },
        "id": "t4dfTuBZ0qXv",
        "outputId": "31c566f6-79a8-4405-caf9-e6009d8ec3e4"
      },
      "outputs": [
        {
          "output_type": "stream",
          "name": "stdout",
          "text": [
            "[[228.07346206]\n",
            " [228.07346206]\n",
            " [238.29      ]\n",
            " ...\n",
            " [216.96599474]\n",
            " [216.79626892]\n",
            " [228.07346206]]\n"
          ]
        }
      ],
      "source": [
        "#To calculate the median use imputer class\n",
        "imputer = SimpleImputer(missing_values=np.nan, strategy=\"median\")\n",
        "imputer = imputer.fit(price)\n",
        "y = imputer.transform(price)\n",
        "print(y)"
      ]
    },
    {
      "cell_type": "code",
      "execution_count": 366,
      "metadata": {
        "id": "P8cze5xc1tin"
      },
      "outputs": [],
      "source": [
        "df['VALUE'] = y"
      ]
    },
    {
      "cell_type": "code",
      "execution_count": 367,
      "metadata": {
        "colab": {
          "base_uri": "https://localhost:8080/"
        },
        "id": "q8wxr-mb2M6S",
        "outputId": "0c29919f-d304-413b-e5f9-1c0fb45eb4b0"
      },
      "outputs": [
        {
          "output_type": "execute_result",
          "data": {
            "text/plain": [
              "STATISTIC CODE    0\n",
              "Statistic         0\n",
              "TLIST(A1)         0\n",
              "Year              0\n",
              "C01782V02140      0\n",
              "Type of Cattle    0\n",
              "Weight            0\n",
              "UNIT              0\n",
              "VALUE             0\n",
              "dtype: int64"
            ]
          },
          "metadata": {},
          "execution_count": 367
        }
      ],
      "source": [
        "df.isna().sum()"
      ]
    },
    {
      "cell_type": "code",
      "execution_count": 368,
      "metadata": {
        "id": "FdpN2DCg3wUI"
      },
      "outputs": [],
      "source": [
        "df['Type of Cattle'] = df['Type of Cattle'].replace(\"Cows\", \"Bullocks\")\n",
        "df['Weight'] = df['Weight'].replace(\"for slaughter\", \"550\")"
      ]
    },
    {
      "cell_type": "code",
      "execution_count": 369,
      "metadata": {
        "id": "Rlnhus5y72BX"
      },
      "outputs": [],
      "source": [
        "df.rename(columns = {'Weight': 'Weight in kg'}, inplace=True)"
      ]
    },
    {
      "cell_type": "code",
      "execution_count": 370,
      "metadata": {
        "id": "_PHkijDd-OlR",
        "colab": {
          "base_uri": "https://localhost:8080/"
        },
        "outputId": "fe5411b9-5c2f-4efb-c2c8-04f44781df10"
      },
      "outputs": [
        {
          "output_type": "execute_result",
          "data": {
            "text/plain": [
              "STATISTIC CODE     object\n",
              "Statistic          object\n",
              "TLIST(A1)           int64\n",
              "Year                int64\n",
              "C01782V02140       object\n",
              "Type of Cattle     object\n",
              "Weight in kg       object\n",
              "UNIT               object\n",
              "VALUE             float64\n",
              "dtype: object"
            ]
          },
          "metadata": {},
          "execution_count": 370
        }
      ],
      "source": [
        "df['Weight in kg']\n",
        "type(df['Weight in kg'])\n",
        "df.dtypes"
      ]
    },
    {
      "cell_type": "code",
      "execution_count": 371,
      "metadata": {
        "colab": {
          "base_uri": "https://localhost:8080/"
        },
        "id": "usf0moPWBC5v",
        "outputId": "cf6f1f05-d5af-4b64-b73e-f00d7b25928b"
      },
      "outputs": [
        {
          "output_type": "stream",
          "name": "stderr",
          "text": [
            "/usr/local/lib/python3.7/dist-packages/ipykernel_launcher.py:1: FutureWarning: The default value of regex will change from True to False in a future version.\n",
            "  \"\"\"Entry point for launching an IPython kernel.\n"
          ]
        }
      ],
      "source": [
        "df['Weight in kg'] = df['Weight in kg'].str.replace('\\D', ' ')"
      ]
    },
    {
      "cell_type": "code",
      "execution_count": 372,
      "metadata": {
        "id": "KOlLCw8AH6bk"
      },
      "outputs": [],
      "source": [
        "new2 = df['Weight in kg'].str.split(\" \", n = 1, expand=True)\n",
        "split1 = df.insert(7, \"Min Weight in kg\", new2[0])\n",
        "split2 = df.insert(8, \"Max Weight in kg\", new2[1])"
      ]
    },
    {
      "cell_type": "code",
      "execution_count": 373,
      "metadata": {
        "id": "k4-MUkJoIyTy"
      },
      "outputs": [],
      "source": [
        "data1 = df.copy()\n",
        "data1['Min Weight in kg'] = pd.to_numeric(data1['Min Weight in kg'])\n"
      ]
    },
    {
      "cell_type": "code",
      "execution_count": 374,
      "metadata": {
        "colab": {
          "base_uri": "https://localhost:8080/"
        },
        "id": "0k6RWVGrSbft",
        "outputId": "aa75dfac-e270-48cc-c09e-01bc637a8c42"
      },
      "outputs": [
        {
          "output_type": "execute_result",
          "data": {
            "text/plain": [
              "dtype('int64')"
            ]
          },
          "metadata": {},
          "execution_count": 374
        }
      ],
      "source": [
        "data1['Min Weight in kg'].dtypes"
      ]
    },
    {
      "cell_type": "code",
      "execution_count": 375,
      "metadata": {
        "colab": {
          "base_uri": "https://localhost:8080/",
          "height": 357
        },
        "id": "abIuQz5abXle",
        "outputId": "5a2fbf77-d986-4f90-bcb0-f6eb1e5055aa"
      },
      "outputs": [
        {
          "output_type": "stream",
          "name": "stderr",
          "text": [
            "/usr/local/lib/python3.7/dist-packages/seaborn/distributions.py:2619: FutureWarning: `distplot` is a deprecated function and will be removed in a future version. Please adapt your code to use either `displot` (a figure-level function with similar flexibility) or `histplot` (an axes-level function for histograms).\n",
            "  warnings.warn(msg, FutureWarning)\n"
          ]
        },
        {
          "output_type": "execute_result",
          "data": {
            "text/plain": [
              "<matplotlib.axes._subplots.AxesSubplot at 0x7fae1cb7ac50>"
            ]
          },
          "metadata": {},
          "execution_count": 375
        },
        {
          "output_type": "display_data",
          "data": {
            "text/plain": [
              "<Figure size 432x288 with 1 Axes>"
            ],
            "image/png": "[encoded data removed]"
          },
          "metadata": {}
        }
      ],
      "source": [
        "sns.distplot(data1['Min Weight in kg'])"
      ]
    },
    {
      "cell_type": "code",
      "execution_count": 376,
      "metadata": {
        "id": "78zPO9abPnlV"
      },
      "outputs": [],
      "source": [
        "data1['Min Weight in kg'] = data1['Min Weight in kg'].fillna(550)\n",
        "data1['Max Weight in kg'] = pd.to_numeric(data1['Max Weight in kg'], errors= 'coerce')"
      ]
    },
    {
      "cell_type": "code",
      "execution_count": 377,
      "metadata": {
        "colab": {
          "base_uri": "https://localhost:8080/",
          "height": 676
        },
        "id": "5OSVcOardfLr",
        "outputId": "a38aedfb-e124-4f8a-b1ee-e64ab74de3fb"
      },
      "outputs": [
        {
          "output_type": "execute_result",
          "data": {
            "text/plain": [
              "     STATISTIC CODE                Statistic  TLIST(A1)  Year C01782V02140  \\\n",
              "0           AJA01C1    Cattle Price per Head       1976  1976         B200   \n",
              "1           AJA01C1    Cattle Price per Head       1976  1976         B250   \n",
              "2           AJA01C1    Cattle Price per Head       1976  1976         B300   \n",
              "3           AJA01C1    Cattle Price per Head       1976  1976         B350   \n",
              "4           AJA01C1    Cattle Price per Head       1976  1976         B400   \n",
              "...             ...                      ...        ...   ...          ...   \n",
              "1283        AJA01C2  Cattle Price per 100 Kg       2021  2021         H250   \n",
              "1284        AJA01C2  Cattle Price per 100 Kg       2021  2021         H300   \n",
              "1285        AJA01C2  Cattle Price per 100 Kg       2021  2021         H350   \n",
              "1286        AJA01C2  Cattle Price per 100 Kg       2021  2021         H400   \n",
              "1287        AJA01C2  Cattle Price per 100 Kg       2021  2021         SCOW   \n",
              "\n",
              "     Type of Cattle Weight in kg  Min Weight in kg  Max Weight in kg  UNIT  \\\n",
              "0          Bullocks    200 249                 200             249.0  Euro   \n",
              "1          Bullocks    250 299                 250             299.0  Euro   \n",
              "2          Bullocks    300 349                 300             349.0  Euro   \n",
              "3          Bullocks    350 399                 350             399.0  Euro   \n",
              "4          Bullocks    400 449                 400             449.0  Euro   \n",
              "...             ...          ...               ...               ...   ...   \n",
              "1283        Heifers    250 299                 250             299.0  Euro   \n",
              "1284        Heifers    300 349                 300             349.0  Euro   \n",
              "1285        Heifers    350 399                 350             399.0  Euro   \n",
              "1286        Heifers    400 449                 400             449.0  Euro   \n",
              "1287       Bullocks          550               550               NaN  Euro   \n",
              "\n",
              "           VALUE  \n",
              "0     228.073462  \n",
              "1     228.073462  \n",
              "2     238.290000  \n",
              "3     270.470000  \n",
              "4     302.430000  \n",
              "...          ...  \n",
              "1283  216.991177  \n",
              "1284  215.245632  \n",
              "1285  216.965995  \n",
              "1286  216.796269  \n",
              "1287  228.073462  \n",
              "\n",
              "[1288 rows x 11 columns]"
            ],
            "text/html": [
              "\n",
              "  <div id=\"df-f5923abf-a27b-4cbb-9a69-1c392dce86c6\">\n",
              "    <div class=\"colab-df-container\">\n",
              "      <div>\n",
              "<style scoped>\n",
              "    .dataframe tbody tr th:only-of-type {\n",
              "        vertical-align: middle;\n",
              "    }\n",
              "\n",
              "    .dataframe tbody tr th {\n",
              "        vertical-align: top;\n",
              "    }\n",
              "\n",
              "    .dataframe thead th {\n",
              "        text-align: right;\n",
              "    }\n",
              "</style>\n",
              "<table border=\"1\" class=\"dataframe\">\n",
              "  <thead>\n",
              "    <tr style=\"text-align: right;\">\n",
              "      <th></th>\n",
              "      <th>STATISTIC CODE</th>\n",
              "      <th>Statistic</th>\n",
              "      <th>TLIST(A1)</th>\n",
              "      <th>Year</th>\n",
              "      <th>C01782V02140</th>\n",
              "      <th>Type of Cattle</th>\n",
              "      <th>Weight in kg</th>\n",
              "      <th>Min Weight in kg</th>\n",
              "      <th>Max Weight in kg</th>\n",
              "      <th>UNIT</th>\n",
              "      <th>VALUE</th>\n",
              "    </tr>\n",
              "  </thead>\n",
              "  <tbody>\n",
              "    <tr>\n",
              "      <th>0</th>\n",
              "      <td>AJA01C1</td>\n",
              "      <td>Cattle Price per Head</td>\n",
              "      <td>1976</td>\n",
              "      <td>1976</td>\n",
              "      <td>B200</td>\n",
              "      <td>Bullocks</td>\n",
              "      <td>200 249</td>\n",
              "      <td>200</td>\n",
              "      <td>249.0</td>\n",
              "      <td>Euro</td>\n",
              "      <td>228.073462</td>\n",
              "    </tr>\n",
              "    <tr>\n",
              "      <th>1</th>\n",
              "      <td>AJA01C1</td>\n",
              "      <td>Cattle Price per Head</td>\n",
              "      <td>1976</td>\n",
              "      <td>1976</td>\n",
              "      <td>B250</td>\n",
              "      <td>Bullocks</td>\n",
              "      <td>250 299</td>\n",
              "      <td>250</td>\n",
              "      <td>299.0</td>\n",
              "      <td>Euro</td>\n",
              "      <td>228.073462</td>\n",
              "    </tr>\n",
              "    <tr>\n",
              "      <th>2</th>\n",
              "      <td>AJA01C1</td>\n",
              "      <td>Cattle Price per Head</td>\n",
              "      <td>1976</td>\n",
              "      <td>1976</td>\n",
              "      <td>B300</td>\n",
              "      <td>Bullocks</td>\n",
              "      <td>300 349</td>\n",
              "      <td>300</td>\n",
              "      <td>349.0</td>\n",
              "      <td>Euro</td>\n",
              "      <td>238.290000</td>\n",
              "    </tr>\n",
              "    <tr>\n",
              "      <th>3</th>\n",
              "      <td>AJA01C1</td>\n",
              "      <td>Cattle Price per Head</td>\n",
              "      <td>1976</td>\n",
              "      <td>1976</td>\n",
              "      <td>B350</td>\n",
              "      <td>Bullocks</td>\n",
              "      <td>350 399</td>\n",
              "      <td>350</td>\n",
              "      <td>399.0</td>\n",
              "      <td>Euro</td>\n",
              "      <td>270.470000</td>\n",
              "    </tr>\n",
              "    <tr>\n",
              "      <th>4</th>\n",
              "      <td>AJA01C1</td>\n",
              "      <td>Cattle Price per Head</td>\n",
              "      <td>1976</td>\n",
              "      <td>1976</td>\n",
              "      <td>B400</td>\n",
              "      <td>Bullocks</td>\n",
              "      <td>400 449</td>\n",
              "      <td>400</td>\n",
              "      <td>449.0</td>\n",
              "      <td>Euro</td>\n",
              "      <td>302.430000</td>\n",
              "    </tr>\n",
              "    <tr>\n",
              "      <th>...</th>\n",
              "      <td>...</td>\n",
              "      <td>...</td>\n",
              "      <td>...</td>\n",
              "      <td>...</td>\n",
              "      <td>...</td>\n",
              "      <td>...</td>\n",
              "      <td>...</td>\n",
              "      <td>...</td>\n",
              "      <td>...</td>\n",
              "      <td>...</td>\n",
              "      <td>...</td>\n",
              "    </tr>\n",
              "    <tr>\n",
              "      <th>1283</th>\n",
              "      <td>AJA01C2</td>\n",
              "      <td>Cattle Price per 100 Kg</td>\n",
              "      <td>2021</td>\n",
              "      <td>2021</td>\n",
              "      <td>H250</td>\n",
              "      <td>Heifers</td>\n",
              "      <td>250 299</td>\n",
              "      <td>250</td>\n",
              "      <td>299.0</td>\n",
              "      <td>Euro</td>\n",
              "      <td>216.991177</td>\n",
              "    </tr>\n",
              "    <tr>\n",
              "      <th>1284</th>\n",
              "      <td>AJA01C2</td>\n",
              "      <td>Cattle Price per 100 Kg</td>\n",
              "      <td>2021</td>\n",
              "      <td>2021</td>\n",
              "      <td>H300</td>\n",
              "      <td>Heifers</td>\n",
              "      <td>300 349</td>\n",
              "      <td>300</td>\n",
              "      <td>349.0</td>\n",
              "      <td>Euro</td>\n",
              "      <td>215.245632</td>\n",
              "    </tr>\n",
              "    <tr>\n",
              "      <th>1285</th>\n",
              "      <td>AJA01C2</td>\n",
              "      <td>Cattle Price per 100 Kg</td>\n",
              "      <td>2021</td>\n",
              "      <td>2021</td>\n",
              "      <td>H350</td>\n",
              "      <td>Heifers</td>\n",
              "      <td>350 399</td>\n",
              "      <td>350</td>\n",
              "      <td>399.0</td>\n",
              "      <td>Euro</td>\n",
              "      <td>216.965995</td>\n",
              "    </tr>\n",
              "    <tr>\n",
              "      <th>1286</th>\n",
              "      <td>AJA01C2</td>\n",
              "      <td>Cattle Price per 100 Kg</td>\n",
              "      <td>2021</td>\n",
              "      <td>2021</td>\n",
              "      <td>H400</td>\n",
              "      <td>Heifers</td>\n",
              "      <td>400 449</td>\n",
              "      <td>400</td>\n",
              "      <td>449.0</td>\n",
              "      <td>Euro</td>\n",
              "      <td>216.796269</td>\n",
              "    </tr>\n",
              "    <tr>\n",
              "      <th>1287</th>\n",
              "      <td>AJA01C2</td>\n",
              "      <td>Cattle Price per 100 Kg</td>\n",
              "      <td>2021</td>\n",
              "      <td>2021</td>\n",
              "      <td>SCOW</td>\n",
              "      <td>Bullocks</td>\n",
              "      <td>550</td>\n",
              "      <td>550</td>\n",
              "      <td>NaN</td>\n",
              "      <td>Euro</td>\n",
              "      <td>228.073462</td>\n",
              "    </tr>\n",
              "  </tbody>\n",
              "</table>\n",
              "<p>1288 rows × 11 columns</p>\n",
              "</div>\n",
              "      <button class=\"colab-df-convert\" onclick=\"convertToInteractive('df-f5923abf-a27b-4cbb-9a69-1c392dce86c6')\"\n",
              "              title=\"Convert this dataframe to an interactive table.\"\n",
              "              style=\"display:none;\">\n",
              "        \n",
              "  <svg xmlns=\"http://www.w3.org/2000/svg\" height=\"24px\"viewBox=\"0 0 24 24\"\n",
              "       width=\"24px\">\n",
              "    <path d=\"M0 0h24v24H0V0z\" fill=\"none\"/>\n",
              "    <path d=\"M18.56 5.44l.94 2.06.94-2.06 2.06-.94-2.06-.94-.94-2.06-.94 2.06-2.06.94zm-11 1L8.5 8.5l.94-2.06 2.06-.94-2.06-.94L8.5 2.5l-.94 2.06-2.06.94zm10 10l.94 2.06.94-2.06 2.06-.94-2.06-.94-.94-2.06-.94 2.06-2.06.94z\"/><path d=\"M17.41 7.96l-1.37-1.37c-.4-.4-.92-.59-1.43-.59-.52 0-1.04.2-1.43.59L10.3 9.45l-7.72 7.72c-.78.78-.78 2.05 0 2.83L4 21.41c.39.39.9.59 1.41.59.51 0 1.02-.2 1.41-.59l7.78-7.78 2.81-2.81c.8-.78.8-2.07 0-2.86zM5.41 20L4 18.59l7.72-7.72 1.47 1.35L5.41 20z\"/>\n",
              "  </svg>\n",
              "      </button>\n",
              "      \n",
              "  <style>\n",
              "    .colab-df-container {\n",
              "      display:flex;\n",
              "      flex-wrap:wrap;\n",
              "      gap: 12px;\n",
              "    }\n",
              "\n",
              "    .colab-df-convert {\n",
              "      background-color: #E8F0FE;\n",
              "      border: none;\n",
              "      border-radius: 50%;\n",
              "      cursor: pointer;\n",
              "      display: none;\n",
              "      fill: #1967D2;\n",
              "      height: 32px;\n",
              "      padding: 0 0 0 0;\n",
              "      width: 32px;\n",
              "    }\n",
              "\n",
              "    .colab-df-convert:hover {\n",
              "      background-color: #E2EBFA;\n",
              "      box-shadow: 0px 1px 2px rgba(60, 64, 67, 0.3), 0px 1px 3px 1px rgba(60, 64, 67, 0.15);\n",
              "      fill: #174EA6;\n",
              "    }\n",
              "\n",
              "    [theme=dark] .colab-df-convert {\n",
              "      background-color: #3B4455;\n",
              "      fill: #D2E3FC;\n",
              "    }\n",
              "\n",
              "    [theme=dark] .colab-df-convert:hover {\n",
              "      background-color: #434B5C;\n",
              "      box-shadow: 0px 1px 3px 1px rgba(0, 0, 0, 0.15);\n",
              "      filter: drop-shadow(0px 1px 2px rgba(0, 0, 0, 0.3));\n",
              "      fill: #FFFFFF;\n",
              "    }\n",
              "  </style>\n",
              "\n",
              "      <script>\n",
              "        const buttonEl =\n",
              "          document.querySelector('#df-f5923abf-a27b-4cbb-9a69-1c392dce86c6 button.colab-df-convert');\n",
              "        buttonEl.style.display =\n",
              "          google.colab.kernel.accessAllowed ? 'block' : 'none';\n",
              "\n",
              "        async function convertToInteractive(key) {\n",
              "          const element = document.querySelector('#df-f5923abf-a27b-4cbb-9a69-1c392dce86c6');\n",
              "          const dataTable =\n",
              "            await google.colab.kernel.invokeFunction('convertToInteractive',\n",
              "                                                     [key], {});\n",
              "          if (!dataTable) return;\n",
              "\n",
              "          const docLinkHtml = 'Like what you see? Visit the ' +\n",
              "            '<a target=\"_blank\" href=https://colab.research.google.com/notebooks/data_table.ipynb>data table notebook</a>'\n",
              "            + ' to learn more about interactive tables.';\n",
              "          element.innerHTML = '';\n",
              "          dataTable['output_type'] = 'display_data';\n",
              "          await google.colab.output.renderOutput(dataTable, element);\n",
              "          const docLink = document.createElement('div');\n",
              "          docLink.innerHTML = docLinkHtml;\n",
              "          element.appendChild(docLink);\n",
              "        }\n",
              "      </script>\n",
              "    </div>\n",
              "  </div>\n",
              "  "
            ]
          },
          "metadata": {},
          "execution_count": 377
        }
      ],
      "source": [
        "data1"
      ]
    },
    {
      "cell_type": "code",
      "source": [
        "data1 = data1.dropna(axis = 0)"
      ],
      "metadata": {
        "id": "EAZXcHU7ScEQ"
      },
      "execution_count": 378,
      "outputs": []
    },
    {
      "cell_type": "code",
      "execution_count": 379,
      "metadata": {
        "colab": {
          "base_uri": "https://localhost:8080/"
        },
        "id": "Ty0g9xQ-Z_Rp",
        "outputId": "418b525b-b36d-4475-f0be-47200ba09cdf"
      },
      "outputs": [
        {
          "output_type": "execute_result",
          "data": {
            "text/plain": [
              "numpy.ndarray"
            ]
          },
          "metadata": {},
          "execution_count": 379
        }
      ],
      "source": [
        "type(df['Max Weight in kg'].values)"
      ]
    },
    {
      "cell_type": "code",
      "source": [
        "df.dropna(inplace=True,axis=0)"
      ],
      "metadata": {
        "id": "QWpHs-bbNBnz"
      },
      "execution_count": 380,
      "outputs": []
    },
    {
      "cell_type": "code",
      "source": [
        "df"
      ],
      "metadata": {
        "colab": {
          "base_uri": "https://localhost:8080/",
          "height": 676
        },
        "id": "v9pz6yoVTo8F",
        "outputId": "1b0a26bd-e5af-4d8f-e585-9956b790bf09"
      },
      "execution_count": 381,
      "outputs": [
        {
          "output_type": "execute_result",
          "data": {
            "text/plain": [
              "     STATISTIC CODE                Statistic  TLIST(A1)  Year C01782V02140  \\\n",
              "0           AJA01C1    Cattle Price per Head       1976  1976         B200   \n",
              "1           AJA01C1    Cattle Price per Head       1976  1976         B250   \n",
              "2           AJA01C1    Cattle Price per Head       1976  1976         B300   \n",
              "3           AJA01C1    Cattle Price per Head       1976  1976         B350   \n",
              "4           AJA01C1    Cattle Price per Head       1976  1976         B400   \n",
              "...             ...                      ...        ...   ...          ...   \n",
              "1282        AJA01C2  Cattle Price per 100 Kg       2021  2021         H200   \n",
              "1283        AJA01C2  Cattle Price per 100 Kg       2021  2021         H250   \n",
              "1284        AJA01C2  Cattle Price per 100 Kg       2021  2021         H300   \n",
              "1285        AJA01C2  Cattle Price per 100 Kg       2021  2021         H350   \n",
              "1286        AJA01C2  Cattle Price per 100 Kg       2021  2021         H400   \n",
              "\n",
              "     Type of Cattle Weight in kg Min Weight in kg Max Weight in kg  UNIT  \\\n",
              "0          Bullocks    200 249                200            249    Euro   \n",
              "1          Bullocks    250 299                250            299    Euro   \n",
              "2          Bullocks    300 349                300            349    Euro   \n",
              "3          Bullocks    350 399                350            399    Euro   \n",
              "4          Bullocks    400 449                400            449    Euro   \n",
              "...             ...          ...              ...              ...   ...   \n",
              "1282        Heifers    200 249                200            249    Euro   \n",
              "1283        Heifers    250 299                250            299    Euro   \n",
              "1284        Heifers    300 349                300            349    Euro   \n",
              "1285        Heifers    350 399                350            399    Euro   \n",
              "1286        Heifers    400 449                400            449    Euro   \n",
              "\n",
              "           VALUE  \n",
              "0     228.073462  \n",
              "1     228.073462  \n",
              "2     238.290000  \n",
              "3     270.470000  \n",
              "4     302.430000  \n",
              "...          ...  \n",
              "1282  222.738691  \n",
              "1283  216.991177  \n",
              "1284  215.245632  \n",
              "1285  216.965995  \n",
              "1286  216.796269  \n",
              "\n",
              "[1196 rows x 11 columns]"
            ],
            "text/html": [
              "\n",
              "  <div id=\"df-3eca2f7a-a59b-4c53-9516-29bdf448b58e\">\n",
              "    <div class=\"colab-df-container\">\n",
              "      <div>\n",
              "<style scoped>\n",
              "    .dataframe tbody tr th:only-of-type {\n",
              "        vertical-align: middle;\n",
              "    }\n",
              "\n",
              "    .dataframe tbody tr th {\n",
              "        vertical-align: top;\n",
              "    }\n",
              "\n",
              "    .dataframe thead th {\n",
              "        text-align: right;\n",
              "    }\n",
              "</style>\n",
              "<table border=\"1\" class=\"dataframe\">\n",
              "  <thead>\n",
              "    <tr style=\"text-align: right;\">\n",
              "      <th></th>\n",
              "      <th>STATISTIC CODE</th>\n",
              "      <th>Statistic</th>\n",
              "      <th>TLIST(A1)</th>\n",
              "      <th>Year</th>\n",
              "      <th>C01782V02140</th>\n",
              "      <th>Type of Cattle</th>\n",
              "      <th>Weight in kg</th>\n",
              "      <th>Min Weight in kg</th>\n",
              "      <th>Max Weight in kg</th>\n",
              "      <th>UNIT</th>\n",
              "      <th>VALUE</th>\n",
              "    </tr>\n",
              "  </thead>\n",
              "  <tbody>\n",
              "    <tr>\n",
              "      <th>0</th>\n",
              "      <td>AJA01C1</td>\n",
              "      <td>Cattle Price per Head</td>\n",
              "      <td>1976</td>\n",
              "      <td>1976</td>\n",
              "      <td>B200</td>\n",
              "      <td>Bullocks</td>\n",
              "      <td>200 249</td>\n",
              "      <td>200</td>\n",
              "      <td>249</td>\n",
              "      <td>Euro</td>\n",
              "      <td>228.073462</td>\n",
              "    </tr>\n",
              "    <tr>\n",
              "      <th>1</th>\n",
              "      <td>AJA01C1</td>\n",
              "      <td>Cattle Price per Head</td>\n",
              "      <td>1976</td>\n",
              "      <td>1976</td>\n",
              "      <td>B250</td>\n",
              "      <td>Bullocks</td>\n",
              "      <td>250 299</td>\n",
              "      <td>250</td>\n",
              "      <td>299</td>\n",
              "      <td>Euro</td>\n",
              "      <td>228.073462</td>\n",
              "    </tr>\n",
              "    <tr>\n",
              "      <th>2</th>\n",
              "      <td>AJA01C1</td>\n",
              "      <td>Cattle Price per Head</td>\n",
              "      <td>1976</td>\n",
              "      <td>1976</td>\n",
              "      <td>B300</td>\n",
              "      <td>Bullocks</td>\n",
              "      <td>300 349</td>\n",
              "      <td>300</td>\n",
              "      <td>349</td>\n",
              "      <td>Euro</td>\n",
              "      <td>238.290000</td>\n",
              "    </tr>\n",
              "    <tr>\n",
              "      <th>3</th>\n",
              "      <td>AJA01C1</td>\n",
              "      <td>Cattle Price per Head</td>\n",
              "      <td>1976</td>\n",
              "      <td>1976</td>\n",
              "      <td>B350</td>\n",
              "      <td>Bullocks</td>\n",
              "      <td>350 399</td>\n",
              "      <td>350</td>\n",
              "      <td>399</td>\n",
              "      <td>Euro</td>\n",
              "      <td>270.470000</td>\n",
              "    </tr>\n",
              "    <tr>\n",
              "      <th>4</th>\n",
              "      <td>AJA01C1</td>\n",
              "      <td>Cattle Price per Head</td>\n",
              "      <td>1976</td>\n",
              "      <td>1976</td>\n",
              "      <td>B400</td>\n",
              "      <td>Bullocks</td>\n",
              "      <td>400 449</td>\n",
              "      <td>400</td>\n",
              "      <td>449</td>\n",
              "      <td>Euro</td>\n",
              "      <td>302.430000</td>\n",
              "    </tr>\n",
              "    <tr>\n",
              "      <th>...</th>\n",
              "      <td>...</td>\n",
              "      <td>...</td>\n",
              "      <td>...</td>\n",
              "      <td>...</td>\n",
              "      <td>...</td>\n",
              "      <td>...</td>\n",
              "      <td>...</td>\n",
              "      <td>...</td>\n",
              "      <td>...</td>\n",
              "      <td>...</td>\n",
              "      <td>...</td>\n",
              "    </tr>\n",
              "    <tr>\n",
              "      <th>1282</th>\n",
              "      <td>AJA01C2</td>\n",
              "      <td>Cattle Price per 100 Kg</td>\n",
              "      <td>2021</td>\n",
              "      <td>2021</td>\n",
              "      <td>H200</td>\n",
              "      <td>Heifers</td>\n",
              "      <td>200 249</td>\n",
              "      <td>200</td>\n",
              "      <td>249</td>\n",
              "      <td>Euro</td>\n",
              "      <td>222.738691</td>\n",
              "    </tr>\n",
              "    <tr>\n",
              "      <th>1283</th>\n",
              "      <td>AJA01C2</td>\n",
              "      <td>Cattle Price per 100 Kg</td>\n",
              "      <td>2021</td>\n",
              "      <td>2021</td>\n",
              "      <td>H250</td>\n",
              "      <td>Heifers</td>\n",
              "      <td>250 299</td>\n",
              "      <td>250</td>\n",
              "      <td>299</td>\n",
              "      <td>Euro</td>\n",
              "      <td>216.991177</td>\n",
              "    </tr>\n",
              "    <tr>\n",
              "      <th>1284</th>\n",
              "      <td>AJA01C2</td>\n",
              "      <td>Cattle Price per 100 Kg</td>\n",
              "      <td>2021</td>\n",
              "      <td>2021</td>\n",
              "      <td>H300</td>\n",
              "      <td>Heifers</td>\n",
              "      <td>300 349</td>\n",
              "      <td>300</td>\n",
              "      <td>349</td>\n",
              "      <td>Euro</td>\n",
              "      <td>215.245632</td>\n",
              "    </tr>\n",
              "    <tr>\n",
              "      <th>1285</th>\n",
              "      <td>AJA01C2</td>\n",
              "      <td>Cattle Price per 100 Kg</td>\n",
              "      <td>2021</td>\n",
              "      <td>2021</td>\n",
              "      <td>H350</td>\n",
              "      <td>Heifers</td>\n",
              "      <td>350 399</td>\n",
              "      <td>350</td>\n",
              "      <td>399</td>\n",
              "      <td>Euro</td>\n",
              "      <td>216.965995</td>\n",
              "    </tr>\n",
              "    <tr>\n",
              "      <th>1286</th>\n",
              "      <td>AJA01C2</td>\n",
              "      <td>Cattle Price per 100 Kg</td>\n",
              "      <td>2021</td>\n",
              "      <td>2021</td>\n",
              "      <td>H400</td>\n",
              "      <td>Heifers</td>\n",
              "      <td>400 449</td>\n",
              "      <td>400</td>\n",
              "      <td>449</td>\n",
              "      <td>Euro</td>\n",
              "      <td>216.796269</td>\n",
              "    </tr>\n",
              "  </tbody>\n",
              "</table>\n",
              "<p>1196 rows × 11 columns</p>\n",
              "</div>\n",
              "      <button class=\"colab-df-convert\" onclick=\"convertToInteractive('df-3eca2f7a-a59b-4c53-9516-29bdf448b58e')\"\n",
              "              title=\"Convert this dataframe to an interactive table.\"\n",
              "              style=\"display:none;\">\n",
              "        \n",
              "  <svg xmlns=\"http://www.w3.org/2000/svg\" height=\"24px\"viewBox=\"0 0 24 24\"\n",
              "       width=\"24px\">\n",
              "    <path d=\"M0 0h24v24H0V0z\" fill=\"none\"/>\n",
              "    <path d=\"M18.56 5.44l.94 2.06.94-2.06 2.06-.94-2.06-.94-.94-2.06-.94 2.06-2.06.94zm-11 1L8.5 8.5l.94-2.06 2.06-.94-2.06-.94L8.5 2.5l-.94 2.06-2.06.94zm10 10l.94 2.06.94-2.06 2.06-.94-2.06-.94-.94-2.06-.94 2.06-2.06.94z\"/><path d=\"M17.41 7.96l-1.37-1.37c-.4-.4-.92-.59-1.43-.59-.52 0-1.04.2-1.43.59L10.3 9.45l-7.72 7.72c-.78.78-.78 2.05 0 2.83L4 21.41c.39.39.9.59 1.41.59.51 0 1.02-.2 1.41-.59l7.78-7.78 2.81-2.81c.8-.78.8-2.07 0-2.86zM5.41 20L4 18.59l7.72-7.72 1.47 1.35L5.41 20z\"/>\n",
              "  </svg>\n",
              "      </button>\n",
              "      \n",
              "  <style>\n",
              "    .colab-df-container {\n",
              "      display:flex;\n",
              "      flex-wrap:wrap;\n",
              "      gap: 12px;\n",
              "    }\n",
              "\n",
              "    .colab-df-convert {\n",
              "      background-color: #E8F0FE;\n",
              "      border: none;\n",
              "      border-radius: 50%;\n",
              "      cursor: pointer;\n",
              "      display: none;\n",
              "      fill: #1967D2;\n",
              "      height: 32px;\n",
              "      padding: 0 0 0 0;\n",
              "      width: 32px;\n",
              "    }\n",
              "\n",
              "    .colab-df-convert:hover {\n",
              "      background-color: #E2EBFA;\n",
              "      box-shadow: 0px 1px 2px rgba(60, 64, 67, 0.3), 0px 1px 3px 1px rgba(60, 64, 67, 0.15);\n",
              "      fill: #174EA6;\n",
              "    }\n",
              "\n",
              "    [theme=dark] .colab-df-convert {\n",
              "      background-color: #3B4455;\n",
              "      fill: #D2E3FC;\n",
              "    }\n",
              "\n",
              "    [theme=dark] .colab-df-convert:hover {\n",
              "      background-color: #434B5C;\n",
              "      box-shadow: 0px 1px 3px 1px rgba(0, 0, 0, 0.15);\n",
              "      filter: drop-shadow(0px 1px 2px rgba(0, 0, 0, 0.3));\n",
              "      fill: #FFFFFF;\n",
              "    }\n",
              "  </style>\n",
              "\n",
              "      <script>\n",
              "        const buttonEl =\n",
              "          document.querySelector('#df-3eca2f7a-a59b-4c53-9516-29bdf448b58e button.colab-df-convert');\n",
              "        buttonEl.style.display =\n",
              "          google.colab.kernel.accessAllowed ? 'block' : 'none';\n",
              "\n",
              "        async function convertToInteractive(key) {\n",
              "          const element = document.querySelector('#df-3eca2f7a-a59b-4c53-9516-29bdf448b58e');\n",
              "          const dataTable =\n",
              "            await google.colab.kernel.invokeFunction('convertToInteractive',\n",
              "                                                     [key], {});\n",
              "          if (!dataTable) return;\n",
              "\n",
              "          const docLinkHtml = 'Like what you see? Visit the ' +\n",
              "            '<a target=\"_blank\" href=https://colab.research.google.com/notebooks/data_table.ipynb>data table notebook</a>'\n",
              "            + ' to learn more about interactive tables.';\n",
              "          element.innerHTML = '';\n",
              "          dataTable['output_type'] = 'display_data';\n",
              "          await google.colab.output.renderOutput(dataTable, element);\n",
              "          const docLink = document.createElement('div');\n",
              "          docLink.innerHTML = docLinkHtml;\n",
              "          element.appendChild(docLink);\n",
              "        }\n",
              "      </script>\n",
              "    </div>\n",
              "  </div>\n",
              "  "
            ]
          },
          "metadata": {},
          "execution_count": 381
        }
      ]
    },
    {
      "cell_type": "code",
      "source": [
        "import sqlite3\n",
        "import sqlalchemy"
      ],
      "metadata": {
        "id": "lnc7a9UnT35L"
      },
      "execution_count": 382,
      "outputs": []
    },
    {
      "cell_type": "code",
      "source": [
        "engine = sqlalchemy.create_engine('sqlite:///steer_data.db')"
      ],
      "metadata": {
        "id": "h-g1KxAFtXas"
      },
      "execution_count": 383,
      "outputs": []
    },
    {
      "cell_type": "code",
      "source": [
        "df.to_sql('steer_statistics_table', engine, if_exists='replace', index=False)"
      ],
      "metadata": {
        "id": "k_ox06qXq6HR"
      },
      "execution_count": 384,
      "outputs": []
    },
    {
      "cell_type": "code",
      "source": [
        "pd.read_sql('steer_statistics_table', engine)"
      ],
      "metadata": {
        "colab": {
          "base_uri": "https://localhost:8080/",
          "height": 676
        },
        "id": "hTWbrEiyrfT1",
        "outputId": "ff7b138f-858b-453d-ea3e-6ad976a9616d"
      },
      "execution_count": 385,
      "outputs": [
        {
          "output_type": "execute_result",
          "data": {
            "text/plain": [
              "     STATISTIC CODE                Statistic  TLIST(A1)  Year C01782V02140  \\\n",
              "0           AJA01C1    Cattle Price per Head       1976  1976         B200   \n",
              "1           AJA01C1    Cattle Price per Head       1976  1976         B250   \n",
              "2           AJA01C1    Cattle Price per Head       1976  1976         B300   \n",
              "3           AJA01C1    Cattle Price per Head       1976  1976         B350   \n",
              "4           AJA01C1    Cattle Price per Head       1976  1976         B400   \n",
              "...             ...                      ...        ...   ...          ...   \n",
              "1191        AJA01C2  Cattle Price per 100 Kg       2021  2021         H200   \n",
              "1192        AJA01C2  Cattle Price per 100 Kg       2021  2021         H250   \n",
              "1193        AJA01C2  Cattle Price per 100 Kg       2021  2021         H300   \n",
              "1194        AJA01C2  Cattle Price per 100 Kg       2021  2021         H350   \n",
              "1195        AJA01C2  Cattle Price per 100 Kg       2021  2021         H400   \n",
              "\n",
              "     Type of Cattle Weight in kg Min Weight in kg Max Weight in kg  UNIT  \\\n",
              "0          Bullocks    200 249                200            249    Euro   \n",
              "1          Bullocks    250 299                250            299    Euro   \n",
              "2          Bullocks    300 349                300            349    Euro   \n",
              "3          Bullocks    350 399                350            399    Euro   \n",
              "4          Bullocks    400 449                400            449    Euro   \n",
              "...             ...          ...              ...              ...   ...   \n",
              "1191        Heifers    200 249                200            249    Euro   \n",
              "1192        Heifers    250 299                250            299    Euro   \n",
              "1193        Heifers    300 349                300            349    Euro   \n",
              "1194        Heifers    350 399                350            399    Euro   \n",
              "1195        Heifers    400 449                400            449    Euro   \n",
              "\n",
              "           VALUE  \n",
              "0     228.073462  \n",
              "1     228.073462  \n",
              "2     238.290000  \n",
              "3     270.470000  \n",
              "4     302.430000  \n",
              "...          ...  \n",
              "1191  222.738691  \n",
              "1192  216.991177  \n",
              "1193  215.245632  \n",
              "1194  216.965995  \n",
              "1195  216.796269  \n",
              "\n",
              "[1196 rows x 11 columns]"
            ],
            "text/html": [
              "\n",
              "  <div id=\"df-78c1b37f-a45c-4f33-a11a-af430d3ffda8\">\n",
              "    <div class=\"colab-df-container\">\n",
              "      <div>\n",
              "<style scoped>\n",
              "    .dataframe tbody tr th:only-of-type {\n",
              "        vertical-align: middle;\n",
              "    }\n",
              "\n",
              "    .dataframe tbody tr th {\n",
              "        vertical-align: top;\n",
              "    }\n",
              "\n",
              "    .dataframe thead th {\n",
              "        text-align: right;\n",
              "    }\n",
              "</style>\n",
              "<table border=\"1\" class=\"dataframe\">\n",
              "  <thead>\n",
              "    <tr style=\"text-align: right;\">\n",
              "      <th></th>\n",
              "      <th>STATISTIC CODE</th>\n",
              "      <th>Statistic</th>\n",
              "      <th>TLIST(A1)</th>\n",
              "      <th>Year</th>\n",
              "      <th>C01782V02140</th>\n",
              "      <th>Type of Cattle</th>\n",
              "      <th>Weight in kg</th>\n",
              "      <th>Min Weight in kg</th>\n",
              "      <th>Max Weight in kg</th>\n",
              "      <th>UNIT</th>\n",
              "      <th>VALUE</th>\n",
              "    </tr>\n",
              "  </thead>\n",
              "  <tbody>\n",
              "    <tr>\n",
              "      <th>0</th>\n",
              "      <td>AJA01C1</td>\n",
              "      <td>Cattle Price per Head</td>\n",
              "      <td>1976</td>\n",
              "      <td>1976</td>\n",
              "      <td>B200</td>\n",
              "      <td>Bullocks</td>\n",
              "      <td>200 249</td>\n",
              "      <td>200</td>\n",
              "      <td>249</td>\n",
              "      <td>Euro</td>\n",
              "      <td>228.073462</td>\n",
              "    </tr>\n",
              "    <tr>\n",
              "      <th>1</th>\n",
              "      <td>AJA01C1</td>\n",
              "      <td>Cattle Price per Head</td>\n",
              "      <td>1976</td>\n",
              "      <td>1976</td>\n",
              "      <td>B250</td>\n",
              "      <td>Bullocks</td>\n",
              "      <td>250 299</td>\n",
              "      <td>250</td>\n",
              "      <td>299</td>\n",
              "      <td>Euro</td>\n",
              "      <td>228.073462</td>\n",
              "    </tr>\n",
              "    <tr>\n",
              "      <th>2</th>\n",
              "      <td>AJA01C1</td>\n",
              "      <td>Cattle Price per Head</td>\n",
              "      <td>1976</td>\n",
              "      <td>1976</td>\n",
              "      <td>B300</td>\n",
              "      <td>Bullocks</td>\n",
              "      <td>300 349</td>\n",
              "      <td>300</td>\n",
              "      <td>349</td>\n",
              "      <td>Euro</td>\n",
              "      <td>238.290000</td>\n",
              "    </tr>\n",
              "    <tr>\n",
              "      <th>3</th>\n",
              "      <td>AJA01C1</td>\n",
              "      <td>Cattle Price per Head</td>\n",
              "      <td>1976</td>\n",
              "      <td>1976</td>\n",
              "      <td>B350</td>\n",
              "      <td>Bullocks</td>\n",
              "      <td>350 399</td>\n",
              "      <td>350</td>\n",
              "      <td>399</td>\n",
              "      <td>Euro</td>\n",
              "      <td>270.470000</td>\n",
              "    </tr>\n",
              "    <tr>\n",
              "      <th>4</th>\n",
              "      <td>AJA01C1</td>\n",
              "      <td>Cattle Price per Head</td>\n",
              "      <td>1976</td>\n",
              "      <td>1976</td>\n",
              "      <td>B400</td>\n",
              "      <td>Bullocks</td>\n",
              "      <td>400 449</td>\n",
              "      <td>400</td>\n",
              "      <td>449</td>\n",
              "      <td>Euro</td>\n",
              "      <td>302.430000</td>\n",
              "    </tr>\n",
              "    <tr>\n",
              "      <th>...</th>\n",
              "      <td>...</td>\n",
              "      <td>...</td>\n",
              "      <td>...</td>\n",
              "      <td>...</td>\n",
              "      <td>...</td>\n",
              "      <td>...</td>\n",
              "      <td>...</td>\n",
              "      <td>...</td>\n",
              "      <td>...</td>\n",
              "      <td>...</td>\n",
              "      <td>...</td>\n",
              "    </tr>\n",
              "    <tr>\n",
              "      <th>1191</th>\n",
              "      <td>AJA01C2</td>\n",
              "      <td>Cattle Price per 100 Kg</td>\n",
              "      <td>2021</td>\n",
              "      <td>2021</td>\n",
              "      <td>H200</td>\n",
              "      <td>Heifers</td>\n",
              "      <td>200 249</td>\n",
              "      <td>200</td>\n",
              "      <td>249</td>\n",
              "      <td>Euro</td>\n",
              "      <td>222.738691</td>\n",
              "    </tr>\n",
              "    <tr>\n",
              "      <th>1192</th>\n",
              "      <td>AJA01C2</td>\n",
              "      <td>Cattle Price per 100 Kg</td>\n",
              "      <td>2021</td>\n",
              "      <td>2021</td>\n",
              "      <td>H250</td>\n",
              "      <td>Heifers</td>\n",
              "      <td>250 299</td>\n",
              "      <td>250</td>\n",
              "      <td>299</td>\n",
              "      <td>Euro</td>\n",
              "      <td>216.991177</td>\n",
              "    </tr>\n",
              "    <tr>\n",
              "      <th>1193</th>\n",
              "      <td>AJA01C2</td>\n",
              "      <td>Cattle Price per 100 Kg</td>\n",
              "      <td>2021</td>\n",
              "      <td>2021</td>\n",
              "      <td>H300</td>\n",
              "      <td>Heifers</td>\n",
              "      <td>300 349</td>\n",
              "      <td>300</td>\n",
              "      <td>349</td>\n",
              "      <td>Euro</td>\n",
              "      <td>215.245632</td>\n",
              "    </tr>\n",
              "    <tr>\n",
              "      <th>1194</th>\n",
              "      <td>AJA01C2</td>\n",
              "      <td>Cattle Price per 100 Kg</td>\n",
              "      <td>2021</td>\n",
              "      <td>2021</td>\n",
              "      <td>H350</td>\n",
              "      <td>Heifers</td>\n",
              "      <td>350 399</td>\n",
              "      <td>350</td>\n",
              "      <td>399</td>\n",
              "      <td>Euro</td>\n",
              "      <td>216.965995</td>\n",
              "    </tr>\n",
              "    <tr>\n",
              "      <th>1195</th>\n",
              "      <td>AJA01C2</td>\n",
              "      <td>Cattle Price per 100 Kg</td>\n",
              "      <td>2021</td>\n",
              "      <td>2021</td>\n",
              "      <td>H400</td>\n",
              "      <td>Heifers</td>\n",
              "      <td>400 449</td>\n",
              "      <td>400</td>\n",
              "      <td>449</td>\n",
              "      <td>Euro</td>\n",
              "      <td>216.796269</td>\n",
              "    </tr>\n",
              "  </tbody>\n",
              "</table>\n",
              "<p>1196 rows × 11 columns</p>\n",
              "</div>\n",
              "      <button class=\"colab-df-convert\" onclick=\"convertToInteractive('df-78c1b37f-a45c-4f33-a11a-af430d3ffda8')\"\n",
              "              title=\"Convert this dataframe to an interactive table.\"\n",
              "              style=\"display:none;\">\n",
              "        \n",
              "  <svg xmlns=\"http://www.w3.org/2000/svg\" height=\"24px\"viewBox=\"0 0 24 24\"\n",
              "       width=\"24px\">\n",
              "    <path d=\"M0 0h24v24H0V0z\" fill=\"none\"/>\n",
              "    <path d=\"M18.56 5.44l.94 2.06.94-2.06 2.06-.94-2.06-.94-.94-2.06-.94 2.06-2.06.94zm-11 1L8.5 8.5l.94-2.06 2.06-.94-2.06-.94L8.5 2.5l-.94 2.06-2.06.94zm10 10l.94 2.06.94-2.06 2.06-.94-2.06-.94-.94-2.06-.94 2.06-2.06.94z\"/><path d=\"M17.41 7.96l-1.37-1.37c-.4-.4-.92-.59-1.43-.59-.52 0-1.04.2-1.43.59L10.3 9.45l-7.72 7.72c-.78.78-.78 2.05 0 2.83L4 21.41c.39.39.9.59 1.41.59.51 0 1.02-.2 1.41-.59l7.78-7.78 2.81-2.81c.8-.78.8-2.07 0-2.86zM5.41 20L4 18.59l7.72-7.72 1.47 1.35L5.41 20z\"/>\n",
              "  </svg>\n",
              "      </button>\n",
              "      \n",
              "  <style>\n",
              "    .colab-df-container {\n",
              "      display:flex;\n",
              "      flex-wrap:wrap;\n",
              "      gap: 12px;\n",
              "    }\n",
              "\n",
              "    .colab-df-convert {\n",
              "      background-color: #E8F0FE;\n",
              "      border: none;\n",
              "      border-radius: 50%;\n",
              "      cursor: pointer;\n",
              "      display: none;\n",
              "      fill: #1967D2;\n",
              "      height: 32px;\n",
              "      padding: 0 0 0 0;\n",
              "      width: 32px;\n",
              "    }\n",
              "\n",
              "    .colab-df-convert:hover {\n",
              "      background-color: #E2EBFA;\n",
              "      box-shadow: 0px 1px 2px rgba(60, 64, 67, 0.3), 0px 1px 3px 1px rgba(60, 64, 67, 0.15);\n",
              "      fill: #174EA6;\n",
              "    }\n",
              "\n",
              "    [theme=dark] .colab-df-convert {\n",
              "      background-color: #3B4455;\n",
              "      fill: #D2E3FC;\n",
              "    }\n",
              "\n",
              "    [theme=dark] .colab-df-convert:hover {\n",
              "      background-color: #434B5C;\n",
              "      box-shadow: 0px 1px 3px 1px rgba(0, 0, 0, 0.15);\n",
              "      filter: drop-shadow(0px 1px 2px rgba(0, 0, 0, 0.3));\n",
              "      fill: #FFFFFF;\n",
              "    }\n",
              "  </style>\n",
              "\n",
              "      <script>\n",
              "        const buttonEl =\n",
              "          document.querySelector('#df-78c1b37f-a45c-4f33-a11a-af430d3ffda8 button.colab-df-convert');\n",
              "        buttonEl.style.display =\n",
              "          google.colab.kernel.accessAllowed ? 'block' : 'none';\n",
              "\n",
              "        async function convertToInteractive(key) {\n",
              "          const element = document.querySelector('#df-78c1b37f-a45c-4f33-a11a-af430d3ffda8');\n",
              "          const dataTable =\n",
              "            await google.colab.kernel.invokeFunction('convertToInteractive',\n",
              "                                                     [key], {});\n",
              "          if (!dataTable) return;\n",
              "\n",
              "          const docLinkHtml = 'Like what you see? Visit the ' +\n",
              "            '<a target=\"_blank\" href=https://colab.research.google.com/notebooks/data_table.ipynb>data table notebook</a>'\n",
              "            + ' to learn more about interactive tables.';\n",
              "          element.innerHTML = '';\n",
              "          dataTable['output_type'] = 'display_data';\n",
              "          await google.colab.output.renderOutput(dataTable, element);\n",
              "          const docLink = document.createElement('div');\n",
              "          docLink.innerHTML = docLinkHtml;\n",
              "          element.appendChild(docLink);\n",
              "        }\n",
              "      </script>\n",
              "    </div>\n",
              "  </div>\n",
              "  "
            ]
          },
          "metadata": {},
          "execution_count": 385
        }
      ]
    },
    {
      "cell_type": "code",
      "source": [
        "x = data1.iloc[:,7:9]\n",
        "y = data1['VALUE']"
      ],
      "metadata": {
        "id": "n8SMbC1OKw04"
      },
      "execution_count": 386,
      "outputs": []
    },
    {
      "cell_type": "code",
      "source": [
        "x"
      ],
      "metadata": {
        "colab": {
          "base_uri": "https://localhost:8080/",
          "height": 424
        },
        "id": "ERO92kXTNfzm",
        "outputId": "b9ab6411-3d69-4928-baea-9e974b21fffd"
      },
      "execution_count": 387,
      "outputs": [
        {
          "output_type": "execute_result",
          "data": {
            "text/plain": [
              "      Min Weight in kg  Max Weight in kg\n",
              "0                  200             249.0\n",
              "1                  250             299.0\n",
              "2                  300             349.0\n",
              "3                  350             399.0\n",
              "4                  400             449.0\n",
              "...                ...               ...\n",
              "1282               200             249.0\n",
              "1283               250             299.0\n",
              "1284               300             349.0\n",
              "1285               350             399.0\n",
              "1286               400             449.0\n",
              "\n",
              "[1104 rows x 2 columns]"
            ],
            "text/html": [
              "\n",
              "  <div id=\"df-ef6643be-fe51-48d4-adbb-f17b4657b033\">\n",
              "    <div class=\"colab-df-container\">\n",
              "      <div>\n",
              "<style scoped>\n",
              "    .dataframe tbody tr th:only-of-type {\n",
              "        vertical-align: middle;\n",
              "    }\n",
              "\n",
              "    .dataframe tbody tr th {\n",
              "        vertical-align: top;\n",
              "    }\n",
              "\n",
              "    .dataframe thead th {\n",
              "        text-align: right;\n",
              "    }\n",
              "</style>\n",
              "<table border=\"1\" class=\"dataframe\">\n",
              "  <thead>\n",
              "    <tr style=\"text-align: right;\">\n",
              "      <th></th>\n",
              "      <th>Min Weight in kg</th>\n",
              "      <th>Max Weight in kg</th>\n",
              "    </tr>\n",
              "  </thead>\n",
              "  <tbody>\n",
              "    <tr>\n",
              "      <th>0</th>\n",
              "      <td>200</td>\n",
              "      <td>249.0</td>\n",
              "    </tr>\n",
              "    <tr>\n",
              "      <th>1</th>\n",
              "      <td>250</td>\n",
              "      <td>299.0</td>\n",
              "    </tr>\n",
              "    <tr>\n",
              "      <th>2</th>\n",
              "      <td>300</td>\n",
              "      <td>349.0</td>\n",
              "    </tr>\n",
              "    <tr>\n",
              "      <th>3</th>\n",
              "      <td>350</td>\n",
              "      <td>399.0</td>\n",
              "    </tr>\n",
              "    <tr>\n",
              "      <th>4</th>\n",
              "      <td>400</td>\n",
              "      <td>449.0</td>\n",
              "    </tr>\n",
              "    <tr>\n",
              "      <th>...</th>\n",
              "      <td>...</td>\n",
              "      <td>...</td>\n",
              "    </tr>\n",
              "    <tr>\n",
              "      <th>1282</th>\n",
              "      <td>200</td>\n",
              "      <td>249.0</td>\n",
              "    </tr>\n",
              "    <tr>\n",
              "      <th>1283</th>\n",
              "      <td>250</td>\n",
              "      <td>299.0</td>\n",
              "    </tr>\n",
              "    <tr>\n",
              "      <th>1284</th>\n",
              "      <td>300</td>\n",
              "      <td>349.0</td>\n",
              "    </tr>\n",
              "    <tr>\n",
              "      <th>1285</th>\n",
              "      <td>350</td>\n",
              "      <td>399.0</td>\n",
              "    </tr>\n",
              "    <tr>\n",
              "      <th>1286</th>\n",
              "      <td>400</td>\n",
              "      <td>449.0</td>\n",
              "    </tr>\n",
              "  </tbody>\n",
              "</table>\n",
              "<p>1104 rows × 2 columns</p>\n",
              "</div>\n",
              "      <button class=\"colab-df-convert\" onclick=\"convertToInteractive('df-ef6643be-fe51-48d4-adbb-f17b4657b033')\"\n",
              "              title=\"Convert this dataframe to an interactive table.\"\n",
              "              style=\"display:none;\">\n",
              "        \n",
              "  <svg xmlns=\"http://www.w3.org/2000/svg\" height=\"24px\"viewBox=\"0 0 24 24\"\n",
              "       width=\"24px\">\n",
              "    <path d=\"M0 0h24v24H0V0z\" fill=\"none\"/>\n",
              "    <path d=\"M18.56 5.44l.94 2.06.94-2.06 2.06-.94-2.06-.94-.94-2.06-.94 2.06-2.06.94zm-11 1L8.5 8.5l.94-2.06 2.06-.94-2.06-.94L8.5 2.5l-.94 2.06-2.06.94zm10 10l.94 2.06.94-2.06 2.06-.94-2.06-.94-.94-2.06-.94 2.06-2.06.94z\"/><path d=\"M17.41 7.96l-1.37-1.37c-.4-.4-.92-.59-1.43-.59-.52 0-1.04.2-1.43.59L10.3 9.45l-7.72 7.72c-.78.78-.78 2.05 0 2.83L4 21.41c.39.39.9.59 1.41.59.51 0 1.02-.2 1.41-.59l7.78-7.78 2.81-2.81c.8-.78.8-2.07 0-2.86zM5.41 20L4 18.59l7.72-7.72 1.47 1.35L5.41 20z\"/>\n",
              "  </svg>\n",
              "      </button>\n",
              "      \n",
              "  <style>\n",
              "    .colab-df-container {\n",
              "      display:flex;\n",
              "      flex-wrap:wrap;\n",
              "      gap: 12px;\n",
              "    }\n",
              "\n",
              "    .colab-df-convert {\n",
              "      background-color: #E8F0FE;\n",
              "      border: none;\n",
              "      border-radius: 50%;\n",
              "      cursor: pointer;\n",
              "      display: none;\n",
              "      fill: #1967D2;\n",
              "      height: 32px;\n",
              "      padding: 0 0 0 0;\n",
              "      width: 32px;\n",
              "    }\n",
              "\n",
              "    .colab-df-convert:hover {\n",
              "      background-color: #E2EBFA;\n",
              "      box-shadow: 0px 1px 2px rgba(60, 64, 67, 0.3), 0px 1px 3px 1px rgba(60, 64, 67, 0.15);\n",
              "      fill: #174EA6;\n",
              "    }\n",
              "\n",
              "    [theme=dark] .colab-df-convert {\n",
              "      background-color: #3B4455;\n",
              "      fill: #D2E3FC;\n",
              "    }\n",
              "\n",
              "    [theme=dark] .colab-df-convert:hover {\n",
              "      background-color: #434B5C;\n",
              "      box-shadow: 0px 1px 3px 1px rgba(0, 0, 0, 0.15);\n",
              "      filter: drop-shadow(0px 1px 2px rgba(0, 0, 0, 0.3));\n",
              "      fill: #FFFFFF;\n",
              "    }\n",
              "  </style>\n",
              "\n",
              "      <script>\n",
              "        const buttonEl =\n",
              "          document.querySelector('#df-ef6643be-fe51-48d4-adbb-f17b4657b033 button.colab-df-convert');\n",
              "        buttonEl.style.display =\n",
              "          google.colab.kernel.accessAllowed ? 'block' : 'none';\n",
              "\n",
              "        async function convertToInteractive(key) {\n",
              "          const element = document.querySelector('#df-ef6643be-fe51-48d4-adbb-f17b4657b033');\n",
              "          const dataTable =\n",
              "            await google.colab.kernel.invokeFunction('convertToInteractive',\n",
              "                                                     [key], {});\n",
              "          if (!dataTable) return;\n",
              "\n",
              "          const docLinkHtml = 'Like what you see? Visit the ' +\n",
              "            '<a target=\"_blank\" href=https://colab.research.google.com/notebooks/data_table.ipynb>data table notebook</a>'\n",
              "            + ' to learn more about interactive tables.';\n",
              "          element.innerHTML = '';\n",
              "          dataTable['output_type'] = 'display_data';\n",
              "          await google.colab.output.renderOutput(dataTable, element);\n",
              "          const docLink = document.createElement('div');\n",
              "          docLink.innerHTML = docLinkHtml;\n",
              "          element.appendChild(docLink);\n",
              "        }\n",
              "      </script>\n",
              "    </div>\n",
              "  </div>\n",
              "  "
            ]
          },
          "metadata": {},
          "execution_count": 387
        }
      ]
    },
    {
      "cell_type": "code",
      "source": [
        "#x.to_sql('steer_weight_table')"
      ],
      "metadata": {
        "id": "-Gw5djqrRThp"
      },
      "execution_count": 388,
      "outputs": []
    },
    {
      "cell_type": "code",
      "source": [
        "x['Max Weight in kg'] = x.iloc[:, 1].astype(int)"
      ],
      "metadata": {
        "id": "v5BFC-FZPI9j"
      },
      "execution_count": 389,
      "outputs": []
    },
    {
      "cell_type": "code",
      "source": [
        "x"
      ],
      "metadata": {
        "colab": {
          "base_uri": "https://localhost:8080/",
          "height": 424
        },
        "id": "oviO-tR_POZ-",
        "outputId": "c0ae049f-dd06-4be3-9100-7dac6cb9fe71"
      },
      "execution_count": 390,
      "outputs": [
        {
          "output_type": "execute_result",
          "data": {
            "text/plain": [
              "      Min Weight in kg  Max Weight in kg\n",
              "0                  200               249\n",
              "1                  250               299\n",
              "2                  300               349\n",
              "3                  350               399\n",
              "4                  400               449\n",
              "...                ...               ...\n",
              "1282               200               249\n",
              "1283               250               299\n",
              "1284               300               349\n",
              "1285               350               399\n",
              "1286               400               449\n",
              "\n",
              "[1104 rows x 2 columns]"
            ],
            "text/html": [
              "\n",
              "  <div id=\"df-a9037aac-b771-4706-bbce-76038d56c3a9\">\n",
              "    <div class=\"colab-df-container\">\n",
              "      <div>\n",
              "<style scoped>\n",
              "    .dataframe tbody tr th:only-of-type {\n",
              "        vertical-align: middle;\n",
              "    }\n",
              "\n",
              "    .dataframe tbody tr th {\n",
              "        vertical-align: top;\n",
              "    }\n",
              "\n",
              "    .dataframe thead th {\n",
              "        text-align: right;\n",
              "    }\n",
              "</style>\n",
              "<table border=\"1\" class=\"dataframe\">\n",
              "  <thead>\n",
              "    <tr style=\"text-align: right;\">\n",
              "      <th></th>\n",
              "      <th>Min Weight in kg</th>\n",
              "      <th>Max Weight in kg</th>\n",
              "    </tr>\n",
              "  </thead>\n",
              "  <tbody>\n",
              "    <tr>\n",
              "      <th>0</th>\n",
              "      <td>200</td>\n",
              "      <td>249</td>\n",
              "    </tr>\n",
              "    <tr>\n",
              "      <th>1</th>\n",
              "      <td>250</td>\n",
              "      <td>299</td>\n",
              "    </tr>\n",
              "    <tr>\n",
              "      <th>2</th>\n",
              "      <td>300</td>\n",
              "      <td>349</td>\n",
              "    </tr>\n",
              "    <tr>\n",
              "      <th>3</th>\n",
              "      <td>350</td>\n",
              "      <td>399</td>\n",
              "    </tr>\n",
              "    <tr>\n",
              "      <th>4</th>\n",
              "      <td>400</td>\n",
              "      <td>449</td>\n",
              "    </tr>\n",
              "    <tr>\n",
              "      <th>...</th>\n",
              "      <td>...</td>\n",
              "      <td>...</td>\n",
              "    </tr>\n",
              "    <tr>\n",
              "      <th>1282</th>\n",
              "      <td>200</td>\n",
              "      <td>249</td>\n",
              "    </tr>\n",
              "    <tr>\n",
              "      <th>1283</th>\n",
              "      <td>250</td>\n",
              "      <td>299</td>\n",
              "    </tr>\n",
              "    <tr>\n",
              "      <th>1284</th>\n",
              "      <td>300</td>\n",
              "      <td>349</td>\n",
              "    </tr>\n",
              "    <tr>\n",
              "      <th>1285</th>\n",
              "      <td>350</td>\n",
              "      <td>399</td>\n",
              "    </tr>\n",
              "    <tr>\n",
              "      <th>1286</th>\n",
              "      <td>400</td>\n",
              "      <td>449</td>\n",
              "    </tr>\n",
              "  </tbody>\n",
              "</table>\n",
              "<p>1104 rows × 2 columns</p>\n",
              "</div>\n",
              "      <button class=\"colab-df-convert\" onclick=\"convertToInteractive('df-a9037aac-b771-4706-bbce-76038d56c3a9')\"\n",
              "              title=\"Convert this dataframe to an interactive table.\"\n",
              "              style=\"display:none;\">\n",
              "        \n",
              "  <svg xmlns=\"http://www.w3.org/2000/svg\" height=\"24px\"viewBox=\"0 0 24 24\"\n",
              "       width=\"24px\">\n",
              "    <path d=\"M0 0h24v24H0V0z\" fill=\"none\"/>\n",
              "    <path d=\"M18.56 5.44l.94 2.06.94-2.06 2.06-.94-2.06-.94-.94-2.06-.94 2.06-2.06.94zm-11 1L8.5 8.5l.94-2.06 2.06-.94-2.06-.94L8.5 2.5l-.94 2.06-2.06.94zm10 10l.94 2.06.94-2.06 2.06-.94-2.06-.94-.94-2.06-.94 2.06-2.06.94z\"/><path d=\"M17.41 7.96l-1.37-1.37c-.4-.4-.92-.59-1.43-.59-.52 0-1.04.2-1.43.59L10.3 9.45l-7.72 7.72c-.78.78-.78 2.05 0 2.83L4 21.41c.39.39.9.59 1.41.59.51 0 1.02-.2 1.41-.59l7.78-7.78 2.81-2.81c.8-.78.8-2.07 0-2.86zM5.41 20L4 18.59l7.72-7.72 1.47 1.35L5.41 20z\"/>\n",
              "  </svg>\n",
              "      </button>\n",
              "      \n",
              "  <style>\n",
              "    .colab-df-container {\n",
              "      display:flex;\n",
              "      flex-wrap:wrap;\n",
              "      gap: 12px;\n",
              "    }\n",
              "\n",
              "    .colab-df-convert {\n",
              "      background-color: #E8F0FE;\n",
              "      border: none;\n",
              "      border-radius: 50%;\n",
              "      cursor: pointer;\n",
              "      display: none;\n",
              "      fill: #1967D2;\n",
              "      height: 32px;\n",
              "      padding: 0 0 0 0;\n",
              "      width: 32px;\n",
              "    }\n",
              "\n",
              "    .colab-df-convert:hover {\n",
              "      background-color: #E2EBFA;\n",
              "      box-shadow: 0px 1px 2px rgba(60, 64, 67, 0.3), 0px 1px 3px 1px rgba(60, 64, 67, 0.15);\n",
              "      fill: #174EA6;\n",
              "    }\n",
              "\n",
              "    [theme=dark] .colab-df-convert {\n",
              "      background-color: #3B4455;\n",
              "      fill: #D2E3FC;\n",
              "    }\n",
              "\n",
              "    [theme=dark] .colab-df-convert:hover {\n",
              "      background-color: #434B5C;\n",
              "      box-shadow: 0px 1px 3px 1px rgba(0, 0, 0, 0.15);\n",
              "      filter: drop-shadow(0px 1px 2px rgba(0, 0, 0, 0.3));\n",
              "      fill: #FFFFFF;\n",
              "    }\n",
              "  </style>\n",
              "\n",
              "      <script>\n",
              "        const buttonEl =\n",
              "          document.querySelector('#df-a9037aac-b771-4706-bbce-76038d56c3a9 button.colab-df-convert');\n",
              "        buttonEl.style.display =\n",
              "          google.colab.kernel.accessAllowed ? 'block' : 'none';\n",
              "\n",
              "        async function convertToInteractive(key) {\n",
              "          const element = document.querySelector('#df-a9037aac-b771-4706-bbce-76038d56c3a9');\n",
              "          const dataTable =\n",
              "            await google.colab.kernel.invokeFunction('convertToInteractive',\n",
              "                                                     [key], {});\n",
              "          if (!dataTable) return;\n",
              "\n",
              "          const docLinkHtml = 'Like what you see? Visit the ' +\n",
              "            '<a target=\"_blank\" href=https://colab.research.google.com/notebooks/data_table.ipynb>data table notebook</a>'\n",
              "            + ' to learn more about interactive tables.';\n",
              "          element.innerHTML = '';\n",
              "          dataTable['output_type'] = 'display_data';\n",
              "          await google.colab.output.renderOutput(dataTable, element);\n",
              "          const docLink = document.createElement('div');\n",
              "          docLink.innerHTML = docLinkHtml;\n",
              "          element.appendChild(docLink);\n",
              "        }\n",
              "      </script>\n",
              "    </div>\n",
              "  </div>\n",
              "  "
            ]
          },
          "metadata": {},
          "execution_count": 390
        }
      ]
    },
    {
      "cell_type": "code",
      "source": [
        "x.to_sql('steer_weight_table', engine, if_exists='replace', index=False)"
      ],
      "metadata": {
        "id": "HYL5W5OysJBk"
      },
      "execution_count": 391,
      "outputs": []
    },
    {
      "cell_type": "code",
      "source": [
        "pd.read_sql('steer_weight_table', engine)"
      ],
      "metadata": {
        "colab": {
          "base_uri": "https://localhost:8080/",
          "height": 424
        },
        "id": "2zBJyZ8hsYzL",
        "outputId": "bd674e35-d3f8-4b4f-bd0e-d8c937df5147"
      },
      "execution_count": 392,
      "outputs": [
        {
          "output_type": "execute_result",
          "data": {
            "text/plain": [
              "      Min Weight in kg  Max Weight in kg\n",
              "0                  200               249\n",
              "1                  250               299\n",
              "2                  300               349\n",
              "3                  350               399\n",
              "4                  400               449\n",
              "...                ...               ...\n",
              "1099               200               249\n",
              "1100               250               299\n",
              "1101               300               349\n",
              "1102               350               399\n",
              "1103               400               449\n",
              "\n",
              "[1104 rows x 2 columns]"
            ],
            "text/html": [
              "\n",
              "  <div id=\"df-3c308463-b5ac-4ba6-898c-3b68936cc624\">\n",
              "    <div class=\"colab-df-container\">\n",
              "      <div>\n",
              "<style scoped>\n",
              "    .dataframe tbody tr th:only-of-type {\n",
              "        vertical-align: middle;\n",
              "    }\n",
              "\n",
              "    .dataframe tbody tr th {\n",
              "        vertical-align: top;\n",
              "    }\n",
              "\n",
              "    .dataframe thead th {\n",
              "        text-align: right;\n",
              "    }\n",
              "</style>\n",
              "<table border=\"1\" class=\"dataframe\">\n",
              "  <thead>\n",
              "    <tr style=\"text-align: right;\">\n",
              "      <th></th>\n",
              "      <th>Min Weight in kg</th>\n",
              "      <th>Max Weight in kg</th>\n",
              "    </tr>\n",
              "  </thead>\n",
              "  <tbody>\n",
              "    <tr>\n",
              "      <th>0</th>\n",
              "      <td>200</td>\n",
              "      <td>249</td>\n",
              "    </tr>\n",
              "    <tr>\n",
              "      <th>1</th>\n",
              "      <td>250</td>\n",
              "      <td>299</td>\n",
              "    </tr>\n",
              "    <tr>\n",
              "      <th>2</th>\n",
              "      <td>300</td>\n",
              "      <td>349</td>\n",
              "    </tr>\n",
              "    <tr>\n",
              "      <th>3</th>\n",
              "      <td>350</td>\n",
              "      <td>399</td>\n",
              "    </tr>\n",
              "    <tr>\n",
              "      <th>4</th>\n",
              "      <td>400</td>\n",
              "      <td>449</td>\n",
              "    </tr>\n",
              "    <tr>\n",
              "      <th>...</th>\n",
              "      <td>...</td>\n",
              "      <td>...</td>\n",
              "    </tr>\n",
              "    <tr>\n",
              "      <th>1099</th>\n",
              "      <td>200</td>\n",
              "      <td>249</td>\n",
              "    </tr>\n",
              "    <tr>\n",
              "      <th>1100</th>\n",
              "      <td>250</td>\n",
              "      <td>299</td>\n",
              "    </tr>\n",
              "    <tr>\n",
              "      <th>1101</th>\n",
              "      <td>300</td>\n",
              "      <td>349</td>\n",
              "    </tr>\n",
              "    <tr>\n",
              "      <th>1102</th>\n",
              "      <td>350</td>\n",
              "      <td>399</td>\n",
              "    </tr>\n",
              "    <tr>\n",
              "      <th>1103</th>\n",
              "      <td>400</td>\n",
              "      <td>449</td>\n",
              "    </tr>\n",
              "  </tbody>\n",
              "</table>\n",
              "<p>1104 rows × 2 columns</p>\n",
              "</div>\n",
              "      <button class=\"colab-df-convert\" onclick=\"convertToInteractive('df-3c308463-b5ac-4ba6-898c-3b68936cc624')\"\n",
              "              title=\"Convert this dataframe to an interactive table.\"\n",
              "              style=\"display:none;\">\n",
              "        \n",
              "  <svg xmlns=\"http://www.w3.org/2000/svg\" height=\"24px\"viewBox=\"0 0 24 24\"\n",
              "       width=\"24px\">\n",
              "    <path d=\"M0 0h24v24H0V0z\" fill=\"none\"/>\n",
              "    <path d=\"M18.56 5.44l.94 2.06.94-2.06 2.06-.94-2.06-.94-.94-2.06-.94 2.06-2.06.94zm-11 1L8.5 8.5l.94-2.06 2.06-.94-2.06-.94L8.5 2.5l-.94 2.06-2.06.94zm10 10l.94 2.06.94-2.06 2.06-.94-2.06-.94-.94-2.06-.94 2.06-2.06.94z\"/><path d=\"M17.41 7.96l-1.37-1.37c-.4-.4-.92-.59-1.43-.59-.52 0-1.04.2-1.43.59L10.3 9.45l-7.72 7.72c-.78.78-.78 2.05 0 2.83L4 21.41c.39.39.9.59 1.41.59.51 0 1.02-.2 1.41-.59l7.78-7.78 2.81-2.81c.8-.78.8-2.07 0-2.86zM5.41 20L4 18.59l7.72-7.72 1.47 1.35L5.41 20z\"/>\n",
              "  </svg>\n",
              "      </button>\n",
              "      \n",
              "  <style>\n",
              "    .colab-df-container {\n",
              "      display:flex;\n",
              "      flex-wrap:wrap;\n",
              "      gap: 12px;\n",
              "    }\n",
              "\n",
              "    .colab-df-convert {\n",
              "      background-color: #E8F0FE;\n",
              "      border: none;\n",
              "      border-radius: 50%;\n",
              "      cursor: pointer;\n",
              "      display: none;\n",
              "      fill: #1967D2;\n",
              "      height: 32px;\n",
              "      padding: 0 0 0 0;\n",
              "      width: 32px;\n",
              "    }\n",
              "\n",
              "    .colab-df-convert:hover {\n",
              "      background-color: #E2EBFA;\n",
              "      box-shadow: 0px 1px 2px rgba(60, 64, 67, 0.3), 0px 1px 3px 1px rgba(60, 64, 67, 0.15);\n",
              "      fill: #174EA6;\n",
              "    }\n",
              "\n",
              "    [theme=dark] .colab-df-convert {\n",
              "      background-color: #3B4455;\n",
              "      fill: #D2E3FC;\n",
              "    }\n",
              "\n",
              "    [theme=dark] .colab-df-convert:hover {\n",
              "      background-color: #434B5C;\n",
              "      box-shadow: 0px 1px 3px 1px rgba(0, 0, 0, 0.15);\n",
              "      filter: drop-shadow(0px 1px 2px rgba(0, 0, 0, 0.3));\n",
              "      fill: #FFFFFF;\n",
              "    }\n",
              "  </style>\n",
              "\n",
              "      <script>\n",
              "        const buttonEl =\n",
              "          document.querySelector('#df-3c308463-b5ac-4ba6-898c-3b68936cc624 button.colab-df-convert');\n",
              "        buttonEl.style.display =\n",
              "          google.colab.kernel.accessAllowed ? 'block' : 'none';\n",
              "\n",
              "        async function convertToInteractive(key) {\n",
              "          const element = document.querySelector('#df-3c308463-b5ac-4ba6-898c-3b68936cc624');\n",
              "          const dataTable =\n",
              "            await google.colab.kernel.invokeFunction('convertToInteractive',\n",
              "                                                     [key], {});\n",
              "          if (!dataTable) return;\n",
              "\n",
              "          const docLinkHtml = 'Like what you see? Visit the ' +\n",
              "            '<a target=\"_blank\" href=https://colab.research.google.com/notebooks/data_table.ipynb>data table notebook</a>'\n",
              "            + ' to learn more about interactive tables.';\n",
              "          element.innerHTML = '';\n",
              "          dataTable['output_type'] = 'display_data';\n",
              "          await google.colab.output.renderOutput(dataTable, element);\n",
              "          const docLink = document.createElement('div');\n",
              "          docLink.innerHTML = docLinkHtml;\n",
              "          element.appendChild(docLink);\n",
              "        }\n",
              "      </script>\n",
              "    </div>\n",
              "  </div>\n",
              "  "
            ]
          },
          "metadata": {},
          "execution_count": 392
        }
      ]
    },
    {
      "cell_type": "code",
      "source": [
        "x.shape"
      ],
      "metadata": {
        "colab": {
          "base_uri": "https://localhost:8080/"
        },
        "id": "S1vRQ4O7IgGc",
        "outputId": "cf6c9eba-ce09-4e60-8acf-88baf15064fa"
      },
      "execution_count": 393,
      "outputs": [
        {
          "output_type": "execute_result",
          "data": {
            "text/plain": [
              "(1104, 2)"
            ]
          },
          "metadata": {},
          "execution_count": 393
        }
      ]
    },
    {
      "cell_type": "code",
      "source": [
        "y.shape"
      ],
      "metadata": {
        "colab": {
          "base_uri": "https://localhost:8080/"
        },
        "id": "WqwbHGzYIilY",
        "outputId": "d17aec45-da88-4003-e38e-adaa3461de3b"
      },
      "execution_count": 394,
      "outputs": [
        {
          "output_type": "execute_result",
          "data": {
            "text/plain": [
              "(1104,)"
            ]
          },
          "metadata": {},
          "execution_count": 394
        }
      ]
    },
    {
      "cell_type": "code",
      "source": [
        "sns.set()\n",
        "\n",
        "fig, (ax1, ax2) = plt.subplots(1, 2, figsize =(10,4))\n",
        "fig.tight_layout(pad  = 3.0)\n",
        "ax1.scatter(x.iloc[:,0],y)\n",
        "ax1.set_xlabel(\"Min Weight\")\n",
        "ax1.set_ylabel(\"Price in Euros\")\n",
        "ax1.set_title(\"Steer Price Data\")\n",
        "\n",
        "ax2.scatter(x.iloc[:,1],y)\n",
        "ax2.set_xlabel(\"Max Weight\")\n",
        "ax2.set_ylabel(\"Price in Euros\")\n",
        "ax2.set_title(\"Steer Price Data\")"
      ],
      "metadata": {
        "colab": {
          "base_uri": "https://localhost:8080/",
          "height": 293
        },
        "id": "9yq9jE2xRa98",
        "outputId": "23e6a924-d79f-4679-deb5-a3301c80da40"
      },
      "execution_count": 395,
      "outputs": [
        {
          "output_type": "execute_result",
          "data": {
            "text/plain": [
              "Text(0.5, 1.0, 'Steer Price Data')"
            ]
          },
          "metadata": {},
          "execution_count": 395
        },
        {
          "output_type": "display_data",
          "data": {
            "text/plain": [
              "<Figure size 720x288 with 2 Axes>"
            ],
            "image/png": "[encoded data removed]"
          },
          "metadata": {}
        }
      ]
    },
    {
      "cell_type": "code",
      "source": [
        "from sklearn.preprocessing import StandardScaler\n",
        "value = np.log(y)\n",
        "scaler = StandardScaler()\n",
        "scaler.fit(x)\n",
        "x_scaled = scaler.transform(x)\n",
        "\n",
        "\n"
      ],
      "metadata": {
        "id": "H64Eb32ntB3f"
      },
      "execution_count": 396,
      "outputs": []
    },
    {
      "cell_type": "code",
      "source": [
        "x_scaled.shape"
      ],
      "metadata": {
        "colab": {
          "base_uri": "https://localhost:8080/"
        },
        "id": "nu5HPLPHwuEV",
        "outputId": "e75191bb-0631-4791-a11f-05f318edae7a"
      },
      "execution_count": 397,
      "outputs": [
        {
          "output_type": "execute_result",
          "data": {
            "text/plain": [
              "(1104, 2)"
            ]
          },
          "metadata": {},
          "execution_count": 397
        }
      ]
    },
    {
      "cell_type": "code",
      "source": [
        "#x_scaled"
      ],
      "metadata": {
        "id": "UD5Ozqa8xmBf"
      },
      "execution_count": 398,
      "outputs": []
    },
    {
      "cell_type": "code",
      "source": [
        "from sklearn.neighbors import KNeighborsRegressor\n",
        "from sklearn.model_selection import train_test_split\n",
        "from sklearn.metrics import accuracy_score, r2_score, mean_squared_error\n",
        "from math import sqrt\n",
        "x_train,x_test,y_train,y_test=train_test_split(x_scaled, value,train_size=0.8, random_state=365)\n",
        "knn = KNeighborsRegressor()\n",
        "knn.fit(x_train,y_train)\n",
        "knn_pred = knn.predict(x_test)\n",
        "knn.score(x_train,y_train)"
      ],
      "metadata": {
        "id": "jnLXgmcEdLTw",
        "colab": {
          "base_uri": "https://localhost:8080/"
        },
        "outputId": "c1d65121-1d91-47f5-e51a-5074efa1ddd5"
      },
      "execution_count": 399,
      "outputs": [
        {
          "output_type": "execute_result",
          "data": {
            "text/plain": [
              "-0.2488682354155607"
            ]
          },
          "metadata": {},
          "execution_count": 399
        }
      ]
    },
    {
      "cell_type": "code",
      "source": [
        "r2_score(y_test, knn_pred)"
      ],
      "metadata": {
        "colab": {
          "base_uri": "https://localhost:8080/"
        },
        "id": "eTUujBTdCuac",
        "outputId": "30756afb-6ae1-4394-83fb-332581b9f449"
      },
      "execution_count": 400,
      "outputs": [
        {
          "output_type": "execute_result",
          "data": {
            "text/plain": [
              "-0.36484682743811314"
            ]
          },
          "metadata": {},
          "execution_count": 400
        }
      ]
    },
    {
      "cell_type": "code",
      "source": [
        "mean_squared_error(y_test, knn_pred)"
      ],
      "metadata": {
        "colab": {
          "base_uri": "https://localhost:8080/"
        },
        "id": "WjmVULInGEl9",
        "outputId": "65c03d80-a2a1-45ce-d849-592cb4f85f69"
      },
      "execution_count": 401,
      "outputs": [
        {
          "output_type": "execute_result",
          "data": {
            "text/plain": [
              "0.6377199041969762"
            ]
          },
          "metadata": {},
          "execution_count": 401
        }
      ]
    },
    {
      "cell_type": "code",
      "source": [
        "rmse = sqrt(mean_squared_error(y_test, knn_pred))\n",
        "rmse"
      ],
      "metadata": {
        "colab": {
          "base_uri": "https://localhost:8080/"
        },
        "id": "MPYy6QlLK_O-",
        "outputId": "51dda8d5-d593-468e-c226-f67c4686b807"
      },
      "execution_count": 402,
      "outputs": [
        {
          "output_type": "execute_result",
          "data": {
            "text/plain": [
              "0.7985736686098386"
            ]
          },
          "metadata": {},
          "execution_count": 402
        }
      ]
    },
    {
      "cell_type": "code",
      "source": [
        "import pickle as pk"
      ],
      "metadata": {
        "id": "qWd4DWHCcJ7b"
      },
      "execution_count": 403,
      "outputs": []
    },
    {
      "cell_type": "code",
      "source": [
        "model = knn\n",
        "model.fit(x_train, y_train)\n",
        "pickle_out = open('steer_model.pkl', 'wb')\n",
        "pk.dump(model, pickle_out)\n",
        "model.fit(x_train,y_train)\n",
        "pred = model.predict(x_test)\n",
        "#pickle_out.close()"
      ],
      "metadata": {
        "id": "CXEX4BgncVtS"
      },
      "execution_count": 404,
      "outputs": []
    },
    {
      "cell_type": "code",
      "source": [
        "pickled_model = pk.load(open('steer_model.pkl', 'rb'))\n",
        "pickled_model.predict(x_test)"
      ],
      "metadata": {
        "colab": {
          "base_uri": "https://localhost:8080/"
        },
        "id": "9Yz-DS0Eflky",
        "outputId": "1f8a9bec-9ddb-44b2-8089-342017cae181"
      },
      "execution_count": 405,
      "outputs": [
        {
          "output_type": "execute_result",
          "data": {
            "text/plain": [
              "array([5.96049977, 6.21751196, 5.34026827, 5.32644107, 5.34026827,\n",
              "       6.21751196, 5.34026827, 5.96049977, 5.88600622, 5.88600622,\n",
              "       5.96049977, 5.88600622, 5.96049977, 5.34026827, 5.42037191,\n",
              "       5.34026827, 6.21751196, 5.32644107, 6.21751196, 5.3240985 ,\n",
              "       5.96049977, 6.21751196, 5.34026827, 5.96049977, 5.88600622,\n",
              "       5.34026827, 5.96049977, 5.96049977, 5.96049977, 6.21751196,\n",
              "       6.21751196, 5.88600622, 5.34026827, 5.32644107, 5.96049977,\n",
              "       5.34026827, 5.3240985 , 5.42037191, 5.34026827, 5.32644107,\n",
              "       5.32644107, 6.21751196, 5.96049977, 5.88600622, 5.88600622,\n",
              "       5.96049977, 5.96049977, 5.96049977, 6.21751196, 5.96049977,\n",
              "       5.34026827, 5.34026827, 5.88600622, 5.42037191, 5.32644107,\n",
              "       5.34026827, 5.96049977, 5.3240985 , 5.88600622, 5.32644107,\n",
              "       5.96049977, 5.88600622, 5.96049977, 6.21751196, 5.96049977,\n",
              "       5.96049977, 5.34026827, 6.21751196, 6.21751196, 6.21751196,\n",
              "       5.34026827, 5.32644107, 5.32644107, 5.3240985 , 6.21751196,\n",
              "       5.34026827, 5.88600622, 5.96049977, 5.3240985 , 5.32644107,\n",
              "       5.42037191, 5.88600622, 5.88600622, 5.96049977, 5.96049977,\n",
              "       5.42037191, 5.32644107, 5.88600622, 5.96049977, 5.96049977,\n",
              "       5.3240985 , 5.96049977, 5.88600622, 5.88600622, 5.32644107,\n",
              "       5.88600622, 6.21751196, 6.21751196, 5.34026827, 5.96049977,\n",
              "       5.32644107, 6.21751196, 6.21751196, 5.34026827, 6.21751196,\n",
              "       5.96049977, 6.21751196, 5.88600622, 5.3240985 , 5.42037191,\n",
              "       5.96049977, 5.96049977, 6.21751196, 5.42037191, 6.21751196,\n",
              "       5.96049977, 5.42037191, 5.32644107, 5.34026827, 5.34026827,\n",
              "       5.88600622, 5.32644107, 5.42037191, 5.34026827, 5.34026827,\n",
              "       6.21751196, 5.88600622, 5.42037191, 5.88600622, 5.32644107,\n",
              "       5.42037191, 5.96049977, 5.34026827, 5.32644107, 5.88600622,\n",
              "       5.34026827, 5.42037191, 5.34026827, 5.32644107, 5.32644107,\n",
              "       6.21751196, 5.34026827, 6.21751196, 6.21751196, 5.88600622,\n",
              "       5.34026827, 5.96049977, 5.34026827, 5.34026827, 5.96049977,\n",
              "       5.88600622, 6.21751196, 5.34026827, 5.96049977, 5.34026827,\n",
              "       5.88600622, 5.42037191, 6.21751196, 5.96049977, 5.3240985 ,\n",
              "       6.21751196, 5.32644107, 5.96049977, 6.21751196, 5.3240985 ,\n",
              "       6.21751196, 5.32644107, 5.32644107, 5.34026827, 5.32644107,\n",
              "       5.34026827, 5.88600622, 5.96049977, 5.96049977, 5.32644107,\n",
              "       5.34026827, 5.88600622, 5.32644107, 5.88600622, 6.21751196,\n",
              "       5.32644107, 6.21751196, 5.32644107, 5.32644107, 5.32644107,\n",
              "       5.88600622, 5.3240985 , 6.21751196, 5.88600622, 6.21751196,\n",
              "       6.21751196, 5.32644107, 5.88600622, 6.21751196, 5.32644107,\n",
              "       5.32644107, 5.32644107, 5.88600622, 6.21751196, 5.88600622,\n",
              "       5.88600622, 5.42037191, 5.42037191, 5.34026827, 5.3240985 ,\n",
              "       5.32644107, 5.96049977, 5.32644107, 5.3240985 , 5.32644107,\n",
              "       5.88600622, 5.88600622, 5.32644107, 5.32644107, 5.96049977,\n",
              "       5.96049977, 5.96049977, 5.32644107, 5.32644107, 5.32644107,\n",
              "       6.21751196])"
            ]
          },
          "metadata": {},
          "execution_count": 405
        }
      ]
    },
    {
      "cell_type": "code",
      "source": [
        "!pip install flask-ngrok\n",
        "!pip install flask-bootstrap"
      ],
      "metadata": {
        "colab": {
          "base_uri": "https://localhost:8080/"
        },
        "id": "Tek0eMpHmTCh",
        "outputId": "d9169afd-95f3-40af-b96b-2ddb38eac582"
      },
      "execution_count": 406,
      "outputs": [
        {
          "output_type": "stream",
          "name": "stdout",
          "text": [
            "Looking in indexes: https://pypi.org/simple, https://us-python.pkg.dev/colab-wheels/public/simple/\n",
            "Requirement already satisfied: flask-ngrok in /usr/local/lib/python3.7/dist-packages (0.0.25)\n",
            "Requirement already satisfied: requests in /usr/local/lib/python3.7/dist-packages (from flask-ngrok) (2.23.0)\n",
            "Requirement already satisfied: Flask>=0.8 in /usr/local/lib/python3.7/dist-packages (from flask-ngrok) (1.1.4)\n",
            "Requirement already satisfied: itsdangerous<2.0,>=0.24 in /usr/local/lib/python3.7/dist-packages (from Flask>=0.8->flask-ngrok) (1.1.0)\n",
            "Requirement already satisfied: Werkzeug<2.0,>=0.15 in /usr/local/lib/python3.7/dist-packages (from Flask>=0.8->flask-ngrok) (1.0.1)\n",
            "Requirement already satisfied: click<8.0,>=5.1 in /usr/local/lib/python3.7/dist-packages (from Flask>=0.8->flask-ngrok) (7.1.2)\n",
            "Requirement already satisfied: Jinja2<3.0,>=2.10.1 in /usr/local/lib/python3.7/dist-packages (from Flask>=0.8->flask-ngrok) (2.11.3)\n",
            "Requirement already satisfied: MarkupSafe>=0.23 in /usr/local/lib/python3.7/dist-packages (from Jinja2<3.0,>=2.10.1->Flask>=0.8->flask-ngrok) (2.0.1)\n",
            "Requirement already satisfied: idna<3,>=2.5 in /usr/local/lib/python3.7/dist-packages (from requests->flask-ngrok) (2.10)\n",
            "Requirement already satisfied: urllib3!=1.25.0,!=1.25.1,<1.26,>=1.21.1 in /usr/local/lib/python3.7/dist-packages (from requests->flask-ngrok) (1.24.3)\n",
            "Requirement already satisfied: chardet<4,>=3.0.2 in /usr/local/lib/python3.7/dist-packages (from requests->flask-ngrok) (3.0.4)\n",
            "Requirement already satisfied: certifi>=2017.4.17 in /usr/local/lib/python3.7/dist-packages (from requests->flask-ngrok) (2022.9.24)\n",
            "Looking in indexes: https://pypi.org/simple, https://us-python.pkg.dev/colab-wheels/public/simple/\n",
            "Requirement already satisfied: flask-bootstrap in /usr/local/lib/python3.7/dist-packages (3.3.7.1)\n",
            "Requirement already satisfied: visitor in /usr/local/lib/python3.7/dist-packages (from flask-bootstrap) (0.1.3)\n",
            "Requirement already satisfied: Flask>=0.8 in /usr/local/lib/python3.7/dist-packages (from flask-bootstrap) (1.1.4)\n",
            "Requirement already satisfied: dominate in /usr/local/lib/python3.7/dist-packages (from flask-bootstrap) (2.7.0)\n",
            "Requirement already satisfied: Jinja2<3.0,>=2.10.1 in /usr/local/lib/python3.7/dist-packages (from Flask>=0.8->flask-bootstrap) (2.11.3)\n",
            "Requirement already satisfied: Werkzeug<2.0,>=0.15 in /usr/local/lib/python3.7/dist-packages (from Flask>=0.8->flask-bootstrap) (1.0.1)\n",
            "Requirement already satisfied: itsdangerous<2.0,>=0.24 in /usr/local/lib/python3.7/dist-packages (from Flask>=0.8->flask-bootstrap) (1.1.0)\n",
            "Requirement already satisfied: click<8.0,>=5.1 in /usr/local/lib/python3.7/dist-packages (from Flask>=0.8->flask-bootstrap) (7.1.2)\n",
            "Requirement already satisfied: MarkupSafe>=0.23 in /usr/local/lib/python3.7/dist-packages (from Jinja2<3.0,>=2.10.1->Flask>=0.8->flask-bootstrap) (2.0.1)\n"
          ]
        }
      ]
    },
    {
      "cell_type": "code",
      "source": [
        "!curl -s https://ngrok-agent.s3.amazonaws.com/ngrok.asc | sudo tee /etc/apt/trusted.gpg.d/ngrok.asc >/dev/null && echo \"deb https://ngrok-agent.s3.amazonaws.com buster main\" | sudo tee /etc/apt/sources.list.d/ngrok.list && sudo apt update && sudo apt install ngrok"
      ],
      "metadata": {
        "colab": {
          "base_uri": "https://localhost:8080/"
        },
        "id": "xMfAy0Kj8XU3",
        "outputId": "b5d57495-f329-4ea3-b44c-2e5d3b89d170"
      },
      "execution_count": 413,
      "outputs": [
        {
          "output_type": "stream",
          "name": "stdout",
          "text": [
            "deb https://ngrok-agent.s3.amazonaws.com buster main\n",
            "Get:1 https://cloud.r-project.org/bin/linux/ubuntu bionic-cran40/ InRelease [3,626 B]\n",
            "Ign:2 https://developer.download.nvidia.com/compute/machine-learning/repos/ubuntu1804/x86_64  InRelease\n",
            "Get:3 https://developer.download.nvidia.com/compute/cuda/repos/ubuntu1804/x86_64  InRelease [1,581 B]\n",
            "Hit:4 https://developer.download.nvidia.com/compute/machine-learning/repos/ubuntu1804/x86_64  Release\n",
            "Get:5 http://security.ubuntu.com/ubuntu bionic-security InRelease [88.7 kB]\n",
            "Get:6 https://ngrok-agent.s3.amazonaws.com buster InRelease [20.3 kB]\n",
            "Hit:7 http://archive.ubuntu.com/ubuntu bionic InRelease\n",
            "Get:8 https://developer.download.nvidia.com/compute/cuda/repos/ubuntu1804/x86_64  Packages [1,039 kB]\n",
            "Hit:9 http://ppa.launchpad.net/c2d4u.team/c2d4u4.0+/ubuntu bionic InRelease\n",
            "Get:10 http://archive.ubuntu.com/ubuntu bionic-updates InRelease [88.7 kB]\n",
            "Get:12 https://ngrok-agent.s3.amazonaws.com buster/main amd64 Packages [1,588 B]\n",
            "Hit:13 http://ppa.launchpad.net/cran/libgit2/ubuntu bionic InRelease\n",
            "Get:14 http://security.ubuntu.com/ubuntu bionic-security/restricted amd64 Packages [1,307 kB]\n",
            "Get:15 http://archive.ubuntu.com/ubuntu bionic-backports InRelease [83.3 kB]\n",
            "Hit:16 http://ppa.launchpad.net/deadsnakes/ppa/ubuntu bionic InRelease\n",
            "Get:17 http://ppa.launchpad.net/graphics-drivers/ppa/ubuntu bionic InRelease [21.3 kB]\n",
            "Get:18 http://security.ubuntu.com/ubuntu bionic-security/multiverse amd64 Packages [22.9 kB]\n",
            "Get:19 http://security.ubuntu.com/ubuntu bionic-security/main amd64 Packages [3,094 kB]\n",
            "Get:20 http://archive.ubuntu.com/ubuntu bionic-updates/restricted amd64 Packages [1,348 kB]\n",
            "Get:21 http://security.ubuntu.com/ubuntu bionic-security/universe amd64 Packages [1,568 kB]\n",
            "Get:22 http://archive.ubuntu.com/ubuntu bionic-updates/main amd64 Packages [3,519 kB]\n",
            "Get:23 http://ppa.launchpad.net/graphics-drivers/ppa/ubuntu bionic/main amd64 Packages [40.8 kB]\n",
            "Get:24 http://archive.ubuntu.com/ubuntu bionic-updates/universe amd64 Packages [2,342 kB]\n",
            "Get:25 http://archive.ubuntu.com/ubuntu bionic-updates/multiverse amd64 Packages [30.0 kB]\n",
            "Fetched 14.6 MB in 3s (5,106 kB/s)\n",
            "Reading package lists... Done\n",
            "Building dependency tree       \n",
            "Reading state information... Done\n",
            "20 packages can be upgraded. Run 'apt list --upgradable' to see them.\n",
            "Reading package lists... Done\n",
            "Building dependency tree       \n",
            "Reading state information... Done\n",
            "The following package was automatically installed and is no longer required:\n",
            "  libnvidia-common-460\n",
            "Use 'sudo apt autoremove' to remove it.\n",
            "The following NEW packages will be installed:\n",
            "  ngrok\n",
            "0 upgraded, 1 newly installed, 0 to remove and 20 not upgraded.\n",
            "Need to get 6,646 kB of archives.\n",
            "After this operation, 0 B of additional disk space will be used.\n",
            "Get:1 https://ngrok-agent.s3.amazonaws.com buster/main amd64 ngrok amd64 3.1.0 [6,646 kB]\n",
            "Fetched 6,646 kB in 1s (11.1 MB/s)\n",
            "debconf: unable to initialize frontend: Dialog\n",
            "debconf: (No usable dialog-like program is installed, so the dialog based frontend cannot be used. at /usr/share/perl5/Debconf/FrontEnd/Dialog.pm line 76, <> line 1.)\n",
            "debconf: falling back to frontend: Readline\n",
            "debconf: unable to initialize frontend: Readline\n",
            "debconf: (This frontend requires a controlling tty.)\n",
            "debconf: falling back to frontend: Teletype\n",
            "dpkg-preconfigure: unable to re-open stdin: \n",
            "Selecting previously unselected package ngrok.\n",
            "(Reading database ... 123991 files and directories currently installed.)\n",
            "Preparing to unpack .../archives/ngrok_3.1.0_amd64.deb ...\n",
            "Unpacking ngrok (3.1.0) ...\n",
            "Setting up ngrok (3.1.0) ...\n"
          ]
        }
      ]
    },
    {
      "cell_type": "code",
      "source": [
        "!ngrok authtoken 2IPVkOKmGqvykweHVVEg0J9xY8X_3E9ktLLD4qbJeWToCN4B"
      ],
      "metadata": {
        "colab": {
          "base_uri": "https://localhost:8080/"
        },
        "id": "JKuSlFdW8txL",
        "outputId": "8bd1b8d3-5f09-4029-ec37-37ac0829c3e6"
      },
      "execution_count": 414,
      "outputs": [
        {
          "output_type": "stream",
          "name": "stdout",
          "text": [
            "Authtoken saved to configuration file: /root/.config/ngrok/ngrok.yml\n"
          ]
        }
      ]
    },
    {
      "cell_type": "code",
      "source": [
        "from flask import Flask,request,jsonify\n",
        "from flask_ngrok import run_with_ngrok\n",
        "steer_model = pk.load(open('steer_model.pkl','rb'))\n",
        "app = Flask(__name__)\n",
        "run_with_ngrok(app)\n",
        "@app.route('/')\n",
        "def index():\n",
        "    return \"<h1>Welcome to the steer pricing application</h1>\"\n",
        "@app.route('/predict',methods=['POST'])\n",
        "def predict():\n",
        "    min_weight = request.form.get('Min Weight in kg')\n",
        "    max_weight = request.form.get('Max Weight in kg')\n",
        "    input_query = np.array([[min_weight, max_weight]])\n",
        "    result = steer_model.predict(input_query)[0]\n",
        "    return jsonify({'Steer Price':str(result)})\n",
        "\n",
        "    app.run()"
      ],
      "metadata": {
        "id": "IQWCrmvHk-4n"
      },
      "execution_count": 428,
      "outputs": []
    },
    {
      "cell_type": "code",
      "source": [
        "import requests\n",
        "\n",
        "result = requests.get(\"http://a0c4-34-125-7-43.ngrok.io\")\n",
        "print(result.text)"
      ],
      "metadata": {
        "colab": {
          "base_uri": "https://localhost:8080/"
        },
        "id": "r1fS-unztpCh",
        "outputId": "9248fb5b-e148-4df0-b404-8953d0d25268"
      },
      "execution_count": 429,
      "outputs": [
        {
          "output_type": "stream",
          "name": "stdout",
          "text": [
            "<!DOCTYPE html>\n",
            "<html lang=\"en-US\">\n",
            "  <head>\n",
            "    <meta charset=\"utf-8\">\n",
            "    <meta name=\"author\" content=\"ngrok\">\n",
            "    <meta name=\"description\" content=\"ngrok is the fastest way to put anything on the internet with a single command.\">\n",
            "    <meta name=\"robots\" content=\"noindex, nofollow\">\n",
            "    <meta name=\"viewport\" content=\"width=device-width, initial-scale=1\">\n",
            "    <link id=\"style\" rel=\"stylesheet\" href=\"https://cdn.ngrok.com/static/css/error.css\">\n",
            "    <noscript>Tunnel a0c4-34-125-7-43.ngrok.io not found (ERR_NGROK_3200)</noscript>\n",
            "    <script id=\"script\" src=\"https://cdn.ngrok.com/static/js/error.js\" type=\"text/javascript\"></script>\n",
            "  </head>\n",
            "  <body id=\"ngrok\">\n",
            "    <div id=\"root\" data-payload=\"eyJjZG5CYXNlIjoiaHR0cHM6Ly9jZG4ubmdyb2suY29tLyIsImNvZGUiOiIzMjAwIiwibWVzc2FnZSI6IlR1bm5lbCBhMGM0LTM0LTEyNS03LTQzLm5ncm9rLmlvIG5vdCBmb3VuZCIsInRpdGxlIjoiTm90IEZvdW5kIn0=\"></div>\n",
            "  </body>\n",
            "</html>\n",
            "\n"
          ]
        }
      ]
    },
    {
      "cell_type": "markdown",
      "source": [
        "**Error rate for different K-values**"
      ],
      "metadata": {
        "id": "g7rd5YpEal5A"
      }
    },
    {
      "cell_type": "code",
      "source": [
        "rmse_val = [] #to store rmse values for different k\n",
        "for K in range(20):\n",
        "    K = K+1\n",
        "    model = KNeighborsRegressor(n_neighbors = K)\n",
        "\n",
        "    model.fit(x_train, y_train)  #fit the model\n",
        "    pred=model.predict(x_test) #make prediction on test set\n",
        "    error = sqrt(mean_squared_error(y_test,pred)) #calculate rmse\n",
        "    rmse_val.append(error) #store rmse values\n",
        "    print('RMSE value for k= ' , K , 'is:', error)"
      ],
      "metadata": {
        "id": "8s8MIKF1MFyX"
      },
      "execution_count": null,
      "outputs": []
    },
    {
      "cell_type": "code",
      "source": [
        "curve = pd.DataFrame(rmse_val)\n",
        "curve.plot()\n",
        "plt.xlabel('K-value')\n",
        "plt.ylabel('RMSE values')\n",
        "plt.title('Error Rate')\n",
        "plt.show()"
      ],
      "metadata": {
        "colab": {
          "base_uri": "https://localhost:8080/",
          "height": 301
        },
        "id": "aKxvG2F2Le2-",
        "outputId": "6ceca494-6b1a-4aaa-c511-2b8216287cbd"
      },
      "execution_count": 430,
      "outputs": [
        {
          "output_type": "display_data",
          "data": {
            "text/plain": [
              "<Figure size 432x288 with 1 Axes>"
            ],
            "image/png": "[encoded data removed]"
          },
          "metadata": {}
        }
      ]
    },
    {
      "cell_type": "code",
      "source": [
        "table_data_for_rmse_values = curve\n",
        "table_data_for_rmse_values.columns = [\"RMSE_value\"]\n",
        "table_data_for_rmse_values"
      ],
      "metadata": {
        "colab": {
          "base_uri": "https://localhost:8080/",
          "height": 677
        },
        "id": "6JUOuhpBSOrJ",
        "outputId": "b388f207-451c-4d65-ea47-95fcb45bd6f5"
      },
      "execution_count": 437,
      "outputs": [
        {
          "output_type": "execute_result",
          "data": {
            "text/plain": [
              "    RMSE_value\n",
              "0     0.985168\n",
              "1     0.861705\n",
              "2     0.818317\n",
              "3     0.782473\n",
              "4     0.798574\n",
              "5     0.758736\n",
              "6     0.727553\n",
              "7     0.721022\n",
              "8     0.716902\n",
              "9     0.729237\n",
              "10    0.723725\n",
              "11    0.719370\n",
              "12    0.715464\n",
              "13    0.712022\n",
              "14    0.709860\n",
              "15    0.701222\n",
              "16    0.700045\n",
              "17    0.696142\n",
              "18    0.692793\n",
              "19    0.693163"
            ],
            "text/html": [
              "\n",
              "  <div id=\"df-3da6f65d-3fb6-4825-be57-15983a86c7a6\">\n",
              "    <div class=\"colab-df-container\">\n",
              "      <div>\n",
              "<style scoped>\n",
              "    .dataframe tbody tr th:only-of-type {\n",
              "        vertical-align: middle;\n",
              "    }\n",
              "\n",
              "    .dataframe tbody tr th {\n",
              "        vertical-align: top;\n",
              "    }\n",
              "\n",
              "    .dataframe thead th {\n",
              "        text-align: right;\n",
              "    }\n",
              "</style>\n",
              "<table border=\"1\" class=\"dataframe\">\n",
              "  <thead>\n",
              "    <tr style=\"text-align: right;\">\n",
              "      <th></th>\n",
              "      <th>RMSE_value</th>\n",
              "    </tr>\n",
              "  </thead>\n",
              "  <tbody>\n",
              "    <tr>\n",
              "      <th>0</th>\n",
              "      <td>0.985168</td>\n",
              "    </tr>\n",
              "    <tr>\n",
              "      <th>1</th>\n",
              "      <td>0.861705</td>\n",
              "    </tr>\n",
              "    <tr>\n",
              "      <th>2</th>\n",
              "      <td>0.818317</td>\n",
              "    </tr>\n",
              "    <tr>\n",
              "      <th>3</th>\n",
              "      <td>0.782473</td>\n",
              "    </tr>\n",
              "    <tr>\n",
              "      <th>4</th>\n",
              "      <td>0.798574</td>\n",
              "    </tr>\n",
              "    <tr>\n",
              "      <th>5</th>\n",
              "      <td>0.758736</td>\n",
              "    </tr>\n",
              "    <tr>\n",
              "      <th>6</th>\n",
              "      <td>0.727553</td>\n",
              "    </tr>\n",
              "    <tr>\n",
              "      <th>7</th>\n",
              "      <td>0.721022</td>\n",
              "    </tr>\n",
              "    <tr>\n",
              "      <th>8</th>\n",
              "      <td>0.716902</td>\n",
              "    </tr>\n",
              "    <tr>\n",
              "      <th>9</th>\n",
              "      <td>0.729237</td>\n",
              "    </tr>\n",
              "    <tr>\n",
              "      <th>10</th>\n",
              "      <td>0.723725</td>\n",
              "    </tr>\n",
              "    <tr>\n",
              "      <th>11</th>\n",
              "      <td>0.719370</td>\n",
              "    </tr>\n",
              "    <tr>\n",
              "      <th>12</th>\n",
              "      <td>0.715464</td>\n",
              "    </tr>\n",
              "    <tr>\n",
              "      <th>13</th>\n",
              "      <td>0.712022</td>\n",
              "    </tr>\n",
              "    <tr>\n",
              "      <th>14</th>\n",
              "      <td>0.709860</td>\n",
              "    </tr>\n",
              "    <tr>\n",
              "      <th>15</th>\n",
              "      <td>0.701222</td>\n",
              "    </tr>\n",
              "    <tr>\n",
              "      <th>16</th>\n",
              "      <td>0.700045</td>\n",
              "    </tr>\n",
              "    <tr>\n",
              "      <th>17</th>\n",
              "      <td>0.696142</td>\n",
              "    </tr>\n",
              "    <tr>\n",
              "      <th>18</th>\n",
              "      <td>0.692793</td>\n",
              "    </tr>\n",
              "    <tr>\n",
              "      <th>19</th>\n",
              "      <td>0.693163</td>\n",
              "    </tr>\n",
              "  </tbody>\n",
              "</table>\n",
              "</div>\n",
              "      <button class=\"colab-df-convert\" onclick=\"convertToInteractive('df-3da6f65d-3fb6-4825-be57-15983a86c7a6')\"\n",
              "              title=\"Convert this dataframe to an interactive table.\"\n",
              "              style=\"display:none;\">\n",
              "        \n",
              "  <svg xmlns=\"http://www.w3.org/2000/svg\" height=\"24px\"viewBox=\"0 0 24 24\"\n",
              "       width=\"24px\">\n",
              "    <path d=\"M0 0h24v24H0V0z\" fill=\"none\"/>\n",
              "    <path d=\"M18.56 5.44l.94 2.06.94-2.06 2.06-.94-2.06-.94-.94-2.06-.94 2.06-2.06.94zm-11 1L8.5 8.5l.94-2.06 2.06-.94-2.06-.94L8.5 2.5l-.94 2.06-2.06.94zm10 10l.94 2.06.94-2.06 2.06-.94-2.06-.94-.94-2.06-.94 2.06-2.06.94z\"/><path d=\"M17.41 7.96l-1.37-1.37c-.4-.4-.92-.59-1.43-.59-.52 0-1.04.2-1.43.59L10.3 9.45l-7.72 7.72c-.78.78-.78 2.05 0 2.83L4 21.41c.39.39.9.59 1.41.59.51 0 1.02-.2 1.41-.59l7.78-7.78 2.81-2.81c.8-.78.8-2.07 0-2.86zM5.41 20L4 18.59l7.72-7.72 1.47 1.35L5.41 20z\"/>\n",
              "  </svg>\n",
              "      </button>\n",
              "      \n",
              "  <style>\n",
              "    .colab-df-container {\n",
              "      display:flex;\n",
              "      flex-wrap:wrap;\n",
              "      gap: 12px;\n",
              "    }\n",
              "\n",
              "    .colab-df-convert {\n",
              "      background-color: #E8F0FE;\n",
              "      border: none;\n",
              "      border-radius: 50%;\n",
              "      cursor: pointer;\n",
              "      display: none;\n",
              "      fill: #1967D2;\n",
              "      height: 32px;\n",
              "      padding: 0 0 0 0;\n",
              "      width: 32px;\n",
              "    }\n",
              "\n",
              "    .colab-df-convert:hover {\n",
              "      background-color: #E2EBFA;\n",
              "      box-shadow: 0px 1px 2px rgba(60, 64, 67, 0.3), 0px 1px 3px 1px rgba(60, 64, 67, 0.15);\n",
              "      fill: #174EA6;\n",
              "    }\n",
              "\n",
              "    [theme=dark] .colab-df-convert {\n",
              "      background-color: #3B4455;\n",
              "      fill: #D2E3FC;\n",
              "    }\n",
              "\n",
              "    [theme=dark] .colab-df-convert:hover {\n",
              "      background-color: #434B5C;\n",
              "      box-shadow: 0px 1px 3px 1px rgba(0, 0, 0, 0.15);\n",
              "      filter: drop-shadow(0px 1px 2px rgba(0, 0, 0, 0.3));\n",
              "      fill: #FFFFFF;\n",
              "    }\n",
              "  </style>\n",
              "\n",
              "      <script>\n",
              "        const buttonEl =\n",
              "          document.querySelector('#df-3da6f65d-3fb6-4825-be57-15983a86c7a6 button.colab-df-convert');\n",
              "        buttonEl.style.display =\n",
              "          google.colab.kernel.accessAllowed ? 'block' : 'none';\n",
              "\n",
              "        async function convertToInteractive(key) {\n",
              "          const element = document.querySelector('#df-3da6f65d-3fb6-4825-be57-15983a86c7a6');\n",
              "          const dataTable =\n",
              "            await google.colab.kernel.invokeFunction('convertToInteractive',\n",
              "                                                     [key], {});\n",
              "          if (!dataTable) return;\n",
              "\n",
              "          const docLinkHtml = 'Like what you see? Visit the ' +\n",
              "            '<a target=\"_blank\" href=https://colab.research.google.com/notebooks/data_table.ipynb>data table notebook</a>'\n",
              "            + ' to learn more about interactive tables.';\n",
              "          element.innerHTML = '';\n",
              "          dataTable['output_type'] = 'display_data';\n",
              "          await google.colab.output.renderOutput(dataTable, element);\n",
              "          const docLink = document.createElement('div');\n",
              "          docLink.innerHTML = docLinkHtml;\n",
              "          element.appendChild(docLink);\n",
              "        }\n",
              "      </script>\n",
              "    </div>\n",
              "  </div>\n",
              "  "
            ]
          },
          "metadata": {},
          "execution_count": 437
        }
      ]
    },
    {
      "cell_type": "code",
      "source": [
        "train_set = pd.DataFrame(x_train)\n",
        "train_set.plot()"
      ],
      "metadata": {
        "colab": {
          "base_uri": "https://localhost:8080/",
          "height": 288
        },
        "id": "cnlqLJkDaByC",
        "outputId": "c741f408-c497-4fe3-e5d0-c5f6e3c603e8"
      },
      "execution_count": 438,
      "outputs": [
        {
          "output_type": "execute_result",
          "data": {
            "text/plain": [
              "<matplotlib.axes._subplots.AxesSubplot at 0x7fae1c47f450>"
            ]
          },
          "metadata": {},
          "execution_count": 438
        },
        {
          "output_type": "display_data",
          "data": {
            "text/plain": [
              "<Figure size 432x288 with 1 Axes>"
            ],
            "image/png": "[encoded data removed]"
          },
          "metadata": {}
        }
      ]
    },
    {
      "cell_type": "markdown",
      "source": [
        "**Optimal Value for neighbor**\n",
        "**Validate model with sample**"
      ],
      "metadata": {
        "id": "L_D0yjCFUwTm"
      }
    },
    {
      "cell_type": "markdown",
      "source": [
        "**Implementing GridSearchCV**\n",
        "- For deciding the value of k, plotting the elbow curve every time is be a cumbersome and tedious process. You can simply use gridsearch to find the best value."
      ],
      "metadata": {
        "id": "IfoKAGOaPSgu"
      }
    },
    {
      "cell_type": "code",
      "source": [
        "from sklearn.model_selection import GridSearchCV\n",
        "params = {'n_neighbors':[2,3,4,5,6,7,8,9]}\n",
        "knn = KNeighborsRegressor()\n",
        "\n",
        "model = GridSearchCV(knn, params, cv=5)\n",
        "model.fit(x_train,y_train)\n",
        "knn_pred = model.predict(x_test)\n",
        "model.best_params_"
      ],
      "metadata": {
        "colab": {
          "base_uri": "https://localhost:8080/"
        },
        "id": "MjhGRMWCMi3J",
        "outputId": "29142fa9-9253-4243-b4cd-42831feb101d"
      },
      "execution_count": 431,
      "outputs": [
        {
          "output_type": "execute_result",
          "data": {
            "text/plain": [
              "{'n_neighbors': 9}"
            ]
          },
          "metadata": {},
          "execution_count": 431
        }
      ]
    },
    {
      "cell_type": "code",
      "source": [
        "r2_score(y_test, knn_pred)"
      ],
      "metadata": {
        "colab": {
          "base_uri": "https://localhost:8080/"
        },
        "id": "aGWuYgWh_GJV",
        "outputId": "37b9739f-0c85-4f47-b4ad-d40096b0a670"
      },
      "execution_count": 432,
      "outputs": [
        {
          "output_type": "execute_result",
          "data": {
            "text/plain": [
              "-0.09995146940715349"
            ]
          },
          "metadata": {},
          "execution_count": 432
        }
      ]
    },
    {
      "cell_type": "code",
      "source": [
        "predictions = pd.DataFrame(knn_pred, columns=[\"Predictions\"])\n",
        "predictions"
      ],
      "metadata": {
        "colab": {
          "base_uri": "https://localhost:8080/",
          "height": 424
        },
        "id": "KQsizSa-P5YV",
        "outputId": "2c376b11-e01e-4507-fbe5-94d5f24251b2"
      },
      "execution_count": 433,
      "outputs": [
        {
          "output_type": "execute_result",
          "data": {
            "text/plain": [
              "     Predictions\n",
              "0       5.822295\n",
              "1       5.769415\n",
              "2       5.354797\n",
              "3       5.543624\n",
              "4       5.354797\n",
              "..           ...\n",
              "216     5.822295\n",
              "217     5.543624\n",
              "218     5.543624\n",
              "219     5.543624\n",
              "220     5.769415\n",
              "\n",
              "[221 rows x 1 columns]"
            ],
            "text/html": [
              "\n",
              "  <div id=\"df-a7b7095b-66c9-42ad-b588-fc3c795e91d4\">\n",
              "    <div class=\"colab-df-container\">\n",
              "      <div>\n",
              "<style scoped>\n",
              "    .dataframe tbody tr th:only-of-type {\n",
              "        vertical-align: middle;\n",
              "    }\n",
              "\n",
              "    .dataframe tbody tr th {\n",
              "        vertical-align: top;\n",
              "    }\n",
              "\n",
              "    .dataframe thead th {\n",
              "        text-align: right;\n",
              "    }\n",
              "</style>\n",
              "<table border=\"1\" class=\"dataframe\">\n",
              "  <thead>\n",
              "    <tr style=\"text-align: right;\">\n",
              "      <th></th>\n",
              "      <th>Predictions</th>\n",
              "    </tr>\n",
              "  </thead>\n",
              "  <tbody>\n",
              "    <tr>\n",
              "      <th>0</th>\n",
              "      <td>5.822295</td>\n",
              "    </tr>\n",
              "    <tr>\n",
              "      <th>1</th>\n",
              "      <td>5.769415</td>\n",
              "    </tr>\n",
              "    <tr>\n",
              "      <th>2</th>\n",
              "      <td>5.354797</td>\n",
              "    </tr>\n",
              "    <tr>\n",
              "      <th>3</th>\n",
              "      <td>5.543624</td>\n",
              "    </tr>\n",
              "    <tr>\n",
              "      <th>4</th>\n",
              "      <td>5.354797</td>\n",
              "    </tr>\n",
              "    <tr>\n",
              "      <th>...</th>\n",
              "      <td>...</td>\n",
              "    </tr>\n",
              "    <tr>\n",
              "      <th>216</th>\n",
              "      <td>5.822295</td>\n",
              "    </tr>\n",
              "    <tr>\n",
              "      <th>217</th>\n",
              "      <td>5.543624</td>\n",
              "    </tr>\n",
              "    <tr>\n",
              "      <th>218</th>\n",
              "      <td>5.543624</td>\n",
              "    </tr>\n",
              "    <tr>\n",
              "      <th>219</th>\n",
              "      <td>5.543624</td>\n",
              "    </tr>\n",
              "    <tr>\n",
              "      <th>220</th>\n",
              "      <td>5.769415</td>\n",
              "    </tr>\n",
              "  </tbody>\n",
              "</table>\n",
              "<p>221 rows × 1 columns</p>\n",
              "</div>\n",
              "      <button class=\"colab-df-convert\" onclick=\"convertToInteractive('df-a7b7095b-66c9-42ad-b588-fc3c795e91d4')\"\n",
              "              title=\"Convert this dataframe to an interactive table.\"\n",
              "              style=\"display:none;\">\n",
              "        \n",
              "  <svg xmlns=\"http://www.w3.org/2000/svg\" height=\"24px\"viewBox=\"0 0 24 24\"\n",
              "       width=\"24px\">\n",
              "    <path d=\"M0 0h24v24H0V0z\" fill=\"none\"/>\n",
              "    <path d=\"M18.56 5.44l.94 2.06.94-2.06 2.06-.94-2.06-.94-.94-2.06-.94 2.06-2.06.94zm-11 1L8.5 8.5l.94-2.06 2.06-.94-2.06-.94L8.5 2.5l-.94 2.06-2.06.94zm10 10l.94 2.06.94-2.06 2.06-.94-2.06-.94-.94-2.06-.94 2.06-2.06.94z\"/><path d=\"M17.41 7.96l-1.37-1.37c-.4-.4-.92-.59-1.43-.59-.52 0-1.04.2-1.43.59L10.3 9.45l-7.72 7.72c-.78.78-.78 2.05 0 2.83L4 21.41c.39.39.9.59 1.41.59.51 0 1.02-.2 1.41-.59l7.78-7.78 2.81-2.81c.8-.78.8-2.07 0-2.86zM5.41 20L4 18.59l7.72-7.72 1.47 1.35L5.41 20z\"/>\n",
              "  </svg>\n",
              "      </button>\n",
              "      \n",
              "  <style>\n",
              "    .colab-df-container {\n",
              "      display:flex;\n",
              "      flex-wrap:wrap;\n",
              "      gap: 12px;\n",
              "    }\n",
              "\n",
              "    .colab-df-convert {\n",
              "      background-color: #E8F0FE;\n",
              "      border: none;\n",
              "      border-radius: 50%;\n",
              "      cursor: pointer;\n",
              "      display: none;\n",
              "      fill: #1967D2;\n",
              "      height: 32px;\n",
              "      padding: 0 0 0 0;\n",
              "      width: 32px;\n",
              "    }\n",
              "\n",
              "    .colab-df-convert:hover {\n",
              "      background-color: #E2EBFA;\n",
              "      box-shadow: 0px 1px 2px rgba(60, 64, 67, 0.3), 0px 1px 3px 1px rgba(60, 64, 67, 0.15);\n",
              "      fill: #174EA6;\n",
              "    }\n",
              "\n",
              "    [theme=dark] .colab-df-convert {\n",
              "      background-color: #3B4455;\n",
              "      fill: #D2E3FC;\n",
              "    }\n",
              "\n",
              "    [theme=dark] .colab-df-convert:hover {\n",
              "      background-color: #434B5C;\n",
              "      box-shadow: 0px 1px 3px 1px rgba(0, 0, 0, 0.15);\n",
              "      filter: drop-shadow(0px 1px 2px rgba(0, 0, 0, 0.3));\n",
              "      fill: #FFFFFF;\n",
              "    }\n",
              "  </style>\n",
              "\n",
              "      <script>\n",
              "        const buttonEl =\n",
              "          document.querySelector('#df-a7b7095b-66c9-42ad-b588-fc3c795e91d4 button.colab-df-convert');\n",
              "        buttonEl.style.display =\n",
              "          google.colab.kernel.accessAllowed ? 'block' : 'none';\n",
              "\n",
              "        async function convertToInteractive(key) {\n",
              "          const element = document.querySelector('#df-a7b7095b-66c9-42ad-b588-fc3c795e91d4');\n",
              "          const dataTable =\n",
              "            await google.colab.kernel.invokeFunction('convertToInteractive',\n",
              "                                                     [key], {});\n",
              "          if (!dataTable) return;\n",
              "\n",
              "          const docLinkHtml = 'Like what you see? Visit the ' +\n",
              "            '<a target=\"_blank\" href=https://colab.research.google.com/notebooks/data_table.ipynb>data table notebook</a>'\n",
              "            + ' to learn more about interactive tables.';\n",
              "          element.innerHTML = '';\n",
              "          dataTable['output_type'] = 'display_data';\n",
              "          await google.colab.output.renderOutput(dataTable, element);\n",
              "          const docLink = document.createElement('div');\n",
              "          docLink.innerHTML = docLinkHtml;\n",
              "          element.appendChild(docLink);\n",
              "        }\n",
              "      </script>\n",
              "    </div>\n",
              "  </div>\n",
              "  "
            ]
          },
          "metadata": {},
          "execution_count": 433
        }
      ]
    },
    {
      "cell_type": "code",
      "source": [
        "rmse = sqrt(mean_squared_error(y_test, knn_pred))\n",
        "rmse"
      ],
      "metadata": {
        "colab": {
          "base_uri": "https://localhost:8080/"
        },
        "id": "VYqhkwG5OXpJ",
        "outputId": "c60da2f9-e75d-4454-a406-c7aaaaad7ec3"
      },
      "execution_count": 435,
      "outputs": [
        {
          "output_type": "execute_result",
          "data": {
            "text/plain": [
              "0.71690199824581"
            ]
          },
          "metadata": {},
          "execution_count": 435
        }
      ]
    },
    {
      "cell_type": "code",
      "source": [
        "mse = mean_squared_error(y_test, knn_pred)\n",
        "mse"
      ],
      "metadata": {
        "colab": {
          "base_uri": "https://localhost:8080/"
        },
        "id": "NEgSLLbRb24y",
        "outputId": "932aa2f4-b9d9-4118-a826-60c6740e205e"
      },
      "execution_count": 436,
      "outputs": [
        {
          "output_type": "execute_result",
          "data": {
            "text/plain": [
              "0.5139484750888355"
            ]
          },
          "metadata": {},
          "execution_count": 436
        }
      ]
    },
    {
      "cell_type": "code",
      "source": [
        "sns.set()\n",
        "\n",
        "fig, ax = plt.subplots()\n",
        "\n",
        "#ax.plot(list(range(1, K)),\n",
        "        #mse_lin,\n",
        "        #color = 'orange',\n",
        "        #label = 'linear')\n",
        "\n",
        "ax.plot(list(range(1, K)),\n",
        "        rmse_val,\n",
        "        color = 'red',\n",
        "        #marker = 'o',\n",
        "        markerfacecolor = '#000C1F'\n",
        "        #label = 'non-linear'\n",
        "        )\n",
        "ax.legend(loc= 'lower right')\n",
        "ax.set_title('Root Mean Squared Error (MSE)')\n",
        "ax.set_ylabel('K')\n",
        "ax.set_ylabel('RMSE')\n",
        "\n",
        "plt.ylim(0);"
      ],
      "metadata": {
        "id": "BKuPFVYSbTdX"
      },
      "execution_count": null,
      "outputs": []
    }
  ],
  "metadata": {
    "colab": {
      "provenance": [],
      "include_colab_link": true
    },
    "kernelspec": {
      "display_name": "Python 3",
      "name": "python3"
    },
    "language_info": {
      "name": "python"
    }
  },
  "nbformat": 4,
  "nbformat_minor": 0
}