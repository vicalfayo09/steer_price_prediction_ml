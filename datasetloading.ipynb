{
  "cells": [
    {
      "cell_type": "markdown",
      "metadata": {
        "id": "view-in-github",
        "colab_type": "text"
      },
      "source": [
        "<a href=\"https://colab.research.google.com/github/vicalfayo09/steer_price_prediction_ml/blob/main/datasetloading.ipynb\" target=\"_parent\"><img src=\"https://colab.research.google.com/assets/colab-badge.svg\" alt=\"Open In Colab\"/></a>"
      ]
    },
    {
      "cell_type": "code",
      "execution_count": 237,
      "metadata": {
        "id": "_E9j-G29QzFc"
      },
      "outputs": [],
      "source": [
        "#from sklearn.linear_model import LinearRegression\n",
        "#import pandas as pd\n",
        "#import numpy as np\n",
        "#from google.colab import files\n",
        "\n",
        "#uploaded = files.upload()\n",
        "\n",
        "\n",
        "\n",
        "\n"
      ]
    },
    {
      "cell_type": "code",
      "execution_count": 238,
      "metadata": {
        "id": "nROR71RnYByG"
      },
      "outputs": [],
      "source": [
        "#import io\n",
        "#path = './home/alfayo/Downloads/weeklycattleprice_en.xlsx'\n",
        "# Reading the data from the CSV file\n",
        "#data = pd.read_excel(io.BytesIO(uploaded['weeklycattleprice_en.xlsx'])) \n"
      ]
    },
    {
      "cell_type": "code",
      "execution_count": 239,
      "metadata": {
        "id": "UF0urf4WYqTY"
      },
      "outputs": [],
      "source": [
        "#data.shape"
      ]
    },
    {
      "cell_type": "code",
      "execution_count": 240,
      "metadata": {
        "id": "gMLvfy3GaDaC"
      },
      "outputs": [],
      "source": [
        "#data.columns"
      ]
    },
    {
      "cell_type": "code",
      "execution_count": 241,
      "metadata": {
        "id": "zjoff9iGYlGc"
      },
      "outputs": [],
      "source": [
        "#X , y = data.values[ : , 0 ] , data.values[ : , 1 ]\n",
        "#X = np.expand_dims( X , axis=1 )\n",
        "\n",
        "# Fitting the linear regression model\n",
        "#regressor = LinearRegression()\n",
        "#regressor.fit( X , y )\n",
        "\n",
        "# Make predictions\n",
        "#print( f'Prediction for 8.5 hours is {regressor.predict([[8.5]])[0]}' )"
      ]
    },
    {
      "cell_type": "code",
      "execution_count": 242,
      "metadata": {
        "id": "K6F-kb64abjv"
      },
      "outputs": [],
      "source": [
        "#uploaded2 = files.upload()"
      ]
    },
    {
      "cell_type": "code",
      "execution_count": 243,
      "metadata": {
        "id": "kjXChmOzasDm"
      },
      "outputs": [],
      "source": [
        "#data2 = pd.read_csv(io.BytesIO(uploaded2['AJA01.20221011194750.csv']))"
      ]
    },
    {
      "cell_type": "code",
      "execution_count": 244,
      "metadata": {
        "id": "XBQDl1TKa7_E"
      },
      "outputs": [],
      "source": [
        "#data2"
      ]
    },
    {
      "cell_type": "code",
      "execution_count": 245,
      "metadata": {
        "id": "IPxTon2ufc_i"
      },
      "outputs": [],
      "source": [
        "#data2.head()"
      ]
    },
    {
      "cell_type": "code",
      "execution_count": 246,
      "metadata": {
        "id": "V-iBHpgRf-Dn"
      },
      "outputs": [],
      "source": [
        "#data2[data2['Type of Cattle'].str.contains('Bu')].count()"
      ]
    },
    {
      "cell_type": "code",
      "execution_count": 247,
      "metadata": {
        "id": "-edkkqJ0ib11"
      },
      "outputs": [],
      "source": [
        "#data2.count()"
      ]
    },
    {
      "cell_type": "code",
      "execution_count": 248,
      "metadata": {
        "id": "mnwssw9sm7mK"
      },
      "outputs": [],
      "source": [
        "#data2['Type of Cattle'] = data2['Type of Cattle'].str.extract( r'\\w(\\d+\\w)', expand=False ).split().astype(float)"
      ]
    },
    {
      "cell_type": "code",
      "execution_count": 249,
      "metadata": {
        "id": "OVARo0EDsUyQ"
      },
      "outputs": [],
      "source": [
        "#data2['Type of Cattle']"
      ]
    },
    {
      "cell_type": "code",
      "execution_count": 250,
      "metadata": {
        "id": "O3oyTJJV1dmr"
      },
      "outputs": [],
      "source": [
        "#import re\n",
        "#bullock = \"Bullocks 200-250kg\"\n",
        "#bullock_val_1 = re.findall('\\w.(\\d+[^A-Za-z]+\\d+\\w+)', bullock)"
      ]
    },
    {
      "cell_type": "code",
      "execution_count": 251,
      "metadata": {
        "id": "ypRtXWi6elJE"
      },
      "outputs": [],
      "source": [
        "#bullock_val_1"
      ]
    },
    {
      "cell_type": "code",
      "execution_count": 252,
      "metadata": {
        "id": "Lp01UPCB7GM0"
      },
      "outputs": [],
      "source": [
        "#df = pd.DataFrame(data2)"
      ]
    },
    {
      "cell_type": "code",
      "execution_count": 253,
      "metadata": {
        "id": "2Q5H8hp2Et_R"
      },
      "outputs": [],
      "source": [
        "#df"
      ]
    },
    {
      "cell_type": "code",
      "execution_count": 254,
      "metadata": {
        "id": "FDXFfChFGGVW"
      },
      "outputs": [],
      "source": [
        "#initial_columns = df.columns\n",
        "#initial_columns"
      ]
    },
    {
      "cell_type": "code",
      "execution_count": 255,
      "metadata": {
        "id": "XFkOZxjUHBgS"
      },
      "outputs": [],
      "source": [
        "#col_names = []\n",
        "#for old in df.columns:\n",
        "    #new = re.sub( r\"[,]\" ,'',old.strip()) \n",
        "    #new = re.sub( r\"[\\n\\s/]\" ,'_',new) \n",
        "    #col_names.append(new.lower()) \n",
        "#df.rename(columns=dict(zip(df.columns, col_names)), )"
      ]
    },
    {
      "cell_type": "code",
      "execution_count": 256,
      "metadata": {
        "id": "l9lElB6Z9OIh"
      },
      "outputs": [],
      "source": [
        "#for weight in df[\"Type of Cattle\"]:\n",
        "  #bullock_val_2 = re.findall('\\w.(\\d+[^A-Za-z]+\\d+\\w+)', weight)"
      ]
    },
    {
      "cell_type": "code",
      "execution_count": 257,
      "metadata": {
        "id": "Zy3hTvtl8hPU"
      },
      "outputs": [],
      "source": [
        "#df.insert(6, \"Weight\", bullock_val_2, True)"
      ]
    },
    {
      "cell_type": "markdown",
      "source": [
        "**MAIN CODE**"
      ],
      "metadata": {
        "id": "PlrnmSmEOhV3"
      }
    },
    {
      "cell_type": "code",
      "source": [
        "import matplotlib.pyplot as plt\n",
        "import pandas as pd\n",
        "import numpy as np\n",
        "import seaborn as sns\n",
        "from sklearn import preprocessing\n",
        "from sklearn.neighbors import KNeighborsRegressor\n",
        "from sklearn.model_selection import train_test_split"
      ],
      "metadata": {
        "id": "dgO3DudeMGjN"
      },
      "execution_count": 258,
      "outputs": []
    },
    {
      "cell_type": "code",
      "source": [
        "pd.set_option('display.max_columns', None)"
      ],
      "metadata": {
        "id": "G2l_JVIDMH5f"
      },
      "execution_count": 259,
      "outputs": []
    },
    {
      "cell_type": "code",
      "execution_count": 260,
      "metadata": {
        "id": "xaY133rN8LMM"
      },
      "outputs": [],
      "source": [
        "!pip install -U -q PyDrive\n",
        "from pydrive.auth import GoogleAuth\n",
        "from pydrive.drive import GoogleDrive\n",
        "from google.colab import auth\n",
        "from oauth2client.client import GoogleCredentials\n"
      ]
    },
    {
      "cell_type": "code",
      "execution_count": 261,
      "metadata": {
        "id": "7_1nPAsE8scf"
      },
      "outputs": [],
      "source": [
        "auth.authenticate_user()\n",
        "gauth = GoogleAuth()\n",
        "gauth.credentials = GoogleCredentials.get_application_default()\n",
        "drive = GoogleDrive(gauth)"
      ]
    },
    {
      "cell_type": "code",
      "execution_count": 262,
      "metadata": {
        "id": "UxJBtjId9FBE"
      },
      "outputs": [],
      "source": [
        "#https://drive.google.com/file/d/1yi6uL3islOb2a5XZEBmQlF1NnSRroMHT/view?usp=sharing\n",
        "fileDownloaded = drive.CreateFile({'id':'1yi6uL3islOb2a5XZEBmQlF1NnSRroMHT'})"
      ]
    },
    {
      "cell_type": "code",
      "execution_count": 263,
      "metadata": {
        "id": "6dCoJ5RE9oE6"
      },
      "outputs": [],
      "source": [
        "fileDownloaded.GetContentFile('AJA01.20221011194750.csv')"
      ]
    },
    {
      "cell_type": "code",
      "execution_count": 264,
      "metadata": {
        "colab": {
          "base_uri": "https://localhost:8080/",
          "height": 206
        },
        "id": "VZDTvOXY-ABx",
        "outputId": "838d6e4b-6ea5-4e4f-c809-89dfa6c75eb4"
      },
      "outputs": [
        {
          "output_type": "execute_result",
          "data": {
            "text/plain": [
              "  STATISTIC CODE              Statistic  TLIST(A1)  Year C01782V02140  \\\n",
              "0        AJA01C1  Cattle Price per Head       1976  1976         B200   \n",
              "1        AJA01C1  Cattle Price per Head       1976  1976         B250   \n",
              "2        AJA01C1  Cattle Price per Head       1976  1976         B300   \n",
              "3        AJA01C1  Cattle Price per Head       1976  1976         B350   \n",
              "4        AJA01C1  Cattle Price per Head       1976  1976         B400   \n",
              "\n",
              "       Type of Cattle  UNIT   VALUE  \n",
              "0  Bullocks 200-249kg  Euro     NaN  \n",
              "1  Bullocks 250-299kg  Euro     NaN  \n",
              "2  Bullocks 300-349kg  Euro  238.29  \n",
              "3  Bullocks 350-399kg  Euro  270.47  \n",
              "4  Bullocks 400-449kg  Euro  302.43  "
            ],
            "text/html": [
              "\n",
              "  <div id=\"df-8fefd525-c677-4263-a0fe-84ab44bb467b\">\n",
              "    <div class=\"colab-df-container\">\n",
              "      <div>\n",
              "<style scoped>\n",
              "    .dataframe tbody tr th:only-of-type {\n",
              "        vertical-align: middle;\n",
              "    }\n",
              "\n",
              "    .dataframe tbody tr th {\n",
              "        vertical-align: top;\n",
              "    }\n",
              "\n",
              "    .dataframe thead th {\n",
              "        text-align: right;\n",
              "    }\n",
              "</style>\n",
              "<table border=\"1\" class=\"dataframe\">\n",
              "  <thead>\n",
              "    <tr style=\"text-align: right;\">\n",
              "      <th></th>\n",
              "      <th>STATISTIC CODE</th>\n",
              "      <th>Statistic</th>\n",
              "      <th>TLIST(A1)</th>\n",
              "      <th>Year</th>\n",
              "      <th>C01782V02140</th>\n",
              "      <th>Type of Cattle</th>\n",
              "      <th>UNIT</th>\n",
              "      <th>VALUE</th>\n",
              "    </tr>\n",
              "  </thead>\n",
              "  <tbody>\n",
              "    <tr>\n",
              "      <th>0</th>\n",
              "      <td>AJA01C1</td>\n",
              "      <td>Cattle Price per Head</td>\n",
              "      <td>1976</td>\n",
              "      <td>1976</td>\n",
              "      <td>B200</td>\n",
              "      <td>Bullocks 200-249kg</td>\n",
              "      <td>Euro</td>\n",
              "      <td>NaN</td>\n",
              "    </tr>\n",
              "    <tr>\n",
              "      <th>1</th>\n",
              "      <td>AJA01C1</td>\n",
              "      <td>Cattle Price per Head</td>\n",
              "      <td>1976</td>\n",
              "      <td>1976</td>\n",
              "      <td>B250</td>\n",
              "      <td>Bullocks 250-299kg</td>\n",
              "      <td>Euro</td>\n",
              "      <td>NaN</td>\n",
              "    </tr>\n",
              "    <tr>\n",
              "      <th>2</th>\n",
              "      <td>AJA01C1</td>\n",
              "      <td>Cattle Price per Head</td>\n",
              "      <td>1976</td>\n",
              "      <td>1976</td>\n",
              "      <td>B300</td>\n",
              "      <td>Bullocks 300-349kg</td>\n",
              "      <td>Euro</td>\n",
              "      <td>238.29</td>\n",
              "    </tr>\n",
              "    <tr>\n",
              "      <th>3</th>\n",
              "      <td>AJA01C1</td>\n",
              "      <td>Cattle Price per Head</td>\n",
              "      <td>1976</td>\n",
              "      <td>1976</td>\n",
              "      <td>B350</td>\n",
              "      <td>Bullocks 350-399kg</td>\n",
              "      <td>Euro</td>\n",
              "      <td>270.47</td>\n",
              "    </tr>\n",
              "    <tr>\n",
              "      <th>4</th>\n",
              "      <td>AJA01C1</td>\n",
              "      <td>Cattle Price per Head</td>\n",
              "      <td>1976</td>\n",
              "      <td>1976</td>\n",
              "      <td>B400</td>\n",
              "      <td>Bullocks 400-449kg</td>\n",
              "      <td>Euro</td>\n",
              "      <td>302.43</td>\n",
              "    </tr>\n",
              "  </tbody>\n",
              "</table>\n",
              "</div>\n",
              "      <button class=\"colab-df-convert\" onclick=\"convertToInteractive('df-8fefd525-c677-4263-a0fe-84ab44bb467b')\"\n",
              "              title=\"Convert this dataframe to an interactive table.\"\n",
              "              style=\"display:none;\">\n",
              "        \n",
              "  <svg xmlns=\"http://www.w3.org/2000/svg\" height=\"24px\"viewBox=\"0 0 24 24\"\n",
              "       width=\"24px\">\n",
              "    <path d=\"M0 0h24v24H0V0z\" fill=\"none\"/>\n",
              "    <path d=\"M18.56 5.44l.94 2.06.94-2.06 2.06-.94-2.06-.94-.94-2.06-.94 2.06-2.06.94zm-11 1L8.5 8.5l.94-2.06 2.06-.94-2.06-.94L8.5 2.5l-.94 2.06-2.06.94zm10 10l.94 2.06.94-2.06 2.06-.94-2.06-.94-.94-2.06-.94 2.06-2.06.94z\"/><path d=\"M17.41 7.96l-1.37-1.37c-.4-.4-.92-.59-1.43-.59-.52 0-1.04.2-1.43.59L10.3 9.45l-7.72 7.72c-.78.78-.78 2.05 0 2.83L4 21.41c.39.39.9.59 1.41.59.51 0 1.02-.2 1.41-.59l7.78-7.78 2.81-2.81c.8-.78.8-2.07 0-2.86zM5.41 20L4 18.59l7.72-7.72 1.47 1.35L5.41 20z\"/>\n",
              "  </svg>\n",
              "      </button>\n",
              "      \n",
              "  <style>\n",
              "    .colab-df-container {\n",
              "      display:flex;\n",
              "      flex-wrap:wrap;\n",
              "      gap: 12px;\n",
              "    }\n",
              "\n",
              "    .colab-df-convert {\n",
              "      background-color: #E8F0FE;\n",
              "      border: none;\n",
              "      border-radius: 50%;\n",
              "      cursor: pointer;\n",
              "      display: none;\n",
              "      fill: #1967D2;\n",
              "      height: 32px;\n",
              "      padding: 0 0 0 0;\n",
              "      width: 32px;\n",
              "    }\n",
              "\n",
              "    .colab-df-convert:hover {\n",
              "      background-color: #E2EBFA;\n",
              "      box-shadow: 0px 1px 2px rgba(60, 64, 67, 0.3), 0px 1px 3px 1px rgba(60, 64, 67, 0.15);\n",
              "      fill: #174EA6;\n",
              "    }\n",
              "\n",
              "    [theme=dark] .colab-df-convert {\n",
              "      background-color: #3B4455;\n",
              "      fill: #D2E3FC;\n",
              "    }\n",
              "\n",
              "    [theme=dark] .colab-df-convert:hover {\n",
              "      background-color: #434B5C;\n",
              "      box-shadow: 0px 1px 3px 1px rgba(0, 0, 0, 0.15);\n",
              "      filter: drop-shadow(0px 1px 2px rgba(0, 0, 0, 0.3));\n",
              "      fill: #FFFFFF;\n",
              "    }\n",
              "  </style>\n",
              "\n",
              "      <script>\n",
              "        const buttonEl =\n",
              "          document.querySelector('#df-8fefd525-c677-4263-a0fe-84ab44bb467b button.colab-df-convert');\n",
              "        buttonEl.style.display =\n",
              "          google.colab.kernel.accessAllowed ? 'block' : 'none';\n",
              "\n",
              "        async function convertToInteractive(key) {\n",
              "          const element = document.querySelector('#df-8fefd525-c677-4263-a0fe-84ab44bb467b');\n",
              "          const dataTable =\n",
              "            await google.colab.kernel.invokeFunction('convertToInteractive',\n",
              "                                                     [key], {});\n",
              "          if (!dataTable) return;\n",
              "\n",
              "          const docLinkHtml = 'Like what you see? Visit the ' +\n",
              "            '<a target=\"_blank\" href=https://colab.research.google.com/notebooks/data_table.ipynb>data table notebook</a>'\n",
              "            + ' to learn more about interactive tables.';\n",
              "          element.innerHTML = '';\n",
              "          dataTable['output_type'] = 'display_data';\n",
              "          await google.colab.output.renderOutput(dataTable, element);\n",
              "          const docLink = document.createElement('div');\n",
              "          docLink.innerHTML = docLinkHtml;\n",
              "          element.appendChild(docLink);\n",
              "        }\n",
              "      </script>\n",
              "    </div>\n",
              "  </div>\n",
              "  "
            ]
          },
          "metadata": {},
          "execution_count": 264
        }
      ],
      "source": [
        "import pandas as pd\n",
        "df = pd.read_csv('AJA01.20221011194750.csv')\n",
        "\n",
        "df.head()"
      ]
    },
    {
      "cell_type": "code",
      "execution_count": 265,
      "metadata": {
        "colab": {
          "base_uri": "https://localhost:8080/",
          "height": 473
        },
        "id": "BPKY7JDq-VKI",
        "outputId": "7c53d1c8-d35c-4d5a-a7bc-2938e124495c"
      },
      "outputs": [
        {
          "output_type": "execute_result",
          "data": {
            "text/plain": [
              "       STATISTIC CODE              Statistic    TLIST(A1)         Year  \\\n",
              "count            1288                   1288  1288.000000  1288.000000   \n",
              "unique              2                      2          NaN          NaN   \n",
              "top           AJA01C1  Cattle Price per Head          NaN          NaN   \n",
              "freq              644                    644          NaN          NaN   \n",
              "mean              NaN                    NaN  1998.500000  1998.500000   \n",
              "std               NaN                    NaN    13.281075    13.281075   \n",
              "min               NaN                    NaN  1976.000000  1976.000000   \n",
              "25%               NaN                    NaN  1987.000000  1987.000000   \n",
              "50%               NaN                    NaN  1998.500000  1998.500000   \n",
              "75%               NaN                    NaN  2010.000000  2010.000000   \n",
              "max               NaN                    NaN  2021.000000  2021.000000   \n",
              "\n",
              "       C01782V02140      Type of Cattle  UNIT        VALUE  \n",
              "count          1288                1288  1288  1207.000000  \n",
              "unique           14                  14     1          NaN  \n",
              "top            B200  Bullocks 200-249kg  Euro          NaN  \n",
              "freq             92                  92  1288          NaN  \n",
              "mean            NaN                 NaN   NaN   369.926001  \n",
              "std             NaN                 NaN   NaN   258.764418  \n",
              "min             NaN                 NaN   NaN    46.240000  \n",
              "25%             NaN                 NaN   NaN   154.950000  \n",
              "50%             NaN                 NaN   NaN   228.073462  \n",
              "75%             NaN                 NaN   NaN   560.516376  \n",
              "max             NaN                 NaN   NaN  1175.876638  "
            ],
            "text/html": [
              "\n",
              "  <div id=\"df-19707f98-9b17-4093-945d-ff67c8a8e797\">\n",
              "    <div class=\"colab-df-container\">\n",
              "      <div>\n",
              "<style scoped>\n",
              "    .dataframe tbody tr th:only-of-type {\n",
              "        vertical-align: middle;\n",
              "    }\n",
              "\n",
              "    .dataframe tbody tr th {\n",
              "        vertical-align: top;\n",
              "    }\n",
              "\n",
              "    .dataframe thead th {\n",
              "        text-align: right;\n",
              "    }\n",
              "</style>\n",
              "<table border=\"1\" class=\"dataframe\">\n",
              "  <thead>\n",
              "    <tr style=\"text-align: right;\">\n",
              "      <th></th>\n",
              "      <th>STATISTIC CODE</th>\n",
              "      <th>Statistic</th>\n",
              "      <th>TLIST(A1)</th>\n",
              "      <th>Year</th>\n",
              "      <th>C01782V02140</th>\n",
              "      <th>Type of Cattle</th>\n",
              "      <th>UNIT</th>\n",
              "      <th>VALUE</th>\n",
              "    </tr>\n",
              "  </thead>\n",
              "  <tbody>\n",
              "    <tr>\n",
              "      <th>count</th>\n",
              "      <td>1288</td>\n",
              "      <td>1288</td>\n",
              "      <td>1288.000000</td>\n",
              "      <td>1288.000000</td>\n",
              "      <td>1288</td>\n",
              "      <td>1288</td>\n",
              "      <td>1288</td>\n",
              "      <td>1207.000000</td>\n",
              "    </tr>\n",
              "    <tr>\n",
              "      <th>unique</th>\n",
              "      <td>2</td>\n",
              "      <td>2</td>\n",
              "      <td>NaN</td>\n",
              "      <td>NaN</td>\n",
              "      <td>14</td>\n",
              "      <td>14</td>\n",
              "      <td>1</td>\n",
              "      <td>NaN</td>\n",
              "    </tr>\n",
              "    <tr>\n",
              "      <th>top</th>\n",
              "      <td>AJA01C1</td>\n",
              "      <td>Cattle Price per Head</td>\n",
              "      <td>NaN</td>\n",
              "      <td>NaN</td>\n",
              "      <td>B200</td>\n",
              "      <td>Bullocks 200-249kg</td>\n",
              "      <td>Euro</td>\n",
              "      <td>NaN</td>\n",
              "    </tr>\n",
              "    <tr>\n",
              "      <th>freq</th>\n",
              "      <td>644</td>\n",
              "      <td>644</td>\n",
              "      <td>NaN</td>\n",
              "      <td>NaN</td>\n",
              "      <td>92</td>\n",
              "      <td>92</td>\n",
              "      <td>1288</td>\n",
              "      <td>NaN</td>\n",
              "    </tr>\n",
              "    <tr>\n",
              "      <th>mean</th>\n",
              "      <td>NaN</td>\n",
              "      <td>NaN</td>\n",
              "      <td>1998.500000</td>\n",
              "      <td>1998.500000</td>\n",
              "      <td>NaN</td>\n",
              "      <td>NaN</td>\n",
              "      <td>NaN</td>\n",
              "      <td>369.926001</td>\n",
              "    </tr>\n",
              "    <tr>\n",
              "      <th>std</th>\n",
              "      <td>NaN</td>\n",
              "      <td>NaN</td>\n",
              "      <td>13.281075</td>\n",
              "      <td>13.281075</td>\n",
              "      <td>NaN</td>\n",
              "      <td>NaN</td>\n",
              "      <td>NaN</td>\n",
              "      <td>258.764418</td>\n",
              "    </tr>\n",
              "    <tr>\n",
              "      <th>min</th>\n",
              "      <td>NaN</td>\n",
              "      <td>NaN</td>\n",
              "      <td>1976.000000</td>\n",
              "      <td>1976.000000</td>\n",
              "      <td>NaN</td>\n",
              "      <td>NaN</td>\n",
              "      <td>NaN</td>\n",
              "      <td>46.240000</td>\n",
              "    </tr>\n",
              "    <tr>\n",
              "      <th>25%</th>\n",
              "      <td>NaN</td>\n",
              "      <td>NaN</td>\n",
              "      <td>1987.000000</td>\n",
              "      <td>1987.000000</td>\n",
              "      <td>NaN</td>\n",
              "      <td>NaN</td>\n",
              "      <td>NaN</td>\n",
              "      <td>154.950000</td>\n",
              "    </tr>\n",
              "    <tr>\n",
              "      <th>50%</th>\n",
              "      <td>NaN</td>\n",
              "      <td>NaN</td>\n",
              "      <td>1998.500000</td>\n",
              "      <td>1998.500000</td>\n",
              "      <td>NaN</td>\n",
              "      <td>NaN</td>\n",
              "      <td>NaN</td>\n",
              "      <td>228.073462</td>\n",
              "    </tr>\n",
              "    <tr>\n",
              "      <th>75%</th>\n",
              "      <td>NaN</td>\n",
              "      <td>NaN</td>\n",
              "      <td>2010.000000</td>\n",
              "      <td>2010.000000</td>\n",
              "      <td>NaN</td>\n",
              "      <td>NaN</td>\n",
              "      <td>NaN</td>\n",
              "      <td>560.516376</td>\n",
              "    </tr>\n",
              "    <tr>\n",
              "      <th>max</th>\n",
              "      <td>NaN</td>\n",
              "      <td>NaN</td>\n",
              "      <td>2021.000000</td>\n",
              "      <td>2021.000000</td>\n",
              "      <td>NaN</td>\n",
              "      <td>NaN</td>\n",
              "      <td>NaN</td>\n",
              "      <td>1175.876638</td>\n",
              "    </tr>\n",
              "  </tbody>\n",
              "</table>\n",
              "</div>\n",
              "      <button class=\"colab-df-convert\" onclick=\"convertToInteractive('df-19707f98-9b17-4093-945d-ff67c8a8e797')\"\n",
              "              title=\"Convert this dataframe to an interactive table.\"\n",
              "              style=\"display:none;\">\n",
              "        \n",
              "  <svg xmlns=\"http://www.w3.org/2000/svg\" height=\"24px\"viewBox=\"0 0 24 24\"\n",
              "       width=\"24px\">\n",
              "    <path d=\"M0 0h24v24H0V0z\" fill=\"none\"/>\n",
              "    <path d=\"M18.56 5.44l.94 2.06.94-2.06 2.06-.94-2.06-.94-.94-2.06-.94 2.06-2.06.94zm-11 1L8.5 8.5l.94-2.06 2.06-.94-2.06-.94L8.5 2.5l-.94 2.06-2.06.94zm10 10l.94 2.06.94-2.06 2.06-.94-2.06-.94-.94-2.06-.94 2.06-2.06.94z\"/><path d=\"M17.41 7.96l-1.37-1.37c-.4-.4-.92-.59-1.43-.59-.52 0-1.04.2-1.43.59L10.3 9.45l-7.72 7.72c-.78.78-.78 2.05 0 2.83L4 21.41c.39.39.9.59 1.41.59.51 0 1.02-.2 1.41-.59l7.78-7.78 2.81-2.81c.8-.78.8-2.07 0-2.86zM5.41 20L4 18.59l7.72-7.72 1.47 1.35L5.41 20z\"/>\n",
              "  </svg>\n",
              "      </button>\n",
              "      \n",
              "  <style>\n",
              "    .colab-df-container {\n",
              "      display:flex;\n",
              "      flex-wrap:wrap;\n",
              "      gap: 12px;\n",
              "    }\n",
              "\n",
              "    .colab-df-convert {\n",
              "      background-color: #E8F0FE;\n",
              "      border: none;\n",
              "      border-radius: 50%;\n",
              "      cursor: pointer;\n",
              "      display: none;\n",
              "      fill: #1967D2;\n",
              "      height: 32px;\n",
              "      padding: 0 0 0 0;\n",
              "      width: 32px;\n",
              "    }\n",
              "\n",
              "    .colab-df-convert:hover {\n",
              "      background-color: #E2EBFA;\n",
              "      box-shadow: 0px 1px 2px rgba(60, 64, 67, 0.3), 0px 1px 3px 1px rgba(60, 64, 67, 0.15);\n",
              "      fill: #174EA6;\n",
              "    }\n",
              "\n",
              "    [theme=dark] .colab-df-convert {\n",
              "      background-color: #3B4455;\n",
              "      fill: #D2E3FC;\n",
              "    }\n",
              "\n",
              "    [theme=dark] .colab-df-convert:hover {\n",
              "      background-color: #434B5C;\n",
              "      box-shadow: 0px 1px 3px 1px rgba(0, 0, 0, 0.15);\n",
              "      filter: drop-shadow(0px 1px 2px rgba(0, 0, 0, 0.3));\n",
              "      fill: #FFFFFF;\n",
              "    }\n",
              "  </style>\n",
              "\n",
              "      <script>\n",
              "        const buttonEl =\n",
              "          document.querySelector('#df-19707f98-9b17-4093-945d-ff67c8a8e797 button.colab-df-convert');\n",
              "        buttonEl.style.display =\n",
              "          google.colab.kernel.accessAllowed ? 'block' : 'none';\n",
              "\n",
              "        async function convertToInteractive(key) {\n",
              "          const element = document.querySelector('#df-19707f98-9b17-4093-945d-ff67c8a8e797');\n",
              "          const dataTable =\n",
              "            await google.colab.kernel.invokeFunction('convertToInteractive',\n",
              "                                                     [key], {});\n",
              "          if (!dataTable) return;\n",
              "\n",
              "          const docLinkHtml = 'Like what you see? Visit the ' +\n",
              "            '<a target=\"_blank\" href=https://colab.research.google.com/notebooks/data_table.ipynb>data table notebook</a>'\n",
              "            + ' to learn more about interactive tables.';\n",
              "          element.innerHTML = '';\n",
              "          dataTable['output_type'] = 'display_data';\n",
              "          await google.colab.output.renderOutput(dataTable, element);\n",
              "          const docLink = document.createElement('div');\n",
              "          docLink.innerHTML = docLinkHtml;\n",
              "          element.appendChild(docLink);\n",
              "        }\n",
              "      </script>\n",
              "    </div>\n",
              "  </div>\n",
              "  "
            ]
          },
          "metadata": {},
          "execution_count": 265
        }
      ],
      "source": [
        "df.describe(include=\"all\")"
      ]
    },
    {
      "cell_type": "code",
      "execution_count": 266,
      "metadata": {
        "colab": {
          "base_uri": "https://localhost:8080/"
        },
        "id": "aZIE390dW6Y5",
        "outputId": "66d3591e-c5fa-4920-8212-3283893211a0"
      },
      "outputs": [
        {
          "output_type": "execute_result",
          "data": {
            "text/plain": [
              "STATISTIC CODE     0\n",
              "Statistic          0\n",
              "TLIST(A1)          0\n",
              "Year               0\n",
              "C01782V02140       0\n",
              "Type of Cattle     0\n",
              "UNIT               0\n",
              "VALUE             81\n",
              "dtype: int64"
            ]
          },
          "metadata": {},
          "execution_count": 266
        }
      ],
      "source": [
        "df.isna().sum()"
      ]
    },
    {
      "cell_type": "code",
      "execution_count": 267,
      "metadata": {
        "id": "mLZA-2D5XBXc"
      },
      "outputs": [],
      "source": [
        "import seaborn as sns\n",
        "sns.set()\n",
        "import matplotlib.pyplot as plt"
      ]
    },
    {
      "cell_type": "code",
      "execution_count": 268,
      "metadata": {
        "colab": {
          "base_uri": "https://localhost:8080/",
          "height": 357
        },
        "id": "TL3iVSgxXOcn",
        "outputId": "11f3f1b4-1e47-41a9-873b-66337abb4844"
      },
      "outputs": [
        {
          "output_type": "stream",
          "name": "stderr",
          "text": [
            "/usr/local/lib/python3.7/dist-packages/seaborn/distributions.py:2619: FutureWarning: `distplot` is a deprecated function and will be removed in a future version. Please adapt your code to use either `displot` (a figure-level function with similar flexibility) or `histplot` (an axes-level function for histograms).\n",
            "  warnings.warn(msg, FutureWarning)\n"
          ]
        },
        {
          "output_type": "execute_result",
          "data": {
            "text/plain": [
              "<matplotlib.axes._subplots.AxesSubplot at 0x7f10742faad0>"
            ]
          },
          "metadata": {},
          "execution_count": 268
        },
        {
          "output_type": "display_data",
          "data": {
            "text/plain": [
              "<Figure size 432x288 with 1 Axes>"
            ],
            "image/png": "[encoded data removed]"
          },
          "metadata": {}
        }
      ],
      "source": [
        "sns.distplot(df['VALUE'])"
      ]
    },
    {
      "cell_type": "code",
      "execution_count": 269,
      "metadata": {
        "id": "fLCdjbjFqNk8"
      },
      "outputs": [],
      "source": [
        "new = df['Type of Cattle'].str.split(\" \", n = 1, expand=True)"
      ]
    },
    {
      "cell_type": "code",
      "execution_count": 270,
      "metadata": {
        "id": "6hkhA4g7qaXW"
      },
      "outputs": [],
      "source": [
        "df['Type of Cattle'] = new[0]\n",
        "df.insert(6, \"Weight\", new[1])"
      ]
    },
    {
      "cell_type": "code",
      "execution_count": 271,
      "metadata": {
        "colab": {
          "base_uri": "https://localhost:8080/",
          "height": 659
        },
        "id": "isA2NaDVqmdW",
        "outputId": "005c03d8-a3fa-4b2c-ab0a-b4ce7e73e0b5"
      },
      "outputs": [
        {
          "output_type": "execute_result",
          "data": {
            "text/plain": [
              "     STATISTIC CODE                Statistic  TLIST(A1)  Year C01782V02140  \\\n",
              "0           AJA01C1    Cattle Price per Head       1976  1976         B200   \n",
              "1           AJA01C1    Cattle Price per Head       1976  1976         B250   \n",
              "2           AJA01C1    Cattle Price per Head       1976  1976         B300   \n",
              "3           AJA01C1    Cattle Price per Head       1976  1976         B350   \n",
              "4           AJA01C1    Cattle Price per Head       1976  1976         B400   \n",
              "...             ...                      ...        ...   ...          ...   \n",
              "1283        AJA01C2  Cattle Price per 100 Kg       2021  2021         H250   \n",
              "1284        AJA01C2  Cattle Price per 100 Kg       2021  2021         H300   \n",
              "1285        AJA01C2  Cattle Price per 100 Kg       2021  2021         H350   \n",
              "1286        AJA01C2  Cattle Price per 100 Kg       2021  2021         H400   \n",
              "1287        AJA01C2  Cattle Price per 100 Kg       2021  2021         SCOW   \n",
              "\n",
              "     Type of Cattle         Weight  UNIT       VALUE  \n",
              "0          Bullocks      200-249kg  Euro         NaN  \n",
              "1          Bullocks      250-299kg  Euro         NaN  \n",
              "2          Bullocks      300-349kg  Euro  238.290000  \n",
              "3          Bullocks      350-399kg  Euro  270.470000  \n",
              "4          Bullocks      400-449kg  Euro  302.430000  \n",
              "...             ...            ...   ...         ...  \n",
              "1283        Heifers      250-299kg  Euro  216.991177  \n",
              "1284        Heifers      300-349kg  Euro  215.245632  \n",
              "1285        Heifers      350-399kg  Euro  216.965995  \n",
              "1286        Heifers      400-449kg  Euro  216.796269  \n",
              "1287           Cows  for slaughter  Euro         NaN  \n",
              "\n",
              "[1288 rows x 9 columns]"
            ],
            "text/html": [
              "\n",
              "  <div id=\"df-45d2be8e-46a0-4591-aa61-768748dd6ade\">\n",
              "    <div class=\"colab-df-container\">\n",
              "      <div>\n",
              "<style scoped>\n",
              "    .dataframe tbody tr th:only-of-type {\n",
              "        vertical-align: middle;\n",
              "    }\n",
              "\n",
              "    .dataframe tbody tr th {\n",
              "        vertical-align: top;\n",
              "    }\n",
              "\n",
              "    .dataframe thead th {\n",
              "        text-align: right;\n",
              "    }\n",
              "</style>\n",
              "<table border=\"1\" class=\"dataframe\">\n",
              "  <thead>\n",
              "    <tr style=\"text-align: right;\">\n",
              "      <th></th>\n",
              "      <th>STATISTIC CODE</th>\n",
              "      <th>Statistic</th>\n",
              "      <th>TLIST(A1)</th>\n",
              "      <th>Year</th>\n",
              "      <th>C01782V02140</th>\n",
              "      <th>Type of Cattle</th>\n",
              "      <th>Weight</th>\n",
              "      <th>UNIT</th>\n",
              "      <th>VALUE</th>\n",
              "    </tr>\n",
              "  </thead>\n",
              "  <tbody>\n",
              "    <tr>\n",
              "      <th>0</th>\n",
              "      <td>AJA01C1</td>\n",
              "      <td>Cattle Price per Head</td>\n",
              "      <td>1976</td>\n",
              "      <td>1976</td>\n",
              "      <td>B200</td>\n",
              "      <td>Bullocks</td>\n",
              "      <td>200-249kg</td>\n",
              "      <td>Euro</td>\n",
              "      <td>NaN</td>\n",
              "    </tr>\n",
              "    <tr>\n",
              "      <th>1</th>\n",
              "      <td>AJA01C1</td>\n",
              "      <td>Cattle Price per Head</td>\n",
              "      <td>1976</td>\n",
              "      <td>1976</td>\n",
              "      <td>B250</td>\n",
              "      <td>Bullocks</td>\n",
              "      <td>250-299kg</td>\n",
              "      <td>Euro</td>\n",
              "      <td>NaN</td>\n",
              "    </tr>\n",
              "    <tr>\n",
              "      <th>2</th>\n",
              "      <td>AJA01C1</td>\n",
              "      <td>Cattle Price per Head</td>\n",
              "      <td>1976</td>\n",
              "      <td>1976</td>\n",
              "      <td>B300</td>\n",
              "      <td>Bullocks</td>\n",
              "      <td>300-349kg</td>\n",
              "      <td>Euro</td>\n",
              "      <td>238.290000</td>\n",
              "    </tr>\n",
              "    <tr>\n",
              "      <th>3</th>\n",
              "      <td>AJA01C1</td>\n",
              "      <td>Cattle Price per Head</td>\n",
              "      <td>1976</td>\n",
              "      <td>1976</td>\n",
              "      <td>B350</td>\n",
              "      <td>Bullocks</td>\n",
              "      <td>350-399kg</td>\n",
              "      <td>Euro</td>\n",
              "      <td>270.470000</td>\n",
              "    </tr>\n",
              "    <tr>\n",
              "      <th>4</th>\n",
              "      <td>AJA01C1</td>\n",
              "      <td>Cattle Price per Head</td>\n",
              "      <td>1976</td>\n",
              "      <td>1976</td>\n",
              "      <td>B400</td>\n",
              "      <td>Bullocks</td>\n",
              "      <td>400-449kg</td>\n",
              "      <td>Euro</td>\n",
              "      <td>302.430000</td>\n",
              "    </tr>\n",
              "    <tr>\n",
              "      <th>...</th>\n",
              "      <td>...</td>\n",
              "      <td>...</td>\n",
              "      <td>...</td>\n",
              "      <td>...</td>\n",
              "      <td>...</td>\n",
              "      <td>...</td>\n",
              "      <td>...</td>\n",
              "      <td>...</td>\n",
              "      <td>...</td>\n",
              "    </tr>\n",
              "    <tr>\n",
              "      <th>1283</th>\n",
              "      <td>AJA01C2</td>\n",
              "      <td>Cattle Price per 100 Kg</td>\n",
              "      <td>2021</td>\n",
              "      <td>2021</td>\n",
              "      <td>H250</td>\n",
              "      <td>Heifers</td>\n",
              "      <td>250-299kg</td>\n",
              "      <td>Euro</td>\n",
              "      <td>216.991177</td>\n",
              "    </tr>\n",
              "    <tr>\n",
              "      <th>1284</th>\n",
              "      <td>AJA01C2</td>\n",
              "      <td>Cattle Price per 100 Kg</td>\n",
              "      <td>2021</td>\n",
              "      <td>2021</td>\n",
              "      <td>H300</td>\n",
              "      <td>Heifers</td>\n",
              "      <td>300-349kg</td>\n",
              "      <td>Euro</td>\n",
              "      <td>215.245632</td>\n",
              "    </tr>\n",
              "    <tr>\n",
              "      <th>1285</th>\n",
              "      <td>AJA01C2</td>\n",
              "      <td>Cattle Price per 100 Kg</td>\n",
              "      <td>2021</td>\n",
              "      <td>2021</td>\n",
              "      <td>H350</td>\n",
              "      <td>Heifers</td>\n",
              "      <td>350-399kg</td>\n",
              "      <td>Euro</td>\n",
              "      <td>216.965995</td>\n",
              "    </tr>\n",
              "    <tr>\n",
              "      <th>1286</th>\n",
              "      <td>AJA01C2</td>\n",
              "      <td>Cattle Price per 100 Kg</td>\n",
              "      <td>2021</td>\n",
              "      <td>2021</td>\n",
              "      <td>H400</td>\n",
              "      <td>Heifers</td>\n",
              "      <td>400-449kg</td>\n",
              "      <td>Euro</td>\n",
              "      <td>216.796269</td>\n",
              "    </tr>\n",
              "    <tr>\n",
              "      <th>1287</th>\n",
              "      <td>AJA01C2</td>\n",
              "      <td>Cattle Price per 100 Kg</td>\n",
              "      <td>2021</td>\n",
              "      <td>2021</td>\n",
              "      <td>SCOW</td>\n",
              "      <td>Cows</td>\n",
              "      <td>for slaughter</td>\n",
              "      <td>Euro</td>\n",
              "      <td>NaN</td>\n",
              "    </tr>\n",
              "  </tbody>\n",
              "</table>\n",
              "<p>1288 rows × 9 columns</p>\n",
              "</div>\n",
              "      <button class=\"colab-df-convert\" onclick=\"convertToInteractive('df-45d2be8e-46a0-4591-aa61-768748dd6ade')\"\n",
              "              title=\"Convert this dataframe to an interactive table.\"\n",
              "              style=\"display:none;\">\n",
              "        \n",
              "  <svg xmlns=\"http://www.w3.org/2000/svg\" height=\"24px\"viewBox=\"0 0 24 24\"\n",
              "       width=\"24px\">\n",
              "    <path d=\"M0 0h24v24H0V0z\" fill=\"none\"/>\n",
              "    <path d=\"M18.56 5.44l.94 2.06.94-2.06 2.06-.94-2.06-.94-.94-2.06-.94 2.06-2.06.94zm-11 1L8.5 8.5l.94-2.06 2.06-.94-2.06-.94L8.5 2.5l-.94 2.06-2.06.94zm10 10l.94 2.06.94-2.06 2.06-.94-2.06-.94-.94-2.06-.94 2.06-2.06.94z\"/><path d=\"M17.41 7.96l-1.37-1.37c-.4-.4-.92-.59-1.43-.59-.52 0-1.04.2-1.43.59L10.3 9.45l-7.72 7.72c-.78.78-.78 2.05 0 2.83L4 21.41c.39.39.9.59 1.41.59.51 0 1.02-.2 1.41-.59l7.78-7.78 2.81-2.81c.8-.78.8-2.07 0-2.86zM5.41 20L4 18.59l7.72-7.72 1.47 1.35L5.41 20z\"/>\n",
              "  </svg>\n",
              "      </button>\n",
              "      \n",
              "  <style>\n",
              "    .colab-df-container {\n",
              "      display:flex;\n",
              "      flex-wrap:wrap;\n",
              "      gap: 12px;\n",
              "    }\n",
              "\n",
              "    .colab-df-convert {\n",
              "      background-color: #E8F0FE;\n",
              "      border: none;\n",
              "      border-radius: 50%;\n",
              "      cursor: pointer;\n",
              "      display: none;\n",
              "      fill: #1967D2;\n",
              "      height: 32px;\n",
              "      padding: 0 0 0 0;\n",
              "      width: 32px;\n",
              "    }\n",
              "\n",
              "    .colab-df-convert:hover {\n",
              "      background-color: #E2EBFA;\n",
              "      box-shadow: 0px 1px 2px rgba(60, 64, 67, 0.3), 0px 1px 3px 1px rgba(60, 64, 67, 0.15);\n",
              "      fill: #174EA6;\n",
              "    }\n",
              "\n",
              "    [theme=dark] .colab-df-convert {\n",
              "      background-color: #3B4455;\n",
              "      fill: #D2E3FC;\n",
              "    }\n",
              "\n",
              "    [theme=dark] .colab-df-convert:hover {\n",
              "      background-color: #434B5C;\n",
              "      box-shadow: 0px 1px 3px 1px rgba(0, 0, 0, 0.15);\n",
              "      filter: drop-shadow(0px 1px 2px rgba(0, 0, 0, 0.3));\n",
              "      fill: #FFFFFF;\n",
              "    }\n",
              "  </style>\n",
              "\n",
              "      <script>\n",
              "        const buttonEl =\n",
              "          document.querySelector('#df-45d2be8e-46a0-4591-aa61-768748dd6ade button.colab-df-convert');\n",
              "        buttonEl.style.display =\n",
              "          google.colab.kernel.accessAllowed ? 'block' : 'none';\n",
              "\n",
              "        async function convertToInteractive(key) {\n",
              "          const element = document.querySelector('#df-45d2be8e-46a0-4591-aa61-768748dd6ade');\n",
              "          const dataTable =\n",
              "            await google.colab.kernel.invokeFunction('convertToInteractive',\n",
              "                                                     [key], {});\n",
              "          if (!dataTable) return;\n",
              "\n",
              "          const docLinkHtml = 'Like what you see? Visit the ' +\n",
              "            '<a target=\"_blank\" href=https://colab.research.google.com/notebooks/data_table.ipynb>data table notebook</a>'\n",
              "            + ' to learn more about interactive tables.';\n",
              "          element.innerHTML = '';\n",
              "          dataTable['output_type'] = 'display_data';\n",
              "          await google.colab.output.renderOutput(dataTable, element);\n",
              "          const docLink = document.createElement('div');\n",
              "          docLink.innerHTML = docLinkHtml;\n",
              "          element.appendChild(docLink);\n",
              "        }\n",
              "      </script>\n",
              "    </div>\n",
              "  </div>\n",
              "  "
            ]
          },
          "metadata": {},
          "execution_count": 271
        }
      ],
      "source": [
        "df"
      ]
    },
    {
      "cell_type": "code",
      "execution_count": 272,
      "metadata": {
        "id": "yX5B7wt9rf_V"
      },
      "outputs": [],
      "source": [
        "from sklearn.impute import SimpleImputer\n",
        "import pandas as pd\n",
        "import numpy as np\n",
        "\n",
        "x = df['Weight']\n",
        "y = df['VALUE']\n",
        "newprice = df.iloc[:, 8].values\n"
      ]
    },
    {
      "cell_type": "code",
      "execution_count": 273,
      "metadata": {
        "colab": {
          "base_uri": "https://localhost:8080/"
        },
        "id": "ogCA4Zwz0_xW",
        "outputId": "1d4ba93b-f9e7-47c5-cd7e-e1166ca2b6b2"
      },
      "outputs": [
        {
          "output_type": "execute_result",
          "data": {
            "text/plain": [
              "array([[         nan],\n",
              "       [         nan],\n",
              "       [238.29      ],\n",
              "       ...,\n",
              "       [216.96599474],\n",
              "       [216.79626892],\n",
              "       [         nan]])"
            ]
          },
          "metadata": {},
          "execution_count": 273
        }
      ],
      "source": [
        "price = newprice.reshape(-1, 1)\n",
        "price"
      ]
    },
    {
      "cell_type": "code",
      "execution_count": 274,
      "metadata": {
        "colab": {
          "base_uri": "https://localhost:8080/"
        },
        "id": "t4dfTuBZ0qXv",
        "outputId": "11dd6f01-c588-4e9a-be01-0e01741ae3b9"
      },
      "outputs": [
        {
          "output_type": "stream",
          "name": "stdout",
          "text": [
            "[[228.07346206]\n",
            " [228.07346206]\n",
            " [238.29      ]\n",
            " ...\n",
            " [216.96599474]\n",
            " [216.79626892]\n",
            " [228.07346206]]\n"
          ]
        }
      ],
      "source": [
        "#To calculate the median use imputer class\n",
        "imputer = SimpleImputer(missing_values=np.nan, strategy=\"median\")\n",
        "imputer = imputer.fit(price)\n",
        "y = imputer.transform(price)\n",
        "print(y)"
      ]
    },
    {
      "cell_type": "code",
      "execution_count": 275,
      "metadata": {
        "id": "P8cze5xc1tin"
      },
      "outputs": [],
      "source": [
        "df['VALUE'] = y"
      ]
    },
    {
      "cell_type": "code",
      "execution_count": 276,
      "metadata": {
        "colab": {
          "base_uri": "https://localhost:8080/"
        },
        "id": "q8wxr-mb2M6S",
        "outputId": "04f1183c-1e32-4538-c393-45d5fdd95037"
      },
      "outputs": [
        {
          "output_type": "execute_result",
          "data": {
            "text/plain": [
              "STATISTIC CODE    0\n",
              "Statistic         0\n",
              "TLIST(A1)         0\n",
              "Year              0\n",
              "C01782V02140      0\n",
              "Type of Cattle    0\n",
              "Weight            0\n",
              "UNIT              0\n",
              "VALUE             0\n",
              "dtype: int64"
            ]
          },
          "metadata": {},
          "execution_count": 276
        }
      ],
      "source": [
        "df.isna().sum()"
      ]
    },
    {
      "cell_type": "code",
      "execution_count": 277,
      "metadata": {
        "id": "FdpN2DCg3wUI"
      },
      "outputs": [],
      "source": [
        "df['Type of Cattle'] = df['Type of Cattle'].replace(\"Cows\", \"Bullocks\")\n",
        "df['Weight'] = df['Weight'].replace(\"for slaughter\", \"550\")"
      ]
    },
    {
      "cell_type": "code",
      "execution_count": 278,
      "metadata": {
        "id": "Rlnhus5y72BX"
      },
      "outputs": [],
      "source": [
        "df.rename(columns = {'Weight': 'Weight in kg'}, inplace=True)"
      ]
    },
    {
      "cell_type": "code",
      "execution_count": 279,
      "metadata": {
        "id": "_PHkijDd-OlR",
        "colab": {
          "base_uri": "https://localhost:8080/"
        },
        "outputId": "be424328-0c32-4d4d-de11-f34ee95c4707"
      },
      "outputs": [
        {
          "output_type": "execute_result",
          "data": {
            "text/plain": [
              "STATISTIC CODE     object\n",
              "Statistic          object\n",
              "TLIST(A1)           int64\n",
              "Year                int64\n",
              "C01782V02140       object\n",
              "Type of Cattle     object\n",
              "Weight in kg       object\n",
              "UNIT               object\n",
              "VALUE             float64\n",
              "dtype: object"
            ]
          },
          "metadata": {},
          "execution_count": 279
        }
      ],
      "source": [
        "df['Weight in kg']\n",
        "type(df['Weight in kg'])\n",
        "df.dtypes"
      ]
    },
    {
      "cell_type": "code",
      "execution_count": 280,
      "metadata": {
        "colab": {
          "base_uri": "https://localhost:8080/"
        },
        "id": "usf0moPWBC5v",
        "outputId": "6037e9ff-b05e-4e50-a5f9-e212cbb65c04"
      },
      "outputs": [
        {
          "output_type": "stream",
          "name": "stderr",
          "text": [
            "/usr/local/lib/python3.7/dist-packages/ipykernel_launcher.py:1: FutureWarning: The default value of regex will change from True to False in a future version.\n",
            "  \"\"\"Entry point for launching an IPython kernel.\n"
          ]
        }
      ],
      "source": [
        "df['Weight in kg'] = df['Weight in kg'].str.replace('\\D', ' ')"
      ]
    },
    {
      "cell_type": "code",
      "execution_count": 281,
      "metadata": {
        "id": "KOlLCw8AH6bk"
      },
      "outputs": [],
      "source": [
        "new2 = df['Weight in kg'].str.split(\" \", n = 1, expand=True)\n",
        "split1 = df.insert(7, \"Min Weight in kg\", new2[0])\n",
        "split2 = df.insert(8, \"Max Weight in kg\", new2[1])"
      ]
    },
    {
      "cell_type": "code",
      "execution_count": 282,
      "metadata": {
        "id": "k4-MUkJoIyTy"
      },
      "outputs": [],
      "source": [
        "data1 = df.copy()\n",
        "data1['Min Weight in kg'] = pd.to_numeric(data1['Min Weight in kg'])\n"
      ]
    },
    {
      "cell_type": "code",
      "execution_count": 283,
      "metadata": {
        "colab": {
          "base_uri": "https://localhost:8080/"
        },
        "id": "0k6RWVGrSbft",
        "outputId": "2896cc3c-65bd-4205-9817-be36772beab0"
      },
      "outputs": [
        {
          "output_type": "execute_result",
          "data": {
            "text/plain": [
              "dtype('int64')"
            ]
          },
          "metadata": {},
          "execution_count": 283
        }
      ],
      "source": [
        "data1['Min Weight in kg'].dtypes"
      ]
    },
    {
      "cell_type": "code",
      "execution_count": 284,
      "metadata": {
        "colab": {
          "base_uri": "https://localhost:8080/",
          "height": 357
        },
        "id": "abIuQz5abXle",
        "outputId": "4aecfeb4-db69-4e44-bbdc-7cadf1fd1e64"
      },
      "outputs": [
        {
          "output_type": "stream",
          "name": "stderr",
          "text": [
            "/usr/local/lib/python3.7/dist-packages/seaborn/distributions.py:2619: FutureWarning: `distplot` is a deprecated function and will be removed in a future version. Please adapt your code to use either `displot` (a figure-level function with similar flexibility) or `histplot` (an axes-level function for histograms).\n",
            "  warnings.warn(msg, FutureWarning)\n"
          ]
        },
        {
          "output_type": "execute_result",
          "data": {
            "text/plain": [
              "<matplotlib.axes._subplots.AxesSubplot at 0x7f1074c78610>"
            ]
          },
          "metadata": {},
          "execution_count": 284
        },
        {
          "output_type": "display_data",
          "data": {
            "text/plain": [
              "<Figure size 432x288 with 1 Axes>"
            ],
            "image/png": "[encoded data removed]"
          },
          "metadata": {}
        }
      ],
      "source": [
        "sns.distplot(data1['Min Weight in kg'])"
      ]
    },
    {
      "cell_type": "code",
      "execution_count": 285,
      "metadata": {
        "id": "78zPO9abPnlV"
      },
      "outputs": [],
      "source": [
        "data1['Min Weight in kg'] = data1['Min Weight in kg'].fillna(550)\n",
        "data1['Max Weight in kg'] = pd.to_numeric(data1['Max Weight in kg'], errors= 'coerce')"
      ]
    },
    {
      "cell_type": "code",
      "execution_count": 286,
      "metadata": {
        "colab": {
          "base_uri": "https://localhost:8080/",
          "height": 676
        },
        "id": "5OSVcOardfLr",
        "outputId": "9a593ee1-3434-497f-fc9f-417eb909c8c2"
      },
      "outputs": [
        {
          "output_type": "execute_result",
          "data": {
            "text/plain": [
              "     STATISTIC CODE                Statistic  TLIST(A1)  Year C01782V02140  \\\n",
              "0           AJA01C1    Cattle Price per Head       1976  1976         B200   \n",
              "1           AJA01C1    Cattle Price per Head       1976  1976         B250   \n",
              "2           AJA01C1    Cattle Price per Head       1976  1976         B300   \n",
              "3           AJA01C1    Cattle Price per Head       1976  1976         B350   \n",
              "4           AJA01C1    Cattle Price per Head       1976  1976         B400   \n",
              "...             ...                      ...        ...   ...          ...   \n",
              "1283        AJA01C2  Cattle Price per 100 Kg       2021  2021         H250   \n",
              "1284        AJA01C2  Cattle Price per 100 Kg       2021  2021         H300   \n",
              "1285        AJA01C2  Cattle Price per 100 Kg       2021  2021         H350   \n",
              "1286        AJA01C2  Cattle Price per 100 Kg       2021  2021         H400   \n",
              "1287        AJA01C2  Cattle Price per 100 Kg       2021  2021         SCOW   \n",
              "\n",
              "     Type of Cattle Weight in kg  Min Weight in kg  Max Weight in kg  UNIT  \\\n",
              "0          Bullocks    200 249                 200             249.0  Euro   \n",
              "1          Bullocks    250 299                 250             299.0  Euro   \n",
              "2          Bullocks    300 349                 300             349.0  Euro   \n",
              "3          Bullocks    350 399                 350             399.0  Euro   \n",
              "4          Bullocks    400 449                 400             449.0  Euro   \n",
              "...             ...          ...               ...               ...   ...   \n",
              "1283        Heifers    250 299                 250             299.0  Euro   \n",
              "1284        Heifers    300 349                 300             349.0  Euro   \n",
              "1285        Heifers    350 399                 350             399.0  Euro   \n",
              "1286        Heifers    400 449                 400             449.0  Euro   \n",
              "1287       Bullocks          550               550               NaN  Euro   \n",
              "\n",
              "           VALUE  \n",
              "0     228.073462  \n",
              "1     228.073462  \n",
              "2     238.290000  \n",
              "3     270.470000  \n",
              "4     302.430000  \n",
              "...          ...  \n",
              "1283  216.991177  \n",
              "1284  215.245632  \n",
              "1285  216.965995  \n",
              "1286  216.796269  \n",
              "1287  228.073462  \n",
              "\n",
              "[1288 rows x 11 columns]"
            ],
            "text/html": [
              "\n",
              "  <div id=\"df-d6a8a714-0bd6-4bad-b968-c21b8a0fbaf6\">\n",
              "    <div class=\"colab-df-container\">\n",
              "      <div>\n",
              "<style scoped>\n",
              "    .dataframe tbody tr th:only-of-type {\n",
              "        vertical-align: middle;\n",
              "    }\n",
              "\n",
              "    .dataframe tbody tr th {\n",
              "        vertical-align: top;\n",
              "    }\n",
              "\n",
              "    .dataframe thead th {\n",
              "        text-align: right;\n",
              "    }\n",
              "</style>\n",
              "<table border=\"1\" class=\"dataframe\">\n",
              "  <thead>\n",
              "    <tr style=\"text-align: right;\">\n",
              "      <th></th>\n",
              "      <th>STATISTIC CODE</th>\n",
              "      <th>Statistic</th>\n",
              "      <th>TLIST(A1)</th>\n",
              "      <th>Year</th>\n",
              "      <th>C01782V02140</th>\n",
              "      <th>Type of Cattle</th>\n",
              "      <th>Weight in kg</th>\n",
              "      <th>Min Weight in kg</th>\n",
              "      <th>Max Weight in kg</th>\n",
              "      <th>UNIT</th>\n",
              "      <th>VALUE</th>\n",
              "    </tr>\n",
              "  </thead>\n",
              "  <tbody>\n",
              "    <tr>\n",
              "      <th>0</th>\n",
              "      <td>AJA01C1</td>\n",
              "      <td>Cattle Price per Head</td>\n",
              "      <td>1976</td>\n",
              "      <td>1976</td>\n",
              "      <td>B200</td>\n",
              "      <td>Bullocks</td>\n",
              "      <td>200 249</td>\n",
              "      <td>200</td>\n",
              "      <td>249.0</td>\n",
              "      <td>Euro</td>\n",
              "      <td>228.073462</td>\n",
              "    </tr>\n",
              "    <tr>\n",
              "      <th>1</th>\n",
              "      <td>AJA01C1</td>\n",
              "      <td>Cattle Price per Head</td>\n",
              "      <td>1976</td>\n",
              "      <td>1976</td>\n",
              "      <td>B250</td>\n",
              "      <td>Bullocks</td>\n",
              "      <td>250 299</td>\n",
              "      <td>250</td>\n",
              "      <td>299.0</td>\n",
              "      <td>Euro</td>\n",
              "      <td>228.073462</td>\n",
              "    </tr>\n",
              "    <tr>\n",
              "      <th>2</th>\n",
              "      <td>AJA01C1</td>\n",
              "      <td>Cattle Price per Head</td>\n",
              "      <td>1976</td>\n",
              "      <td>1976</td>\n",
              "      <td>B300</td>\n",
              "      <td>Bullocks</td>\n",
              "      <td>300 349</td>\n",
              "      <td>300</td>\n",
              "      <td>349.0</td>\n",
              "      <td>Euro</td>\n",
              "      <td>238.290000</td>\n",
              "    </tr>\n",
              "    <tr>\n",
              "      <th>3</th>\n",
              "      <td>AJA01C1</td>\n",
              "      <td>Cattle Price per Head</td>\n",
              "      <td>1976</td>\n",
              "      <td>1976</td>\n",
              "      <td>B350</td>\n",
              "      <td>Bullocks</td>\n",
              "      <td>350 399</td>\n",
              "      <td>350</td>\n",
              "      <td>399.0</td>\n",
              "      <td>Euro</td>\n",
              "      <td>270.470000</td>\n",
              "    </tr>\n",
              "    <tr>\n",
              "      <th>4</th>\n",
              "      <td>AJA01C1</td>\n",
              "      <td>Cattle Price per Head</td>\n",
              "      <td>1976</td>\n",
              "      <td>1976</td>\n",
              "      <td>B400</td>\n",
              "      <td>Bullocks</td>\n",
              "      <td>400 449</td>\n",
              "      <td>400</td>\n",
              "      <td>449.0</td>\n",
              "      <td>Euro</td>\n",
              "      <td>302.430000</td>\n",
              "    </tr>\n",
              "    <tr>\n",
              "      <th>...</th>\n",
              "      <td>...</td>\n",
              "      <td>...</td>\n",
              "      <td>...</td>\n",
              "      <td>...</td>\n",
              "      <td>...</td>\n",
              "      <td>...</td>\n",
              "      <td>...</td>\n",
              "      <td>...</td>\n",
              "      <td>...</td>\n",
              "      <td>...</td>\n",
              "      <td>...</td>\n",
              "    </tr>\n",
              "    <tr>\n",
              "      <th>1283</th>\n",
              "      <td>AJA01C2</td>\n",
              "      <td>Cattle Price per 100 Kg</td>\n",
              "      <td>2021</td>\n",
              "      <td>2021</td>\n",
              "      <td>H250</td>\n",
              "      <td>Heifers</td>\n",
              "      <td>250 299</td>\n",
              "      <td>250</td>\n",
              "      <td>299.0</td>\n",
              "      <td>Euro</td>\n",
              "      <td>216.991177</td>\n",
              "    </tr>\n",
              "    <tr>\n",
              "      <th>1284</th>\n",
              "      <td>AJA01C2</td>\n",
              "      <td>Cattle Price per 100 Kg</td>\n",
              "      <td>2021</td>\n",
              "      <td>2021</td>\n",
              "      <td>H300</td>\n",
              "      <td>Heifers</td>\n",
              "      <td>300 349</td>\n",
              "      <td>300</td>\n",
              "      <td>349.0</td>\n",
              "      <td>Euro</td>\n",
              "      <td>215.245632</td>\n",
              "    </tr>\n",
              "    <tr>\n",
              "      <th>1285</th>\n",
              "      <td>AJA01C2</td>\n",
              "      <td>Cattle Price per 100 Kg</td>\n",
              "      <td>2021</td>\n",
              "      <td>2021</td>\n",
              "      <td>H350</td>\n",
              "      <td>Heifers</td>\n",
              "      <td>350 399</td>\n",
              "      <td>350</td>\n",
              "      <td>399.0</td>\n",
              "      <td>Euro</td>\n",
              "      <td>216.965995</td>\n",
              "    </tr>\n",
              "    <tr>\n",
              "      <th>1286</th>\n",
              "      <td>AJA01C2</td>\n",
              "      <td>Cattle Price per 100 Kg</td>\n",
              "      <td>2021</td>\n",
              "      <td>2021</td>\n",
              "      <td>H400</td>\n",
              "      <td>Heifers</td>\n",
              "      <td>400 449</td>\n",
              "      <td>400</td>\n",
              "      <td>449.0</td>\n",
              "      <td>Euro</td>\n",
              "      <td>216.796269</td>\n",
              "    </tr>\n",
              "    <tr>\n",
              "      <th>1287</th>\n",
              "      <td>AJA01C2</td>\n",
              "      <td>Cattle Price per 100 Kg</td>\n",
              "      <td>2021</td>\n",
              "      <td>2021</td>\n",
              "      <td>SCOW</td>\n",
              "      <td>Bullocks</td>\n",
              "      <td>550</td>\n",
              "      <td>550</td>\n",
              "      <td>NaN</td>\n",
              "      <td>Euro</td>\n",
              "      <td>228.073462</td>\n",
              "    </tr>\n",
              "  </tbody>\n",
              "</table>\n",
              "<p>1288 rows × 11 columns</p>\n",
              "</div>\n",
              "      <button class=\"colab-df-convert\" onclick=\"convertToInteractive('df-d6a8a714-0bd6-4bad-b968-c21b8a0fbaf6')\"\n",
              "              title=\"Convert this dataframe to an interactive table.\"\n",
              "              style=\"display:none;\">\n",
              "        \n",
              "  <svg xmlns=\"http://www.w3.org/2000/svg\" height=\"24px\"viewBox=\"0 0 24 24\"\n",
              "       width=\"24px\">\n",
              "    <path d=\"M0 0h24v24H0V0z\" fill=\"none\"/>\n",
              "    <path d=\"M18.56 5.44l.94 2.06.94-2.06 2.06-.94-2.06-.94-.94-2.06-.94 2.06-2.06.94zm-11 1L8.5 8.5l.94-2.06 2.06-.94-2.06-.94L8.5 2.5l-.94 2.06-2.06.94zm10 10l.94 2.06.94-2.06 2.06-.94-2.06-.94-.94-2.06-.94 2.06-2.06.94z\"/><path d=\"M17.41 7.96l-1.37-1.37c-.4-.4-.92-.59-1.43-.59-.52 0-1.04.2-1.43.59L10.3 9.45l-7.72 7.72c-.78.78-.78 2.05 0 2.83L4 21.41c.39.39.9.59 1.41.59.51 0 1.02-.2 1.41-.59l7.78-7.78 2.81-2.81c.8-.78.8-2.07 0-2.86zM5.41 20L4 18.59l7.72-7.72 1.47 1.35L5.41 20z\"/>\n",
              "  </svg>\n",
              "      </button>\n",
              "      \n",
              "  <style>\n",
              "    .colab-df-container {\n",
              "      display:flex;\n",
              "      flex-wrap:wrap;\n",
              "      gap: 12px;\n",
              "    }\n",
              "\n",
              "    .colab-df-convert {\n",
              "      background-color: #E8F0FE;\n",
              "      border: none;\n",
              "      border-radius: 50%;\n",
              "      cursor: pointer;\n",
              "      display: none;\n",
              "      fill: #1967D2;\n",
              "      height: 32px;\n",
              "      padding: 0 0 0 0;\n",
              "      width: 32px;\n",
              "    }\n",
              "\n",
              "    .colab-df-convert:hover {\n",
              "      background-color: #E2EBFA;\n",
              "      box-shadow: 0px 1px 2px rgba(60, 64, 67, 0.3), 0px 1px 3px 1px rgba(60, 64, 67, 0.15);\n",
              "      fill: #174EA6;\n",
              "    }\n",
              "\n",
              "    [theme=dark] .colab-df-convert {\n",
              "      background-color: #3B4455;\n",
              "      fill: #D2E3FC;\n",
              "    }\n",
              "\n",
              "    [theme=dark] .colab-df-convert:hover {\n",
              "      background-color: #434B5C;\n",
              "      box-shadow: 0px 1px 3px 1px rgba(0, 0, 0, 0.15);\n",
              "      filter: drop-shadow(0px 1px 2px rgba(0, 0, 0, 0.3));\n",
              "      fill: #FFFFFF;\n",
              "    }\n",
              "  </style>\n",
              "\n",
              "      <script>\n",
              "        const buttonEl =\n",
              "          document.querySelector('#df-d6a8a714-0bd6-4bad-b968-c21b8a0fbaf6 button.colab-df-convert');\n",
              "        buttonEl.style.display =\n",
              "          google.colab.kernel.accessAllowed ? 'block' : 'none';\n",
              "\n",
              "        async function convertToInteractive(key) {\n",
              "          const element = document.querySelector('#df-d6a8a714-0bd6-4bad-b968-c21b8a0fbaf6');\n",
              "          const dataTable =\n",
              "            await google.colab.kernel.invokeFunction('convertToInteractive',\n",
              "                                                     [key], {});\n",
              "          if (!dataTable) return;\n",
              "\n",
              "          const docLinkHtml = 'Like what you see? Visit the ' +\n",
              "            '<a target=\"_blank\" href=https://colab.research.google.com/notebooks/data_table.ipynb>data table notebook</a>'\n",
              "            + ' to learn more about interactive tables.';\n",
              "          element.innerHTML = '';\n",
              "          dataTable['output_type'] = 'display_data';\n",
              "          await google.colab.output.renderOutput(dataTable, element);\n",
              "          const docLink = document.createElement('div');\n",
              "          docLink.innerHTML = docLinkHtml;\n",
              "          element.appendChild(docLink);\n",
              "        }\n",
              "      </script>\n",
              "    </div>\n",
              "  </div>\n",
              "  "
            ]
          },
          "metadata": {},
          "execution_count": 286
        }
      ],
      "source": [
        "data1"
      ]
    },
    {
      "cell_type": "code",
      "source": [
        "data1 = data1.dropna(axis = 0)"
      ],
      "metadata": {
        "id": "EAZXcHU7ScEQ"
      },
      "execution_count": 287,
      "outputs": []
    },
    {
      "cell_type": "code",
      "execution_count": 288,
      "metadata": {
        "colab": {
          "base_uri": "https://localhost:8080/"
        },
        "id": "Ty0g9xQ-Z_Rp",
        "outputId": "7bd45cdc-4066-484e-92ce-82f5acf4ef0d"
      },
      "outputs": [
        {
          "output_type": "execute_result",
          "data": {
            "text/plain": [
              "numpy.ndarray"
            ]
          },
          "metadata": {},
          "execution_count": 288
        }
      ],
      "source": [
        "type(df['Max Weight in kg'].values)"
      ]
    },
    {
      "cell_type": "code",
      "source": [
        "df.dropna(inplace=True,axis=0)"
      ],
      "metadata": {
        "id": "QWpHs-bbNBnz"
      },
      "execution_count": 289,
      "outputs": []
    },
    {
      "cell_type": "code",
      "source": [
        "df"
      ],
      "metadata": {
        "colab": {
          "base_uri": "https://localhost:8080/",
          "height": 676
        },
        "id": "v9pz6yoVTo8F",
        "outputId": "e43f77e6-ff9f-4236-a46a-1c27073a0c68"
      },
      "execution_count": 290,
      "outputs": [
        {
          "output_type": "execute_result",
          "data": {
            "text/plain": [
              "     STATISTIC CODE                Statistic  TLIST(A1)  Year C01782V02140  \\\n",
              "0           AJA01C1    Cattle Price per Head       1976  1976         B200   \n",
              "1           AJA01C1    Cattle Price per Head       1976  1976         B250   \n",
              "2           AJA01C1    Cattle Price per Head       1976  1976         B300   \n",
              "3           AJA01C1    Cattle Price per Head       1976  1976         B350   \n",
              "4           AJA01C1    Cattle Price per Head       1976  1976         B400   \n",
              "...             ...                      ...        ...   ...          ...   \n",
              "1282        AJA01C2  Cattle Price per 100 Kg       2021  2021         H200   \n",
              "1283        AJA01C2  Cattle Price per 100 Kg       2021  2021         H250   \n",
              "1284        AJA01C2  Cattle Price per 100 Kg       2021  2021         H300   \n",
              "1285        AJA01C2  Cattle Price per 100 Kg       2021  2021         H350   \n",
              "1286        AJA01C2  Cattle Price per 100 Kg       2021  2021         H400   \n",
              "\n",
              "     Type of Cattle Weight in kg Min Weight in kg Max Weight in kg  UNIT  \\\n",
              "0          Bullocks    200 249                200            249    Euro   \n",
              "1          Bullocks    250 299                250            299    Euro   \n",
              "2          Bullocks    300 349                300            349    Euro   \n",
              "3          Bullocks    350 399                350            399    Euro   \n",
              "4          Bullocks    400 449                400            449    Euro   \n",
              "...             ...          ...              ...              ...   ...   \n",
              "1282        Heifers    200 249                200            249    Euro   \n",
              "1283        Heifers    250 299                250            299    Euro   \n",
              "1284        Heifers    300 349                300            349    Euro   \n",
              "1285        Heifers    350 399                350            399    Euro   \n",
              "1286        Heifers    400 449                400            449    Euro   \n",
              "\n",
              "           VALUE  \n",
              "0     228.073462  \n",
              "1     228.073462  \n",
              "2     238.290000  \n",
              "3     270.470000  \n",
              "4     302.430000  \n",
              "...          ...  \n",
              "1282  222.738691  \n",
              "1283  216.991177  \n",
              "1284  215.245632  \n",
              "1285  216.965995  \n",
              "1286  216.796269  \n",
              "\n",
              "[1196 rows x 11 columns]"
            ],
            "text/html": [
              "\n",
              "  <div id=\"df-c024aa50-5d01-4fd3-aad7-253122c2db49\">\n",
              "    <div class=\"colab-df-container\">\n",
              "      <div>\n",
              "<style scoped>\n",
              "    .dataframe tbody tr th:only-of-type {\n",
              "        vertical-align: middle;\n",
              "    }\n",
              "\n",
              "    .dataframe tbody tr th {\n",
              "        vertical-align: top;\n",
              "    }\n",
              "\n",
              "    .dataframe thead th {\n",
              "        text-align: right;\n",
              "    }\n",
              "</style>\n",
              "<table border=\"1\" class=\"dataframe\">\n",
              "  <thead>\n",
              "    <tr style=\"text-align: right;\">\n",
              "      <th></th>\n",
              "      <th>STATISTIC CODE</th>\n",
              "      <th>Statistic</th>\n",
              "      <th>TLIST(A1)</th>\n",
              "      <th>Year</th>\n",
              "      <th>C01782V02140</th>\n",
              "      <th>Type of Cattle</th>\n",
              "      <th>Weight in kg</th>\n",
              "      <th>Min Weight in kg</th>\n",
              "      <th>Max Weight in kg</th>\n",
              "      <th>UNIT</th>\n",
              "      <th>VALUE</th>\n",
              "    </tr>\n",
              "  </thead>\n",
              "  <tbody>\n",
              "    <tr>\n",
              "      <th>0</th>\n",
              "      <td>AJA01C1</td>\n",
              "      <td>Cattle Price per Head</td>\n",
              "      <td>1976</td>\n",
              "      <td>1976</td>\n",
              "      <td>B200</td>\n",
              "      <td>Bullocks</td>\n",
              "      <td>200 249</td>\n",
              "      <td>200</td>\n",
              "      <td>249</td>\n",
              "      <td>Euro</td>\n",
              "      <td>228.073462</td>\n",
              "    </tr>\n",
              "    <tr>\n",
              "      <th>1</th>\n",
              "      <td>AJA01C1</td>\n",
              "      <td>Cattle Price per Head</td>\n",
              "      <td>1976</td>\n",
              "      <td>1976</td>\n",
              "      <td>B250</td>\n",
              "      <td>Bullocks</td>\n",
              "      <td>250 299</td>\n",
              "      <td>250</td>\n",
              "      <td>299</td>\n",
              "      <td>Euro</td>\n",
              "      <td>228.073462</td>\n",
              "    </tr>\n",
              "    <tr>\n",
              "      <th>2</th>\n",
              "      <td>AJA01C1</td>\n",
              "      <td>Cattle Price per Head</td>\n",
              "      <td>1976</td>\n",
              "      <td>1976</td>\n",
              "      <td>B300</td>\n",
              "      <td>Bullocks</td>\n",
              "      <td>300 349</td>\n",
              "      <td>300</td>\n",
              "      <td>349</td>\n",
              "      <td>Euro</td>\n",
              "      <td>238.290000</td>\n",
              "    </tr>\n",
              "    <tr>\n",
              "      <th>3</th>\n",
              "      <td>AJA01C1</td>\n",
              "      <td>Cattle Price per Head</td>\n",
              "      <td>1976</td>\n",
              "      <td>1976</td>\n",
              "      <td>B350</td>\n",
              "      <td>Bullocks</td>\n",
              "      <td>350 399</td>\n",
              "      <td>350</td>\n",
              "      <td>399</td>\n",
              "      <td>Euro</td>\n",
              "      <td>270.470000</td>\n",
              "    </tr>\n",
              "    <tr>\n",
              "      <th>4</th>\n",
              "      <td>AJA01C1</td>\n",
              "      <td>Cattle Price per Head</td>\n",
              "      <td>1976</td>\n",
              "      <td>1976</td>\n",
              "      <td>B400</td>\n",
              "      <td>Bullocks</td>\n",
              "      <td>400 449</td>\n",
              "      <td>400</td>\n",
              "      <td>449</td>\n",
              "      <td>Euro</td>\n",
              "      <td>302.430000</td>\n",
              "    </tr>\n",
              "    <tr>\n",
              "      <th>...</th>\n",
              "      <td>...</td>\n",
              "      <td>...</td>\n",
              "      <td>...</td>\n",
              "      <td>...</td>\n",
              "      <td>...</td>\n",
              "      <td>...</td>\n",
              "      <td>...</td>\n",
              "      <td>...</td>\n",
              "      <td>...</td>\n",
              "      <td>...</td>\n",
              "      <td>...</td>\n",
              "    </tr>\n",
              "    <tr>\n",
              "      <th>1282</th>\n",
              "      <td>AJA01C2</td>\n",
              "      <td>Cattle Price per 100 Kg</td>\n",
              "      <td>2021</td>\n",
              "      <td>2021</td>\n",
              "      <td>H200</td>\n",
              "      <td>Heifers</td>\n",
              "      <td>200 249</td>\n",
              "      <td>200</td>\n",
              "      <td>249</td>\n",
              "      <td>Euro</td>\n",
              "      <td>222.738691</td>\n",
              "    </tr>\n",
              "    <tr>\n",
              "      <th>1283</th>\n",
              "      <td>AJA01C2</td>\n",
              "      <td>Cattle Price per 100 Kg</td>\n",
              "      <td>2021</td>\n",
              "      <td>2021</td>\n",
              "      <td>H250</td>\n",
              "      <td>Heifers</td>\n",
              "      <td>250 299</td>\n",
              "      <td>250</td>\n",
              "      <td>299</td>\n",
              "      <td>Euro</td>\n",
              "      <td>216.991177</td>\n",
              "    </tr>\n",
              "    <tr>\n",
              "      <th>1284</th>\n",
              "      <td>AJA01C2</td>\n",
              "      <td>Cattle Price per 100 Kg</td>\n",
              "      <td>2021</td>\n",
              "      <td>2021</td>\n",
              "      <td>H300</td>\n",
              "      <td>Heifers</td>\n",
              "      <td>300 349</td>\n",
              "      <td>300</td>\n",
              "      <td>349</td>\n",
              "      <td>Euro</td>\n",
              "      <td>215.245632</td>\n",
              "    </tr>\n",
              "    <tr>\n",
              "      <th>1285</th>\n",
              "      <td>AJA01C2</td>\n",
              "      <td>Cattle Price per 100 Kg</td>\n",
              "      <td>2021</td>\n",
              "      <td>2021</td>\n",
              "      <td>H350</td>\n",
              "      <td>Heifers</td>\n",
              "      <td>350 399</td>\n",
              "      <td>350</td>\n",
              "      <td>399</td>\n",
              "      <td>Euro</td>\n",
              "      <td>216.965995</td>\n",
              "    </tr>\n",
              "    <tr>\n",
              "      <th>1286</th>\n",
              "      <td>AJA01C2</td>\n",
              "      <td>Cattle Price per 100 Kg</td>\n",
              "      <td>2021</td>\n",
              "      <td>2021</td>\n",
              "      <td>H400</td>\n",
              "      <td>Heifers</td>\n",
              "      <td>400 449</td>\n",
              "      <td>400</td>\n",
              "      <td>449</td>\n",
              "      <td>Euro</td>\n",
              "      <td>216.796269</td>\n",
              "    </tr>\n",
              "  </tbody>\n",
              "</table>\n",
              "<p>1196 rows × 11 columns</p>\n",
              "</div>\n",
              "      <button class=\"colab-df-convert\" onclick=\"convertToInteractive('df-c024aa50-5d01-4fd3-aad7-253122c2db49')\"\n",
              "              title=\"Convert this dataframe to an interactive table.\"\n",
              "              style=\"display:none;\">\n",
              "        \n",
              "  <svg xmlns=\"http://www.w3.org/2000/svg\" height=\"24px\"viewBox=\"0 0 24 24\"\n",
              "       width=\"24px\">\n",
              "    <path d=\"M0 0h24v24H0V0z\" fill=\"none\"/>\n",
              "    <path d=\"M18.56 5.44l.94 2.06.94-2.06 2.06-.94-2.06-.94-.94-2.06-.94 2.06-2.06.94zm-11 1L8.5 8.5l.94-2.06 2.06-.94-2.06-.94L8.5 2.5l-.94 2.06-2.06.94zm10 10l.94 2.06.94-2.06 2.06-.94-2.06-.94-.94-2.06-.94 2.06-2.06.94z\"/><path d=\"M17.41 7.96l-1.37-1.37c-.4-.4-.92-.59-1.43-.59-.52 0-1.04.2-1.43.59L10.3 9.45l-7.72 7.72c-.78.78-.78 2.05 0 2.83L4 21.41c.39.39.9.59 1.41.59.51 0 1.02-.2 1.41-.59l7.78-7.78 2.81-2.81c.8-.78.8-2.07 0-2.86zM5.41 20L4 18.59l7.72-7.72 1.47 1.35L5.41 20z\"/>\n",
              "  </svg>\n",
              "      </button>\n",
              "      \n",
              "  <style>\n",
              "    .colab-df-container {\n",
              "      display:flex;\n",
              "      flex-wrap:wrap;\n",
              "      gap: 12px;\n",
              "    }\n",
              "\n",
              "    .colab-df-convert {\n",
              "      background-color: #E8F0FE;\n",
              "      border: none;\n",
              "      border-radius: 50%;\n",
              "      cursor: pointer;\n",
              "      display: none;\n",
              "      fill: #1967D2;\n",
              "      height: 32px;\n",
              "      padding: 0 0 0 0;\n",
              "      width: 32px;\n",
              "    }\n",
              "\n",
              "    .colab-df-convert:hover {\n",
              "      background-color: #E2EBFA;\n",
              "      box-shadow: 0px 1px 2px rgba(60, 64, 67, 0.3), 0px 1px 3px 1px rgba(60, 64, 67, 0.15);\n",
              "      fill: #174EA6;\n",
              "    }\n",
              "\n",
              "    [theme=dark] .colab-df-convert {\n",
              "      background-color: #3B4455;\n",
              "      fill: #D2E3FC;\n",
              "    }\n",
              "\n",
              "    [theme=dark] .colab-df-convert:hover {\n",
              "      background-color: #434B5C;\n",
              "      box-shadow: 0px 1px 3px 1px rgba(0, 0, 0, 0.15);\n",
              "      filter: drop-shadow(0px 1px 2px rgba(0, 0, 0, 0.3));\n",
              "      fill: #FFFFFF;\n",
              "    }\n",
              "  </style>\n",
              "\n",
              "      <script>\n",
              "        const buttonEl =\n",
              "          document.querySelector('#df-c024aa50-5d01-4fd3-aad7-253122c2db49 button.colab-df-convert');\n",
              "        buttonEl.style.display =\n",
              "          google.colab.kernel.accessAllowed ? 'block' : 'none';\n",
              "\n",
              "        async function convertToInteractive(key) {\n",
              "          const element = document.querySelector('#df-c024aa50-5d01-4fd3-aad7-253122c2db49');\n",
              "          const dataTable =\n",
              "            await google.colab.kernel.invokeFunction('convertToInteractive',\n",
              "                                                     [key], {});\n",
              "          if (!dataTable) return;\n",
              "\n",
              "          const docLinkHtml = 'Like what you see? Visit the ' +\n",
              "            '<a target=\"_blank\" href=https://colab.research.google.com/notebooks/data_table.ipynb>data table notebook</a>'\n",
              "            + ' to learn more about interactive tables.';\n",
              "          element.innerHTML = '';\n",
              "          dataTable['output_type'] = 'display_data';\n",
              "          await google.colab.output.renderOutput(dataTable, element);\n",
              "          const docLink = document.createElement('div');\n",
              "          docLink.innerHTML = docLinkHtml;\n",
              "          element.appendChild(docLink);\n",
              "        }\n",
              "      </script>\n",
              "    </div>\n",
              "  </div>\n",
              "  "
            ]
          },
          "metadata": {},
          "execution_count": 290
        }
      ]
    },
    {
      "cell_type": "code",
      "source": [
        "#import sqlite3\n",
        "#from sqlite3 import Error"
      ],
      "metadata": {
        "id": "lnc7a9UnT35L"
      },
      "execution_count": 291,
      "outputs": []
    },
    {
      "cell_type": "code",
      "source": [
        "#%load_ext sql"
      ],
      "metadata": {
        "id": "h-g1KxAFtXas"
      },
      "execution_count": 292,
      "outputs": []
    },
    {
      "cell_type": "code",
      "source": [
        "x = data1.iloc[:,7:9]\n",
        "y = data1['VALUE']"
      ],
      "metadata": {
        "id": "n8SMbC1OKw04"
      },
      "execution_count": 293,
      "outputs": []
    },
    {
      "cell_type": "code",
      "source": [
        "x"
      ],
      "metadata": {
        "colab": {
          "base_uri": "https://localhost:8080/",
          "height": 424
        },
        "id": "ERO92kXTNfzm",
        "outputId": "9e3ce9a0-39cf-434d-9141-2845f2f70221"
      },
      "execution_count": 294,
      "outputs": [
        {
          "output_type": "execute_result",
          "data": {
            "text/plain": [
              "      Min Weight in kg  Max Weight in kg\n",
              "0                  200             249.0\n",
              "1                  250             299.0\n",
              "2                  300             349.0\n",
              "3                  350             399.0\n",
              "4                  400             449.0\n",
              "...                ...               ...\n",
              "1282               200             249.0\n",
              "1283               250             299.0\n",
              "1284               300             349.0\n",
              "1285               350             399.0\n",
              "1286               400             449.0\n",
              "\n",
              "[1104 rows x 2 columns]"
            ],
            "text/html": [
              "\n",
              "  <div id=\"df-0ec02052-a15a-497b-97dd-f9e4ac06fe17\">\n",
              "    <div class=\"colab-df-container\">\n",
              "      <div>\n",
              "<style scoped>\n",
              "    .dataframe tbody tr th:only-of-type {\n",
              "        vertical-align: middle;\n",
              "    }\n",
              "\n",
              "    .dataframe tbody tr th {\n",
              "        vertical-align: top;\n",
              "    }\n",
              "\n",
              "    .dataframe thead th {\n",
              "        text-align: right;\n",
              "    }\n",
              "</style>\n",
              "<table border=\"1\" class=\"dataframe\">\n",
              "  <thead>\n",
              "    <tr style=\"text-align: right;\">\n",
              "      <th></th>\n",
              "      <th>Min Weight in kg</th>\n",
              "      <th>Max Weight in kg</th>\n",
              "    </tr>\n",
              "  </thead>\n",
              "  <tbody>\n",
              "    <tr>\n",
              "      <th>0</th>\n",
              "      <td>200</td>\n",
              "      <td>249.0</td>\n",
              "    </tr>\n",
              "    <tr>\n",
              "      <th>1</th>\n",
              "      <td>250</td>\n",
              "      <td>299.0</td>\n",
              "    </tr>\n",
              "    <tr>\n",
              "      <th>2</th>\n",
              "      <td>300</td>\n",
              "      <td>349.0</td>\n",
              "    </tr>\n",
              "    <tr>\n",
              "      <th>3</th>\n",
              "      <td>350</td>\n",
              "      <td>399.0</td>\n",
              "    </tr>\n",
              "    <tr>\n",
              "      <th>4</th>\n",
              "      <td>400</td>\n",
              "      <td>449.0</td>\n",
              "    </tr>\n",
              "    <tr>\n",
              "      <th>...</th>\n",
              "      <td>...</td>\n",
              "      <td>...</td>\n",
              "    </tr>\n",
              "    <tr>\n",
              "      <th>1282</th>\n",
              "      <td>200</td>\n",
              "      <td>249.0</td>\n",
              "    </tr>\n",
              "    <tr>\n",
              "      <th>1283</th>\n",
              "      <td>250</td>\n",
              "      <td>299.0</td>\n",
              "    </tr>\n",
              "    <tr>\n",
              "      <th>1284</th>\n",
              "      <td>300</td>\n",
              "      <td>349.0</td>\n",
              "    </tr>\n",
              "    <tr>\n",
              "      <th>1285</th>\n",
              "      <td>350</td>\n",
              "      <td>399.0</td>\n",
              "    </tr>\n",
              "    <tr>\n",
              "      <th>1286</th>\n",
              "      <td>400</td>\n",
              "      <td>449.0</td>\n",
              "    </tr>\n",
              "  </tbody>\n",
              "</table>\n",
              "<p>1104 rows × 2 columns</p>\n",
              "</div>\n",
              "      <button class=\"colab-df-convert\" onclick=\"convertToInteractive('df-0ec02052-a15a-497b-97dd-f9e4ac06fe17')\"\n",
              "              title=\"Convert this dataframe to an interactive table.\"\n",
              "              style=\"display:none;\">\n",
              "        \n",
              "  <svg xmlns=\"http://www.w3.org/2000/svg\" height=\"24px\"viewBox=\"0 0 24 24\"\n",
              "       width=\"24px\">\n",
              "    <path d=\"M0 0h24v24H0V0z\" fill=\"none\"/>\n",
              "    <path d=\"M18.56 5.44l.94 2.06.94-2.06 2.06-.94-2.06-.94-.94-2.06-.94 2.06-2.06.94zm-11 1L8.5 8.5l.94-2.06 2.06-.94-2.06-.94L8.5 2.5l-.94 2.06-2.06.94zm10 10l.94 2.06.94-2.06 2.06-.94-2.06-.94-.94-2.06-.94 2.06-2.06.94z\"/><path d=\"M17.41 7.96l-1.37-1.37c-.4-.4-.92-.59-1.43-.59-.52 0-1.04.2-1.43.59L10.3 9.45l-7.72 7.72c-.78.78-.78 2.05 0 2.83L4 21.41c.39.39.9.59 1.41.59.51 0 1.02-.2 1.41-.59l7.78-7.78 2.81-2.81c.8-.78.8-2.07 0-2.86zM5.41 20L4 18.59l7.72-7.72 1.47 1.35L5.41 20z\"/>\n",
              "  </svg>\n",
              "      </button>\n",
              "      \n",
              "  <style>\n",
              "    .colab-df-container {\n",
              "      display:flex;\n",
              "      flex-wrap:wrap;\n",
              "      gap: 12px;\n",
              "    }\n",
              "\n",
              "    .colab-df-convert {\n",
              "      background-color: #E8F0FE;\n",
              "      border: none;\n",
              "      border-radius: 50%;\n",
              "      cursor: pointer;\n",
              "      display: none;\n",
              "      fill: #1967D2;\n",
              "      height: 32px;\n",
              "      padding: 0 0 0 0;\n",
              "      width: 32px;\n",
              "    }\n",
              "\n",
              "    .colab-df-convert:hover {\n",
              "      background-color: #E2EBFA;\n",
              "      box-shadow: 0px 1px 2px rgba(60, 64, 67, 0.3), 0px 1px 3px 1px rgba(60, 64, 67, 0.15);\n",
              "      fill: #174EA6;\n",
              "    }\n",
              "\n",
              "    [theme=dark] .colab-df-convert {\n",
              "      background-color: #3B4455;\n",
              "      fill: #D2E3FC;\n",
              "    }\n",
              "\n",
              "    [theme=dark] .colab-df-convert:hover {\n",
              "      background-color: #434B5C;\n",
              "      box-shadow: 0px 1px 3px 1px rgba(0, 0, 0, 0.15);\n",
              "      filter: drop-shadow(0px 1px 2px rgba(0, 0, 0, 0.3));\n",
              "      fill: #FFFFFF;\n",
              "    }\n",
              "  </style>\n",
              "\n",
              "      <script>\n",
              "        const buttonEl =\n",
              "          document.querySelector('#df-0ec02052-a15a-497b-97dd-f9e4ac06fe17 button.colab-df-convert');\n",
              "        buttonEl.style.display =\n",
              "          google.colab.kernel.accessAllowed ? 'block' : 'none';\n",
              "\n",
              "        async function convertToInteractive(key) {\n",
              "          const element = document.querySelector('#df-0ec02052-a15a-497b-97dd-f9e4ac06fe17');\n",
              "          const dataTable =\n",
              "            await google.colab.kernel.invokeFunction('convertToInteractive',\n",
              "                                                     [key], {});\n",
              "          if (!dataTable) return;\n",
              "\n",
              "          const docLinkHtml = 'Like what you see? Visit the ' +\n",
              "            '<a target=\"_blank\" href=https://colab.research.google.com/notebooks/data_table.ipynb>data table notebook</a>'\n",
              "            + ' to learn more about interactive tables.';\n",
              "          element.innerHTML = '';\n",
              "          dataTable['output_type'] = 'display_data';\n",
              "          await google.colab.output.renderOutput(dataTable, element);\n",
              "          const docLink = document.createElement('div');\n",
              "          docLink.innerHTML = docLinkHtml;\n",
              "          element.appendChild(docLink);\n",
              "        }\n",
              "      </script>\n",
              "    </div>\n",
              "  </div>\n",
              "  "
            ]
          },
          "metadata": {},
          "execution_count": 294
        }
      ]
    },
    {
      "cell_type": "code",
      "source": [],
      "metadata": {
        "id": "-Gw5djqrRThp"
      },
      "execution_count": 294,
      "outputs": []
    },
    {
      "cell_type": "code",
      "source": [
        "x['Max Weight in kg'] = x.iloc[:, 1].astype(int)"
      ],
      "metadata": {
        "id": "v5BFC-FZPI9j"
      },
      "execution_count": 295,
      "outputs": []
    },
    {
      "cell_type": "code",
      "source": [
        "x"
      ],
      "metadata": {
        "colab": {
          "base_uri": "https://localhost:8080/",
          "height": 424
        },
        "id": "oviO-tR_POZ-",
        "outputId": "f298cc3e-dabf-4f03-fa55-7579d75c10bc"
      },
      "execution_count": 296,
      "outputs": [
        {
          "output_type": "execute_result",
          "data": {
            "text/plain": [
              "      Min Weight in kg  Max Weight in kg\n",
              "0                  200               249\n",
              "1                  250               299\n",
              "2                  300               349\n",
              "3                  350               399\n",
              "4                  400               449\n",
              "...                ...               ...\n",
              "1282               200               249\n",
              "1283               250               299\n",
              "1284               300               349\n",
              "1285               350               399\n",
              "1286               400               449\n",
              "\n",
              "[1104 rows x 2 columns]"
            ],
            "text/html": [
              "\n",
              "  <div id=\"df-094ebfa8-c5ab-4505-b4e3-43b0ebfaad6e\">\n",
              "    <div class=\"colab-df-container\">\n",
              "      <div>\n",
              "<style scoped>\n",
              "    .dataframe tbody tr th:only-of-type {\n",
              "        vertical-align: middle;\n",
              "    }\n",
              "\n",
              "    .dataframe tbody tr th {\n",
              "        vertical-align: top;\n",
              "    }\n",
              "\n",
              "    .dataframe thead th {\n",
              "        text-align: right;\n",
              "    }\n",
              "</style>\n",
              "<table border=\"1\" class=\"dataframe\">\n",
              "  <thead>\n",
              "    <tr style=\"text-align: right;\">\n",
              "      <th></th>\n",
              "      <th>Min Weight in kg</th>\n",
              "      <th>Max Weight in kg</th>\n",
              "    </tr>\n",
              "  </thead>\n",
              "  <tbody>\n",
              "    <tr>\n",
              "      <th>0</th>\n",
              "      <td>200</td>\n",
              "      <td>249</td>\n",
              "    </tr>\n",
              "    <tr>\n",
              "      <th>1</th>\n",
              "      <td>250</td>\n",
              "      <td>299</td>\n",
              "    </tr>\n",
              "    <tr>\n",
              "      <th>2</th>\n",
              "      <td>300</td>\n",
              "      <td>349</td>\n",
              "    </tr>\n",
              "    <tr>\n",
              "      <th>3</th>\n",
              "      <td>350</td>\n",
              "      <td>399</td>\n",
              "    </tr>\n",
              "    <tr>\n",
              "      <th>4</th>\n",
              "      <td>400</td>\n",
              "      <td>449</td>\n",
              "    </tr>\n",
              "    <tr>\n",
              "      <th>...</th>\n",
              "      <td>...</td>\n",
              "      <td>...</td>\n",
              "    </tr>\n",
              "    <tr>\n",
              "      <th>1282</th>\n",
              "      <td>200</td>\n",
              "      <td>249</td>\n",
              "    </tr>\n",
              "    <tr>\n",
              "      <th>1283</th>\n",
              "      <td>250</td>\n",
              "      <td>299</td>\n",
              "    </tr>\n",
              "    <tr>\n",
              "      <th>1284</th>\n",
              "      <td>300</td>\n",
              "      <td>349</td>\n",
              "    </tr>\n",
              "    <tr>\n",
              "      <th>1285</th>\n",
              "      <td>350</td>\n",
              "      <td>399</td>\n",
              "    </tr>\n",
              "    <tr>\n",
              "      <th>1286</th>\n",
              "      <td>400</td>\n",
              "      <td>449</td>\n",
              "    </tr>\n",
              "  </tbody>\n",
              "</table>\n",
              "<p>1104 rows × 2 columns</p>\n",
              "</div>\n",
              "      <button class=\"colab-df-convert\" onclick=\"convertToInteractive('df-094ebfa8-c5ab-4505-b4e3-43b0ebfaad6e')\"\n",
              "              title=\"Convert this dataframe to an interactive table.\"\n",
              "              style=\"display:none;\">\n",
              "        \n",
              "  <svg xmlns=\"http://www.w3.org/2000/svg\" height=\"24px\"viewBox=\"0 0 24 24\"\n",
              "       width=\"24px\">\n",
              "    <path d=\"M0 0h24v24H0V0z\" fill=\"none\"/>\n",
              "    <path d=\"M18.56 5.44l.94 2.06.94-2.06 2.06-.94-2.06-.94-.94-2.06-.94 2.06-2.06.94zm-11 1L8.5 8.5l.94-2.06 2.06-.94-2.06-.94L8.5 2.5l-.94 2.06-2.06.94zm10 10l.94 2.06.94-2.06 2.06-.94-2.06-.94-.94-2.06-.94 2.06-2.06.94z\"/><path d=\"M17.41 7.96l-1.37-1.37c-.4-.4-.92-.59-1.43-.59-.52 0-1.04.2-1.43.59L10.3 9.45l-7.72 7.72c-.78.78-.78 2.05 0 2.83L4 21.41c.39.39.9.59 1.41.59.51 0 1.02-.2 1.41-.59l7.78-7.78 2.81-2.81c.8-.78.8-2.07 0-2.86zM5.41 20L4 18.59l7.72-7.72 1.47 1.35L5.41 20z\"/>\n",
              "  </svg>\n",
              "      </button>\n",
              "      \n",
              "  <style>\n",
              "    .colab-df-container {\n",
              "      display:flex;\n",
              "      flex-wrap:wrap;\n",
              "      gap: 12px;\n",
              "    }\n",
              "\n",
              "    .colab-df-convert {\n",
              "      background-color: #E8F0FE;\n",
              "      border: none;\n",
              "      border-radius: 50%;\n",
              "      cursor: pointer;\n",
              "      display: none;\n",
              "      fill: #1967D2;\n",
              "      height: 32px;\n",
              "      padding: 0 0 0 0;\n",
              "      width: 32px;\n",
              "    }\n",
              "\n",
              "    .colab-df-convert:hover {\n",
              "      background-color: #E2EBFA;\n",
              "      box-shadow: 0px 1px 2px rgba(60, 64, 67, 0.3), 0px 1px 3px 1px rgba(60, 64, 67, 0.15);\n",
              "      fill: #174EA6;\n",
              "    }\n",
              "\n",
              "    [theme=dark] .colab-df-convert {\n",
              "      background-color: #3B4455;\n",
              "      fill: #D2E3FC;\n",
              "    }\n",
              "\n",
              "    [theme=dark] .colab-df-convert:hover {\n",
              "      background-color: #434B5C;\n",
              "      box-shadow: 0px 1px 3px 1px rgba(0, 0, 0, 0.15);\n",
              "      filter: drop-shadow(0px 1px 2px rgba(0, 0, 0, 0.3));\n",
              "      fill: #FFFFFF;\n",
              "    }\n",
              "  </style>\n",
              "\n",
              "      <script>\n",
              "        const buttonEl =\n",
              "          document.querySelector('#df-094ebfa8-c5ab-4505-b4e3-43b0ebfaad6e button.colab-df-convert');\n",
              "        buttonEl.style.display =\n",
              "          google.colab.kernel.accessAllowed ? 'block' : 'none';\n",
              "\n",
              "        async function convertToInteractive(key) {\n",
              "          const element = document.querySelector('#df-094ebfa8-c5ab-4505-b4e3-43b0ebfaad6e');\n",
              "          const dataTable =\n",
              "            await google.colab.kernel.invokeFunction('convertToInteractive',\n",
              "                                                     [key], {});\n",
              "          if (!dataTable) return;\n",
              "\n",
              "          const docLinkHtml = 'Like what you see? Visit the ' +\n",
              "            '<a target=\"_blank\" href=https://colab.research.google.com/notebooks/data_table.ipynb>data table notebook</a>'\n",
              "            + ' to learn more about interactive tables.';\n",
              "          element.innerHTML = '';\n",
              "          dataTable['output_type'] = 'display_data';\n",
              "          await google.colab.output.renderOutput(dataTable, element);\n",
              "          const docLink = document.createElement('div');\n",
              "          docLink.innerHTML = docLinkHtml;\n",
              "          element.appendChild(docLink);\n",
              "        }\n",
              "      </script>\n",
              "    </div>\n",
              "  </div>\n",
              "  "
            ]
          },
          "metadata": {},
          "execution_count": 296
        }
      ]
    },
    {
      "cell_type": "code",
      "source": [
        "x.shape"
      ],
      "metadata": {
        "colab": {
          "base_uri": "https://localhost:8080/"
        },
        "id": "S1vRQ4O7IgGc",
        "outputId": "182695d3-36f7-44f2-a6c0-7da17d05f3dd"
      },
      "execution_count": 297,
      "outputs": [
        {
          "output_type": "execute_result",
          "data": {
            "text/plain": [
              "(1104, 2)"
            ]
          },
          "metadata": {},
          "execution_count": 297
        }
      ]
    },
    {
      "cell_type": "code",
      "source": [
        "y.shape"
      ],
      "metadata": {
        "colab": {
          "base_uri": "https://localhost:8080/"
        },
        "id": "WqwbHGzYIilY",
        "outputId": "8e4ba50d-94a9-43d1-cc64-43e41dd6978b"
      },
      "execution_count": 298,
      "outputs": [
        {
          "output_type": "execute_result",
          "data": {
            "text/plain": [
              "(1104,)"
            ]
          },
          "metadata": {},
          "execution_count": 298
        }
      ]
    },
    {
      "cell_type": "code",
      "source": [
        "sns.set()\n",
        "\n",
        "fig, (ax1, ax2) = plt.subplots(1, 2, figsize =(10,4))\n",
        "fig.tight_layout(pad  = 3.0)\n",
        "ax1.scatter(x.iloc[:,0],y)\n",
        "ax1.set_xlabel(\"Min Weight\")\n",
        "ax1.set_ylabel(\"Price in Euros\")\n",
        "ax1.set_title(\"Steer Price Data\")\n",
        "\n",
        "ax2.scatter(x.iloc[:,1],y)\n",
        "ax2.set_xlabel(\"Max Weight\")\n",
        "ax2.set_ylabel(\"Price in Euros\")\n",
        "ax2.set_title(\"Steer Price Data\")"
      ],
      "metadata": {
        "colab": {
          "base_uri": "https://localhost:8080/",
          "height": 293
        },
        "id": "9yq9jE2xRa98",
        "outputId": "ad6ba56a-c447-4f91-f445-19306acf92c7"
      },
      "execution_count": 299,
      "outputs": [
        {
          "output_type": "execute_result",
          "data": {
            "text/plain": [
              "Text(0.5, 1.0, 'Steer Price Data')"
            ]
          },
          "metadata": {},
          "execution_count": 299
        },
        {
          "output_type": "display_data",
          "data": {
            "text/plain": [
              "<Figure size 720x288 with 2 Axes>"
            ],
            "image/png": "[encoded data removed]"
          },
          "metadata": {}
        }
      ]
    },
    {
      "cell_type": "code",
      "source": [
        "from sklearn.model_selection import train_test_split\n",
        "from sklearn.metrics import r2_score, mean_squared_error\n",
        "x_train,x_test,y_train,y_test=train_test_split(x,y,train_size=0.8, random_state=365)"
      ],
      "metadata": {
        "id": "jnLXgmcEdLTw"
      },
      "execution_count": 300,
      "outputs": []
    },
    {
      "cell_type": "code",
      "source": [
        "x_train"
      ],
      "metadata": {
        "colab": {
          "base_uri": "https://localhost:8080/",
          "height": 424
        },
        "id": "7SjdR4mLf5Dk",
        "outputId": "32ab1f05-f113-44d9-8fb2-1dceaf0d89c3"
      },
      "execution_count": 301,
      "outputs": [
        {
          "output_type": "execute_result",
          "data": {
            "text/plain": [
              "      Min Weight in kg  Max Weight in kg\n",
              "920                300               349\n",
              "176                200               249\n",
              "1130               300               349\n",
              "522                400               449\n",
              "960                200               249\n",
              "...                ...               ...\n",
              "304                300               349\n",
              "499                250               299\n",
              "1002               200               249\n",
              "934                300               349\n",
              "807                250               299\n",
              "\n",
              "[883 rows x 2 columns]"
            ],
            "text/html": [
              "\n",
              "  <div id=\"df-46aa67d1-12c3-4dfe-a8ea-d0b1c1a7480a\">\n",
              "    <div class=\"colab-df-container\">\n",
              "      <div>\n",
              "<style scoped>\n",
              "    .dataframe tbody tr th:only-of-type {\n",
              "        vertical-align: middle;\n",
              "    }\n",
              "\n",
              "    .dataframe tbody tr th {\n",
              "        vertical-align: top;\n",
              "    }\n",
              "\n",
              "    .dataframe thead th {\n",
              "        text-align: right;\n",
              "    }\n",
              "</style>\n",
              "<table border=\"1\" class=\"dataframe\">\n",
              "  <thead>\n",
              "    <tr style=\"text-align: right;\">\n",
              "      <th></th>\n",
              "      <th>Min Weight in kg</th>\n",
              "      <th>Max Weight in kg</th>\n",
              "    </tr>\n",
              "  </thead>\n",
              "  <tbody>\n",
              "    <tr>\n",
              "      <th>920</th>\n",
              "      <td>300</td>\n",
              "      <td>349</td>\n",
              "    </tr>\n",
              "    <tr>\n",
              "      <th>176</th>\n",
              "      <td>200</td>\n",
              "      <td>249</td>\n",
              "    </tr>\n",
              "    <tr>\n",
              "      <th>1130</th>\n",
              "      <td>300</td>\n",
              "      <td>349</td>\n",
              "    </tr>\n",
              "    <tr>\n",
              "      <th>522</th>\n",
              "      <td>400</td>\n",
              "      <td>449</td>\n",
              "    </tr>\n",
              "    <tr>\n",
              "      <th>960</th>\n",
              "      <td>200</td>\n",
              "      <td>249</td>\n",
              "    </tr>\n",
              "    <tr>\n",
              "      <th>...</th>\n",
              "      <td>...</td>\n",
              "      <td>...</td>\n",
              "    </tr>\n",
              "    <tr>\n",
              "      <th>304</th>\n",
              "      <td>300</td>\n",
              "      <td>349</td>\n",
              "    </tr>\n",
              "    <tr>\n",
              "      <th>499</th>\n",
              "      <td>250</td>\n",
              "      <td>299</td>\n",
              "    </tr>\n",
              "    <tr>\n",
              "      <th>1002</th>\n",
              "      <td>200</td>\n",
              "      <td>249</td>\n",
              "    </tr>\n",
              "    <tr>\n",
              "      <th>934</th>\n",
              "      <td>300</td>\n",
              "      <td>349</td>\n",
              "    </tr>\n",
              "    <tr>\n",
              "      <th>807</th>\n",
              "      <td>250</td>\n",
              "      <td>299</td>\n",
              "    </tr>\n",
              "  </tbody>\n",
              "</table>\n",
              "<p>883 rows × 2 columns</p>\n",
              "</div>\n",
              "      <button class=\"colab-df-convert\" onclick=\"convertToInteractive('df-46aa67d1-12c3-4dfe-a8ea-d0b1c1a7480a')\"\n",
              "              title=\"Convert this dataframe to an interactive table.\"\n",
              "              style=\"display:none;\">\n",
              "        \n",
              "  <svg xmlns=\"http://www.w3.org/2000/svg\" height=\"24px\"viewBox=\"0 0 24 24\"\n",
              "       width=\"24px\">\n",
              "    <path d=\"M0 0h24v24H0V0z\" fill=\"none\"/>\n",
              "    <path d=\"M18.56 5.44l.94 2.06.94-2.06 2.06-.94-2.06-.94-.94-2.06-.94 2.06-2.06.94zm-11 1L8.5 8.5l.94-2.06 2.06-.94-2.06-.94L8.5 2.5l-.94 2.06-2.06.94zm10 10l.94 2.06.94-2.06 2.06-.94-2.06-.94-.94-2.06-.94 2.06-2.06.94z\"/><path d=\"M17.41 7.96l-1.37-1.37c-.4-.4-.92-.59-1.43-.59-.52 0-1.04.2-1.43.59L10.3 9.45l-7.72 7.72c-.78.78-.78 2.05 0 2.83L4 21.41c.39.39.9.59 1.41.59.51 0 1.02-.2 1.41-.59l7.78-7.78 2.81-2.81c.8-.78.8-2.07 0-2.86zM5.41 20L4 18.59l7.72-7.72 1.47 1.35L5.41 20z\"/>\n",
              "  </svg>\n",
              "      </button>\n",
              "      \n",
              "  <style>\n",
              "    .colab-df-container {\n",
              "      display:flex;\n",
              "      flex-wrap:wrap;\n",
              "      gap: 12px;\n",
              "    }\n",
              "\n",
              "    .colab-df-convert {\n",
              "      background-color: #E8F0FE;\n",
              "      border: none;\n",
              "      border-radius: 50%;\n",
              "      cursor: pointer;\n",
              "      display: none;\n",
              "      fill: #1967D2;\n",
              "      height: 32px;\n",
              "      padding: 0 0 0 0;\n",
              "      width: 32px;\n",
              "    }\n",
              "\n",
              "    .colab-df-convert:hover {\n",
              "      background-color: #E2EBFA;\n",
              "      box-shadow: 0px 1px 2px rgba(60, 64, 67, 0.3), 0px 1px 3px 1px rgba(60, 64, 67, 0.15);\n",
              "      fill: #174EA6;\n",
              "    }\n",
              "\n",
              "    [theme=dark] .colab-df-convert {\n",
              "      background-color: #3B4455;\n",
              "      fill: #D2E3FC;\n",
              "    }\n",
              "\n",
              "    [theme=dark] .colab-df-convert:hover {\n",
              "      background-color: #434B5C;\n",
              "      box-shadow: 0px 1px 3px 1px rgba(0, 0, 0, 0.15);\n",
              "      filter: drop-shadow(0px 1px 2px rgba(0, 0, 0, 0.3));\n",
              "      fill: #FFFFFF;\n",
              "    }\n",
              "  </style>\n",
              "\n",
              "      <script>\n",
              "        const buttonEl =\n",
              "          document.querySelector('#df-46aa67d1-12c3-4dfe-a8ea-d0b1c1a7480a button.colab-df-convert');\n",
              "        buttonEl.style.display =\n",
              "          google.colab.kernel.accessAllowed ? 'block' : 'none';\n",
              "\n",
              "        async function convertToInteractive(key) {\n",
              "          const element = document.querySelector('#df-46aa67d1-12c3-4dfe-a8ea-d0b1c1a7480a');\n",
              "          const dataTable =\n",
              "            await google.colab.kernel.invokeFunction('convertToInteractive',\n",
              "                                                     [key], {});\n",
              "          if (!dataTable) return;\n",
              "\n",
              "          const docLinkHtml = 'Like what you see? Visit the ' +\n",
              "            '<a target=\"_blank\" href=https://colab.research.google.com/notebooks/data_table.ipynb>data table notebook</a>'\n",
              "            + ' to learn more about interactive tables.';\n",
              "          element.innerHTML = '';\n",
              "          dataTable['output_type'] = 'display_data';\n",
              "          await google.colab.output.renderOutput(dataTable, element);\n",
              "          const docLink = document.createElement('div');\n",
              "          docLink.innerHTML = docLinkHtml;\n",
              "          element.appendChild(docLink);\n",
              "        }\n",
              "      </script>\n",
              "    </div>\n",
              "  </div>\n",
              "  "
            ]
          },
          "metadata": {},
          "execution_count": 301
        }
      ]
    },
    {
      "cell_type": "code",
      "source": [
        "x_test"
      ],
      "metadata": {
        "colab": {
          "base_uri": "https://localhost:8080/",
          "height": 424
        },
        "id": "osjKmnqJf9iE",
        "outputId": "6d3428c2-56c9-4d2d-8dab-ac333c328528"
      },
      "execution_count": 302,
      "outputs": [
        {
          "output_type": "execute_result",
          "data": {
            "text/plain": [
              "      Min Weight in kg  Max Weight in kg\n",
              "1201               350               399\n",
              "754                400               449\n",
              "114                300               349\n",
              "883                250               299\n",
              "444                300               349\n",
              "...                ...               ...\n",
              "773                350               399\n",
              "513                250               299\n",
              "177                250               299\n",
              "485                250               299\n",
              "376                400               449\n",
              "\n",
              "[221 rows x 2 columns]"
            ],
            "text/html": [
              "\n",
              "  <div id=\"df-f732c974-921c-4ee8-9fb9-22c6de9c11e1\">\n",
              "    <div class=\"colab-df-container\">\n",
              "      <div>\n",
              "<style scoped>\n",
              "    .dataframe tbody tr th:only-of-type {\n",
              "        vertical-align: middle;\n",
              "    }\n",
              "\n",
              "    .dataframe tbody tr th {\n",
              "        vertical-align: top;\n",
              "    }\n",
              "\n",
              "    .dataframe thead th {\n",
              "        text-align: right;\n",
              "    }\n",
              "</style>\n",
              "<table border=\"1\" class=\"dataframe\">\n",
              "  <thead>\n",
              "    <tr style=\"text-align: right;\">\n",
              "      <th></th>\n",
              "      <th>Min Weight in kg</th>\n",
              "      <th>Max Weight in kg</th>\n",
              "    </tr>\n",
              "  </thead>\n",
              "  <tbody>\n",
              "    <tr>\n",
              "      <th>1201</th>\n",
              "      <td>350</td>\n",
              "      <td>399</td>\n",
              "    </tr>\n",
              "    <tr>\n",
              "      <th>754</th>\n",
              "      <td>400</td>\n",
              "      <td>449</td>\n",
              "    </tr>\n",
              "    <tr>\n",
              "      <th>114</th>\n",
              "      <td>300</td>\n",
              "      <td>349</td>\n",
              "    </tr>\n",
              "    <tr>\n",
              "      <th>883</th>\n",
              "      <td>250</td>\n",
              "      <td>299</td>\n",
              "    </tr>\n",
              "    <tr>\n",
              "      <th>444</th>\n",
              "      <td>300</td>\n",
              "      <td>349</td>\n",
              "    </tr>\n",
              "    <tr>\n",
              "      <th>...</th>\n",
              "      <td>...</td>\n",
              "      <td>...</td>\n",
              "    </tr>\n",
              "    <tr>\n",
              "      <th>773</th>\n",
              "      <td>350</td>\n",
              "      <td>399</td>\n",
              "    </tr>\n",
              "    <tr>\n",
              "      <th>513</th>\n",
              "      <td>250</td>\n",
              "      <td>299</td>\n",
              "    </tr>\n",
              "    <tr>\n",
              "      <th>177</th>\n",
              "      <td>250</td>\n",
              "      <td>299</td>\n",
              "    </tr>\n",
              "    <tr>\n",
              "      <th>485</th>\n",
              "      <td>250</td>\n",
              "      <td>299</td>\n",
              "    </tr>\n",
              "    <tr>\n",
              "      <th>376</th>\n",
              "      <td>400</td>\n",
              "      <td>449</td>\n",
              "    </tr>\n",
              "  </tbody>\n",
              "</table>\n",
              "<p>221 rows × 2 columns</p>\n",
              "</div>\n",
              "      <button class=\"colab-df-convert\" onclick=\"convertToInteractive('df-f732c974-921c-4ee8-9fb9-22c6de9c11e1')\"\n",
              "              title=\"Convert this dataframe to an interactive table.\"\n",
              "              style=\"display:none;\">\n",
              "        \n",
              "  <svg xmlns=\"http://www.w3.org/2000/svg\" height=\"24px\"viewBox=\"0 0 24 24\"\n",
              "       width=\"24px\">\n",
              "    <path d=\"M0 0h24v24H0V0z\" fill=\"none\"/>\n",
              "    <path d=\"M18.56 5.44l.94 2.06.94-2.06 2.06-.94-2.06-.94-.94-2.06-.94 2.06-2.06.94zm-11 1L8.5 8.5l.94-2.06 2.06-.94-2.06-.94L8.5 2.5l-.94 2.06-2.06.94zm10 10l.94 2.06.94-2.06 2.06-.94-2.06-.94-.94-2.06-.94 2.06-2.06.94z\"/><path d=\"M17.41 7.96l-1.37-1.37c-.4-.4-.92-.59-1.43-.59-.52 0-1.04.2-1.43.59L10.3 9.45l-7.72 7.72c-.78.78-.78 2.05 0 2.83L4 21.41c.39.39.9.59 1.41.59.51 0 1.02-.2 1.41-.59l7.78-7.78 2.81-2.81c.8-.78.8-2.07 0-2.86zM5.41 20L4 18.59l7.72-7.72 1.47 1.35L5.41 20z\"/>\n",
              "  </svg>\n",
              "      </button>\n",
              "      \n",
              "  <style>\n",
              "    .colab-df-container {\n",
              "      display:flex;\n",
              "      flex-wrap:wrap;\n",
              "      gap: 12px;\n",
              "    }\n",
              "\n",
              "    .colab-df-convert {\n",
              "      background-color: #E8F0FE;\n",
              "      border: none;\n",
              "      border-radius: 50%;\n",
              "      cursor: pointer;\n",
              "      display: none;\n",
              "      fill: #1967D2;\n",
              "      height: 32px;\n",
              "      padding: 0 0 0 0;\n",
              "      width: 32px;\n",
              "    }\n",
              "\n",
              "    .colab-df-convert:hover {\n",
              "      background-color: #E2EBFA;\n",
              "      box-shadow: 0px 1px 2px rgba(60, 64, 67, 0.3), 0px 1px 3px 1px rgba(60, 64, 67, 0.15);\n",
              "      fill: #174EA6;\n",
              "    }\n",
              "\n",
              "    [theme=dark] .colab-df-convert {\n",
              "      background-color: #3B4455;\n",
              "      fill: #D2E3FC;\n",
              "    }\n",
              "\n",
              "    [theme=dark] .colab-df-convert:hover {\n",
              "      background-color: #434B5C;\n",
              "      box-shadow: 0px 1px 3px 1px rgba(0, 0, 0, 0.15);\n",
              "      filter: drop-shadow(0px 1px 2px rgba(0, 0, 0, 0.3));\n",
              "      fill: #FFFFFF;\n",
              "    }\n",
              "  </style>\n",
              "\n",
              "      <script>\n",
              "        const buttonEl =\n",
              "          document.querySelector('#df-f732c974-921c-4ee8-9fb9-22c6de9c11e1 button.colab-df-convert');\n",
              "        buttonEl.style.display =\n",
              "          google.colab.kernel.accessAllowed ? 'block' : 'none';\n",
              "\n",
              "        async function convertToInteractive(key) {\n",
              "          const element = document.querySelector('#df-f732c974-921c-4ee8-9fb9-22c6de9c11e1');\n",
              "          const dataTable =\n",
              "            await google.colab.kernel.invokeFunction('convertToInteractive',\n",
              "                                                     [key], {});\n",
              "          if (!dataTable) return;\n",
              "\n",
              "          const docLinkHtml = 'Like what you see? Visit the ' +\n",
              "            '<a target=\"_blank\" href=https://colab.research.google.com/notebooks/data_table.ipynb>data table notebook</a>'\n",
              "            + ' to learn more about interactive tables.';\n",
              "          element.innerHTML = '';\n",
              "          dataTable['output_type'] = 'display_data';\n",
              "          await google.colab.output.renderOutput(dataTable, element);\n",
              "          const docLink = document.createElement('div');\n",
              "          docLink.innerHTML = docLinkHtml;\n",
              "          element.appendChild(docLink);\n",
              "        }\n",
              "      </script>\n",
              "    </div>\n",
              "  </div>\n",
              "  "
            ]
          },
          "metadata": {},
          "execution_count": 302
        }
      ]
    },
    {
      "cell_type": "code",
      "source": [
        "x_train.shape"
      ],
      "metadata": {
        "colab": {
          "base_uri": "https://localhost:8080/"
        },
        "id": "ZAnO3YCUh4m3",
        "outputId": "38593029-58db-4946-ba7e-1077992a3a95"
      },
      "execution_count": 303,
      "outputs": [
        {
          "output_type": "execute_result",
          "data": {
            "text/plain": [
              "(883, 2)"
            ]
          },
          "metadata": {},
          "execution_count": 303
        }
      ]
    },
    {
      "cell_type": "code",
      "source": [
        "y_train.shape"
      ],
      "metadata": {
        "colab": {
          "base_uri": "https://localhost:8080/"
        },
        "id": "m1HzTJpth-BY",
        "outputId": "470c50ab-6d65-4232-b62a-76232acd5a35"
      },
      "execution_count": 304,
      "outputs": [
        {
          "output_type": "execute_result",
          "data": {
            "text/plain": [
              "(883,)"
            ]
          },
          "metadata": {},
          "execution_count": 304
        }
      ]
    },
    {
      "cell_type": "code",
      "source": [
        "x_test.shape"
      ],
      "metadata": {
        "colab": {
          "base_uri": "https://localhost:8080/"
        },
        "id": "qiLRKDlaiA1E",
        "outputId": "c706527e-df38-49f2-8bd5-4d09b81937a7"
      },
      "execution_count": 305,
      "outputs": [
        {
          "output_type": "execute_result",
          "data": {
            "text/plain": [
              "(221, 2)"
            ]
          },
          "metadata": {},
          "execution_count": 305
        }
      ]
    },
    {
      "cell_type": "code",
      "source": [
        "y_test.shape"
      ],
      "metadata": {
        "colab": {
          "base_uri": "https://localhost:8080/"
        },
        "id": "R3uvxxEQh8cx",
        "outputId": "80643037-ecbd-487a-d753-153ccc1296c2"
      },
      "execution_count": 306,
      "outputs": [
        {
          "output_type": "execute_result",
          "data": {
            "text/plain": [
              "(221,)"
            ]
          },
          "metadata": {},
          "execution_count": 306
        }
      ]
    },
    {
      "cell_type": "code",
      "source": [
        "knn_reg = KNeighborsRegressor()\n",
        "knn_reg.fit(x_train,y_train)"
      ],
      "metadata": {
        "colab": {
          "base_uri": "https://localhost:8080/"
        },
        "id": "M5FRy90Wrknq",
        "outputId": "d9af8b02-e53c-477b-9621-635214276b0b"
      },
      "execution_count": 307,
      "outputs": [
        {
          "output_type": "execute_result",
          "data": {
            "text/plain": [
              "KNeighborsRegressor()"
            ]
          },
          "metadata": {},
          "execution_count": 307
        }
      ]
    },
    {
      "cell_type": "code",
      "source": [
        "y_pred = knn_reg.predict(x_test)\n",
        "y_pred"
      ],
      "metadata": {
        "colab": {
          "base_uri": "https://localhost:8080/"
        },
        "id": "UdPYkixUl6VK",
        "outputId": "f55c3005-4f0a-43fb-d621-dc99b77bbae2"
      },
      "execution_count": 308,
      "outputs": [
        {
          "output_type": "execute_result",
          "data": {
            "text/plain": [
              "array([468.31453876, 613.98517184, 252.98678167, 243.578     ,\n",
              "       252.98678167, 613.98517184, 252.98678167, 468.31453876,\n",
              "       405.87185586, 405.87185586, 468.31453876, 405.87185586,\n",
              "       468.31453876, 252.98678167, 334.68111535, 252.98678167,\n",
              "       613.98517184, 243.578     , 613.98517184, 262.00104151,\n",
              "       468.31453876, 613.98517184, 252.98678167, 468.31453876,\n",
              "       405.87185586, 252.98678167, 468.31453876, 468.31453876,\n",
              "       468.31453876, 613.98517184, 613.98517184, 405.87185586,\n",
              "       252.98678167, 243.578     , 468.31453876, 252.98678167,\n",
              "       262.00104151, 334.68111535, 252.98678167, 243.578     ,\n",
              "       243.578     , 613.98517184, 468.31453876, 405.87185586,\n",
              "       405.87185586, 468.31453876, 468.31453876, 468.31453876,\n",
              "       613.98517184, 468.31453876, 252.98678167, 252.98678167,\n",
              "       405.87185586, 334.68111535, 243.578     , 252.98678167,\n",
              "       468.31453876, 262.00104151, 405.87185586, 243.578     ,\n",
              "       468.31453876, 405.87185586, 468.31453876, 613.98517184,\n",
              "       468.31453876, 468.31453876, 252.98678167, 613.98517184,\n",
              "       613.98517184, 613.98517184, 252.98678167, 243.578     ,\n",
              "       243.578     , 262.00104151, 613.98517184, 252.98678167,\n",
              "       405.87185586, 468.31453876, 262.00104151, 243.578     ,\n",
              "       334.68111535, 405.87185586, 405.87185586, 468.31453876,\n",
              "       468.31453876, 334.68111535, 243.578     , 405.87185586,\n",
              "       468.31453876, 468.31453876, 262.00104151, 468.31453876,\n",
              "       405.87185586, 405.87185586, 243.578     , 405.87185586,\n",
              "       613.98517184, 613.98517184, 252.98678167, 468.31453876,\n",
              "       243.578     , 613.98517184, 613.98517184, 252.98678167,\n",
              "       613.98517184, 468.31453876, 613.98517184, 405.87185586,\n",
              "       262.00104151, 334.68111535, 468.31453876, 468.31453876,\n",
              "       613.98517184, 334.68111535, 613.98517184, 468.31453876,\n",
              "       334.68111535, 243.578     , 252.98678167, 252.98678167,\n",
              "       405.87185586, 243.578     , 334.68111535, 252.98678167,\n",
              "       252.98678167, 613.98517184, 405.87185586, 334.68111535,\n",
              "       405.87185586, 243.578     , 334.68111535, 468.31453876,\n",
              "       252.98678167, 243.578     , 405.87185586, 252.98678167,\n",
              "       334.68111535, 252.98678167, 243.578     , 243.578     ,\n",
              "       613.98517184, 252.98678167, 613.98517184, 613.98517184,\n",
              "       405.87185586, 252.98678167, 468.31453876, 252.98678167,\n",
              "       252.98678167, 468.31453876, 405.87185586, 613.98517184,\n",
              "       252.98678167, 468.31453876, 252.98678167, 405.87185586,\n",
              "       334.68111535, 613.98517184, 468.31453876, 262.00104151,\n",
              "       613.98517184, 243.578     , 468.31453876, 613.98517184,\n",
              "       262.00104151, 613.98517184, 243.578     , 243.578     ,\n",
              "       252.98678167, 243.578     , 252.98678167, 405.87185586,\n",
              "       468.31453876, 468.31453876, 243.578     , 252.98678167,\n",
              "       405.87185586, 243.578     , 405.87185586, 613.98517184,\n",
              "       243.578     , 613.98517184, 243.578     , 243.578     ,\n",
              "       243.578     , 405.87185586, 262.00104151, 613.98517184,\n",
              "       405.87185586, 613.98517184, 613.98517184, 243.578     ,\n",
              "       405.87185586, 613.98517184, 243.578     , 243.578     ,\n",
              "       243.578     , 405.87185586, 613.98517184, 405.87185586,\n",
              "       405.87185586, 334.68111535, 334.68111535, 252.98678167,\n",
              "       262.00104151, 243.578     , 468.31453876, 243.578     ,\n",
              "       262.00104151, 243.578     , 405.87185586, 405.87185586,\n",
              "       243.578     , 243.578     , 468.31453876, 468.31453876,\n",
              "       468.31453876, 243.578     , 243.578     , 243.578     ,\n",
              "       613.98517184])"
            ]
          },
          "metadata": {},
          "execution_count": 308
        }
      ]
    },
    {
      "cell_type": "code",
      "source": [
        "x_train = np.transpose(x_train.iloc[:, 0:2], (1766,1))"
      ],
      "metadata": {
        "colab": {
          "base_uri": "https://localhost:8080/",
          "height": 363
        },
        "id": "3VGfNbmBe6qs",
        "outputId": "d7ca7c33-a98a-40db-a656-355c9e8e2d41"
      },
      "execution_count": 323,
      "outputs": [
        {
          "output_type": "error",
          "ename": "ValueError",
          "evalue": "ignored",
          "traceback": [
            "\u001b[0;31m---------------------------------------------------------------------------\u001b[0m",
            "\u001b[0;31mValueError\u001b[0m                                Traceback (most recent call last)",
            "\u001b[0;32m<ipython-input-323-36df6ed459da>\u001b[0m in \u001b[0;36m<module>\u001b[0;34m\u001b[0m\n\u001b[0;32m----> 1\u001b[0;31m \u001b[0mx_train\u001b[0m \u001b[0;34m=\u001b[0m \u001b[0mnp\u001b[0m\u001b[0;34m.\u001b[0m\u001b[0mtranspose\u001b[0m\u001b[0;34m(\u001b[0m\u001b[0mx_train\u001b[0m\u001b[0;34m.\u001b[0m\u001b[0miloc\u001b[0m\u001b[0;34m[\u001b[0m\u001b[0;34m:\u001b[0m\u001b[0;34m,\u001b[0m \u001b[0;36m0\u001b[0m\u001b[0;34m:\u001b[0m\u001b[0;36m2\u001b[0m\u001b[0;34m]\u001b[0m\u001b[0;34m,\u001b[0m \u001b[0;34m(\u001b[0m\u001b[0;36m1766\u001b[0m\u001b[0;34m,\u001b[0m\u001b[0;36m1\u001b[0m\u001b[0;34m)\u001b[0m\u001b[0;34m)\u001b[0m\u001b[0;34m\u001b[0m\u001b[0;34m\u001b[0m\u001b[0m\n\u001b[0m",
            "\u001b[0;32m<__array_function__ internals>\u001b[0m in \u001b[0;36mtranspose\u001b[0;34m(*args, **kwargs)\u001b[0m\n",
            "\u001b[0;32m/usr/local/lib/python3.7/dist-packages/numpy/core/fromnumeric.py\u001b[0m in \u001b[0;36mtranspose\u001b[0;34m(a, axes)\u001b[0m\n\u001b[1;32m    658\u001b[0m \u001b[0;34m\u001b[0m\u001b[0m\n\u001b[1;32m    659\u001b[0m     \"\"\"\n\u001b[0;32m--> 660\u001b[0;31m     \u001b[0;32mreturn\u001b[0m \u001b[0m_wrapfunc\u001b[0m\u001b[0;34m(\u001b[0m\u001b[0ma\u001b[0m\u001b[0;34m,\u001b[0m \u001b[0;34m'transpose'\u001b[0m\u001b[0;34m,\u001b[0m \u001b[0maxes\u001b[0m\u001b[0;34m)\u001b[0m\u001b[0;34m\u001b[0m\u001b[0;34m\u001b[0m\u001b[0m\n\u001b[0m\u001b[1;32m    661\u001b[0m \u001b[0;34m\u001b[0m\u001b[0m\n\u001b[1;32m    662\u001b[0m \u001b[0;34m\u001b[0m\u001b[0m\n",
            "\u001b[0;32m/usr/local/lib/python3.7/dist-packages/numpy/core/fromnumeric.py\u001b[0m in \u001b[0;36m_wrapfunc\u001b[0;34m(obj, method, *args, **kwds)\u001b[0m\n\u001b[1;32m     55\u001b[0m \u001b[0;34m\u001b[0m\u001b[0m\n\u001b[1;32m     56\u001b[0m     \u001b[0;32mtry\u001b[0m\u001b[0;34m:\u001b[0m\u001b[0;34m\u001b[0m\u001b[0;34m\u001b[0m\u001b[0m\n\u001b[0;32m---> 57\u001b[0;31m         \u001b[0;32mreturn\u001b[0m \u001b[0mbound\u001b[0m\u001b[0;34m(\u001b[0m\u001b[0;34m*\u001b[0m\u001b[0margs\u001b[0m\u001b[0;34m,\u001b[0m \u001b[0;34m**\u001b[0m\u001b[0mkwds\u001b[0m\u001b[0;34m)\u001b[0m\u001b[0;34m\u001b[0m\u001b[0;34m\u001b[0m\u001b[0m\n\u001b[0m\u001b[1;32m     58\u001b[0m     \u001b[0;32mexcept\u001b[0m \u001b[0mTypeError\u001b[0m\u001b[0;34m:\u001b[0m\u001b[0;34m\u001b[0m\u001b[0;34m\u001b[0m\u001b[0m\n\u001b[1;32m     59\u001b[0m         \u001b[0;31m# A TypeError occurs if the object does have such a method in its\u001b[0m\u001b[0;34m\u001b[0m\u001b[0;34m\u001b[0m\u001b[0;34m\u001b[0m\u001b[0m\n",
            "\u001b[0;32m/usr/local/lib/python3.7/dist-packages/pandas/core/frame.py\u001b[0m in \u001b[0;36mtranspose\u001b[0;34m(self, copy, *args)\u001b[0m\n\u001b[1;32m   3323\u001b[0m         \u001b[0mdtype\u001b[0m\u001b[0;34m:\u001b[0m \u001b[0mobject\u001b[0m\u001b[0;34m\u001b[0m\u001b[0;34m\u001b[0m\u001b[0m\n\u001b[1;32m   3324\u001b[0m         \"\"\"\n\u001b[0;32m-> 3325\u001b[0;31m         \u001b[0mnv\u001b[0m\u001b[0;34m.\u001b[0m\u001b[0mvalidate_transpose\u001b[0m\u001b[0;34m(\u001b[0m\u001b[0margs\u001b[0m\u001b[0;34m,\u001b[0m \u001b[0;34m{\u001b[0m\u001b[0;34m}\u001b[0m\u001b[0;34m)\u001b[0m\u001b[0;34m\u001b[0m\u001b[0;34m\u001b[0m\u001b[0m\n\u001b[0m\u001b[1;32m   3326\u001b[0m         \u001b[0;31m# construct the args\u001b[0m\u001b[0;34m\u001b[0m\u001b[0;34m\u001b[0m\u001b[0;34m\u001b[0m\u001b[0m\n\u001b[1;32m   3327\u001b[0m \u001b[0;34m\u001b[0m\u001b[0m\n",
            "\u001b[0;32m/usr/local/lib/python3.7/dist-packages/pandas/compat/numpy/function.py\u001b[0m in \u001b[0;36m__call__\u001b[0;34m(self, args, kwargs, fname, max_fname_arg_count, method)\u001b[0m\n\u001b[1;32m     70\u001b[0m             \u001b[0;32melif\u001b[0m \u001b[0mmethod\u001b[0m \u001b[0;34m==\u001b[0m \u001b[0;34m\"both\"\u001b[0m\u001b[0;34m:\u001b[0m\u001b[0;34m\u001b[0m\u001b[0;34m\u001b[0m\u001b[0m\n\u001b[1;32m     71\u001b[0m                 validate_args_and_kwargs(\n\u001b[0;32m---> 72\u001b[0;31m                     \u001b[0mfname\u001b[0m\u001b[0;34m,\u001b[0m \u001b[0margs\u001b[0m\u001b[0;34m,\u001b[0m \u001b[0mkwargs\u001b[0m\u001b[0;34m,\u001b[0m \u001b[0mmax_fname_arg_count\u001b[0m\u001b[0;34m,\u001b[0m \u001b[0mself\u001b[0m\u001b[0;34m.\u001b[0m\u001b[0mdefaults\u001b[0m\u001b[0;34m\u001b[0m\u001b[0;34m\u001b[0m\u001b[0m\n\u001b[0m\u001b[1;32m     73\u001b[0m                 )\n\u001b[1;32m     74\u001b[0m             \u001b[0;32melse\u001b[0m\u001b[0;34m:\u001b[0m\u001b[0;34m\u001b[0m\u001b[0;34m\u001b[0m\u001b[0m\n",
            "\u001b[0;32m/usr/local/lib/python3.7/dist-packages/pandas/util/_validators.py\u001b[0m in \u001b[0;36mvalidate_args_and_kwargs\u001b[0;34m(fname, args, kwargs, max_fname_arg_count, compat_args)\u001b[0m\n\u001b[1;32m    208\u001b[0m \u001b[0;34m\u001b[0m\u001b[0m\n\u001b[1;32m    209\u001b[0m     \u001b[0mkwargs\u001b[0m\u001b[0;34m.\u001b[0m\u001b[0mupdate\u001b[0m\u001b[0;34m(\u001b[0m\u001b[0margs_dict\u001b[0m\u001b[0;34m)\u001b[0m\u001b[0;34m\u001b[0m\u001b[0;34m\u001b[0m\u001b[0m\n\u001b[0;32m--> 210\u001b[0;31m     \u001b[0mvalidate_kwargs\u001b[0m\u001b[0;34m(\u001b[0m\u001b[0mfname\u001b[0m\u001b[0;34m,\u001b[0m \u001b[0mkwargs\u001b[0m\u001b[0;34m,\u001b[0m \u001b[0mcompat_args\u001b[0m\u001b[0;34m)\u001b[0m\u001b[0;34m\u001b[0m\u001b[0;34m\u001b[0m\u001b[0m\n\u001b[0m\u001b[1;32m    211\u001b[0m \u001b[0;34m\u001b[0m\u001b[0m\n\u001b[1;32m    212\u001b[0m \u001b[0;34m\u001b[0m\u001b[0m\n",
            "\u001b[0;32m/usr/local/lib/python3.7/dist-packages/pandas/util/_validators.py\u001b[0m in \u001b[0;36mvalidate_kwargs\u001b[0;34m(fname, kwargs, compat_args)\u001b[0m\n\u001b[1;32m    152\u001b[0m     \u001b[0mkwds\u001b[0m \u001b[0;34m=\u001b[0m \u001b[0mkwargs\u001b[0m\u001b[0;34m.\u001b[0m\u001b[0mcopy\u001b[0m\u001b[0;34m(\u001b[0m\u001b[0;34m)\u001b[0m\u001b[0;34m\u001b[0m\u001b[0;34m\u001b[0m\u001b[0m\n\u001b[1;32m    153\u001b[0m     \u001b[0m_check_for_invalid_keys\u001b[0m\u001b[0;34m(\u001b[0m\u001b[0mfname\u001b[0m\u001b[0;34m,\u001b[0m \u001b[0mkwargs\u001b[0m\u001b[0;34m,\u001b[0m \u001b[0mcompat_args\u001b[0m\u001b[0;34m)\u001b[0m\u001b[0;34m\u001b[0m\u001b[0;34m\u001b[0m\u001b[0m\n\u001b[0;32m--> 154\u001b[0;31m     \u001b[0m_check_for_default_values\u001b[0m\u001b[0;34m(\u001b[0m\u001b[0mfname\u001b[0m\u001b[0;34m,\u001b[0m \u001b[0mkwds\u001b[0m\u001b[0;34m,\u001b[0m \u001b[0mcompat_args\u001b[0m\u001b[0;34m)\u001b[0m\u001b[0;34m\u001b[0m\u001b[0;34m\u001b[0m\u001b[0m\n\u001b[0m\u001b[1;32m    155\u001b[0m \u001b[0;34m\u001b[0m\u001b[0m\n\u001b[1;32m    156\u001b[0m \u001b[0;34m\u001b[0m\u001b[0m\n",
            "\u001b[0;32m/usr/local/lib/python3.7/dist-packages/pandas/util/_validators.py\u001b[0m in \u001b[0;36m_check_for_default_values\u001b[0;34m(fname, arg_val_dict, compat_args)\u001b[0m\n\u001b[1;32m     69\u001b[0m         \u001b[0;32mif\u001b[0m \u001b[0;32mnot\u001b[0m \u001b[0mmatch\u001b[0m\u001b[0;34m:\u001b[0m\u001b[0;34m\u001b[0m\u001b[0;34m\u001b[0m\u001b[0m\n\u001b[1;32m     70\u001b[0m             raise ValueError(\n\u001b[0;32m---> 71\u001b[0;31m                 \u001b[0;34mf\"the '{key}' parameter is not supported in \"\u001b[0m\u001b[0;34m\u001b[0m\u001b[0;34m\u001b[0m\u001b[0m\n\u001b[0m\u001b[1;32m     72\u001b[0m                 \u001b[0;34mf\"the pandas implementation of {fname}()\"\u001b[0m\u001b[0;34m\u001b[0m\u001b[0;34m\u001b[0m\u001b[0m\n\u001b[1;32m     73\u001b[0m             )\n",
            "\u001b[0;31mValueError\u001b[0m: the 'axes' parameter is not supported in the pandas implementation of transpose()"
          ]
        }
      ]
    },
    {
      "cell_type": "code",
      "source": [
        "x_train.shape"
      ],
      "metadata": {
        "colab": {
          "base_uri": "https://localhost:8080/"
        },
        "id": "Ay66SMt4fwXk",
        "outputId": "cd9da1a1-c8f8-48fe-ff15-29d0bd59a6b6"
      },
      "execution_count": 318,
      "outputs": [
        {
          "output_type": "execute_result",
          "data": {
            "text/plain": [
              "(883, 2)"
            ]
          },
          "metadata": {},
          "execution_count": 318
        }
      ]
    },
    {
      "cell_type": "code",
      "source": [
        "x_train = x_train[:-883][0:1]\n",
        "y_train = y_train[-883:]\n",
        "x_test = x_test[:-221][0:1]\n",
        "y_test = y_test[-221:]"
      ],
      "metadata": {
        "id": "HB6jtTwyA9Rf"
      },
      "execution_count": null,
      "outputs": []
    },
    {
      "cell_type": "code",
      "source": [
        "x_train.shape"
      ],
      "metadata": {
        "id": "wIuIarK5Z-kF"
      },
      "execution_count": null,
      "outputs": []
    },
    {
      "cell_type": "code",
      "source": [
        "y_train.shape"
      ],
      "metadata": {
        "id": "VFeN8dISaBEh"
      },
      "execution_count": null,
      "outputs": []
    },
    {
      "cell_type": "code",
      "source": [
        "x_test.shape"
      ],
      "metadata": {
        "id": "6ti0m9HxaSde"
      },
      "execution_count": null,
      "outputs": []
    },
    {
      "cell_type": "code",
      "source": [
        "y_test.shape"
      ],
      "metadata": {
        "id": "-_DFq9zWaVX_"
      },
      "execution_count": null,
      "outputs": []
    },
    {
      "cell_type": "code",
      "source": [
        "fig2, (ax3, ax4) = plt.subplots(1, 2, figsize =(10,4))\n",
        "fig2.tight_layout(pad  = 3.0)\n",
        "ax3.scatter(x_train, y_train, color='#000C1F')\n",
        "ax3.set_xlabel(\"Feature\")\n",
        "ax3.set_ylabel(\"Target\")\n",
        "ax3.set_title(\"Training Data\")\n",
        "\n",
        "ax4.scatter(x_test, y_test, color='#000C1F')\n",
        "ax4.set_xlabel(\"Feature\")\n",
        "ax4.set_ylabel(\"Target\")\n",
        "ax4.set_title(\"Testing Data\")\n",
        "\n"
      ],
      "metadata": {
        "colab": {
          "base_uri": "https://localhost:8080/",
          "height": 627
        },
        "id": "N-zKvzMLgkKt",
        "outputId": "b0ce99d4-22e8-4064-d895-1c4fa50be9ba"
      },
      "execution_count": 325,
      "outputs": [
        {
          "output_type": "error",
          "ename": "ValueError",
          "evalue": "ignored",
          "traceback": [
            "\u001b[0;31m---------------------------------------------------------------------------\u001b[0m",
            "\u001b[0;31mValueError\u001b[0m                                Traceback (most recent call last)",
            "\u001b[0;32m<ipython-input-325-b04606ebd152>\u001b[0m in \u001b[0;36m<module>\u001b[0;34m\u001b[0m\n\u001b[1;32m      1\u001b[0m \u001b[0mfig2\u001b[0m\u001b[0;34m,\u001b[0m \u001b[0;34m(\u001b[0m\u001b[0max3\u001b[0m\u001b[0;34m,\u001b[0m \u001b[0max4\u001b[0m\u001b[0;34m)\u001b[0m \u001b[0;34m=\u001b[0m \u001b[0mplt\u001b[0m\u001b[0;34m.\u001b[0m\u001b[0msubplots\u001b[0m\u001b[0;34m(\u001b[0m\u001b[0;36m1\u001b[0m\u001b[0;34m,\u001b[0m \u001b[0;36m2\u001b[0m\u001b[0;34m,\u001b[0m \u001b[0mfigsize\u001b[0m \u001b[0;34m=\u001b[0m\u001b[0;34m(\u001b[0m\u001b[0;36m10\u001b[0m\u001b[0;34m,\u001b[0m\u001b[0;36m4\u001b[0m\u001b[0;34m)\u001b[0m\u001b[0;34m)\u001b[0m\u001b[0;34m\u001b[0m\u001b[0;34m\u001b[0m\u001b[0m\n\u001b[1;32m      2\u001b[0m \u001b[0mfig2\u001b[0m\u001b[0;34m.\u001b[0m\u001b[0mtight_layout\u001b[0m\u001b[0;34m(\u001b[0m\u001b[0mpad\u001b[0m  \u001b[0;34m=\u001b[0m \u001b[0;36m3.0\u001b[0m\u001b[0;34m)\u001b[0m\u001b[0;34m\u001b[0m\u001b[0;34m\u001b[0m\u001b[0m\n\u001b[0;32m----> 3\u001b[0;31m \u001b[0max3\u001b[0m\u001b[0;34m.\u001b[0m\u001b[0mscatter\u001b[0m\u001b[0;34m(\u001b[0m\u001b[0mx_train\u001b[0m\u001b[0;34m[\u001b[0m\u001b[0;36m0\u001b[0m\u001b[0;34m:\u001b[0m\u001b[0;36m1766\u001b[0m\u001b[0;34m]\u001b[0m\u001b[0;34m,\u001b[0m \u001b[0my_train\u001b[0m\u001b[0;34m,\u001b[0m \u001b[0mcolor\u001b[0m\u001b[0;34m=\u001b[0m\u001b[0;34m'#000C1F'\u001b[0m\u001b[0;34m)\u001b[0m\u001b[0;34m\u001b[0m\u001b[0;34m\u001b[0m\u001b[0m\n\u001b[0m\u001b[1;32m      4\u001b[0m \u001b[0max3\u001b[0m\u001b[0;34m.\u001b[0m\u001b[0mset_xlabel\u001b[0m\u001b[0;34m(\u001b[0m\u001b[0;34m\"Feature\"\u001b[0m\u001b[0;34m)\u001b[0m\u001b[0;34m\u001b[0m\u001b[0;34m\u001b[0m\u001b[0m\n\u001b[1;32m      5\u001b[0m \u001b[0max3\u001b[0m\u001b[0;34m.\u001b[0m\u001b[0mset_ylabel\u001b[0m\u001b[0;34m(\u001b[0m\u001b[0;34m\"Target\"\u001b[0m\u001b[0;34m)\u001b[0m\u001b[0;34m\u001b[0m\u001b[0;34m\u001b[0m\u001b[0m\n",
            "\u001b[0;32m/usr/local/lib/python3.7/dist-packages/matplotlib/__init__.py\u001b[0m in \u001b[0;36minner\u001b[0;34m(ax, data, *args, **kwargs)\u001b[0m\n\u001b[1;32m   1563\u001b[0m     \u001b[0;32mdef\u001b[0m \u001b[0minner\u001b[0m\u001b[0;34m(\u001b[0m\u001b[0max\u001b[0m\u001b[0;34m,\u001b[0m \u001b[0;34m*\u001b[0m\u001b[0margs\u001b[0m\u001b[0;34m,\u001b[0m \u001b[0mdata\u001b[0m\u001b[0;34m=\u001b[0m\u001b[0;32mNone\u001b[0m\u001b[0;34m,\u001b[0m \u001b[0;34m**\u001b[0m\u001b[0mkwargs\u001b[0m\u001b[0;34m)\u001b[0m\u001b[0;34m:\u001b[0m\u001b[0;34m\u001b[0m\u001b[0;34m\u001b[0m\u001b[0m\n\u001b[1;32m   1564\u001b[0m         \u001b[0;32mif\u001b[0m \u001b[0mdata\u001b[0m \u001b[0;32mis\u001b[0m \u001b[0;32mNone\u001b[0m\u001b[0;34m:\u001b[0m\u001b[0;34m\u001b[0m\u001b[0;34m\u001b[0m\u001b[0m\n\u001b[0;32m-> 1565\u001b[0;31m             \u001b[0;32mreturn\u001b[0m \u001b[0mfunc\u001b[0m\u001b[0;34m(\u001b[0m\u001b[0max\u001b[0m\u001b[0;34m,\u001b[0m \u001b[0;34m*\u001b[0m\u001b[0mmap\u001b[0m\u001b[0;34m(\u001b[0m\u001b[0msanitize_sequence\u001b[0m\u001b[0;34m,\u001b[0m \u001b[0margs\u001b[0m\u001b[0;34m)\u001b[0m\u001b[0;34m,\u001b[0m \u001b[0;34m**\u001b[0m\u001b[0mkwargs\u001b[0m\u001b[0;34m)\u001b[0m\u001b[0;34m\u001b[0m\u001b[0;34m\u001b[0m\u001b[0m\n\u001b[0m\u001b[1;32m   1566\u001b[0m \u001b[0;34m\u001b[0m\u001b[0m\n\u001b[1;32m   1567\u001b[0m         \u001b[0mbound\u001b[0m \u001b[0;34m=\u001b[0m \u001b[0mnew_sig\u001b[0m\u001b[0;34m.\u001b[0m\u001b[0mbind\u001b[0m\u001b[0;34m(\u001b[0m\u001b[0max\u001b[0m\u001b[0;34m,\u001b[0m \u001b[0;34m*\u001b[0m\u001b[0margs\u001b[0m\u001b[0;34m,\u001b[0m \u001b[0;34m**\u001b[0m\u001b[0mkwargs\u001b[0m\u001b[0;34m)\u001b[0m\u001b[0;34m\u001b[0m\u001b[0;34m\u001b[0m\u001b[0m\n",
            "\u001b[0;32m/usr/local/lib/python3.7/dist-packages/matplotlib/cbook/deprecation.py\u001b[0m in \u001b[0;36mwrapper\u001b[0;34m(*args, **kwargs)\u001b[0m\n\u001b[1;32m    356\u001b[0m                 \u001b[0;34mf\"%(removal)s.  If any parameter follows {name!r}, they \"\u001b[0m\u001b[0;34m\u001b[0m\u001b[0;34m\u001b[0m\u001b[0m\n\u001b[1;32m    357\u001b[0m                 f\"should be pass as keyword, not positionally.\")\n\u001b[0;32m--> 358\u001b[0;31m         \u001b[0;32mreturn\u001b[0m \u001b[0mfunc\u001b[0m\u001b[0;34m(\u001b[0m\u001b[0;34m*\u001b[0m\u001b[0margs\u001b[0m\u001b[0;34m,\u001b[0m \u001b[0;34m**\u001b[0m\u001b[0mkwargs\u001b[0m\u001b[0;34m)\u001b[0m\u001b[0;34m\u001b[0m\u001b[0;34m\u001b[0m\u001b[0m\n\u001b[0m\u001b[1;32m    359\u001b[0m \u001b[0;34m\u001b[0m\u001b[0m\n\u001b[1;32m    360\u001b[0m     \u001b[0;32mreturn\u001b[0m \u001b[0mwrapper\u001b[0m\u001b[0;34m\u001b[0m\u001b[0;34m\u001b[0m\u001b[0m\n",
            "\u001b[0;32m/usr/local/lib/python3.7/dist-packages/matplotlib/axes/_axes.py\u001b[0m in \u001b[0;36mscatter\u001b[0;34m(self, x, y, s, c, marker, cmap, norm, vmin, vmax, alpha, linewidths, verts, edgecolors, plotnonfinite, **kwargs)\u001b[0m\n\u001b[1;32m   4389\u001b[0m         \u001b[0my\u001b[0m \u001b[0;34m=\u001b[0m \u001b[0mnp\u001b[0m\u001b[0;34m.\u001b[0m\u001b[0mma\u001b[0m\u001b[0;34m.\u001b[0m\u001b[0mravel\u001b[0m\u001b[0;34m(\u001b[0m\u001b[0my\u001b[0m\u001b[0;34m)\u001b[0m\u001b[0;34m\u001b[0m\u001b[0;34m\u001b[0m\u001b[0m\n\u001b[1;32m   4390\u001b[0m         \u001b[0;32mif\u001b[0m \u001b[0mx\u001b[0m\u001b[0;34m.\u001b[0m\u001b[0msize\u001b[0m \u001b[0;34m!=\u001b[0m \u001b[0my\u001b[0m\u001b[0;34m.\u001b[0m\u001b[0msize\u001b[0m\u001b[0;34m:\u001b[0m\u001b[0;34m\u001b[0m\u001b[0;34m\u001b[0m\u001b[0m\n\u001b[0;32m-> 4391\u001b[0;31m             \u001b[0;32mraise\u001b[0m \u001b[0mValueError\u001b[0m\u001b[0;34m(\u001b[0m\u001b[0;34m\"x and y must be the same size\"\u001b[0m\u001b[0;34m)\u001b[0m\u001b[0;34m\u001b[0m\u001b[0;34m\u001b[0m\u001b[0m\n\u001b[0m\u001b[1;32m   4392\u001b[0m \u001b[0;34m\u001b[0m\u001b[0m\n\u001b[1;32m   4393\u001b[0m         \u001b[0;32mif\u001b[0m \u001b[0ms\u001b[0m \u001b[0;32mis\u001b[0m \u001b[0;32mNone\u001b[0m\u001b[0;34m:\u001b[0m\u001b[0;34m\u001b[0m\u001b[0;34m\u001b[0m\u001b[0m\n",
            "\u001b[0;31mValueError\u001b[0m: x and y must be the same size"
          ]
        },
        {
          "output_type": "display_data",
          "data": {
            "text/plain": [
              "<Figure size 720x288 with 2 Axes>"
            ],
            "image/png": "[encoded data removed]"
          },
          "metadata": {}
        }
      ]
    },
    {
      "cell_type": "code",
      "source": [
        "#fig,ax=plt.subplots(figsize=(10,10))\n",
        "k_list=np.arange(1,40,80)\n",
        "knn_dict={} # To store k and mse pairs\n",
        "for i in k_list:\n",
        "#Knn Model Creation\n",
        "    knn=KNeighborsRegressor(n_neighbors=int(i))\n",
        "    model_knn=knn.fit(x_train,y_train)\n",
        "    y_knn_pred=model_knn.predict(x_test)\n",
        "#Storing MSE \n",
        "    mse=mean_squared_error(y_test,y_knn_pred)\n",
        "    knn_dict[i]=mse\n",
        "#Plotting the results\n",
        "ax.plot(knn_dict.keys(),knn_dict.values())\n",
        "ax.set_xlabel('K-VALUE', fontsize=20)\n",
        "ax.set_ylabel('MSE' ,fontsize=20)\n",
        "ax.set_title('ELBOW PLOT' ,fontsize=28)\n",
        "\n",
        "#Now you know why we call it an elbow plot and it clearly shows our MSE is minimum when k=9. Hurrah!\n",
        "\n",
        "#We build our model similar to the way we did above and we just substitute the value of n_neighbors as 9 while doing that. Let’s see the results.\n",
        "\n",
        "#The mean Square error turns out to be "
      ],
      "metadata": {
        "id": "Gp7vuqPgao6h"
      },
      "execution_count": null,
      "outputs": []
    },
    {
      "cell_type": "code",
      "source": [
        "#knn = KNeighborsRegressor(n_neighbors = )\n",
        "#model.fit(x,y)\n"
      ],
      "metadata": {
        "id": "CfPDLfJ1PZ7d"
      },
      "execution_count": null,
      "outputs": []
    }
  ],
  "metadata": {
    "colab": {
      "provenance": [],
      "mount_file_id": "1iTH-LJuo5CCtsLENbRnwzaNhMTQAhJAr",
      "authorship_tag": "ABX9TyOYGovOHyNZVe3WomqROTTI",
      "include_colab_link": true
    },
    "kernelspec": {
      "display_name": "Python 3",
      "name": "python3"
    },
    "language_info": {
      "name": "python"
    }
  },
  "nbformat": 4,
  "nbformat_minor": 0
}