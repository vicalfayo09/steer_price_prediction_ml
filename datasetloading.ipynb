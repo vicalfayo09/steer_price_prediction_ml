{
  "cells": [
    {
      "cell_type": "markdown",
      "metadata": {
        "id": "view-in-github",
        "colab_type": "text"
      },
      "source": [
        "<a href=\"https://colab.research.google.com/github/vicalfayo09/steer_price_prediction_ml/blob/main/datasetloading.ipynb\" target=\"_parent\"><img src=\"https://colab.research.google.com/assets/colab-badge.svg\" alt=\"Open In Colab\"/></a>"
      ]
    },
    {
      "cell_type": "code",
      "execution_count": 306,
      "metadata": {
        "id": "_E9j-G29QzFc"
      },
      "outputs": [],
      "source": [
        "#from sklearn.linear_model import LinearRegression\n",
        "#import pandas as pd\n",
        "#import numpy as np\n",
        "#from google.colab import files\n",
        "\n",
        "#uploaded = files.upload()\n",
        "\n",
        "\n",
        "\n",
        "\n"
      ]
    },
    {
      "cell_type": "code",
      "execution_count": 307,
      "metadata": {
        "id": "nROR71RnYByG"
      },
      "outputs": [],
      "source": [
        "#import io\n",
        "#path = './home/alfayo/Downloads/weeklycattleprice_en.xlsx'\n",
        "# Reading the data from the CSV file\n",
        "#data = pd.read_excel(io.BytesIO(uploaded['weeklycattleprice_en.xlsx'])) \n"
      ]
    },
    {
      "cell_type": "code",
      "execution_count": 308,
      "metadata": {
        "id": "UF0urf4WYqTY"
      },
      "outputs": [],
      "source": [
        "#data.shape"
      ]
    },
    {
      "cell_type": "code",
      "execution_count": 309,
      "metadata": {
        "id": "gMLvfy3GaDaC"
      },
      "outputs": [],
      "source": [
        "#data.columns"
      ]
    },
    {
      "cell_type": "code",
      "execution_count": 310,
      "metadata": {
        "id": "zjoff9iGYlGc"
      },
      "outputs": [],
      "source": [
        "#X , y = data.values[ : , 0 ] , data.values[ : , 1 ]\n",
        "#X = np.expand_dims( X , axis=1 )\n",
        "\n",
        "# Fitting the linear regression model\n",
        "#regressor = LinearRegression()\n",
        "#regressor.fit( X , y )\n",
        "\n",
        "# Make predictions\n",
        "#print( f'Prediction for 8.5 hours is {regressor.predict([[8.5]])[0]}' )"
      ]
    },
    {
      "cell_type": "code",
      "execution_count": 311,
      "metadata": {
        "id": "K6F-kb64abjv"
      },
      "outputs": [],
      "source": [
        "#uploaded2 = files.upload()"
      ]
    },
    {
      "cell_type": "code",
      "execution_count": 312,
      "metadata": {
        "id": "kjXChmOzasDm"
      },
      "outputs": [],
      "source": [
        "#data2 = pd.read_csv(io.BytesIO(uploaded2['AJA01.20221011194750.csv']))"
      ]
    },
    {
      "cell_type": "code",
      "execution_count": 313,
      "metadata": {
        "id": "XBQDl1TKa7_E"
      },
      "outputs": [],
      "source": [
        "#data2"
      ]
    },
    {
      "cell_type": "code",
      "execution_count": 314,
      "metadata": {
        "id": "IPxTon2ufc_i"
      },
      "outputs": [],
      "source": [
        "#data2.head()"
      ]
    },
    {
      "cell_type": "code",
      "execution_count": 315,
      "metadata": {
        "id": "V-iBHpgRf-Dn"
      },
      "outputs": [],
      "source": [
        "#data2[data2['Type of Cattle'].str.contains('Bu')].count()"
      ]
    },
    {
      "cell_type": "code",
      "execution_count": 316,
      "metadata": {
        "id": "-edkkqJ0ib11"
      },
      "outputs": [],
      "source": [
        "#data2.count()"
      ]
    },
    {
      "cell_type": "code",
      "execution_count": 317,
      "metadata": {
        "id": "mnwssw9sm7mK"
      },
      "outputs": [],
      "source": [
        "#data2['Type of Cattle'] = data2['Type of Cattle'].str.extract( r'\\w(\\d+\\w)', expand=False ).split().astype(float)"
      ]
    },
    {
      "cell_type": "code",
      "execution_count": 318,
      "metadata": {
        "id": "OVARo0EDsUyQ"
      },
      "outputs": [],
      "source": [
        "#data2['Type of Cattle']"
      ]
    },
    {
      "cell_type": "code",
      "execution_count": 319,
      "metadata": {
        "id": "O3oyTJJV1dmr"
      },
      "outputs": [],
      "source": [
        "#import re\n",
        "#bullock = \"Bullocks 200-250kg\"\n",
        "#bullock_val_1 = re.findall('\\w.(\\d+[^A-Za-z]+\\d+\\w+)', bullock)"
      ]
    },
    {
      "cell_type": "code",
      "execution_count": 320,
      "metadata": {
        "id": "ypRtXWi6elJE"
      },
      "outputs": [],
      "source": [
        "#bullock_val_1"
      ]
    },
    {
      "cell_type": "code",
      "execution_count": 321,
      "metadata": {
        "id": "Lp01UPCB7GM0"
      },
      "outputs": [],
      "source": [
        "#df = pd.DataFrame(data2)"
      ]
    },
    {
      "cell_type": "code",
      "execution_count": 322,
      "metadata": {
        "id": "2Q5H8hp2Et_R"
      },
      "outputs": [],
      "source": [
        "#df"
      ]
    },
    {
      "cell_type": "code",
      "execution_count": 323,
      "metadata": {
        "id": "FDXFfChFGGVW"
      },
      "outputs": [],
      "source": [
        "#initial_columns = df.columns\n",
        "#initial_columns"
      ]
    },
    {
      "cell_type": "code",
      "execution_count": 324,
      "metadata": {
        "id": "XFkOZxjUHBgS"
      },
      "outputs": [],
      "source": [
        "#col_names = []\n",
        "#for old in df.columns:\n",
        "    #new = re.sub( r\"[,]\" ,'',old.strip()) \n",
        "    #new = re.sub( r\"[\\n\\s/]\" ,'_',new) \n",
        "    #col_names.append(new.lower()) \n",
        "#df.rename(columns=dict(zip(df.columns, col_names)), )"
      ]
    },
    {
      "cell_type": "code",
      "execution_count": 325,
      "metadata": {
        "id": "l9lElB6Z9OIh"
      },
      "outputs": [],
      "source": [
        "#for weight in df[\"Type of Cattle\"]:\n",
        "  #bullock_val_2 = re.findall('\\w.(\\d+[^A-Za-z]+\\d+\\w+)', weight)"
      ]
    },
    {
      "cell_type": "code",
      "execution_count": 326,
      "metadata": {
        "id": "Zy3hTvtl8hPU"
      },
      "outputs": [],
      "source": [
        "#df.insert(6, \"Weight\", bullock_val_2, True)"
      ]
    },
    {
      "cell_type": "markdown",
      "source": [
        "**MAIN CODE**"
      ],
      "metadata": {
        "id": "PlrnmSmEOhV3"
      }
    },
    {
      "cell_type": "code",
      "source": [
        "import matplotlib.pyplot as plt\n",
        "import pandas as pd\n",
        "import numpy as np\n",
        "import seaborn as sns\n",
        "from sklearn import preprocessing\n",
        "from sklearn.neighbors import KNeighborsRegressor\n",
        "from sklearn.model_selection import train_test_split"
      ],
      "metadata": {
        "id": "dgO3DudeMGjN"
      },
      "execution_count": 327,
      "outputs": []
    },
    {
      "cell_type": "code",
      "source": [
        "pd.set_option('display.max_columns', None)"
      ],
      "metadata": {
        "id": "G2l_JVIDMH5f"
      },
      "execution_count": 328,
      "outputs": []
    },
    {
      "cell_type": "code",
      "execution_count": 329,
      "metadata": {
        "id": "xaY133rN8LMM"
      },
      "outputs": [],
      "source": [
        "!pip install -U -q PyDrive\n",
        "from pydrive.auth import GoogleAuth\n",
        "from pydrive.drive import GoogleDrive\n",
        "from google.colab import auth\n",
        "from oauth2client.client import GoogleCredentials\n"
      ]
    },
    {
      "cell_type": "code",
      "execution_count": 330,
      "metadata": {
        "id": "7_1nPAsE8scf"
      },
      "outputs": [],
      "source": [
        "auth.authenticate_user()\n",
        "gauth = GoogleAuth()\n",
        "gauth.credentials = GoogleCredentials.get_application_default()\n",
        "drive = GoogleDrive(gauth)"
      ]
    },
    {
      "cell_type": "code",
      "execution_count": 331,
      "metadata": {
        "id": "UxJBtjId9FBE"
      },
      "outputs": [],
      "source": [
        "#https://drive.google.com/file/d/1yi6uL3islOb2a5XZEBmQlF1NnSRroMHT/view?usp=sharing\n",
        "fileDownloaded = drive.CreateFile({'id':'1yi6uL3islOb2a5XZEBmQlF1NnSRroMHT'})"
      ]
    },
    {
      "cell_type": "code",
      "execution_count": 332,
      "metadata": {
        "id": "6dCoJ5RE9oE6"
      },
      "outputs": [],
      "source": [
        "fileDownloaded.GetContentFile('AJA01.20221011194750.csv')"
      ]
    },
    {
      "cell_type": "code",
      "execution_count": 333,
      "metadata": {
        "colab": {
          "base_uri": "https://localhost:8080/",
          "height": 206
        },
        "id": "VZDTvOXY-ABx",
        "outputId": "e25ece9e-eba4-4a55-8cdc-84efe02d9aca"
      },
      "outputs": [
        {
          "output_type": "execute_result",
          "data": {
            "text/plain": [
              "  STATISTIC CODE              Statistic  TLIST(A1)  Year C01782V02140  \\\n",
              "0        AJA01C1  Cattle Price per Head       1976  1976         B200   \n",
              "1        AJA01C1  Cattle Price per Head       1976  1976         B250   \n",
              "2        AJA01C1  Cattle Price per Head       1976  1976         B300   \n",
              "3        AJA01C1  Cattle Price per Head       1976  1976         B350   \n",
              "4        AJA01C1  Cattle Price per Head       1976  1976         B400   \n",
              "\n",
              "       Type of Cattle  UNIT   VALUE  \n",
              "0  Bullocks 200-249kg  Euro     NaN  \n",
              "1  Bullocks 250-299kg  Euro     NaN  \n",
              "2  Bullocks 300-349kg  Euro  238.29  \n",
              "3  Bullocks 350-399kg  Euro  270.47  \n",
              "4  Bullocks 400-449kg  Euro  302.43  "
            ],
            "text/html": [
              "\n",
              "  <div id=\"df-9348714b-abcd-43fe-9d5e-af8b3291c3a5\">\n",
              "    <div class=\"colab-df-container\">\n",
              "      <div>\n",
              "<style scoped>\n",
              "    .dataframe tbody tr th:only-of-type {\n",
              "        vertical-align: middle;\n",
              "    }\n",
              "\n",
              "    .dataframe tbody tr th {\n",
              "        vertical-align: top;\n",
              "    }\n",
              "\n",
              "    .dataframe thead th {\n",
              "        text-align: right;\n",
              "    }\n",
              "</style>\n",
              "<table border=\"1\" class=\"dataframe\">\n",
              "  <thead>\n",
              "    <tr style=\"text-align: right;\">\n",
              "      <th></th>\n",
              "      <th>STATISTIC CODE</th>\n",
              "      <th>Statistic</th>\n",
              "      <th>TLIST(A1)</th>\n",
              "      <th>Year</th>\n",
              "      <th>C01782V02140</th>\n",
              "      <th>Type of Cattle</th>\n",
              "      <th>UNIT</th>\n",
              "      <th>VALUE</th>\n",
              "    </tr>\n",
              "  </thead>\n",
              "  <tbody>\n",
              "    <tr>\n",
              "      <th>0</th>\n",
              "      <td>AJA01C1</td>\n",
              "      <td>Cattle Price per Head</td>\n",
              "      <td>1976</td>\n",
              "      <td>1976</td>\n",
              "      <td>B200</td>\n",
              "      <td>Bullocks 200-249kg</td>\n",
              "      <td>Euro</td>\n",
              "      <td>NaN</td>\n",
              "    </tr>\n",
              "    <tr>\n",
              "      <th>1</th>\n",
              "      <td>AJA01C1</td>\n",
              "      <td>Cattle Price per Head</td>\n",
              "      <td>1976</td>\n",
              "      <td>1976</td>\n",
              "      <td>B250</td>\n",
              "      <td>Bullocks 250-299kg</td>\n",
              "      <td>Euro</td>\n",
              "      <td>NaN</td>\n",
              "    </tr>\n",
              "    <tr>\n",
              "      <th>2</th>\n",
              "      <td>AJA01C1</td>\n",
              "      <td>Cattle Price per Head</td>\n",
              "      <td>1976</td>\n",
              "      <td>1976</td>\n",
              "      <td>B300</td>\n",
              "      <td>Bullocks 300-349kg</td>\n",
              "      <td>Euro</td>\n",
              "      <td>238.29</td>\n",
              "    </tr>\n",
              "    <tr>\n",
              "      <th>3</th>\n",
              "      <td>AJA01C1</td>\n",
              "      <td>Cattle Price per Head</td>\n",
              "      <td>1976</td>\n",
              "      <td>1976</td>\n",
              "      <td>B350</td>\n",
              "      <td>Bullocks 350-399kg</td>\n",
              "      <td>Euro</td>\n",
              "      <td>270.47</td>\n",
              "    </tr>\n",
              "    <tr>\n",
              "      <th>4</th>\n",
              "      <td>AJA01C1</td>\n",
              "      <td>Cattle Price per Head</td>\n",
              "      <td>1976</td>\n",
              "      <td>1976</td>\n",
              "      <td>B400</td>\n",
              "      <td>Bullocks 400-449kg</td>\n",
              "      <td>Euro</td>\n",
              "      <td>302.43</td>\n",
              "    </tr>\n",
              "  </tbody>\n",
              "</table>\n",
              "</div>\n",
              "      <button class=\"colab-df-convert\" onclick=\"convertToInteractive('df-9348714b-abcd-43fe-9d5e-af8b3291c3a5')\"\n",
              "              title=\"Convert this dataframe to an interactive table.\"\n",
              "              style=\"display:none;\">\n",
              "        \n",
              "  <svg xmlns=\"http://www.w3.org/2000/svg\" height=\"24px\"viewBox=\"0 0 24 24\"\n",
              "       width=\"24px\">\n",
              "    <path d=\"M0 0h24v24H0V0z\" fill=\"none\"/>\n",
              "    <path d=\"M18.56 5.44l.94 2.06.94-2.06 2.06-.94-2.06-.94-.94-2.06-.94 2.06-2.06.94zm-11 1L8.5 8.5l.94-2.06 2.06-.94-2.06-.94L8.5 2.5l-.94 2.06-2.06.94zm10 10l.94 2.06.94-2.06 2.06-.94-2.06-.94-.94-2.06-.94 2.06-2.06.94z\"/><path d=\"M17.41 7.96l-1.37-1.37c-.4-.4-.92-.59-1.43-.59-.52 0-1.04.2-1.43.59L10.3 9.45l-7.72 7.72c-.78.78-.78 2.05 0 2.83L4 21.41c.39.39.9.59 1.41.59.51 0 1.02-.2 1.41-.59l7.78-7.78 2.81-2.81c.8-.78.8-2.07 0-2.86zM5.41 20L4 18.59l7.72-7.72 1.47 1.35L5.41 20z\"/>\n",
              "  </svg>\n",
              "      </button>\n",
              "      \n",
              "  <style>\n",
              "    .colab-df-container {\n",
              "      display:flex;\n",
              "      flex-wrap:wrap;\n",
              "      gap: 12px;\n",
              "    }\n",
              "\n",
              "    .colab-df-convert {\n",
              "      background-color: #E8F0FE;\n",
              "      border: none;\n",
              "      border-radius: 50%;\n",
              "      cursor: pointer;\n",
              "      display: none;\n",
              "      fill: #1967D2;\n",
              "      height: 32px;\n",
              "      padding: 0 0 0 0;\n",
              "      width: 32px;\n",
              "    }\n",
              "\n",
              "    .colab-df-convert:hover {\n",
              "      background-color: #E2EBFA;\n",
              "      box-shadow: 0px 1px 2px rgba(60, 64, 67, 0.3), 0px 1px 3px 1px rgba(60, 64, 67, 0.15);\n",
              "      fill: #174EA6;\n",
              "    }\n",
              "\n",
              "    [theme=dark] .colab-df-convert {\n",
              "      background-color: #3B4455;\n",
              "      fill: #D2E3FC;\n",
              "    }\n",
              "\n",
              "    [theme=dark] .colab-df-convert:hover {\n",
              "      background-color: #434B5C;\n",
              "      box-shadow: 0px 1px 3px 1px rgba(0, 0, 0, 0.15);\n",
              "      filter: drop-shadow(0px 1px 2px rgba(0, 0, 0, 0.3));\n",
              "      fill: #FFFFFF;\n",
              "    }\n",
              "  </style>\n",
              "\n",
              "      <script>\n",
              "        const buttonEl =\n",
              "          document.querySelector('#df-9348714b-abcd-43fe-9d5e-af8b3291c3a5 button.colab-df-convert');\n",
              "        buttonEl.style.display =\n",
              "          google.colab.kernel.accessAllowed ? 'block' : 'none';\n",
              "\n",
              "        async function convertToInteractive(key) {\n",
              "          const element = document.querySelector('#df-9348714b-abcd-43fe-9d5e-af8b3291c3a5');\n",
              "          const dataTable =\n",
              "            await google.colab.kernel.invokeFunction('convertToInteractive',\n",
              "                                                     [key], {});\n",
              "          if (!dataTable) return;\n",
              "\n",
              "          const docLinkHtml = 'Like what you see? Visit the ' +\n",
              "            '<a target=\"_blank\" href=https://colab.research.google.com/notebooks/data_table.ipynb>data table notebook</a>'\n",
              "            + ' to learn more about interactive tables.';\n",
              "          element.innerHTML = '';\n",
              "          dataTable['output_type'] = 'display_data';\n",
              "          await google.colab.output.renderOutput(dataTable, element);\n",
              "          const docLink = document.createElement('div');\n",
              "          docLink.innerHTML = docLinkHtml;\n",
              "          element.appendChild(docLink);\n",
              "        }\n",
              "      </script>\n",
              "    </div>\n",
              "  </div>\n",
              "  "
            ]
          },
          "metadata": {},
          "execution_count": 333
        }
      ],
      "source": [
        "import pandas as pd\n",
        "df = pd.read_csv('AJA01.20221011194750.csv')\n",
        "\n",
        "df.head()"
      ]
    },
    {
      "cell_type": "code",
      "execution_count": 334,
      "metadata": {
        "colab": {
          "base_uri": "https://localhost:8080/",
          "height": 473
        },
        "id": "BPKY7JDq-VKI",
        "outputId": "48e44e73-0888-40ad-dd1c-1e83be6e5fe4"
      },
      "outputs": [
        {
          "output_type": "execute_result",
          "data": {
            "text/plain": [
              "       STATISTIC CODE              Statistic    TLIST(A1)         Year  \\\n",
              "count            1288                   1288  1288.000000  1288.000000   \n",
              "unique              2                      2          NaN          NaN   \n",
              "top           AJA01C1  Cattle Price per Head          NaN          NaN   \n",
              "freq              644                    644          NaN          NaN   \n",
              "mean              NaN                    NaN  1998.500000  1998.500000   \n",
              "std               NaN                    NaN    13.281075    13.281075   \n",
              "min               NaN                    NaN  1976.000000  1976.000000   \n",
              "25%               NaN                    NaN  1987.000000  1987.000000   \n",
              "50%               NaN                    NaN  1998.500000  1998.500000   \n",
              "75%               NaN                    NaN  2010.000000  2010.000000   \n",
              "max               NaN                    NaN  2021.000000  2021.000000   \n",
              "\n",
              "       C01782V02140      Type of Cattle  UNIT        VALUE  \n",
              "count          1288                1288  1288  1207.000000  \n",
              "unique           14                  14     1          NaN  \n",
              "top            B200  Bullocks 200-249kg  Euro          NaN  \n",
              "freq             92                  92  1288          NaN  \n",
              "mean            NaN                 NaN   NaN   369.926001  \n",
              "std             NaN                 NaN   NaN   258.764418  \n",
              "min             NaN                 NaN   NaN    46.240000  \n",
              "25%             NaN                 NaN   NaN   154.950000  \n",
              "50%             NaN                 NaN   NaN   228.073462  \n",
              "75%             NaN                 NaN   NaN   560.516376  \n",
              "max             NaN                 NaN   NaN  1175.876638  "
            ],
            "text/html": [
              "\n",
              "  <div id=\"df-c64648b0-3378-467b-bda0-cdedb48213c5\">\n",
              "    <div class=\"colab-df-container\">\n",
              "      <div>\n",
              "<style scoped>\n",
              "    .dataframe tbody tr th:only-of-type {\n",
              "        vertical-align: middle;\n",
              "    }\n",
              "\n",
              "    .dataframe tbody tr th {\n",
              "        vertical-align: top;\n",
              "    }\n",
              "\n",
              "    .dataframe thead th {\n",
              "        text-align: right;\n",
              "    }\n",
              "</style>\n",
              "<table border=\"1\" class=\"dataframe\">\n",
              "  <thead>\n",
              "    <tr style=\"text-align: right;\">\n",
              "      <th></th>\n",
              "      <th>STATISTIC CODE</th>\n",
              "      <th>Statistic</th>\n",
              "      <th>TLIST(A1)</th>\n",
              "      <th>Year</th>\n",
              "      <th>C01782V02140</th>\n",
              "      <th>Type of Cattle</th>\n",
              "      <th>UNIT</th>\n",
              "      <th>VALUE</th>\n",
              "    </tr>\n",
              "  </thead>\n",
              "  <tbody>\n",
              "    <tr>\n",
              "      <th>count</th>\n",
              "      <td>1288</td>\n",
              "      <td>1288</td>\n",
              "      <td>1288.000000</td>\n",
              "      <td>1288.000000</td>\n",
              "      <td>1288</td>\n",
              "      <td>1288</td>\n",
              "      <td>1288</td>\n",
              "      <td>1207.000000</td>\n",
              "    </tr>\n",
              "    <tr>\n",
              "      <th>unique</th>\n",
              "      <td>2</td>\n",
              "      <td>2</td>\n",
              "      <td>NaN</td>\n",
              "      <td>NaN</td>\n",
              "      <td>14</td>\n",
              "      <td>14</td>\n",
              "      <td>1</td>\n",
              "      <td>NaN</td>\n",
              "    </tr>\n",
              "    <tr>\n",
              "      <th>top</th>\n",
              "      <td>AJA01C1</td>\n",
              "      <td>Cattle Price per Head</td>\n",
              "      <td>NaN</td>\n",
              "      <td>NaN</td>\n",
              "      <td>B200</td>\n",
              "      <td>Bullocks 200-249kg</td>\n",
              "      <td>Euro</td>\n",
              "      <td>NaN</td>\n",
              "    </tr>\n",
              "    <tr>\n",
              "      <th>freq</th>\n",
              "      <td>644</td>\n",
              "      <td>644</td>\n",
              "      <td>NaN</td>\n",
              "      <td>NaN</td>\n",
              "      <td>92</td>\n",
              "      <td>92</td>\n",
              "      <td>1288</td>\n",
              "      <td>NaN</td>\n",
              "    </tr>\n",
              "    <tr>\n",
              "      <th>mean</th>\n",
              "      <td>NaN</td>\n",
              "      <td>NaN</td>\n",
              "      <td>1998.500000</td>\n",
              "      <td>1998.500000</td>\n",
              "      <td>NaN</td>\n",
              "      <td>NaN</td>\n",
              "      <td>NaN</td>\n",
              "      <td>369.926001</td>\n",
              "    </tr>\n",
              "    <tr>\n",
              "      <th>std</th>\n",
              "      <td>NaN</td>\n",
              "      <td>NaN</td>\n",
              "      <td>13.281075</td>\n",
              "      <td>13.281075</td>\n",
              "      <td>NaN</td>\n",
              "      <td>NaN</td>\n",
              "      <td>NaN</td>\n",
              "      <td>258.764418</td>\n",
              "    </tr>\n",
              "    <tr>\n",
              "      <th>min</th>\n",
              "      <td>NaN</td>\n",
              "      <td>NaN</td>\n",
              "      <td>1976.000000</td>\n",
              "      <td>1976.000000</td>\n",
              "      <td>NaN</td>\n",
              "      <td>NaN</td>\n",
              "      <td>NaN</td>\n",
              "      <td>46.240000</td>\n",
              "    </tr>\n",
              "    <tr>\n",
              "      <th>25%</th>\n",
              "      <td>NaN</td>\n",
              "      <td>NaN</td>\n",
              "      <td>1987.000000</td>\n",
              "      <td>1987.000000</td>\n",
              "      <td>NaN</td>\n",
              "      <td>NaN</td>\n",
              "      <td>NaN</td>\n",
              "      <td>154.950000</td>\n",
              "    </tr>\n",
              "    <tr>\n",
              "      <th>50%</th>\n",
              "      <td>NaN</td>\n",
              "      <td>NaN</td>\n",
              "      <td>1998.500000</td>\n",
              "      <td>1998.500000</td>\n",
              "      <td>NaN</td>\n",
              "      <td>NaN</td>\n",
              "      <td>NaN</td>\n",
              "      <td>228.073462</td>\n",
              "    </tr>\n",
              "    <tr>\n",
              "      <th>75%</th>\n",
              "      <td>NaN</td>\n",
              "      <td>NaN</td>\n",
              "      <td>2010.000000</td>\n",
              "      <td>2010.000000</td>\n",
              "      <td>NaN</td>\n",
              "      <td>NaN</td>\n",
              "      <td>NaN</td>\n",
              "      <td>560.516376</td>\n",
              "    </tr>\n",
              "    <tr>\n",
              "      <th>max</th>\n",
              "      <td>NaN</td>\n",
              "      <td>NaN</td>\n",
              "      <td>2021.000000</td>\n",
              "      <td>2021.000000</td>\n",
              "      <td>NaN</td>\n",
              "      <td>NaN</td>\n",
              "      <td>NaN</td>\n",
              "      <td>1175.876638</td>\n",
              "    </tr>\n",
              "  </tbody>\n",
              "</table>\n",
              "</div>\n",
              "      <button class=\"colab-df-convert\" onclick=\"convertToInteractive('df-c64648b0-3378-467b-bda0-cdedb48213c5')\"\n",
              "              title=\"Convert this dataframe to an interactive table.\"\n",
              "              style=\"display:none;\">\n",
              "        \n",
              "  <svg xmlns=\"http://www.w3.org/2000/svg\" height=\"24px\"viewBox=\"0 0 24 24\"\n",
              "       width=\"24px\">\n",
              "    <path d=\"M0 0h24v24H0V0z\" fill=\"none\"/>\n",
              "    <path d=\"M18.56 5.44l.94 2.06.94-2.06 2.06-.94-2.06-.94-.94-2.06-.94 2.06-2.06.94zm-11 1L8.5 8.5l.94-2.06 2.06-.94-2.06-.94L8.5 2.5l-.94 2.06-2.06.94zm10 10l.94 2.06.94-2.06 2.06-.94-2.06-.94-.94-2.06-.94 2.06-2.06.94z\"/><path d=\"M17.41 7.96l-1.37-1.37c-.4-.4-.92-.59-1.43-.59-.52 0-1.04.2-1.43.59L10.3 9.45l-7.72 7.72c-.78.78-.78 2.05 0 2.83L4 21.41c.39.39.9.59 1.41.59.51 0 1.02-.2 1.41-.59l7.78-7.78 2.81-2.81c.8-.78.8-2.07 0-2.86zM5.41 20L4 18.59l7.72-7.72 1.47 1.35L5.41 20z\"/>\n",
              "  </svg>\n",
              "      </button>\n",
              "      \n",
              "  <style>\n",
              "    .colab-df-container {\n",
              "      display:flex;\n",
              "      flex-wrap:wrap;\n",
              "      gap: 12px;\n",
              "    }\n",
              "\n",
              "    .colab-df-convert {\n",
              "      background-color: #E8F0FE;\n",
              "      border: none;\n",
              "      border-radius: 50%;\n",
              "      cursor: pointer;\n",
              "      display: none;\n",
              "      fill: #1967D2;\n",
              "      height: 32px;\n",
              "      padding: 0 0 0 0;\n",
              "      width: 32px;\n",
              "    }\n",
              "\n",
              "    .colab-df-convert:hover {\n",
              "      background-color: #E2EBFA;\n",
              "      box-shadow: 0px 1px 2px rgba(60, 64, 67, 0.3), 0px 1px 3px 1px rgba(60, 64, 67, 0.15);\n",
              "      fill: #174EA6;\n",
              "    }\n",
              "\n",
              "    [theme=dark] .colab-df-convert {\n",
              "      background-color: #3B4455;\n",
              "      fill: #D2E3FC;\n",
              "    }\n",
              "\n",
              "    [theme=dark] .colab-df-convert:hover {\n",
              "      background-color: #434B5C;\n",
              "      box-shadow: 0px 1px 3px 1px rgba(0, 0, 0, 0.15);\n",
              "      filter: drop-shadow(0px 1px 2px rgba(0, 0, 0, 0.3));\n",
              "      fill: #FFFFFF;\n",
              "    }\n",
              "  </style>\n",
              "\n",
              "      <script>\n",
              "        const buttonEl =\n",
              "          document.querySelector('#df-c64648b0-3378-467b-bda0-cdedb48213c5 button.colab-df-convert');\n",
              "        buttonEl.style.display =\n",
              "          google.colab.kernel.accessAllowed ? 'block' : 'none';\n",
              "\n",
              "        async function convertToInteractive(key) {\n",
              "          const element = document.querySelector('#df-c64648b0-3378-467b-bda0-cdedb48213c5');\n",
              "          const dataTable =\n",
              "            await google.colab.kernel.invokeFunction('convertToInteractive',\n",
              "                                                     [key], {});\n",
              "          if (!dataTable) return;\n",
              "\n",
              "          const docLinkHtml = 'Like what you see? Visit the ' +\n",
              "            '<a target=\"_blank\" href=https://colab.research.google.com/notebooks/data_table.ipynb>data table notebook</a>'\n",
              "            + ' to learn more about interactive tables.';\n",
              "          element.innerHTML = '';\n",
              "          dataTable['output_type'] = 'display_data';\n",
              "          await google.colab.output.renderOutput(dataTable, element);\n",
              "          const docLink = document.createElement('div');\n",
              "          docLink.innerHTML = docLinkHtml;\n",
              "          element.appendChild(docLink);\n",
              "        }\n",
              "      </script>\n",
              "    </div>\n",
              "  </div>\n",
              "  "
            ]
          },
          "metadata": {},
          "execution_count": 334
        }
      ],
      "source": [
        "df.describe(include=\"all\")"
      ]
    },
    {
      "cell_type": "code",
      "execution_count": 335,
      "metadata": {
        "colab": {
          "base_uri": "https://localhost:8080/"
        },
        "id": "aZIE390dW6Y5",
        "outputId": "87e8c44b-e91b-4540-fbc4-c4e2e7cabafd"
      },
      "outputs": [
        {
          "output_type": "execute_result",
          "data": {
            "text/plain": [
              "STATISTIC CODE     0\n",
              "Statistic          0\n",
              "TLIST(A1)          0\n",
              "Year               0\n",
              "C01782V02140       0\n",
              "Type of Cattle     0\n",
              "UNIT               0\n",
              "VALUE             81\n",
              "dtype: int64"
            ]
          },
          "metadata": {},
          "execution_count": 335
        }
      ],
      "source": [
        "df.isna().sum()"
      ]
    },
    {
      "cell_type": "code",
      "execution_count": 336,
      "metadata": {
        "id": "mLZA-2D5XBXc"
      },
      "outputs": [],
      "source": [
        "import seaborn as sns\n",
        "sns.set()\n",
        "import matplotlib.pyplot as plt"
      ]
    },
    {
      "cell_type": "code",
      "execution_count": 337,
      "metadata": {
        "colab": {
          "base_uri": "https://localhost:8080/",
          "height": 357
        },
        "id": "TL3iVSgxXOcn",
        "outputId": "7947cac2-9651-4f16-e448-32e55bda7722"
      },
      "outputs": [
        {
          "output_type": "stream",
          "name": "stderr",
          "text": [
            "/usr/local/lib/python3.7/dist-packages/seaborn/distributions.py:2619: FutureWarning: `distplot` is a deprecated function and will be removed in a future version. Please adapt your code to use either `displot` (a figure-level function with similar flexibility) or `histplot` (an axes-level function for histograms).\n",
            "  warnings.warn(msg, FutureWarning)\n"
          ]
        },
        {
          "output_type": "execute_result",
          "data": {
            "text/plain": [
              "<matplotlib.axes._subplots.AxesSubplot at 0x7f6b0f5b8ad0>"
            ]
          },
          "metadata": {},
          "execution_count": 337
        },
        {
          "output_type": "display_data",
          "data": {
            "text/plain": [
              "<Figure size 432x288 with 1 Axes>"
            ],
            "image/png": "[encoded data removed]"
          },
          "metadata": {}
        }
      ],
      "source": [
        "sns.distplot(df['VALUE'])"
      ]
    },
    {
      "cell_type": "code",
      "execution_count": 338,
      "metadata": {
        "id": "fLCdjbjFqNk8"
      },
      "outputs": [],
      "source": [
        "new = df['Type of Cattle'].str.split(\" \", n = 1, expand=True)"
      ]
    },
    {
      "cell_type": "code",
      "execution_count": 339,
      "metadata": {
        "id": "6hkhA4g7qaXW"
      },
      "outputs": [],
      "source": [
        "df['Type of Cattle'] = new[0]\n",
        "df.insert(6, \"Weight\", new[1])"
      ]
    },
    {
      "cell_type": "code",
      "execution_count": 340,
      "metadata": {
        "colab": {
          "base_uri": "https://localhost:8080/",
          "height": 659
        },
        "id": "isA2NaDVqmdW",
        "outputId": "f803d174-8bbb-4849-e87b-3b25f320b44d"
      },
      "outputs": [
        {
          "output_type": "execute_result",
          "data": {
            "text/plain": [
              "     STATISTIC CODE                Statistic  TLIST(A1)  Year C01782V02140  \\\n",
              "0           AJA01C1    Cattle Price per Head       1976  1976         B200   \n",
              "1           AJA01C1    Cattle Price per Head       1976  1976         B250   \n",
              "2           AJA01C1    Cattle Price per Head       1976  1976         B300   \n",
              "3           AJA01C1    Cattle Price per Head       1976  1976         B350   \n",
              "4           AJA01C1    Cattle Price per Head       1976  1976         B400   \n",
              "...             ...                      ...        ...   ...          ...   \n",
              "1283        AJA01C2  Cattle Price per 100 Kg       2021  2021         H250   \n",
              "1284        AJA01C2  Cattle Price per 100 Kg       2021  2021         H300   \n",
              "1285        AJA01C2  Cattle Price per 100 Kg       2021  2021         H350   \n",
              "1286        AJA01C2  Cattle Price per 100 Kg       2021  2021         H400   \n",
              "1287        AJA01C2  Cattle Price per 100 Kg       2021  2021         SCOW   \n",
              "\n",
              "     Type of Cattle         Weight  UNIT       VALUE  \n",
              "0          Bullocks      200-249kg  Euro         NaN  \n",
              "1          Bullocks      250-299kg  Euro         NaN  \n",
              "2          Bullocks      300-349kg  Euro  238.290000  \n",
              "3          Bullocks      350-399kg  Euro  270.470000  \n",
              "4          Bullocks      400-449kg  Euro  302.430000  \n",
              "...             ...            ...   ...         ...  \n",
              "1283        Heifers      250-299kg  Euro  216.991177  \n",
              "1284        Heifers      300-349kg  Euro  215.245632  \n",
              "1285        Heifers      350-399kg  Euro  216.965995  \n",
              "1286        Heifers      400-449kg  Euro  216.796269  \n",
              "1287           Cows  for slaughter  Euro         NaN  \n",
              "\n",
              "[1288 rows x 9 columns]"
            ],
            "text/html": [
              "\n",
              "  <div id=\"df-a2380e83-11f9-4a7f-a339-a7c38f45c99e\">\n",
              "    <div class=\"colab-df-container\">\n",
              "      <div>\n",
              "<style scoped>\n",
              "    .dataframe tbody tr th:only-of-type {\n",
              "        vertical-align: middle;\n",
              "    }\n",
              "\n",
              "    .dataframe tbody tr th {\n",
              "        vertical-align: top;\n",
              "    }\n",
              "\n",
              "    .dataframe thead th {\n",
              "        text-align: right;\n",
              "    }\n",
              "</style>\n",
              "<table border=\"1\" class=\"dataframe\">\n",
              "  <thead>\n",
              "    <tr style=\"text-align: right;\">\n",
              "      <th></th>\n",
              "      <th>STATISTIC CODE</th>\n",
              "      <th>Statistic</th>\n",
              "      <th>TLIST(A1)</th>\n",
              "      <th>Year</th>\n",
              "      <th>C01782V02140</th>\n",
              "      <th>Type of Cattle</th>\n",
              "      <th>Weight</th>\n",
              "      <th>UNIT</th>\n",
              "      <th>VALUE</th>\n",
              "    </tr>\n",
              "  </thead>\n",
              "  <tbody>\n",
              "    <tr>\n",
              "      <th>0</th>\n",
              "      <td>AJA01C1</td>\n",
              "      <td>Cattle Price per Head</td>\n",
              "      <td>1976</td>\n",
              "      <td>1976</td>\n",
              "      <td>B200</td>\n",
              "      <td>Bullocks</td>\n",
              "      <td>200-249kg</td>\n",
              "      <td>Euro</td>\n",
              "      <td>NaN</td>\n",
              "    </tr>\n",
              "    <tr>\n",
              "      <th>1</th>\n",
              "      <td>AJA01C1</td>\n",
              "      <td>Cattle Price per Head</td>\n",
              "      <td>1976</td>\n",
              "      <td>1976</td>\n",
              "      <td>B250</td>\n",
              "      <td>Bullocks</td>\n",
              "      <td>250-299kg</td>\n",
              "      <td>Euro</td>\n",
              "      <td>NaN</td>\n",
              "    </tr>\n",
              "    <tr>\n",
              "      <th>2</th>\n",
              "      <td>AJA01C1</td>\n",
              "      <td>Cattle Price per Head</td>\n",
              "      <td>1976</td>\n",
              "      <td>1976</td>\n",
              "      <td>B300</td>\n",
              "      <td>Bullocks</td>\n",
              "      <td>300-349kg</td>\n",
              "      <td>Euro</td>\n",
              "      <td>238.290000</td>\n",
              "    </tr>\n",
              "    <tr>\n",
              "      <th>3</th>\n",
              "      <td>AJA01C1</td>\n",
              "      <td>Cattle Price per Head</td>\n",
              "      <td>1976</td>\n",
              "      <td>1976</td>\n",
              "      <td>B350</td>\n",
              "      <td>Bullocks</td>\n",
              "      <td>350-399kg</td>\n",
              "      <td>Euro</td>\n",
              "      <td>270.470000</td>\n",
              "    </tr>\n",
              "    <tr>\n",
              "      <th>4</th>\n",
              "      <td>AJA01C1</td>\n",
              "      <td>Cattle Price per Head</td>\n",
              "      <td>1976</td>\n",
              "      <td>1976</td>\n",
              "      <td>B400</td>\n",
              "      <td>Bullocks</td>\n",
              "      <td>400-449kg</td>\n",
              "      <td>Euro</td>\n",
              "      <td>302.430000</td>\n",
              "    </tr>\n",
              "    <tr>\n",
              "      <th>...</th>\n",
              "      <td>...</td>\n",
              "      <td>...</td>\n",
              "      <td>...</td>\n",
              "      <td>...</td>\n",
              "      <td>...</td>\n",
              "      <td>...</td>\n",
              "      <td>...</td>\n",
              "      <td>...</td>\n",
              "      <td>...</td>\n",
              "    </tr>\n",
              "    <tr>\n",
              "      <th>1283</th>\n",
              "      <td>AJA01C2</td>\n",
              "      <td>Cattle Price per 100 Kg</td>\n",
              "      <td>2021</td>\n",
              "      <td>2021</td>\n",
              "      <td>H250</td>\n",
              "      <td>Heifers</td>\n",
              "      <td>250-299kg</td>\n",
              "      <td>Euro</td>\n",
              "      <td>216.991177</td>\n",
              "    </tr>\n",
              "    <tr>\n",
              "      <th>1284</th>\n",
              "      <td>AJA01C2</td>\n",
              "      <td>Cattle Price per 100 Kg</td>\n",
              "      <td>2021</td>\n",
              "      <td>2021</td>\n",
              "      <td>H300</td>\n",
              "      <td>Heifers</td>\n",
              "      <td>300-349kg</td>\n",
              "      <td>Euro</td>\n",
              "      <td>215.245632</td>\n",
              "    </tr>\n",
              "    <tr>\n",
              "      <th>1285</th>\n",
              "      <td>AJA01C2</td>\n",
              "      <td>Cattle Price per 100 Kg</td>\n",
              "      <td>2021</td>\n",
              "      <td>2021</td>\n",
              "      <td>H350</td>\n",
              "      <td>Heifers</td>\n",
              "      <td>350-399kg</td>\n",
              "      <td>Euro</td>\n",
              "      <td>216.965995</td>\n",
              "    </tr>\n",
              "    <tr>\n",
              "      <th>1286</th>\n",
              "      <td>AJA01C2</td>\n",
              "      <td>Cattle Price per 100 Kg</td>\n",
              "      <td>2021</td>\n",
              "      <td>2021</td>\n",
              "      <td>H400</td>\n",
              "      <td>Heifers</td>\n",
              "      <td>400-449kg</td>\n",
              "      <td>Euro</td>\n",
              "      <td>216.796269</td>\n",
              "    </tr>\n",
              "    <tr>\n",
              "      <th>1287</th>\n",
              "      <td>AJA01C2</td>\n",
              "      <td>Cattle Price per 100 Kg</td>\n",
              "      <td>2021</td>\n",
              "      <td>2021</td>\n",
              "      <td>SCOW</td>\n",
              "      <td>Cows</td>\n",
              "      <td>for slaughter</td>\n",
              "      <td>Euro</td>\n",
              "      <td>NaN</td>\n",
              "    </tr>\n",
              "  </tbody>\n",
              "</table>\n",
              "<p>1288 rows × 9 columns</p>\n",
              "</div>\n",
              "      <button class=\"colab-df-convert\" onclick=\"convertToInteractive('df-a2380e83-11f9-4a7f-a339-a7c38f45c99e')\"\n",
              "              title=\"Convert this dataframe to an interactive table.\"\n",
              "              style=\"display:none;\">\n",
              "        \n",
              "  <svg xmlns=\"http://www.w3.org/2000/svg\" height=\"24px\"viewBox=\"0 0 24 24\"\n",
              "       width=\"24px\">\n",
              "    <path d=\"M0 0h24v24H0V0z\" fill=\"none\"/>\n",
              "    <path d=\"M18.56 5.44l.94 2.06.94-2.06 2.06-.94-2.06-.94-.94-2.06-.94 2.06-2.06.94zm-11 1L8.5 8.5l.94-2.06 2.06-.94-2.06-.94L8.5 2.5l-.94 2.06-2.06.94zm10 10l.94 2.06.94-2.06 2.06-.94-2.06-.94-.94-2.06-.94 2.06-2.06.94z\"/><path d=\"M17.41 7.96l-1.37-1.37c-.4-.4-.92-.59-1.43-.59-.52 0-1.04.2-1.43.59L10.3 9.45l-7.72 7.72c-.78.78-.78 2.05 0 2.83L4 21.41c.39.39.9.59 1.41.59.51 0 1.02-.2 1.41-.59l7.78-7.78 2.81-2.81c.8-.78.8-2.07 0-2.86zM5.41 20L4 18.59l7.72-7.72 1.47 1.35L5.41 20z\"/>\n",
              "  </svg>\n",
              "      </button>\n",
              "      \n",
              "  <style>\n",
              "    .colab-df-container {\n",
              "      display:flex;\n",
              "      flex-wrap:wrap;\n",
              "      gap: 12px;\n",
              "    }\n",
              "\n",
              "    .colab-df-convert {\n",
              "      background-color: #E8F0FE;\n",
              "      border: none;\n",
              "      border-radius: 50%;\n",
              "      cursor: pointer;\n",
              "      display: none;\n",
              "      fill: #1967D2;\n",
              "      height: 32px;\n",
              "      padding: 0 0 0 0;\n",
              "      width: 32px;\n",
              "    }\n",
              "\n",
              "    .colab-df-convert:hover {\n",
              "      background-color: #E2EBFA;\n",
              "      box-shadow: 0px 1px 2px rgba(60, 64, 67, 0.3), 0px 1px 3px 1px rgba(60, 64, 67, 0.15);\n",
              "      fill: #174EA6;\n",
              "    }\n",
              "\n",
              "    [theme=dark] .colab-df-convert {\n",
              "      background-color: #3B4455;\n",
              "      fill: #D2E3FC;\n",
              "    }\n",
              "\n",
              "    [theme=dark] .colab-df-convert:hover {\n",
              "      background-color: #434B5C;\n",
              "      box-shadow: 0px 1px 3px 1px rgba(0, 0, 0, 0.15);\n",
              "      filter: drop-shadow(0px 1px 2px rgba(0, 0, 0, 0.3));\n",
              "      fill: #FFFFFF;\n",
              "    }\n",
              "  </style>\n",
              "\n",
              "      <script>\n",
              "        const buttonEl =\n",
              "          document.querySelector('#df-a2380e83-11f9-4a7f-a339-a7c38f45c99e button.colab-df-convert');\n",
              "        buttonEl.style.display =\n",
              "          google.colab.kernel.accessAllowed ? 'block' : 'none';\n",
              "\n",
              "        async function convertToInteractive(key) {\n",
              "          const element = document.querySelector('#df-a2380e83-11f9-4a7f-a339-a7c38f45c99e');\n",
              "          const dataTable =\n",
              "            await google.colab.kernel.invokeFunction('convertToInteractive',\n",
              "                                                     [key], {});\n",
              "          if (!dataTable) return;\n",
              "\n",
              "          const docLinkHtml = 'Like what you see? Visit the ' +\n",
              "            '<a target=\"_blank\" href=https://colab.research.google.com/notebooks/data_table.ipynb>data table notebook</a>'\n",
              "            + ' to learn more about interactive tables.';\n",
              "          element.innerHTML = '';\n",
              "          dataTable['output_type'] = 'display_data';\n",
              "          await google.colab.output.renderOutput(dataTable, element);\n",
              "          const docLink = document.createElement('div');\n",
              "          docLink.innerHTML = docLinkHtml;\n",
              "          element.appendChild(docLink);\n",
              "        }\n",
              "      </script>\n",
              "    </div>\n",
              "  </div>\n",
              "  "
            ]
          },
          "metadata": {},
          "execution_count": 340
        }
      ],
      "source": [
        "df"
      ]
    },
    {
      "cell_type": "code",
      "execution_count": 341,
      "metadata": {
        "id": "yX5B7wt9rf_V"
      },
      "outputs": [],
      "source": [
        "from sklearn.impute import SimpleImputer\n",
        "import pandas as pd\n",
        "import numpy as np\n",
        "\n",
        "x = df['Weight']\n",
        "y = df['VALUE']\n",
        "newprice = df.iloc[:, 8].values\n"
      ]
    },
    {
      "cell_type": "code",
      "execution_count": 342,
      "metadata": {
        "colab": {
          "base_uri": "https://localhost:8080/"
        },
        "id": "ogCA4Zwz0_xW",
        "outputId": "5a375c92-529f-466d-a623-2d8a2c4e47ad"
      },
      "outputs": [
        {
          "output_type": "execute_result",
          "data": {
            "text/plain": [
              "array([[         nan],\n",
              "       [         nan],\n",
              "       [238.29      ],\n",
              "       ...,\n",
              "       [216.96599474],\n",
              "       [216.79626892],\n",
              "       [         nan]])"
            ]
          },
          "metadata": {},
          "execution_count": 342
        }
      ],
      "source": [
        "price = newprice.reshape(-1, 1)\n",
        "price"
      ]
    },
    {
      "cell_type": "code",
      "execution_count": 343,
      "metadata": {
        "colab": {
          "base_uri": "https://localhost:8080/"
        },
        "id": "t4dfTuBZ0qXv",
        "outputId": "6ee6a1fe-b7fd-439d-d5b3-8b82e519a6c5"
      },
      "outputs": [
        {
          "output_type": "stream",
          "name": "stdout",
          "text": [
            "[[228.07346206]\n",
            " [228.07346206]\n",
            " [238.29      ]\n",
            " ...\n",
            " [216.96599474]\n",
            " [216.79626892]\n",
            " [228.07346206]]\n"
          ]
        }
      ],
      "source": [
        "#To calculate the median use imputer class\n",
        "imputer = SimpleImputer(missing_values=np.nan, strategy=\"median\")\n",
        "imputer = imputer.fit(price)\n",
        "y = imputer.transform(price)\n",
        "print(y)"
      ]
    },
    {
      "cell_type": "code",
      "execution_count": 344,
      "metadata": {
        "id": "P8cze5xc1tin"
      },
      "outputs": [],
      "source": [
        "df['VALUE'] = y"
      ]
    },
    {
      "cell_type": "code",
      "execution_count": 345,
      "metadata": {
        "colab": {
          "base_uri": "https://localhost:8080/"
        },
        "id": "q8wxr-mb2M6S",
        "outputId": "be743ba8-1ffd-43ca-f2c2-c812b34a2989"
      },
      "outputs": [
        {
          "output_type": "execute_result",
          "data": {
            "text/plain": [
              "STATISTIC CODE    0\n",
              "Statistic         0\n",
              "TLIST(A1)         0\n",
              "Year              0\n",
              "C01782V02140      0\n",
              "Type of Cattle    0\n",
              "Weight            0\n",
              "UNIT              0\n",
              "VALUE             0\n",
              "dtype: int64"
            ]
          },
          "metadata": {},
          "execution_count": 345
        }
      ],
      "source": [
        "df.isna().sum()"
      ]
    },
    {
      "cell_type": "code",
      "execution_count": 346,
      "metadata": {
        "id": "FdpN2DCg3wUI"
      },
      "outputs": [],
      "source": [
        "df['Type of Cattle'] = df['Type of Cattle'].replace(\"Cows\", \"Bullocks\")\n",
        "df['Weight'] = df['Weight'].replace(\"for slaughter\", \"550\")"
      ]
    },
    {
      "cell_type": "code",
      "execution_count": 347,
      "metadata": {
        "id": "Rlnhus5y72BX"
      },
      "outputs": [],
      "source": [
        "df.rename(columns = {'Weight': 'Weight in kg'}, inplace=True)"
      ]
    },
    {
      "cell_type": "code",
      "execution_count": 348,
      "metadata": {
        "id": "_PHkijDd-OlR",
        "colab": {
          "base_uri": "https://localhost:8080/"
        },
        "outputId": "41fde6c5-a268-4e80-e707-af49d4389526"
      },
      "outputs": [
        {
          "output_type": "execute_result",
          "data": {
            "text/plain": [
              "STATISTIC CODE     object\n",
              "Statistic          object\n",
              "TLIST(A1)           int64\n",
              "Year                int64\n",
              "C01782V02140       object\n",
              "Type of Cattle     object\n",
              "Weight in kg       object\n",
              "UNIT               object\n",
              "VALUE             float64\n",
              "dtype: object"
            ]
          },
          "metadata": {},
          "execution_count": 348
        }
      ],
      "source": [
        "df['Weight in kg']\n",
        "type(df['Weight in kg'])\n",
        "df.dtypes"
      ]
    },
    {
      "cell_type": "code",
      "execution_count": 349,
      "metadata": {
        "colab": {
          "base_uri": "https://localhost:8080/"
        },
        "id": "usf0moPWBC5v",
        "outputId": "e26fc7ef-ed86-4704-e82d-70dd6e9a2a4c"
      },
      "outputs": [
        {
          "output_type": "stream",
          "name": "stderr",
          "text": [
            "/usr/local/lib/python3.7/dist-packages/ipykernel_launcher.py:1: FutureWarning: The default value of regex will change from True to False in a future version.\n",
            "  \"\"\"Entry point for launching an IPython kernel.\n"
          ]
        }
      ],
      "source": [
        "df['Weight in kg'] = df['Weight in kg'].str.replace('\\D', ' ')"
      ]
    },
    {
      "cell_type": "code",
      "execution_count": 350,
      "metadata": {
        "id": "KOlLCw8AH6bk"
      },
      "outputs": [],
      "source": [
        "new2 = df['Weight in kg'].str.split(\" \", n = 1, expand=True)\n",
        "split1 = df.insert(7, \"Min Weight in kg\", new2[0])\n",
        "split2 = df.insert(8, \"Max Weight in kg\", new2[1])"
      ]
    },
    {
      "cell_type": "code",
      "execution_count": 351,
      "metadata": {
        "id": "k4-MUkJoIyTy"
      },
      "outputs": [],
      "source": [
        "data1 = df.copy()\n",
        "data1['Min Weight in kg'] = pd.to_numeric(data1['Min Weight in kg'])\n"
      ]
    },
    {
      "cell_type": "code",
      "execution_count": 352,
      "metadata": {
        "colab": {
          "base_uri": "https://localhost:8080/"
        },
        "id": "0k6RWVGrSbft",
        "outputId": "3c51d880-ddfb-4a47-e917-9f59a1a1c76c"
      },
      "outputs": [
        {
          "output_type": "execute_result",
          "data": {
            "text/plain": [
              "dtype('int64')"
            ]
          },
          "metadata": {},
          "execution_count": 352
        }
      ],
      "source": [
        "data1['Min Weight in kg'].dtypes"
      ]
    },
    {
      "cell_type": "code",
      "execution_count": 353,
      "metadata": {
        "colab": {
          "base_uri": "https://localhost:8080/",
          "height": 357
        },
        "id": "abIuQz5abXle",
        "outputId": "5e919fb3-0c1c-4007-ef22-55521dda9786"
      },
      "outputs": [
        {
          "output_type": "stream",
          "name": "stderr",
          "text": [
            "/usr/local/lib/python3.7/dist-packages/seaborn/distributions.py:2619: FutureWarning: `distplot` is a deprecated function and will be removed in a future version. Please adapt your code to use either `displot` (a figure-level function with similar flexibility) or `histplot` (an axes-level function for histograms).\n",
            "  warnings.warn(msg, FutureWarning)\n"
          ]
        },
        {
          "output_type": "execute_result",
          "data": {
            "text/plain": [
              "<matplotlib.axes._subplots.AxesSubplot at 0x7f6b0f4bc710>"
            ]
          },
          "metadata": {},
          "execution_count": 353
        },
        {
          "output_type": "display_data",
          "data": {
            "text/plain": [
              "<Figure size 432x288 with 1 Axes>"
            ],
            "image/png": "[encoded data removed]"
          },
          "metadata": {}
        }
      ],
      "source": [
        "sns.distplot(data1['Min Weight in kg'])"
      ]
    },
    {
      "cell_type": "code",
      "execution_count": 354,
      "metadata": {
        "id": "78zPO9abPnlV"
      },
      "outputs": [],
      "source": [
        "data1['Min Weight in kg'] = data1['Min Weight in kg'].fillna(550)\n",
        "data1['Max Weight in kg'] = pd.to_numeric(data1['Max Weight in kg'], errors= 'coerce')"
      ]
    },
    {
      "cell_type": "code",
      "execution_count": 355,
      "metadata": {
        "colab": {
          "base_uri": "https://localhost:8080/",
          "height": 676
        },
        "id": "5OSVcOardfLr",
        "outputId": "a36c94b8-7ab6-4425-9ab3-b3c07f9cabdb"
      },
      "outputs": [
        {
          "output_type": "execute_result",
          "data": {
            "text/plain": [
              "     STATISTIC CODE                Statistic  TLIST(A1)  Year C01782V02140  \\\n",
              "0           AJA01C1    Cattle Price per Head       1976  1976         B200   \n",
              "1           AJA01C1    Cattle Price per Head       1976  1976         B250   \n",
              "2           AJA01C1    Cattle Price per Head       1976  1976         B300   \n",
              "3           AJA01C1    Cattle Price per Head       1976  1976         B350   \n",
              "4           AJA01C1    Cattle Price per Head       1976  1976         B400   \n",
              "...             ...                      ...        ...   ...          ...   \n",
              "1283        AJA01C2  Cattle Price per 100 Kg       2021  2021         H250   \n",
              "1284        AJA01C2  Cattle Price per 100 Kg       2021  2021         H300   \n",
              "1285        AJA01C2  Cattle Price per 100 Kg       2021  2021         H350   \n",
              "1286        AJA01C2  Cattle Price per 100 Kg       2021  2021         H400   \n",
              "1287        AJA01C2  Cattle Price per 100 Kg       2021  2021         SCOW   \n",
              "\n",
              "     Type of Cattle Weight in kg  Min Weight in kg  Max Weight in kg  UNIT  \\\n",
              "0          Bullocks    200 249                 200             249.0  Euro   \n",
              "1          Bullocks    250 299                 250             299.0  Euro   \n",
              "2          Bullocks    300 349                 300             349.0  Euro   \n",
              "3          Bullocks    350 399                 350             399.0  Euro   \n",
              "4          Bullocks    400 449                 400             449.0  Euro   \n",
              "...             ...          ...               ...               ...   ...   \n",
              "1283        Heifers    250 299                 250             299.0  Euro   \n",
              "1284        Heifers    300 349                 300             349.0  Euro   \n",
              "1285        Heifers    350 399                 350             399.0  Euro   \n",
              "1286        Heifers    400 449                 400             449.0  Euro   \n",
              "1287       Bullocks          550               550               NaN  Euro   \n",
              "\n",
              "           VALUE  \n",
              "0     228.073462  \n",
              "1     228.073462  \n",
              "2     238.290000  \n",
              "3     270.470000  \n",
              "4     302.430000  \n",
              "...          ...  \n",
              "1283  216.991177  \n",
              "1284  215.245632  \n",
              "1285  216.965995  \n",
              "1286  216.796269  \n",
              "1287  228.073462  \n",
              "\n",
              "[1288 rows x 11 columns]"
            ],
            "text/html": [
              "\n",
              "  <div id=\"df-0914266c-63c5-4c4d-b119-8fba7f8dc84b\">\n",
              "    <div class=\"colab-df-container\">\n",
              "      <div>\n",
              "<style scoped>\n",
              "    .dataframe tbody tr th:only-of-type {\n",
              "        vertical-align: middle;\n",
              "    }\n",
              "\n",
              "    .dataframe tbody tr th {\n",
              "        vertical-align: top;\n",
              "    }\n",
              "\n",
              "    .dataframe thead th {\n",
              "        text-align: right;\n",
              "    }\n",
              "</style>\n",
              "<table border=\"1\" class=\"dataframe\">\n",
              "  <thead>\n",
              "    <tr style=\"text-align: right;\">\n",
              "      <th></th>\n",
              "      <th>STATISTIC CODE</th>\n",
              "      <th>Statistic</th>\n",
              "      <th>TLIST(A1)</th>\n",
              "      <th>Year</th>\n",
              "      <th>C01782V02140</th>\n",
              "      <th>Type of Cattle</th>\n",
              "      <th>Weight in kg</th>\n",
              "      <th>Min Weight in kg</th>\n",
              "      <th>Max Weight in kg</th>\n",
              "      <th>UNIT</th>\n",
              "      <th>VALUE</th>\n",
              "    </tr>\n",
              "  </thead>\n",
              "  <tbody>\n",
              "    <tr>\n",
              "      <th>0</th>\n",
              "      <td>AJA01C1</td>\n",
              "      <td>Cattle Price per Head</td>\n",
              "      <td>1976</td>\n",
              "      <td>1976</td>\n",
              "      <td>B200</td>\n",
              "      <td>Bullocks</td>\n",
              "      <td>200 249</td>\n",
              "      <td>200</td>\n",
              "      <td>249.0</td>\n",
              "      <td>Euro</td>\n",
              "      <td>228.073462</td>\n",
              "    </tr>\n",
              "    <tr>\n",
              "      <th>1</th>\n",
              "      <td>AJA01C1</td>\n",
              "      <td>Cattle Price per Head</td>\n",
              "      <td>1976</td>\n",
              "      <td>1976</td>\n",
              "      <td>B250</td>\n",
              "      <td>Bullocks</td>\n",
              "      <td>250 299</td>\n",
              "      <td>250</td>\n",
              "      <td>299.0</td>\n",
              "      <td>Euro</td>\n",
              "      <td>228.073462</td>\n",
              "    </tr>\n",
              "    <tr>\n",
              "      <th>2</th>\n",
              "      <td>AJA01C1</td>\n",
              "      <td>Cattle Price per Head</td>\n",
              "      <td>1976</td>\n",
              "      <td>1976</td>\n",
              "      <td>B300</td>\n",
              "      <td>Bullocks</td>\n",
              "      <td>300 349</td>\n",
              "      <td>300</td>\n",
              "      <td>349.0</td>\n",
              "      <td>Euro</td>\n",
              "      <td>238.290000</td>\n",
              "    </tr>\n",
              "    <tr>\n",
              "      <th>3</th>\n",
              "      <td>AJA01C1</td>\n",
              "      <td>Cattle Price per Head</td>\n",
              "      <td>1976</td>\n",
              "      <td>1976</td>\n",
              "      <td>B350</td>\n",
              "      <td>Bullocks</td>\n",
              "      <td>350 399</td>\n",
              "      <td>350</td>\n",
              "      <td>399.0</td>\n",
              "      <td>Euro</td>\n",
              "      <td>270.470000</td>\n",
              "    </tr>\n",
              "    <tr>\n",
              "      <th>4</th>\n",
              "      <td>AJA01C1</td>\n",
              "      <td>Cattle Price per Head</td>\n",
              "      <td>1976</td>\n",
              "      <td>1976</td>\n",
              "      <td>B400</td>\n",
              "      <td>Bullocks</td>\n",
              "      <td>400 449</td>\n",
              "      <td>400</td>\n",
              "      <td>449.0</td>\n",
              "      <td>Euro</td>\n",
              "      <td>302.430000</td>\n",
              "    </tr>\n",
              "    <tr>\n",
              "      <th>...</th>\n",
              "      <td>...</td>\n",
              "      <td>...</td>\n",
              "      <td>...</td>\n",
              "      <td>...</td>\n",
              "      <td>...</td>\n",
              "      <td>...</td>\n",
              "      <td>...</td>\n",
              "      <td>...</td>\n",
              "      <td>...</td>\n",
              "      <td>...</td>\n",
              "      <td>...</td>\n",
              "    </tr>\n",
              "    <tr>\n",
              "      <th>1283</th>\n",
              "      <td>AJA01C2</td>\n",
              "      <td>Cattle Price per 100 Kg</td>\n",
              "      <td>2021</td>\n",
              "      <td>2021</td>\n",
              "      <td>H250</td>\n",
              "      <td>Heifers</td>\n",
              "      <td>250 299</td>\n",
              "      <td>250</td>\n",
              "      <td>299.0</td>\n",
              "      <td>Euro</td>\n",
              "      <td>216.991177</td>\n",
              "    </tr>\n",
              "    <tr>\n",
              "      <th>1284</th>\n",
              "      <td>AJA01C2</td>\n",
              "      <td>Cattle Price per 100 Kg</td>\n",
              "      <td>2021</td>\n",
              "      <td>2021</td>\n",
              "      <td>H300</td>\n",
              "      <td>Heifers</td>\n",
              "      <td>300 349</td>\n",
              "      <td>300</td>\n",
              "      <td>349.0</td>\n",
              "      <td>Euro</td>\n",
              "      <td>215.245632</td>\n",
              "    </tr>\n",
              "    <tr>\n",
              "      <th>1285</th>\n",
              "      <td>AJA01C2</td>\n",
              "      <td>Cattle Price per 100 Kg</td>\n",
              "      <td>2021</td>\n",
              "      <td>2021</td>\n",
              "      <td>H350</td>\n",
              "      <td>Heifers</td>\n",
              "      <td>350 399</td>\n",
              "      <td>350</td>\n",
              "      <td>399.0</td>\n",
              "      <td>Euro</td>\n",
              "      <td>216.965995</td>\n",
              "    </tr>\n",
              "    <tr>\n",
              "      <th>1286</th>\n",
              "      <td>AJA01C2</td>\n",
              "      <td>Cattle Price per 100 Kg</td>\n",
              "      <td>2021</td>\n",
              "      <td>2021</td>\n",
              "      <td>H400</td>\n",
              "      <td>Heifers</td>\n",
              "      <td>400 449</td>\n",
              "      <td>400</td>\n",
              "      <td>449.0</td>\n",
              "      <td>Euro</td>\n",
              "      <td>216.796269</td>\n",
              "    </tr>\n",
              "    <tr>\n",
              "      <th>1287</th>\n",
              "      <td>AJA01C2</td>\n",
              "      <td>Cattle Price per 100 Kg</td>\n",
              "      <td>2021</td>\n",
              "      <td>2021</td>\n",
              "      <td>SCOW</td>\n",
              "      <td>Bullocks</td>\n",
              "      <td>550</td>\n",
              "      <td>550</td>\n",
              "      <td>NaN</td>\n",
              "      <td>Euro</td>\n",
              "      <td>228.073462</td>\n",
              "    </tr>\n",
              "  </tbody>\n",
              "</table>\n",
              "<p>1288 rows × 11 columns</p>\n",
              "</div>\n",
              "      <button class=\"colab-df-convert\" onclick=\"convertToInteractive('df-0914266c-63c5-4c4d-b119-8fba7f8dc84b')\"\n",
              "              title=\"Convert this dataframe to an interactive table.\"\n",
              "              style=\"display:none;\">\n",
              "        \n",
              "  <svg xmlns=\"http://www.w3.org/2000/svg\" height=\"24px\"viewBox=\"0 0 24 24\"\n",
              "       width=\"24px\">\n",
              "    <path d=\"M0 0h24v24H0V0z\" fill=\"none\"/>\n",
              "    <path d=\"M18.56 5.44l.94 2.06.94-2.06 2.06-.94-2.06-.94-.94-2.06-.94 2.06-2.06.94zm-11 1L8.5 8.5l.94-2.06 2.06-.94-2.06-.94L8.5 2.5l-.94 2.06-2.06.94zm10 10l.94 2.06.94-2.06 2.06-.94-2.06-.94-.94-2.06-.94 2.06-2.06.94z\"/><path d=\"M17.41 7.96l-1.37-1.37c-.4-.4-.92-.59-1.43-.59-.52 0-1.04.2-1.43.59L10.3 9.45l-7.72 7.72c-.78.78-.78 2.05 0 2.83L4 21.41c.39.39.9.59 1.41.59.51 0 1.02-.2 1.41-.59l7.78-7.78 2.81-2.81c.8-.78.8-2.07 0-2.86zM5.41 20L4 18.59l7.72-7.72 1.47 1.35L5.41 20z\"/>\n",
              "  </svg>\n",
              "      </button>\n",
              "      \n",
              "  <style>\n",
              "    .colab-df-container {\n",
              "      display:flex;\n",
              "      flex-wrap:wrap;\n",
              "      gap: 12px;\n",
              "    }\n",
              "\n",
              "    .colab-df-convert {\n",
              "      background-color: #E8F0FE;\n",
              "      border: none;\n",
              "      border-radius: 50%;\n",
              "      cursor: pointer;\n",
              "      display: none;\n",
              "      fill: #1967D2;\n",
              "      height: 32px;\n",
              "      padding: 0 0 0 0;\n",
              "      width: 32px;\n",
              "    }\n",
              "\n",
              "    .colab-df-convert:hover {\n",
              "      background-color: #E2EBFA;\n",
              "      box-shadow: 0px 1px 2px rgba(60, 64, 67, 0.3), 0px 1px 3px 1px rgba(60, 64, 67, 0.15);\n",
              "      fill: #174EA6;\n",
              "    }\n",
              "\n",
              "    [theme=dark] .colab-df-convert {\n",
              "      background-color: #3B4455;\n",
              "      fill: #D2E3FC;\n",
              "    }\n",
              "\n",
              "    [theme=dark] .colab-df-convert:hover {\n",
              "      background-color: #434B5C;\n",
              "      box-shadow: 0px 1px 3px 1px rgba(0, 0, 0, 0.15);\n",
              "      filter: drop-shadow(0px 1px 2px rgba(0, 0, 0, 0.3));\n",
              "      fill: #FFFFFF;\n",
              "    }\n",
              "  </style>\n",
              "\n",
              "      <script>\n",
              "        const buttonEl =\n",
              "          document.querySelector('#df-0914266c-63c5-4c4d-b119-8fba7f8dc84b button.colab-df-convert');\n",
              "        buttonEl.style.display =\n",
              "          google.colab.kernel.accessAllowed ? 'block' : 'none';\n",
              "\n",
              "        async function convertToInteractive(key) {\n",
              "          const element = document.querySelector('#df-0914266c-63c5-4c4d-b119-8fba7f8dc84b');\n",
              "          const dataTable =\n",
              "            await google.colab.kernel.invokeFunction('convertToInteractive',\n",
              "                                                     [key], {});\n",
              "          if (!dataTable) return;\n",
              "\n",
              "          const docLinkHtml = 'Like what you see? Visit the ' +\n",
              "            '<a target=\"_blank\" href=https://colab.research.google.com/notebooks/data_table.ipynb>data table notebook</a>'\n",
              "            + ' to learn more about interactive tables.';\n",
              "          element.innerHTML = '';\n",
              "          dataTable['output_type'] = 'display_data';\n",
              "          await google.colab.output.renderOutput(dataTable, element);\n",
              "          const docLink = document.createElement('div');\n",
              "          docLink.innerHTML = docLinkHtml;\n",
              "          element.appendChild(docLink);\n",
              "        }\n",
              "      </script>\n",
              "    </div>\n",
              "  </div>\n",
              "  "
            ]
          },
          "metadata": {},
          "execution_count": 355
        }
      ],
      "source": [
        "data1"
      ]
    },
    {
      "cell_type": "code",
      "source": [
        "data1 = data1.dropna(axis = 0)"
      ],
      "metadata": {
        "id": "EAZXcHU7ScEQ"
      },
      "execution_count": 356,
      "outputs": []
    },
    {
      "cell_type": "code",
      "execution_count": 357,
      "metadata": {
        "colab": {
          "base_uri": "https://localhost:8080/"
        },
        "id": "Ty0g9xQ-Z_Rp",
        "outputId": "3aa3a9e1-17a5-4bb5-c62f-a964ca4e4c45"
      },
      "outputs": [
        {
          "output_type": "execute_result",
          "data": {
            "text/plain": [
              "numpy.ndarray"
            ]
          },
          "metadata": {},
          "execution_count": 357
        }
      ],
      "source": [
        "type(df['Max Weight in kg'].values)"
      ]
    },
    {
      "cell_type": "code",
      "source": [
        "df.dropna(inplace=True,axis=0)"
      ],
      "metadata": {
        "id": "QWpHs-bbNBnz"
      },
      "execution_count": 358,
      "outputs": []
    },
    {
      "cell_type": "code",
      "source": [
        "df"
      ],
      "metadata": {
        "colab": {
          "base_uri": "https://localhost:8080/",
          "height": 676
        },
        "id": "v9pz6yoVTo8F",
        "outputId": "2705749e-a4f0-4e43-e34a-a93f6729464b"
      },
      "execution_count": 359,
      "outputs": [
        {
          "output_type": "execute_result",
          "data": {
            "text/plain": [
              "     STATISTIC CODE                Statistic  TLIST(A1)  Year C01782V02140  \\\n",
              "0           AJA01C1    Cattle Price per Head       1976  1976         B200   \n",
              "1           AJA01C1    Cattle Price per Head       1976  1976         B250   \n",
              "2           AJA01C1    Cattle Price per Head       1976  1976         B300   \n",
              "3           AJA01C1    Cattle Price per Head       1976  1976         B350   \n",
              "4           AJA01C1    Cattle Price per Head       1976  1976         B400   \n",
              "...             ...                      ...        ...   ...          ...   \n",
              "1282        AJA01C2  Cattle Price per 100 Kg       2021  2021         H200   \n",
              "1283        AJA01C2  Cattle Price per 100 Kg       2021  2021         H250   \n",
              "1284        AJA01C2  Cattle Price per 100 Kg       2021  2021         H300   \n",
              "1285        AJA01C2  Cattle Price per 100 Kg       2021  2021         H350   \n",
              "1286        AJA01C2  Cattle Price per 100 Kg       2021  2021         H400   \n",
              "\n",
              "     Type of Cattle Weight in kg Min Weight in kg Max Weight in kg  UNIT  \\\n",
              "0          Bullocks    200 249                200            249    Euro   \n",
              "1          Bullocks    250 299                250            299    Euro   \n",
              "2          Bullocks    300 349                300            349    Euro   \n",
              "3          Bullocks    350 399                350            399    Euro   \n",
              "4          Bullocks    400 449                400            449    Euro   \n",
              "...             ...          ...              ...              ...   ...   \n",
              "1282        Heifers    200 249                200            249    Euro   \n",
              "1283        Heifers    250 299                250            299    Euro   \n",
              "1284        Heifers    300 349                300            349    Euro   \n",
              "1285        Heifers    350 399                350            399    Euro   \n",
              "1286        Heifers    400 449                400            449    Euro   \n",
              "\n",
              "           VALUE  \n",
              "0     228.073462  \n",
              "1     228.073462  \n",
              "2     238.290000  \n",
              "3     270.470000  \n",
              "4     302.430000  \n",
              "...          ...  \n",
              "1282  222.738691  \n",
              "1283  216.991177  \n",
              "1284  215.245632  \n",
              "1285  216.965995  \n",
              "1286  216.796269  \n",
              "\n",
              "[1196 rows x 11 columns]"
            ],
            "text/html": [
              "\n",
              "  <div id=\"df-8ce6d055-791b-4239-8b7c-944d1a171cca\">\n",
              "    <div class=\"colab-df-container\">\n",
              "      <div>\n",
              "<style scoped>\n",
              "    .dataframe tbody tr th:only-of-type {\n",
              "        vertical-align: middle;\n",
              "    }\n",
              "\n",
              "    .dataframe tbody tr th {\n",
              "        vertical-align: top;\n",
              "    }\n",
              "\n",
              "    .dataframe thead th {\n",
              "        text-align: right;\n",
              "    }\n",
              "</style>\n",
              "<table border=\"1\" class=\"dataframe\">\n",
              "  <thead>\n",
              "    <tr style=\"text-align: right;\">\n",
              "      <th></th>\n",
              "      <th>STATISTIC CODE</th>\n",
              "      <th>Statistic</th>\n",
              "      <th>TLIST(A1)</th>\n",
              "      <th>Year</th>\n",
              "      <th>C01782V02140</th>\n",
              "      <th>Type of Cattle</th>\n",
              "      <th>Weight in kg</th>\n",
              "      <th>Min Weight in kg</th>\n",
              "      <th>Max Weight in kg</th>\n",
              "      <th>UNIT</th>\n",
              "      <th>VALUE</th>\n",
              "    </tr>\n",
              "  </thead>\n",
              "  <tbody>\n",
              "    <tr>\n",
              "      <th>0</th>\n",
              "      <td>AJA01C1</td>\n",
              "      <td>Cattle Price per Head</td>\n",
              "      <td>1976</td>\n",
              "      <td>1976</td>\n",
              "      <td>B200</td>\n",
              "      <td>Bullocks</td>\n",
              "      <td>200 249</td>\n",
              "      <td>200</td>\n",
              "      <td>249</td>\n",
              "      <td>Euro</td>\n",
              "      <td>228.073462</td>\n",
              "    </tr>\n",
              "    <tr>\n",
              "      <th>1</th>\n",
              "      <td>AJA01C1</td>\n",
              "      <td>Cattle Price per Head</td>\n",
              "      <td>1976</td>\n",
              "      <td>1976</td>\n",
              "      <td>B250</td>\n",
              "      <td>Bullocks</td>\n",
              "      <td>250 299</td>\n",
              "      <td>250</td>\n",
              "      <td>299</td>\n",
              "      <td>Euro</td>\n",
              "      <td>228.073462</td>\n",
              "    </tr>\n",
              "    <tr>\n",
              "      <th>2</th>\n",
              "      <td>AJA01C1</td>\n",
              "      <td>Cattle Price per Head</td>\n",
              "      <td>1976</td>\n",
              "      <td>1976</td>\n",
              "      <td>B300</td>\n",
              "      <td>Bullocks</td>\n",
              "      <td>300 349</td>\n",
              "      <td>300</td>\n",
              "      <td>349</td>\n",
              "      <td>Euro</td>\n",
              "      <td>238.290000</td>\n",
              "    </tr>\n",
              "    <tr>\n",
              "      <th>3</th>\n",
              "      <td>AJA01C1</td>\n",
              "      <td>Cattle Price per Head</td>\n",
              "      <td>1976</td>\n",
              "      <td>1976</td>\n",
              "      <td>B350</td>\n",
              "      <td>Bullocks</td>\n",
              "      <td>350 399</td>\n",
              "      <td>350</td>\n",
              "      <td>399</td>\n",
              "      <td>Euro</td>\n",
              "      <td>270.470000</td>\n",
              "    </tr>\n",
              "    <tr>\n",
              "      <th>4</th>\n",
              "      <td>AJA01C1</td>\n",
              "      <td>Cattle Price per Head</td>\n",
              "      <td>1976</td>\n",
              "      <td>1976</td>\n",
              "      <td>B400</td>\n",
              "      <td>Bullocks</td>\n",
              "      <td>400 449</td>\n",
              "      <td>400</td>\n",
              "      <td>449</td>\n",
              "      <td>Euro</td>\n",
              "      <td>302.430000</td>\n",
              "    </tr>\n",
              "    <tr>\n",
              "      <th>...</th>\n",
              "      <td>...</td>\n",
              "      <td>...</td>\n",
              "      <td>...</td>\n",
              "      <td>...</td>\n",
              "      <td>...</td>\n",
              "      <td>...</td>\n",
              "      <td>...</td>\n",
              "      <td>...</td>\n",
              "      <td>...</td>\n",
              "      <td>...</td>\n",
              "      <td>...</td>\n",
              "    </tr>\n",
              "    <tr>\n",
              "      <th>1282</th>\n",
              "      <td>AJA01C2</td>\n",
              "      <td>Cattle Price per 100 Kg</td>\n",
              "      <td>2021</td>\n",
              "      <td>2021</td>\n",
              "      <td>H200</td>\n",
              "      <td>Heifers</td>\n",
              "      <td>200 249</td>\n",
              "      <td>200</td>\n",
              "      <td>249</td>\n",
              "      <td>Euro</td>\n",
              "      <td>222.738691</td>\n",
              "    </tr>\n",
              "    <tr>\n",
              "      <th>1283</th>\n",
              "      <td>AJA01C2</td>\n",
              "      <td>Cattle Price per 100 Kg</td>\n",
              "      <td>2021</td>\n",
              "      <td>2021</td>\n",
              "      <td>H250</td>\n",
              "      <td>Heifers</td>\n",
              "      <td>250 299</td>\n",
              "      <td>250</td>\n",
              "      <td>299</td>\n",
              "      <td>Euro</td>\n",
              "      <td>216.991177</td>\n",
              "    </tr>\n",
              "    <tr>\n",
              "      <th>1284</th>\n",
              "      <td>AJA01C2</td>\n",
              "      <td>Cattle Price per 100 Kg</td>\n",
              "      <td>2021</td>\n",
              "      <td>2021</td>\n",
              "      <td>H300</td>\n",
              "      <td>Heifers</td>\n",
              "      <td>300 349</td>\n",
              "      <td>300</td>\n",
              "      <td>349</td>\n",
              "      <td>Euro</td>\n",
              "      <td>215.245632</td>\n",
              "    </tr>\n",
              "    <tr>\n",
              "      <th>1285</th>\n",
              "      <td>AJA01C2</td>\n",
              "      <td>Cattle Price per 100 Kg</td>\n",
              "      <td>2021</td>\n",
              "      <td>2021</td>\n",
              "      <td>H350</td>\n",
              "      <td>Heifers</td>\n",
              "      <td>350 399</td>\n",
              "      <td>350</td>\n",
              "      <td>399</td>\n",
              "      <td>Euro</td>\n",
              "      <td>216.965995</td>\n",
              "    </tr>\n",
              "    <tr>\n",
              "      <th>1286</th>\n",
              "      <td>AJA01C2</td>\n",
              "      <td>Cattle Price per 100 Kg</td>\n",
              "      <td>2021</td>\n",
              "      <td>2021</td>\n",
              "      <td>H400</td>\n",
              "      <td>Heifers</td>\n",
              "      <td>400 449</td>\n",
              "      <td>400</td>\n",
              "      <td>449</td>\n",
              "      <td>Euro</td>\n",
              "      <td>216.796269</td>\n",
              "    </tr>\n",
              "  </tbody>\n",
              "</table>\n",
              "<p>1196 rows × 11 columns</p>\n",
              "</div>\n",
              "      <button class=\"colab-df-convert\" onclick=\"convertToInteractive('df-8ce6d055-791b-4239-8b7c-944d1a171cca')\"\n",
              "              title=\"Convert this dataframe to an interactive table.\"\n",
              "              style=\"display:none;\">\n",
              "        \n",
              "  <svg xmlns=\"http://www.w3.org/2000/svg\" height=\"24px\"viewBox=\"0 0 24 24\"\n",
              "       width=\"24px\">\n",
              "    <path d=\"M0 0h24v24H0V0z\" fill=\"none\"/>\n",
              "    <path d=\"M18.56 5.44l.94 2.06.94-2.06 2.06-.94-2.06-.94-.94-2.06-.94 2.06-2.06.94zm-11 1L8.5 8.5l.94-2.06 2.06-.94-2.06-.94L8.5 2.5l-.94 2.06-2.06.94zm10 10l.94 2.06.94-2.06 2.06-.94-2.06-.94-.94-2.06-.94 2.06-2.06.94z\"/><path d=\"M17.41 7.96l-1.37-1.37c-.4-.4-.92-.59-1.43-.59-.52 0-1.04.2-1.43.59L10.3 9.45l-7.72 7.72c-.78.78-.78 2.05 0 2.83L4 21.41c.39.39.9.59 1.41.59.51 0 1.02-.2 1.41-.59l7.78-7.78 2.81-2.81c.8-.78.8-2.07 0-2.86zM5.41 20L4 18.59l7.72-7.72 1.47 1.35L5.41 20z\"/>\n",
              "  </svg>\n",
              "      </button>\n",
              "      \n",
              "  <style>\n",
              "    .colab-df-container {\n",
              "      display:flex;\n",
              "      flex-wrap:wrap;\n",
              "      gap: 12px;\n",
              "    }\n",
              "\n",
              "    .colab-df-convert {\n",
              "      background-color: #E8F0FE;\n",
              "      border: none;\n",
              "      border-radius: 50%;\n",
              "      cursor: pointer;\n",
              "      display: none;\n",
              "      fill: #1967D2;\n",
              "      height: 32px;\n",
              "      padding: 0 0 0 0;\n",
              "      width: 32px;\n",
              "    }\n",
              "\n",
              "    .colab-df-convert:hover {\n",
              "      background-color: #E2EBFA;\n",
              "      box-shadow: 0px 1px 2px rgba(60, 64, 67, 0.3), 0px 1px 3px 1px rgba(60, 64, 67, 0.15);\n",
              "      fill: #174EA6;\n",
              "    }\n",
              "\n",
              "    [theme=dark] .colab-df-convert {\n",
              "      background-color: #3B4455;\n",
              "      fill: #D2E3FC;\n",
              "    }\n",
              "\n",
              "    [theme=dark] .colab-df-convert:hover {\n",
              "      background-color: #434B5C;\n",
              "      box-shadow: 0px 1px 3px 1px rgba(0, 0, 0, 0.15);\n",
              "      filter: drop-shadow(0px 1px 2px rgba(0, 0, 0, 0.3));\n",
              "      fill: #FFFFFF;\n",
              "    }\n",
              "  </style>\n",
              "\n",
              "      <script>\n",
              "        const buttonEl =\n",
              "          document.querySelector('#df-8ce6d055-791b-4239-8b7c-944d1a171cca button.colab-df-convert');\n",
              "        buttonEl.style.display =\n",
              "          google.colab.kernel.accessAllowed ? 'block' : 'none';\n",
              "\n",
              "        async function convertToInteractive(key) {\n",
              "          const element = document.querySelector('#df-8ce6d055-791b-4239-8b7c-944d1a171cca');\n",
              "          const dataTable =\n",
              "            await google.colab.kernel.invokeFunction('convertToInteractive',\n",
              "                                                     [key], {});\n",
              "          if (!dataTable) return;\n",
              "\n",
              "          const docLinkHtml = 'Like what you see? Visit the ' +\n",
              "            '<a target=\"_blank\" href=https://colab.research.google.com/notebooks/data_table.ipynb>data table notebook</a>'\n",
              "            + ' to learn more about interactive tables.';\n",
              "          element.innerHTML = '';\n",
              "          dataTable['output_type'] = 'display_data';\n",
              "          await google.colab.output.renderOutput(dataTable, element);\n",
              "          const docLink = document.createElement('div');\n",
              "          docLink.innerHTML = docLinkHtml;\n",
              "          element.appendChild(docLink);\n",
              "        }\n",
              "      </script>\n",
              "    </div>\n",
              "  </div>\n",
              "  "
            ]
          },
          "metadata": {},
          "execution_count": 359
        }
      ]
    },
    {
      "cell_type": "code",
      "source": [
        "import sqlite3\n",
        "import sqlalchemy"
      ],
      "metadata": {
        "id": "lnc7a9UnT35L"
      },
      "execution_count": 360,
      "outputs": []
    },
    {
      "cell_type": "code",
      "source": [
        "engine = sqlalchemy.create_engine('sqlite:///steer_data.db')"
      ],
      "metadata": {
        "id": "h-g1KxAFtXas"
      },
      "execution_count": 361,
      "outputs": []
    },
    {
      "cell_type": "code",
      "source": [
        "df.to_sql('steer_statistics_table', engine, if_exists='replace', index=False) "
      ],
      "metadata": {
        "id": "k_ox06qXq6HR"
      },
      "execution_count": 362,
      "outputs": []
    },
    {
      "cell_type": "code",
      "source": [
        "pd.read_sql('steer_statistics_table', engine)"
      ],
      "metadata": {
        "colab": {
          "base_uri": "https://localhost:8080/",
          "height": 676
        },
        "id": "hTWbrEiyrfT1",
        "outputId": "efcc09b2-9bd6-45f2-91cc-5d2a67b2408f"
      },
      "execution_count": 363,
      "outputs": [
        {
          "output_type": "execute_result",
          "data": {
            "text/plain": [
              "     STATISTIC CODE                Statistic  TLIST(A1)  Year C01782V02140  \\\n",
              "0           AJA01C1    Cattle Price per Head       1976  1976         B200   \n",
              "1           AJA01C1    Cattle Price per Head       1976  1976         B250   \n",
              "2           AJA01C1    Cattle Price per Head       1976  1976         B300   \n",
              "3           AJA01C1    Cattle Price per Head       1976  1976         B350   \n",
              "4           AJA01C1    Cattle Price per Head       1976  1976         B400   \n",
              "...             ...                      ...        ...   ...          ...   \n",
              "1191        AJA01C2  Cattle Price per 100 Kg       2021  2021         H200   \n",
              "1192        AJA01C2  Cattle Price per 100 Kg       2021  2021         H250   \n",
              "1193        AJA01C2  Cattle Price per 100 Kg       2021  2021         H300   \n",
              "1194        AJA01C2  Cattle Price per 100 Kg       2021  2021         H350   \n",
              "1195        AJA01C2  Cattle Price per 100 Kg       2021  2021         H400   \n",
              "\n",
              "     Type of Cattle Weight in kg Min Weight in kg Max Weight in kg  UNIT  \\\n",
              "0          Bullocks    200 249                200            249    Euro   \n",
              "1          Bullocks    250 299                250            299    Euro   \n",
              "2          Bullocks    300 349                300            349    Euro   \n",
              "3          Bullocks    350 399                350            399    Euro   \n",
              "4          Bullocks    400 449                400            449    Euro   \n",
              "...             ...          ...              ...              ...   ...   \n",
              "1191        Heifers    200 249                200            249    Euro   \n",
              "1192        Heifers    250 299                250            299    Euro   \n",
              "1193        Heifers    300 349                300            349    Euro   \n",
              "1194        Heifers    350 399                350            399    Euro   \n",
              "1195        Heifers    400 449                400            449    Euro   \n",
              "\n",
              "           VALUE  \n",
              "0     228.073462  \n",
              "1     228.073462  \n",
              "2     238.290000  \n",
              "3     270.470000  \n",
              "4     302.430000  \n",
              "...          ...  \n",
              "1191  222.738691  \n",
              "1192  216.991177  \n",
              "1193  215.245632  \n",
              "1194  216.965995  \n",
              "1195  216.796269  \n",
              "\n",
              "[1196 rows x 11 columns]"
            ],
            "text/html": [
              "\n",
              "  <div id=\"df-0cbe6f18-75d6-4196-8741-928a0db33f2b\">\n",
              "    <div class=\"colab-df-container\">\n",
              "      <div>\n",
              "<style scoped>\n",
              "    .dataframe tbody tr th:only-of-type {\n",
              "        vertical-align: middle;\n",
              "    }\n",
              "\n",
              "    .dataframe tbody tr th {\n",
              "        vertical-align: top;\n",
              "    }\n",
              "\n",
              "    .dataframe thead th {\n",
              "        text-align: right;\n",
              "    }\n",
              "</style>\n",
              "<table border=\"1\" class=\"dataframe\">\n",
              "  <thead>\n",
              "    <tr style=\"text-align: right;\">\n",
              "      <th></th>\n",
              "      <th>STATISTIC CODE</th>\n",
              "      <th>Statistic</th>\n",
              "      <th>TLIST(A1)</th>\n",
              "      <th>Year</th>\n",
              "      <th>C01782V02140</th>\n",
              "      <th>Type of Cattle</th>\n",
              "      <th>Weight in kg</th>\n",
              "      <th>Min Weight in kg</th>\n",
              "      <th>Max Weight in kg</th>\n",
              "      <th>UNIT</th>\n",
              "      <th>VALUE</th>\n",
              "    </tr>\n",
              "  </thead>\n",
              "  <tbody>\n",
              "    <tr>\n",
              "      <th>0</th>\n",
              "      <td>AJA01C1</td>\n",
              "      <td>Cattle Price per Head</td>\n",
              "      <td>1976</td>\n",
              "      <td>1976</td>\n",
              "      <td>B200</td>\n",
              "      <td>Bullocks</td>\n",
              "      <td>200 249</td>\n",
              "      <td>200</td>\n",
              "      <td>249</td>\n",
              "      <td>Euro</td>\n",
              "      <td>228.073462</td>\n",
              "    </tr>\n",
              "    <tr>\n",
              "      <th>1</th>\n",
              "      <td>AJA01C1</td>\n",
              "      <td>Cattle Price per Head</td>\n",
              "      <td>1976</td>\n",
              "      <td>1976</td>\n",
              "      <td>B250</td>\n",
              "      <td>Bullocks</td>\n",
              "      <td>250 299</td>\n",
              "      <td>250</td>\n",
              "      <td>299</td>\n",
              "      <td>Euro</td>\n",
              "      <td>228.073462</td>\n",
              "    </tr>\n",
              "    <tr>\n",
              "      <th>2</th>\n",
              "      <td>AJA01C1</td>\n",
              "      <td>Cattle Price per Head</td>\n",
              "      <td>1976</td>\n",
              "      <td>1976</td>\n",
              "      <td>B300</td>\n",
              "      <td>Bullocks</td>\n",
              "      <td>300 349</td>\n",
              "      <td>300</td>\n",
              "      <td>349</td>\n",
              "      <td>Euro</td>\n",
              "      <td>238.290000</td>\n",
              "    </tr>\n",
              "    <tr>\n",
              "      <th>3</th>\n",
              "      <td>AJA01C1</td>\n",
              "      <td>Cattle Price per Head</td>\n",
              "      <td>1976</td>\n",
              "      <td>1976</td>\n",
              "      <td>B350</td>\n",
              "      <td>Bullocks</td>\n",
              "      <td>350 399</td>\n",
              "      <td>350</td>\n",
              "      <td>399</td>\n",
              "      <td>Euro</td>\n",
              "      <td>270.470000</td>\n",
              "    </tr>\n",
              "    <tr>\n",
              "      <th>4</th>\n",
              "      <td>AJA01C1</td>\n",
              "      <td>Cattle Price per Head</td>\n",
              "      <td>1976</td>\n",
              "      <td>1976</td>\n",
              "      <td>B400</td>\n",
              "      <td>Bullocks</td>\n",
              "      <td>400 449</td>\n",
              "      <td>400</td>\n",
              "      <td>449</td>\n",
              "      <td>Euro</td>\n",
              "      <td>302.430000</td>\n",
              "    </tr>\n",
              "    <tr>\n",
              "      <th>...</th>\n",
              "      <td>...</td>\n",
              "      <td>...</td>\n",
              "      <td>...</td>\n",
              "      <td>...</td>\n",
              "      <td>...</td>\n",
              "      <td>...</td>\n",
              "      <td>...</td>\n",
              "      <td>...</td>\n",
              "      <td>...</td>\n",
              "      <td>...</td>\n",
              "      <td>...</td>\n",
              "    </tr>\n",
              "    <tr>\n",
              "      <th>1191</th>\n",
              "      <td>AJA01C2</td>\n",
              "      <td>Cattle Price per 100 Kg</td>\n",
              "      <td>2021</td>\n",
              "      <td>2021</td>\n",
              "      <td>H200</td>\n",
              "      <td>Heifers</td>\n",
              "      <td>200 249</td>\n",
              "      <td>200</td>\n",
              "      <td>249</td>\n",
              "      <td>Euro</td>\n",
              "      <td>222.738691</td>\n",
              "    </tr>\n",
              "    <tr>\n",
              "      <th>1192</th>\n",
              "      <td>AJA01C2</td>\n",
              "      <td>Cattle Price per 100 Kg</td>\n",
              "      <td>2021</td>\n",
              "      <td>2021</td>\n",
              "      <td>H250</td>\n",
              "      <td>Heifers</td>\n",
              "      <td>250 299</td>\n",
              "      <td>250</td>\n",
              "      <td>299</td>\n",
              "      <td>Euro</td>\n",
              "      <td>216.991177</td>\n",
              "    </tr>\n",
              "    <tr>\n",
              "      <th>1193</th>\n",
              "      <td>AJA01C2</td>\n",
              "      <td>Cattle Price per 100 Kg</td>\n",
              "      <td>2021</td>\n",
              "      <td>2021</td>\n",
              "      <td>H300</td>\n",
              "      <td>Heifers</td>\n",
              "      <td>300 349</td>\n",
              "      <td>300</td>\n",
              "      <td>349</td>\n",
              "      <td>Euro</td>\n",
              "      <td>215.245632</td>\n",
              "    </tr>\n",
              "    <tr>\n",
              "      <th>1194</th>\n",
              "      <td>AJA01C2</td>\n",
              "      <td>Cattle Price per 100 Kg</td>\n",
              "      <td>2021</td>\n",
              "      <td>2021</td>\n",
              "      <td>H350</td>\n",
              "      <td>Heifers</td>\n",
              "      <td>350 399</td>\n",
              "      <td>350</td>\n",
              "      <td>399</td>\n",
              "      <td>Euro</td>\n",
              "      <td>216.965995</td>\n",
              "    </tr>\n",
              "    <tr>\n",
              "      <th>1195</th>\n",
              "      <td>AJA01C2</td>\n",
              "      <td>Cattle Price per 100 Kg</td>\n",
              "      <td>2021</td>\n",
              "      <td>2021</td>\n",
              "      <td>H400</td>\n",
              "      <td>Heifers</td>\n",
              "      <td>400 449</td>\n",
              "      <td>400</td>\n",
              "      <td>449</td>\n",
              "      <td>Euro</td>\n",
              "      <td>216.796269</td>\n",
              "    </tr>\n",
              "  </tbody>\n",
              "</table>\n",
              "<p>1196 rows × 11 columns</p>\n",
              "</div>\n",
              "      <button class=\"colab-df-convert\" onclick=\"convertToInteractive('df-0cbe6f18-75d6-4196-8741-928a0db33f2b')\"\n",
              "              title=\"Convert this dataframe to an interactive table.\"\n",
              "              style=\"display:none;\">\n",
              "        \n",
              "  <svg xmlns=\"http://www.w3.org/2000/svg\" height=\"24px\"viewBox=\"0 0 24 24\"\n",
              "       width=\"24px\">\n",
              "    <path d=\"M0 0h24v24H0V0z\" fill=\"none\"/>\n",
              "    <path d=\"M18.56 5.44l.94 2.06.94-2.06 2.06-.94-2.06-.94-.94-2.06-.94 2.06-2.06.94zm-11 1L8.5 8.5l.94-2.06 2.06-.94-2.06-.94L8.5 2.5l-.94 2.06-2.06.94zm10 10l.94 2.06.94-2.06 2.06-.94-2.06-.94-.94-2.06-.94 2.06-2.06.94z\"/><path d=\"M17.41 7.96l-1.37-1.37c-.4-.4-.92-.59-1.43-.59-.52 0-1.04.2-1.43.59L10.3 9.45l-7.72 7.72c-.78.78-.78 2.05 0 2.83L4 21.41c.39.39.9.59 1.41.59.51 0 1.02-.2 1.41-.59l7.78-7.78 2.81-2.81c.8-.78.8-2.07 0-2.86zM5.41 20L4 18.59l7.72-7.72 1.47 1.35L5.41 20z\"/>\n",
              "  </svg>\n",
              "      </button>\n",
              "      \n",
              "  <style>\n",
              "    .colab-df-container {\n",
              "      display:flex;\n",
              "      flex-wrap:wrap;\n",
              "      gap: 12px;\n",
              "    }\n",
              "\n",
              "    .colab-df-convert {\n",
              "      background-color: #E8F0FE;\n",
              "      border: none;\n",
              "      border-radius: 50%;\n",
              "      cursor: pointer;\n",
              "      display: none;\n",
              "      fill: #1967D2;\n",
              "      height: 32px;\n",
              "      padding: 0 0 0 0;\n",
              "      width: 32px;\n",
              "    }\n",
              "\n",
              "    .colab-df-convert:hover {\n",
              "      background-color: #E2EBFA;\n",
              "      box-shadow: 0px 1px 2px rgba(60, 64, 67, 0.3), 0px 1px 3px 1px rgba(60, 64, 67, 0.15);\n",
              "      fill: #174EA6;\n",
              "    }\n",
              "\n",
              "    [theme=dark] .colab-df-convert {\n",
              "      background-color: #3B4455;\n",
              "      fill: #D2E3FC;\n",
              "    }\n",
              "\n",
              "    [theme=dark] .colab-df-convert:hover {\n",
              "      background-color: #434B5C;\n",
              "      box-shadow: 0px 1px 3px 1px rgba(0, 0, 0, 0.15);\n",
              "      filter: drop-shadow(0px 1px 2px rgba(0, 0, 0, 0.3));\n",
              "      fill: #FFFFFF;\n",
              "    }\n",
              "  </style>\n",
              "\n",
              "      <script>\n",
              "        const buttonEl =\n",
              "          document.querySelector('#df-0cbe6f18-75d6-4196-8741-928a0db33f2b button.colab-df-convert');\n",
              "        buttonEl.style.display =\n",
              "          google.colab.kernel.accessAllowed ? 'block' : 'none';\n",
              "\n",
              "        async function convertToInteractive(key) {\n",
              "          const element = document.querySelector('#df-0cbe6f18-75d6-4196-8741-928a0db33f2b');\n",
              "          const dataTable =\n",
              "            await google.colab.kernel.invokeFunction('convertToInteractive',\n",
              "                                                     [key], {});\n",
              "          if (!dataTable) return;\n",
              "\n",
              "          const docLinkHtml = 'Like what you see? Visit the ' +\n",
              "            '<a target=\"_blank\" href=https://colab.research.google.com/notebooks/data_table.ipynb>data table notebook</a>'\n",
              "            + ' to learn more about interactive tables.';\n",
              "          element.innerHTML = '';\n",
              "          dataTable['output_type'] = 'display_data';\n",
              "          await google.colab.output.renderOutput(dataTable, element);\n",
              "          const docLink = document.createElement('div');\n",
              "          docLink.innerHTML = docLinkHtml;\n",
              "          element.appendChild(docLink);\n",
              "        }\n",
              "      </script>\n",
              "    </div>\n",
              "  </div>\n",
              "  "
            ]
          },
          "metadata": {},
          "execution_count": 363
        }
      ]
    },
    {
      "cell_type": "code",
      "source": [
        "#log_value = np.log(data1['VALUE'])\n",
        "#data1['Log Value'] = log_value\n",
        "#data1"
      ],
      "metadata": {
        "id": "Mb20BnvOuEqA"
      },
      "execution_count": 364,
      "outputs": []
    },
    {
      "cell_type": "code",
      "source": [
        "#sns.set()\n",
        "\n",
        "#fig, (ax1, ax2) = plt.subplots(1, 2, figsize =(10,4))\n",
        "#fig.tight_layout(pad  = 3.0)\n",
        "#ax1.scatter(x.iloc[:,0],y)\n",
        "#ax1.set_xlabel(\"Min Weight\")\n",
        "#ax1.set_ylabel(\"Price in Euros\")\n",
        "#ax1.set_title(\"Steer Price Data\")\n",
        "\n",
        "#ax2.scatter(x.iloc[:,1],y)\n",
        "#ax2.set_xlabel(\"Max Weight\")\n",
        "#ax2.set_ylabel(\"Price in Euros\")\n",
        "#ax2.set_title(\"Steer Price Data\")"
      ],
      "metadata": {
        "id": "D9VVnbOSAPVM"
      },
      "execution_count": null,
      "outputs": []
    },
    {
      "cell_type": "code",
      "source": [
        "#from sklearn.preprocessing import StandardScaler\n",
        "#value = np.log(y)\n",
        "#scaler = StandardScaler()\n",
        "#scaler.fit(x)\n",
        "#x_scaled = scaler.transform(x)\n",
        "#x_scaled"
      ],
      "metadata": {
        "id": "lXQf_Zi_AURt"
      },
      "execution_count": null,
      "outputs": []
    },
    {
      "cell_type": "code",
      "source": [
        "from sklearn.model_selection import train_test_split\n",
        "from sklearn.metrics import r2_score, mean_squared_error\n",
        "x_train,x_test,y_train,y_test=train_test_split(x, y,train_size=0.8, random_state=365)\n",
        "knn_reg = KNeighborsRegressor()\n",
        "knn_reg.fit(x_train,y_train)\n",
        "y_pred = knn_reg.predict(x_train)\n"
      ],
      "metadata": {
        "id": "8UwKoZyXAex7"
      },
      "execution_count": null,
      "outputs": []
    },
    {
      "cell_type": "code",
      "source": [
        "x = data1.iloc[:,7:9]\n",
        "y = data1['VALUE']"
      ],
      "metadata": {
        "id": "n8SMbC1OKw04"
      },
      "execution_count": 365,
      "outputs": []
    },
    {
      "cell_type": "code",
      "source": [
        "x"
      ],
      "metadata": {
        "colab": {
          "base_uri": "https://localhost:8080/",
          "height": 424
        },
        "id": "ERO92kXTNfzm",
        "outputId": "14941140-29cb-4fbb-c5cd-0b1d7df994b7"
      },
      "execution_count": 366,
      "outputs": [
        {
          "output_type": "execute_result",
          "data": {
            "text/plain": [
              "      Min Weight in kg  Max Weight in kg\n",
              "0                  200             249.0\n",
              "1                  250             299.0\n",
              "2                  300             349.0\n",
              "3                  350             399.0\n",
              "4                  400             449.0\n",
              "...                ...               ...\n",
              "1282               200             249.0\n",
              "1283               250             299.0\n",
              "1284               300             349.0\n",
              "1285               350             399.0\n",
              "1286               400             449.0\n",
              "\n",
              "[1104 rows x 2 columns]"
            ],
            "text/html": [
              "\n",
              "  <div id=\"df-5c884e40-1c05-4683-ae9d-0e540d9a2194\">\n",
              "    <div class=\"colab-df-container\">\n",
              "      <div>\n",
              "<style scoped>\n",
              "    .dataframe tbody tr th:only-of-type {\n",
              "        vertical-align: middle;\n",
              "    }\n",
              "\n",
              "    .dataframe tbody tr th {\n",
              "        vertical-align: top;\n",
              "    }\n",
              "\n",
              "    .dataframe thead th {\n",
              "        text-align: right;\n",
              "    }\n",
              "</style>\n",
              "<table border=\"1\" class=\"dataframe\">\n",
              "  <thead>\n",
              "    <tr style=\"text-align: right;\">\n",
              "      <th></th>\n",
              "      <th>Min Weight in kg</th>\n",
              "      <th>Max Weight in kg</th>\n",
              "    </tr>\n",
              "  </thead>\n",
              "  <tbody>\n",
              "    <tr>\n",
              "      <th>0</th>\n",
              "      <td>200</td>\n",
              "      <td>249.0</td>\n",
              "    </tr>\n",
              "    <tr>\n",
              "      <th>1</th>\n",
              "      <td>250</td>\n",
              "      <td>299.0</td>\n",
              "    </tr>\n",
              "    <tr>\n",
              "      <th>2</th>\n",
              "      <td>300</td>\n",
              "      <td>349.0</td>\n",
              "    </tr>\n",
              "    <tr>\n",
              "      <th>3</th>\n",
              "      <td>350</td>\n",
              "      <td>399.0</td>\n",
              "    </tr>\n",
              "    <tr>\n",
              "      <th>4</th>\n",
              "      <td>400</td>\n",
              "      <td>449.0</td>\n",
              "    </tr>\n",
              "    <tr>\n",
              "      <th>...</th>\n",
              "      <td>...</td>\n",
              "      <td>...</td>\n",
              "    </tr>\n",
              "    <tr>\n",
              "      <th>1282</th>\n",
              "      <td>200</td>\n",
              "      <td>249.0</td>\n",
              "    </tr>\n",
              "    <tr>\n",
              "      <th>1283</th>\n",
              "      <td>250</td>\n",
              "      <td>299.0</td>\n",
              "    </tr>\n",
              "    <tr>\n",
              "      <th>1284</th>\n",
              "      <td>300</td>\n",
              "      <td>349.0</td>\n",
              "    </tr>\n",
              "    <tr>\n",
              "      <th>1285</th>\n",
              "      <td>350</td>\n",
              "      <td>399.0</td>\n",
              "    </tr>\n",
              "    <tr>\n",
              "      <th>1286</th>\n",
              "      <td>400</td>\n",
              "      <td>449.0</td>\n",
              "    </tr>\n",
              "  </tbody>\n",
              "</table>\n",
              "<p>1104 rows × 2 columns</p>\n",
              "</div>\n",
              "      <button class=\"colab-df-convert\" onclick=\"convertToInteractive('df-5c884e40-1c05-4683-ae9d-0e540d9a2194')\"\n",
              "              title=\"Convert this dataframe to an interactive table.\"\n",
              "              style=\"display:none;\">\n",
              "        \n",
              "  <svg xmlns=\"http://www.w3.org/2000/svg\" height=\"24px\"viewBox=\"0 0 24 24\"\n",
              "       width=\"24px\">\n",
              "    <path d=\"M0 0h24v24H0V0z\" fill=\"none\"/>\n",
              "    <path d=\"M18.56 5.44l.94 2.06.94-2.06 2.06-.94-2.06-.94-.94-2.06-.94 2.06-2.06.94zm-11 1L8.5 8.5l.94-2.06 2.06-.94-2.06-.94L8.5 2.5l-.94 2.06-2.06.94zm10 10l.94 2.06.94-2.06 2.06-.94-2.06-.94-.94-2.06-.94 2.06-2.06.94z\"/><path d=\"M17.41 7.96l-1.37-1.37c-.4-.4-.92-.59-1.43-.59-.52 0-1.04.2-1.43.59L10.3 9.45l-7.72 7.72c-.78.78-.78 2.05 0 2.83L4 21.41c.39.39.9.59 1.41.59.51 0 1.02-.2 1.41-.59l7.78-7.78 2.81-2.81c.8-.78.8-2.07 0-2.86zM5.41 20L4 18.59l7.72-7.72 1.47 1.35L5.41 20z\"/>\n",
              "  </svg>\n",
              "      </button>\n",
              "      \n",
              "  <style>\n",
              "    .colab-df-container {\n",
              "      display:flex;\n",
              "      flex-wrap:wrap;\n",
              "      gap: 12px;\n",
              "    }\n",
              "\n",
              "    .colab-df-convert {\n",
              "      background-color: #E8F0FE;\n",
              "      border: none;\n",
              "      border-radius: 50%;\n",
              "      cursor: pointer;\n",
              "      display: none;\n",
              "      fill: #1967D2;\n",
              "      height: 32px;\n",
              "      padding: 0 0 0 0;\n",
              "      width: 32px;\n",
              "    }\n",
              "\n",
              "    .colab-df-convert:hover {\n",
              "      background-color: #E2EBFA;\n",
              "      box-shadow: 0px 1px 2px rgba(60, 64, 67, 0.3), 0px 1px 3px 1px rgba(60, 64, 67, 0.15);\n",
              "      fill: #174EA6;\n",
              "    }\n",
              "\n",
              "    [theme=dark] .colab-df-convert {\n",
              "      background-color: #3B4455;\n",
              "      fill: #D2E3FC;\n",
              "    }\n",
              "\n",
              "    [theme=dark] .colab-df-convert:hover {\n",
              "      background-color: #434B5C;\n",
              "      box-shadow: 0px 1px 3px 1px rgba(0, 0, 0, 0.15);\n",
              "      filter: drop-shadow(0px 1px 2px rgba(0, 0, 0, 0.3));\n",
              "      fill: #FFFFFF;\n",
              "    }\n",
              "  </style>\n",
              "\n",
              "      <script>\n",
              "        const buttonEl =\n",
              "          document.querySelector('#df-5c884e40-1c05-4683-ae9d-0e540d9a2194 button.colab-df-convert');\n",
              "        buttonEl.style.display =\n",
              "          google.colab.kernel.accessAllowed ? 'block' : 'none';\n",
              "\n",
              "        async function convertToInteractive(key) {\n",
              "          const element = document.querySelector('#df-5c884e40-1c05-4683-ae9d-0e540d9a2194');\n",
              "          const dataTable =\n",
              "            await google.colab.kernel.invokeFunction('convertToInteractive',\n",
              "                                                     [key], {});\n",
              "          if (!dataTable) return;\n",
              "\n",
              "          const docLinkHtml = 'Like what you see? Visit the ' +\n",
              "            '<a target=\"_blank\" href=https://colab.research.google.com/notebooks/data_table.ipynb>data table notebook</a>'\n",
              "            + ' to learn more about interactive tables.';\n",
              "          element.innerHTML = '';\n",
              "          dataTable['output_type'] = 'display_data';\n",
              "          await google.colab.output.renderOutput(dataTable, element);\n",
              "          const docLink = document.createElement('div');\n",
              "          docLink.innerHTML = docLinkHtml;\n",
              "          element.appendChild(docLink);\n",
              "        }\n",
              "      </script>\n",
              "    </div>\n",
              "  </div>\n",
              "  "
            ]
          },
          "metadata": {},
          "execution_count": 366
        }
      ]
    },
    {
      "cell_type": "code",
      "source": [
        "#x.to_sql('steer_weight_table')"
      ],
      "metadata": {
        "id": "-Gw5djqrRThp"
      },
      "execution_count": 367,
      "outputs": []
    },
    {
      "cell_type": "code",
      "source": [
        "x['Max Weight in kg'] = x.iloc[:, 1].astype(int)"
      ],
      "metadata": {
        "id": "v5BFC-FZPI9j"
      },
      "execution_count": 368,
      "outputs": []
    },
    {
      "cell_type": "code",
      "source": [
        "x"
      ],
      "metadata": {
        "colab": {
          "base_uri": "https://localhost:8080/",
          "height": 424
        },
        "id": "oviO-tR_POZ-",
        "outputId": "7db06258-0cce-49ff-d53c-6919e52d1ebf"
      },
      "execution_count": 369,
      "outputs": [
        {
          "output_type": "execute_result",
          "data": {
            "text/plain": [
              "      Min Weight in kg  Max Weight in kg\n",
              "0                  200               249\n",
              "1                  250               299\n",
              "2                  300               349\n",
              "3                  350               399\n",
              "4                  400               449\n",
              "...                ...               ...\n",
              "1282               200               249\n",
              "1283               250               299\n",
              "1284               300               349\n",
              "1285               350               399\n",
              "1286               400               449\n",
              "\n",
              "[1104 rows x 2 columns]"
            ],
            "text/html": [
              "\n",
              "  <div id=\"df-6bf84c50-6784-419e-9e9f-43b1d3b900b4\">\n",
              "    <div class=\"colab-df-container\">\n",
              "      <div>\n",
              "<style scoped>\n",
              "    .dataframe tbody tr th:only-of-type {\n",
              "        vertical-align: middle;\n",
              "    }\n",
              "\n",
              "    .dataframe tbody tr th {\n",
              "        vertical-align: top;\n",
              "    }\n",
              "\n",
              "    .dataframe thead th {\n",
              "        text-align: right;\n",
              "    }\n",
              "</style>\n",
              "<table border=\"1\" class=\"dataframe\">\n",
              "  <thead>\n",
              "    <tr style=\"text-align: right;\">\n",
              "      <th></th>\n",
              "      <th>Min Weight in kg</th>\n",
              "      <th>Max Weight in kg</th>\n",
              "    </tr>\n",
              "  </thead>\n",
              "  <tbody>\n",
              "    <tr>\n",
              "      <th>0</th>\n",
              "      <td>200</td>\n",
              "      <td>249</td>\n",
              "    </tr>\n",
              "    <tr>\n",
              "      <th>1</th>\n",
              "      <td>250</td>\n",
              "      <td>299</td>\n",
              "    </tr>\n",
              "    <tr>\n",
              "      <th>2</th>\n",
              "      <td>300</td>\n",
              "      <td>349</td>\n",
              "    </tr>\n",
              "    <tr>\n",
              "      <th>3</th>\n",
              "      <td>350</td>\n",
              "      <td>399</td>\n",
              "    </tr>\n",
              "    <tr>\n",
              "      <th>4</th>\n",
              "      <td>400</td>\n",
              "      <td>449</td>\n",
              "    </tr>\n",
              "    <tr>\n",
              "      <th>...</th>\n",
              "      <td>...</td>\n",
              "      <td>...</td>\n",
              "    </tr>\n",
              "    <tr>\n",
              "      <th>1282</th>\n",
              "      <td>200</td>\n",
              "      <td>249</td>\n",
              "    </tr>\n",
              "    <tr>\n",
              "      <th>1283</th>\n",
              "      <td>250</td>\n",
              "      <td>299</td>\n",
              "    </tr>\n",
              "    <tr>\n",
              "      <th>1284</th>\n",
              "      <td>300</td>\n",
              "      <td>349</td>\n",
              "    </tr>\n",
              "    <tr>\n",
              "      <th>1285</th>\n",
              "      <td>350</td>\n",
              "      <td>399</td>\n",
              "    </tr>\n",
              "    <tr>\n",
              "      <th>1286</th>\n",
              "      <td>400</td>\n",
              "      <td>449</td>\n",
              "    </tr>\n",
              "  </tbody>\n",
              "</table>\n",
              "<p>1104 rows × 2 columns</p>\n",
              "</div>\n",
              "      <button class=\"colab-df-convert\" onclick=\"convertToInteractive('df-6bf84c50-6784-419e-9e9f-43b1d3b900b4')\"\n",
              "              title=\"Convert this dataframe to an interactive table.\"\n",
              "              style=\"display:none;\">\n",
              "        \n",
              "  <svg xmlns=\"http://www.w3.org/2000/svg\" height=\"24px\"viewBox=\"0 0 24 24\"\n",
              "       width=\"24px\">\n",
              "    <path d=\"M0 0h24v24H0V0z\" fill=\"none\"/>\n",
              "    <path d=\"M18.56 5.44l.94 2.06.94-2.06 2.06-.94-2.06-.94-.94-2.06-.94 2.06-2.06.94zm-11 1L8.5 8.5l.94-2.06 2.06-.94-2.06-.94L8.5 2.5l-.94 2.06-2.06.94zm10 10l.94 2.06.94-2.06 2.06-.94-2.06-.94-.94-2.06-.94 2.06-2.06.94z\"/><path d=\"M17.41 7.96l-1.37-1.37c-.4-.4-.92-.59-1.43-.59-.52 0-1.04.2-1.43.59L10.3 9.45l-7.72 7.72c-.78.78-.78 2.05 0 2.83L4 21.41c.39.39.9.59 1.41.59.51 0 1.02-.2 1.41-.59l7.78-7.78 2.81-2.81c.8-.78.8-2.07 0-2.86zM5.41 20L4 18.59l7.72-7.72 1.47 1.35L5.41 20z\"/>\n",
              "  </svg>\n",
              "      </button>\n",
              "      \n",
              "  <style>\n",
              "    .colab-df-container {\n",
              "      display:flex;\n",
              "      flex-wrap:wrap;\n",
              "      gap: 12px;\n",
              "    }\n",
              "\n",
              "    .colab-df-convert {\n",
              "      background-color: #E8F0FE;\n",
              "      border: none;\n",
              "      border-radius: 50%;\n",
              "      cursor: pointer;\n",
              "      display: none;\n",
              "      fill: #1967D2;\n",
              "      height: 32px;\n",
              "      padding: 0 0 0 0;\n",
              "      width: 32px;\n",
              "    }\n",
              "\n",
              "    .colab-df-convert:hover {\n",
              "      background-color: #E2EBFA;\n",
              "      box-shadow: 0px 1px 2px rgba(60, 64, 67, 0.3), 0px 1px 3px 1px rgba(60, 64, 67, 0.15);\n",
              "      fill: #174EA6;\n",
              "    }\n",
              "\n",
              "    [theme=dark] .colab-df-convert {\n",
              "      background-color: #3B4455;\n",
              "      fill: #D2E3FC;\n",
              "    }\n",
              "\n",
              "    [theme=dark] .colab-df-convert:hover {\n",
              "      background-color: #434B5C;\n",
              "      box-shadow: 0px 1px 3px 1px rgba(0, 0, 0, 0.15);\n",
              "      filter: drop-shadow(0px 1px 2px rgba(0, 0, 0, 0.3));\n",
              "      fill: #FFFFFF;\n",
              "    }\n",
              "  </style>\n",
              "\n",
              "      <script>\n",
              "        const buttonEl =\n",
              "          document.querySelector('#df-6bf84c50-6784-419e-9e9f-43b1d3b900b4 button.colab-df-convert');\n",
              "        buttonEl.style.display =\n",
              "          google.colab.kernel.accessAllowed ? 'block' : 'none';\n",
              "\n",
              "        async function convertToInteractive(key) {\n",
              "          const element = document.querySelector('#df-6bf84c50-6784-419e-9e9f-43b1d3b900b4');\n",
              "          const dataTable =\n",
              "            await google.colab.kernel.invokeFunction('convertToInteractive',\n",
              "                                                     [key], {});\n",
              "          if (!dataTable) return;\n",
              "\n",
              "          const docLinkHtml = 'Like what you see? Visit the ' +\n",
              "            '<a target=\"_blank\" href=https://colab.research.google.com/notebooks/data_table.ipynb>data table notebook</a>'\n",
              "            + ' to learn more about interactive tables.';\n",
              "          element.innerHTML = '';\n",
              "          dataTable['output_type'] = 'display_data';\n",
              "          await google.colab.output.renderOutput(dataTable, element);\n",
              "          const docLink = document.createElement('div');\n",
              "          docLink.innerHTML = docLinkHtml;\n",
              "          element.appendChild(docLink);\n",
              "        }\n",
              "      </script>\n",
              "    </div>\n",
              "  </div>\n",
              "  "
            ]
          },
          "metadata": {},
          "execution_count": 369
        }
      ]
    },
    {
      "cell_type": "code",
      "source": [
        "x.to_sql('steer_weight_table', engine, if_exists='replace', index=False)"
      ],
      "metadata": {
        "id": "HYL5W5OysJBk"
      },
      "execution_count": 370,
      "outputs": []
    },
    {
      "cell_type": "code",
      "source": [
        "pd.read_sql('steer_weight_table', engine)"
      ],
      "metadata": {
        "colab": {
          "base_uri": "https://localhost:8080/",
          "height": 424
        },
        "id": "2zBJyZ8hsYzL",
        "outputId": "71c038a9-4225-4ab7-9cbb-cc5d0a89be4c"
      },
      "execution_count": 371,
      "outputs": [
        {
          "output_type": "execute_result",
          "data": {
            "text/plain": [
              "      Min Weight in kg  Max Weight in kg\n",
              "0                  200               249\n",
              "1                  250               299\n",
              "2                  300               349\n",
              "3                  350               399\n",
              "4                  400               449\n",
              "...                ...               ...\n",
              "1099               200               249\n",
              "1100               250               299\n",
              "1101               300               349\n",
              "1102               350               399\n",
              "1103               400               449\n",
              "\n",
              "[1104 rows x 2 columns]"
            ],
            "text/html": [
              "\n",
              "  <div id=\"df-407226b2-f03e-4bfc-a395-fd460df5abee\">\n",
              "    <div class=\"colab-df-container\">\n",
              "      <div>\n",
              "<style scoped>\n",
              "    .dataframe tbody tr th:only-of-type {\n",
              "        vertical-align: middle;\n",
              "    }\n",
              "\n",
              "    .dataframe tbody tr th {\n",
              "        vertical-align: top;\n",
              "    }\n",
              "\n",
              "    .dataframe thead th {\n",
              "        text-align: right;\n",
              "    }\n",
              "</style>\n",
              "<table border=\"1\" class=\"dataframe\">\n",
              "  <thead>\n",
              "    <tr style=\"text-align: right;\">\n",
              "      <th></th>\n",
              "      <th>Min Weight in kg</th>\n",
              "      <th>Max Weight in kg</th>\n",
              "    </tr>\n",
              "  </thead>\n",
              "  <tbody>\n",
              "    <tr>\n",
              "      <th>0</th>\n",
              "      <td>200</td>\n",
              "      <td>249</td>\n",
              "    </tr>\n",
              "    <tr>\n",
              "      <th>1</th>\n",
              "      <td>250</td>\n",
              "      <td>299</td>\n",
              "    </tr>\n",
              "    <tr>\n",
              "      <th>2</th>\n",
              "      <td>300</td>\n",
              "      <td>349</td>\n",
              "    </tr>\n",
              "    <tr>\n",
              "      <th>3</th>\n",
              "      <td>350</td>\n",
              "      <td>399</td>\n",
              "    </tr>\n",
              "    <tr>\n",
              "      <th>4</th>\n",
              "      <td>400</td>\n",
              "      <td>449</td>\n",
              "    </tr>\n",
              "    <tr>\n",
              "      <th>...</th>\n",
              "      <td>...</td>\n",
              "      <td>...</td>\n",
              "    </tr>\n",
              "    <tr>\n",
              "      <th>1099</th>\n",
              "      <td>200</td>\n",
              "      <td>249</td>\n",
              "    </tr>\n",
              "    <tr>\n",
              "      <th>1100</th>\n",
              "      <td>250</td>\n",
              "      <td>299</td>\n",
              "    </tr>\n",
              "    <tr>\n",
              "      <th>1101</th>\n",
              "      <td>300</td>\n",
              "      <td>349</td>\n",
              "    </tr>\n",
              "    <tr>\n",
              "      <th>1102</th>\n",
              "      <td>350</td>\n",
              "      <td>399</td>\n",
              "    </tr>\n",
              "    <tr>\n",
              "      <th>1103</th>\n",
              "      <td>400</td>\n",
              "      <td>449</td>\n",
              "    </tr>\n",
              "  </tbody>\n",
              "</table>\n",
              "<p>1104 rows × 2 columns</p>\n",
              "</div>\n",
              "      <button class=\"colab-df-convert\" onclick=\"convertToInteractive('df-407226b2-f03e-4bfc-a395-fd460df5abee')\"\n",
              "              title=\"Convert this dataframe to an interactive table.\"\n",
              "              style=\"display:none;\">\n",
              "        \n",
              "  <svg xmlns=\"http://www.w3.org/2000/svg\" height=\"24px\"viewBox=\"0 0 24 24\"\n",
              "       width=\"24px\">\n",
              "    <path d=\"M0 0h24v24H0V0z\" fill=\"none\"/>\n",
              "    <path d=\"M18.56 5.44l.94 2.06.94-2.06 2.06-.94-2.06-.94-.94-2.06-.94 2.06-2.06.94zm-11 1L8.5 8.5l.94-2.06 2.06-.94-2.06-.94L8.5 2.5l-.94 2.06-2.06.94zm10 10l.94 2.06.94-2.06 2.06-.94-2.06-.94-.94-2.06-.94 2.06-2.06.94z\"/><path d=\"M17.41 7.96l-1.37-1.37c-.4-.4-.92-.59-1.43-.59-.52 0-1.04.2-1.43.59L10.3 9.45l-7.72 7.72c-.78.78-.78 2.05 0 2.83L4 21.41c.39.39.9.59 1.41.59.51 0 1.02-.2 1.41-.59l7.78-7.78 2.81-2.81c.8-.78.8-2.07 0-2.86zM5.41 20L4 18.59l7.72-7.72 1.47 1.35L5.41 20z\"/>\n",
              "  </svg>\n",
              "      </button>\n",
              "      \n",
              "  <style>\n",
              "    .colab-df-container {\n",
              "      display:flex;\n",
              "      flex-wrap:wrap;\n",
              "      gap: 12px;\n",
              "    }\n",
              "\n",
              "    .colab-df-convert {\n",
              "      background-color: #E8F0FE;\n",
              "      border: none;\n",
              "      border-radius: 50%;\n",
              "      cursor: pointer;\n",
              "      display: none;\n",
              "      fill: #1967D2;\n",
              "      height: 32px;\n",
              "      padding: 0 0 0 0;\n",
              "      width: 32px;\n",
              "    }\n",
              "\n",
              "    .colab-df-convert:hover {\n",
              "      background-color: #E2EBFA;\n",
              "      box-shadow: 0px 1px 2px rgba(60, 64, 67, 0.3), 0px 1px 3px 1px rgba(60, 64, 67, 0.15);\n",
              "      fill: #174EA6;\n",
              "    }\n",
              "\n",
              "    [theme=dark] .colab-df-convert {\n",
              "      background-color: #3B4455;\n",
              "      fill: #D2E3FC;\n",
              "    }\n",
              "\n",
              "    [theme=dark] .colab-df-convert:hover {\n",
              "      background-color: #434B5C;\n",
              "      box-shadow: 0px 1px 3px 1px rgba(0, 0, 0, 0.15);\n",
              "      filter: drop-shadow(0px 1px 2px rgba(0, 0, 0, 0.3));\n",
              "      fill: #FFFFFF;\n",
              "    }\n",
              "  </style>\n",
              "\n",
              "      <script>\n",
              "        const buttonEl =\n",
              "          document.querySelector('#df-407226b2-f03e-4bfc-a395-fd460df5abee button.colab-df-convert');\n",
              "        buttonEl.style.display =\n",
              "          google.colab.kernel.accessAllowed ? 'block' : 'none';\n",
              "\n",
              "        async function convertToInteractive(key) {\n",
              "          const element = document.querySelector('#df-407226b2-f03e-4bfc-a395-fd460df5abee');\n",
              "          const dataTable =\n",
              "            await google.colab.kernel.invokeFunction('convertToInteractive',\n",
              "                                                     [key], {});\n",
              "          if (!dataTable) return;\n",
              "\n",
              "          const docLinkHtml = 'Like what you see? Visit the ' +\n",
              "            '<a target=\"_blank\" href=https://colab.research.google.com/notebooks/data_table.ipynb>data table notebook</a>'\n",
              "            + ' to learn more about interactive tables.';\n",
              "          element.innerHTML = '';\n",
              "          dataTable['output_type'] = 'display_data';\n",
              "          await google.colab.output.renderOutput(dataTable, element);\n",
              "          const docLink = document.createElement('div');\n",
              "          docLink.innerHTML = docLinkHtml;\n",
              "          element.appendChild(docLink);\n",
              "        }\n",
              "      </script>\n",
              "    </div>\n",
              "  </div>\n",
              "  "
            ]
          },
          "metadata": {},
          "execution_count": 371
        }
      ]
    },
    {
      "cell_type": "code",
      "source": [
        "x.shape"
      ],
      "metadata": {
        "colab": {
          "base_uri": "https://localhost:8080/"
        },
        "id": "S1vRQ4O7IgGc",
        "outputId": "cdd59ea6-03b1-4983-80de-56b6ec0c4d10"
      },
      "execution_count": 372,
      "outputs": [
        {
          "output_type": "execute_result",
          "data": {
            "text/plain": [
              "(1104, 2)"
            ]
          },
          "metadata": {},
          "execution_count": 372
        }
      ]
    },
    {
      "cell_type": "code",
      "source": [
        "y.shape"
      ],
      "metadata": {
        "colab": {
          "base_uri": "https://localhost:8080/"
        },
        "id": "WqwbHGzYIilY",
        "outputId": "fa2088c8-2e7b-4d7f-857a-fe7386ef0afe"
      },
      "execution_count": 373,
      "outputs": [
        {
          "output_type": "execute_result",
          "data": {
            "text/plain": [
              "(1104,)"
            ]
          },
          "metadata": {},
          "execution_count": 373
        }
      ]
    },
    {
      "cell_type": "code",
      "source": [
        "sns.set()\n",
        "\n",
        "fig, (ax1, ax2) = plt.subplots(1, 2, figsize =(10,4))\n",
        "fig.tight_layout(pad  = 3.0)\n",
        "ax1.scatter(x.iloc[:,0],y)\n",
        "ax1.set_xlabel(\"Min Weight\")\n",
        "ax1.set_ylabel(\"Price in Euros\")\n",
        "ax1.set_title(\"Steer Price Data\")\n",
        "\n",
        "ax2.scatter(x.iloc[:,1],y)\n",
        "ax2.set_xlabel(\"Max Weight\")\n",
        "ax2.set_ylabel(\"Price in Euros\")\n",
        "ax2.set_title(\"Steer Price Data\")"
      ],
      "metadata": {
        "colab": {
          "base_uri": "https://localhost:8080/",
          "height": 293
        },
        "id": "9yq9jE2xRa98",
        "outputId": "a3b1a30d-95da-425a-e360-696ed2d5b695"
      },
      "execution_count": 374,
      "outputs": [
        {
          "output_type": "execute_result",
          "data": {
            "text/plain": [
              "Text(0.5, 1.0, 'Steer Price Data')"
            ]
          },
          "metadata": {},
          "execution_count": 374
        },
        {
          "output_type": "display_data",
          "data": {
            "text/plain": [
              "<Figure size 720x288 with 2 Axes>"
            ],
            "image/png": "[encoded data removed]"
          },
          "metadata": {}
        }
      ]
    },
    {
      "cell_type": "code",
      "source": [
        "#x = data1.iloc[:, 7:9]\n",
        "#y = data1['Log Value']"
      ],
      "metadata": {
        "id": "P9xYfsLLu7UT"
      },
      "execution_count": 422,
      "outputs": []
    },
    {
      "cell_type": "code",
      "source": [
        "#sns.set()\n",
        "\n",
        "#fig, (ax1, ax2) = plt.subplots(1, 2, figsize =(10,4))\n",
        "#fig.tight_layout(pad  = 3.0)\n",
        "#ax1.scatter(x.iloc[:,0],y)\n",
        "#ax1.set_xlabel(\"Min Weight\")\n",
        "#ax1.set_ylabel(\"Price in Euros\")\n",
        "#ax1.set_title(\"Steer Price Data\")\n",
        "\n",
        "#ax2.scatter(x.iloc[:,1],y)\n",
        "#ax2.set_xlabel(\"Max Weight\")\n",
        "#ax2.set_ylabel(\"Price in Euros\")\n",
        "#ax2.set_title(\"Steer Price Data\")"
      ],
      "metadata": {
        "id": "vXEr7Oh7u2B1"
      },
      "execution_count": 376,
      "outputs": []
    },
    {
      "cell_type": "code",
      "source": [
        "from sklearn.preprocessing import StandardScaler\n",
        "value = np.log(y)\n",
        "scaler = StandardScaler()\n",
        "scaler.fit(x)\n",
        "x_scaled = scaler.transform(x)\n",
        "\n",
        "\n"
      ],
      "metadata": {
        "id": "H64Eb32ntB3f"
      },
      "execution_count": 420,
      "outputs": []
    },
    {
      "cell_type": "code",
      "source": [
        "x_scaled.shape"
      ],
      "metadata": {
        "colab": {
          "base_uri": "https://localhost:8080/"
        },
        "id": "nu5HPLPHwuEV",
        "outputId": "2bf767bf-d56e-4203-b6df-ac46e1964898"
      },
      "execution_count": 423,
      "outputs": [
        {
          "output_type": "execute_result",
          "data": {
            "text/plain": [
              "(1104, 2)"
            ]
          },
          "metadata": {},
          "execution_count": 423
        }
      ]
    },
    {
      "cell_type": "code",
      "source": [
        "x_scaled"
      ],
      "metadata": {
        "colab": {
          "base_uri": "https://localhost:8080/"
        },
        "id": "UD5Ozqa8xmBf",
        "outputId": "7d485e03-8eba-4ab1-d60e-72729a430016"
      },
      "execution_count": 424,
      "outputs": [
        {
          "output_type": "execute_result",
          "data": {
            "text/plain": [
              "array([[-1.39901042, -1.39901042],\n",
              "       [-0.857458  , -0.857458  ],\n",
              "       [-0.31590558, -0.31590558],\n",
              "       ...,\n",
              "       [-0.31590558, -0.31590558],\n",
              "       [ 0.22564684,  0.22564684],\n",
              "       [ 0.76719926,  0.76719926]])"
            ]
          },
          "metadata": {},
          "execution_count": 424
        }
      ]
    },
    {
      "cell_type": "code",
      "source": [
        "from sklearn.neighbors import KNeighborsRegressor\n",
        "from sklearn.model_selection import train_test_split\n",
        "from sklearn.metrics import accuracy_score, r2_score, mean_squared_error\n",
        "from math import sqrt\n",
        "x_train,x_test,y_train,y_test=train_test_split(x_scaled, value,train_size=0.8, random_state=365)\n",
        "knn = KNeighborsRegressor()\n",
        "knn.fit(x_train,y_train)\n",
        "knn_pred = knn.predict(x_test)\n",
        "knn.score(x_train,y_train)"
      ],
      "metadata": {
        "id": "jnLXgmcEdLTw",
        "colab": {
          "base_uri": "https://localhost:8080/"
        },
        "outputId": "0e8cf9da-bb27-41ca-dbaf-044dd63c1a14"
      },
      "execution_count": 450,
      "outputs": [
        {
          "output_type": "execute_result",
          "data": {
            "text/plain": [
              "-0.2488682354155607"
            ]
          },
          "metadata": {},
          "execution_count": 450
        }
      ]
    },
    {
      "cell_type": "code",
      "source": [
        "r2_score(y_test, knn_pred)"
      ],
      "metadata": {
        "colab": {
          "base_uri": "https://localhost:8080/"
        },
        "id": "eTUujBTdCuac",
        "outputId": "0ba4f54d-8860-47b6-ac10-091d1fe5d68b"
      },
      "execution_count": 451,
      "outputs": [
        {
          "output_type": "execute_result",
          "data": {
            "text/plain": [
              "-0.36484682743811314"
            ]
          },
          "metadata": {},
          "execution_count": 451
        }
      ]
    },
    {
      "cell_type": "code",
      "source": [
        "mean_squared_error(y_test, knn_pred)"
      ],
      "metadata": {
        "colab": {
          "base_uri": "https://localhost:8080/"
        },
        "id": "WjmVULInGEl9",
        "outputId": "933a8110-70fb-4ba3-8b84-77218b78c585"
      },
      "execution_count": 452,
      "outputs": [
        {
          "output_type": "execute_result",
          "data": {
            "text/plain": [
              "0.6377199041969762"
            ]
          },
          "metadata": {},
          "execution_count": 452
        }
      ]
    },
    {
      "cell_type": "code",
      "source": [
        "rmse = sqrt(mean_squared_error(y_test, knn_pred))\n",
        "rmse"
      ],
      "metadata": {
        "colab": {
          "base_uri": "https://localhost:8080/"
        },
        "id": "MPYy6QlLK_O-",
        "outputId": "b930e7ba-215c-4cda-e5c7-edcf34bed099"
      },
      "execution_count": 453,
      "outputs": [
        {
          "output_type": "execute_result",
          "data": {
            "text/plain": [
              "0.7985736686098386"
            ]
          },
          "metadata": {},
          "execution_count": 453
        }
      ]
    },
    {
      "cell_type": "code",
      "source": [
        "rmse_val = [] #to store rmse values for different k\n",
        "for K in range(20):\n",
        "    K = K+1\n",
        "    model = KNeighborsRegressor(n_neighbors = K)\n",
        "\n",
        "    model.fit(x_train, y_train)  #fit the model\n",
        "    pred=model.predict(x_test) #make prediction on test set\n",
        "    error = sqrt(mean_squared_error(y_test,pred)) #calculate rmse\n",
        "    rmse_val.append(error) #store rmse values\n",
        "    print('RMSE value for k= ' , K , 'is:', error)"
      ],
      "metadata": {
        "colab": {
          "base_uri": "https://localhost:8080/"
        },
        "id": "8s8MIKF1MFyX",
        "outputId": "49d7c377-03fc-43d4-f2fd-df2cd421a47d"
      },
      "execution_count": 460,
      "outputs": [
        {
          "output_type": "stream",
          "name": "stdout",
          "text": [
            "RMSE value for k=  1 is: 0.985168087622731\n",
            "RMSE value for k=  2 is: 0.8617046692549333\n",
            "RMSE value for k=  3 is: 0.8183168209348458\n",
            "RMSE value for k=  4 is: 0.7824732510628633\n",
            "RMSE value for k=  5 is: 0.7985736686098386\n",
            "RMSE value for k=  6 is: 0.7587362364578889\n",
            "RMSE value for k=  7 is: 0.7275528650373994\n",
            "RMSE value for k=  8 is: 0.7210222470046982\n",
            "RMSE value for k=  9 is: 0.71690199824581\n",
            "RMSE value for k=  10 is: 0.7292365109012298\n",
            "RMSE value for k=  11 is: 0.7237253964163658\n",
            "RMSE value for k=  12 is: 0.7193704489116725\n",
            "RMSE value for k=  13 is: 0.7154638951823322\n",
            "RMSE value for k=  14 is: 0.7120215504345271\n",
            "RMSE value for k=  15 is: 0.7098601731927344\n",
            "RMSE value for k=  16 is: 0.7012223035351648\n",
            "RMSE value for k=  17 is: 0.7000452091942736\n",
            "RMSE value for k=  18 is: 0.6961419500215287\n",
            "RMSE value for k=  19 is: 0.6927934812271449\n",
            "RMSE value for k=  20 is: 0.6931633367130542\n"
          ]
        }
      ]
    },
    {
      "cell_type": "code",
      "source": [
        "curve = pd.DataFrame(rmse_val)\n",
        "curve.plot()\n",
        "plt.xlabel('K-value')\n",
        "plt.ylabel('RMSE values')\n",
        "plt.title('Error Rate')"
      ],
      "metadata": {
        "colab": {
          "base_uri": "https://localhost:8080/",
          "height": 318
        },
        "id": "aKxvG2F2Le2-",
        "outputId": "0859d7d0-ef76-4467-f203-2eef00f188e1"
      },
      "execution_count": 465,
      "outputs": [
        {
          "output_type": "execute_result",
          "data": {
            "text/plain": [
              "Text(0.5, 1.0, 'Error Rate')"
            ]
          },
          "metadata": {},
          "execution_count": 465
        },
        {
          "output_type": "display_data",
          "data": {
            "text/plain": [
              "<Figure size 432x288 with 1 Axes>"
            ],
            "image/png": "[encoded data removed]"
          },
          "metadata": {}
        }
      ]
    },
    {
      "cell_type": "markdown",
      "source": [
        "**Implementing GridSearchCV**\n",
        "- For deciding the value of k, plotting the elbow curve every time is be a cumbersome and tedious process. You can simply use gridsearch to find the best value."
      ],
      "metadata": {
        "id": "IfoKAGOaPSgu"
      }
    },
    {
      "cell_type": "code",
      "source": [
        "from sklearn.model_selection import GridSearchCV\n",
        "params = {'n_neighbors':[2,3,4,5,6,7,8,9]}\n",
        "\n",
        "knn = KNeighborsRegressor()\n",
        "\n",
        "model = GridSearchCV(knn, params, cv=5)\n",
        "model.fit(x_train,y_train)\n",
        "model.best_params_"
      ],
      "metadata": {
        "colab": {
          "base_uri": "https://localhost:8080/"
        },
        "id": "MjhGRMWCMi3J",
        "outputId": "cf337a8a-9fb1-473d-fb2a-4df5ec25ad31"
      },
      "execution_count": 466,
      "outputs": [
        {
          "output_type": "execute_result",
          "data": {
            "text/plain": [
              "{'n_neighbors': 9}"
            ]
          },
          "metadata": {},
          "execution_count": 466
        }
      ]
    },
    {
      "cell_type": "code",
      "source": [
        "from sklearn.linear_model import LinearRegression\n",
        "from sklearn.metrics import accuracy_score, mean_squared_error\n",
        "reg = LinearRegression()\n",
        "reg.fit(x_train,y_train)\n",
        "reg_pred = reg.predict(x_test)\n",
        "mean_squared_error(y_test, reg_pred)"
      ],
      "metadata": {
        "colab": {
          "base_uri": "https://localhost:8080/"
        },
        "id": "jBSVM1xRH3Z0",
        "outputId": "57e92972-d313-43ac-ea7f-1508a15029db"
      },
      "execution_count": 445,
      "outputs": [
        {
          "output_type": "execute_result",
          "data": {
            "text/plain": [
              "0.4582122680321471"
            ]
          },
          "metadata": {},
          "execution_count": 445
        }
      ]
    },
    {
      "cell_type": "code",
      "source": [
        "r2_score(y_test, reg_pred)"
      ],
      "metadata": {
        "colab": {
          "base_uri": "https://localhost:8080/"
        },
        "id": "-7V75_o7ILS-",
        "outputId": "7a259786-335c-4d9c-8965-c85b41dc1fa8"
      },
      "execution_count": 447,
      "outputs": [
        {
          "output_type": "execute_result",
          "data": {
            "text/plain": [
              "0.01933504630940508"
            ]
          },
          "metadata": {},
          "execution_count": 447
        }
      ]
    },
    {
      "cell_type": "code",
      "source": [
        "reg.score(x_train, y_train)"
      ],
      "metadata": {
        "colab": {
          "base_uri": "https://localhost:8080/"
        },
        "id": "2ibeSSZUIYAZ",
        "outputId": "5307dedd-b77d-47ab-97b2-e7bbe2bf758b"
      },
      "execution_count": 448,
      "outputs": [
        {
          "output_type": "execute_result",
          "data": {
            "text/plain": [
              "0.007332694686596364"
            ]
          },
          "metadata": {},
          "execution_count": 448
        }
      ]
    },
    {
      "cell_type": "code",
      "source": [
        "x_train"
      ],
      "metadata": {
        "colab": {
          "base_uri": "https://localhost:8080/",
          "height": 424
        },
        "id": "7SjdR4mLf5Dk",
        "outputId": "29ddde53-2b3f-4ad4-e6aa-9df4e077d0ef"
      },
      "execution_count": 381,
      "outputs": [
        {
          "output_type": "execute_result",
          "data": {
            "text/plain": [
              "      Min Weight in kg  Max Weight in kg\n",
              "920                300               349\n",
              "176                200               249\n",
              "1130               300               349\n",
              "522                400               449\n",
              "960                200               249\n",
              "...                ...               ...\n",
              "304                300               349\n",
              "499                250               299\n",
              "1002               200               249\n",
              "934                300               349\n",
              "807                250               299\n",
              "\n",
              "[883 rows x 2 columns]"
            ],
            "text/html": [
              "\n",
              "  <div id=\"df-7e967285-3e26-4614-9d9c-09f616a674f1\">\n",
              "    <div class=\"colab-df-container\">\n",
              "      <div>\n",
              "<style scoped>\n",
              "    .dataframe tbody tr th:only-of-type {\n",
              "        vertical-align: middle;\n",
              "    }\n",
              "\n",
              "    .dataframe tbody tr th {\n",
              "        vertical-align: top;\n",
              "    }\n",
              "\n",
              "    .dataframe thead th {\n",
              "        text-align: right;\n",
              "    }\n",
              "</style>\n",
              "<table border=\"1\" class=\"dataframe\">\n",
              "  <thead>\n",
              "    <tr style=\"text-align: right;\">\n",
              "      <th></th>\n",
              "      <th>Min Weight in kg</th>\n",
              "      <th>Max Weight in kg</th>\n",
              "    </tr>\n",
              "  </thead>\n",
              "  <tbody>\n",
              "    <tr>\n",
              "      <th>920</th>\n",
              "      <td>300</td>\n",
              "      <td>349</td>\n",
              "    </tr>\n",
              "    <tr>\n",
              "      <th>176</th>\n",
              "      <td>200</td>\n",
              "      <td>249</td>\n",
              "    </tr>\n",
              "    <tr>\n",
              "      <th>1130</th>\n",
              "      <td>300</td>\n",
              "      <td>349</td>\n",
              "    </tr>\n",
              "    <tr>\n",
              "      <th>522</th>\n",
              "      <td>400</td>\n",
              "      <td>449</td>\n",
              "    </tr>\n",
              "    <tr>\n",
              "      <th>960</th>\n",
              "      <td>200</td>\n",
              "      <td>249</td>\n",
              "    </tr>\n",
              "    <tr>\n",
              "      <th>...</th>\n",
              "      <td>...</td>\n",
              "      <td>...</td>\n",
              "    </tr>\n",
              "    <tr>\n",
              "      <th>304</th>\n",
              "      <td>300</td>\n",
              "      <td>349</td>\n",
              "    </tr>\n",
              "    <tr>\n",
              "      <th>499</th>\n",
              "      <td>250</td>\n",
              "      <td>299</td>\n",
              "    </tr>\n",
              "    <tr>\n",
              "      <th>1002</th>\n",
              "      <td>200</td>\n",
              "      <td>249</td>\n",
              "    </tr>\n",
              "    <tr>\n",
              "      <th>934</th>\n",
              "      <td>300</td>\n",
              "      <td>349</td>\n",
              "    </tr>\n",
              "    <tr>\n",
              "      <th>807</th>\n",
              "      <td>250</td>\n",
              "      <td>299</td>\n",
              "    </tr>\n",
              "  </tbody>\n",
              "</table>\n",
              "<p>883 rows × 2 columns</p>\n",
              "</div>\n",
              "      <button class=\"colab-df-convert\" onclick=\"convertToInteractive('df-7e967285-3e26-4614-9d9c-09f616a674f1')\"\n",
              "              title=\"Convert this dataframe to an interactive table.\"\n",
              "              style=\"display:none;\">\n",
              "        \n",
              "  <svg xmlns=\"http://www.w3.org/2000/svg\" height=\"24px\"viewBox=\"0 0 24 24\"\n",
              "       width=\"24px\">\n",
              "    <path d=\"M0 0h24v24H0V0z\" fill=\"none\"/>\n",
              "    <path d=\"M18.56 5.44l.94 2.06.94-2.06 2.06-.94-2.06-.94-.94-2.06-.94 2.06-2.06.94zm-11 1L8.5 8.5l.94-2.06 2.06-.94-2.06-.94L8.5 2.5l-.94 2.06-2.06.94zm10 10l.94 2.06.94-2.06 2.06-.94-2.06-.94-.94-2.06-.94 2.06-2.06.94z\"/><path d=\"M17.41 7.96l-1.37-1.37c-.4-.4-.92-.59-1.43-.59-.52 0-1.04.2-1.43.59L10.3 9.45l-7.72 7.72c-.78.78-.78 2.05 0 2.83L4 21.41c.39.39.9.59 1.41.59.51 0 1.02-.2 1.41-.59l7.78-7.78 2.81-2.81c.8-.78.8-2.07 0-2.86zM5.41 20L4 18.59l7.72-7.72 1.47 1.35L5.41 20z\"/>\n",
              "  </svg>\n",
              "      </button>\n",
              "      \n",
              "  <style>\n",
              "    .colab-df-container {\n",
              "      display:flex;\n",
              "      flex-wrap:wrap;\n",
              "      gap: 12px;\n",
              "    }\n",
              "\n",
              "    .colab-df-convert {\n",
              "      background-color: #E8F0FE;\n",
              "      border: none;\n",
              "      border-radius: 50%;\n",
              "      cursor: pointer;\n",
              "      display: none;\n",
              "      fill: #1967D2;\n",
              "      height: 32px;\n",
              "      padding: 0 0 0 0;\n",
              "      width: 32px;\n",
              "    }\n",
              "\n",
              "    .colab-df-convert:hover {\n",
              "      background-color: #E2EBFA;\n",
              "      box-shadow: 0px 1px 2px rgba(60, 64, 67, 0.3), 0px 1px 3px 1px rgba(60, 64, 67, 0.15);\n",
              "      fill: #174EA6;\n",
              "    }\n",
              "\n",
              "    [theme=dark] .colab-df-convert {\n",
              "      background-color: #3B4455;\n",
              "      fill: #D2E3FC;\n",
              "    }\n",
              "\n",
              "    [theme=dark] .colab-df-convert:hover {\n",
              "      background-color: #434B5C;\n",
              "      box-shadow: 0px 1px 3px 1px rgba(0, 0, 0, 0.15);\n",
              "      filter: drop-shadow(0px 1px 2px rgba(0, 0, 0, 0.3));\n",
              "      fill: #FFFFFF;\n",
              "    }\n",
              "  </style>\n",
              "\n",
              "      <script>\n",
              "        const buttonEl =\n",
              "          document.querySelector('#df-7e967285-3e26-4614-9d9c-09f616a674f1 button.colab-df-convert');\n",
              "        buttonEl.style.display =\n",
              "          google.colab.kernel.accessAllowed ? 'block' : 'none';\n",
              "\n",
              "        async function convertToInteractive(key) {\n",
              "          const element = document.querySelector('#df-7e967285-3e26-4614-9d9c-09f616a674f1');\n",
              "          const dataTable =\n",
              "            await google.colab.kernel.invokeFunction('convertToInteractive',\n",
              "                                                     [key], {});\n",
              "          if (!dataTable) return;\n",
              "\n",
              "          const docLinkHtml = 'Like what you see? Visit the ' +\n",
              "            '<a target=\"_blank\" href=https://colab.research.google.com/notebooks/data_table.ipynb>data table notebook</a>'\n",
              "            + ' to learn more about interactive tables.';\n",
              "          element.innerHTML = '';\n",
              "          dataTable['output_type'] = 'display_data';\n",
              "          await google.colab.output.renderOutput(dataTable, element);\n",
              "          const docLink = document.createElement('div');\n",
              "          docLink.innerHTML = docLinkHtml;\n",
              "          element.appendChild(docLink);\n",
              "        }\n",
              "      </script>\n",
              "    </div>\n",
              "  </div>\n",
              "  "
            ]
          },
          "metadata": {},
          "execution_count": 381
        }
      ]
    },
    {
      "cell_type": "code",
      "source": [
        "x_test"
      ],
      "metadata": {
        "colab": {
          "base_uri": "https://localhost:8080/",
          "height": 424
        },
        "id": "osjKmnqJf9iE",
        "outputId": "5c4f88c7-b192-4275-9f2f-5f1d8d22fb85"
      },
      "execution_count": 382,
      "outputs": [
        {
          "output_type": "execute_result",
          "data": {
            "text/plain": [
              "      Min Weight in kg  Max Weight in kg\n",
              "1201               350               399\n",
              "754                400               449\n",
              "114                300               349\n",
              "883                250               299\n",
              "444                300               349\n",
              "...                ...               ...\n",
              "773                350               399\n",
              "513                250               299\n",
              "177                250               299\n",
              "485                250               299\n",
              "376                400               449\n",
              "\n",
              "[221 rows x 2 columns]"
            ],
            "text/html": [
              "\n",
              "  <div id=\"df-f6a8006f-f328-4dfc-81f2-e7da1551958a\">\n",
              "    <div class=\"colab-df-container\">\n",
              "      <div>\n",
              "<style scoped>\n",
              "    .dataframe tbody tr th:only-of-type {\n",
              "        vertical-align: middle;\n",
              "    }\n",
              "\n",
              "    .dataframe tbody tr th {\n",
              "        vertical-align: top;\n",
              "    }\n",
              "\n",
              "    .dataframe thead th {\n",
              "        text-align: right;\n",
              "    }\n",
              "</style>\n",
              "<table border=\"1\" class=\"dataframe\">\n",
              "  <thead>\n",
              "    <tr style=\"text-align: right;\">\n",
              "      <th></th>\n",
              "      <th>Min Weight in kg</th>\n",
              "      <th>Max Weight in kg</th>\n",
              "    </tr>\n",
              "  </thead>\n",
              "  <tbody>\n",
              "    <tr>\n",
              "      <th>1201</th>\n",
              "      <td>350</td>\n",
              "      <td>399</td>\n",
              "    </tr>\n",
              "    <tr>\n",
              "      <th>754</th>\n",
              "      <td>400</td>\n",
              "      <td>449</td>\n",
              "    </tr>\n",
              "    <tr>\n",
              "      <th>114</th>\n",
              "      <td>300</td>\n",
              "      <td>349</td>\n",
              "    </tr>\n",
              "    <tr>\n",
              "      <th>883</th>\n",
              "      <td>250</td>\n",
              "      <td>299</td>\n",
              "    </tr>\n",
              "    <tr>\n",
              "      <th>444</th>\n",
              "      <td>300</td>\n",
              "      <td>349</td>\n",
              "    </tr>\n",
              "    <tr>\n",
              "      <th>...</th>\n",
              "      <td>...</td>\n",
              "      <td>...</td>\n",
              "    </tr>\n",
              "    <tr>\n",
              "      <th>773</th>\n",
              "      <td>350</td>\n",
              "      <td>399</td>\n",
              "    </tr>\n",
              "    <tr>\n",
              "      <th>513</th>\n",
              "      <td>250</td>\n",
              "      <td>299</td>\n",
              "    </tr>\n",
              "    <tr>\n",
              "      <th>177</th>\n",
              "      <td>250</td>\n",
              "      <td>299</td>\n",
              "    </tr>\n",
              "    <tr>\n",
              "      <th>485</th>\n",
              "      <td>250</td>\n",
              "      <td>299</td>\n",
              "    </tr>\n",
              "    <tr>\n",
              "      <th>376</th>\n",
              "      <td>400</td>\n",
              "      <td>449</td>\n",
              "    </tr>\n",
              "  </tbody>\n",
              "</table>\n",
              "<p>221 rows × 2 columns</p>\n",
              "</div>\n",
              "      <button class=\"colab-df-convert\" onclick=\"convertToInteractive('df-f6a8006f-f328-4dfc-81f2-e7da1551958a')\"\n",
              "              title=\"Convert this dataframe to an interactive table.\"\n",
              "              style=\"display:none;\">\n",
              "        \n",
              "  <svg xmlns=\"http://www.w3.org/2000/svg\" height=\"24px\"viewBox=\"0 0 24 24\"\n",
              "       width=\"24px\">\n",
              "    <path d=\"M0 0h24v24H0V0z\" fill=\"none\"/>\n",
              "    <path d=\"M18.56 5.44l.94 2.06.94-2.06 2.06-.94-2.06-.94-.94-2.06-.94 2.06-2.06.94zm-11 1L8.5 8.5l.94-2.06 2.06-.94-2.06-.94L8.5 2.5l-.94 2.06-2.06.94zm10 10l.94 2.06.94-2.06 2.06-.94-2.06-.94-.94-2.06-.94 2.06-2.06.94z\"/><path d=\"M17.41 7.96l-1.37-1.37c-.4-.4-.92-.59-1.43-.59-.52 0-1.04.2-1.43.59L10.3 9.45l-7.72 7.72c-.78.78-.78 2.05 0 2.83L4 21.41c.39.39.9.59 1.41.59.51 0 1.02-.2 1.41-.59l7.78-7.78 2.81-2.81c.8-.78.8-2.07 0-2.86zM5.41 20L4 18.59l7.72-7.72 1.47 1.35L5.41 20z\"/>\n",
              "  </svg>\n",
              "      </button>\n",
              "      \n",
              "  <style>\n",
              "    .colab-df-container {\n",
              "      display:flex;\n",
              "      flex-wrap:wrap;\n",
              "      gap: 12px;\n",
              "    }\n",
              "\n",
              "    .colab-df-convert {\n",
              "      background-color: #E8F0FE;\n",
              "      border: none;\n",
              "      border-radius: 50%;\n",
              "      cursor: pointer;\n",
              "      display: none;\n",
              "      fill: #1967D2;\n",
              "      height: 32px;\n",
              "      padding: 0 0 0 0;\n",
              "      width: 32px;\n",
              "    }\n",
              "\n",
              "    .colab-df-convert:hover {\n",
              "      background-color: #E2EBFA;\n",
              "      box-shadow: 0px 1px 2px rgba(60, 64, 67, 0.3), 0px 1px 3px 1px rgba(60, 64, 67, 0.15);\n",
              "      fill: #174EA6;\n",
              "    }\n",
              "\n",
              "    [theme=dark] .colab-df-convert {\n",
              "      background-color: #3B4455;\n",
              "      fill: #D2E3FC;\n",
              "    }\n",
              "\n",
              "    [theme=dark] .colab-df-convert:hover {\n",
              "      background-color: #434B5C;\n",
              "      box-shadow: 0px 1px 3px 1px rgba(0, 0, 0, 0.15);\n",
              "      filter: drop-shadow(0px 1px 2px rgba(0, 0, 0, 0.3));\n",
              "      fill: #FFFFFF;\n",
              "    }\n",
              "  </style>\n",
              "\n",
              "      <script>\n",
              "        const buttonEl =\n",
              "          document.querySelector('#df-f6a8006f-f328-4dfc-81f2-e7da1551958a button.colab-df-convert');\n",
              "        buttonEl.style.display =\n",
              "          google.colab.kernel.accessAllowed ? 'block' : 'none';\n",
              "\n",
              "        async function convertToInteractive(key) {\n",
              "          const element = document.querySelector('#df-f6a8006f-f328-4dfc-81f2-e7da1551958a');\n",
              "          const dataTable =\n",
              "            await google.colab.kernel.invokeFunction('convertToInteractive',\n",
              "                                                     [key], {});\n",
              "          if (!dataTable) return;\n",
              "\n",
              "          const docLinkHtml = 'Like what you see? Visit the ' +\n",
              "            '<a target=\"_blank\" href=https://colab.research.google.com/notebooks/data_table.ipynb>data table notebook</a>'\n",
              "            + ' to learn more about interactive tables.';\n",
              "          element.innerHTML = '';\n",
              "          dataTable['output_type'] = 'display_data';\n",
              "          await google.colab.output.renderOutput(dataTable, element);\n",
              "          const docLink = document.createElement('div');\n",
              "          docLink.innerHTML = docLinkHtml;\n",
              "          element.appendChild(docLink);\n",
              "        }\n",
              "      </script>\n",
              "    </div>\n",
              "  </div>\n",
              "  "
            ]
          },
          "metadata": {},
          "execution_count": 382
        }
      ]
    },
    {
      "cell_type": "code",
      "source": [
        "x_train.shape"
      ],
      "metadata": {
        "colab": {
          "base_uri": "https://localhost:8080/"
        },
        "id": "ZAnO3YCUh4m3",
        "outputId": "3d186cd1-0a63-489b-b79c-f409be048036"
      },
      "execution_count": 383,
      "outputs": [
        {
          "output_type": "execute_result",
          "data": {
            "text/plain": [
              "(883, 2)"
            ]
          },
          "metadata": {},
          "execution_count": 383
        }
      ]
    },
    {
      "cell_type": "code",
      "source": [
        "y_train.shape"
      ],
      "metadata": {
        "colab": {
          "base_uri": "https://localhost:8080/"
        },
        "id": "m1HzTJpth-BY",
        "outputId": "d63bd416-acfa-480c-baf2-eefd0683ec40"
      },
      "execution_count": 384,
      "outputs": [
        {
          "output_type": "execute_result",
          "data": {
            "text/plain": [
              "(883,)"
            ]
          },
          "metadata": {},
          "execution_count": 384
        }
      ]
    },
    {
      "cell_type": "code",
      "source": [
        "x_test.shape"
      ],
      "metadata": {
        "colab": {
          "base_uri": "https://localhost:8080/"
        },
        "id": "qiLRKDlaiA1E",
        "outputId": "aa7a7a3a-c19d-45e5-8e85-77bf0005b85f"
      },
      "execution_count": 385,
      "outputs": [
        {
          "output_type": "execute_result",
          "data": {
            "text/plain": [
              "(221, 2)"
            ]
          },
          "metadata": {},
          "execution_count": 385
        }
      ]
    },
    {
      "cell_type": "code",
      "source": [
        "y_test.shape"
      ],
      "metadata": {
        "colab": {
          "base_uri": "https://localhost:8080/"
        },
        "id": "R3uvxxEQh8cx",
        "outputId": "5762f02d-5831-483a-c041-04ee3fc1409f"
      },
      "execution_count": 386,
      "outputs": [
        {
          "output_type": "execute_result",
          "data": {
            "text/plain": [
              "(221,)"
            ]
          },
          "metadata": {},
          "execution_count": 386
        }
      ]
    },
    {
      "cell_type": "code",
      "source": [
        "knn_reg = KNeighborsRegressor()\n",
        "knn_reg.fit(x_train,y_train)"
      ],
      "metadata": {
        "colab": {
          "base_uri": "https://localhost:8080/"
        },
        "id": "M5FRy90Wrknq",
        "outputId": "4ab2849a-9ca7-469d-9934-8ab29aead065"
      },
      "execution_count": 387,
      "outputs": [
        {
          "output_type": "execute_result",
          "data": {
            "text/plain": [
              "KNeighborsRegressor()"
            ]
          },
          "metadata": {},
          "execution_count": 387
        }
      ]
    },
    {
      "cell_type": "code",
      "source": [
        "from sklearn.linear_model import LinearRegression\n",
        "from sklearn.metrics import accuracy_score\n",
        "reg = LinearRegression()\n",
        "reg.fit(x_train,y_train)\n",
        "reg_pred = reg.predict(x_test)\n"
      ],
      "metadata": {
        "id": "EgrHGDH-Hrjl"
      },
      "execution_count": null,
      "outputs": []
    },
    {
      "cell_type": "code",
      "source": [
        "y_pred = knn_reg.predict(x_train)\n",
        "y_pred"
      ],
      "metadata": {
        "colab": {
          "base_uri": "https://localhost:8080/"
        },
        "id": "UdPYkixUl6VK",
        "outputId": "5b47be30-a308-474b-aebf-839569173fbc"
      },
      "execution_count": 406,
      "outputs": [
        {
          "output_type": "execute_result",
          "data": {
            "text/plain": [
              "array([252.98678167, 405.87185586, 252.98678167, 613.98517184,\n",
              "       405.87185586, 252.98678167, 262.00104151, 252.98678167,\n",
              "       262.00104151, 243.578     , 334.68111535, 405.87185586,\n",
              "       334.68111535, 405.87185586, 405.87185586, 252.98678167,\n",
              "       334.68111535, 613.98517184, 243.578     , 243.578     ,\n",
              "       252.98678167, 468.31453876, 252.98678167, 243.578     ,\n",
              "       262.00104151, 613.98517184, 252.98678167, 252.98678167,\n",
              "       334.68111535, 243.578     , 405.87185586, 334.68111535,\n",
              "       405.87185586, 243.578     , 468.31453876, 252.98678167,\n",
              "       405.87185586, 613.98517184, 262.00104151, 468.31453876,\n",
              "       243.578     , 613.98517184, 613.98517184, 334.68111535,\n",
              "       613.98517184, 613.98517184, 262.00104151, 243.578     ,\n",
              "       262.00104151, 262.00104151, 243.578     , 252.98678167,\n",
              "       468.31453876, 252.98678167, 262.00104151, 334.68111535,\n",
              "       613.98517184, 243.578     , 252.98678167, 243.578     ,\n",
              "       613.98517184, 243.578     , 468.31453876, 405.87185586,\n",
              "       243.578     , 252.98678167, 334.68111535, 613.98517184,\n",
              "       334.68111535, 252.98678167, 405.87185586, 243.578     ,\n",
              "       252.98678167, 243.578     , 613.98517184, 252.98678167,\n",
              "       468.31453876, 243.578     , 262.00104151, 243.578     ,\n",
              "       243.578     , 262.00104151, 252.98678167, 262.00104151,\n",
              "       405.87185586, 405.87185586, 405.87185586, 405.87185586,\n",
              "       468.31453876, 243.578     , 243.578     , 252.98678167,\n",
              "       405.87185586, 334.68111535, 405.87185586, 252.98678167,\n",
              "       468.31453876, 405.87185586, 613.98517184, 468.31453876,\n",
              "       405.87185586, 613.98517184, 468.31453876, 468.31453876,\n",
              "       468.31453876, 405.87185586, 243.578     , 252.98678167,\n",
              "       405.87185586, 405.87185586, 262.00104151, 405.87185586,\n",
              "       613.98517184, 243.578     , 243.578     , 334.68111535,\n",
              "       405.87185586, 613.98517184, 613.98517184, 243.578     ,\n",
              "       613.98517184, 405.87185586, 334.68111535, 252.98678167,\n",
              "       468.31453876, 334.68111535, 334.68111535, 252.98678167,\n",
              "       334.68111535, 252.98678167, 613.98517184, 334.68111535,\n",
              "       405.87185586, 405.87185586, 243.578     , 468.31453876,\n",
              "       243.578     , 405.87185586, 613.98517184, 252.98678167,\n",
              "       613.98517184, 262.00104151, 252.98678167, 243.578     ,\n",
              "       613.98517184, 613.98517184, 243.578     , 405.87185586,\n",
              "       405.87185586, 405.87185586, 252.98678167, 468.31453876,\n",
              "       613.98517184, 252.98678167, 405.87185586, 252.98678167,\n",
              "       262.00104151, 405.87185586, 405.87185586, 243.578     ,\n",
              "       252.98678167, 252.98678167, 613.98517184, 468.31453876,\n",
              "       243.578     , 613.98517184, 468.31453876, 243.578     ,\n",
              "       468.31453876, 468.31453876, 613.98517184, 405.87185586,\n",
              "       405.87185586, 243.578     , 405.87185586, 613.98517184,\n",
              "       613.98517184, 405.87185586, 262.00104151, 468.31453876,\n",
              "       243.578     , 252.98678167, 243.578     , 243.578     ,\n",
              "       613.98517184, 252.98678167, 243.578     , 262.00104151,\n",
              "       262.00104151, 468.31453876, 405.87185586, 468.31453876,\n",
              "       613.98517184, 468.31453876, 243.578     , 405.87185586,\n",
              "       405.87185586, 613.98517184, 334.68111535, 252.98678167,\n",
              "       405.87185586, 252.98678167, 252.98678167, 252.98678167,\n",
              "       405.87185586, 613.98517184, 243.578     , 613.98517184,\n",
              "       243.578     , 468.31453876, 468.31453876, 252.98678167,\n",
              "       613.98517184, 405.87185586, 252.98678167, 243.578     ,\n",
              "       405.87185586, 468.31453876, 252.98678167, 613.98517184,\n",
              "       405.87185586, 243.578     , 405.87185586, 468.31453876,\n",
              "       405.87185586, 334.68111535, 468.31453876, 468.31453876,\n",
              "       613.98517184, 405.87185586, 613.98517184, 243.578     ,\n",
              "       405.87185586, 243.578     , 252.98678167, 613.98517184,\n",
              "       262.00104151, 252.98678167, 243.578     , 613.98517184,\n",
              "       613.98517184, 243.578     , 405.87185586, 468.31453876,\n",
              "       334.68111535, 262.00104151, 468.31453876, 405.87185586,\n",
              "       252.98678167, 243.578     , 613.98517184, 252.98678167,\n",
              "       613.98517184, 405.87185586, 262.00104151, 252.98678167,\n",
              "       613.98517184, 252.98678167, 252.98678167, 243.578     ,\n",
              "       252.98678167, 252.98678167, 243.578     , 252.98678167,\n",
              "       252.98678167, 468.31453876, 262.00104151, 468.31453876,\n",
              "       243.578     , 468.31453876, 613.98517184, 243.578     ,\n",
              "       468.31453876, 334.68111535, 405.87185586, 334.68111535,\n",
              "       334.68111535, 468.31453876, 613.98517184, 405.87185586,\n",
              "       262.00104151, 468.31453876, 334.68111535, 468.31453876,\n",
              "       252.98678167, 252.98678167, 262.00104151, 405.87185586,\n",
              "       262.00104151, 468.31453876, 468.31453876, 262.00104151,\n",
              "       613.98517184, 613.98517184, 405.87185586, 405.87185586,\n",
              "       262.00104151, 262.00104151, 252.98678167, 262.00104151,\n",
              "       468.31453876, 468.31453876, 334.68111535, 468.31453876,\n",
              "       262.00104151, 613.98517184, 405.87185586, 334.68111535,\n",
              "       405.87185586, 252.98678167, 252.98678167, 613.98517184,\n",
              "       252.98678167, 262.00104151, 613.98517184, 252.98678167,\n",
              "       252.98678167, 613.98517184, 252.98678167, 405.87185586,\n",
              "       252.98678167, 262.00104151, 252.98678167, 613.98517184,\n",
              "       468.31453876, 468.31453876, 252.98678167, 468.31453876,\n",
              "       468.31453876, 405.87185586, 468.31453876, 468.31453876,\n",
              "       252.98678167, 262.00104151, 252.98678167, 405.87185586,\n",
              "       334.68111535, 405.87185586, 405.87185586, 468.31453876,\n",
              "       243.578     , 252.98678167, 468.31453876, 405.87185586,\n",
              "       243.578     , 252.98678167, 243.578     , 334.68111535,\n",
              "       243.578     , 613.98517184, 252.98678167, 613.98517184,\n",
              "       243.578     , 613.98517184, 252.98678167, 613.98517184,\n",
              "       613.98517184, 243.578     , 405.87185586, 334.68111535,\n",
              "       243.578     , 243.578     , 613.98517184, 613.98517184,\n",
              "       613.98517184, 334.68111535, 468.31453876, 243.578     ,\n",
              "       613.98517184, 613.98517184, 613.98517184, 252.98678167,\n",
              "       468.31453876, 468.31453876, 613.98517184, 468.31453876,\n",
              "       243.578     , 613.98517184, 252.98678167, 243.578     ,\n",
              "       252.98678167, 262.00104151, 405.87185586, 252.98678167,\n",
              "       262.00104151, 262.00104151, 262.00104151, 613.98517184,\n",
              "       262.00104151, 613.98517184, 243.578     , 613.98517184,\n",
              "       262.00104151, 613.98517184, 613.98517184, 334.68111535,\n",
              "       243.578     , 262.00104151, 468.31453876, 468.31453876,\n",
              "       468.31453876, 613.98517184, 468.31453876, 262.00104151,\n",
              "       252.98678167, 262.00104151, 468.31453876, 613.98517184,\n",
              "       405.87185586, 243.578     , 252.98678167, 252.98678167,\n",
              "       468.31453876, 405.87185586, 405.87185586, 262.00104151,\n",
              "       334.68111535, 252.98678167, 405.87185586, 334.68111535,\n",
              "       334.68111535, 252.98678167, 405.87185586, 468.31453876,\n",
              "       405.87185586, 613.98517184, 252.98678167, 613.98517184,\n",
              "       468.31453876, 613.98517184, 243.578     , 262.00104151,\n",
              "       334.68111535, 243.578     , 468.31453876, 613.98517184,\n",
              "       468.31453876, 613.98517184, 243.578     , 252.98678167,\n",
              "       613.98517184, 334.68111535, 243.578     , 262.00104151,\n",
              "       613.98517184, 468.31453876, 468.31453876, 334.68111535,\n",
              "       613.98517184, 252.98678167, 613.98517184, 405.87185586,\n",
              "       334.68111535, 468.31453876, 262.00104151, 468.31453876,\n",
              "       468.31453876, 252.98678167, 405.87185586, 468.31453876,\n",
              "       262.00104151, 468.31453876, 334.68111535, 468.31453876,\n",
              "       243.578     , 262.00104151, 334.68111535, 405.87185586,\n",
              "       243.578     , 243.578     , 334.68111535, 243.578     ,\n",
              "       243.578     , 613.98517184, 262.00104151, 405.87185586,\n",
              "       405.87185586, 243.578     , 405.87185586, 613.98517184,\n",
              "       468.31453876, 405.87185586, 262.00104151, 468.31453876,\n",
              "       262.00104151, 243.578     , 405.87185586, 334.68111535,\n",
              "       468.31453876, 252.98678167, 405.87185586, 405.87185586,\n",
              "       613.98517184, 613.98517184, 405.87185586, 262.00104151,\n",
              "       405.87185586, 262.00104151, 243.578     , 468.31453876,\n",
              "       252.98678167, 243.578     , 262.00104151, 252.98678167,\n",
              "       334.68111535, 243.578     , 262.00104151, 613.98517184,\n",
              "       252.98678167, 613.98517184, 405.87185586, 243.578     ,\n",
              "       334.68111535, 252.98678167, 405.87185586, 613.98517184,\n",
              "       334.68111535, 613.98517184, 468.31453876, 252.98678167,\n",
              "       334.68111535, 468.31453876, 252.98678167, 613.98517184,\n",
              "       405.87185586, 613.98517184, 334.68111535, 252.98678167,\n",
              "       613.98517184, 613.98517184, 243.578     , 252.98678167,\n",
              "       243.578     , 613.98517184, 613.98517184, 334.68111535,\n",
              "       252.98678167, 468.31453876, 613.98517184, 243.578     ,\n",
              "       252.98678167, 613.98517184, 405.87185586, 252.98678167,\n",
              "       243.578     , 468.31453876, 405.87185586, 468.31453876,\n",
              "       468.31453876, 405.87185586, 252.98678167, 405.87185586,\n",
              "       243.578     , 613.98517184, 613.98517184, 468.31453876,\n",
              "       334.68111535, 262.00104151, 405.87185586, 405.87185586,\n",
              "       252.98678167, 405.87185586, 405.87185586, 468.31453876,\n",
              "       252.98678167, 334.68111535, 405.87185586, 468.31453876,\n",
              "       613.98517184, 243.578     , 243.578     , 468.31453876,\n",
              "       405.87185586, 405.87185586, 405.87185586, 243.578     ,\n",
              "       243.578     , 243.578     , 334.68111535, 334.68111535,\n",
              "       243.578     , 468.31453876, 405.87185586, 252.98678167,\n",
              "       405.87185586, 262.00104151, 252.98678167, 468.31453876,\n",
              "       334.68111535, 468.31453876, 262.00104151, 613.98517184,\n",
              "       252.98678167, 334.68111535, 262.00104151, 243.578     ,\n",
              "       613.98517184, 334.68111535, 334.68111535, 262.00104151,\n",
              "       468.31453876, 252.98678167, 468.31453876, 334.68111535,\n",
              "       613.98517184, 468.31453876, 613.98517184, 613.98517184,\n",
              "       243.578     , 243.578     , 252.98678167, 613.98517184,\n",
              "       243.578     , 613.98517184, 243.578     , 468.31453876,\n",
              "       613.98517184, 243.578     , 243.578     , 243.578     ,\n",
              "       468.31453876, 405.87185586, 243.578     , 334.68111535,\n",
              "       613.98517184, 468.31453876, 468.31453876, 243.578     ,\n",
              "       252.98678167, 613.98517184, 334.68111535, 252.98678167,\n",
              "       262.00104151, 262.00104151, 468.31453876, 468.31453876,\n",
              "       468.31453876, 252.98678167, 262.00104151, 613.98517184,\n",
              "       243.578     , 405.87185586, 405.87185586, 468.31453876,\n",
              "       243.578     , 405.87185586, 468.31453876, 252.98678167,\n",
              "       252.98678167, 252.98678167, 405.87185586, 468.31453876,\n",
              "       613.98517184, 243.578     , 468.31453876, 405.87185586,\n",
              "       252.98678167, 334.68111535, 468.31453876, 252.98678167,\n",
              "       613.98517184, 405.87185586, 252.98678167, 252.98678167,\n",
              "       613.98517184, 613.98517184, 243.578     , 243.578     ,\n",
              "       468.31453876, 243.578     , 468.31453876, 243.578     ,\n",
              "       262.00104151, 405.87185586, 262.00104151, 468.31453876,\n",
              "       613.98517184, 468.31453876, 243.578     , 243.578     ,\n",
              "       468.31453876, 334.68111535, 613.98517184, 252.98678167,\n",
              "       468.31453876, 252.98678167, 334.68111535, 252.98678167,\n",
              "       243.578     , 262.00104151, 334.68111535, 405.87185586,\n",
              "       252.98678167, 468.31453876, 252.98678167, 405.87185586,\n",
              "       243.578     , 468.31453876, 613.98517184, 613.98517184,\n",
              "       405.87185586, 613.98517184, 405.87185586, 262.00104151,\n",
              "       252.98678167, 405.87185586, 405.87185586, 262.00104151,\n",
              "       405.87185586, 468.31453876, 262.00104151, 334.68111535,\n",
              "       405.87185586, 252.98678167, 468.31453876, 243.578     ,\n",
              "       243.578     , 262.00104151, 243.578     , 243.578     ,\n",
              "       468.31453876, 405.87185586, 613.98517184, 613.98517184,\n",
              "       468.31453876, 262.00104151, 405.87185586, 468.31453876,\n",
              "       252.98678167, 468.31453876, 262.00104151, 252.98678167,\n",
              "       243.578     , 405.87185586, 405.87185586, 252.98678167,\n",
              "       243.578     , 613.98517184, 468.31453876, 243.578     ,\n",
              "       243.578     , 252.98678167, 334.68111535, 252.98678167,\n",
              "       243.578     , 613.98517184, 405.87185586, 243.578     ,\n",
              "       334.68111535, 613.98517184, 468.31453876, 405.87185586,\n",
              "       468.31453876, 468.31453876, 243.578     , 252.98678167,\n",
              "       468.31453876, 252.98678167, 613.98517184, 334.68111535,\n",
              "       252.98678167, 613.98517184, 252.98678167, 405.87185586,\n",
              "       405.87185586, 468.31453876, 243.578     , 405.87185586,\n",
              "       252.98678167, 262.00104151, 613.98517184, 252.98678167,\n",
              "       405.87185586, 405.87185586, 252.98678167, 468.31453876,\n",
              "       252.98678167, 262.00104151, 334.68111535, 243.578     ,\n",
              "       262.00104151, 243.578     , 243.578     , 262.00104151,\n",
              "       243.578     , 334.68111535, 613.98517184, 243.578     ,\n",
              "       334.68111535, 613.98517184, 405.87185586, 243.578     ,\n",
              "       468.31453876, 262.00104151, 613.98517184, 405.87185586,\n",
              "       613.98517184, 243.578     , 468.31453876, 252.98678167,\n",
              "       243.578     , 252.98678167, 613.98517184, 405.87185586,\n",
              "       405.87185586, 252.98678167, 405.87185586, 613.98517184,\n",
              "       243.578     , 613.98517184, 405.87185586, 252.98678167,\n",
              "       243.578     , 405.87185586, 252.98678167, 468.31453876,\n",
              "       252.98678167, 613.98517184, 405.87185586, 243.578     ,\n",
              "       243.578     , 252.98678167, 468.31453876, 613.98517184,\n",
              "       334.68111535, 252.98678167, 252.98678167, 468.31453876,\n",
              "       468.31453876, 252.98678167, 243.578     , 468.31453876,\n",
              "       468.31453876, 405.87185586, 243.578     , 262.00104151,\n",
              "       468.31453876, 243.578     , 252.98678167, 405.87185586,\n",
              "       613.98517184, 405.87185586, 252.98678167, 243.578     ,\n",
              "       468.31453876, 405.87185586, 405.87185586, 405.87185586,\n",
              "       405.87185586, 243.578     , 334.68111535, 262.00104151,\n",
              "       252.98678167, 334.68111535, 252.98678167, 243.578     ,\n",
              "       468.31453876, 334.68111535, 405.87185586, 334.68111535,\n",
              "       334.68111535, 613.98517184, 613.98517184, 613.98517184,\n",
              "       405.87185586, 262.00104151, 405.87185586, 252.98678167,\n",
              "       468.31453876, 613.98517184, 613.98517184, 334.68111535,\n",
              "       468.31453876, 613.98517184, 334.68111535, 262.00104151,\n",
              "       468.31453876, 468.31453876, 252.98678167, 243.578     ,\n",
              "       405.87185586, 252.98678167, 243.578     ])"
            ]
          },
          "metadata": {},
          "execution_count": 406
        }
      ]
    },
    {
      "cell_type": "code",
      "source": [
        "mean_squared_error(y_test, reg_pred)"
      ],
      "metadata": {
        "colab": {
          "base_uri": "https://localhost:8080/"
        },
        "id": "UcCHb6biNVdT",
        "outputId": "fddcb585-1003-4ce8-d6ef-33a649f3222f"
      },
      "execution_count": 462,
      "outputs": [
        {
          "output_type": "execute_result",
          "data": {
            "text/plain": [
              "0.4582122680321471"
            ]
          },
          "metadata": {},
          "execution_count": 462
        }
      ]
    },
    {
      "cell_type": "code",
      "source": [
        "sqrt(mean_squared_error(y_test, reg_pred))"
      ],
      "metadata": {
        "colab": {
          "base_uri": "https://localhost:8080/"
        },
        "id": "FV1QNoN6NbmH",
        "outputId": "0f7c6045-aadd-453e-e247-327feae6ee3f"
      },
      "execution_count": 463,
      "outputs": [
        {
          "output_type": "execute_result",
          "data": {
            "text/plain": [
              "0.6769137818305572"
            ]
          },
          "metadata": {},
          "execution_count": 463
        }
      ]
    },
    {
      "cell_type": "code",
      "source": [
        "from sklearn.linear_model import LinearRegression\n",
        "from sklearn.metrics import accuracy_score\n",
        "reg = LinearRegression()\n",
        "reg.fit(x_train,y_train)\n",
        "reg_pred = reg.predict(x_test)\n",
        "reg_pred"
      ],
      "metadata": {
        "colab": {
          "base_uri": "https://localhost:8080/"
        },
        "id": "99b80sE17eBE",
        "outputId": "1f9af7c1-7108-49ee-eab7-d9e78d9d09f2"
      },
      "execution_count": 417,
      "outputs": [
        {
          "output_type": "execute_result",
          "data": {
            "text/plain": [
              "array([372., 392., 350., 324., 350., 392., 350., 372., 302., 302., 372.,\n",
              "       302., 372., 350., 440., 350., 392., 324., 392., 420., 372., 392.,\n",
              "       350., 372., 302., 350., 372., 372., 372., 392., 392., 302., 350.,\n",
              "       324., 372., 350., 420., 440., 350., 324., 324., 392., 372., 302.,\n",
              "       302., 372., 372., 372., 392., 372., 350., 350., 302., 440., 324.,\n",
              "       350., 372., 420., 302., 324., 372., 302., 372., 392., 372., 372.,\n",
              "       350., 392., 392., 392., 350., 324., 324., 420., 392., 350., 302.,\n",
              "       372., 420., 324., 440., 302., 302., 372., 372., 440., 324., 302.,\n",
              "       372., 372., 420., 372., 302., 302., 324., 302., 392., 392., 350.,\n",
              "       372., 324., 392., 392., 350., 392., 372., 392., 302., 420., 440.,\n",
              "       372., 372., 392., 440., 392., 372., 440., 324., 350., 350., 302.,\n",
              "       324., 440., 350., 350., 392., 302., 440., 302., 324., 440., 372.,\n",
              "       350., 324., 302., 350., 440., 350., 324., 324., 392., 350., 392.,\n",
              "       392., 302., 350., 372., 350., 350., 372., 302., 392., 350., 372.,\n",
              "       350., 302., 440., 392., 372., 420., 392., 324., 372., 392., 420.,\n",
              "       392., 324., 324., 350., 324., 350., 302., 372., 372., 324., 350.,\n",
              "       302., 324., 302., 392., 324., 392., 324., 324., 324., 302., 420.,\n",
              "       392., 302., 392., 392., 324., 302., 392., 324., 324., 324., 302.,\n",
              "       392., 302., 302., 440., 440., 350., 420., 324., 372., 324., 420.,\n",
              "       324., 302., 302., 324., 324., 372., 372., 372., 324., 324., 324.,\n",
              "       392.])"
            ]
          },
          "metadata": {},
          "execution_count": 417
        }
      ]
    },
    {
      "cell_type": "code",
      "source": [
        "reg.score(x_train,y_train)"
      ],
      "metadata": {
        "colab": {
          "base_uri": "https://localhost:8080/"
        },
        "id": "57mGRx0X8RFB",
        "outputId": "65386d4f-5f9a-441e-9f31-66978d1dd70d"
      },
      "execution_count": 468,
      "outputs": [
        {
          "output_type": "execute_result",
          "data": {
            "text/plain": [
              "0.007332694686596364"
            ]
          },
          "metadata": {},
          "execution_count": 468
        }
      ]
    },
    {
      "cell_type": "code",
      "source": [
        "mean_squared_error(y_test, reg_pred)"
      ],
      "metadata": {
        "colab": {
          "base_uri": "https://localhost:8080/"
        },
        "id": "zsdQ7T4w-QMq",
        "outputId": "1e8cf9c5-d42a-4a53-e98c-4111b035d8ef"
      },
      "execution_count": 441,
      "outputs": [
        {
          "output_type": "execute_result",
          "data": {
            "text/plain": [
              "126417.55961208453"
            ]
          },
          "metadata": {},
          "execution_count": 441
        }
      ]
    },
    {
      "cell_type": "code",
      "source": [
        "#x_train = x_train[:-883]\n",
        "#y_train = y_train[-883:]\n",
        "#x_test = x_test[:-221]\n",
        "#y_test = y_test[-221:]"
      ],
      "metadata": {
        "id": "HB6jtTwyA9Rf"
      },
      "execution_count": 390,
      "outputs": []
    },
    {
      "cell_type": "code",
      "source": [
        "x_train.shape"
      ],
      "metadata": {
        "colab": {
          "base_uri": "https://localhost:8080/"
        },
        "id": "wIuIarK5Z-kF",
        "outputId": "d432005c-dcbd-405f-fd2f-5b23d456c7be"
      },
      "execution_count": 391,
      "outputs": [
        {
          "output_type": "execute_result",
          "data": {
            "text/plain": [
              "(883, 2)"
            ]
          },
          "metadata": {},
          "execution_count": 391
        }
      ]
    },
    {
      "cell_type": "code",
      "source": [
        "y_train.shape"
      ],
      "metadata": {
        "colab": {
          "base_uri": "https://localhost:8080/"
        },
        "id": "VFeN8dISaBEh",
        "outputId": "41270e55-bc93-4b75-fbcd-05e421d63dff"
      },
      "execution_count": 392,
      "outputs": [
        {
          "output_type": "execute_result",
          "data": {
            "text/plain": [
              "(883,)"
            ]
          },
          "metadata": {},
          "execution_count": 392
        }
      ]
    },
    {
      "cell_type": "code",
      "source": [
        "x_test.shape"
      ],
      "metadata": {
        "colab": {
          "base_uri": "https://localhost:8080/"
        },
        "id": "6ti0m9HxaSde",
        "outputId": "0ffd6fff-e037-4f41-cf9b-8713646c041f"
      },
      "execution_count": 393,
      "outputs": [
        {
          "output_type": "execute_result",
          "data": {
            "text/plain": [
              "(221, 2)"
            ]
          },
          "metadata": {},
          "execution_count": 393
        }
      ]
    },
    {
      "cell_type": "code",
      "source": [
        "y_test.shape"
      ],
      "metadata": {
        "colab": {
          "base_uri": "https://localhost:8080/"
        },
        "id": "-_DFq9zWaVX_",
        "outputId": "81b68be3-051e-4db2-af2c-fde992c037d2"
      },
      "execution_count": 394,
      "outputs": [
        {
          "output_type": "execute_result",
          "data": {
            "text/plain": [
              "(221,)"
            ]
          },
          "metadata": {},
          "execution_count": 394
        }
      ]
    },
    {
      "cell_type": "code",
      "source": [
        "x_train.dtypes"
      ],
      "metadata": {
        "colab": {
          "base_uri": "https://localhost:8080/"
        },
        "id": "vGIcAk-kc7_G",
        "outputId": "5ad19d30-d417-4bdf-91dc-58e1cbdb6c02"
      },
      "execution_count": 395,
      "outputs": [
        {
          "output_type": "execute_result",
          "data": {
            "text/plain": [
              "Min Weight in kg    int64\n",
              "Max Weight in kg    int64\n",
              "dtype: object"
            ]
          },
          "metadata": {},
          "execution_count": 395
        }
      ]
    },
    {
      "cell_type": "code",
      "source": [
        "fig2, (ax3, ax4) = plt.subplots(1,2, figsize =(10,4))\n",
        "fig2.tight_layout(pad  = 3.0)\n",
        "ax3.scatter(x_train.reshape(-1,1), y_train, color='#000C1F')\n",
        "ax3.set_xlabel(\"Feature\")\n",
        "ax3.set_ylabel(\"Target\")\n",
        "ax3.set_title(\"Training Data\")\n",
        "\n",
        "ax4.scatter(x_test, y_test, color='#000C1F')\n",
        "ax4.set_xlabel(\"Feature\")\n",
        "ax4.set_ylabel(\"Target\")\n",
        "ax4.set_title(\"Testing Data\")\n",
        "\n",
        "\n"
      ],
      "metadata": {
        "colab": {
          "base_uri": "https://localhost:8080/",
          "height": 586
        },
        "id": "N-zKvzMLgkKt",
        "outputId": "6efd10d0-aef9-4322-de80-2776f0252ab9"
      },
      "execution_count": 396,
      "outputs": [
        {
          "output_type": "error",
          "ename": "AttributeError",
          "evalue": "ignored",
          "traceback": [
            "\u001b[0;31m---------------------------------------------------------------------------\u001b[0m",
            "\u001b[0;31mAttributeError\u001b[0m                            Traceback (most recent call last)",
            "\u001b[0;32m<ipython-input-396-c2be429ef3a1>\u001b[0m in \u001b[0;36m<module>\u001b[0;34m\u001b[0m\n\u001b[1;32m      1\u001b[0m \u001b[0mfig2\u001b[0m\u001b[0;34m,\u001b[0m \u001b[0;34m(\u001b[0m\u001b[0max3\u001b[0m\u001b[0;34m,\u001b[0m \u001b[0max4\u001b[0m\u001b[0;34m)\u001b[0m \u001b[0;34m=\u001b[0m \u001b[0mplt\u001b[0m\u001b[0;34m.\u001b[0m\u001b[0msubplots\u001b[0m\u001b[0;34m(\u001b[0m\u001b[0;36m1\u001b[0m\u001b[0;34m,\u001b[0m\u001b[0;36m2\u001b[0m\u001b[0;34m,\u001b[0m \u001b[0mfigsize\u001b[0m \u001b[0;34m=\u001b[0m\u001b[0;34m(\u001b[0m\u001b[0;36m10\u001b[0m\u001b[0;34m,\u001b[0m\u001b[0;36m4\u001b[0m\u001b[0;34m)\u001b[0m\u001b[0;34m)\u001b[0m\u001b[0;34m\u001b[0m\u001b[0;34m\u001b[0m\u001b[0m\n\u001b[1;32m      2\u001b[0m \u001b[0mfig2\u001b[0m\u001b[0;34m.\u001b[0m\u001b[0mtight_layout\u001b[0m\u001b[0;34m(\u001b[0m\u001b[0mpad\u001b[0m  \u001b[0;34m=\u001b[0m \u001b[0;36m3.0\u001b[0m\u001b[0;34m)\u001b[0m\u001b[0;34m\u001b[0m\u001b[0;34m\u001b[0m\u001b[0m\n\u001b[0;32m----> 3\u001b[0;31m \u001b[0max3\u001b[0m\u001b[0;34m.\u001b[0m\u001b[0mscatter\u001b[0m\u001b[0;34m(\u001b[0m\u001b[0mx_train\u001b[0m\u001b[0;34m.\u001b[0m\u001b[0mreshape\u001b[0m\u001b[0;34m(\u001b[0m\u001b[0;34m-\u001b[0m\u001b[0;36m1\u001b[0m\u001b[0;34m,\u001b[0m\u001b[0;36m1\u001b[0m\u001b[0;34m)\u001b[0m\u001b[0;34m,\u001b[0m \u001b[0my_train\u001b[0m\u001b[0;34m,\u001b[0m \u001b[0mcolor\u001b[0m\u001b[0;34m=\u001b[0m\u001b[0;34m'#000C1F'\u001b[0m\u001b[0;34m)\u001b[0m\u001b[0;34m\u001b[0m\u001b[0;34m\u001b[0m\u001b[0m\n\u001b[0m\u001b[1;32m      4\u001b[0m \u001b[0max3\u001b[0m\u001b[0;34m.\u001b[0m\u001b[0mset_xlabel\u001b[0m\u001b[0;34m(\u001b[0m\u001b[0;34m\"Feature\"\u001b[0m\u001b[0;34m)\u001b[0m\u001b[0;34m\u001b[0m\u001b[0;34m\u001b[0m\u001b[0m\n\u001b[1;32m      5\u001b[0m \u001b[0max3\u001b[0m\u001b[0;34m.\u001b[0m\u001b[0mset_ylabel\u001b[0m\u001b[0;34m(\u001b[0m\u001b[0;34m\"Target\"\u001b[0m\u001b[0;34m)\u001b[0m\u001b[0;34m\u001b[0m\u001b[0;34m\u001b[0m\u001b[0m\n",
            "\u001b[0;32m/usr/local/lib/python3.7/dist-packages/pandas/core/generic.py\u001b[0m in \u001b[0;36m__getattr__\u001b[0;34m(self, name)\u001b[0m\n\u001b[1;32m   5485\u001b[0m         ):\n\u001b[1;32m   5486\u001b[0m             \u001b[0;32mreturn\u001b[0m \u001b[0mself\u001b[0m\u001b[0;34m[\u001b[0m\u001b[0mname\u001b[0m\u001b[0;34m]\u001b[0m\u001b[0;34m\u001b[0m\u001b[0;34m\u001b[0m\u001b[0m\n\u001b[0;32m-> 5487\u001b[0;31m         \u001b[0;32mreturn\u001b[0m \u001b[0mobject\u001b[0m\u001b[0;34m.\u001b[0m\u001b[0m__getattribute__\u001b[0m\u001b[0;34m(\u001b[0m\u001b[0mself\u001b[0m\u001b[0;34m,\u001b[0m \u001b[0mname\u001b[0m\u001b[0;34m)\u001b[0m\u001b[0;34m\u001b[0m\u001b[0;34m\u001b[0m\u001b[0m\n\u001b[0m\u001b[1;32m   5488\u001b[0m \u001b[0;34m\u001b[0m\u001b[0m\n\u001b[1;32m   5489\u001b[0m     \u001b[0;32mdef\u001b[0m \u001b[0m__setattr__\u001b[0m\u001b[0;34m(\u001b[0m\u001b[0mself\u001b[0m\u001b[0;34m,\u001b[0m \u001b[0mname\u001b[0m\u001b[0;34m:\u001b[0m \u001b[0mstr\u001b[0m\u001b[0;34m,\u001b[0m \u001b[0mvalue\u001b[0m\u001b[0;34m)\u001b[0m \u001b[0;34m->\u001b[0m \u001b[0;32mNone\u001b[0m\u001b[0;34m:\u001b[0m\u001b[0;34m\u001b[0m\u001b[0;34m\u001b[0m\u001b[0m\n",
            "\u001b[0;31mAttributeError\u001b[0m: 'DataFrame' object has no attribute 'reshape'"
          ]
        },
        {
          "output_type": "display_data",
          "data": {
            "text/plain": [
              "<Figure size 720x288 with 2 Axes>"
            ],
            "image/png": "[encoded data removed]"
          },
          "metadata": {}
        }
      ]
    },
    {
      "cell_type": "code",
      "source": [
        "mse = mean_squared_error(y_test,y_pred)"
      ],
      "metadata": {
        "id": "ozV2tNPbfW17"
      },
      "execution_count": null,
      "outputs": []
    },
    {
      "cell_type": "code",
      "source": [
        "mse"
      ],
      "metadata": {
        "id": "BS_fLanVfkW_"
      },
      "execution_count": null,
      "outputs": []
    },
    {
      "cell_type": "code",
      "source": [
        "from sklearn.linear_model import LinearRegression\n",
        "reg_lin = LinearRegression()\n",
        "reg_lin.fit(x_train,y_train)\n",
        "y_pred_lin = reg_lin.predict(x_test) "
      ],
      "metadata": {
        "id": "apMmEW-5kPw-"
      },
      "execution_count": null,
      "outputs": []
    },
    {
      "cell_type": "code",
      "source": [
        "y_pred_lin"
      ],
      "metadata": {
        "id": "gJpxAgUDktnX"
      },
      "execution_count": null,
      "outputs": []
    },
    {
      "cell_type": "code",
      "source": [
        "k_list=np.arange(1,40,80)\n",
        "k_list"
      ],
      "metadata": {
        "id": "IlGMG0AQ-QeB"
      },
      "execution_count": null,
      "outputs": []
    },
    {
      "cell_type": "code",
      "source": [
        "k_list.shape"
      ],
      "metadata": {
        "id": "YrfBDdxA-Svy"
      },
      "execution_count": null,
      "outputs": []
    },
    {
      "cell_type": "code",
      "source": [
        "\n",
        "#fig,ax=plt.subplots(figsize=(10,10))\n",
        "#k_list=np.arange(1,40,80)\n",
        "y_pred_knn=[] # To store k and mse pairs\n",
        "for i in [1, 290, 870]:\n",
        "#Knn Model Creation\n",
        "    knn=KNeighborsRegressor(n_neighbors=int(i))\n",
        "    model_knn=knn.fit(x_train,y_train)\n",
        "    y_knn_pred=model_knn.predict(x_test)\n",
        "    y_pred_knn.append(y_knn_pred)\n",
        "#Storing MSE \n",
        "    #mse=mean_squared_error(y_test,y_knn_pred)\n",
        "    #knn_dict[i]=mse\n",
        "#Plotting the results\n",
        "#ax.plot(knn_dict.keys(),knn_dict.values())\n",
        "#ax.set_xlabel('K-VALUE', fontsize=20)\n",
        "#ax.set_ylabel('MSE' ,fontsize=20)\n",
        "#ax.set_title('ELBOW PLOT' ,fontsize=28)\n",
        "\n",
        "#Now you know why we call it an elbow plot and it clearly shows our MSE is minimum when k=9. Hurrah!\n",
        "\n",
        "#We build our model similar to the way we did above and we just substitute the value of n_neighbors as 9 while doing that. Let’s see the results.\n",
        "\n",
        "#The mean Square error turns out to be "
      ],
      "metadata": {
        "id": "Gp7vuqPgao6h"
      },
      "execution_count": null,
      "outputs": []
    },
    {
      "cell_type": "code",
      "source": [
        "len(y_pred_knn)"
      ],
      "metadata": {
        "id": "HRKRCK5_rwsj"
      },
      "execution_count": null,
      "outputs": []
    },
    {
      "cell_type": "code",
      "source": [
        "y_pred_knn"
      ],
      "metadata": {
        "id": "JC0KHaX2CSFy"
      },
      "execution_count": null,
      "outputs": []
    },
    {
      "cell_type": "markdown",
      "source": [
        "#Sort the data according to the test features#"
      ],
      "metadata": {
        "id": "j-Apgd_0hlri"
      }
    },
    {
      "cell_type": "code",
      "source": [
        "df = pd.DataFrame(data = {\"x_test\": list(np.array(x_test[['Min Weight in kg', 'Max Weight in kg']]).flatten()),\n",
        "                          \"y_test\": list(np.array(y_test).flatten()),\n",
        "                          \"y_pred_lin\": list(y_pred_lin.flatten()),\n",
        "                          \"y_knn_pred-1\": list(y_pred_knn[0].flatten()),\n",
        "                          \"y_knn_pred-290\": list(y_pred_knn[1].flatten()),\n",
        "                          \"y_knn_pred-870\": list(y_pred_knn[2].flatten())})\n",
        "\n",
        "df = df.sort_values(by = ['x_test'])\n",
        "\n",
        "x_test_sorted = df['x_test'].tolist()\n",
        "y_test_sorted = df['y_test'].tolist()\n",
        "y_pred_lin_sorted = df['y_pred_lin'].tolist()\n",
        "y_knn_pred_1_sorted = df['y_knn_pred-1'].tolist()\n",
        "y_knn_pred_290_sorted = df['y_knn_pred-200'].tolist()\n",
        "y_knn_pred_870_sorted = df['y_knn_pred-400'].tolist()"
      ],
      "metadata": {
        "id": "CfPDLfJ1PZ7d"
      },
      "execution_count": null,
      "outputs": []
    },
    {
      "cell_type": "markdown",
      "source": [
        "Linear Regression plot"
      ],
      "metadata": {
        "id": "vEFDFSN0uhOn"
      }
    },
    {
      "cell_type": "code",
      "source": [
        "sns.set()\n",
        "\n",
        "plt.scatter(x_test_sorted, y_test_sorted, color='#000C1F')\n",
        "\n",
        "plt.plot(x_test_sorted, y_pred_lin_sorted, color='orange')\n",
        "\n",
        "plt.title('Linear fit on top of the test data')\n",
        "plt.xlabel('Feature')\n",
        "plt.ylabel('Target')"
      ],
      "metadata": {
        "id": "dRvPHdwkugyN"
      },
      "execution_count": null,
      "outputs": []
    },
    {
      "cell_type": "markdown",
      "source": [
        "**Visualize the three k-points 1, 40 and 80**"
      ],
      "metadata": {
        "id": "bDICjSwjyIMP"
      }
    },
    {
      "cell_type": "code",
      "source": [
        "sns.set()\n",
        "\n",
        "fig, (ax6,ax7,ax8) = plt.subplots(1, 6, figsize=(16,5))\n",
        "\n",
        "ax6.scatter(x_test_sorted, y_test_sorted, color='#000C1F')\n",
        "ax7.scatter(x_test_sorted, y_test_sorted, color='#000C1F')\n",
        "ax8.scatter(x_test_sorted, y_test_sorted, color='#000C1F')\n",
        "\n",
        "ax6.plot(x_test_sorted, y_knn_pred_1_sorted, color='red')\n",
        "ax6.set_title(K = '1')\n",
        "ax6.set_xlabel('Feature')\n",
        "ax6.set_ylabel('Target')\n",
        "\n",
        "ax7.plot(x_test_sorted, y_knn_pred_40_sorted, color='red')\n",
        "ax7.set_title(' K = 40')\n",
        "ax7.set_xlabel('Feature')\n",
        "ax7.set_ylabel('Target')\n",
        "\n",
        "ax8.plot(x_test_sorted, y_knn_pred_80_sorted, color='red')\n",
        "ax8.set_title(' K = 80')\n",
        "ax8.set_xlabel('Feature')\n",
        "ax8.set_ylabel('Target')"
      ],
      "metadata": {
        "id": "cIsVfEqdyHUp"
      },
      "execution_count": null,
      "outputs": []
    },
    {
      "cell_type": "markdown",
      "source": [
        "MSE"
      ],
      "metadata": {
        "id": "jU9fCS9yw69F"
      }
    },
    {
      "cell_type": "code",
      "source": [
        "k = 41\n",
        "\n",
        "mse_lin = []\n",
        "mse_lin = mean_squared_error(y_test,y_pred_lin)\n",
        "mse_lin = [mse_lin]*(k-1)\n",
        "mse_knn = []\n",
        "\n",
        "for i in range(1, k):\n",
        "  reg_knn = KNeighborsRegressor(n_neighbors=i)\n",
        "  reg_knn.fit(x_train, y_train)\n",
        "  y_pred_knn = reg_knn.predict(x_test)\n",
        "  mse_knn.append(mean_squared_error(y_test, y_pred_knn))"
      ],
      "metadata": {
        "id": "dhEoXrHvw4Yx"
      },
      "execution_count": null,
      "outputs": []
    },
    {
      "cell_type": "markdown",
      "source": [
        "**Plot MSE versus no of neighbors** "
      ],
      "metadata": {
        "id": "ISh6Nc9G2N3Y"
      }
    },
    {
      "cell_type": "code",
      "source": [
        "sns.set()\n",
        "\n",
        "fig, ax = plt.subplots()\n",
        "\n",
        "ax.plot(list(range(1, k)),\n",
        "        mse_lin,\n",
        "        color = 'orange',\n",
        "        label = 'linear')\n",
        "\n",
        "ax.plot(list(range(1, k)),\n",
        "        mse_knn,\n",
        "        color = 'red',\n",
        "        marker = 'o',\n",
        "        markerfacecolor = '#000C1F',\n",
        "        label = 'linear')\n",
        "ax.legend(loc= 'lower right')\n",
        "ax.set_title('Mean Squared Error (MSE)')\n",
        "ax.set_ylabel('K')\n",
        "ax.set_ylabel('MSE')\n",
        "\n",
        "plt.ylim(0);"
      ],
      "metadata": {
        "id": "Pf8ITu-l2L-r"
      },
      "execution_count": null,
      "outputs": []
    }
  ],
  "metadata": {
    "colab": {
      "provenance": [],
      "mount_file_id": "1iTH-LJuo5CCtsLENbRnwzaNhMTQAhJAr",
      "authorship_tag": "ABX9TyMRpQtQWJsdYOfdCp78S1fC",
      "include_colab_link": true
    },
    "kernelspec": {
      "display_name": "Python 3",
      "name": "python3"
    },
    "language_info": {
      "name": "python"
    }
  },
  "nbformat": 4,
  "nbformat_minor": 0
}