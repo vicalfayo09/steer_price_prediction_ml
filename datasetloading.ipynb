{
  "cells": [
    {
      "cell_type": "markdown",
      "metadata": {
        "id": "view-in-github",
        "colab_type": "text"
      },
      "source": [
        "<a href=\"https://colab.research.google.com/github/vicalfayo09/steer_price_prediction_ml/blob/main/datasetloading.ipynb\" target=\"_parent\"><img src=\"https://colab.research.google.com/assets/colab-badge.svg\" alt=\"Open In Colab\"/></a>"
      ]
    },
    {
      "cell_type": "markdown",
      "metadata": {
        "id": "PlrnmSmEOhV3"
      },
      "source": [
        "**MAIN CODE**"
      ]
    },
    {
      "cell_type": "markdown",
      "source": [
        "**Google Drive Authntication for loading dataset**"
      ],
      "metadata": {
        "id": "eGRjxk7-HbuE"
      }
    },
    {
      "cell_type": "code",
      "execution_count": 2,
      "metadata": {
        "id": "dgO3DudeMGjN"
      },
      "outputs": [],
      "source": [
        "import matplotlib.pyplot as plt\n",
        "import pandas as pd\n",
        "import numpy as np\n",
        "import seaborn as sns\n",
        "from sklearn import preprocessing\n",
        "from sklearn.neighbors import KNeighborsRegressor\n",
        "from sklearn.model_selection import train_test_split"
      ]
    },
    {
      "cell_type": "code",
      "execution_count": 3,
      "metadata": {
        "id": "G2l_JVIDMH5f"
      },
      "outputs": [],
      "source": [
        "pd.set_option('display.max_columns', None)"
      ]
    },
    {
      "cell_type": "code",
      "execution_count": 4,
      "metadata": {
        "id": "xaY133rN8LMM"
      },
      "outputs": [],
      "source": [
        "!pip install -U -q PyDrive\n",
        "from pydrive.auth import GoogleAuth\n",
        "from pydrive.drive import GoogleDrive\n",
        "from google.colab import auth\n",
        "from oauth2client.client import GoogleCredentials\n"
      ]
    },
    {
      "cell_type": "code",
      "execution_count": 5,
      "metadata": {
        "id": "7_1nPAsE8scf"
      },
      "outputs": [],
      "source": [
        "auth.authenticate_user()\n",
        "gauth = GoogleAuth()\n",
        "gauth.credentials = GoogleCredentials.get_application_default()\n",
        "drive = GoogleDrive(gauth)"
      ]
    },
    {
      "cell_type": "code",
      "execution_count": 6,
      "metadata": {
        "id": "UxJBtjId9FBE"
      },
      "outputs": [],
      "source": [
        "#https://drive.google.com/file/d/1yi6uL3islOb2a5XZEBmQlF1NnSRroMHT/view?usp=sharing\n",
        "fileDownloaded = drive.CreateFile({'id':'1yi6uL3islOb2a5XZEBmQlF1NnSRroMHT'})"
      ]
    },
    {
      "cell_type": "code",
      "execution_count": 7,
      "metadata": {
        "id": "6dCoJ5RE9oE6"
      },
      "outputs": [],
      "source": [
        "fileDownloaded.GetContentFile('AJA01.20221011194750.csv')"
      ]
    },
    {
      "cell_type": "code",
      "execution_count": 8,
      "metadata": {
        "colab": {
          "base_uri": "https://localhost:8080/",
          "height": 206
        },
        "id": "VZDTvOXY-ABx",
        "outputId": "e8514760-142a-447f-c27d-99df104dc4b8"
      },
      "outputs": [
        {
          "output_type": "execute_result",
          "data": {
            "text/plain": [
              "  STATISTIC CODE              Statistic  TLIST(A1)  Year C01782V02140  \\\n",
              "0        AJA01C1  Cattle Price per Head       1976  1976         B200   \n",
              "1        AJA01C1  Cattle Price per Head       1976  1976         B250   \n",
              "2        AJA01C1  Cattle Price per Head       1976  1976         B300   \n",
              "3        AJA01C1  Cattle Price per Head       1976  1976         B350   \n",
              "4        AJA01C1  Cattle Price per Head       1976  1976         B400   \n",
              "\n",
              "       Type of Cattle  UNIT   VALUE  \n",
              "0  Bullocks 200-249kg  Euro     NaN  \n",
              "1  Bullocks 250-299kg  Euro     NaN  \n",
              "2  Bullocks 300-349kg  Euro  238.29  \n",
              "3  Bullocks 350-399kg  Euro  270.47  \n",
              "4  Bullocks 400-449kg  Euro  302.43  "
            ],
            "text/html": [
              "\n",
              "  <div id=\"df-71482ec9-9d52-4383-a8f6-f28e1b210ee0\">\n",
              "    <div class=\"colab-df-container\">\n",
              "      <div>\n",
              "<style scoped>\n",
              "    .dataframe tbody tr th:only-of-type {\n",
              "        vertical-align: middle;\n",
              "    }\n",
              "\n",
              "    .dataframe tbody tr th {\n",
              "        vertical-align: top;\n",
              "    }\n",
              "\n",
              "    .dataframe thead th {\n",
              "        text-align: right;\n",
              "    }\n",
              "</style>\n",
              "<table border=\"1\" class=\"dataframe\">\n",
              "  <thead>\n",
              "    <tr style=\"text-align: right;\">\n",
              "      <th></th>\n",
              "      <th>STATISTIC CODE</th>\n",
              "      <th>Statistic</th>\n",
              "      <th>TLIST(A1)</th>\n",
              "      <th>Year</th>\n",
              "      <th>C01782V02140</th>\n",
              "      <th>Type of Cattle</th>\n",
              "      <th>UNIT</th>\n",
              "      <th>VALUE</th>\n",
              "    </tr>\n",
              "  </thead>\n",
              "  <tbody>\n",
              "    <tr>\n",
              "      <th>0</th>\n",
              "      <td>AJA01C1</td>\n",
              "      <td>Cattle Price per Head</td>\n",
              "      <td>1976</td>\n",
              "      <td>1976</td>\n",
              "      <td>B200</td>\n",
              "      <td>Bullocks 200-249kg</td>\n",
              "      <td>Euro</td>\n",
              "      <td>NaN</td>\n",
              "    </tr>\n",
              "    <tr>\n",
              "      <th>1</th>\n",
              "      <td>AJA01C1</td>\n",
              "      <td>Cattle Price per Head</td>\n",
              "      <td>1976</td>\n",
              "      <td>1976</td>\n",
              "      <td>B250</td>\n",
              "      <td>Bullocks 250-299kg</td>\n",
              "      <td>Euro</td>\n",
              "      <td>NaN</td>\n",
              "    </tr>\n",
              "    <tr>\n",
              "      <th>2</th>\n",
              "      <td>AJA01C1</td>\n",
              "      <td>Cattle Price per Head</td>\n",
              "      <td>1976</td>\n",
              "      <td>1976</td>\n",
              "      <td>B300</td>\n",
              "      <td>Bullocks 300-349kg</td>\n",
              "      <td>Euro</td>\n",
              "      <td>238.29</td>\n",
              "    </tr>\n",
              "    <tr>\n",
              "      <th>3</th>\n",
              "      <td>AJA01C1</td>\n",
              "      <td>Cattle Price per Head</td>\n",
              "      <td>1976</td>\n",
              "      <td>1976</td>\n",
              "      <td>B350</td>\n",
              "      <td>Bullocks 350-399kg</td>\n",
              "      <td>Euro</td>\n",
              "      <td>270.47</td>\n",
              "    </tr>\n",
              "    <tr>\n",
              "      <th>4</th>\n",
              "      <td>AJA01C1</td>\n",
              "      <td>Cattle Price per Head</td>\n",
              "      <td>1976</td>\n",
              "      <td>1976</td>\n",
              "      <td>B400</td>\n",
              "      <td>Bullocks 400-449kg</td>\n",
              "      <td>Euro</td>\n",
              "      <td>302.43</td>\n",
              "    </tr>\n",
              "  </tbody>\n",
              "</table>\n",
              "</div>\n",
              "      <button class=\"colab-df-convert\" onclick=\"convertToInteractive('df-71482ec9-9d52-4383-a8f6-f28e1b210ee0')\"\n",
              "              title=\"Convert this dataframe to an interactive table.\"\n",
              "              style=\"display:none;\">\n",
              "        \n",
              "  <svg xmlns=\"http://www.w3.org/2000/svg\" height=\"24px\"viewBox=\"0 0 24 24\"\n",
              "       width=\"24px\">\n",
              "    <path d=\"M0 0h24v24H0V0z\" fill=\"none\"/>\n",
              "    <path d=\"M18.56 5.44l.94 2.06.94-2.06 2.06-.94-2.06-.94-.94-2.06-.94 2.06-2.06.94zm-11 1L8.5 8.5l.94-2.06 2.06-.94-2.06-.94L8.5 2.5l-.94 2.06-2.06.94zm10 10l.94 2.06.94-2.06 2.06-.94-2.06-.94-.94-2.06-.94 2.06-2.06.94z\"/><path d=\"M17.41 7.96l-1.37-1.37c-.4-.4-.92-.59-1.43-.59-.52 0-1.04.2-1.43.59L10.3 9.45l-7.72 7.72c-.78.78-.78 2.05 0 2.83L4 21.41c.39.39.9.59 1.41.59.51 0 1.02-.2 1.41-.59l7.78-7.78 2.81-2.81c.8-.78.8-2.07 0-2.86zM5.41 20L4 18.59l7.72-7.72 1.47 1.35L5.41 20z\"/>\n",
              "  </svg>\n",
              "      </button>\n",
              "      \n",
              "  <style>\n",
              "    .colab-df-container {\n",
              "      display:flex;\n",
              "      flex-wrap:wrap;\n",
              "      gap: 12px;\n",
              "    }\n",
              "\n",
              "    .colab-df-convert {\n",
              "      background-color: #E8F0FE;\n",
              "      border: none;\n",
              "      border-radius: 50%;\n",
              "      cursor: pointer;\n",
              "      display: none;\n",
              "      fill: #1967D2;\n",
              "      height: 32px;\n",
              "      padding: 0 0 0 0;\n",
              "      width: 32px;\n",
              "    }\n",
              "\n",
              "    .colab-df-convert:hover {\n",
              "      background-color: #E2EBFA;\n",
              "      box-shadow: 0px 1px 2px rgba(60, 64, 67, 0.3), 0px 1px 3px 1px rgba(60, 64, 67, 0.15);\n",
              "      fill: #174EA6;\n",
              "    }\n",
              "\n",
              "    [theme=dark] .colab-df-convert {\n",
              "      background-color: #3B4455;\n",
              "      fill: #D2E3FC;\n",
              "    }\n",
              "\n",
              "    [theme=dark] .colab-df-convert:hover {\n",
              "      background-color: #434B5C;\n",
              "      box-shadow: 0px 1px 3px 1px rgba(0, 0, 0, 0.15);\n",
              "      filter: drop-shadow(0px 1px 2px rgba(0, 0, 0, 0.3));\n",
              "      fill: #FFFFFF;\n",
              "    }\n",
              "  </style>\n",
              "\n",
              "      <script>\n",
              "        const buttonEl =\n",
              "          document.querySelector('#df-71482ec9-9d52-4383-a8f6-f28e1b210ee0 button.colab-df-convert');\n",
              "        buttonEl.style.display =\n",
              "          google.colab.kernel.accessAllowed ? 'block' : 'none';\n",
              "\n",
              "        async function convertToInteractive(key) {\n",
              "          const element = document.querySelector('#df-71482ec9-9d52-4383-a8f6-f28e1b210ee0');\n",
              "          const dataTable =\n",
              "            await google.colab.kernel.invokeFunction('convertToInteractive',\n",
              "                                                     [key], {});\n",
              "          if (!dataTable) return;\n",
              "\n",
              "          const docLinkHtml = 'Like what you see? Visit the ' +\n",
              "            '<a target=\"_blank\" href=https://colab.research.google.com/notebooks/data_table.ipynb>data table notebook</a>'\n",
              "            + ' to learn more about interactive tables.';\n",
              "          element.innerHTML = '';\n",
              "          dataTable['output_type'] = 'display_data';\n",
              "          await google.colab.output.renderOutput(dataTable, element);\n",
              "          const docLink = document.createElement('div');\n",
              "          docLink.innerHTML = docLinkHtml;\n",
              "          element.appendChild(docLink);\n",
              "        }\n",
              "      </script>\n",
              "    </div>\n",
              "  </div>\n",
              "  "
            ]
          },
          "metadata": {},
          "execution_count": 8
        }
      ],
      "source": [
        "import pandas as pd\n",
        "df = pd.read_csv('AJA01.20221011194750.csv')\n",
        "\n",
        "df.head()"
      ]
    },
    {
      "cell_type": "markdown",
      "source": [
        "**Description of data**"
      ],
      "metadata": {
        "id": "yM_TsPL0Hk3O"
      }
    },
    {
      "cell_type": "code",
      "execution_count": 9,
      "metadata": {
        "colab": {
          "base_uri": "https://localhost:8080/",
          "height": 473
        },
        "id": "BPKY7JDq-VKI",
        "outputId": "d3d11061-14a6-4eb3-f914-1b14ea866b22"
      },
      "outputs": [
        {
          "output_type": "execute_result",
          "data": {
            "text/plain": [
              "       STATISTIC CODE              Statistic    TLIST(A1)         Year  \\\n",
              "count            1288                   1288  1288.000000  1288.000000   \n",
              "unique              2                      2          NaN          NaN   \n",
              "top           AJA01C1  Cattle Price per Head          NaN          NaN   \n",
              "freq              644                    644          NaN          NaN   \n",
              "mean              NaN                    NaN  1998.500000  1998.500000   \n",
              "std               NaN                    NaN    13.281075    13.281075   \n",
              "min               NaN                    NaN  1976.000000  1976.000000   \n",
              "25%               NaN                    NaN  1987.000000  1987.000000   \n",
              "50%               NaN                    NaN  1998.500000  1998.500000   \n",
              "75%               NaN                    NaN  2010.000000  2010.000000   \n",
              "max               NaN                    NaN  2021.000000  2021.000000   \n",
              "\n",
              "       C01782V02140      Type of Cattle  UNIT        VALUE  \n",
              "count          1288                1288  1288  1207.000000  \n",
              "unique           14                  14     1          NaN  \n",
              "top            B200  Bullocks 200-249kg  Euro          NaN  \n",
              "freq             92                  92  1288          NaN  \n",
              "mean            NaN                 NaN   NaN   369.926001  \n",
              "std             NaN                 NaN   NaN   258.764418  \n",
              "min             NaN                 NaN   NaN    46.240000  \n",
              "25%             NaN                 NaN   NaN   154.950000  \n",
              "50%             NaN                 NaN   NaN   228.073462  \n",
              "75%             NaN                 NaN   NaN   560.516376  \n",
              "max             NaN                 NaN   NaN  1175.876638  "
            ],
            "text/html": [
              "\n",
              "  <div id=\"df-4138bffb-74d9-489d-9676-126bbb21aace\">\n",
              "    <div class=\"colab-df-container\">\n",
              "      <div>\n",
              "<style scoped>\n",
              "    .dataframe tbody tr th:only-of-type {\n",
              "        vertical-align: middle;\n",
              "    }\n",
              "\n",
              "    .dataframe tbody tr th {\n",
              "        vertical-align: top;\n",
              "    }\n",
              "\n",
              "    .dataframe thead th {\n",
              "        text-align: right;\n",
              "    }\n",
              "</style>\n",
              "<table border=\"1\" class=\"dataframe\">\n",
              "  <thead>\n",
              "    <tr style=\"text-align: right;\">\n",
              "      <th></th>\n",
              "      <th>STATISTIC CODE</th>\n",
              "      <th>Statistic</th>\n",
              "      <th>TLIST(A1)</th>\n",
              "      <th>Year</th>\n",
              "      <th>C01782V02140</th>\n",
              "      <th>Type of Cattle</th>\n",
              "      <th>UNIT</th>\n",
              "      <th>VALUE</th>\n",
              "    </tr>\n",
              "  </thead>\n",
              "  <tbody>\n",
              "    <tr>\n",
              "      <th>count</th>\n",
              "      <td>1288</td>\n",
              "      <td>1288</td>\n",
              "      <td>1288.000000</td>\n",
              "      <td>1288.000000</td>\n",
              "      <td>1288</td>\n",
              "      <td>1288</td>\n",
              "      <td>1288</td>\n",
              "      <td>1207.000000</td>\n",
              "    </tr>\n",
              "    <tr>\n",
              "      <th>unique</th>\n",
              "      <td>2</td>\n",
              "      <td>2</td>\n",
              "      <td>NaN</td>\n",
              "      <td>NaN</td>\n",
              "      <td>14</td>\n",
              "      <td>14</td>\n",
              "      <td>1</td>\n",
              "      <td>NaN</td>\n",
              "    </tr>\n",
              "    <tr>\n",
              "      <th>top</th>\n",
              "      <td>AJA01C1</td>\n",
              "      <td>Cattle Price per Head</td>\n",
              "      <td>NaN</td>\n",
              "      <td>NaN</td>\n",
              "      <td>B200</td>\n",
              "      <td>Bullocks 200-249kg</td>\n",
              "      <td>Euro</td>\n",
              "      <td>NaN</td>\n",
              "    </tr>\n",
              "    <tr>\n",
              "      <th>freq</th>\n",
              "      <td>644</td>\n",
              "      <td>644</td>\n",
              "      <td>NaN</td>\n",
              "      <td>NaN</td>\n",
              "      <td>92</td>\n",
              "      <td>92</td>\n",
              "      <td>1288</td>\n",
              "      <td>NaN</td>\n",
              "    </tr>\n",
              "    <tr>\n",
              "      <th>mean</th>\n",
              "      <td>NaN</td>\n",
              "      <td>NaN</td>\n",
              "      <td>1998.500000</td>\n",
              "      <td>1998.500000</td>\n",
              "      <td>NaN</td>\n",
              "      <td>NaN</td>\n",
              "      <td>NaN</td>\n",
              "      <td>369.926001</td>\n",
              "    </tr>\n",
              "    <tr>\n",
              "      <th>std</th>\n",
              "      <td>NaN</td>\n",
              "      <td>NaN</td>\n",
              "      <td>13.281075</td>\n",
              "      <td>13.281075</td>\n",
              "      <td>NaN</td>\n",
              "      <td>NaN</td>\n",
              "      <td>NaN</td>\n",
              "      <td>258.764418</td>\n",
              "    </tr>\n",
              "    <tr>\n",
              "      <th>min</th>\n",
              "      <td>NaN</td>\n",
              "      <td>NaN</td>\n",
              "      <td>1976.000000</td>\n",
              "      <td>1976.000000</td>\n",
              "      <td>NaN</td>\n",
              "      <td>NaN</td>\n",
              "      <td>NaN</td>\n",
              "      <td>46.240000</td>\n",
              "    </tr>\n",
              "    <tr>\n",
              "      <th>25%</th>\n",
              "      <td>NaN</td>\n",
              "      <td>NaN</td>\n",
              "      <td>1987.000000</td>\n",
              "      <td>1987.000000</td>\n",
              "      <td>NaN</td>\n",
              "      <td>NaN</td>\n",
              "      <td>NaN</td>\n",
              "      <td>154.950000</td>\n",
              "    </tr>\n",
              "    <tr>\n",
              "      <th>50%</th>\n",
              "      <td>NaN</td>\n",
              "      <td>NaN</td>\n",
              "      <td>1998.500000</td>\n",
              "      <td>1998.500000</td>\n",
              "      <td>NaN</td>\n",
              "      <td>NaN</td>\n",
              "      <td>NaN</td>\n",
              "      <td>228.073462</td>\n",
              "    </tr>\n",
              "    <tr>\n",
              "      <th>75%</th>\n",
              "      <td>NaN</td>\n",
              "      <td>NaN</td>\n",
              "      <td>2010.000000</td>\n",
              "      <td>2010.000000</td>\n",
              "      <td>NaN</td>\n",
              "      <td>NaN</td>\n",
              "      <td>NaN</td>\n",
              "      <td>560.516376</td>\n",
              "    </tr>\n",
              "    <tr>\n",
              "      <th>max</th>\n",
              "      <td>NaN</td>\n",
              "      <td>NaN</td>\n",
              "      <td>2021.000000</td>\n",
              "      <td>2021.000000</td>\n",
              "      <td>NaN</td>\n",
              "      <td>NaN</td>\n",
              "      <td>NaN</td>\n",
              "      <td>1175.876638</td>\n",
              "    </tr>\n",
              "  </tbody>\n",
              "</table>\n",
              "</div>\n",
              "      <button class=\"colab-df-convert\" onclick=\"convertToInteractive('df-4138bffb-74d9-489d-9676-126bbb21aace')\"\n",
              "              title=\"Convert this dataframe to an interactive table.\"\n",
              "              style=\"display:none;\">\n",
              "        \n",
              "  <svg xmlns=\"http://www.w3.org/2000/svg\" height=\"24px\"viewBox=\"0 0 24 24\"\n",
              "       width=\"24px\">\n",
              "    <path d=\"M0 0h24v24H0V0z\" fill=\"none\"/>\n",
              "    <path d=\"M18.56 5.44l.94 2.06.94-2.06 2.06-.94-2.06-.94-.94-2.06-.94 2.06-2.06.94zm-11 1L8.5 8.5l.94-2.06 2.06-.94-2.06-.94L8.5 2.5l-.94 2.06-2.06.94zm10 10l.94 2.06.94-2.06 2.06-.94-2.06-.94-.94-2.06-.94 2.06-2.06.94z\"/><path d=\"M17.41 7.96l-1.37-1.37c-.4-.4-.92-.59-1.43-.59-.52 0-1.04.2-1.43.59L10.3 9.45l-7.72 7.72c-.78.78-.78 2.05 0 2.83L4 21.41c.39.39.9.59 1.41.59.51 0 1.02-.2 1.41-.59l7.78-7.78 2.81-2.81c.8-.78.8-2.07 0-2.86zM5.41 20L4 18.59l7.72-7.72 1.47 1.35L5.41 20z\"/>\n",
              "  </svg>\n",
              "      </button>\n",
              "      \n",
              "  <style>\n",
              "    .colab-df-container {\n",
              "      display:flex;\n",
              "      flex-wrap:wrap;\n",
              "      gap: 12px;\n",
              "    }\n",
              "\n",
              "    .colab-df-convert {\n",
              "      background-color: #E8F0FE;\n",
              "      border: none;\n",
              "      border-radius: 50%;\n",
              "      cursor: pointer;\n",
              "      display: none;\n",
              "      fill: #1967D2;\n",
              "      height: 32px;\n",
              "      padding: 0 0 0 0;\n",
              "      width: 32px;\n",
              "    }\n",
              "\n",
              "    .colab-df-convert:hover {\n",
              "      background-color: #E2EBFA;\n",
              "      box-shadow: 0px 1px 2px rgba(60, 64, 67, 0.3), 0px 1px 3px 1px rgba(60, 64, 67, 0.15);\n",
              "      fill: #174EA6;\n",
              "    }\n",
              "\n",
              "    [theme=dark] .colab-df-convert {\n",
              "      background-color: #3B4455;\n",
              "      fill: #D2E3FC;\n",
              "    }\n",
              "\n",
              "    [theme=dark] .colab-df-convert:hover {\n",
              "      background-color: #434B5C;\n",
              "      box-shadow: 0px 1px 3px 1px rgba(0, 0, 0, 0.15);\n",
              "      filter: drop-shadow(0px 1px 2px rgba(0, 0, 0, 0.3));\n",
              "      fill: #FFFFFF;\n",
              "    }\n",
              "  </style>\n",
              "\n",
              "      <script>\n",
              "        const buttonEl =\n",
              "          document.querySelector('#df-4138bffb-74d9-489d-9676-126bbb21aace button.colab-df-convert');\n",
              "        buttonEl.style.display =\n",
              "          google.colab.kernel.accessAllowed ? 'block' : 'none';\n",
              "\n",
              "        async function convertToInteractive(key) {\n",
              "          const element = document.querySelector('#df-4138bffb-74d9-489d-9676-126bbb21aace');\n",
              "          const dataTable =\n",
              "            await google.colab.kernel.invokeFunction('convertToInteractive',\n",
              "                                                     [key], {});\n",
              "          if (!dataTable) return;\n",
              "\n",
              "          const docLinkHtml = 'Like what you see? Visit the ' +\n",
              "            '<a target=\"_blank\" href=https://colab.research.google.com/notebooks/data_table.ipynb>data table notebook</a>'\n",
              "            + ' to learn more about interactive tables.';\n",
              "          element.innerHTML = '';\n",
              "          dataTable['output_type'] = 'display_data';\n",
              "          await google.colab.output.renderOutput(dataTable, element);\n",
              "          const docLink = document.createElement('div');\n",
              "          docLink.innerHTML = docLinkHtml;\n",
              "          element.appendChild(docLink);\n",
              "        }\n",
              "      </script>\n",
              "    </div>\n",
              "  </div>\n",
              "  "
            ]
          },
          "metadata": {},
          "execution_count": 9
        }
      ],
      "source": [
        "df.describe(include=\"all\")"
      ]
    },
    {
      "cell_type": "code",
      "execution_count": 10,
      "metadata": {
        "colab": {
          "base_uri": "https://localhost:8080/"
        },
        "id": "aZIE390dW6Y5",
        "outputId": "b99c7aee-429f-40d0-ce5b-77cf1e3a95c4"
      },
      "outputs": [
        {
          "output_type": "execute_result",
          "data": {
            "text/plain": [
              "STATISTIC CODE     0\n",
              "Statistic          0\n",
              "TLIST(A1)          0\n",
              "Year               0\n",
              "C01782V02140       0\n",
              "Type of Cattle     0\n",
              "UNIT               0\n",
              "VALUE             81\n",
              "dtype: int64"
            ]
          },
          "metadata": {},
          "execution_count": 10
        }
      ],
      "source": [
        "df.isna().sum()"
      ]
    },
    {
      "cell_type": "code",
      "execution_count": 11,
      "metadata": {
        "id": "mLZA-2D5XBXc"
      },
      "outputs": [],
      "source": [
        "import seaborn as sns\n",
        "sns.set()\n",
        "import matplotlib.pyplot as plt"
      ]
    },
    {
      "cell_type": "markdown",
      "source": [
        "**PDF for Value Price in Euros**"
      ],
      "metadata": {
        "id": "_kasf1J2HovA"
      }
    },
    {
      "cell_type": "code",
      "execution_count": 12,
      "metadata": {
        "colab": {
          "base_uri": "https://localhost:8080/",
          "height": 357
        },
        "id": "TL3iVSgxXOcn",
        "outputId": "05383176-0b6e-4e47-9042-6f45eb688a1b"
      },
      "outputs": [
        {
          "output_type": "stream",
          "name": "stderr",
          "text": [
            "/usr/local/lib/python3.8/dist-packages/seaborn/distributions.py:2619: FutureWarning: `distplot` is a deprecated function and will be removed in a future version. Please adapt your code to use either `displot` (a figure-level function with similar flexibility) or `histplot` (an axes-level function for histograms).\n",
            "  warnings.warn(msg, FutureWarning)\n"
          ]
        },
        {
          "output_type": "execute_result",
          "data": {
            "text/plain": [
              "<matplotlib.axes._subplots.AxesSubplot at 0x7f5717364a30>"
            ]
          },
          "metadata": {},
          "execution_count": 12
        },
        {
          "output_type": "display_data",
          "data": {
            "text/plain": [
              "<Figure size 432x288 with 1 Axes>"
            ],
            "image/png": "[encoded data removed]"
          },
          "metadata": {}
        }
      ],
      "source": [
        "sns.distplot(df['VALUE'])"
      ]
    },
    {
      "cell_type": "code",
      "execution_count": 13,
      "metadata": {
        "id": "fLCdjbjFqNk8"
      },
      "outputs": [],
      "source": [
        "new = df['Type of Cattle'].str.split(\" \", n = 1, expand=True)"
      ]
    },
    {
      "cell_type": "code",
      "execution_count": 14,
      "metadata": {
        "id": "6hkhA4g7qaXW"
      },
      "outputs": [],
      "source": [
        "df['Type of Cattle'] = new[0]\n",
        "df.insert(6, \"Weight\", new[1])"
      ]
    },
    {
      "cell_type": "code",
      "execution_count": 15,
      "metadata": {
        "colab": {
          "base_uri": "https://localhost:8080/",
          "height": 659
        },
        "id": "isA2NaDVqmdW",
        "outputId": "5a622826-7147-4ac3-896e-7360764df1d8"
      },
      "outputs": [
        {
          "output_type": "execute_result",
          "data": {
            "text/plain": [
              "     STATISTIC CODE                Statistic  TLIST(A1)  Year C01782V02140  \\\n",
              "0           AJA01C1    Cattle Price per Head       1976  1976         B200   \n",
              "1           AJA01C1    Cattle Price per Head       1976  1976         B250   \n",
              "2           AJA01C1    Cattle Price per Head       1976  1976         B300   \n",
              "3           AJA01C1    Cattle Price per Head       1976  1976         B350   \n",
              "4           AJA01C1    Cattle Price per Head       1976  1976         B400   \n",
              "...             ...                      ...        ...   ...          ...   \n",
              "1283        AJA01C2  Cattle Price per 100 Kg       2021  2021         H250   \n",
              "1284        AJA01C2  Cattle Price per 100 Kg       2021  2021         H300   \n",
              "1285        AJA01C2  Cattle Price per 100 Kg       2021  2021         H350   \n",
              "1286        AJA01C2  Cattle Price per 100 Kg       2021  2021         H400   \n",
              "1287        AJA01C2  Cattle Price per 100 Kg       2021  2021         SCOW   \n",
              "\n",
              "     Type of Cattle         Weight  UNIT       VALUE  \n",
              "0          Bullocks      200-249kg  Euro         NaN  \n",
              "1          Bullocks      250-299kg  Euro         NaN  \n",
              "2          Bullocks      300-349kg  Euro  238.290000  \n",
              "3          Bullocks      350-399kg  Euro  270.470000  \n",
              "4          Bullocks      400-449kg  Euro  302.430000  \n",
              "...             ...            ...   ...         ...  \n",
              "1283        Heifers      250-299kg  Euro  216.991177  \n",
              "1284        Heifers      300-349kg  Euro  215.245632  \n",
              "1285        Heifers      350-399kg  Euro  216.965995  \n",
              "1286        Heifers      400-449kg  Euro  216.796269  \n",
              "1287           Cows  for slaughter  Euro         NaN  \n",
              "\n",
              "[1288 rows x 9 columns]"
            ],
            "text/html": [
              "\n",
              "  <div id=\"df-cc0ffff1-c7fe-4fb0-b560-f61eed0f19f6\">\n",
              "    <div class=\"colab-df-container\">\n",
              "      <div>\n",
              "<style scoped>\n",
              "    .dataframe tbody tr th:only-of-type {\n",
              "        vertical-align: middle;\n",
              "    }\n",
              "\n",
              "    .dataframe tbody tr th {\n",
              "        vertical-align: top;\n",
              "    }\n",
              "\n",
              "    .dataframe thead th {\n",
              "        text-align: right;\n",
              "    }\n",
              "</style>\n",
              "<table border=\"1\" class=\"dataframe\">\n",
              "  <thead>\n",
              "    <tr style=\"text-align: right;\">\n",
              "      <th></th>\n",
              "      <th>STATISTIC CODE</th>\n",
              "      <th>Statistic</th>\n",
              "      <th>TLIST(A1)</th>\n",
              "      <th>Year</th>\n",
              "      <th>C01782V02140</th>\n",
              "      <th>Type of Cattle</th>\n",
              "      <th>Weight</th>\n",
              "      <th>UNIT</th>\n",
              "      <th>VALUE</th>\n",
              "    </tr>\n",
              "  </thead>\n",
              "  <tbody>\n",
              "    <tr>\n",
              "      <th>0</th>\n",
              "      <td>AJA01C1</td>\n",
              "      <td>Cattle Price per Head</td>\n",
              "      <td>1976</td>\n",
              "      <td>1976</td>\n",
              "      <td>B200</td>\n",
              "      <td>Bullocks</td>\n",
              "      <td>200-249kg</td>\n",
              "      <td>Euro</td>\n",
              "      <td>NaN</td>\n",
              "    </tr>\n",
              "    <tr>\n",
              "      <th>1</th>\n",
              "      <td>AJA01C1</td>\n",
              "      <td>Cattle Price per Head</td>\n",
              "      <td>1976</td>\n",
              "      <td>1976</td>\n",
              "      <td>B250</td>\n",
              "      <td>Bullocks</td>\n",
              "      <td>250-299kg</td>\n",
              "      <td>Euro</td>\n",
              "      <td>NaN</td>\n",
              "    </tr>\n",
              "    <tr>\n",
              "      <th>2</th>\n",
              "      <td>AJA01C1</td>\n",
              "      <td>Cattle Price per Head</td>\n",
              "      <td>1976</td>\n",
              "      <td>1976</td>\n",
              "      <td>B300</td>\n",
              "      <td>Bullocks</td>\n",
              "      <td>300-349kg</td>\n",
              "      <td>Euro</td>\n",
              "      <td>238.290000</td>\n",
              "    </tr>\n",
              "    <tr>\n",
              "      <th>3</th>\n",
              "      <td>AJA01C1</td>\n",
              "      <td>Cattle Price per Head</td>\n",
              "      <td>1976</td>\n",
              "      <td>1976</td>\n",
              "      <td>B350</td>\n",
              "      <td>Bullocks</td>\n",
              "      <td>350-399kg</td>\n",
              "      <td>Euro</td>\n",
              "      <td>270.470000</td>\n",
              "    </tr>\n",
              "    <tr>\n",
              "      <th>4</th>\n",
              "      <td>AJA01C1</td>\n",
              "      <td>Cattle Price per Head</td>\n",
              "      <td>1976</td>\n",
              "      <td>1976</td>\n",
              "      <td>B400</td>\n",
              "      <td>Bullocks</td>\n",
              "      <td>400-449kg</td>\n",
              "      <td>Euro</td>\n",
              "      <td>302.430000</td>\n",
              "    </tr>\n",
              "    <tr>\n",
              "      <th>...</th>\n",
              "      <td>...</td>\n",
              "      <td>...</td>\n",
              "      <td>...</td>\n",
              "      <td>...</td>\n",
              "      <td>...</td>\n",
              "      <td>...</td>\n",
              "      <td>...</td>\n",
              "      <td>...</td>\n",
              "      <td>...</td>\n",
              "    </tr>\n",
              "    <tr>\n",
              "      <th>1283</th>\n",
              "      <td>AJA01C2</td>\n",
              "      <td>Cattle Price per 100 Kg</td>\n",
              "      <td>2021</td>\n",
              "      <td>2021</td>\n",
              "      <td>H250</td>\n",
              "      <td>Heifers</td>\n",
              "      <td>250-299kg</td>\n",
              "      <td>Euro</td>\n",
              "      <td>216.991177</td>\n",
              "    </tr>\n",
              "    <tr>\n",
              "      <th>1284</th>\n",
              "      <td>AJA01C2</td>\n",
              "      <td>Cattle Price per 100 Kg</td>\n",
              "      <td>2021</td>\n",
              "      <td>2021</td>\n",
              "      <td>H300</td>\n",
              "      <td>Heifers</td>\n",
              "      <td>300-349kg</td>\n",
              "      <td>Euro</td>\n",
              "      <td>215.245632</td>\n",
              "    </tr>\n",
              "    <tr>\n",
              "      <th>1285</th>\n",
              "      <td>AJA01C2</td>\n",
              "      <td>Cattle Price per 100 Kg</td>\n",
              "      <td>2021</td>\n",
              "      <td>2021</td>\n",
              "      <td>H350</td>\n",
              "      <td>Heifers</td>\n",
              "      <td>350-399kg</td>\n",
              "      <td>Euro</td>\n",
              "      <td>216.965995</td>\n",
              "    </tr>\n",
              "    <tr>\n",
              "      <th>1286</th>\n",
              "      <td>AJA01C2</td>\n",
              "      <td>Cattle Price per 100 Kg</td>\n",
              "      <td>2021</td>\n",
              "      <td>2021</td>\n",
              "      <td>H400</td>\n",
              "      <td>Heifers</td>\n",
              "      <td>400-449kg</td>\n",
              "      <td>Euro</td>\n",
              "      <td>216.796269</td>\n",
              "    </tr>\n",
              "    <tr>\n",
              "      <th>1287</th>\n",
              "      <td>AJA01C2</td>\n",
              "      <td>Cattle Price per 100 Kg</td>\n",
              "      <td>2021</td>\n",
              "      <td>2021</td>\n",
              "      <td>SCOW</td>\n",
              "      <td>Cows</td>\n",
              "      <td>for slaughter</td>\n",
              "      <td>Euro</td>\n",
              "      <td>NaN</td>\n",
              "    </tr>\n",
              "  </tbody>\n",
              "</table>\n",
              "<p>1288 rows × 9 columns</p>\n",
              "</div>\n",
              "      <button class=\"colab-df-convert\" onclick=\"convertToInteractive('df-cc0ffff1-c7fe-4fb0-b560-f61eed0f19f6')\"\n",
              "              title=\"Convert this dataframe to an interactive table.\"\n",
              "              style=\"display:none;\">\n",
              "        \n",
              "  <svg xmlns=\"http://www.w3.org/2000/svg\" height=\"24px\"viewBox=\"0 0 24 24\"\n",
              "       width=\"24px\">\n",
              "    <path d=\"M0 0h24v24H0V0z\" fill=\"none\"/>\n",
              "    <path d=\"M18.56 5.44l.94 2.06.94-2.06 2.06-.94-2.06-.94-.94-2.06-.94 2.06-2.06.94zm-11 1L8.5 8.5l.94-2.06 2.06-.94-2.06-.94L8.5 2.5l-.94 2.06-2.06.94zm10 10l.94 2.06.94-2.06 2.06-.94-2.06-.94-.94-2.06-.94 2.06-2.06.94z\"/><path d=\"M17.41 7.96l-1.37-1.37c-.4-.4-.92-.59-1.43-.59-.52 0-1.04.2-1.43.59L10.3 9.45l-7.72 7.72c-.78.78-.78 2.05 0 2.83L4 21.41c.39.39.9.59 1.41.59.51 0 1.02-.2 1.41-.59l7.78-7.78 2.81-2.81c.8-.78.8-2.07 0-2.86zM5.41 20L4 18.59l7.72-7.72 1.47 1.35L5.41 20z\"/>\n",
              "  </svg>\n",
              "      </button>\n",
              "      \n",
              "  <style>\n",
              "    .colab-df-container {\n",
              "      display:flex;\n",
              "      flex-wrap:wrap;\n",
              "      gap: 12px;\n",
              "    }\n",
              "\n",
              "    .colab-df-convert {\n",
              "      background-color: #E8F0FE;\n",
              "      border: none;\n",
              "      border-radius: 50%;\n",
              "      cursor: pointer;\n",
              "      display: none;\n",
              "      fill: #1967D2;\n",
              "      height: 32px;\n",
              "      padding: 0 0 0 0;\n",
              "      width: 32px;\n",
              "    }\n",
              "\n",
              "    .colab-df-convert:hover {\n",
              "      background-color: #E2EBFA;\n",
              "      box-shadow: 0px 1px 2px rgba(60, 64, 67, 0.3), 0px 1px 3px 1px rgba(60, 64, 67, 0.15);\n",
              "      fill: #174EA6;\n",
              "    }\n",
              "\n",
              "    [theme=dark] .colab-df-convert {\n",
              "      background-color: #3B4455;\n",
              "      fill: #D2E3FC;\n",
              "    }\n",
              "\n",
              "    [theme=dark] .colab-df-convert:hover {\n",
              "      background-color: #434B5C;\n",
              "      box-shadow: 0px 1px 3px 1px rgba(0, 0, 0, 0.15);\n",
              "      filter: drop-shadow(0px 1px 2px rgba(0, 0, 0, 0.3));\n",
              "      fill: #FFFFFF;\n",
              "    }\n",
              "  </style>\n",
              "\n",
              "      <script>\n",
              "        const buttonEl =\n",
              "          document.querySelector('#df-cc0ffff1-c7fe-4fb0-b560-f61eed0f19f6 button.colab-df-convert');\n",
              "        buttonEl.style.display =\n",
              "          google.colab.kernel.accessAllowed ? 'block' : 'none';\n",
              "\n",
              "        async function convertToInteractive(key) {\n",
              "          const element = document.querySelector('#df-cc0ffff1-c7fe-4fb0-b560-f61eed0f19f6');\n",
              "          const dataTable =\n",
              "            await google.colab.kernel.invokeFunction('convertToInteractive',\n",
              "                                                     [key], {});\n",
              "          if (!dataTable) return;\n",
              "\n",
              "          const docLinkHtml = 'Like what you see? Visit the ' +\n",
              "            '<a target=\"_blank\" href=https://colab.research.google.com/notebooks/data_table.ipynb>data table notebook</a>'\n",
              "            + ' to learn more about interactive tables.';\n",
              "          element.innerHTML = '';\n",
              "          dataTable['output_type'] = 'display_data';\n",
              "          await google.colab.output.renderOutput(dataTable, element);\n",
              "          const docLink = document.createElement('div');\n",
              "          docLink.innerHTML = docLinkHtml;\n",
              "          element.appendChild(docLink);\n",
              "        }\n",
              "      </script>\n",
              "    </div>\n",
              "  </div>\n",
              "  "
            ]
          },
          "metadata": {},
          "execution_count": 15
        }
      ],
      "source": [
        "df"
      ]
    },
    {
      "cell_type": "markdown",
      "source": [
        "**Imputation to fill null values**"
      ],
      "metadata": {
        "id": "OxfqqZZGHtJO"
      }
    },
    {
      "cell_type": "code",
      "execution_count": 16,
      "metadata": {
        "id": "yX5B7wt9rf_V"
      },
      "outputs": [],
      "source": [
        "from sklearn.impute import SimpleImputer\n",
        "import pandas as pd\n",
        "import numpy as np\n",
        "\n",
        "x = df['Weight']\n",
        "y = df['VALUE']\n",
        "newprice = df.iloc[:, 8].values\n"
      ]
    },
    {
      "cell_type": "code",
      "execution_count": 17,
      "metadata": {
        "colab": {
          "base_uri": "https://localhost:8080/"
        },
        "id": "ogCA4Zwz0_xW",
        "outputId": "ae7b43cc-990e-4db3-9be5-3610b9081a94"
      },
      "outputs": [
        {
          "output_type": "execute_result",
          "data": {
            "text/plain": [
              "array([[         nan],\n",
              "       [         nan],\n",
              "       [238.29      ],\n",
              "       ...,\n",
              "       [216.96599474],\n",
              "       [216.79626892],\n",
              "       [         nan]])"
            ]
          },
          "metadata": {},
          "execution_count": 17
        }
      ],
      "source": [
        "price = newprice.reshape(-1, 1)\n",
        "price"
      ]
    },
    {
      "cell_type": "code",
      "execution_count": 18,
      "metadata": {
        "colab": {
          "base_uri": "https://localhost:8080/"
        },
        "id": "t4dfTuBZ0qXv",
        "outputId": "1a45a4cc-5fe0-4658-ca54-125ca7449d94"
      },
      "outputs": [
        {
          "output_type": "stream",
          "name": "stdout",
          "text": [
            "[[228.07346206]\n",
            " [228.07346206]\n",
            " [238.29      ]\n",
            " ...\n",
            " [216.96599474]\n",
            " [216.79626892]\n",
            " [228.07346206]]\n"
          ]
        }
      ],
      "source": [
        "#To calculate the median use imputer class\n",
        "imputer = SimpleImputer(missing_values=np.nan, strategy=\"median\")\n",
        "imputer = imputer.fit(price)\n",
        "y = imputer.transform(price)\n",
        "print(y)"
      ]
    },
    {
      "cell_type": "code",
      "execution_count": 19,
      "metadata": {
        "id": "P8cze5xc1tin"
      },
      "outputs": [],
      "source": [
        "df['VALUE'] = y"
      ]
    },
    {
      "cell_type": "code",
      "execution_count": 20,
      "metadata": {
        "colab": {
          "base_uri": "https://localhost:8080/"
        },
        "id": "q8wxr-mb2M6S",
        "outputId": "d9d934e1-54a6-45f8-fbe0-5f17c18f8240"
      },
      "outputs": [
        {
          "output_type": "execute_result",
          "data": {
            "text/plain": [
              "STATISTIC CODE    0\n",
              "Statistic         0\n",
              "TLIST(A1)         0\n",
              "Year              0\n",
              "C01782V02140      0\n",
              "Type of Cattle    0\n",
              "Weight            0\n",
              "UNIT              0\n",
              "VALUE             0\n",
              "dtype: int64"
            ]
          },
          "metadata": {},
          "execution_count": 20
        }
      ],
      "source": [
        "df.isna().sum()"
      ]
    },
    {
      "cell_type": "code",
      "execution_count": 21,
      "metadata": {
        "id": "FdpN2DCg3wUI"
      },
      "outputs": [],
      "source": [
        "df['Type of Cattle'] = df['Type of Cattle'].replace(\"Cows\", \"Bullocks\")\n",
        "df['Weight'] = df['Weight'].replace(\"for slaughter\", \"550\")"
      ]
    },
    {
      "cell_type": "code",
      "execution_count": 22,
      "metadata": {
        "id": "Rlnhus5y72BX"
      },
      "outputs": [],
      "source": [
        "df.rename(columns = {'Weight': 'Weight in kg'}, inplace=True)"
      ]
    },
    {
      "cell_type": "code",
      "execution_count": 23,
      "metadata": {
        "colab": {
          "base_uri": "https://localhost:8080/"
        },
        "id": "_PHkijDd-OlR",
        "outputId": "be021ef3-e94d-49b5-ee9d-9a342c192b48"
      },
      "outputs": [
        {
          "output_type": "execute_result",
          "data": {
            "text/plain": [
              "STATISTIC CODE     object\n",
              "Statistic          object\n",
              "TLIST(A1)           int64\n",
              "Year                int64\n",
              "C01782V02140       object\n",
              "Type of Cattle     object\n",
              "Weight in kg       object\n",
              "UNIT               object\n",
              "VALUE             float64\n",
              "dtype: object"
            ]
          },
          "metadata": {},
          "execution_count": 23
        }
      ],
      "source": [
        "df['Weight in kg']\n",
        "type(df['Weight in kg'])\n",
        "df.dtypes"
      ]
    },
    {
      "cell_type": "code",
      "execution_count": 24,
      "metadata": {
        "colab": {
          "base_uri": "https://localhost:8080/"
        },
        "id": "usf0moPWBC5v",
        "outputId": "23a8c74e-675c-4d1c-8503-5575e1f5af60"
      },
      "outputs": [
        {
          "output_type": "stream",
          "name": "stderr",
          "text": [
            "<ipython-input-24-ae11e170d5dd>:1: FutureWarning: The default value of regex will change from True to False in a future version.\n",
            "  df['Weight in kg'] = df['Weight in kg'].str.replace('\\D', ' ')\n"
          ]
        }
      ],
      "source": [
        "df['Weight in kg'] = df['Weight in kg'].str.replace('\\D', ' ')"
      ]
    },
    {
      "cell_type": "code",
      "execution_count": 25,
      "metadata": {
        "id": "KOlLCw8AH6bk"
      },
      "outputs": [],
      "source": [
        "new2 = df['Weight in kg'].str.split(\" \", n = 1, expand=True)\n",
        "split1 = df.insert(7, \"Min Weight in kg\", new2[0])\n",
        "split2 = df.insert(8, \"Max Weight in kg\", new2[1])"
      ]
    },
    {
      "cell_type": "code",
      "execution_count": 26,
      "metadata": {
        "id": "k4-MUkJoIyTy"
      },
      "outputs": [],
      "source": [
        "data1 = df.copy()\n",
        "data1['Min Weight in kg'] = pd.to_numeric(data1['Min Weight in kg'])\n"
      ]
    },
    {
      "cell_type": "code",
      "execution_count": 27,
      "metadata": {
        "colab": {
          "base_uri": "https://localhost:8080/"
        },
        "id": "0k6RWVGrSbft",
        "outputId": "624bc031-2cfc-49d3-b01c-1b4955aee61a"
      },
      "outputs": [
        {
          "output_type": "execute_result",
          "data": {
            "text/plain": [
              "dtype('int64')"
            ]
          },
          "metadata": {},
          "execution_count": 27
        }
      ],
      "source": [
        "data1['Min Weight in kg'].dtypes"
      ]
    },
    {
      "cell_type": "markdown",
      "source": [
        "**PDF for minimum weight in kg**"
      ],
      "metadata": {
        "id": "IfFM-7SGH54M"
      }
    },
    {
      "cell_type": "code",
      "execution_count": 28,
      "metadata": {
        "colab": {
          "base_uri": "https://localhost:8080/",
          "height": 357
        },
        "id": "abIuQz5abXle",
        "outputId": "364dbe6c-7af9-4e2c-83eb-eebbf4ef3f71"
      },
      "outputs": [
        {
          "output_type": "stream",
          "name": "stderr",
          "text": [
            "/usr/local/lib/python3.8/dist-packages/seaborn/distributions.py:2619: FutureWarning: `distplot` is a deprecated function and will be removed in a future version. Please adapt your code to use either `displot` (a figure-level function with similar flexibility) or `histplot` (an axes-level function for histograms).\n",
            "  warnings.warn(msg, FutureWarning)\n"
          ]
        },
        {
          "output_type": "execute_result",
          "data": {
            "text/plain": [
              "<matplotlib.axes._subplots.AxesSubplot at 0x7f5716d6ca90>"
            ]
          },
          "metadata": {},
          "execution_count": 28
        },
        {
          "output_type": "display_data",
          "data": {
            "text/plain": [
              "<Figure size 432x288 with 1 Axes>"
            ],
            "image/png": "[encoded data removed]"
          },
          "metadata": {}
        }
      ],
      "source": [
        "sns.distplot(data1['Min Weight in kg'])"
      ]
    },
    {
      "cell_type": "code",
      "execution_count": 29,
      "metadata": {
        "id": "78zPO9abPnlV"
      },
      "outputs": [],
      "source": [
        "data1['Min Weight in kg'] = data1['Min Weight in kg'].fillna(550)\n",
        "data1['Max Weight in kg'] = pd.to_numeric(data1['Max Weight in kg'], errors= 'coerce')"
      ]
    },
    {
      "cell_type": "code",
      "execution_count": 30,
      "metadata": {
        "colab": {
          "base_uri": "https://localhost:8080/",
          "height": 676
        },
        "id": "5OSVcOardfLr",
        "outputId": "3408d58c-88c5-4ccc-c272-1178e3f3ab13"
      },
      "outputs": [
        {
          "output_type": "execute_result",
          "data": {
            "text/plain": [
              "     STATISTIC CODE                Statistic  TLIST(A1)  Year C01782V02140  \\\n",
              "0           AJA01C1    Cattle Price per Head       1976  1976         B200   \n",
              "1           AJA01C1    Cattle Price per Head       1976  1976         B250   \n",
              "2           AJA01C1    Cattle Price per Head       1976  1976         B300   \n",
              "3           AJA01C1    Cattle Price per Head       1976  1976         B350   \n",
              "4           AJA01C1    Cattle Price per Head       1976  1976         B400   \n",
              "...             ...                      ...        ...   ...          ...   \n",
              "1283        AJA01C2  Cattle Price per 100 Kg       2021  2021         H250   \n",
              "1284        AJA01C2  Cattle Price per 100 Kg       2021  2021         H300   \n",
              "1285        AJA01C2  Cattle Price per 100 Kg       2021  2021         H350   \n",
              "1286        AJA01C2  Cattle Price per 100 Kg       2021  2021         H400   \n",
              "1287        AJA01C2  Cattle Price per 100 Kg       2021  2021         SCOW   \n",
              "\n",
              "     Type of Cattle Weight in kg  Min Weight in kg  Max Weight in kg  UNIT  \\\n",
              "0          Bullocks    200 249                 200             249.0  Euro   \n",
              "1          Bullocks    250 299                 250             299.0  Euro   \n",
              "2          Bullocks    300 349                 300             349.0  Euro   \n",
              "3          Bullocks    350 399                 350             399.0  Euro   \n",
              "4          Bullocks    400 449                 400             449.0  Euro   \n",
              "...             ...          ...               ...               ...   ...   \n",
              "1283        Heifers    250 299                 250             299.0  Euro   \n",
              "1284        Heifers    300 349                 300             349.0  Euro   \n",
              "1285        Heifers    350 399                 350             399.0  Euro   \n",
              "1286        Heifers    400 449                 400             449.0  Euro   \n",
              "1287       Bullocks          550               550               NaN  Euro   \n",
              "\n",
              "           VALUE  \n",
              "0     228.073462  \n",
              "1     228.073462  \n",
              "2     238.290000  \n",
              "3     270.470000  \n",
              "4     302.430000  \n",
              "...          ...  \n",
              "1283  216.991177  \n",
              "1284  215.245632  \n",
              "1285  216.965995  \n",
              "1286  216.796269  \n",
              "1287  228.073462  \n",
              "\n",
              "[1288 rows x 11 columns]"
            ],
            "text/html": [
              "\n",
              "  <div id=\"df-22c11972-0a1b-4161-b011-a8ca6947e1a5\">\n",
              "    <div class=\"colab-df-container\">\n",
              "      <div>\n",
              "<style scoped>\n",
              "    .dataframe tbody tr th:only-of-type {\n",
              "        vertical-align: middle;\n",
              "    }\n",
              "\n",
              "    .dataframe tbody tr th {\n",
              "        vertical-align: top;\n",
              "    }\n",
              "\n",
              "    .dataframe thead th {\n",
              "        text-align: right;\n",
              "    }\n",
              "</style>\n",
              "<table border=\"1\" class=\"dataframe\">\n",
              "  <thead>\n",
              "    <tr style=\"text-align: right;\">\n",
              "      <th></th>\n",
              "      <th>STATISTIC CODE</th>\n",
              "      <th>Statistic</th>\n",
              "      <th>TLIST(A1)</th>\n",
              "      <th>Year</th>\n",
              "      <th>C01782V02140</th>\n",
              "      <th>Type of Cattle</th>\n",
              "      <th>Weight in kg</th>\n",
              "      <th>Min Weight in kg</th>\n",
              "      <th>Max Weight in kg</th>\n",
              "      <th>UNIT</th>\n",
              "      <th>VALUE</th>\n",
              "    </tr>\n",
              "  </thead>\n",
              "  <tbody>\n",
              "    <tr>\n",
              "      <th>0</th>\n",
              "      <td>AJA01C1</td>\n",
              "      <td>Cattle Price per Head</td>\n",
              "      <td>1976</td>\n",
              "      <td>1976</td>\n",
              "      <td>B200</td>\n",
              "      <td>Bullocks</td>\n",
              "      <td>200 249</td>\n",
              "      <td>200</td>\n",
              "      <td>249.0</td>\n",
              "      <td>Euro</td>\n",
              "      <td>228.073462</td>\n",
              "    </tr>\n",
              "    <tr>\n",
              "      <th>1</th>\n",
              "      <td>AJA01C1</td>\n",
              "      <td>Cattle Price per Head</td>\n",
              "      <td>1976</td>\n",
              "      <td>1976</td>\n",
              "      <td>B250</td>\n",
              "      <td>Bullocks</td>\n",
              "      <td>250 299</td>\n",
              "      <td>250</td>\n",
              "      <td>299.0</td>\n",
              "      <td>Euro</td>\n",
              "      <td>228.073462</td>\n",
              "    </tr>\n",
              "    <tr>\n",
              "      <th>2</th>\n",
              "      <td>AJA01C1</td>\n",
              "      <td>Cattle Price per Head</td>\n",
              "      <td>1976</td>\n",
              "      <td>1976</td>\n",
              "      <td>B300</td>\n",
              "      <td>Bullocks</td>\n",
              "      <td>300 349</td>\n",
              "      <td>300</td>\n",
              "      <td>349.0</td>\n",
              "      <td>Euro</td>\n",
              "      <td>238.290000</td>\n",
              "    </tr>\n",
              "    <tr>\n",
              "      <th>3</th>\n",
              "      <td>AJA01C1</td>\n",
              "      <td>Cattle Price per Head</td>\n",
              "      <td>1976</td>\n",
              "      <td>1976</td>\n",
              "      <td>B350</td>\n",
              "      <td>Bullocks</td>\n",
              "      <td>350 399</td>\n",
              "      <td>350</td>\n",
              "      <td>399.0</td>\n",
              "      <td>Euro</td>\n",
              "      <td>270.470000</td>\n",
              "    </tr>\n",
              "    <tr>\n",
              "      <th>4</th>\n",
              "      <td>AJA01C1</td>\n",
              "      <td>Cattle Price per Head</td>\n",
              "      <td>1976</td>\n",
              "      <td>1976</td>\n",
              "      <td>B400</td>\n",
              "      <td>Bullocks</td>\n",
              "      <td>400 449</td>\n",
              "      <td>400</td>\n",
              "      <td>449.0</td>\n",
              "      <td>Euro</td>\n",
              "      <td>302.430000</td>\n",
              "    </tr>\n",
              "    <tr>\n",
              "      <th>...</th>\n",
              "      <td>...</td>\n",
              "      <td>...</td>\n",
              "      <td>...</td>\n",
              "      <td>...</td>\n",
              "      <td>...</td>\n",
              "      <td>...</td>\n",
              "      <td>...</td>\n",
              "      <td>...</td>\n",
              "      <td>...</td>\n",
              "      <td>...</td>\n",
              "      <td>...</td>\n",
              "    </tr>\n",
              "    <tr>\n",
              "      <th>1283</th>\n",
              "      <td>AJA01C2</td>\n",
              "      <td>Cattle Price per 100 Kg</td>\n",
              "      <td>2021</td>\n",
              "      <td>2021</td>\n",
              "      <td>H250</td>\n",
              "      <td>Heifers</td>\n",
              "      <td>250 299</td>\n",
              "      <td>250</td>\n",
              "      <td>299.0</td>\n",
              "      <td>Euro</td>\n",
              "      <td>216.991177</td>\n",
              "    </tr>\n",
              "    <tr>\n",
              "      <th>1284</th>\n",
              "      <td>AJA01C2</td>\n",
              "      <td>Cattle Price per 100 Kg</td>\n",
              "      <td>2021</td>\n",
              "      <td>2021</td>\n",
              "      <td>H300</td>\n",
              "      <td>Heifers</td>\n",
              "      <td>300 349</td>\n",
              "      <td>300</td>\n",
              "      <td>349.0</td>\n",
              "      <td>Euro</td>\n",
              "      <td>215.245632</td>\n",
              "    </tr>\n",
              "    <tr>\n",
              "      <th>1285</th>\n",
              "      <td>AJA01C2</td>\n",
              "      <td>Cattle Price per 100 Kg</td>\n",
              "      <td>2021</td>\n",
              "      <td>2021</td>\n",
              "      <td>H350</td>\n",
              "      <td>Heifers</td>\n",
              "      <td>350 399</td>\n",
              "      <td>350</td>\n",
              "      <td>399.0</td>\n",
              "      <td>Euro</td>\n",
              "      <td>216.965995</td>\n",
              "    </tr>\n",
              "    <tr>\n",
              "      <th>1286</th>\n",
              "      <td>AJA01C2</td>\n",
              "      <td>Cattle Price per 100 Kg</td>\n",
              "      <td>2021</td>\n",
              "      <td>2021</td>\n",
              "      <td>H400</td>\n",
              "      <td>Heifers</td>\n",
              "      <td>400 449</td>\n",
              "      <td>400</td>\n",
              "      <td>449.0</td>\n",
              "      <td>Euro</td>\n",
              "      <td>216.796269</td>\n",
              "    </tr>\n",
              "    <tr>\n",
              "      <th>1287</th>\n",
              "      <td>AJA01C2</td>\n",
              "      <td>Cattle Price per 100 Kg</td>\n",
              "      <td>2021</td>\n",
              "      <td>2021</td>\n",
              "      <td>SCOW</td>\n",
              "      <td>Bullocks</td>\n",
              "      <td>550</td>\n",
              "      <td>550</td>\n",
              "      <td>NaN</td>\n",
              "      <td>Euro</td>\n",
              "      <td>228.073462</td>\n",
              "    </tr>\n",
              "  </tbody>\n",
              "</table>\n",
              "<p>1288 rows × 11 columns</p>\n",
              "</div>\n",
              "      <button class=\"colab-df-convert\" onclick=\"convertToInteractive('df-22c11972-0a1b-4161-b011-a8ca6947e1a5')\"\n",
              "              title=\"Convert this dataframe to an interactive table.\"\n",
              "              style=\"display:none;\">\n",
              "        \n",
              "  <svg xmlns=\"http://www.w3.org/2000/svg\" height=\"24px\"viewBox=\"0 0 24 24\"\n",
              "       width=\"24px\">\n",
              "    <path d=\"M0 0h24v24H0V0z\" fill=\"none\"/>\n",
              "    <path d=\"M18.56 5.44l.94 2.06.94-2.06 2.06-.94-2.06-.94-.94-2.06-.94 2.06-2.06.94zm-11 1L8.5 8.5l.94-2.06 2.06-.94-2.06-.94L8.5 2.5l-.94 2.06-2.06.94zm10 10l.94 2.06.94-2.06 2.06-.94-2.06-.94-.94-2.06-.94 2.06-2.06.94z\"/><path d=\"M17.41 7.96l-1.37-1.37c-.4-.4-.92-.59-1.43-.59-.52 0-1.04.2-1.43.59L10.3 9.45l-7.72 7.72c-.78.78-.78 2.05 0 2.83L4 21.41c.39.39.9.59 1.41.59.51 0 1.02-.2 1.41-.59l7.78-7.78 2.81-2.81c.8-.78.8-2.07 0-2.86zM5.41 20L4 18.59l7.72-7.72 1.47 1.35L5.41 20z\"/>\n",
              "  </svg>\n",
              "      </button>\n",
              "      \n",
              "  <style>\n",
              "    .colab-df-container {\n",
              "      display:flex;\n",
              "      flex-wrap:wrap;\n",
              "      gap: 12px;\n",
              "    }\n",
              "\n",
              "    .colab-df-convert {\n",
              "      background-color: #E8F0FE;\n",
              "      border: none;\n",
              "      border-radius: 50%;\n",
              "      cursor: pointer;\n",
              "      display: none;\n",
              "      fill: #1967D2;\n",
              "      height: 32px;\n",
              "      padding: 0 0 0 0;\n",
              "      width: 32px;\n",
              "    }\n",
              "\n",
              "    .colab-df-convert:hover {\n",
              "      background-color: #E2EBFA;\n",
              "      box-shadow: 0px 1px 2px rgba(60, 64, 67, 0.3), 0px 1px 3px 1px rgba(60, 64, 67, 0.15);\n",
              "      fill: #174EA6;\n",
              "    }\n",
              "\n",
              "    [theme=dark] .colab-df-convert {\n",
              "      background-color: #3B4455;\n",
              "      fill: #D2E3FC;\n",
              "    }\n",
              "\n",
              "    [theme=dark] .colab-df-convert:hover {\n",
              "      background-color: #434B5C;\n",
              "      box-shadow: 0px 1px 3px 1px rgba(0, 0, 0, 0.15);\n",
              "      filter: drop-shadow(0px 1px 2px rgba(0, 0, 0, 0.3));\n",
              "      fill: #FFFFFF;\n",
              "    }\n",
              "  </style>\n",
              "\n",
              "      <script>\n",
              "        const buttonEl =\n",
              "          document.querySelector('#df-22c11972-0a1b-4161-b011-a8ca6947e1a5 button.colab-df-convert');\n",
              "        buttonEl.style.display =\n",
              "          google.colab.kernel.accessAllowed ? 'block' : 'none';\n",
              "\n",
              "        async function convertToInteractive(key) {\n",
              "          const element = document.querySelector('#df-22c11972-0a1b-4161-b011-a8ca6947e1a5');\n",
              "          const dataTable =\n",
              "            await google.colab.kernel.invokeFunction('convertToInteractive',\n",
              "                                                     [key], {});\n",
              "          if (!dataTable) return;\n",
              "\n",
              "          const docLinkHtml = 'Like what you see? Visit the ' +\n",
              "            '<a target=\"_blank\" href=https://colab.research.google.com/notebooks/data_table.ipynb>data table notebook</a>'\n",
              "            + ' to learn more about interactive tables.';\n",
              "          element.innerHTML = '';\n",
              "          dataTable['output_type'] = 'display_data';\n",
              "          await google.colab.output.renderOutput(dataTable, element);\n",
              "          const docLink = document.createElement('div');\n",
              "          docLink.innerHTML = docLinkHtml;\n",
              "          element.appendChild(docLink);\n",
              "        }\n",
              "      </script>\n",
              "    </div>\n",
              "  </div>\n",
              "  "
            ]
          },
          "metadata": {},
          "execution_count": 30
        }
      ],
      "source": [
        "data1"
      ]
    },
    {
      "cell_type": "code",
      "execution_count": 31,
      "metadata": {
        "id": "EAZXcHU7ScEQ"
      },
      "outputs": [],
      "source": [
        "data1 = data1.dropna(axis = 0)"
      ]
    },
    {
      "cell_type": "code",
      "execution_count": 32,
      "metadata": {
        "colab": {
          "base_uri": "https://localhost:8080/"
        },
        "id": "Ty0g9xQ-Z_Rp",
        "outputId": "aba2f853-10e3-4973-d8f9-ab1caea3066d"
      },
      "outputs": [
        {
          "output_type": "execute_result",
          "data": {
            "text/plain": [
              "numpy.ndarray"
            ]
          },
          "metadata": {},
          "execution_count": 32
        }
      ],
      "source": [
        "type(df['Max Weight in kg'].values)"
      ]
    },
    {
      "cell_type": "code",
      "execution_count": 33,
      "metadata": {
        "id": "QWpHs-bbNBnz"
      },
      "outputs": [],
      "source": [
        "df.dropna(inplace=True,axis=0)"
      ]
    },
    {
      "cell_type": "code",
      "execution_count": 34,
      "metadata": {
        "colab": {
          "base_uri": "https://localhost:8080/",
          "height": 676
        },
        "id": "v9pz6yoVTo8F",
        "outputId": "5bb1e5a7-422f-49d1-f9e6-76dfda2a5e9f"
      },
      "outputs": [
        {
          "output_type": "execute_result",
          "data": {
            "text/plain": [
              "     STATISTIC CODE                Statistic  TLIST(A1)  Year C01782V02140  \\\n",
              "0           AJA01C1    Cattle Price per Head       1976  1976         B200   \n",
              "1           AJA01C1    Cattle Price per Head       1976  1976         B250   \n",
              "2           AJA01C1    Cattle Price per Head       1976  1976         B300   \n",
              "3           AJA01C1    Cattle Price per Head       1976  1976         B350   \n",
              "4           AJA01C1    Cattle Price per Head       1976  1976         B400   \n",
              "...             ...                      ...        ...   ...          ...   \n",
              "1282        AJA01C2  Cattle Price per 100 Kg       2021  2021         H200   \n",
              "1283        AJA01C2  Cattle Price per 100 Kg       2021  2021         H250   \n",
              "1284        AJA01C2  Cattle Price per 100 Kg       2021  2021         H300   \n",
              "1285        AJA01C2  Cattle Price per 100 Kg       2021  2021         H350   \n",
              "1286        AJA01C2  Cattle Price per 100 Kg       2021  2021         H400   \n",
              "\n",
              "     Type of Cattle Weight in kg Min Weight in kg Max Weight in kg  UNIT  \\\n",
              "0          Bullocks    200 249                200            249    Euro   \n",
              "1          Bullocks    250 299                250            299    Euro   \n",
              "2          Bullocks    300 349                300            349    Euro   \n",
              "3          Bullocks    350 399                350            399    Euro   \n",
              "4          Bullocks    400 449                400            449    Euro   \n",
              "...             ...          ...              ...              ...   ...   \n",
              "1282        Heifers    200 249                200            249    Euro   \n",
              "1283        Heifers    250 299                250            299    Euro   \n",
              "1284        Heifers    300 349                300            349    Euro   \n",
              "1285        Heifers    350 399                350            399    Euro   \n",
              "1286        Heifers    400 449                400            449    Euro   \n",
              "\n",
              "           VALUE  \n",
              "0     228.073462  \n",
              "1     228.073462  \n",
              "2     238.290000  \n",
              "3     270.470000  \n",
              "4     302.430000  \n",
              "...          ...  \n",
              "1282  222.738691  \n",
              "1283  216.991177  \n",
              "1284  215.245632  \n",
              "1285  216.965995  \n",
              "1286  216.796269  \n",
              "\n",
              "[1196 rows x 11 columns]"
            ],
            "text/html": [
              "\n",
              "  <div id=\"df-95f8a249-c976-4555-868b-eb8b239071bb\">\n",
              "    <div class=\"colab-df-container\">\n",
              "      <div>\n",
              "<style scoped>\n",
              "    .dataframe tbody tr th:only-of-type {\n",
              "        vertical-align: middle;\n",
              "    }\n",
              "\n",
              "    .dataframe tbody tr th {\n",
              "        vertical-align: top;\n",
              "    }\n",
              "\n",
              "    .dataframe thead th {\n",
              "        text-align: right;\n",
              "    }\n",
              "</style>\n",
              "<table border=\"1\" class=\"dataframe\">\n",
              "  <thead>\n",
              "    <tr style=\"text-align: right;\">\n",
              "      <th></th>\n",
              "      <th>STATISTIC CODE</th>\n",
              "      <th>Statistic</th>\n",
              "      <th>TLIST(A1)</th>\n",
              "      <th>Year</th>\n",
              "      <th>C01782V02140</th>\n",
              "      <th>Type of Cattle</th>\n",
              "      <th>Weight in kg</th>\n",
              "      <th>Min Weight in kg</th>\n",
              "      <th>Max Weight in kg</th>\n",
              "      <th>UNIT</th>\n",
              "      <th>VALUE</th>\n",
              "    </tr>\n",
              "  </thead>\n",
              "  <tbody>\n",
              "    <tr>\n",
              "      <th>0</th>\n",
              "      <td>AJA01C1</td>\n",
              "      <td>Cattle Price per Head</td>\n",
              "      <td>1976</td>\n",
              "      <td>1976</td>\n",
              "      <td>B200</td>\n",
              "      <td>Bullocks</td>\n",
              "      <td>200 249</td>\n",
              "      <td>200</td>\n",
              "      <td>249</td>\n",
              "      <td>Euro</td>\n",
              "      <td>228.073462</td>\n",
              "    </tr>\n",
              "    <tr>\n",
              "      <th>1</th>\n",
              "      <td>AJA01C1</td>\n",
              "      <td>Cattle Price per Head</td>\n",
              "      <td>1976</td>\n",
              "      <td>1976</td>\n",
              "      <td>B250</td>\n",
              "      <td>Bullocks</td>\n",
              "      <td>250 299</td>\n",
              "      <td>250</td>\n",
              "      <td>299</td>\n",
              "      <td>Euro</td>\n",
              "      <td>228.073462</td>\n",
              "    </tr>\n",
              "    <tr>\n",
              "      <th>2</th>\n",
              "      <td>AJA01C1</td>\n",
              "      <td>Cattle Price per Head</td>\n",
              "      <td>1976</td>\n",
              "      <td>1976</td>\n",
              "      <td>B300</td>\n",
              "      <td>Bullocks</td>\n",
              "      <td>300 349</td>\n",
              "      <td>300</td>\n",
              "      <td>349</td>\n",
              "      <td>Euro</td>\n",
              "      <td>238.290000</td>\n",
              "    </tr>\n",
              "    <tr>\n",
              "      <th>3</th>\n",
              "      <td>AJA01C1</td>\n",
              "      <td>Cattle Price per Head</td>\n",
              "      <td>1976</td>\n",
              "      <td>1976</td>\n",
              "      <td>B350</td>\n",
              "      <td>Bullocks</td>\n",
              "      <td>350 399</td>\n",
              "      <td>350</td>\n",
              "      <td>399</td>\n",
              "      <td>Euro</td>\n",
              "      <td>270.470000</td>\n",
              "    </tr>\n",
              "    <tr>\n",
              "      <th>4</th>\n",
              "      <td>AJA01C1</td>\n",
              "      <td>Cattle Price per Head</td>\n",
              "      <td>1976</td>\n",
              "      <td>1976</td>\n",
              "      <td>B400</td>\n",
              "      <td>Bullocks</td>\n",
              "      <td>400 449</td>\n",
              "      <td>400</td>\n",
              "      <td>449</td>\n",
              "      <td>Euro</td>\n",
              "      <td>302.430000</td>\n",
              "    </tr>\n",
              "    <tr>\n",
              "      <th>...</th>\n",
              "      <td>...</td>\n",
              "      <td>...</td>\n",
              "      <td>...</td>\n",
              "      <td>...</td>\n",
              "      <td>...</td>\n",
              "      <td>...</td>\n",
              "      <td>...</td>\n",
              "      <td>...</td>\n",
              "      <td>...</td>\n",
              "      <td>...</td>\n",
              "      <td>...</td>\n",
              "    </tr>\n",
              "    <tr>\n",
              "      <th>1282</th>\n",
              "      <td>AJA01C2</td>\n",
              "      <td>Cattle Price per 100 Kg</td>\n",
              "      <td>2021</td>\n",
              "      <td>2021</td>\n",
              "      <td>H200</td>\n",
              "      <td>Heifers</td>\n",
              "      <td>200 249</td>\n",
              "      <td>200</td>\n",
              "      <td>249</td>\n",
              "      <td>Euro</td>\n",
              "      <td>222.738691</td>\n",
              "    </tr>\n",
              "    <tr>\n",
              "      <th>1283</th>\n",
              "      <td>AJA01C2</td>\n",
              "      <td>Cattle Price per 100 Kg</td>\n",
              "      <td>2021</td>\n",
              "      <td>2021</td>\n",
              "      <td>H250</td>\n",
              "      <td>Heifers</td>\n",
              "      <td>250 299</td>\n",
              "      <td>250</td>\n",
              "      <td>299</td>\n",
              "      <td>Euro</td>\n",
              "      <td>216.991177</td>\n",
              "    </tr>\n",
              "    <tr>\n",
              "      <th>1284</th>\n",
              "      <td>AJA01C2</td>\n",
              "      <td>Cattle Price per 100 Kg</td>\n",
              "      <td>2021</td>\n",
              "      <td>2021</td>\n",
              "      <td>H300</td>\n",
              "      <td>Heifers</td>\n",
              "      <td>300 349</td>\n",
              "      <td>300</td>\n",
              "      <td>349</td>\n",
              "      <td>Euro</td>\n",
              "      <td>215.245632</td>\n",
              "    </tr>\n",
              "    <tr>\n",
              "      <th>1285</th>\n",
              "      <td>AJA01C2</td>\n",
              "      <td>Cattle Price per 100 Kg</td>\n",
              "      <td>2021</td>\n",
              "      <td>2021</td>\n",
              "      <td>H350</td>\n",
              "      <td>Heifers</td>\n",
              "      <td>350 399</td>\n",
              "      <td>350</td>\n",
              "      <td>399</td>\n",
              "      <td>Euro</td>\n",
              "      <td>216.965995</td>\n",
              "    </tr>\n",
              "    <tr>\n",
              "      <th>1286</th>\n",
              "      <td>AJA01C2</td>\n",
              "      <td>Cattle Price per 100 Kg</td>\n",
              "      <td>2021</td>\n",
              "      <td>2021</td>\n",
              "      <td>H400</td>\n",
              "      <td>Heifers</td>\n",
              "      <td>400 449</td>\n",
              "      <td>400</td>\n",
              "      <td>449</td>\n",
              "      <td>Euro</td>\n",
              "      <td>216.796269</td>\n",
              "    </tr>\n",
              "  </tbody>\n",
              "</table>\n",
              "<p>1196 rows × 11 columns</p>\n",
              "</div>\n",
              "      <button class=\"colab-df-convert\" onclick=\"convertToInteractive('df-95f8a249-c976-4555-868b-eb8b239071bb')\"\n",
              "              title=\"Convert this dataframe to an interactive table.\"\n",
              "              style=\"display:none;\">\n",
              "        \n",
              "  <svg xmlns=\"http://www.w3.org/2000/svg\" height=\"24px\"viewBox=\"0 0 24 24\"\n",
              "       width=\"24px\">\n",
              "    <path d=\"M0 0h24v24H0V0z\" fill=\"none\"/>\n",
              "    <path d=\"M18.56 5.44l.94 2.06.94-2.06 2.06-.94-2.06-.94-.94-2.06-.94 2.06-2.06.94zm-11 1L8.5 8.5l.94-2.06 2.06-.94-2.06-.94L8.5 2.5l-.94 2.06-2.06.94zm10 10l.94 2.06.94-2.06 2.06-.94-2.06-.94-.94-2.06-.94 2.06-2.06.94z\"/><path d=\"M17.41 7.96l-1.37-1.37c-.4-.4-.92-.59-1.43-.59-.52 0-1.04.2-1.43.59L10.3 9.45l-7.72 7.72c-.78.78-.78 2.05 0 2.83L4 21.41c.39.39.9.59 1.41.59.51 0 1.02-.2 1.41-.59l7.78-7.78 2.81-2.81c.8-.78.8-2.07 0-2.86zM5.41 20L4 18.59l7.72-7.72 1.47 1.35L5.41 20z\"/>\n",
              "  </svg>\n",
              "      </button>\n",
              "      \n",
              "  <style>\n",
              "    .colab-df-container {\n",
              "      display:flex;\n",
              "      flex-wrap:wrap;\n",
              "      gap: 12px;\n",
              "    }\n",
              "\n",
              "    .colab-df-convert {\n",
              "      background-color: #E8F0FE;\n",
              "      border: none;\n",
              "      border-radius: 50%;\n",
              "      cursor: pointer;\n",
              "      display: none;\n",
              "      fill: #1967D2;\n",
              "      height: 32px;\n",
              "      padding: 0 0 0 0;\n",
              "      width: 32px;\n",
              "    }\n",
              "\n",
              "    .colab-df-convert:hover {\n",
              "      background-color: #E2EBFA;\n",
              "      box-shadow: 0px 1px 2px rgba(60, 64, 67, 0.3), 0px 1px 3px 1px rgba(60, 64, 67, 0.15);\n",
              "      fill: #174EA6;\n",
              "    }\n",
              "\n",
              "    [theme=dark] .colab-df-convert {\n",
              "      background-color: #3B4455;\n",
              "      fill: #D2E3FC;\n",
              "    }\n",
              "\n",
              "    [theme=dark] .colab-df-convert:hover {\n",
              "      background-color: #434B5C;\n",
              "      box-shadow: 0px 1px 3px 1px rgba(0, 0, 0, 0.15);\n",
              "      filter: drop-shadow(0px 1px 2px rgba(0, 0, 0, 0.3));\n",
              "      fill: #FFFFFF;\n",
              "    }\n",
              "  </style>\n",
              "\n",
              "      <script>\n",
              "        const buttonEl =\n",
              "          document.querySelector('#df-95f8a249-c976-4555-868b-eb8b239071bb button.colab-df-convert');\n",
              "        buttonEl.style.display =\n",
              "          google.colab.kernel.accessAllowed ? 'block' : 'none';\n",
              "\n",
              "        async function convertToInteractive(key) {\n",
              "          const element = document.querySelector('#df-95f8a249-c976-4555-868b-eb8b239071bb');\n",
              "          const dataTable =\n",
              "            await google.colab.kernel.invokeFunction('convertToInteractive',\n",
              "                                                     [key], {});\n",
              "          if (!dataTable) return;\n",
              "\n",
              "          const docLinkHtml = 'Like what you see? Visit the ' +\n",
              "            '<a target=\"_blank\" href=https://colab.research.google.com/notebooks/data_table.ipynb>data table notebook</a>'\n",
              "            + ' to learn more about interactive tables.';\n",
              "          element.innerHTML = '';\n",
              "          dataTable['output_type'] = 'display_data';\n",
              "          await google.colab.output.renderOutput(dataTable, element);\n",
              "          const docLink = document.createElement('div');\n",
              "          docLink.innerHTML = docLinkHtml;\n",
              "          element.appendChild(docLink);\n",
              "        }\n",
              "      </script>\n",
              "    </div>\n",
              "  </div>\n",
              "  "
            ]
          },
          "metadata": {},
          "execution_count": 34
        }
      ],
      "source": [
        "df"
      ]
    },
    {
      "cell_type": "markdown",
      "source": [
        "**SQLite storage of data**"
      ],
      "metadata": {
        "id": "UQyJG35-LKxm"
      }
    },
    {
      "cell_type": "code",
      "execution_count": 35,
      "metadata": {
        "id": "lnc7a9UnT35L"
      },
      "outputs": [],
      "source": [
        "import sqlite3\n",
        "import sqlalchemy"
      ]
    },
    {
      "cell_type": "code",
      "execution_count": 36,
      "metadata": {
        "id": "h-g1KxAFtXas"
      },
      "outputs": [],
      "source": [
        "engine = sqlalchemy.create_engine('sqlite:///steer_data.db')"
      ]
    },
    {
      "cell_type": "code",
      "execution_count": 37,
      "metadata": {
        "id": "k_ox06qXq6HR"
      },
      "outputs": [],
      "source": [
        "df.to_sql('steer_statistics_table', engine, if_exists='replace', index=False)"
      ]
    },
    {
      "cell_type": "code",
      "execution_count": 38,
      "metadata": {
        "colab": {
          "base_uri": "https://localhost:8080/",
          "height": 676
        },
        "id": "hTWbrEiyrfT1",
        "outputId": "6643599b-9025-425d-e49f-6d2cb60c858a"
      },
      "outputs": [
        {
          "output_type": "execute_result",
          "data": {
            "text/plain": [
              "     STATISTIC CODE                Statistic  TLIST(A1)  Year C01782V02140  \\\n",
              "0           AJA01C1    Cattle Price per Head       1976  1976         B200   \n",
              "1           AJA01C1    Cattle Price per Head       1976  1976         B250   \n",
              "2           AJA01C1    Cattle Price per Head       1976  1976         B300   \n",
              "3           AJA01C1    Cattle Price per Head       1976  1976         B350   \n",
              "4           AJA01C1    Cattle Price per Head       1976  1976         B400   \n",
              "...             ...                      ...        ...   ...          ...   \n",
              "1191        AJA01C2  Cattle Price per 100 Kg       2021  2021         H200   \n",
              "1192        AJA01C2  Cattle Price per 100 Kg       2021  2021         H250   \n",
              "1193        AJA01C2  Cattle Price per 100 Kg       2021  2021         H300   \n",
              "1194        AJA01C2  Cattle Price per 100 Kg       2021  2021         H350   \n",
              "1195        AJA01C2  Cattle Price per 100 Kg       2021  2021         H400   \n",
              "\n",
              "     Type of Cattle Weight in kg Min Weight in kg Max Weight in kg  UNIT  \\\n",
              "0          Bullocks    200 249                200            249    Euro   \n",
              "1          Bullocks    250 299                250            299    Euro   \n",
              "2          Bullocks    300 349                300            349    Euro   \n",
              "3          Bullocks    350 399                350            399    Euro   \n",
              "4          Bullocks    400 449                400            449    Euro   \n",
              "...             ...          ...              ...              ...   ...   \n",
              "1191        Heifers    200 249                200            249    Euro   \n",
              "1192        Heifers    250 299                250            299    Euro   \n",
              "1193        Heifers    300 349                300            349    Euro   \n",
              "1194        Heifers    350 399                350            399    Euro   \n",
              "1195        Heifers    400 449                400            449    Euro   \n",
              "\n",
              "           VALUE  \n",
              "0     228.073462  \n",
              "1     228.073462  \n",
              "2     238.290000  \n",
              "3     270.470000  \n",
              "4     302.430000  \n",
              "...          ...  \n",
              "1191  222.738691  \n",
              "1192  216.991177  \n",
              "1193  215.245632  \n",
              "1194  216.965995  \n",
              "1195  216.796269  \n",
              "\n",
              "[1196 rows x 11 columns]"
            ],
            "text/html": [
              "\n",
              "  <div id=\"df-d6b7ddc4-0eb1-4586-a383-d583399fcbc8\">\n",
              "    <div class=\"colab-df-container\">\n",
              "      <div>\n",
              "<style scoped>\n",
              "    .dataframe tbody tr th:only-of-type {\n",
              "        vertical-align: middle;\n",
              "    }\n",
              "\n",
              "    .dataframe tbody tr th {\n",
              "        vertical-align: top;\n",
              "    }\n",
              "\n",
              "    .dataframe thead th {\n",
              "        text-align: right;\n",
              "    }\n",
              "</style>\n",
              "<table border=\"1\" class=\"dataframe\">\n",
              "  <thead>\n",
              "    <tr style=\"text-align: right;\">\n",
              "      <th></th>\n",
              "      <th>STATISTIC CODE</th>\n",
              "      <th>Statistic</th>\n",
              "      <th>TLIST(A1)</th>\n",
              "      <th>Year</th>\n",
              "      <th>C01782V02140</th>\n",
              "      <th>Type of Cattle</th>\n",
              "      <th>Weight in kg</th>\n",
              "      <th>Min Weight in kg</th>\n",
              "      <th>Max Weight in kg</th>\n",
              "      <th>UNIT</th>\n",
              "      <th>VALUE</th>\n",
              "    </tr>\n",
              "  </thead>\n",
              "  <tbody>\n",
              "    <tr>\n",
              "      <th>0</th>\n",
              "      <td>AJA01C1</td>\n",
              "      <td>Cattle Price per Head</td>\n",
              "      <td>1976</td>\n",
              "      <td>1976</td>\n",
              "      <td>B200</td>\n",
              "      <td>Bullocks</td>\n",
              "      <td>200 249</td>\n",
              "      <td>200</td>\n",
              "      <td>249</td>\n",
              "      <td>Euro</td>\n",
              "      <td>228.073462</td>\n",
              "    </tr>\n",
              "    <tr>\n",
              "      <th>1</th>\n",
              "      <td>AJA01C1</td>\n",
              "      <td>Cattle Price per Head</td>\n",
              "      <td>1976</td>\n",
              "      <td>1976</td>\n",
              "      <td>B250</td>\n",
              "      <td>Bullocks</td>\n",
              "      <td>250 299</td>\n",
              "      <td>250</td>\n",
              "      <td>299</td>\n",
              "      <td>Euro</td>\n",
              "      <td>228.073462</td>\n",
              "    </tr>\n",
              "    <tr>\n",
              "      <th>2</th>\n",
              "      <td>AJA01C1</td>\n",
              "      <td>Cattle Price per Head</td>\n",
              "      <td>1976</td>\n",
              "      <td>1976</td>\n",
              "      <td>B300</td>\n",
              "      <td>Bullocks</td>\n",
              "      <td>300 349</td>\n",
              "      <td>300</td>\n",
              "      <td>349</td>\n",
              "      <td>Euro</td>\n",
              "      <td>238.290000</td>\n",
              "    </tr>\n",
              "    <tr>\n",
              "      <th>3</th>\n",
              "      <td>AJA01C1</td>\n",
              "      <td>Cattle Price per Head</td>\n",
              "      <td>1976</td>\n",
              "      <td>1976</td>\n",
              "      <td>B350</td>\n",
              "      <td>Bullocks</td>\n",
              "      <td>350 399</td>\n",
              "      <td>350</td>\n",
              "      <td>399</td>\n",
              "      <td>Euro</td>\n",
              "      <td>270.470000</td>\n",
              "    </tr>\n",
              "    <tr>\n",
              "      <th>4</th>\n",
              "      <td>AJA01C1</td>\n",
              "      <td>Cattle Price per Head</td>\n",
              "      <td>1976</td>\n",
              "      <td>1976</td>\n",
              "      <td>B400</td>\n",
              "      <td>Bullocks</td>\n",
              "      <td>400 449</td>\n",
              "      <td>400</td>\n",
              "      <td>449</td>\n",
              "      <td>Euro</td>\n",
              "      <td>302.430000</td>\n",
              "    </tr>\n",
              "    <tr>\n",
              "      <th>...</th>\n",
              "      <td>...</td>\n",
              "      <td>...</td>\n",
              "      <td>...</td>\n",
              "      <td>...</td>\n",
              "      <td>...</td>\n",
              "      <td>...</td>\n",
              "      <td>...</td>\n",
              "      <td>...</td>\n",
              "      <td>...</td>\n",
              "      <td>...</td>\n",
              "      <td>...</td>\n",
              "    </tr>\n",
              "    <tr>\n",
              "      <th>1191</th>\n",
              "      <td>AJA01C2</td>\n",
              "      <td>Cattle Price per 100 Kg</td>\n",
              "      <td>2021</td>\n",
              "      <td>2021</td>\n",
              "      <td>H200</td>\n",
              "      <td>Heifers</td>\n",
              "      <td>200 249</td>\n",
              "      <td>200</td>\n",
              "      <td>249</td>\n",
              "      <td>Euro</td>\n",
              "      <td>222.738691</td>\n",
              "    </tr>\n",
              "    <tr>\n",
              "      <th>1192</th>\n",
              "      <td>AJA01C2</td>\n",
              "      <td>Cattle Price per 100 Kg</td>\n",
              "      <td>2021</td>\n",
              "      <td>2021</td>\n",
              "      <td>H250</td>\n",
              "      <td>Heifers</td>\n",
              "      <td>250 299</td>\n",
              "      <td>250</td>\n",
              "      <td>299</td>\n",
              "      <td>Euro</td>\n",
              "      <td>216.991177</td>\n",
              "    </tr>\n",
              "    <tr>\n",
              "      <th>1193</th>\n",
              "      <td>AJA01C2</td>\n",
              "      <td>Cattle Price per 100 Kg</td>\n",
              "      <td>2021</td>\n",
              "      <td>2021</td>\n",
              "      <td>H300</td>\n",
              "      <td>Heifers</td>\n",
              "      <td>300 349</td>\n",
              "      <td>300</td>\n",
              "      <td>349</td>\n",
              "      <td>Euro</td>\n",
              "      <td>215.245632</td>\n",
              "    </tr>\n",
              "    <tr>\n",
              "      <th>1194</th>\n",
              "      <td>AJA01C2</td>\n",
              "      <td>Cattle Price per 100 Kg</td>\n",
              "      <td>2021</td>\n",
              "      <td>2021</td>\n",
              "      <td>H350</td>\n",
              "      <td>Heifers</td>\n",
              "      <td>350 399</td>\n",
              "      <td>350</td>\n",
              "      <td>399</td>\n",
              "      <td>Euro</td>\n",
              "      <td>216.965995</td>\n",
              "    </tr>\n",
              "    <tr>\n",
              "      <th>1195</th>\n",
              "      <td>AJA01C2</td>\n",
              "      <td>Cattle Price per 100 Kg</td>\n",
              "      <td>2021</td>\n",
              "      <td>2021</td>\n",
              "      <td>H400</td>\n",
              "      <td>Heifers</td>\n",
              "      <td>400 449</td>\n",
              "      <td>400</td>\n",
              "      <td>449</td>\n",
              "      <td>Euro</td>\n",
              "      <td>216.796269</td>\n",
              "    </tr>\n",
              "  </tbody>\n",
              "</table>\n",
              "<p>1196 rows × 11 columns</p>\n",
              "</div>\n",
              "      <button class=\"colab-df-convert\" onclick=\"convertToInteractive('df-d6b7ddc4-0eb1-4586-a383-d583399fcbc8')\"\n",
              "              title=\"Convert this dataframe to an interactive table.\"\n",
              "              style=\"display:none;\">\n",
              "        \n",
              "  <svg xmlns=\"http://www.w3.org/2000/svg\" height=\"24px\"viewBox=\"0 0 24 24\"\n",
              "       width=\"24px\">\n",
              "    <path d=\"M0 0h24v24H0V0z\" fill=\"none\"/>\n",
              "    <path d=\"M18.56 5.44l.94 2.06.94-2.06 2.06-.94-2.06-.94-.94-2.06-.94 2.06-2.06.94zm-11 1L8.5 8.5l.94-2.06 2.06-.94-2.06-.94L8.5 2.5l-.94 2.06-2.06.94zm10 10l.94 2.06.94-2.06 2.06-.94-2.06-.94-.94-2.06-.94 2.06-2.06.94z\"/><path d=\"M17.41 7.96l-1.37-1.37c-.4-.4-.92-.59-1.43-.59-.52 0-1.04.2-1.43.59L10.3 9.45l-7.72 7.72c-.78.78-.78 2.05 0 2.83L4 21.41c.39.39.9.59 1.41.59.51 0 1.02-.2 1.41-.59l7.78-7.78 2.81-2.81c.8-.78.8-2.07 0-2.86zM5.41 20L4 18.59l7.72-7.72 1.47 1.35L5.41 20z\"/>\n",
              "  </svg>\n",
              "      </button>\n",
              "      \n",
              "  <style>\n",
              "    .colab-df-container {\n",
              "      display:flex;\n",
              "      flex-wrap:wrap;\n",
              "      gap: 12px;\n",
              "    }\n",
              "\n",
              "    .colab-df-convert {\n",
              "      background-color: #E8F0FE;\n",
              "      border: none;\n",
              "      border-radius: 50%;\n",
              "      cursor: pointer;\n",
              "      display: none;\n",
              "      fill: #1967D2;\n",
              "      height: 32px;\n",
              "      padding: 0 0 0 0;\n",
              "      width: 32px;\n",
              "    }\n",
              "\n",
              "    .colab-df-convert:hover {\n",
              "      background-color: #E2EBFA;\n",
              "      box-shadow: 0px 1px 2px rgba(60, 64, 67, 0.3), 0px 1px 3px 1px rgba(60, 64, 67, 0.15);\n",
              "      fill: #174EA6;\n",
              "    }\n",
              "\n",
              "    [theme=dark] .colab-df-convert {\n",
              "      background-color: #3B4455;\n",
              "      fill: #D2E3FC;\n",
              "    }\n",
              "\n",
              "    [theme=dark] .colab-df-convert:hover {\n",
              "      background-color: #434B5C;\n",
              "      box-shadow: 0px 1px 3px 1px rgba(0, 0, 0, 0.15);\n",
              "      filter: drop-shadow(0px 1px 2px rgba(0, 0, 0, 0.3));\n",
              "      fill: #FFFFFF;\n",
              "    }\n",
              "  </style>\n",
              "\n",
              "      <script>\n",
              "        const buttonEl =\n",
              "          document.querySelector('#df-d6b7ddc4-0eb1-4586-a383-d583399fcbc8 button.colab-df-convert');\n",
              "        buttonEl.style.display =\n",
              "          google.colab.kernel.accessAllowed ? 'block' : 'none';\n",
              "\n",
              "        async function convertToInteractive(key) {\n",
              "          const element = document.querySelector('#df-d6b7ddc4-0eb1-4586-a383-d583399fcbc8');\n",
              "          const dataTable =\n",
              "            await google.colab.kernel.invokeFunction('convertToInteractive',\n",
              "                                                     [key], {});\n",
              "          if (!dataTable) return;\n",
              "\n",
              "          const docLinkHtml = 'Like what you see? Visit the ' +\n",
              "            '<a target=\"_blank\" href=https://colab.research.google.com/notebooks/data_table.ipynb>data table notebook</a>'\n",
              "            + ' to learn more about interactive tables.';\n",
              "          element.innerHTML = '';\n",
              "          dataTable['output_type'] = 'display_data';\n",
              "          await google.colab.output.renderOutput(dataTable, element);\n",
              "          const docLink = document.createElement('div');\n",
              "          docLink.innerHTML = docLinkHtml;\n",
              "          element.appendChild(docLink);\n",
              "        }\n",
              "      </script>\n",
              "    </div>\n",
              "  </div>\n",
              "  "
            ]
          },
          "metadata": {},
          "execution_count": 38
        }
      ],
      "source": [
        "pd.read_sql('steer_statistics_table', engine)"
      ]
    },
    {
      "cell_type": "code",
      "execution_count": 39,
      "metadata": {
        "id": "n8SMbC1OKw04"
      },
      "outputs": [],
      "source": [
        "x = data1.iloc[:,7:9]\n",
        "y = data1['VALUE']"
      ]
    },
    {
      "cell_type": "code",
      "execution_count": 40,
      "metadata": {
        "colab": {
          "base_uri": "https://localhost:8080/",
          "height": 424
        },
        "id": "ERO92kXTNfzm",
        "outputId": "96bf1517-682a-4df7-f26a-2edf3f139020"
      },
      "outputs": [
        {
          "output_type": "execute_result",
          "data": {
            "text/plain": [
              "      Min Weight in kg  Max Weight in kg\n",
              "0                  200             249.0\n",
              "1                  250             299.0\n",
              "2                  300             349.0\n",
              "3                  350             399.0\n",
              "4                  400             449.0\n",
              "...                ...               ...\n",
              "1282               200             249.0\n",
              "1283               250             299.0\n",
              "1284               300             349.0\n",
              "1285               350             399.0\n",
              "1286               400             449.0\n",
              "\n",
              "[1104 rows x 2 columns]"
            ],
            "text/html": [
              "\n",
              "  <div id=\"df-069eea41-9676-4e6b-b8ac-d85be32654ce\">\n",
              "    <div class=\"colab-df-container\">\n",
              "      <div>\n",
              "<style scoped>\n",
              "    .dataframe tbody tr th:only-of-type {\n",
              "        vertical-align: middle;\n",
              "    }\n",
              "\n",
              "    .dataframe tbody tr th {\n",
              "        vertical-align: top;\n",
              "    }\n",
              "\n",
              "    .dataframe thead th {\n",
              "        text-align: right;\n",
              "    }\n",
              "</style>\n",
              "<table border=\"1\" class=\"dataframe\">\n",
              "  <thead>\n",
              "    <tr style=\"text-align: right;\">\n",
              "      <th></th>\n",
              "      <th>Min Weight in kg</th>\n",
              "      <th>Max Weight in kg</th>\n",
              "    </tr>\n",
              "  </thead>\n",
              "  <tbody>\n",
              "    <tr>\n",
              "      <th>0</th>\n",
              "      <td>200</td>\n",
              "      <td>249.0</td>\n",
              "    </tr>\n",
              "    <tr>\n",
              "      <th>1</th>\n",
              "      <td>250</td>\n",
              "      <td>299.0</td>\n",
              "    </tr>\n",
              "    <tr>\n",
              "      <th>2</th>\n",
              "      <td>300</td>\n",
              "      <td>349.0</td>\n",
              "    </tr>\n",
              "    <tr>\n",
              "      <th>3</th>\n",
              "      <td>350</td>\n",
              "      <td>399.0</td>\n",
              "    </tr>\n",
              "    <tr>\n",
              "      <th>4</th>\n",
              "      <td>400</td>\n",
              "      <td>449.0</td>\n",
              "    </tr>\n",
              "    <tr>\n",
              "      <th>...</th>\n",
              "      <td>...</td>\n",
              "      <td>...</td>\n",
              "    </tr>\n",
              "    <tr>\n",
              "      <th>1282</th>\n",
              "      <td>200</td>\n",
              "      <td>249.0</td>\n",
              "    </tr>\n",
              "    <tr>\n",
              "      <th>1283</th>\n",
              "      <td>250</td>\n",
              "      <td>299.0</td>\n",
              "    </tr>\n",
              "    <tr>\n",
              "      <th>1284</th>\n",
              "      <td>300</td>\n",
              "      <td>349.0</td>\n",
              "    </tr>\n",
              "    <tr>\n",
              "      <th>1285</th>\n",
              "      <td>350</td>\n",
              "      <td>399.0</td>\n",
              "    </tr>\n",
              "    <tr>\n",
              "      <th>1286</th>\n",
              "      <td>400</td>\n",
              "      <td>449.0</td>\n",
              "    </tr>\n",
              "  </tbody>\n",
              "</table>\n",
              "<p>1104 rows × 2 columns</p>\n",
              "</div>\n",
              "      <button class=\"colab-df-convert\" onclick=\"convertToInteractive('df-069eea41-9676-4e6b-b8ac-d85be32654ce')\"\n",
              "              title=\"Convert this dataframe to an interactive table.\"\n",
              "              style=\"display:none;\">\n",
              "        \n",
              "  <svg xmlns=\"http://www.w3.org/2000/svg\" height=\"24px\"viewBox=\"0 0 24 24\"\n",
              "       width=\"24px\">\n",
              "    <path d=\"M0 0h24v24H0V0z\" fill=\"none\"/>\n",
              "    <path d=\"M18.56 5.44l.94 2.06.94-2.06 2.06-.94-2.06-.94-.94-2.06-.94 2.06-2.06.94zm-11 1L8.5 8.5l.94-2.06 2.06-.94-2.06-.94L8.5 2.5l-.94 2.06-2.06.94zm10 10l.94 2.06.94-2.06 2.06-.94-2.06-.94-.94-2.06-.94 2.06-2.06.94z\"/><path d=\"M17.41 7.96l-1.37-1.37c-.4-.4-.92-.59-1.43-.59-.52 0-1.04.2-1.43.59L10.3 9.45l-7.72 7.72c-.78.78-.78 2.05 0 2.83L4 21.41c.39.39.9.59 1.41.59.51 0 1.02-.2 1.41-.59l7.78-7.78 2.81-2.81c.8-.78.8-2.07 0-2.86zM5.41 20L4 18.59l7.72-7.72 1.47 1.35L5.41 20z\"/>\n",
              "  </svg>\n",
              "      </button>\n",
              "      \n",
              "  <style>\n",
              "    .colab-df-container {\n",
              "      display:flex;\n",
              "      flex-wrap:wrap;\n",
              "      gap: 12px;\n",
              "    }\n",
              "\n",
              "    .colab-df-convert {\n",
              "      background-color: #E8F0FE;\n",
              "      border: none;\n",
              "      border-radius: 50%;\n",
              "      cursor: pointer;\n",
              "      display: none;\n",
              "      fill: #1967D2;\n",
              "      height: 32px;\n",
              "      padding: 0 0 0 0;\n",
              "      width: 32px;\n",
              "    }\n",
              "\n",
              "    .colab-df-convert:hover {\n",
              "      background-color: #E2EBFA;\n",
              "      box-shadow: 0px 1px 2px rgba(60, 64, 67, 0.3), 0px 1px 3px 1px rgba(60, 64, 67, 0.15);\n",
              "      fill: #174EA6;\n",
              "    }\n",
              "\n",
              "    [theme=dark] .colab-df-convert {\n",
              "      background-color: #3B4455;\n",
              "      fill: #D2E3FC;\n",
              "    }\n",
              "\n",
              "    [theme=dark] .colab-df-convert:hover {\n",
              "      background-color: #434B5C;\n",
              "      box-shadow: 0px 1px 3px 1px rgba(0, 0, 0, 0.15);\n",
              "      filter: drop-shadow(0px 1px 2px rgba(0, 0, 0, 0.3));\n",
              "      fill: #FFFFFF;\n",
              "    }\n",
              "  </style>\n",
              "\n",
              "      <script>\n",
              "        const buttonEl =\n",
              "          document.querySelector('#df-069eea41-9676-4e6b-b8ac-d85be32654ce button.colab-df-convert');\n",
              "        buttonEl.style.display =\n",
              "          google.colab.kernel.accessAllowed ? 'block' : 'none';\n",
              "\n",
              "        async function convertToInteractive(key) {\n",
              "          const element = document.querySelector('#df-069eea41-9676-4e6b-b8ac-d85be32654ce');\n",
              "          const dataTable =\n",
              "            await google.colab.kernel.invokeFunction('convertToInteractive',\n",
              "                                                     [key], {});\n",
              "          if (!dataTable) return;\n",
              "\n",
              "          const docLinkHtml = 'Like what you see? Visit the ' +\n",
              "            '<a target=\"_blank\" href=https://colab.research.google.com/notebooks/data_table.ipynb>data table notebook</a>'\n",
              "            + ' to learn more about interactive tables.';\n",
              "          element.innerHTML = '';\n",
              "          dataTable['output_type'] = 'display_data';\n",
              "          await google.colab.output.renderOutput(dataTable, element);\n",
              "          const docLink = document.createElement('div');\n",
              "          docLink.innerHTML = docLinkHtml;\n",
              "          element.appendChild(docLink);\n",
              "        }\n",
              "      </script>\n",
              "    </div>\n",
              "  </div>\n",
              "  "
            ]
          },
          "metadata": {},
          "execution_count": 40
        }
      ],
      "source": [
        "x"
      ]
    },
    {
      "cell_type": "code",
      "execution_count": 41,
      "metadata": {
        "id": "-Gw5djqrRThp"
      },
      "outputs": [],
      "source": [
        "#x.to_sql('steer_weight_table')"
      ]
    },
    {
      "cell_type": "code",
      "execution_count": 42,
      "metadata": {
        "id": "v5BFC-FZPI9j"
      },
      "outputs": [],
      "source": [
        "x['Max Weight in kg'] = x.iloc[:, 1].astype(int)"
      ]
    },
    {
      "cell_type": "code",
      "execution_count": 43,
      "metadata": {
        "colab": {
          "base_uri": "https://localhost:8080/",
          "height": 424
        },
        "id": "oviO-tR_POZ-",
        "outputId": "6a2003a2-0142-4881-cda0-99fc663d8a4e"
      },
      "outputs": [
        {
          "output_type": "execute_result",
          "data": {
            "text/plain": [
              "      Min Weight in kg  Max Weight in kg\n",
              "0                  200               249\n",
              "1                  250               299\n",
              "2                  300               349\n",
              "3                  350               399\n",
              "4                  400               449\n",
              "...                ...               ...\n",
              "1282               200               249\n",
              "1283               250               299\n",
              "1284               300               349\n",
              "1285               350               399\n",
              "1286               400               449\n",
              "\n",
              "[1104 rows x 2 columns]"
            ],
            "text/html": [
              "\n",
              "  <div id=\"df-676fd548-45e8-491d-92c8-1f62b556d014\">\n",
              "    <div class=\"colab-df-container\">\n",
              "      <div>\n",
              "<style scoped>\n",
              "    .dataframe tbody tr th:only-of-type {\n",
              "        vertical-align: middle;\n",
              "    }\n",
              "\n",
              "    .dataframe tbody tr th {\n",
              "        vertical-align: top;\n",
              "    }\n",
              "\n",
              "    .dataframe thead th {\n",
              "        text-align: right;\n",
              "    }\n",
              "</style>\n",
              "<table border=\"1\" class=\"dataframe\">\n",
              "  <thead>\n",
              "    <tr style=\"text-align: right;\">\n",
              "      <th></th>\n",
              "      <th>Min Weight in kg</th>\n",
              "      <th>Max Weight in kg</th>\n",
              "    </tr>\n",
              "  </thead>\n",
              "  <tbody>\n",
              "    <tr>\n",
              "      <th>0</th>\n",
              "      <td>200</td>\n",
              "      <td>249</td>\n",
              "    </tr>\n",
              "    <tr>\n",
              "      <th>1</th>\n",
              "      <td>250</td>\n",
              "      <td>299</td>\n",
              "    </tr>\n",
              "    <tr>\n",
              "      <th>2</th>\n",
              "      <td>300</td>\n",
              "      <td>349</td>\n",
              "    </tr>\n",
              "    <tr>\n",
              "      <th>3</th>\n",
              "      <td>350</td>\n",
              "      <td>399</td>\n",
              "    </tr>\n",
              "    <tr>\n",
              "      <th>4</th>\n",
              "      <td>400</td>\n",
              "      <td>449</td>\n",
              "    </tr>\n",
              "    <tr>\n",
              "      <th>...</th>\n",
              "      <td>...</td>\n",
              "      <td>...</td>\n",
              "    </tr>\n",
              "    <tr>\n",
              "      <th>1282</th>\n",
              "      <td>200</td>\n",
              "      <td>249</td>\n",
              "    </tr>\n",
              "    <tr>\n",
              "      <th>1283</th>\n",
              "      <td>250</td>\n",
              "      <td>299</td>\n",
              "    </tr>\n",
              "    <tr>\n",
              "      <th>1284</th>\n",
              "      <td>300</td>\n",
              "      <td>349</td>\n",
              "    </tr>\n",
              "    <tr>\n",
              "      <th>1285</th>\n",
              "      <td>350</td>\n",
              "      <td>399</td>\n",
              "    </tr>\n",
              "    <tr>\n",
              "      <th>1286</th>\n",
              "      <td>400</td>\n",
              "      <td>449</td>\n",
              "    </tr>\n",
              "  </tbody>\n",
              "</table>\n",
              "<p>1104 rows × 2 columns</p>\n",
              "</div>\n",
              "      <button class=\"colab-df-convert\" onclick=\"convertToInteractive('df-676fd548-45e8-491d-92c8-1f62b556d014')\"\n",
              "              title=\"Convert this dataframe to an interactive table.\"\n",
              "              style=\"display:none;\">\n",
              "        \n",
              "  <svg xmlns=\"http://www.w3.org/2000/svg\" height=\"24px\"viewBox=\"0 0 24 24\"\n",
              "       width=\"24px\">\n",
              "    <path d=\"M0 0h24v24H0V0z\" fill=\"none\"/>\n",
              "    <path d=\"M18.56 5.44l.94 2.06.94-2.06 2.06-.94-2.06-.94-.94-2.06-.94 2.06-2.06.94zm-11 1L8.5 8.5l.94-2.06 2.06-.94-2.06-.94L8.5 2.5l-.94 2.06-2.06.94zm10 10l.94 2.06.94-2.06 2.06-.94-2.06-.94-.94-2.06-.94 2.06-2.06.94z\"/><path d=\"M17.41 7.96l-1.37-1.37c-.4-.4-.92-.59-1.43-.59-.52 0-1.04.2-1.43.59L10.3 9.45l-7.72 7.72c-.78.78-.78 2.05 0 2.83L4 21.41c.39.39.9.59 1.41.59.51 0 1.02-.2 1.41-.59l7.78-7.78 2.81-2.81c.8-.78.8-2.07 0-2.86zM5.41 20L4 18.59l7.72-7.72 1.47 1.35L5.41 20z\"/>\n",
              "  </svg>\n",
              "      </button>\n",
              "      \n",
              "  <style>\n",
              "    .colab-df-container {\n",
              "      display:flex;\n",
              "      flex-wrap:wrap;\n",
              "      gap: 12px;\n",
              "    }\n",
              "\n",
              "    .colab-df-convert {\n",
              "      background-color: #E8F0FE;\n",
              "      border: none;\n",
              "      border-radius: 50%;\n",
              "      cursor: pointer;\n",
              "      display: none;\n",
              "      fill: #1967D2;\n",
              "      height: 32px;\n",
              "      padding: 0 0 0 0;\n",
              "      width: 32px;\n",
              "    }\n",
              "\n",
              "    .colab-df-convert:hover {\n",
              "      background-color: #E2EBFA;\n",
              "      box-shadow: 0px 1px 2px rgba(60, 64, 67, 0.3), 0px 1px 3px 1px rgba(60, 64, 67, 0.15);\n",
              "      fill: #174EA6;\n",
              "    }\n",
              "\n",
              "    [theme=dark] .colab-df-convert {\n",
              "      background-color: #3B4455;\n",
              "      fill: #D2E3FC;\n",
              "    }\n",
              "\n",
              "    [theme=dark] .colab-df-convert:hover {\n",
              "      background-color: #434B5C;\n",
              "      box-shadow: 0px 1px 3px 1px rgba(0, 0, 0, 0.15);\n",
              "      filter: drop-shadow(0px 1px 2px rgba(0, 0, 0, 0.3));\n",
              "      fill: #FFFFFF;\n",
              "    }\n",
              "  </style>\n",
              "\n",
              "      <script>\n",
              "        const buttonEl =\n",
              "          document.querySelector('#df-676fd548-45e8-491d-92c8-1f62b556d014 button.colab-df-convert');\n",
              "        buttonEl.style.display =\n",
              "          google.colab.kernel.accessAllowed ? 'block' : 'none';\n",
              "\n",
              "        async function convertToInteractive(key) {\n",
              "          const element = document.querySelector('#df-676fd548-45e8-491d-92c8-1f62b556d014');\n",
              "          const dataTable =\n",
              "            await google.colab.kernel.invokeFunction('convertToInteractive',\n",
              "                                                     [key], {});\n",
              "          if (!dataTable) return;\n",
              "\n",
              "          const docLinkHtml = 'Like what you see? Visit the ' +\n",
              "            '<a target=\"_blank\" href=https://colab.research.google.com/notebooks/data_table.ipynb>data table notebook</a>'\n",
              "            + ' to learn more about interactive tables.';\n",
              "          element.innerHTML = '';\n",
              "          dataTable['output_type'] = 'display_data';\n",
              "          await google.colab.output.renderOutput(dataTable, element);\n",
              "          const docLink = document.createElement('div');\n",
              "          docLink.innerHTML = docLinkHtml;\n",
              "          element.appendChild(docLink);\n",
              "        }\n",
              "      </script>\n",
              "    </div>\n",
              "  </div>\n",
              "  "
            ]
          },
          "metadata": {},
          "execution_count": 43
        }
      ],
      "source": [
        "x"
      ]
    },
    {
      "cell_type": "code",
      "execution_count": 44,
      "metadata": {
        "colab": {
          "base_uri": "https://localhost:8080/"
        },
        "id": "U9hAL9a6sba3",
        "outputId": "b865e086-be3d-44af-913d-b9efaaed4166"
      },
      "outputs": [
        {
          "output_type": "execute_result",
          "data": {
            "text/plain": [
              "Min Weight in kg    int64\n",
              "Max Weight in kg    int64\n",
              "dtype: object"
            ]
          },
          "metadata": {},
          "execution_count": 44
        }
      ],
      "source": [
        "x.dtypes"
      ]
    },
    {
      "cell_type": "code",
      "execution_count": 45,
      "metadata": {
        "id": "HYL5W5OysJBk"
      },
      "outputs": [],
      "source": [
        "x.to_sql('steer_weight_table', engine, if_exists='replace', index=False)"
      ]
    },
    {
      "cell_type": "code",
      "execution_count": 46,
      "metadata": {
        "colab": {
          "base_uri": "https://localhost:8080/",
          "height": 424
        },
        "id": "2zBJyZ8hsYzL",
        "outputId": "81c7c0c0-27c5-42ab-a507-16aa8b3719f5"
      },
      "outputs": [
        {
          "output_type": "execute_result",
          "data": {
            "text/plain": [
              "      Min Weight in kg  Max Weight in kg\n",
              "0                  200               249\n",
              "1                  250               299\n",
              "2                  300               349\n",
              "3                  350               399\n",
              "4                  400               449\n",
              "...                ...               ...\n",
              "1099               200               249\n",
              "1100               250               299\n",
              "1101               300               349\n",
              "1102               350               399\n",
              "1103               400               449\n",
              "\n",
              "[1104 rows x 2 columns]"
            ],
            "text/html": [
              "\n",
              "  <div id=\"df-ba5e12bb-b042-4cb1-a34c-3dcebb5beea2\">\n",
              "    <div class=\"colab-df-container\">\n",
              "      <div>\n",
              "<style scoped>\n",
              "    .dataframe tbody tr th:only-of-type {\n",
              "        vertical-align: middle;\n",
              "    }\n",
              "\n",
              "    .dataframe tbody tr th {\n",
              "        vertical-align: top;\n",
              "    }\n",
              "\n",
              "    .dataframe thead th {\n",
              "        text-align: right;\n",
              "    }\n",
              "</style>\n",
              "<table border=\"1\" class=\"dataframe\">\n",
              "  <thead>\n",
              "    <tr style=\"text-align: right;\">\n",
              "      <th></th>\n",
              "      <th>Min Weight in kg</th>\n",
              "      <th>Max Weight in kg</th>\n",
              "    </tr>\n",
              "  </thead>\n",
              "  <tbody>\n",
              "    <tr>\n",
              "      <th>0</th>\n",
              "      <td>200</td>\n",
              "      <td>249</td>\n",
              "    </tr>\n",
              "    <tr>\n",
              "      <th>1</th>\n",
              "      <td>250</td>\n",
              "      <td>299</td>\n",
              "    </tr>\n",
              "    <tr>\n",
              "      <th>2</th>\n",
              "      <td>300</td>\n",
              "      <td>349</td>\n",
              "    </tr>\n",
              "    <tr>\n",
              "      <th>3</th>\n",
              "      <td>350</td>\n",
              "      <td>399</td>\n",
              "    </tr>\n",
              "    <tr>\n",
              "      <th>4</th>\n",
              "      <td>400</td>\n",
              "      <td>449</td>\n",
              "    </tr>\n",
              "    <tr>\n",
              "      <th>...</th>\n",
              "      <td>...</td>\n",
              "      <td>...</td>\n",
              "    </tr>\n",
              "    <tr>\n",
              "      <th>1099</th>\n",
              "      <td>200</td>\n",
              "      <td>249</td>\n",
              "    </tr>\n",
              "    <tr>\n",
              "      <th>1100</th>\n",
              "      <td>250</td>\n",
              "      <td>299</td>\n",
              "    </tr>\n",
              "    <tr>\n",
              "      <th>1101</th>\n",
              "      <td>300</td>\n",
              "      <td>349</td>\n",
              "    </tr>\n",
              "    <tr>\n",
              "      <th>1102</th>\n",
              "      <td>350</td>\n",
              "      <td>399</td>\n",
              "    </tr>\n",
              "    <tr>\n",
              "      <th>1103</th>\n",
              "      <td>400</td>\n",
              "      <td>449</td>\n",
              "    </tr>\n",
              "  </tbody>\n",
              "</table>\n",
              "<p>1104 rows × 2 columns</p>\n",
              "</div>\n",
              "      <button class=\"colab-df-convert\" onclick=\"convertToInteractive('df-ba5e12bb-b042-4cb1-a34c-3dcebb5beea2')\"\n",
              "              title=\"Convert this dataframe to an interactive table.\"\n",
              "              style=\"display:none;\">\n",
              "        \n",
              "  <svg xmlns=\"http://www.w3.org/2000/svg\" height=\"24px\"viewBox=\"0 0 24 24\"\n",
              "       width=\"24px\">\n",
              "    <path d=\"M0 0h24v24H0V0z\" fill=\"none\"/>\n",
              "    <path d=\"M18.56 5.44l.94 2.06.94-2.06 2.06-.94-2.06-.94-.94-2.06-.94 2.06-2.06.94zm-11 1L8.5 8.5l.94-2.06 2.06-.94-2.06-.94L8.5 2.5l-.94 2.06-2.06.94zm10 10l.94 2.06.94-2.06 2.06-.94-2.06-.94-.94-2.06-.94 2.06-2.06.94z\"/><path d=\"M17.41 7.96l-1.37-1.37c-.4-.4-.92-.59-1.43-.59-.52 0-1.04.2-1.43.59L10.3 9.45l-7.72 7.72c-.78.78-.78 2.05 0 2.83L4 21.41c.39.39.9.59 1.41.59.51 0 1.02-.2 1.41-.59l7.78-7.78 2.81-2.81c.8-.78.8-2.07 0-2.86zM5.41 20L4 18.59l7.72-7.72 1.47 1.35L5.41 20z\"/>\n",
              "  </svg>\n",
              "      </button>\n",
              "      \n",
              "  <style>\n",
              "    .colab-df-container {\n",
              "      display:flex;\n",
              "      flex-wrap:wrap;\n",
              "      gap: 12px;\n",
              "    }\n",
              "\n",
              "    .colab-df-convert {\n",
              "      background-color: #E8F0FE;\n",
              "      border: none;\n",
              "      border-radius: 50%;\n",
              "      cursor: pointer;\n",
              "      display: none;\n",
              "      fill: #1967D2;\n",
              "      height: 32px;\n",
              "      padding: 0 0 0 0;\n",
              "      width: 32px;\n",
              "    }\n",
              "\n",
              "    .colab-df-convert:hover {\n",
              "      background-color: #E2EBFA;\n",
              "      box-shadow: 0px 1px 2px rgba(60, 64, 67, 0.3), 0px 1px 3px 1px rgba(60, 64, 67, 0.15);\n",
              "      fill: #174EA6;\n",
              "    }\n",
              "\n",
              "    [theme=dark] .colab-df-convert {\n",
              "      background-color: #3B4455;\n",
              "      fill: #D2E3FC;\n",
              "    }\n",
              "\n",
              "    [theme=dark] .colab-df-convert:hover {\n",
              "      background-color: #434B5C;\n",
              "      box-shadow: 0px 1px 3px 1px rgba(0, 0, 0, 0.15);\n",
              "      filter: drop-shadow(0px 1px 2px rgba(0, 0, 0, 0.3));\n",
              "      fill: #FFFFFF;\n",
              "    }\n",
              "  </style>\n",
              "\n",
              "      <script>\n",
              "        const buttonEl =\n",
              "          document.querySelector('#df-ba5e12bb-b042-4cb1-a34c-3dcebb5beea2 button.colab-df-convert');\n",
              "        buttonEl.style.display =\n",
              "          google.colab.kernel.accessAllowed ? 'block' : 'none';\n",
              "\n",
              "        async function convertToInteractive(key) {\n",
              "          const element = document.querySelector('#df-ba5e12bb-b042-4cb1-a34c-3dcebb5beea2');\n",
              "          const dataTable =\n",
              "            await google.colab.kernel.invokeFunction('convertToInteractive',\n",
              "                                                     [key], {});\n",
              "          if (!dataTable) return;\n",
              "\n",
              "          const docLinkHtml = 'Like what you see? Visit the ' +\n",
              "            '<a target=\"_blank\" href=https://colab.research.google.com/notebooks/data_table.ipynb>data table notebook</a>'\n",
              "            + ' to learn more about interactive tables.';\n",
              "          element.innerHTML = '';\n",
              "          dataTable['output_type'] = 'display_data';\n",
              "          await google.colab.output.renderOutput(dataTable, element);\n",
              "          const docLink = document.createElement('div');\n",
              "          docLink.innerHTML = docLinkHtml;\n",
              "          element.appendChild(docLink);\n",
              "        }\n",
              "      </script>\n",
              "    </div>\n",
              "  </div>\n",
              "  "
            ]
          },
          "metadata": {},
          "execution_count": 46
        }
      ],
      "source": [
        "pd.read_sql('steer_weight_table', engine)"
      ]
    },
    {
      "cell_type": "code",
      "execution_count": 47,
      "metadata": {
        "colab": {
          "base_uri": "https://localhost:8080/"
        },
        "id": "S1vRQ4O7IgGc",
        "outputId": "d9920ab0-f715-4c5f-bdbb-c0871fa21720"
      },
      "outputs": [
        {
          "output_type": "execute_result",
          "data": {
            "text/plain": [
              "(1104, 2)"
            ]
          },
          "metadata": {},
          "execution_count": 47
        }
      ],
      "source": [
        "x.shape"
      ]
    },
    {
      "cell_type": "code",
      "execution_count": 48,
      "metadata": {
        "colab": {
          "base_uri": "https://localhost:8080/"
        },
        "id": "WqwbHGzYIilY",
        "outputId": "aa12b3b9-f487-4635-f811-cd334ac92b22"
      },
      "outputs": [
        {
          "output_type": "execute_result",
          "data": {
            "text/plain": [
              "(1104,)"
            ]
          },
          "metadata": {},
          "execution_count": 48
        }
      ],
      "source": [
        "y.shape"
      ]
    },
    {
      "cell_type": "code",
      "execution_count": 49,
      "metadata": {
        "colab": {
          "base_uri": "https://localhost:8080/",
          "height": 293
        },
        "id": "9yq9jE2xRa98",
        "outputId": "b526c5d0-affa-4edf-e26b-651a2ac5cdff"
      },
      "outputs": [
        {
          "output_type": "execute_result",
          "data": {
            "text/plain": [
              "Text(0.5, 1.0, 'Steer Price Data')"
            ]
          },
          "metadata": {},
          "execution_count": 49
        },
        {
          "output_type": "display_data",
          "data": {
            "text/plain": [
              "<Figure size 720x288 with 2 Axes>"
            ],
            "image/png": "[encoded data removed]"
          },
          "metadata": {}
        }
      ],
      "source": [
        "sns.set()\n",
        "\n",
        "fig, (ax1, ax2) = plt.subplots(1, 2, figsize =(10,4))\n",
        "fig.tight_layout(pad  = 3.0)\n",
        "ax1.scatter(x.iloc[:,0],y)\n",
        "ax1.set_xlabel(\"Min Weight\")\n",
        "ax1.set_ylabel(\"Price in Euros\")\n",
        "ax1.set_title(\"Steer Price Data\")\n",
        "\n",
        "ax2.scatter(x.iloc[:,1],y)\n",
        "ax2.set_xlabel(\"Max Weight\")\n",
        "ax2.set_ylabel(\"Price in Euros\")\n",
        "ax2.set_title(\"Steer Price Data\")"
      ]
    },
    {
      "cell_type": "markdown",
      "source": [
        "**Scaling of features and log transformation of target value price**"
      ],
      "metadata": {
        "id": "phdK0cbcK9eG"
      }
    },
    {
      "cell_type": "code",
      "execution_count": 50,
      "metadata": {
        "id": "H64Eb32ntB3f"
      },
      "outputs": [],
      "source": [
        "from sklearn.preprocessing import StandardScaler\n",
        "value = np.log(y)\n",
        "scaler = StandardScaler()\n",
        "scaler.fit(x)\n",
        "x_scaled = scaler.transform(x)\n",
        "\n",
        "\n"
      ]
    },
    {
      "cell_type": "code",
      "execution_count": 51,
      "metadata": {
        "colab": {
          "base_uri": "https://localhost:8080/"
        },
        "id": "nu5HPLPHwuEV",
        "outputId": "e1bb50fc-2a0f-45e4-c58f-77394af43923"
      },
      "outputs": [
        {
          "output_type": "execute_result",
          "data": {
            "text/plain": [
              "(1104, 2)"
            ]
          },
          "metadata": {},
          "execution_count": 51
        }
      ],
      "source": [
        "x_scaled.shape"
      ]
    },
    {
      "cell_type": "code",
      "execution_count": 52,
      "metadata": {
        "id": "UD5Ozqa8xmBf"
      },
      "outputs": [],
      "source": [
        "#x_scaled"
      ]
    },
    {
      "cell_type": "markdown",
      "source": [
        "**Trained model**"
      ],
      "metadata": {
        "id": "u6b21zeuK6kZ"
      }
    },
    {
      "cell_type": "markdown",
      "source": [],
      "metadata": {
        "id": "wvppWE4WK6AO"
      }
    },
    {
      "cell_type": "code",
      "execution_count": 53,
      "metadata": {
        "colab": {
          "base_uri": "https://localhost:8080/"
        },
        "id": "jnLXgmcEdLTw",
        "outputId": "269bea35-78dd-465e-a8cb-34b528b4d319"
      },
      "outputs": [
        {
          "output_type": "execute_result",
          "data": {
            "text/plain": [
              "-0.2488682354155607"
            ]
          },
          "metadata": {},
          "execution_count": 53
        }
      ],
      "source": [
        "from sklearn.neighbors import KNeighborsRegressor\n",
        "from sklearn.model_selection import train_test_split\n",
        "from sklearn.metrics import accuracy_score, r2_score, mean_squared_error\n",
        "from math import sqrt\n",
        "x_train,x_test,y_train,y_test=train_test_split(x_scaled, value,train_size=0.8, random_state=365)\n",
        "knn = KNeighborsRegressor()\n",
        "knn.fit(x_train,y_train)\n",
        "knn_pred = knn.predict(x_test)\n",
        "knn.score(x_train,y_train)"
      ]
    },
    {
      "cell_type": "code",
      "execution_count": 54,
      "metadata": {
        "colab": {
          "base_uri": "https://localhost:8080/"
        },
        "id": "eTUujBTdCuac",
        "outputId": "08d03283-a68b-48e1-ecad-c3456584e6fb"
      },
      "outputs": [
        {
          "output_type": "execute_result",
          "data": {
            "text/plain": [
              "-0.36484682743811314"
            ]
          },
          "metadata": {},
          "execution_count": 54
        }
      ],
      "source": [
        "r2_score(y_test, knn_pred)"
      ]
    },
    {
      "cell_type": "code",
      "execution_count": 55,
      "metadata": {
        "colab": {
          "base_uri": "https://localhost:8080/"
        },
        "id": "WjmVULInGEl9",
        "outputId": "4d0ff0c6-f3c7-4460-81d8-b286000963ec"
      },
      "outputs": [
        {
          "output_type": "execute_result",
          "data": {
            "text/plain": [
              "0.6377199041969762"
            ]
          },
          "metadata": {},
          "execution_count": 55
        }
      ],
      "source": [
        "mean_squared_error(y_test, knn_pred)"
      ]
    },
    {
      "cell_type": "code",
      "execution_count": 56,
      "metadata": {
        "colab": {
          "base_uri": "https://localhost:8080/"
        },
        "id": "MPYy6QlLK_O-",
        "outputId": "8a52e07c-4242-4d80-b65e-8621b150c142"
      },
      "outputs": [
        {
          "output_type": "execute_result",
          "data": {
            "text/plain": [
              "0.7985736686098386"
            ]
          },
          "metadata": {},
          "execution_count": 56
        }
      ],
      "source": [
        "rmse = sqrt(mean_squared_error(y_test, knn_pred))\n",
        "rmse"
      ]
    },
    {
      "cell_type": "markdown",
      "source": [
        "**Using Pickle to serialize model**"
      ],
      "metadata": {
        "id": "6N79c8NbKzr4"
      }
    },
    {
      "cell_type": "code",
      "execution_count": 57,
      "metadata": {
        "id": "qWd4DWHCcJ7b"
      },
      "outputs": [],
      "source": [
        "import pickle as pk"
      ]
    },
    {
      "cell_type": "code",
      "execution_count": 58,
      "metadata": {
        "id": "CXEX4BgncVtS"
      },
      "outputs": [],
      "source": [
        "model = knn\n",
        "model.fit(x_train, y_train)\n",
        "pickle_out = open('steer_model.pkl', 'wb')\n",
        "pk.dump(model, pickle_out)\n",
        "model.fit(x_train,y_train)\n",
        "pred = model.predict(x_test)\n",
        "#pickle_out.close()"
      ]
    },
    {
      "cell_type": "code",
      "execution_count": 59,
      "metadata": {
        "colab": {
          "base_uri": "https://localhost:8080/"
        },
        "id": "9Yz-DS0Eflky",
        "outputId": "86005762-f328-47eb-e090-ce0ac9b0f23b"
      },
      "outputs": [
        {
          "output_type": "execute_result",
          "data": {
            "text/plain": [
              "array([5.96049977, 6.21751196, 5.34026827, 5.32644107, 5.34026827,\n",
              "       6.21751196, 5.34026827, 5.96049977, 5.88600622, 5.88600622,\n",
              "       5.96049977, 5.88600622, 5.96049977, 5.34026827, 5.42037191,\n",
              "       5.34026827, 6.21751196, 5.32644107, 6.21751196, 5.3240985 ,\n",
              "       5.96049977, 6.21751196, 5.34026827, 5.96049977, 5.88600622,\n",
              "       5.34026827, 5.96049977, 5.96049977, 5.96049977, 6.21751196,\n",
              "       6.21751196, 5.88600622, 5.34026827, 5.32644107, 5.96049977,\n",
              "       5.34026827, 5.3240985 , 5.42037191, 5.34026827, 5.32644107,\n",
              "       5.32644107, 6.21751196, 5.96049977, 5.88600622, 5.88600622,\n",
              "       5.96049977, 5.96049977, 5.96049977, 6.21751196, 5.96049977,\n",
              "       5.34026827, 5.34026827, 5.88600622, 5.42037191, 5.32644107,\n",
              "       5.34026827, 5.96049977, 5.3240985 , 5.88600622, 5.32644107,\n",
              "       5.96049977, 5.88600622, 5.96049977, 6.21751196, 5.96049977,\n",
              "       5.96049977, 5.34026827, 6.21751196, 6.21751196, 6.21751196,\n",
              "       5.34026827, 5.32644107, 5.32644107, 5.3240985 , 6.21751196,\n",
              "       5.34026827, 5.88600622, 5.96049977, 5.3240985 , 5.32644107,\n",
              "       5.42037191, 5.88600622, 5.88600622, 5.96049977, 5.96049977,\n",
              "       5.42037191, 5.32644107, 5.88600622, 5.96049977, 5.96049977,\n",
              "       5.3240985 , 5.96049977, 5.88600622, 5.88600622, 5.32644107,\n",
              "       5.88600622, 6.21751196, 6.21751196, 5.34026827, 5.96049977,\n",
              "       5.32644107, 6.21751196, 6.21751196, 5.34026827, 6.21751196,\n",
              "       5.96049977, 6.21751196, 5.88600622, 5.3240985 , 5.42037191,\n",
              "       5.96049977, 5.96049977, 6.21751196, 5.42037191, 6.21751196,\n",
              "       5.96049977, 5.42037191, 5.32644107, 5.34026827, 5.34026827,\n",
              "       5.88600622, 5.32644107, 5.42037191, 5.34026827, 5.34026827,\n",
              "       6.21751196, 5.88600622, 5.42037191, 5.88600622, 5.32644107,\n",
              "       5.42037191, 5.96049977, 5.34026827, 5.32644107, 5.88600622,\n",
              "       5.34026827, 5.42037191, 5.34026827, 5.32644107, 5.32644107,\n",
              "       6.21751196, 5.34026827, 6.21751196, 6.21751196, 5.88600622,\n",
              "       5.34026827, 5.96049977, 5.34026827, 5.34026827, 5.96049977,\n",
              "       5.88600622, 6.21751196, 5.34026827, 5.96049977, 5.34026827,\n",
              "       5.88600622, 5.42037191, 6.21751196, 5.96049977, 5.3240985 ,\n",
              "       6.21751196, 5.32644107, 5.96049977, 6.21751196, 5.3240985 ,\n",
              "       6.21751196, 5.32644107, 5.32644107, 5.34026827, 5.32644107,\n",
              "       5.34026827, 5.88600622, 5.96049977, 5.96049977, 5.32644107,\n",
              "       5.34026827, 5.88600622, 5.32644107, 5.88600622, 6.21751196,\n",
              "       5.32644107, 6.21751196, 5.32644107, 5.32644107, 5.32644107,\n",
              "       5.88600622, 5.3240985 , 6.21751196, 5.88600622, 6.21751196,\n",
              "       6.21751196, 5.32644107, 5.88600622, 6.21751196, 5.32644107,\n",
              "       5.32644107, 5.32644107, 5.88600622, 6.21751196, 5.88600622,\n",
              "       5.88600622, 5.42037191, 5.42037191, 5.34026827, 5.3240985 ,\n",
              "       5.32644107, 5.96049977, 5.32644107, 5.3240985 , 5.32644107,\n",
              "       5.88600622, 5.88600622, 5.32644107, 5.32644107, 5.96049977,\n",
              "       5.96049977, 5.96049977, 5.32644107, 5.32644107, 5.32644107,\n",
              "       6.21751196])"
            ]
          },
          "metadata": {},
          "execution_count": 59
        }
      ],
      "source": [
        "pickled_model = pk.load(open('steer_model.pkl', 'rb'))\n",
        "pickled_model.predict(x_test)"
      ]
    },
    {
      "cell_type": "code",
      "execution_count": 60,
      "metadata": {
        "colab": {
          "base_uri": "https://localhost:8080/"
        },
        "id": "hQ4gF4DsS0_d",
        "outputId": "46a1f1af-f5b2-42e1-9a97-e5c18f9b7a40"
      },
      "outputs": [
        {
          "output_type": "execute_result",
          "data": {
            "text/plain": [
              "(221, 2)"
            ]
          },
          "metadata": {},
          "execution_count": 60
        }
      ],
      "source": [
        "x_test.shape"
      ]
    },
    {
      "cell_type": "code",
      "execution_count": 106,
      "metadata": {
        "id": "Tek0eMpHmTCh"
      },
      "outputs": [],
      "source": [
        "#!pip install flask==0.12.2\n",
        "#!pip install flask-ngrok\n",
        "#!pip install flask-bootstrap"
      ]
    },
    {
      "cell_type": "code",
      "execution_count": 105,
      "metadata": {
        "id": "xMfAy0Kj8XU3"
      },
      "outputs": [],
      "source": [
        "#!curl -s https://ngrok-agent.s3.amazonaws.com/ngrok.asc | sudo tee /etc/apt/trusted.gpg.d/ngrok.asc >/dev/null && echo \"deb https://ngrok-agent.s3.amazonaws.com buster main\" | sudo tee /etc/apt/sources.list.d/ngrok.list && sudo apt update && sudo apt install ngrok"
      ]
    },
    {
      "cell_type": "code",
      "execution_count": 104,
      "metadata": {
        "id": "JKuSlFdW8txL"
      },
      "outputs": [],
      "source": [
        "#!ngrok authtoken 2IPVkOKmGqvykweHVVEg0J9xY8X_3E9ktLLD4qbJeWToCN4B"
      ]
    },
    {
      "cell_type": "markdown",
      "metadata": {
        "id": "g7rd5YpEal5A"
      },
      "source": [
        "**Error rate for different K-values**"
      ]
    },
    {
      "cell_type": "code",
      "execution_count": 66,
      "metadata": {
        "colab": {
          "base_uri": "https://localhost:8080/"
        },
        "id": "8s8MIKF1MFyX",
        "outputId": "e6c1cdb4-4781-429b-a0c0-ce286e54041b"
      },
      "outputs": [
        {
          "output_type": "stream",
          "name": "stdout",
          "text": [
            "RMSE value for k=  1 is: 0.985168087622731\n",
            "RMSE value for k=  2 is: 0.8617046692549333\n",
            "RMSE value for k=  3 is: 0.8183168209348458\n",
            "RMSE value for k=  4 is: 0.7824732510628633\n",
            "RMSE value for k=  5 is: 0.7985736686098386\n",
            "RMSE value for k=  6 is: 0.7587362364578889\n",
            "RMSE value for k=  7 is: 0.7275528650373994\n",
            "RMSE value for k=  8 is: 0.7210222470046982\n",
            "RMSE value for k=  9 is: 0.71690199824581\n",
            "RMSE value for k=  10 is: 0.7292365109012298\n",
            "RMSE value for k=  11 is: 0.7237253964163658\n",
            "RMSE value for k=  12 is: 0.7193704489116725\n",
            "RMSE value for k=  13 is: 0.7154638951823322\n",
            "RMSE value for k=  14 is: 0.7120215504345271\n",
            "RMSE value for k=  15 is: 0.7098601731927344\n",
            "RMSE value for k=  16 is: 0.7012223035351648\n",
            "RMSE value for k=  17 is: 0.7000452091942736\n",
            "RMSE value for k=  18 is: 0.6961419500215287\n",
            "RMSE value for k=  19 is: 0.6927934812271449\n",
            "RMSE value for k=  20 is: 0.6931633367130542\n"
          ]
        }
      ],
      "source": [
        "rmse_val = [] #to store rmse values for different k\n",
        "for K in range(20):\n",
        "    K = K+1\n",
        "    model = KNeighborsRegressor(n_neighbors = K)\n",
        "\n",
        "    model.fit(x_train, y_train)  #fit the model\n",
        "    pred=model.predict(x_test) #make prediction on test set\n",
        "    error = sqrt(mean_squared_error(y_test,pred)) #calculate rmse\n",
        "    rmse_val.append(error) #store rmse values\n",
        "    print('RMSE value for k= ' , K , 'is:', error)"
      ]
    },
    {
      "cell_type": "markdown",
      "source": [
        "**Prediction sample using random value**"
      ],
      "metadata": {
        "id": "5Q_TNckdKrmy"
      }
    },
    {
      "cell_type": "code",
      "execution_count": 67,
      "metadata": {
        "colab": {
          "base_uri": "https://localhost:8080/"
        },
        "id": "XkwIfKn3lMV-",
        "outputId": "cb8e9e2d-bc47-4224-9f56-e4c27067d8f5"
      },
      "outputs": [
        {
          "output_type": "execute_result",
          "data": {
            "text/plain": [
              "array([5.42130073])"
            ]
          },
          "metadata": {},
          "execution_count": 67
        }
      ],
      "source": [
        "model.fit(x_train, y_train)\n",
        "model.predict([[320, 430]])"
      ]
    },
    {
      "cell_type": "code",
      "execution_count": 68,
      "metadata": {
        "colab": {
          "base_uri": "https://localhost:8080/"
        },
        "id": "zKhQsszgliNr",
        "outputId": "b85d68b1-9fdb-4207-d8fd-ef4a523d6a15"
      },
      "outputs": [
        {
          "output_type": "execute_result",
          "data": {
            "text/plain": [
              "array([239.57624574])"
            ]
          },
          "metadata": {},
          "execution_count": 68
        }
      ],
      "source": [
        "np.exp([5.47887172])"
      ]
    },
    {
      "cell_type": "markdown",
      "source": [
        "**Elbow method**"
      ],
      "metadata": {
        "id": "6Zx8sd5yKmq8"
      }
    },
    {
      "cell_type": "code",
      "execution_count": 69,
      "metadata": {
        "colab": {
          "base_uri": "https://localhost:8080/",
          "height": 301
        },
        "id": "aKxvG2F2Le2-",
        "outputId": "a1aa5725-27ef-4e74-8891-9c0162d4e426"
      },
      "outputs": [
        {
          "output_type": "display_data",
          "data": {
            "text/plain": [
              "<Figure size 432x288 with 1 Axes>"
            ],
            "image/png": "[encoded data removed]"
          },
          "metadata": {}
        }
      ],
      "source": [
        "curve = pd.DataFrame(rmse_val)\n",
        "curve.plot()\n",
        "plt.xlabel('K-value')\n",
        "plt.ylabel('RMSE values')\n",
        "plt.title('Error Rate')\n",
        "plt.show()"
      ]
    },
    {
      "cell_type": "code",
      "execution_count": 70,
      "metadata": {
        "colab": {
          "base_uri": "https://localhost:8080/",
          "height": 677
        },
        "id": "6JUOuhpBSOrJ",
        "outputId": "1c9ed187-dcaa-4df9-e552-7839bb2f93b1"
      },
      "outputs": [
        {
          "output_type": "execute_result",
          "data": {
            "text/plain": [
              "    RMSE_value\n",
              "0     0.985168\n",
              "1     0.861705\n",
              "2     0.818317\n",
              "3     0.782473\n",
              "4     0.798574\n",
              "5     0.758736\n",
              "6     0.727553\n",
              "7     0.721022\n",
              "8     0.716902\n",
              "9     0.729237\n",
              "10    0.723725\n",
              "11    0.719370\n",
              "12    0.715464\n",
              "13    0.712022\n",
              "14    0.709860\n",
              "15    0.701222\n",
              "16    0.700045\n",
              "17    0.696142\n",
              "18    0.692793\n",
              "19    0.693163"
            ],
            "text/html": [
              "\n",
              "  <div id=\"df-9d862811-f52f-493b-98e4-894972411455\">\n",
              "    <div class=\"colab-df-container\">\n",
              "      <div>\n",
              "<style scoped>\n",
              "    .dataframe tbody tr th:only-of-type {\n",
              "        vertical-align: middle;\n",
              "    }\n",
              "\n",
              "    .dataframe tbody tr th {\n",
              "        vertical-align: top;\n",
              "    }\n",
              "\n",
              "    .dataframe thead th {\n",
              "        text-align: right;\n",
              "    }\n",
              "</style>\n",
              "<table border=\"1\" class=\"dataframe\">\n",
              "  <thead>\n",
              "    <tr style=\"text-align: right;\">\n",
              "      <th></th>\n",
              "      <th>RMSE_value</th>\n",
              "    </tr>\n",
              "  </thead>\n",
              "  <tbody>\n",
              "    <tr>\n",
              "      <th>0</th>\n",
              "      <td>0.985168</td>\n",
              "    </tr>\n",
              "    <tr>\n",
              "      <th>1</th>\n",
              "      <td>0.861705</td>\n",
              "    </tr>\n",
              "    <tr>\n",
              "      <th>2</th>\n",
              "      <td>0.818317</td>\n",
              "    </tr>\n",
              "    <tr>\n",
              "      <th>3</th>\n",
              "      <td>0.782473</td>\n",
              "    </tr>\n",
              "    <tr>\n",
              "      <th>4</th>\n",
              "      <td>0.798574</td>\n",
              "    </tr>\n",
              "    <tr>\n",
              "      <th>5</th>\n",
              "      <td>0.758736</td>\n",
              "    </tr>\n",
              "    <tr>\n",
              "      <th>6</th>\n",
              "      <td>0.727553</td>\n",
              "    </tr>\n",
              "    <tr>\n",
              "      <th>7</th>\n",
              "      <td>0.721022</td>\n",
              "    </tr>\n",
              "    <tr>\n",
              "      <th>8</th>\n",
              "      <td>0.716902</td>\n",
              "    </tr>\n",
              "    <tr>\n",
              "      <th>9</th>\n",
              "      <td>0.729237</td>\n",
              "    </tr>\n",
              "    <tr>\n",
              "      <th>10</th>\n",
              "      <td>0.723725</td>\n",
              "    </tr>\n",
              "    <tr>\n",
              "      <th>11</th>\n",
              "      <td>0.719370</td>\n",
              "    </tr>\n",
              "    <tr>\n",
              "      <th>12</th>\n",
              "      <td>0.715464</td>\n",
              "    </tr>\n",
              "    <tr>\n",
              "      <th>13</th>\n",
              "      <td>0.712022</td>\n",
              "    </tr>\n",
              "    <tr>\n",
              "      <th>14</th>\n",
              "      <td>0.709860</td>\n",
              "    </tr>\n",
              "    <tr>\n",
              "      <th>15</th>\n",
              "      <td>0.701222</td>\n",
              "    </tr>\n",
              "    <tr>\n",
              "      <th>16</th>\n",
              "      <td>0.700045</td>\n",
              "    </tr>\n",
              "    <tr>\n",
              "      <th>17</th>\n",
              "      <td>0.696142</td>\n",
              "    </tr>\n",
              "    <tr>\n",
              "      <th>18</th>\n",
              "      <td>0.692793</td>\n",
              "    </tr>\n",
              "    <tr>\n",
              "      <th>19</th>\n",
              "      <td>0.693163</td>\n",
              "    </tr>\n",
              "  </tbody>\n",
              "</table>\n",
              "</div>\n",
              "      <button class=\"colab-df-convert\" onclick=\"convertToInteractive('df-9d862811-f52f-493b-98e4-894972411455')\"\n",
              "              title=\"Convert this dataframe to an interactive table.\"\n",
              "              style=\"display:none;\">\n",
              "        \n",
              "  <svg xmlns=\"http://www.w3.org/2000/svg\" height=\"24px\"viewBox=\"0 0 24 24\"\n",
              "       width=\"24px\">\n",
              "    <path d=\"M0 0h24v24H0V0z\" fill=\"none\"/>\n",
              "    <path d=\"M18.56 5.44l.94 2.06.94-2.06 2.06-.94-2.06-.94-.94-2.06-.94 2.06-2.06.94zm-11 1L8.5 8.5l.94-2.06 2.06-.94-2.06-.94L8.5 2.5l-.94 2.06-2.06.94zm10 10l.94 2.06.94-2.06 2.06-.94-2.06-.94-.94-2.06-.94 2.06-2.06.94z\"/><path d=\"M17.41 7.96l-1.37-1.37c-.4-.4-.92-.59-1.43-.59-.52 0-1.04.2-1.43.59L10.3 9.45l-7.72 7.72c-.78.78-.78 2.05 0 2.83L4 21.41c.39.39.9.59 1.41.59.51 0 1.02-.2 1.41-.59l7.78-7.78 2.81-2.81c.8-.78.8-2.07 0-2.86zM5.41 20L4 18.59l7.72-7.72 1.47 1.35L5.41 20z\"/>\n",
              "  </svg>\n",
              "      </button>\n",
              "      \n",
              "  <style>\n",
              "    .colab-df-container {\n",
              "      display:flex;\n",
              "      flex-wrap:wrap;\n",
              "      gap: 12px;\n",
              "    }\n",
              "\n",
              "    .colab-df-convert {\n",
              "      background-color: #E8F0FE;\n",
              "      border: none;\n",
              "      border-radius: 50%;\n",
              "      cursor: pointer;\n",
              "      display: none;\n",
              "      fill: #1967D2;\n",
              "      height: 32px;\n",
              "      padding: 0 0 0 0;\n",
              "      width: 32px;\n",
              "    }\n",
              "\n",
              "    .colab-df-convert:hover {\n",
              "      background-color: #E2EBFA;\n",
              "      box-shadow: 0px 1px 2px rgba(60, 64, 67, 0.3), 0px 1px 3px 1px rgba(60, 64, 67, 0.15);\n",
              "      fill: #174EA6;\n",
              "    }\n",
              "\n",
              "    [theme=dark] .colab-df-convert {\n",
              "      background-color: #3B4455;\n",
              "      fill: #D2E3FC;\n",
              "    }\n",
              "\n",
              "    [theme=dark] .colab-df-convert:hover {\n",
              "      background-color: #434B5C;\n",
              "      box-shadow: 0px 1px 3px 1px rgba(0, 0, 0, 0.15);\n",
              "      filter: drop-shadow(0px 1px 2px rgba(0, 0, 0, 0.3));\n",
              "      fill: #FFFFFF;\n",
              "    }\n",
              "  </style>\n",
              "\n",
              "      <script>\n",
              "        const buttonEl =\n",
              "          document.querySelector('#df-9d862811-f52f-493b-98e4-894972411455 button.colab-df-convert');\n",
              "        buttonEl.style.display =\n",
              "          google.colab.kernel.accessAllowed ? 'block' : 'none';\n",
              "\n",
              "        async function convertToInteractive(key) {\n",
              "          const element = document.querySelector('#df-9d862811-f52f-493b-98e4-894972411455');\n",
              "          const dataTable =\n",
              "            await google.colab.kernel.invokeFunction('convertToInteractive',\n",
              "                                                     [key], {});\n",
              "          if (!dataTable) return;\n",
              "\n",
              "          const docLinkHtml = 'Like what you see? Visit the ' +\n",
              "            '<a target=\"_blank\" href=https://colab.research.google.com/notebooks/data_table.ipynb>data table notebook</a>'\n",
              "            + ' to learn more about interactive tables.';\n",
              "          element.innerHTML = '';\n",
              "          dataTable['output_type'] = 'display_data';\n",
              "          await google.colab.output.renderOutput(dataTable, element);\n",
              "          const docLink = document.createElement('div');\n",
              "          docLink.innerHTML = docLinkHtml;\n",
              "          element.appendChild(docLink);\n",
              "        }\n",
              "      </script>\n",
              "    </div>\n",
              "  </div>\n",
              "  "
            ]
          },
          "metadata": {},
          "execution_count": 70
        }
      ],
      "source": [
        "table_data_for_rmse_values = curve\n",
        "table_data_for_rmse_values.columns = [\"RMSE_value\"]\n",
        "table_data_for_rmse_values"
      ]
    },
    {
      "cell_type": "markdown",
      "metadata": {
        "id": "L_D0yjCFUwTm"
      },
      "source": [
        "**Optimal Value for neighbor**\n",
        "**Validate model with sample**"
      ]
    },
    {
      "cell_type": "markdown",
      "metadata": {
        "id": "IfoKAGOaPSgu"
      },
      "source": [
        "**Implementing GridSearchCV**\n",
        "- For deciding the value of k, plotting the elbow curve every time is be a cumbersome and tedious process. You can simply use gridsearch to find the best value."
      ]
    },
    {
      "cell_type": "code",
      "execution_count": 71,
      "metadata": {
        "colab": {
          "base_uri": "https://localhost:8080/"
        },
        "id": "MjhGRMWCMi3J",
        "outputId": "e3920853-3600-479a-ade7-d61af225ca7f"
      },
      "outputs": [
        {
          "output_type": "execute_result",
          "data": {
            "text/plain": [
              "{'n_neighbors': 9}"
            ]
          },
          "metadata": {},
          "execution_count": 71
        }
      ],
      "source": [
        "from sklearn.model_selection import GridSearchCV\n",
        "params = {'n_neighbors':[2,3,4,5,6,7,8,9]}\n",
        "knn = KNeighborsRegressor()\n",
        "\n",
        "model = GridSearchCV(knn, params, cv=5)\n",
        "model.fit(x_train,y_train)\n",
        "knn_pred = model.predict(x_test)\n",
        "model.best_params_"
      ]
    },
    {
      "cell_type": "code",
      "execution_count": 72,
      "metadata": {
        "colab": {
          "base_uri": "https://localhost:8080/"
        },
        "id": "aGWuYgWh_GJV",
        "outputId": "8101924a-e3f4-4c96-dd90-06aaa24a6bea"
      },
      "outputs": [
        {
          "output_type": "execute_result",
          "data": {
            "text/plain": [
              "-0.09995146940715349"
            ]
          },
          "metadata": {},
          "execution_count": 72
        }
      ],
      "source": [
        "r2_score(y_test, knn_pred)"
      ]
    },
    {
      "cell_type": "code",
      "execution_count": 73,
      "metadata": {
        "colab": {
          "base_uri": "https://localhost:8080/",
          "height": 424
        },
        "id": "KQsizSa-P5YV",
        "outputId": "2ecd1a45-e9e9-4014-cfe9-1cbaa212b0e8"
      },
      "outputs": [
        {
          "output_type": "execute_result",
          "data": {
            "text/plain": [
              "     Predictions\n",
              "0       5.822295\n",
              "1       5.769415\n",
              "2       5.354797\n",
              "3       5.543624\n",
              "4       5.354797\n",
              "..           ...\n",
              "216     5.822295\n",
              "217     5.543624\n",
              "218     5.543624\n",
              "219     5.543624\n",
              "220     5.769415\n",
              "\n",
              "[221 rows x 1 columns]"
            ],
            "text/html": [
              "\n",
              "  <div id=\"df-dc77ef5a-0f81-4065-b07f-fe2cc51fb7ca\">\n",
              "    <div class=\"colab-df-container\">\n",
              "      <div>\n",
              "<style scoped>\n",
              "    .dataframe tbody tr th:only-of-type {\n",
              "        vertical-align: middle;\n",
              "    }\n",
              "\n",
              "    .dataframe tbody tr th {\n",
              "        vertical-align: top;\n",
              "    }\n",
              "\n",
              "    .dataframe thead th {\n",
              "        text-align: right;\n",
              "    }\n",
              "</style>\n",
              "<table border=\"1\" class=\"dataframe\">\n",
              "  <thead>\n",
              "    <tr style=\"text-align: right;\">\n",
              "      <th></th>\n",
              "      <th>Predictions</th>\n",
              "    </tr>\n",
              "  </thead>\n",
              "  <tbody>\n",
              "    <tr>\n",
              "      <th>0</th>\n",
              "      <td>5.822295</td>\n",
              "    </tr>\n",
              "    <tr>\n",
              "      <th>1</th>\n",
              "      <td>5.769415</td>\n",
              "    </tr>\n",
              "    <tr>\n",
              "      <th>2</th>\n",
              "      <td>5.354797</td>\n",
              "    </tr>\n",
              "    <tr>\n",
              "      <th>3</th>\n",
              "      <td>5.543624</td>\n",
              "    </tr>\n",
              "    <tr>\n",
              "      <th>4</th>\n",
              "      <td>5.354797</td>\n",
              "    </tr>\n",
              "    <tr>\n",
              "      <th>...</th>\n",
              "      <td>...</td>\n",
              "    </tr>\n",
              "    <tr>\n",
              "      <th>216</th>\n",
              "      <td>5.822295</td>\n",
              "    </tr>\n",
              "    <tr>\n",
              "      <th>217</th>\n",
              "      <td>5.543624</td>\n",
              "    </tr>\n",
              "    <tr>\n",
              "      <th>218</th>\n",
              "      <td>5.543624</td>\n",
              "    </tr>\n",
              "    <tr>\n",
              "      <th>219</th>\n",
              "      <td>5.543624</td>\n",
              "    </tr>\n",
              "    <tr>\n",
              "      <th>220</th>\n",
              "      <td>5.769415</td>\n",
              "    </tr>\n",
              "  </tbody>\n",
              "</table>\n",
              "<p>221 rows × 1 columns</p>\n",
              "</div>\n",
              "      <button class=\"colab-df-convert\" onclick=\"convertToInteractive('df-dc77ef5a-0f81-4065-b07f-fe2cc51fb7ca')\"\n",
              "              title=\"Convert this dataframe to an interactive table.\"\n",
              "              style=\"display:none;\">\n",
              "        \n",
              "  <svg xmlns=\"http://www.w3.org/2000/svg\" height=\"24px\"viewBox=\"0 0 24 24\"\n",
              "       width=\"24px\">\n",
              "    <path d=\"M0 0h24v24H0V0z\" fill=\"none\"/>\n",
              "    <path d=\"M18.56 5.44l.94 2.06.94-2.06 2.06-.94-2.06-.94-.94-2.06-.94 2.06-2.06.94zm-11 1L8.5 8.5l.94-2.06 2.06-.94-2.06-.94L8.5 2.5l-.94 2.06-2.06.94zm10 10l.94 2.06.94-2.06 2.06-.94-2.06-.94-.94-2.06-.94 2.06-2.06.94z\"/><path d=\"M17.41 7.96l-1.37-1.37c-.4-.4-.92-.59-1.43-.59-.52 0-1.04.2-1.43.59L10.3 9.45l-7.72 7.72c-.78.78-.78 2.05 0 2.83L4 21.41c.39.39.9.59 1.41.59.51 0 1.02-.2 1.41-.59l7.78-7.78 2.81-2.81c.8-.78.8-2.07 0-2.86zM5.41 20L4 18.59l7.72-7.72 1.47 1.35L5.41 20z\"/>\n",
              "  </svg>\n",
              "      </button>\n",
              "      \n",
              "  <style>\n",
              "    .colab-df-container {\n",
              "      display:flex;\n",
              "      flex-wrap:wrap;\n",
              "      gap: 12px;\n",
              "    }\n",
              "\n",
              "    .colab-df-convert {\n",
              "      background-color: #E8F0FE;\n",
              "      border: none;\n",
              "      border-radius: 50%;\n",
              "      cursor: pointer;\n",
              "      display: none;\n",
              "      fill: #1967D2;\n",
              "      height: 32px;\n",
              "      padding: 0 0 0 0;\n",
              "      width: 32px;\n",
              "    }\n",
              "\n",
              "    .colab-df-convert:hover {\n",
              "      background-color: #E2EBFA;\n",
              "      box-shadow: 0px 1px 2px rgba(60, 64, 67, 0.3), 0px 1px 3px 1px rgba(60, 64, 67, 0.15);\n",
              "      fill: #174EA6;\n",
              "    }\n",
              "\n",
              "    [theme=dark] .colab-df-convert {\n",
              "      background-color: #3B4455;\n",
              "      fill: #D2E3FC;\n",
              "    }\n",
              "\n",
              "    [theme=dark] .colab-df-convert:hover {\n",
              "      background-color: #434B5C;\n",
              "      box-shadow: 0px 1px 3px 1px rgba(0, 0, 0, 0.15);\n",
              "      filter: drop-shadow(0px 1px 2px rgba(0, 0, 0, 0.3));\n",
              "      fill: #FFFFFF;\n",
              "    }\n",
              "  </style>\n",
              "\n",
              "      <script>\n",
              "        const buttonEl =\n",
              "          document.querySelector('#df-dc77ef5a-0f81-4065-b07f-fe2cc51fb7ca button.colab-df-convert');\n",
              "        buttonEl.style.display =\n",
              "          google.colab.kernel.accessAllowed ? 'block' : 'none';\n",
              "\n",
              "        async function convertToInteractive(key) {\n",
              "          const element = document.querySelector('#df-dc77ef5a-0f81-4065-b07f-fe2cc51fb7ca');\n",
              "          const dataTable =\n",
              "            await google.colab.kernel.invokeFunction('convertToInteractive',\n",
              "                                                     [key], {});\n",
              "          if (!dataTable) return;\n",
              "\n",
              "          const docLinkHtml = 'Like what you see? Visit the ' +\n",
              "            '<a target=\"_blank\" href=https://colab.research.google.com/notebooks/data_table.ipynb>data table notebook</a>'\n",
              "            + ' to learn more about interactive tables.';\n",
              "          element.innerHTML = '';\n",
              "          dataTable['output_type'] = 'display_data';\n",
              "          await google.colab.output.renderOutput(dataTable, element);\n",
              "          const docLink = document.createElement('div');\n",
              "          docLink.innerHTML = docLinkHtml;\n",
              "          element.appendChild(docLink);\n",
              "        }\n",
              "      </script>\n",
              "    </div>\n",
              "  </div>\n",
              "  "
            ]
          },
          "metadata": {},
          "execution_count": 73
        }
      ],
      "source": [
        "predictions = pd.DataFrame(knn_pred, columns=[\"Predictions\"])\n",
        "predictions"
      ]
    },
    {
      "cell_type": "code",
      "execution_count": 74,
      "metadata": {
        "colab": {
          "base_uri": "https://localhost:8080/"
        },
        "id": "VYqhkwG5OXpJ",
        "outputId": "32dbe3aa-16a6-4c54-b9d7-1cfc42e00be5"
      },
      "outputs": [
        {
          "output_type": "execute_result",
          "data": {
            "text/plain": [
              "0.71690199824581"
            ]
          },
          "metadata": {},
          "execution_count": 74
        }
      ],
      "source": [
        "rmse = sqrt(mean_squared_error(y_test, knn_pred))\n",
        "rmse"
      ]
    },
    {
      "cell_type": "code",
      "execution_count": 75,
      "metadata": {
        "colab": {
          "base_uri": "https://localhost:8080/"
        },
        "id": "NEgSLLbRb24y",
        "outputId": "02a4fe79-5f8d-42a6-9f99-8b71687af805"
      },
      "outputs": [
        {
          "output_type": "execute_result",
          "data": {
            "text/plain": [
              "0.5139484750888355"
            ]
          },
          "metadata": {},
          "execution_count": 75
        }
      ],
      "source": [
        "mse = mean_squared_error(y_test, knn_pred)\n",
        "mse"
      ]
    },
    {
      "cell_type": "code",
      "execution_count": 76,
      "metadata": {
        "colab": {
          "base_uri": "https://localhost:8080/",
          "height": 310
        },
        "id": "-s27RyY8XTzL",
        "outputId": "6f7c95cd-476a-4be5-8fad-5799948ae38e"
      },
      "outputs": [
        {
          "output_type": "display_data",
          "data": {
            "text/plain": [
              "<Figure size 1080x288 with 3 Axes>"
            ],
            "image/png": "[encoded data removed]"
          },
          "metadata": {}
        }
      ],
      "source": [
        "fig, axes = plt.subplots(1, 3, figsize=(15, 4))\n",
        "# create 1,000 data points, evenly spaced between -3 and 3 as some of the sample values\n",
        "line = np.linspace(-3, 3, 1000).reshape(500,2)\n",
        "for n_neighbors, ax in zip([1, 3, 9], axes):\n",
        "    # make predictions using 1, 3, or 9 neighbors\n",
        "    reg = KNeighborsRegressor(n_neighbors=n_neighbors)\n",
        "    reg.fit(x_train, y_train)\n",
        "    ax.plot(line, reg.predict(line))\n",
        "    ax.plot(x_train, y_train, '^', markersize=8, c='C0')\n",
        "    ax.plot(x_test, y_test, 'v', markersize=8, c='C1')\n",
        "    ax.set_title(\"{} neighbor(s)\\n train score: {:.2f} test score: {:.2f}\".format(n_neighbors,reg.score(x_train, y_train)\n",
        "    ,reg.score(x_test, y_test)))\n",
        "    ax.set_xlabel(\"Feature\")\n",
        "    ax.set_ylabel(\"Target\")#axes[0].legend([\"Model predictions\", \"Training data/target\",\"Test data/target\"], loc=\"upper left\")"
      ]
    },
    {
      "cell_type": "markdown",
      "metadata": {
        "id": "AU_LNuxpiR80"
      },
      "source": [
        "**Training values score after converting from logarithms**"
      ]
    },
    {
      "cell_type": "code",
      "execution_count": 77,
      "metadata": {
        "colab": {
          "base_uri": "https://localhost:8080/"
        },
        "id": "gK2gDsXRYXEs",
        "outputId": "fd79f6ef-44e1-4f65-f881-6167a984b6e4"
      },
      "outputs": [
        {
          "output_type": "execute_result",
          "data": {
            "text/plain": [
              "0.40252422403363597"
            ]
          },
          "metadata": {},
          "execution_count": 77
        }
      ],
      "source": [
        "np.exp(-0.91)"
      ]
    },
    {
      "cell_type": "code",
      "execution_count": 78,
      "metadata": {
        "colab": {
          "base_uri": "https://localhost:8080/"
        },
        "id": "CXX2VVfqhupO",
        "outputId": "0b1d527c-4c3b-4908-dc8e-1416d3ac5afd"
      },
      "outputs": [
        {
          "output_type": "execute_result",
          "data": {
            "text/plain": [
              "0.7117703227626097"
            ]
          },
          "metadata": {},
          "execution_count": 78
        }
      ],
      "source": [
        "np.exp(-0.34)"
      ]
    },
    {
      "cell_type": "code",
      "execution_count": 79,
      "metadata": {
        "colab": {
          "base_uri": "https://localhost:8080/"
        },
        "id": "b0Fq4eOIhyvS",
        "outputId": "5e263513-2903-4c29-9ef5-d14fe0c6e8d5"
      },
      "outputs": [
        {
          "output_type": "execute_result",
          "data": {
            "text/plain": [
              "0.9417645335842487"
            ]
          },
          "metadata": {},
          "execution_count": 79
        }
      ],
      "source": [
        "np.exp(-0.06)"
      ]
    },
    {
      "cell_type": "markdown",
      "metadata": {
        "id": "ahBqt8p8iIen"
      },
      "source": [
        "**Test values score after converting from logarithms**"
      ]
    },
    {
      "cell_type": "code",
      "execution_count": 80,
      "metadata": {
        "colab": {
          "base_uri": "https://localhost:8080/"
        },
        "id": "UN5pVtFmh7k4",
        "outputId": "e333a98f-d715-44a8-ac89-cdbe6891b7bb"
      },
      "outputs": [
        {
          "output_type": "execute_result",
          "data": {
            "text/plain": [
              "0.3395955256449391"
            ]
          },
          "metadata": {},
          "execution_count": 80
        }
      ],
      "source": [
        "np.exp(-1.08)"
      ]
    },
    {
      "cell_type": "code",
      "execution_count": 81,
      "metadata": {
        "colab": {
          "base_uri": "https://localhost:8080/"
        },
        "id": "KO6cgth_iAm9",
        "outputId": "83b44691-5f5f-4975-85a1-0ca73bbcbbb8"
      },
      "outputs": [
        {
          "output_type": "execute_result",
          "data": {
            "text/plain": [
              "0.6505090947233165"
            ]
          },
          "metadata": {},
          "execution_count": 81
        }
      ],
      "source": [
        "np.exp(-0.43)"
      ]
    },
    {
      "cell_type": "code",
      "execution_count": 82,
      "metadata": {
        "colab": {
          "base_uri": "https://localhost:8080/"
        },
        "id": "DArWcu6AiERr",
        "outputId": "cce851ed-26cb-43b2-c387-01415e04840b"
      },
      "outputs": [
        {
          "output_type": "execute_result",
          "data": {
            "text/plain": [
              "0.9048374180359595"
            ]
          },
          "metadata": {},
          "execution_count": 82
        }
      ],
      "source": [
        "np.exp(-0.10)"
      ]
    },
    {
      "cell_type": "code",
      "source": [
        "!pip install gradio"
      ],
      "metadata": {
        "colab": {
          "base_uri": "https://localhost:8080/"
        },
        "id": "ey6xIHJ0arqh",
        "outputId": "6f67e7b9-c980-428f-b084-67135d214dda"
      },
      "execution_count": 101,
      "outputs": [
        {
          "output_type": "stream",
          "name": "stdout",
          "text": [
            "Looking in indexes: https://pypi.org/simple, https://us-python.pkg.dev/colab-wheels/public/simple/\n",
            "Collecting gradio\n",
            "  Downloading gradio-3.14.0-py3-none-any.whl (13.8 MB)\n",
            "\u001b[K     |████████████████████████████████| 13.8 MB 7.8 MB/s \n",
            "\u001b[?25hRequirement already satisfied: numpy in /usr/local/lib/python3.8/dist-packages (from gradio) (1.21.6)\n",
            "Collecting fastapi\n",
            "  Downloading fastapi-0.88.0-py3-none-any.whl (55 kB)\n",
            "\u001b[K     |████████████████████████████████| 55 kB 4.3 MB/s \n",
            "\u001b[?25hCollecting python-multipart\n",
            "  Downloading python-multipart-0.0.5.tar.gz (32 kB)\n",
            "Collecting uvicorn\n",
            "  Downloading uvicorn-0.20.0-py3-none-any.whl (56 kB)\n",
            "\u001b[K     |████████████████████████████████| 56 kB 5.0 MB/s \n",
            "\u001b[?25hCollecting pydub\n",
            "  Downloading pydub-0.25.1-py2.py3-none-any.whl (32 kB)\n",
            "Collecting httpx\n",
            "  Downloading httpx-0.23.1-py3-none-any.whl (84 kB)\n",
            "\u001b[K     |████████████████████████████████| 84 kB 3.5 MB/s \n",
            "\u001b[?25hRequirement already satisfied: markupsafe in /usr/local/lib/python3.8/dist-packages (from gradio) (2.0.1)\n",
            "Collecting websockets>=10.0\n",
            "  Downloading websockets-10.4-cp38-cp38-manylinux_2_5_x86_64.manylinux1_x86_64.manylinux_2_17_x86_64.manylinux2014_x86_64.whl (106 kB)\n",
            "\u001b[K     |████████████████████████████████| 106 kB 64.9 MB/s \n",
            "\u001b[?25hRequirement already satisfied: altair in /usr/local/lib/python3.8/dist-packages (from gradio) (4.2.0)\n",
            "Collecting ffmpy\n",
            "  Downloading ffmpy-0.3.0.tar.gz (4.8 kB)\n",
            "Requirement already satisfied: matplotlib in /usr/local/lib/python3.8/dist-packages (from gradio) (3.2.2)\n",
            "Requirement already satisfied: pillow in /usr/local/lib/python3.8/dist-packages (from gradio) (7.1.2)\n",
            "Requirement already satisfied: pyyaml in /usr/local/lib/python3.8/dist-packages (from gradio) (6.0)\n",
            "Collecting orjson\n",
            "  Downloading orjson-3.8.3-cp38-cp38-manylinux_2_17_x86_64.manylinux2014_x86_64.whl (278 kB)\n",
            "\u001b[K     |████████████████████████████████| 278 kB 61.5 MB/s \n",
            "\u001b[?25hRequirement already satisfied: pydantic in /usr/local/lib/python3.8/dist-packages (from gradio) (1.10.2)\n",
            "Requirement already satisfied: fsspec in /usr/local/lib/python3.8/dist-packages (from gradio) (2022.11.0)\n",
            "Requirement already satisfied: pandas in /usr/local/lib/python3.8/dist-packages (from gradio) (1.3.5)\n",
            "Requirement already satisfied: requests in /usr/local/lib/python3.8/dist-packages (from gradio) (2.23.0)\n",
            "Requirement already satisfied: jinja2 in /usr/local/lib/python3.8/dist-packages (from gradio) (2.11.3)\n",
            "Requirement already satisfied: aiohttp in /usr/local/lib/python3.8/dist-packages (from gradio) (3.8.3)\n",
            "Collecting pycryptodome\n",
            "  Downloading pycryptodome-3.16.0-cp35-abi3-manylinux_2_5_x86_64.manylinux1_x86_64.manylinux_2_12_x86_64.manylinux2010_x86_64.whl (2.3 MB)\n",
            "\u001b[K     |████████████████████████████████| 2.3 MB 65.1 MB/s \n",
            "\u001b[?25hCollecting markdown-it-py[linkify,plugins]\n",
            "  Downloading markdown_it_py-2.1.0-py3-none-any.whl (84 kB)\n",
            "\u001b[K     |████████████████████████████████| 84 kB 2.2 MB/s \n",
            "\u001b[?25hRequirement already satisfied: frozenlist>=1.1.1 in /usr/local/lib/python3.8/dist-packages (from aiohttp->gradio) (1.3.3)\n",
            "Requirement already satisfied: charset-normalizer<3.0,>=2.0 in /usr/local/lib/python3.8/dist-packages (from aiohttp->gradio) (2.1.1)\n",
            "Requirement already satisfied: async-timeout<5.0,>=4.0.0a3 in /usr/local/lib/python3.8/dist-packages (from aiohttp->gradio) (4.0.2)\n",
            "Requirement already satisfied: multidict<7.0,>=4.5 in /usr/local/lib/python3.8/dist-packages (from aiohttp->gradio) (6.0.3)\n",
            "Requirement already satisfied: attrs>=17.3.0 in /usr/local/lib/python3.8/dist-packages (from aiohttp->gradio) (22.1.0)\n",
            "Requirement already satisfied: aiosignal>=1.1.2 in /usr/local/lib/python3.8/dist-packages (from aiohttp->gradio) (1.3.1)\n",
            "Requirement already satisfied: yarl<2.0,>=1.0 in /usr/local/lib/python3.8/dist-packages (from aiohttp->gradio) (1.8.2)\n",
            "Requirement already satisfied: idna>=2.0 in /usr/local/lib/python3.8/dist-packages (from yarl<2.0,>=1.0->aiohttp->gradio) (2.10)\n",
            "Requirement already satisfied: entrypoints in /usr/local/lib/python3.8/dist-packages (from altair->gradio) (0.4)\n",
            "Requirement already satisfied: jsonschema>=3.0 in /usr/local/lib/python3.8/dist-packages (from altair->gradio) (4.3.3)\n",
            "Requirement already satisfied: toolz in /usr/local/lib/python3.8/dist-packages (from altair->gradio) (0.12.0)\n",
            "Requirement already satisfied: importlib-resources>=1.4.0 in /usr/local/lib/python3.8/dist-packages (from jsonschema>=3.0->altair->gradio) (5.10.1)\n",
            "Requirement already satisfied: pyrsistent!=0.17.0,!=0.17.1,!=0.17.2,>=0.14.0 in /usr/local/lib/python3.8/dist-packages (from jsonschema>=3.0->altair->gradio) (0.19.2)\n",
            "Requirement already satisfied: zipp>=3.1.0 in /usr/local/lib/python3.8/dist-packages (from importlib-resources>=1.4.0->jsonschema>=3.0->altair->gradio) (3.11.0)\n",
            "Requirement already satisfied: pytz>=2017.3 in /usr/local/lib/python3.8/dist-packages (from pandas->gradio) (2022.6)\n",
            "Requirement already satisfied: python-dateutil>=2.7.3 in /usr/local/lib/python3.8/dist-packages (from pandas->gradio) (2.8.2)\n",
            "Requirement already satisfied: six>=1.5 in /usr/local/lib/python3.8/dist-packages (from python-dateutil>=2.7.3->pandas->gradio) (1.15.0)\n",
            "Collecting starlette==0.22.0\n",
            "  Downloading starlette-0.22.0-py3-none-any.whl (64 kB)\n",
            "\u001b[K     |████████████████████████████████| 64 kB 3.0 MB/s \n",
            "\u001b[?25hRequirement already satisfied: typing-extensions>=3.10.0 in /usr/local/lib/python3.8/dist-packages (from starlette==0.22.0->fastapi->gradio) (4.4.0)\n",
            "Collecting anyio<5,>=3.4.0\n",
            "  Downloading anyio-3.6.2-py3-none-any.whl (80 kB)\n",
            "\u001b[K     |████████████████████████████████| 80 kB 10.6 MB/s \n",
            "\u001b[?25hCollecting sniffio>=1.1\n",
            "  Downloading sniffio-1.3.0-py3-none-any.whl (10 kB)\n",
            "Requirement already satisfied: certifi in /usr/local/lib/python3.8/dist-packages (from httpx->gradio) (2022.12.7)\n",
            "Collecting httpcore<0.17.0,>=0.15.0\n",
            "  Downloading httpcore-0.16.2-py3-none-any.whl (68 kB)\n",
            "\u001b[K     |████████████████████████████████| 68 kB 7.9 MB/s \n",
            "\u001b[?25hCollecting rfc3986[idna2008]<2,>=1.3\n",
            "  Downloading rfc3986-1.5.0-py2.py3-none-any.whl (31 kB)\n",
            "Collecting h11<0.15,>=0.13\n",
            "  Downloading h11-0.14.0-py3-none-any.whl (58 kB)\n",
            "\u001b[K     |████████████████████████████████| 58 kB 6.8 MB/s \n",
            "\u001b[?25hCollecting mdurl~=0.1\n",
            "  Downloading mdurl-0.1.2-py3-none-any.whl (10.0 kB)\n",
            "Collecting mdit-py-plugins\n",
            "  Downloading mdit_py_plugins-0.3.3-py3-none-any.whl (50 kB)\n",
            "\u001b[K     |████████████████████████████████| 50 kB 7.5 MB/s \n",
            "\u001b[?25hCollecting linkify-it-py~=1.0\n",
            "  Downloading linkify_it_py-1.0.3-py3-none-any.whl (19 kB)\n",
            "Collecting uc-micro-py\n",
            "  Downloading uc_micro_py-1.0.1-py3-none-any.whl (6.2 kB)\n",
            "Requirement already satisfied: kiwisolver>=1.0.1 in /usr/local/lib/python3.8/dist-packages (from matplotlib->gradio) (1.4.4)\n",
            "Requirement already satisfied: pyparsing!=2.0.4,!=2.1.2,!=2.1.6,>=2.0.1 in /usr/local/lib/python3.8/dist-packages (from matplotlib->gradio) (3.0.9)\n",
            "Requirement already satisfied: cycler>=0.10 in /usr/local/lib/python3.8/dist-packages (from matplotlib->gradio) (0.11.0)\n",
            "Requirement already satisfied: urllib3!=1.25.0,!=1.25.1,<1.26,>=1.21.1 in /usr/local/lib/python3.8/dist-packages (from requests->gradio) (1.24.3)\n",
            "Requirement already satisfied: chardet<4,>=3.0.2 in /usr/local/lib/python3.8/dist-packages (from requests->gradio) (3.0.4)\n",
            "Requirement already satisfied: click>=7.0 in /usr/local/lib/python3.8/dist-packages (from uvicorn->gradio) (7.1.2)\n",
            "Building wheels for collected packages: ffmpy, python-multipart\n",
            "  Building wheel for ffmpy (setup.py) ... \u001b[?25l\u001b[?25hdone\n",
            "  Created wheel for ffmpy: filename=ffmpy-0.3.0-py3-none-any.whl size=4711 sha256=0992a601d3bd3547ee17ae02e2be153d7dbb1f4965096701f2e6218bfbfb5fe7\n",
            "  Stored in directory: /root/.cache/pip/wheels/ff/5b/59/913b443e7369dc04b61f607a746b6f7d83fb65e2e19fcc958d\n",
            "  Building wheel for python-multipart (setup.py) ... \u001b[?25l\u001b[?25hdone\n",
            "  Created wheel for python-multipart: filename=python_multipart-0.0.5-py3-none-any.whl size=31678 sha256=9a020f07d99e1024f2563c25260eb772bc2ddcb113c3a5bb84bbeef8cca4369e\n",
            "  Stored in directory: /root/.cache/pip/wheels/9e/fc/1c/cf980e6413d3ee8e70cd8f39e2366b0f487e3e221aeb452eb0\n",
            "Successfully built ffmpy python-multipart\n",
            "Installing collected packages: sniffio, mdurl, uc-micro-py, rfc3986, markdown-it-py, h11, anyio, starlette, mdit-py-plugins, linkify-it-py, httpcore, websockets, uvicorn, python-multipart, pydub, pycryptodome, orjson, httpx, ffmpy, fastapi, gradio\n",
            "Successfully installed anyio-3.6.2 fastapi-0.88.0 ffmpy-0.3.0 gradio-3.14.0 h11-0.14.0 httpcore-0.16.2 httpx-0.23.1 linkify-it-py-1.0.3 markdown-it-py-2.1.0 mdit-py-plugins-0.3.3 mdurl-0.1.2 orjson-3.8.3 pycryptodome-3.16.0 pydub-0.25.1 python-multipart-0.0.5 rfc3986-1.5.0 sniffio-1.3.0 starlette-0.22.0 uc-micro-py-1.0.1 uvicorn-0.20.0 websockets-10.4\n"
          ]
        }
      ]
    },
    {
      "cell_type": "code",
      "source": [
        "import gradio as gr\n",
        "import sklearn\n",
        "import pandas as pd\n",
        "import requests\n",
        "#response = requests.get(\"https://api.frankfurter.app/latest?amount={}&from={'EUR'}&to={to_currency}\")\n",
        "x1 = x['Min Weight in kg']\n",
        "x2 = x['Max Weight in kg']\n",
        "def steer_price(x1,x2):\n",
        "    x1 = x1.reshape(-1,1)\n",
        "    x2 = x2.reshape(-1,1)\n",
        "    model = pk.load(open('steer_model.pkl', 'rb'))\n",
        "    prediction = model.predict([x1, x2]).tolist()\n",
        "    prediction = round(np.exp(prediction),2)\n",
        "    info = \"The price is \" {prediction * 130.71}\n",
        "    return {prediction * 130.71}[0]\n",
        "    #130.71 standard euro to ksh conversion\n",
        "\n",
        "input1 = gr.inputs.Number(label=\"Min weight (kg)\")\n",
        "\n",
        "input2 = gr.inputs.Number(label=\"Max weight (kg)\")\n",
        "\n",
        "output = gr.outputs.Textbox(label= \"Steer price\")\n",
        "\n",
        "\n",
        "\n",
        "gui = gr.Interface(fn=steer_price, inputs=[input1, input2],\n",
        "                   outputs=[output, info]).launch(debug=True)"
      ],
      "metadata": {
        "colab": {
          "base_uri": "https://localhost:8080/",
          "height": 740
        },
        "id": "vL3x8dQ-bXo8",
        "outputId": "8deacbc3-684e-4033-9204-743ac9a10aa8"
      },
      "execution_count": null,
      "outputs": [
        {
          "metadata": {
            "tags": null
          },
          "name": "stderr",
          "output_type": "stream",
          "text": [
            "/usr/local/lib/python3.8/dist-packages/gradio/inputs.py:58: UserWarning: Usage of gradio.inputs is deprecated, and will not be supported in the future, please import your component from gradio.components\n",
            "  warnings.warn(\n",
            "/usr/local/lib/python3.8/dist-packages/gradio/deprecation.py:40: UserWarning: `optional` parameter is deprecated, and it has no effect\n",
            "  warnings.warn(value)\n",
            "/usr/local/lib/python3.8/dist-packages/gradio/outputs.py:21: UserWarning: Usage of gradio.outputs is deprecated, and will not be supported in the future, please import your components from gradio.components\n",
            "  warnings.warn(\n"
          ]
        },
        {
          "metadata": {
            "tags": null
          },
          "name": "stdout",
          "output_type": "stream",
          "text": [
            "Colab notebook detected. This cell will run indefinitely so that you can see errors and logs. To turn off, set debug=False in launch().\n",
            "Note: opening Chrome Inspector may crash demo inside Colab notebooks.\n",
            "\n",
            "To create a public link, set `share=True` in `launch()`.\n"
          ]
        },
        {
          "data": {
            "application/javascript": [
              "(async (port, path, width, height, cache, element) => {\n",
              "                        if (!google.colab.kernel.accessAllowed && !cache) {\n",
              "                            return;\n",
              "                        }\n",
              "                        element.appendChild(document.createTextNode(''));\n",
              "                        const url = await google.colab.kernel.proxyPort(port, {cache});\n",
              "\n",
              "                        const external_link = document.createElement('div');\n",
              "                        external_link.innerHTML = `\n",
              "                            <div style=\"font-family: monospace; margin-bottom: 0.5rem\">\n",
              "                                Running on <a href=${new URL(path, url).toString()} target=\"_blank\">\n",
              "                                    https://localhost:${port}${path}\n",
              "                                </a>\n",
              "                            </div>\n",
              "                        `;\n",
              "                        element.appendChild(external_link);\n",
              "\n",
              "                        const iframe = document.createElement('iframe');\n",
              "                        iframe.src = new URL(path, url).toString();\n",
              "                        iframe.height = height;\n",
              "                        iframe.allow = \"autoplay; camera; microphone; clipboard-read; clipboard-write;\"\n",
              "                        iframe.width = width;\n",
              "                        iframe.style.border = 0;\n",
              "                        element.appendChild(iframe);\n",
              "                    })(7866, \"/\", \"100%\", 500, false, window.element)"
            ],
            "text/plain": [
              "<IPython.core.display.Javascript object>"
            ]
          },
          "metadata": {},
          "output_type": "display_data"
        }
      ]
    }
  ],
  "metadata": {
    "colab": {
      "provenance": [],
      "include_colab_link": true
    },
    "kernelspec": {
      "display_name": "Python 3",
      "name": "python3"
    },
    "language_info": {
      "name": "python"
    }
  },
  "nbformat": 4,
  "nbformat_minor": 0
}